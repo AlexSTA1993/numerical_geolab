{
 "cells": [
  {
   "cell_type": "code",
   "execution_count": 1,
   "id": "indirect-party",
   "metadata": {},
   "outputs": [],
   "source": [
    "import matplotlib.pyplot as plt\n",
    "import numpy as np\n",
    "import pickle\n",
    "np.random.seed(1)"
   ]
  },
  {
   "cell_type": "code",
   "execution_count": 2,
   "id": "written-valentine",
   "metadata": {},
   "outputs": [],
   "source": [
    "file = './DEG1_PUSHOVER_Macro-3D_L5x5x30'\n",
    "with open(file, 'rb') as f_obj:\n",
    "    data = pickle.load(f_obj)\n",
    "N1=5;N2=N1;N3=30.\n",
    "N=N1*N2*N3\n",
    "V=5*5*30\n",
    "usol,stress,svars,IC = data\n",
    "energy= svars[:,:,-3]\n",
    "dissipation= svars[:,:,-2]\n",
    "usol=np.reshape(usol,(usol.shape[0],-1,3))\n",
    "U0x=usol[:,:,0]\n",
    "U0y=usol[:,:,1]\n",
    "U0z=usol[:,:,2]\n",
    "Uy=np.zeros(U0y.shape[0])\n",
    "for i in range(U0y.shape[0]):\n",
    "    Uy[i] = np.amax(U0y[i])\n",
    "    \n",
    "E0=np.sum(energy,1)\n",
    "D0=np.sum(dissipation,1)\n",
    "IC_u = IC[:,:,-24:]\n",
    "IC_f = IC[:,:,:-24]\n",
    "IC_u = IC_u.reshape(IC_u.shape[0],IC_u.shape[1],IC_u.shape[2]//3,3)\n",
    "frc_svarsGP = IC_f[:,:N1*N2*6,:]\n",
    "E05530=E0*V/(N*6)\n",
    "D05530=D0*V/(N*6)\n",
    "E0,D0\n",
    "barnv = np.array([[-1.        ,  0.        ,  0.        ],\n",
    "       [ 0.        , -1.        ,  0.        ],\n",
    "       [-0.70710678, -0.70710678,  0.        ],\n",
    "       [-1.        ,  0.        ,  0.        ],\n",
    "       [ 0.        , -1.        ,  0.        ],\n",
    "       [ 0.70710678, -0.70710678,  0.        ],\n",
    "       [-1.        ,  0.        ,  0.        ],\n",
    "       [ 0.        , -1.        ,  0.        ],\n",
    "       [-0.70710678, -0.70710678,  0.        ],\n",
    "       [ 0.        ,  0.        ,  1.        ],\n",
    "       [ 0.        , -0.70710678,  0.70710678],\n",
    "       [-0.70710678,  0.        ,  0.70710678],\n",
    "       [-1.        ,  0.        ,  0.        ],\n",
    "       [ 0.        ,  0.        ,  1.        ],\n",
    "       [ 0.        ,  0.70710678,  0.70710678],\n",
    "       [-0.70710678,  0.        ,  0.70710678],\n",
    "       [ 0.        , -1.        ,  0.        ],\n",
    "       [ 0.70710678, -0.70710678,  0.        ],\n",
    "       [ 0.        ,  0.        ,  1.        ],\n",
    "       [ 0.        , -0.70710678,  0.70710678],\n",
    "       [ 0.70710678,  0.        ,  0.70710678],\n",
    "       [ 0.        ,  0.        ,  1.        ],\n",
    "       [ 0.        ,  0.70710678,  0.70710678],\n",
    "       [ 0.70710678,  0.        ,  0.70710678]])"
   ]
  },
  {
   "cell_type": "code",
   "execution_count": 3,
   "id": "fifty-preliminary",
   "metadata": {},
   "outputs": [],
   "source": [
    "frc = np.zeros((frc_svarsGP.shape[0],N1*N2*6,24,3))\n",
    "for t in range(frc_svarsGP.shape[0]):\n",
    "    for b in range(N1*N2*6):\n",
    "        for i in range(24):\n",
    "            frc[t,b,i,:]=(frc_svarsGP[t,b,i]*(barnv[i]))\n",
    "            \n",
    "fy = np.zeros((frc_svarsGP.shape[0],N1*N2*6,24))\n",
    "for t in range(frc_svarsGP.shape[0]):\n",
    "    for b in range(N1*N2*6):\n",
    "        for i in range(24):\n",
    "            fy[t,b,i]=np.dot(frc[t,b,i],np.array([0,1,0]))\n",
    "            \n",
    "Fy = np.sum(np.sum(fy,axis=2),axis=1)\n",
    "Ry5530 = np.zeros(1+Fy.shape[0])\n",
    "Ry5530[1:]=Fy\n",
    "Sy5530 = np.zeros(1+Uy.shape[0])\n",
    "Sy5530[1:]=Uy\n",
    "# Ry"
   ]
  },
  {
   "cell_type": "code",
   "execution_count": 4,
   "id": "removed-serve",
   "metadata": {},
   "outputs": [
    {
     "data": {
      "image/png": "[encoded data removed]",
      "text/plain": [
       "<Figure size 360x216 with 1 Axes>"
      ]
     },
     "metadata": {
      "needs_background": "light"
     },
     "output_type": "display_data"
    }
   ],
   "source": [
    "%matplotlib inline\n",
    "plt.rcParams[\"figure.figsize\"] = (5,3)\n",
    "# plt.plot(u,V,'k-',linewidth=2)\n",
    "# plt.plot(Uy[0]*0,Fy[0]*0*1000,color='k', alpha = 1, marker='o', linestyle='--',linewidth=1, markersize=6)\n",
    "plt.plot(Sy5530,1000*Ry5530,color='k', alpha = 1, marker='o', linestyle='--',linewidth=1, markersize=6)\n",
    "# plt.plot(np.array(0,,Fy[0]*0*1000,color='k', alpha = 1, marker='o', linestyle='--',linewidth=1, markersize=6)\n",
    "plt.grid(color='k', linestyle='--', linewidth=0.2)\n",
    "plt.title('Force-displacement curve of MDOF system')\n",
    "plt.ylabel('$Base$ $shear, V$');plt.xlabel('$Top$ $displacement, D_t$ $(m)$'); plt.show()"
   ]
  },
  {
   "cell_type": "code",
   "execution_count": 5,
   "id": "metric-rates",
   "metadata": {},
   "outputs": [],
   "source": [
    "file = './DEG1_PUSHOVER_Macro-3D_L10x10x30'\n",
    "with open(file, 'rb') as f_obj:\n",
    "    data = pickle.load(f_obj)\n",
    "N1=10;N2=N1;N3=30.\n",
    "N=N1*N2*N3\n",
    "V=5*5*30\n",
    "usol,stress,svars,IC = data\n",
    "energy= svars[:,:,-3]\n",
    "dissipation= svars[:,:,-2]\n",
    "usol=np.reshape(usol,(usol.shape[0],-1,3))\n",
    "U0x=usol[:,:,0]\n",
    "U0y=usol[:,:,1]\n",
    "U0z=usol[:,:,2]\n",
    "Uy=np.zeros(U0y.shape[0])\n",
    "for i in range(U0y.shape[0]):\n",
    "    Uy[i] = np.amax(U0y[i])\n",
    "    \n",
    "E0=np.sum(energy,1)\n",
    "D0=np.sum(dissipation,1)\n",
    "IC_u = IC[:,:,-24:]\n",
    "IC_f = IC[:,:,:-24]\n",
    "IC_u = IC_u.reshape(IC_u.shape[0],IC_u.shape[1],IC_u.shape[2]//3,3)\n",
    "frc_svarsGP = IC_f[:,:N1*N2*6,:]\n",
    "E0101030=E0*V/(N*6)\n",
    "D0101030=D0*V/(N*6)\n",
    "E0,D0\n",
    "barnv = np.array([[-1.        ,  0.        ,  0.        ],\n",
    "       [ 0.        , -1.        ,  0.        ],\n",
    "       [-0.70710678, -0.70710678,  0.        ],\n",
    "       [-1.        ,  0.        ,  0.        ],\n",
    "       [ 0.        , -1.        ,  0.        ],\n",
    "       [ 0.70710678, -0.70710678,  0.        ],\n",
    "       [-1.        ,  0.        ,  0.        ],\n",
    "       [ 0.        , -1.        ,  0.        ],\n",
    "       [-0.70710678, -0.70710678,  0.        ],\n",
    "       [ 0.        ,  0.        ,  1.        ],\n",
    "       [ 0.        , -0.70710678,  0.70710678],\n",
    "       [-0.70710678,  0.        ,  0.70710678],\n",
    "       [-1.        ,  0.        ,  0.        ],\n",
    "       [ 0.        ,  0.        ,  1.        ],\n",
    "       [ 0.        ,  0.70710678,  0.70710678],\n",
    "       [-0.70710678,  0.        ,  0.70710678],\n",
    "       [ 0.        , -1.        ,  0.        ],\n",
    "       [ 0.70710678, -0.70710678,  0.        ],\n",
    "       [ 0.        ,  0.        ,  1.        ],\n",
    "       [ 0.        , -0.70710678,  0.70710678],\n",
    "       [ 0.70710678,  0.        ,  0.70710678],\n",
    "       [ 0.        ,  0.        ,  1.        ],\n",
    "       [ 0.        ,  0.70710678,  0.70710678],\n",
    "       [ 0.70710678,  0.        ,  0.70710678]])"
   ]
  },
  {
   "cell_type": "code",
   "execution_count": 6,
   "id": "comparable-cliff",
   "metadata": {},
   "outputs": [],
   "source": [
    "frc = np.zeros((frc_svarsGP.shape[0],N1*N2*6,24,3))\n",
    "for t in range(frc_svarsGP.shape[0]):\n",
    "    for b in range(N1*N2*6):\n",
    "        for i in range(24):\n",
    "            frc[t,b,i,:]=(frc_svarsGP[t,b,i]*(barnv[i]))\n",
    "            \n",
    "fy = np.zeros((frc_svarsGP.shape[0],N1*N2*6,24))\n",
    "for t in range(frc_svarsGP.shape[0]):\n",
    "    for b in range(N1*N2*6):\n",
    "        for i in range(24):\n",
    "            fy[t,b,i]=np.dot(frc[t,b,i],np.array([0,1,0]))\n",
    "            \n",
    "Fy = np.sum(np.sum(fy,axis=2),axis=1)\n",
    "Ry101030 = np.zeros(1+Fy.shape[0])\n",
    "Ry101030[1:]=Fy\n",
    "Sy101030 = np.zeros(1+Uy.shape[0])\n",
    "Sy101030[1:]=Uy\n",
    "# Ry"
   ]
  },
  {
   "cell_type": "code",
   "execution_count": 7,
   "id": "dental-chuck",
   "metadata": {},
   "outputs": [],
   "source": [
    "file = './DEG1_PUSHOVER_Macro-3D_L15x15x30'\n",
    "with open(file, 'rb') as f_obj:\n",
    "    data = pickle.load(f_obj)\n",
    "N1=15;N2=N1;N3=30.\n",
    "N=N1*N2*N3\n",
    "V=5*5*30\n",
    "usol,stress,svars,IC = data\n",
    "energy= svars[:,:,-3]\n",
    "dissipation= svars[:,:,-2]\n",
    "usol=np.reshape(usol,(usol.shape[0],-1,3))\n",
    "U0x=usol[:,:,0]\n",
    "U0y=usol[:,:,1]\n",
    "U0z=usol[:,:,2]\n",
    "Uy=np.zeros(U0y.shape[0])\n",
    "for i in range(U0y.shape[0]):\n",
    "    Uy[i] = np.amax(U0y[i])\n",
    "    \n",
    "E0=np.sum(energy,1)\n",
    "D0=np.sum(dissipation,1)\n",
    "IC_u = IC[:,:,-24:]\n",
    "IC_f = IC[:,:,:-24]\n",
    "IC_u = IC_u.reshape(IC_u.shape[0],IC_u.shape[1],IC_u.shape[2]//3,3)\n",
    "frc_svarsGP = IC_f[:,:N1*N2*6,:]\n",
    "E0151530=E0*V/(N*6)\n",
    "D0151530=D0*V/(N*6)\n",
    "E0,D0\n",
    "barnv = np.array([[-1.        ,  0.        ,  0.        ],\n",
    "       [ 0.        , -1.        ,  0.        ],\n",
    "       [-0.70710678, -0.70710678,  0.        ],\n",
    "       [-1.        ,  0.        ,  0.        ],\n",
    "       [ 0.        , -1.        ,  0.        ],\n",
    "       [ 0.70710678, -0.70710678,  0.        ],\n",
    "       [-1.        ,  0.        ,  0.        ],\n",
    "       [ 0.        , -1.        ,  0.        ],\n",
    "       [-0.70710678, -0.70710678,  0.        ],\n",
    "       [ 0.        ,  0.        ,  1.        ],\n",
    "       [ 0.        , -0.70710678,  0.70710678],\n",
    "       [-0.70710678,  0.        ,  0.70710678],\n",
    "       [-1.        ,  0.        ,  0.        ],\n",
    "       [ 0.        ,  0.        ,  1.        ],\n",
    "       [ 0.        ,  0.70710678,  0.70710678],\n",
    "       [-0.70710678,  0.        ,  0.70710678],\n",
    "       [ 0.        , -1.        ,  0.        ],\n",
    "       [ 0.70710678, -0.70710678,  0.        ],\n",
    "       [ 0.        ,  0.        ,  1.        ],\n",
    "       [ 0.        , -0.70710678,  0.70710678],\n",
    "       [ 0.70710678,  0.        ,  0.70710678],\n",
    "       [ 0.        ,  0.        ,  1.        ],\n",
    "       [ 0.        ,  0.70710678,  0.70710678],\n",
    "       [ 0.70710678,  0.        ,  0.70710678]])"
   ]
  },
  {
   "cell_type": "code",
   "execution_count": 8,
   "id": "preceding-assets",
   "metadata": {},
   "outputs": [],
   "source": [
    "frc = np.zeros((frc_svarsGP.shape[0],N1*N2*6,24,3))\n",
    "for t in range(frc_svarsGP.shape[0]):\n",
    "    for b in range(N1*N2*6):\n",
    "        for i in range(24):\n",
    "            frc[t,b,i,:]=(frc_svarsGP[t,b,i]*(barnv[i]))\n",
    "            \n",
    "fy = np.zeros((frc_svarsGP.shape[0],N1*N2*6,24))\n",
    "for t in range(frc_svarsGP.shape[0]):\n",
    "    for b in range(N1*N2*6):\n",
    "        for i in range(24):\n",
    "            fy[t,b,i]=np.dot(frc[t,b,i],np.array([0,1,0]))\n",
    "            \n",
    "Fy = np.sum(np.sum(fy,axis=2),axis=1)\n",
    "Ry151530 = np.zeros(1+Fy.shape[0])\n",
    "Ry151530[1:]=Fy -1\n",
    "Sy151530 = np.zeros(1+Uy.shape[0])\n",
    "Sy151530[1:]=Uy\n",
    "# Ry"
   ]
  },
  {
   "cell_type": "code",
   "execution_count": 9,
   "id": "packed-pointer",
   "metadata": {},
   "outputs": [],
   "source": [
    "file = './DEG1_PUSHOVER_Macro-3D_L20x20x30'\n",
    "with open(file, 'rb') as f_obj:\n",
    "    data = pickle.load(f_obj)\n",
    "N1=20;N2=N1;N3=30.\n",
    "N=N1*N2*N3\n",
    "V=5*5*30\n",
    "usol,stress,svars,IC = data\n",
    "energy= svars[:,:,-3]\n",
    "dissipation= svars[:,:,-2]\n",
    "usol=np.reshape(usol,(usol.shape[0],-1,3))\n",
    "U0x=usol[:,:,0]\n",
    "U0y=usol[:,:,1]\n",
    "U0z=usol[:,:,2]\n",
    "Uy=np.zeros(U0y.shape[0])\n",
    "for i in range(U0y.shape[0]):\n",
    "    Uy[i] = np.amax(U0y[i])\n",
    "    \n",
    "E0=np.sum(energy,1)\n",
    "D0=np.sum(dissipation,1)\n",
    "IC_u = IC[:,:,-24:]\n",
    "IC_f = IC[:,:,:-24]\n",
    "IC_u = IC_u.reshape(IC_u.shape[0],IC_u.shape[1],IC_u.shape[2]//3,3)\n",
    "frc_svarsGP = IC_f[:,:N1*N2*6,:]\n",
    "E0202030=E0*V/(N*6)\n",
    "D0202030=D0*V/(N*6)\n",
    "E0,D0\n",
    "barnv = np.array([[-1.        ,  0.        ,  0.        ],\n",
    "       [ 0.        , -1.        ,  0.        ],\n",
    "       [-0.70710678, -0.70710678,  0.        ],\n",
    "       [-1.        ,  0.        ,  0.        ],\n",
    "       [ 0.        , -1.        ,  0.        ],\n",
    "       [ 0.70710678, -0.70710678,  0.        ],\n",
    "       [-1.        ,  0.        ,  0.        ],\n",
    "       [ 0.        , -1.        ,  0.        ],\n",
    "       [-0.70710678, -0.70710678,  0.        ],\n",
    "       [ 0.        ,  0.        ,  1.        ],\n",
    "       [ 0.        , -0.70710678,  0.70710678],\n",
    "       [-0.70710678,  0.        ,  0.70710678],\n",
    "       [-1.        ,  0.        ,  0.        ],\n",
    "       [ 0.        ,  0.        ,  1.        ],\n",
    "       [ 0.        ,  0.70710678,  0.70710678],\n",
    "       [-0.70710678,  0.        ,  0.70710678],\n",
    "       [ 0.        , -1.        ,  0.        ],\n",
    "       [ 0.70710678, -0.70710678,  0.        ],\n",
    "       [ 0.        ,  0.        ,  1.        ],\n",
    "       [ 0.        , -0.70710678,  0.70710678],\n",
    "       [ 0.70710678,  0.        ,  0.70710678],\n",
    "       [ 0.        ,  0.        ,  1.        ],\n",
    "       [ 0.        ,  0.70710678,  0.70710678],\n",
    "       [ 0.70710678,  0.        ,  0.70710678]])"
   ]
  },
  {
   "cell_type": "code",
   "execution_count": 10,
   "id": "proprietary-waterproof",
   "metadata": {},
   "outputs": [],
   "source": [
    "frc = np.zeros((frc_svarsGP.shape[0],N1*N2*6,24,3))\n",
    "for t in range(frc_svarsGP.shape[0]):\n",
    "    for b in range(N1*N2*6):\n",
    "        for i in range(24):\n",
    "            frc[t,b,i,:]=(frc_svarsGP[t,b,i]*(barnv[i]))\n",
    "            \n",
    "fy = np.zeros((frc_svarsGP.shape[0],N1*N2*6,24))\n",
    "for t in range(frc_svarsGP.shape[0]):\n",
    "    for b in range(N1*N2*6):\n",
    "        for i in range(24):\n",
    "            fy[t,b,i]=np.dot(frc[t,b,i],np.array([0,1,0]))\n",
    "            \n",
    "Fy = np.sum(np.sum(fy,axis=2),axis=1)\n",
    "Ry202030 = np.zeros(1+Fy.shape[0])\n",
    "Ry202030[1:]=Fy\n",
    "Sy202030 = np.zeros(1+Uy.shape[0])\n",
    "Sy202030[1:]=Uy\n",
    "# Ry"
   ]
  },
  {
   "cell_type": "code",
   "execution_count": 11,
   "id": "christian-allowance",
   "metadata": {},
   "outputs": [
    {
     "data": {
      "image/png": "[encoded data removed]",
      "text/plain": [
       "<Figure size 360x360 with 1 Axes>"
      ]
     },
     "metadata": {
      "needs_background": "light"
     },
     "output_type": "display_data"
    }
   ],
   "source": [
    "%matplotlib inline\n",
    "plt.rcParams[\"figure.figsize\"] = (5,5)\n",
    "plt.plot(Sy202030,Ry202030,color='darkorange', alpha = 1, marker='o', linestyle='--',linewidth=1, markersize=6)\n",
    "plt.plot(Sy151530,Ry151530,color='red', alpha = 1, marker='o', linestyle='--',linewidth=1, markersize=6)\n",
    "plt.plot(Sy101030,Ry101030,color='blue', alpha = 1, marker='o', linestyle='--',linewidth=1, markersize=6)\n",
    "plt.plot(Sy5530,Ry5530,color='k', alpha = 1, marker='o', linestyle='--',linewidth=1, markersize=6)\n",
    "\n",
    "# plt.plot(np.array(0,,Fy[0]*0*1000,color='k', alpha = 1, marker='o', linestyle='--',linewidth=1, markersize=6)\n",
    "plt.grid(color='k', linestyle='--', linewidth=0.2)\n",
    "plt.title('Force-displacement curve of MDOF system')\n",
    "plt.ylabel('$Base$ $shear, V$');plt.xlabel('$Top$ $displacement, D_t$ $(m)$'); plt.show()"
   ]
  },
  {
   "cell_type": "code",
   "execution_count": 13,
   "id": "freelance-calculator",
   "metadata": {},
   "outputs": [
    {
     "data": {
      "image/png": "[encoded data removed]",
      "text/plain": [
       "<Figure size 360x216 with 1 Axes>"
      ]
     },
     "metadata": {
      "needs_background": "light"
     },
     "output_type": "display_data"
    }
   ],
   "source": [
    "%matplotlib inline\n",
    "plt.rcParams[\"figure.figsize\"] = (5,3)\n",
    "plt.plot(Sy151530,1000*Ry151530/(15*15*30*6),color='red', alpha = 1, marker='o', linestyle='--',linewidth=1, markersize=6)\n",
    "plt.plot(Sy101030,1000*Ry101030/(10*10*30*6),color='blue', alpha = 1, marker='o', linestyle='--',linewidth=1, markersize=6)\n",
    "plt.plot(Sy5530,1000*Ry5530/(5*5*30*6),color='k', alpha = 1, marker='o', linestyle='--',linewidth=1, markersize=6)\n",
    "plt.plot(Sy202030,1000*Ry202030/(20*20*30*6),color='darkorange', alpha = 1, marker='o', linestyle='--',linewidth=1, markersize=6)\n",
    "# plt.plot(Sy232330,1000*Ry232330/(23*23*30*6),color='gray', alpha = 1, marker='o', linestyle='--',linewidth=1, markersize=6)\n",
    "\n",
    "# plt.plot(np.array(0,,Fy[0]*0*1000,color='k', alpha = 1, marker='o', linestyle='--',linewidth=1, markersize=6)\n",
    "plt.grid(color='k', linestyle='--', linewidth=0.2)\n",
    "plt.title('Force-displacement curve of MDOF system')\n",
    "plt.ylabel('$Base$ $shear, V$');plt.xlabel('$Top$ $displacement, D_t$ $(m)$'); plt.show()"
   ]
  },
  {
   "cell_type": "code",
   "execution_count": 14,
   "id": "arbitrary-dispute",
   "metadata": {},
   "outputs": [],
   "source": [
    "mean = np.zeros(8)\n",
    "mean[0] = Ry5530[-1]/(5*5*30*6)\n",
    "# mean[1] = Ry8830[-1]/(8*8*30*6)\n",
    "mean[2] = Ry101030[-1]/(10*10*30*6)\n",
    "# mean[3] = Ry131330[-1]/(13*13*30*6)\n",
    "mean[4] = Ry151530[-1]/(15*15*30*6)\n",
    "# mean[5] = Ry181830[-1]/(18*18*30*6)\n",
    "mean[6] = Ry202030[-1]/(20*20*30*6)\n",
    "# mean[7] = Ry232330[-1]/(23*23*30*6)\n",
    "\n",
    "mean = 1000*mean"
   ]
  },
  {
   "cell_type": "code",
   "execution_count": 15,
   "id": "atlantic-listing",
   "metadata": {},
   "outputs": [
    {
     "data": {
      "text/plain": [
       "array([18.85091017,  0.        , 18.57256389,  0.        , 18.54949976,\n",
       "        0.        , 18.52281736,  0.        ])"
      ]
     },
     "execution_count": 15,
     "metadata": {},
     "output_type": "execute_result"
    }
   ],
   "source": [
    "mean"
   ]
  },
  {
   "cell_type": "code",
   "execution_count": 16,
   "id": "prospective-living",
   "metadata": {},
   "outputs": [],
   "source": [
    "err = np.zeros((3,4))\n",
    "n=8\n",
    "err[0,0]=100*np.abs(D05530[-n]-D0202030[-n])/D0202030[-n]\n",
    "err[0,1]=100*np.abs(D0101030[-n]-D0202030[-n])/D0202030[-n]\n",
    "err[0,2]=100*np.abs(D0151530[-n]-D0202030[-n])/D0202030[-n]\n",
    "err[0,3]=100*np.abs(D0202030[-n]-D0202030[-n])/D0202030[-n]\n",
    "\n",
    "err[1,0]=100*np.abs(E05530[-n]-E0202030[-n])/E0202030[-n]\n",
    "err[1,1]=100*np.abs(E0101030[-n]-E0202030[-n])/E0202030[-n]\n",
    "err[1,2]=100*np.abs(E0151530[-n]-E0202030[-n])/E0202030[-n]\n",
    "err[1,3]=100*np.abs(E0202030[-n]-E0202030[-n])/E0202030[-n]\n",
    "\n",
    "err[2,0]=100*np.abs(mean[0]-mean[6])/mean[6]\n",
    "err[2,1]=100*np.abs(mean[2]-mean[6])/mean[6]\n",
    "err[2,2]=100*np.abs(mean[4]-mean[6])/mean[6]\n",
    "err[2,3]=100*np.abs(mean[6]-mean[6])/mean[6]\n",
    "\n",
    "size = np.array([5/5,5/10,5/15,5/20])\n",
    "FE = np.array([5**2,10**2,15**2,20**2])*30*6"
   ]
  },
  {
   "cell_type": "code",
   "execution_count": 35,
   "id": "balanced-afternoon",
   "metadata": {},
   "outputs": [
    {
     "data": {
      "image/png": "[encoded data removed]",
      "text/plain": [
       "<Figure size 288x151.2 with 1 Axes>"
      ]
     },
     "metadata": {
      "needs_background": "light"
     },
     "output_type": "display_data"
    }
   ],
   "source": [
    "cE = 8.96; cD = 9.0; A = np.pi*(1e-2)**2; cP=1000\n",
    "plt.rc('text', usetex=True)\n",
    "plt.rc('font', family='serif')\n",
    "fig = plt.figure(figsize=(4,2.1))\n",
    "(ax11) = fig.subplots(1,1)\n",
    "plt.tight_layout(pad=2.5, w_pad=3.5, h_pad=3.5)\n",
    "ax11.margins(x=0.1, y = 0.2)\n",
    "\n",
    "# relative percentage error in total energy at top displacement = 40 cm\n",
    "ax11.plot(size,err[1],color='black', alpha = 1, marker='o', linestyle='--',linewidth=1, markersize=6,label='$err(\\Psi)$')\n",
    "# relative percentage error in base shear at top displacement = 40 cm\n",
    "ax11.plot(size,err[2],color='darkblue', alpha = 1, marker='o', linestyle='--',linewidth=1, markersize=6,label='$err(V)$')\n",
    "# relative percentage error in base shear at top displacement = 40 cm\n",
    "ax11.plot(size,err[0],color='red', alpha = 1, marker='o', linestyle='--',linewidth=1, markersize=6,label='$err(D)$')\n",
    "\n",
    "ax11.set_xlabel('FE size (cm)')\n",
    "ax11.set_ylabel('$err$ (\\%)')\n",
    "ax11.set_xlim([1.1,0.2])\n",
    "ax11.legend(loc='best',fontsize=11)\n",
    "ax11.grid(True, which='major', linewidth=0.3, color='lightgray')\n",
    "ax11.grid(True, which='minor', linewidth=0.3, alpha=0.2, color='lightgray')\n",
    "# ax11.set_ylim([0.605,0.617])\n",
    "fig.savefig(f\"conv_sizeFE.pdf\", format=\"pdf\", transparent=True)\n"
   ]
  },
  {
   "cell_type": "code",
   "execution_count": 31,
   "id": "sealed-architect",
   "metadata": {},
   "outputs": [
    {
     "data": {
      "text/plain": [
       "array([[26.89341981,  7.70505949,  2.36507046,  0.        ],\n",
       "       [ 0.33858211,  0.25725397,  0.08006807,  0.        ],\n",
       "       [ 1.77128996,  0.26856892,  0.14405154,  0.        ]])"
      ]
     },
     "execution_count": 31,
     "metadata": {},
     "output_type": "execute_result"
    }
   ],
   "source": [
    "err"
   ]
  },
  {
   "cell_type": "code",
   "execution_count": 41,
   "id": "identical-diabetes",
   "metadata": {},
   "outputs": [
    {
     "name": "stderr",
     "output_type": "stream",
     "text": [
      "<ipython-input-41-3f4193755713>:10: UserWarning: Attempted to set non-positive left xlim on a log-scaled axis.\n",
      "Invalid limit will be ignored.\n",
      "  ax11.loglog(FE,err[1],color='black', alpha = 1, marker='o', linestyle='--',linewidth=1, markersize=6,label='$err(\\Psi)$')\n",
      "<ipython-input-41-3f4193755713>:10: UserWarning: Attempted to set non-positive bottom ylim on a log-scaled axis.\n",
      "Invalid limit will be ignored.\n",
      "  ax11.loglog(FE,err[1],color='black', alpha = 1, marker='o', linestyle='--',linewidth=1, markersize=6,label='$err(\\Psi)$')\n",
      "<ipython-input-41-3f4193755713>:18: UserWarning: Attempted to set non-positive left xlim on a log-scaled axis.\n",
      "Invalid limit will be ignored.\n",
      "  ax11.set_xlim([0,1e+5])\n"
     ]
    },
    {
     "data": {
      "image/png": "[encoded data removed]",
      "text/plain": [
       "<Figure size 288x151.2 with 1 Axes>"
      ]
     },
     "metadata": {
      "needs_background": "light"
     },
     "output_type": "display_data"
    }
   ],
   "source": [
    "cE = 8.96; cD = 9.0; A = np.pi*(1e-2)**2; cP=1000\n",
    "plt.rc('text', usetex=True)\n",
    "plt.rc('font', family='serif')\n",
    "fig = plt.figure(figsize=(4,2.1))\n",
    "(ax11) = fig.subplots(1,1)\n",
    "plt.tight_layout(pad=2.5, w_pad=3.5, h_pad=3.5)\n",
    "ax11.margins(x=0.1, y = 0.2)\n",
    "\n",
    "# relative percentage error in total energy at top displacement = 40 cm\n",
    "ax11.loglog(FE,err[1],color='black', alpha = 1, marker='o', linestyle='--',linewidth=1, markersize=6,label='$err(\\Psi)$')\n",
    "# relative percentage error in base shear at top displacement = 40 cm\n",
    "ax11.loglog(FE,err[2],color='darkblue', alpha = 1, marker='o', linestyle='--',linewidth=1, markersize=6,label='$err(V)$')\n",
    "# relative percentage error in base shear at top displacement = 40 cm\n",
    "ax11.loglog(FE,err[0],color='red', alpha = 1, marker='o', linestyle='--',linewidth=1, markersize=6,label='$err(D)$')\n",
    "\n",
    "ax11.set_xlabel('Number of FE (-)')\n",
    "ax11.set_ylabel('$err$ (\\%)')\n",
    "ax11.set_xlim([0,1e+5])\n",
    "ax11.legend(loc='best',fontsize=11)\n",
    "ax11.grid(True, which='major', linewidth=0.3, color='lightgray')\n",
    "ax11.grid(True, which='minor', linewidth=0.3, alpha=0.2, color='lightgray')\n",
    "# ax11.set_ylim([0.605,0.617])\n",
    "fig.savefig(f\"conv_FE.pdf\", format=\"pdf\", transparent=True)"
   ]
  },
  {
   "cell_type": "code",
   "execution_count": 48,
   "id": "intermediate-desktop",
   "metadata": {},
   "outputs": [
    {
     "data": {
      "text/plain": [
       "array([[26.89341981,  7.70505949,  2.36507046,  0.        ],\n",
       "       [ 0.33858211,  0.25725397,  0.08006807,  0.        ],\n",
       "       [ 1.77128996,  0.26856892,  0.14405154,  0.        ]])"
      ]
     },
     "execution_count": 48,
     "metadata": {},
     "output_type": "execute_result"
    }
   ],
   "source": [
    "err"
   ]
  }
 ],
 "metadata": {
  "kernelspec": {
   "display_name": "Python 3",
   "language": "python",
   "name": "python3"
  },
  "language_info": {
   "codemirror_mode": {
    "name": "ipython",
    "version": 3
   },
   "file_extension": ".py",
   "mimetype": "text/x-python",
   "name": "python",
   "nbconvert_exporter": "python",
   "pygments_lexer": "ipython3",
   "version": "3.8.10"
  }
 },
 "nbformat": 4,
 "nbformat_minor": 5
}

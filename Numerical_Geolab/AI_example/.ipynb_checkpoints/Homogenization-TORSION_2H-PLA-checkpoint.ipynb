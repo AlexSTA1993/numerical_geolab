{
 "cells": [
  {
   "cell_type": "code",
   "execution_count": 1,
   "id": "indirect-party",
   "metadata": {},
   "outputs": [],
   "source": [
    "import matplotlib.pyplot as plt\n",
    "import numpy as np\n",
    "import pickle\n",
    "np.random.seed(1)"
   ]
  },
  {
   "cell_type": "code",
   "execution_count": 2,
   "id": "improved-indication",
   "metadata": {},
   "outputs": [],
   "source": [
    "U_m = np.zeros(7)\n",
    "E_m = np.zeros(7)\n",
    "D_m = np.zeros(7)"
   ]
  },
  {
   "cell_type": "code",
   "execution_count": 3,
   "id": "preliminary-account",
   "metadata": {},
   "outputs": [],
   "source": [
    "file = './Micro-3D_L2x2x3_TORSION_2H_PLA'\n",
    "with open(file, 'rb') as f_obj:\n",
    "    data = pickle.load(f_obj)\n",
    "svarsGP,add_svarsGP,nparticles,nbars,nsvars,niter,nel = data\n",
    "E_m[0]=svarsGP[-3]\n",
    "D_m[0]=svarsGP[-2]\n",
    "U_m[0]=np.amax(add_svarsGP[:,2])\n",
    "# U_m[0,1]=np.amax(add_svarsGP[:,1])"
   ]
  },
  {
   "cell_type": "code",
   "execution_count": 4,
   "id": "dirty-interpretation",
   "metadata": {},
   "outputs": [],
   "source": [
    "file = './Micro-3D_L3x3x5_TORSION_2H_PLA'\n",
    "with open(file, 'rb') as f_obj:\n",
    "    data = pickle.load(f_obj)\n",
    "svarsGP,add_svarsGP,nparticles,nbars,nsvars,niter,nel = data\n",
    "E_m[1]=svarsGP[-3]\n",
    "D_m[1]=svarsGP[-2]\n",
    "U_m[1]=np.amax(add_svarsGP[:,2])"
   ]
  },
  {
   "cell_type": "code",
   "execution_count": 5,
   "id": "defensive-function",
   "metadata": {},
   "outputs": [],
   "source": [
    "file = './Micro-3D_L5x5x9_TORSION_2H_PLA'\n",
    "with open(file, 'rb') as f_obj:\n",
    "    data = pickle.load(f_obj)\n",
    "svarsGP,add_svarsGP,nparticles,nbars,nsvars,niter,nel = data\n",
    "E_m[2]=svarsGP[-3]\n",
    "D_m[2]=svarsGP[-2]\n",
    "U_m[2]=np.amax(add_svarsGP[:,2])"
   ]
  },
  {
   "cell_type": "code",
   "execution_count": 6,
   "id": "nervous-sponsorship",
   "metadata": {},
   "outputs": [],
   "source": [
    "file = './Micro-3D_L9x9x17_TORSION_2H_PLA'\n",
    "with open(file, 'rb') as f_obj:\n",
    "    data = pickle.load(f_obj)\n",
    "svarsGP,add_svarsGP,nparticles,nbars,nsvars,niter,nel = data\n",
    "E_m[3]=svarsGP[-3]\n",
    "D_m[3]=svarsGP[-2]\n",
    "U_m[3]=np.amax(add_svarsGP[:,2])"
   ]
  },
  {
   "cell_type": "code",
   "execution_count": 7,
   "id": "elect-housing",
   "metadata": {},
   "outputs": [
    {
     "data": {
      "text/plain": [
       "array([ 0.97192204,  0.7002817 ,  0.41316688, -5.43556398,  0.        ,\n",
       "        0.        ])"
      ]
     },
     "execution_count": 7,
     "metadata": {},
     "output_type": "execute_result"
    }
   ],
   "source": [
    "U_m\n",
    "DU_m = np.array([U_m[i+1]-U_m[i] for i in range(U_m.shape[0]-1)])\n",
    "DU_m"
   ]
  },
  {
   "cell_type": "code",
   "execution_count": 8,
   "id": "partial-brush",
   "metadata": {},
   "outputs": [],
   "source": [
    "file = './Micro-3D_L13x13x25_TORSION_2H_PLA'\n",
    "with open(file, 'rb') as f_obj:\n",
    "    data = pickle.load(f_obj)\n",
    "svarsGP,add_svarsGP,nparticles,nbars,nsvars,niter,nel = data\n",
    "E_m[4]=svarsGP[-3]\n",
    "D_m[4]=svarsGP[-2]\n",
    "U_m[4]=np.amax(add_svarsGP[:,2])"
   ]
  },
  {
   "cell_type": "code",
   "execution_count": 9,
   "id": "friendly-walker",
   "metadata": {},
   "outputs": [],
   "source": [
    "file = './Micro-3D_L17x17x33_TORSION_2H_PLA'\n",
    "with open(file, 'rb') as f_obj:\n",
    "    data = pickle.load(f_obj)\n",
    "svarsGP,add_svarsGP,nparticles,nbars,nsvars,niter,nel = data\n",
    "E_m[5]=svarsGP[-3]\n",
    "D_m[5]=svarsGP[-2]\n",
    "U_m[5]=np.amax(add_svarsGP[:,2])"
   ]
  },
  {
   "cell_type": "code",
   "execution_count": 10,
   "id": "jewish-martin",
   "metadata": {},
   "outputs": [],
   "source": [
    "# file = './Micro-3D_L21x21x21_TORSION'\n",
    "# with open(file, 'rb') as f_obj:\n",
    "#     data = pickle.load(f_obj)\n",
    "# svarsGP,add_svarsGP,nparticles,nbars,nsvars,niter,nel = data\n",
    "# E_m[6]=svarsGP[-3]\n",
    "# D_m[6]=svarsGP[-2]\n",
    "# U_m[6]=np.amax(add_svarsGP[:,2])"
   ]
  },
  {
   "cell_type": "code",
   "execution_count": 11,
   "id": "blind-throw",
   "metadata": {},
   "outputs": [
    {
     "data": {
      "text/plain": [
       "(array([4.1138522 , 2.4610032 , 2.00539299, 1.86824396, 1.83586266,\n",
       "        1.8237631 , 0.        ]),\n",
       " array([3.35019336, 4.32211541, 5.0223971 , 5.43556398, 5.57214595,\n",
       "        5.63783001, 0.        ]),\n",
       " array([3.69751556, 1.98546021, 1.07224517, 0.73989439, 0.65494404,\n",
       "        0.62131953, 0.        ]))"
      ]
     },
     "execution_count": 11,
     "metadata": {},
     "output_type": "execute_result"
    }
   ],
   "source": [
    "e = np.array([1/1,1/2,1/4,1/8,1/12,1/16,1/20])\n",
    "E_m,U_m,D_m"
   ]
  },
  {
   "cell_type": "code",
   "execution_count": 12,
   "id": "amazing-composition",
   "metadata": {},
   "outputs": [],
   "source": [
    "import matplotlib.pyplot as plt\n",
    "from matplotlib.ticker import (MultipleLocator, FormatStrFormatter, AutoMinorLocator)\n",
    "import matplotlib as mpl\n",
    "mpl.rcParams['axes.unicode_minus']=False\n",
    "plt.rcParams[\"figure.figsize\"] = (4,3)\n",
    "import matplotlib.pyplot as plt\n",
    "# # plt.rcParams[\"font.family\"] = \"Times New Roman\"\n",
    "font = {'size'   : 13}\n",
    "from matplotlib import rc\n",
    "plt.rc('font', **font)\n",
    "ftsz_leg = 9\n",
    "ftsz = 12\n",
    "mkSZ = 4\n",
    "mkSZs = 0\n",
    "lnWDT = 1.25\n",
    "lnWDTs = 6\n",
    "from matplotlib import rc\n",
    "rc('font',**{'family':'sans-serif','sans-serif':['Times New Roman']})\n",
    "## for Palatino and other serif fonts use:\n",
    "#rc('font',**{'family':'serif','serif':['Palatino']})\n",
    "rc('text', usetex=True)\n",
    "\n",
    "import numpy as np\n",
    "import matplotlib.pyplot as plt"
   ]
  },
  {
   "cell_type": "code",
   "execution_count": 13,
   "id": "spanish-contrary",
   "metadata": {},
   "outputs": [
    {
     "data": {
      "image/png": "[encoded data removed]",
      "text/plain": [
       "<Figure size 504x198 with 2 Axes>"
      ]
     },
     "metadata": {
      "needs_background": "light"
     },
     "output_type": "display_data"
    }
   ],
   "source": [
    "plt.rc('text', usetex=True)\n",
    "plt.rc('font', family='serif')\n",
    "fig = plt.figure(figsize=(3.5*2,2.75*1))\n",
    "(ax11), (ax12) = fig.subplots(1,2)\n",
    "# (ax11) = fig.subplots(1,1)\n",
    "plt.tight_layout(pad=2.5, w_pad=3.5, h_pad=3.5)\n",
    "ax11.margins(x=0.1, y = 0.1)\n",
    "ax11.xaxis.set_minor_locator(AutoMinorLocator())\n",
    "ax11.yaxis.set_minor_locator(AutoMinorLocator())\n",
    "\n",
    "ax11.plot(1/e[:-2],E_m[:-2], color='black', marker=\"o\",markersize=mkSZ,linewidth=lnWDT)\n",
    "ax11.set_xlabel('$1/\\epsilon$')\n",
    "ax11.set_ylabel('$\\mathit{\\Psi}$ (Nm)')\n",
    "# ax11.ticklabel_format(axis=\"x\", style=\"sci\", scilimits=(3,3))\n",
    "# ax11.ticklabel_format(axis=\"y\", style=\"sci\", scilimits=(0,0))\n",
    "# ax11.legend(loc='best',fontsize=ftsz_leg)\n",
    "ax11.grid(True, which='major', linewidth=0.3, color='lightgray')\n",
    "ax11.grid(True, which='minor', linewidth=0.3, alpha=0.2, color='lightgray')\n",
    "\n",
    "\n",
    "ax12.margins(x=0.1, y = 0.1)\n",
    "ax12.xaxis.set_minor_locator(AutoMinorLocator())\n",
    "ax12.yaxis.set_minor_locator(AutoMinorLocator())\n",
    "# ax12.plot(1/e,U_m[:,0], color='black', alpha=0.3, marker=\"o\",markersize=mkSZ,linewidth=lnWDT,label=\"$u^{\\epsilon}_x$\")\n",
    "ax12.plot(1/e[:-2],U_m[:-2], color='black', marker=\"o\",markersize=mkSZ,linewidth=lnWDT,label=\"$u^{\\epsilon}_z$\")\n",
    "# # ax12.plot(1/e,Ue, color='red', alpha=1,marker=\"o\",markersize=mkSZ,linewidth=lnWDT,label=\"$u^{\\epsilon}$\")\n",
    "\n",
    "ax12.set_xlabel('$1/\\epsilon$')\n",
    "ax12.set_ylabel('$u$ (m)')\n",
    "# ax12.ticklabel_format(axis=\"x\", style=\"sci\", scilimits=(3,3))\n",
    "# ax12.ticklabel_format(axis=\"y\", style=\"sci\", scilimits=(0,0))\n",
    "ax12.legend(loc='best',fontsize=ftsz_leg)\n",
    "ax12.grid(True, which='major', linewidth=0.3, color='lightgray')\n",
    "ax12.grid(True, which='minor', linewidth=0.3, alpha=0.2, color='lightgray')\n",
    "\n",
    "\n",
    "# fig.savefig(f\"convergence.pdf\", format=\"pdf\", transparent=True)"
   ]
  },
  {
   "cell_type": "code",
   "execution_count": null,
   "id": "biblical-there",
   "metadata": {},
   "outputs": [],
   "source": [
    "plt.rc('text', usetex=True)\n",
    "plt.rc('font', family='serif')\n",
    "fig = plt.figure(figsize=(3.5*1.5,2.75*1.5))\n",
    "(ax11), (ax12) = fig.subplots(1,2)\n",
    "# (ax11) = fig.subplots(1,1)\n",
    "plt.tight_layout(pad=2.5, w_pad=3.5, h_pad=3.5)\n",
    "ax11.margins(x=0.1, y = 0.1)\n",
    "ax11.xaxis.set_minor_locator(AutoMinorLocator())\n",
    "ax11.yaxis.set_minor_locator(AutoMinorLocator())\n",
    "\n",
    "ax11.plot(1/e,DU, color='black', marker=\"o\",markersize=mkSZ,linewidth=lnWDT)\n",
    "# ax11.plot(1/e,U0, color='black', alpha=0.2,marker=\"o\",markersize=mkSZ,linewidth=lnWDT,label=\"$u^{(0)}$\")\n",
    "# ax11.plot(1/e,Ue, color='black', alpha=0.6,marker=\"o\",markersize=mkSZ,linewidth=lnWDT,label=\"$u^{\\epsilon}$\")\n",
    "\n",
    "ax11.set_xlabel('$1/\\epsilon$')\n",
    "ax11.set_ylabel('$(u^{\\epsilon}-u^{(0)}-\\epsilon u^{(1)})$ (-)')\n",
    "ax11.ticklabel_format(axis=\"x\", style=\"sci\", scilimits=(3,3))\n",
    "# ax11.ticklabel_format(axis=\"y\", style=\"sci\", scilimits=(0,0))\n",
    "# ax11.legend(loc='best',fontsize=ftsz_leg)\n",
    "ax11.grid(True, which='major', linewidth=0.3, color='lightgray')\n",
    "ax11.grid(True, which='minor', linewidth=0.3, alpha=0.2, color='lightgray')\n",
    "\n",
    "\n",
    "ax12.margins(x=0.1, y = 0.1)\n",
    "ax12.xaxis.set_minor_locator(AutoMinorLocator())\n",
    "ax12.yaxis.set_minor_locator(AutoMinorLocator())\n",
    "ax12.plot(1/e,DU/Ue, color='black', marker=\"o\",markersize=mkSZ,linewidth=lnWDT)\n",
    "# ax11.plot(1/e,U0, color='black', alpha=0.2,marker=\"o\",markersize=mkSZ,linewidth=lnWDT,label=\"$u^{(0)}$\")\n",
    "# ax11.plot(1/e,Ue, color='black', alpha=0.6,marker=\"o\",markersize=mkSZ,linewidth=lnWDT,label=\"$u^{\\epsilon}$\")\n",
    "\n",
    "ax12.set_xlabel('$1/\\epsilon$')\n",
    "ax12.set_ylabel('$(u^{\\epsilon}-u^{(0)}-\\epsilon u^{(1)})/u^{\\epsilon}$ (-)')\n",
    "ax12.ticklabel_format(axis=\"x\", style=\"sci\", scilimits=(3,3))\n",
    "# ax11.ticklabel_format(axis=\"y\", style=\"sci\", scilimits=(0,0))\n",
    "# ax11.legend(loc='best',fontsize=ftsz_leg)\n",
    "ax12.grid(True, which='major', linewidth=0.3, color='lightgray')\n",
    "ax12.grid(True, which='minor', linewidth=0.3, alpha=0.2, color='lightgray')\n",
    "\n",
    "# fig.savefig(f\"convergence.pdf\", format=\"pdf\", transparent=True)"
   ]
  },
  {
   "cell_type": "code",
   "execution_count": null,
   "id": "understanding-terrorism",
   "metadata": {},
   "outputs": [],
   "source": [
    "DU/Ue"
   ]
  },
  {
   "cell_type": "code",
   "execution_count": null,
   "id": "assured-disposal",
   "metadata": {},
   "outputs": [],
   "source": [
    "M_IC_f=IC_f[IC_u.shape[0]-15*14*6];\n",
    "m_IC_f335=IC_f335[-28:]\n",
    "m_IC_f6611=IC_f6611[-28:]\n",
    "m_IC_f111121=IC_f111121[-28:]\n",
    "m_IC_f161631=IC_f161631[-28:]\n",
    "m_IC_f212141=IC_f212141[-28:]"
   ]
  },
  {
   "cell_type": "code",
   "execution_count": null,
   "id": "respected-theater",
   "metadata": {},
   "outputs": [],
   "source": [
    "print(M_IC_f[8],m_IC_f161631[8])\n",
    "print(M_IC_f[13],m_IC_f161631[13])\n",
    "print(M_IC_f[18],m_IC_f161631[18])\n",
    "print(M_IC_f[-4],m_IC_f161631[-4])\n",
    "print(M_IC_f[-3],m_IC_f161631[-3])\n",
    "print(M_IC_f[-2],m_IC_f161631[-2])\n",
    "print(M_IC_f[-1],m_IC_f161631[-1])"
   ]
  },
  {
   "cell_type": "code",
   "execution_count": null,
   "id": "micro-constraint",
   "metadata": {},
   "outputs": [],
   "source": [
    "print(M_IC_f[8],m_IC_f111121[8])\n",
    "print(M_IC_f[13],m_IC_f111121[13])\n",
    "print(M_IC_f[18],m_IC_f111121[18])\n",
    "print(M_IC_f[-4],m_IC_f111121[-4])\n",
    "print(M_IC_f[-3],m_IC_f111121[-3])\n",
    "print(M_IC_f[-2],m_IC_f111121[-2])\n",
    "print(M_IC_f[-1],m_IC_f111121[-1])"
   ]
  },
  {
   "cell_type": "code",
   "execution_count": null,
   "id": "comparable-carnival",
   "metadata": {},
   "outputs": [],
   "source": [
    "print(M_IC_f[8],m_IC_f212141[8])\n",
    "print(M_IC_f[13],m_IC_f212141[13])\n",
    "print(M_IC_f[18],m_IC_f212141[18])\n",
    "print(M_IC_f[-4],m_IC_f212141[-4])\n",
    "print(M_IC_f[-3],m_IC_f212141[-3])\n",
    "print(M_IC_f[-2],m_IC_f212141[-2])\n",
    "print(M_IC_f[-1],m_IC_f212141[-1])"
   ]
  },
  {
   "cell_type": "code",
   "execution_count": null,
   "id": "typical-cathedral",
   "metadata": {},
   "outputs": [],
   "source": [
    "plt.rc('text', usetex=True)\n",
    "plt.rc('font', family='serif')\n",
    "fig = plt.figure(figsize=(3.5*1.5,2.75*1.5))\n",
    "# (ax11), (ax12) = fig.subplots(1,2)\n",
    "(ax11) = fig.subplots(1,1)\n",
    "plt.tight_layout(pad=2.5, w_pad=3.5, h_pad=3.5)\n",
    "ax11.margins(x=0.1, y = 0.1)\n",
    "ax11.xaxis.set_minor_locator(AutoMinorLocator())\n",
    "ax11.yaxis.set_minor_locator(AutoMinorLocator())\n",
    "n=-2\n",
    "ax11.plot(M_IC_f[n], color='black', marker=\"o\",markersize=mkSZ,linewidth=lnWDT)\n",
    "ax11.plot(m_IC_f212141[n], color='red', alpha=1,marker=\"o\",markersize=mkSZ,linewidth=lnWDT,label=\"$u^{(0)}$\")\n",
    "ax11.plot(m_IC_f161631[n], color='red', alpha=0.6,marker=\"o\",markersize=mkSZ,linewidth=lnWDT,label=\"$u^{(0)}$\")\n",
    "ax11.plot(m_IC_f111121[n], color='red', alpha=0.4,marker=\"o\",markersize=mkSZ,linewidth=lnWDT,label=\"$u^{(0)}$\")\n",
    "ax11.plot(m_IC_f6611[n], color='red', alpha=0.3,marker=\"o\",markersize=mkSZ,linewidth=lnWDT,label=\"$u^{(0)}$\")\n",
    "ax11.plot(m_IC_f335[n], color='red', alpha=0.15,marker=\"o\",markersize=mkSZ,linewidth=lnWDT,label=\"$u^{(0)}$\")\n",
    "\n",
    "# ax11.plot(IC_f6611[-28:], color='black', alpha=0.2,marker=\"o\",markersize=mkSZ,linewidth=lnWDT,label=\"$u^{(0)}$\")\n",
    "\n",
    "# ax11.plot(1/e,Ue, color='black', alpha=0.6,marker=\"o\",markersize=mkSZ,linewidth=lnWDT,label=\"$u^{\\epsilon}$\")\n",
    "\n",
    "ax11.set_xlabel('$1/\\epsilon$')\n",
    "ax11.set_ylabel('$(u^{\\epsilon}-u^{(0)}-\\epsilon u^{(1)})$ (-)')\n",
    "ax11.ticklabel_format(axis=\"x\", style=\"sci\", scilimits=(3,3))\n",
    "# ax11.ticklabel_format(axis=\"y\", style=\"sci\", scilimits=(0,0))\n",
    "# ax11.legend(loc='best',fontsize=ftsz_leg)\n",
    "ax11.grid(True, which='major', linewidth=0.3, color='lightgray')\n",
    "ax11.grid(True, which='minor', linewidth=0.3, alpha=0.2, color='lightgray')\n",
    "\n",
    "\n",
    "# ax12.margins(x=0.1, y = 0.1)\n",
    "# ax12.xaxis.set_minor_locator(AutoMinorLocator())\n",
    "# ax12.yaxis.set_minor_locator(AutoMinorLocator())\n",
    "# ax12.plot(1/e,DU/Ue, color='black', marker=\"o\",markersize=mkSZ,linewidth=lnWDT)\n",
    "# # ax11.plot(1/e,U0, color='black', alpha=0.2,marker=\"o\",markersize=mkSZ,linewidth=lnWDT,label=\"$u^{(0)}$\")\n",
    "# # ax11.plot(1/e,Ue, color='black', alpha=0.6,marker=\"o\",markersize=mkSZ,linewidth=lnWDT,label=\"$u^{\\epsilon}$\")\n",
    "\n",
    "# ax12.set_xlabel('$1/\\epsilon$')\n",
    "# ax12.set_ylabel('$(u^{\\epsilon}-u^{(0)}-\\epsilon u^{(1)})/u^{\\epsilon}$ (-)')\n",
    "# ax12.ticklabel_format(axis=\"x\", style=\"sci\", scilimits=(3,3))\n",
    "# # ax11.ticklabel_format(axis=\"y\", style=\"sci\", scilimits=(0,0))\n",
    "# # ax11.legend(loc='best',fontsize=ftsz_leg)\n",
    "# ax12.grid(True, which='major', linewidth=0.3, color='lightgray')\n",
    "# ax12.grid(True, which='minor', linewidth=0.3, alpha=0.2, color='lightgray')\n",
    "\n",
    "# fig.savefig(f\"convergence.pdf\", format=\"pdf\", transparent=True)"
   ]
  },
  {
   "cell_type": "code",
   "execution_count": null,
   "id": "suspended-congress",
   "metadata": {},
   "outputs": [],
   "source": []
  },
  {
   "cell_type": "code",
   "execution_count": null,
   "id": "physical-committee",
   "metadata": {},
   "outputs": [],
   "source": [
    "plt.rcParams[\"figure.figsize\"] = (5,5)\n",
    "fig = plt.figure(figsize=(4.5,4))\n",
    "plt.tight_layout(pad=2.8, w_pad=3.5, h_pad=3.5)\n",
    "plt.loglog(N,U/np.amax(U),color='black', alpha=1, marker='o', linestyle='-',linewidth=1.5, markersize=8)\n",
    "# plt.loglog(N,U/np.amax(U),color='black', alpha=1, marker='o', linestyle='-',linewidth=1.5, markersize=8)\n",
    "\n",
    "plt.ylabel('$u$ (m)',fontsize=12)\n",
    "plt.xlabel('$N_e$ (-)',fontsize=12)\n",
    "plt.show()\n"
   ]
  },
  {
   "cell_type": "code",
   "execution_count": null,
   "id": "specified-interpretation",
   "metadata": {},
   "outputs": [],
   "source": []
  },
  {
   "cell_type": "code",
   "execution_count": null,
   "id": "helpful-modern",
   "metadata": {},
   "outputs": [],
   "source": [
    "100*DU"
   ]
  },
  {
   "cell_type": "code",
   "execution_count": null,
   "id": "available-marketing",
   "metadata": {},
   "outputs": [],
   "source": []
  }
 ],
 "metadata": {
  "kernelspec": {
   "display_name": "Python 3",
   "language": "python",
   "name": "python3"
  },
  "language_info": {
   "codemirror_mode": {
    "name": "ipython",
    "version": 3
   },
   "file_extension": ".py",
   "mimetype": "text/x-python",
   "name": "python",
   "nbconvert_exporter": "python",
   "pygments_lexer": "ipython3",
   "version": "3.8.5"
  }
 },
 "nbformat": 4,
 "nbformat_minor": 5
}

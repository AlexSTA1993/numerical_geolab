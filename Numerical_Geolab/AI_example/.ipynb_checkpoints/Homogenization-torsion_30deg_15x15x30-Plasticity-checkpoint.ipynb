{
 "cells": [
  {
   "cell_type": "code",
   "execution_count": 51,
   "id": "indirect-party",
   "metadata": {},
   "outputs": [],
   "source": [
    "import matplotlib.pyplot as plt\n",
    "import numpy as np\n",
    "import pickle\n",
    "np.random.seed(1)"
   ]
  },
  {
   "cell_type": "code",
   "execution_count": 52,
   "id": "digital-permit",
   "metadata": {},
   "outputs": [
    {
     "data": {
      "text/plain": [
       "(7.937733773492296, 3.448700539788783, 1.4371864530166314, 1, 28, 28)"
      ]
     },
     "execution_count": 52,
     "metadata": {},
     "output_type": "execute_result"
    }
   ],
   "source": [
    "file = './Micro-3D_L2x2x2_60'\n",
    "with open(file, 'rb') as f_obj:\n",
    "    data = pickle.load(f_obj)\n",
    "svarsGP,add_svarsGP,nparticles,nbars,nsvars,niter,nel = data\n",
    "svarsGP[-3],svarsGP[-2],np.amax(add_svarsGP[:,2]),niter,nel,niter*nel"
   ]
  },
  {
   "cell_type": "code",
   "execution_count": 53,
   "id": "sunset-mechanics",
   "metadata": {},
   "outputs": [
    {
     "data": {
      "text/plain": [
       "(6.50620554883903, 3.448700539788783, 1.1509393479455279, 1, 50, 50)"
      ]
     },
     "execution_count": 53,
     "metadata": {},
     "output_type": "execute_result"
    }
   ],
   "source": [
    "file = './Micro-3D_L2x2x3_60'\n",
    "with open(file, 'rb') as f_obj:\n",
    "    data = pickle.load(f_obj)\n",
    "svarsGP,add_svarsGP,nparticles,nbars,nsvars,niter,nel = data\n",
    "svarsGP[-3],svarsGP[-2],np.amax(add_svarsGP[:,2]),niter,nel,niter*nel"
   ]
  },
  {
   "cell_type": "code",
   "execution_count": 54,
   "id": "north-brighton",
   "metadata": {},
   "outputs": [
    {
     "data": {
      "text/plain": [
       "(12.984754547733178, 5.887300077755139, 1.5027396718770372, 1, 296, 296)"
      ]
     },
     "execution_count": 54,
     "metadata": {},
     "output_type": "execute_result"
    }
   ],
   "source": [
    "file = './Micro-3D_L3x3x5_60'\n",
    "with open(file, 'rb') as f_obj:\n",
    "    data = pickle.load(f_obj)\n",
    "svarsGP,add_svarsGP,nparticles,nbars,nsvars,niter,nel = data\n",
    "svarsGP[-3],svarsGP[-2],np.amax(add_svarsGP[:,2]),niter,nel,niter*nel"
   ]
  },
  {
   "cell_type": "code",
   "execution_count": 55,
   "id": "ceramic-greensboro",
   "metadata": {},
   "outputs": [],
   "source": [
    "ICm = np.zeros((10,28))"
   ]
  },
  {
   "cell_type": "code",
   "execution_count": 56,
   "id": "printable-watershed",
   "metadata": {},
   "outputs": [],
   "source": [
    "IC = svarsGP[12:12+nbars]\n",
    "ICm[0]=IC[-28:]\n",
    "# IC_f335"
   ]
  },
  {
   "cell_type": "code",
   "execution_count": 57,
   "id": "defensive-function",
   "metadata": {},
   "outputs": [
    {
     "data": {
      "text/plain": [
       "(1.8054355688703643, 0.5310347738744341, 2.1490899890455966, 3, 3770, 11310)"
      ]
     },
     "execution_count": 57,
     "metadata": {},
     "output_type": "execute_result"
    }
   ],
   "source": [
    "file = './Micro-3D_L6x6x11_60'\n",
    "with open(file, 'rb') as f_obj:\n",
    "    data = pickle.load(f_obj)\n",
    "svarsGP,add_svarsGP,nparticles,nbars,nsvars,niter,nel = data\n",
    "svarsGP[-3],svarsGP[-2],np.amax(add_svarsGP[:,2]),niter,nel,niter*nel"
   ]
  },
  {
   "cell_type": "code",
   "execution_count": 58,
   "id": "individual-chick",
   "metadata": {},
   "outputs": [],
   "source": [
    "IC = svarsGP[12:12+nbars]\n",
    "ICm[1]=IC[-28:]"
   ]
  },
  {
   "cell_type": "code",
   "execution_count": 59,
   "id": "prospective-documentation",
   "metadata": {},
   "outputs": [
    {
     "data": {
      "text/plain": [
       "(60.194676390726, 15.893979629145438, 2.2939629719992185, 20, 6360, 127200)"
      ]
     },
     "execution_count": 59,
     "metadata": {},
     "output_type": "execute_result"
    }
   ],
   "source": [
    "file = './Micro-3D_L7x7x13_60'\n",
    "with open(file, 'rb') as f_obj:\n",
    "    data = pickle.load(f_obj)\n",
    "svarsGP,add_svarsGP,nparticles,nbars,nsvars,niter,nel = data\n",
    "svarsGP[-3],svarsGP[-2],np.amax(add_svarsGP[:,2]),niter,nel,niter*nel"
   ]
  },
  {
   "cell_type": "code",
   "execution_count": 60,
   "id": "insured-franchise",
   "metadata": {},
   "outputs": [],
   "source": [
    "IC = svarsGP[12:12+nbars]\n",
    "ICm[2]=IC[-28:]"
   ]
  },
  {
   "cell_type": "code",
   "execution_count": 61,
   "id": "allied-chemical",
   "metadata": {},
   "outputs": [
    {
     "data": {
      "text/plain": [
       "(97.00178827489101, 21.311899068289424, 2.509310088577286, 42, 14624, 614208)"
      ]
     },
     "execution_count": 61,
     "metadata": {},
     "output_type": "execute_result"
    }
   ],
   "source": [
    "file = './Micro-3D_L9x9x17_60'\n",
    "with open(file, 'rb') as f_obj:\n",
    "    data = pickle.load(f_obj)\n",
    "svarsGP,add_svarsGP,nparticles,nbars,nsvars,niter,nel = data\n",
    "svarsGP[-3],svarsGP[-2],np.amax(add_svarsGP[:,2]),niter,nel,niter*nel"
   ]
  },
  {
   "cell_type": "code",
   "execution_count": 62,
   "id": "marked-carnival",
   "metadata": {},
   "outputs": [],
   "source": [
    "IC = svarsGP[12:12+nbars]\n",
    "ICm[3]=IC[-28:]"
   ]
  },
  {
   "cell_type": "code",
   "execution_count": 63,
   "id": "opponent-imperial",
   "metadata": {},
   "outputs": [
    {
     "data": {
      "text/plain": [
       "(1.4257609258277066, 0.2716349889432236, 2.645757347256244, 26, 28040, 729040)"
      ]
     },
     "execution_count": 63,
     "metadata": {},
     "output_type": "execute_result"
    }
   ],
   "source": [
    "file = './Micro-3D_L11x11x21_60'\n",
    "with open(file, 'rb') as f_obj:\n",
    "    data = pickle.load(f_obj)\n",
    "svarsGP,add_svarsGP,nparticles,nbars,nsvars,niter,nel = data\n",
    "svarsGP[-3],svarsGP[-2],np.amax(add_svarsGP[:,2]),niter,nel,niter*nel"
   ]
  },
  {
   "cell_type": "code",
   "execution_count": 65,
   "id": "systematic-japan",
   "metadata": {},
   "outputs": [],
   "source": [
    "# file = './Micro-3D_L3x3x5_60sp'\n",
    "# with open(file, 'rb') as f_obj:\n",
    "#     data = pickle.load(f_obj)\n",
    "# svarsGP,add_svarsGP,nparticles,nbars,nsvars,niter,nel = data\n",
    "# svarsGP[-3],svarsGP[-2],np.amax(add_svarsGP[:,2]),niter,nel,niter*nel"
   ]
  },
  {
   "cell_type": "code",
   "execution_count": 66,
   "id": "endangered-difficulty",
   "metadata": {},
   "outputs": [],
   "source": [
    "IC = svarsGP[12:12+nbars]\n",
    "ICm[4]=IC[-28:]"
   ]
  },
  {
   "cell_type": "code",
   "execution_count": 67,
   "id": "considered-writer",
   "metadata": {},
   "outputs": [
    {
     "data": {
      "text/plain": [
       "(195.8297395060355, 34.50861708514361, 2.754215623065332, 43, 47856, 2057808)"
      ]
     },
     "execution_count": 67,
     "metadata": {},
     "output_type": "execute_result"
    }
   ],
   "source": [
    "file = './Micro-3D_L13x13x25_60'\n",
    "with open(file, 'rb') as f_obj:\n",
    "    data = pickle.load(f_obj)\n",
    "svarsGP,add_svarsGP,nparticles,nbars,nsvars,niter,nel = data\n",
    "svarsGP[-3],svarsGP[-2],np.amax(add_svarsGP[:,2]),niter,nel,niter*nel"
   ]
  },
  {
   "cell_type": "code",
   "execution_count": 68,
   "id": "equipped-estimate",
   "metadata": {},
   "outputs": [],
   "source": [
    "IC = svarsGP[12:12+nbars]\n",
    "ICm[5]=IC[-28:]"
   ]
  },
  {
   "cell_type": "code",
   "execution_count": 69,
   "id": "filled-purpose",
   "metadata": {},
   "outputs": [],
   "source": [
    "# ICm"
   ]
  },
  {
   "cell_type": "code",
   "execution_count": null,
   "id": "sporting-injury",
   "metadata": {},
   "outputs": [],
   "source": []
  },
  {
   "cell_type": "code",
   "execution_count": null,
   "id": "careful-southwest",
   "metadata": {},
   "outputs": [],
   "source": []
  },
  {
   "cell_type": "code",
   "execution_count": 70,
   "id": "vocational-latin",
   "metadata": {},
   "outputs": [
    {
     "data": {
      "text/plain": [
       "(291.22792503090136,\n",
       " 47.136373326939925,\n",
       " 2.8679471169372297,\n",
       " 50,\n",
       " 92310,\n",
       " 4615500)"
      ]
     },
     "execution_count": 70,
     "metadata": {},
     "output_type": "execute_result"
    }
   ],
   "source": [
    "file = './Micro-3D_L16x16x31_60'\n",
    "with open(file, 'rb') as f_obj:\n",
    "    data = pickle.load(f_obj)\n",
    "svarsGP,add_svarsGP,nparticles,nbars,nsvars,niter,nel = data\n",
    "svarsGP[-3],svarsGP[-2],np.amax(add_svarsGP[:,2]),niter,nel,niter*nel"
   ]
  },
  {
   "cell_type": "code",
   "execution_count": 71,
   "id": "diagnostic-jordan",
   "metadata": {},
   "outputs": [
    {
     "data": {
      "text/plain": [
       "582455.8500618028"
      ]
     },
     "execution_count": 71,
     "metadata": {},
     "output_type": "execute_result"
    }
   ],
   "source": [
    "svarsGP[-3]*(10*10*20)#/(15*15*30)"
   ]
  },
  {
   "cell_type": "code",
   "execution_count": 72,
   "id": "retained-insider",
   "metadata": {},
   "outputs": [
    {
     "data": {
      "text/plain": [
       "582455.8500618028"
      ]
     },
     "execution_count": 72,
     "metadata": {},
     "output_type": "execute_result"
    }
   ],
   "source": [
    "svarsGP[-3]*(10*10*20)"
   ]
  },
  {
   "cell_type": "code",
   "execution_count": 109,
   "id": "published-injury",
   "metadata": {},
   "outputs": [
    {
     "data": {
      "text/plain": [
       "(64.23427768785797, 0.0, 0.7550905407098523)"
      ]
     },
     "execution_count": 109,
     "metadata": {},
     "output_type": "execute_result"
    }
   ],
   "source": [
    "file = './Micro-3D_L18x18x35'\n",
    "with open(file, 'rb') as f_obj:\n",
    "    data = pickle.load(f_obj)\n",
    "svarsGP,add_svarsGP,nparticles,nbars,nsvars = data\n",
    "svarsGP[-3],svarsGP[-2],np.amax(add_svarsGP[:,2])"
   ]
  },
  {
   "cell_type": "code",
   "execution_count": 110,
   "id": "inside-topic",
   "metadata": {},
   "outputs": [
    {
     "data": {
      "text/plain": [
       "128468.55537571594"
      ]
     },
     "execution_count": 110,
     "metadata": {},
     "output_type": "execute_result"
    }
   ],
   "source": [
    "svarsGP[-3]*(10*10*20)#/(17*17*34)"
   ]
  },
  {
   "cell_type": "code",
   "execution_count": 111,
   "id": "coastal-recording",
   "metadata": {},
   "outputs": [
    {
     "data": {
      "text/plain": [
       "(86.63034930945287, 0.0, 0.7726337351092422)"
      ]
     },
     "execution_count": 111,
     "metadata": {},
     "output_type": "execute_result"
    }
   ],
   "source": [
    "file = './Micro-3D_L21x21x41sp'\n",
    "with open(file, 'rb') as f_obj:\n",
    "    data = pickle.load(f_obj)\n",
    "svarsGP,add_svarsGP,nparticles,nbars,nsvars = data\n",
    "svarsGP[-3],svarsGP[-2],np.amax(add_svarsGP[:,2])"
   ]
  },
  {
   "cell_type": "code",
   "execution_count": 114,
   "id": "ignored-soccer",
   "metadata": {},
   "outputs": [
    {
     "data": {
      "text/plain": [
       "10.828793663681608"
      ]
     },
     "execution_count": 114,
     "metadata": {},
     "output_type": "execute_result"
    }
   ],
   "source": [
    "svarsGP[-3]*(10*10*20)/(20*20*40)"
   ]
  },
  {
   "cell_type": "code",
   "execution_count": 89,
   "id": "painted-blogger",
   "metadata": {},
   "outputs": [
    {
     "data": {
      "text/plain": [
       "(103.42079044441388, 0.0, 0.7822187175307169)"
      ]
     },
     "execution_count": 89,
     "metadata": {},
     "output_type": "execute_result"
    }
   ],
   "source": [
    "file = './Micro-3D_L23x23x45'\n",
    "with open(file, 'rb') as f_obj:\n",
    "    data = pickle.load(f_obj)\n",
    "svarsGP,add_svarsGP,nparticles,nbars,nsvars = data\n",
    "svarsGP[-3],svarsGP[-2],np.amax(add_svarsGP[:,2])"
   ]
  },
  {
   "cell_type": "code",
   "execution_count": 90,
   "id": "civilian-peace",
   "metadata": {},
   "outputs": [
    {
     "data": {
      "text/plain": [
       "9.712696322728577"
      ]
     },
     "execution_count": 90,
     "metadata": {},
     "output_type": "execute_result"
    }
   ],
   "source": [
    "svarsGP[-3]*(10*10*20)/(22*22*44)"
   ]
  },
  {
   "cell_type": "code",
   "execution_count": 139,
   "id": "dental-blanket",
   "metadata": {},
   "outputs": [
    {
     "data": {
      "text/plain": [
       "(131.3966093403556, 0.0, 0.7942863131179823)"
      ]
     },
     "execution_count": 139,
     "metadata": {},
     "output_type": "execute_result"
    }
   ],
   "source": [
    "file = './Micro-3D_L26x26x51'\n",
    "with open(file, 'rb') as f_obj:\n",
    "    data = pickle.load(f_obj)\n",
    "svarsGP,add_svarsGP,nparticles,nbars,nsvars = data\n",
    "svarsGP[-3],svarsGP[-2],np.amax(add_svarsGP[:,2])"
   ]
  },
  {
   "cell_type": "code",
   "execution_count": 140,
   "id": "placed-sample",
   "metadata": {},
   "outputs": [],
   "source": [
    "microstr = svarsGP[12:12+nbars]\n",
    "microstra = svarsGP[12+nbars:12+2*nbars]\n",
    "micro_l_t=svarsGP[12+3*nbars:12+4*nbars]\n",
    "F = np.zeros(microstr.shape[0])\n",
    "for i in range(microstr.shape[0]):\n",
    "    F[i] =0.5*micro_l_t[i]*microstr[i]*microstra[i]"
   ]
  },
  {
   "cell_type": "code",
   "execution_count": 143,
   "id": "international-minister",
   "metadata": {},
   "outputs": [
    {
     "data": {
      "text/plain": [
       "131.3966093403556"
      ]
     },
     "execution_count": 143,
     "metadata": {},
     "output_type": "execute_result"
    }
   ],
   "source": [
    "np.sum(F)#*(10*10*20)/(25*25*50)"
   ]
  },
  {
   "cell_type": "code",
   "execution_count": 144,
   "id": "compound-exchange",
   "metadata": {},
   "outputs": [
    {
     "data": {
      "text/plain": [
       "131.3966093403556"
      ]
     },
     "execution_count": 144,
     "metadata": {},
     "output_type": "execute_result"
    }
   ],
   "source": [
    "svarsGP[-3]#*(10*10*20)/(25*25*50)"
   ]
  },
  {
   "cell_type": "code",
   "execution_count": 16,
   "id": "periodic-application",
   "metadata": {},
   "outputs": [],
   "source": [
    "\n",
    "mf_t=svarsGP[12:12+nbars]"
   ]
  },
  {
   "cell_type": "code",
   "execution_count": 17,
   "id": "adverse-genome",
   "metadata": {},
   "outputs": [
    {
     "data": {
      "text/plain": [
       "array([-0.1339746 , -0.1339746 ,  0.10919584,  0.01504145, -0.0039448 ,\n",
       "       -0.05375707, -0.0764202 , -0.06046442, -0.1339746 , -0.1339746 ,\n",
       "        0.10537863,  0.03090749, -0.01705106, -0.05497424, -0.08466591,\n",
       "       -0.04749641, -0.1339746 , -0.1339746 ,  0.10200145,  0.04488143,\n",
       "       -0.0284603 , -0.05644031, -0.09203288, -0.03562553,  0.1159826 ,\n",
       "       -0.02777867, -0.05976228, -0.09367243])"
      ]
     },
     "execution_count": 17,
     "metadata": {},
     "output_type": "execute_result"
    }
   ],
   "source": [
    "(mf_t[-28:])"
   ]
  },
  {
   "cell_type": "code",
   "execution_count": 18,
   "id": "burning-prayer",
   "metadata": {},
   "outputs": [
    {
     "data": {
      "text/plain": [
       "(150.68765810663507, 0.0, 0.7918731279228853)"
      ]
     },
     "execution_count": 18,
     "metadata": {},
     "output_type": "execute_result"
    }
   ],
   "source": [
    "file = './Micro-3D_L28x28x54'\n",
    "with open(file, 'rb') as f_obj:\n",
    "    data = pickle.load(f_obj)\n",
    "svarsGP,add_svarsGP,nparticles,nbars,nsvars = data\n",
    "svarsGP[-3],svarsGP[-2],np.amax(add_svarsGP[:,2])"
   ]
  },
  {
   "cell_type": "code",
   "execution_count": 33,
   "id": "valid-hayes",
   "metadata": {},
   "outputs": [
    {
     "name": "stdout",
     "output_type": "stream",
     "text": [
      "2.9656950512444302 2.9656950512444302\n"
     ]
    },
    {
     "data": {
      "text/plain": [
       "(0.011887657466036724, 3258.036594809737, 202500)"
      ]
     },
     "execution_count": 33,
     "metadata": {},
     "output_type": "execute_result"
    }
   ],
   "source": [
    "# file = './Macro-3D_L15x15x30_60'\n",
    "# with open(file, 'rb') as f_obj:\n",
    "#     data = pickle.load(f_obj)\n",
    "# usol,stress,svars,ISV,IC = data\n",
    "# energy= svars[:,-3]\n",
    "# dissipation= svars[:,6+6+22+1:6+6+22+2]\n",
    "# usol=np.reshape(usol,(-1,3))\n",
    "# print(np.amax(usol[:,2]),usol[-1,2])\n",
    "# coorM=np.array([[0., 0., 0.],\n",
    "#        [0., 1., 0.],\n",
    "#        [1., 0., 0.],\n",
    "#        [1., 1., 0.],\n",
    "#        [0., 0., 1.],\n",
    "#        [0., 1., 1.],\n",
    "#        [1., 0., 1.],\n",
    "#        [1., 1., 1.]])\n",
    "# U15x15x30=np.amax(usol[:,2])\n",
    "# E15x15x30=np.sum(energy)\n",
    "# D15x15x30=np.sum(dissipation)\n",
    "# N=15*15*30\n",
    "# V=20#10*10*20\n",
    "# # print(np.mean(IC[-6:],axis=0)[-8:]) #(take -2): -0.93940901\n",
    "# IC_u = IC[:,-24:]\n",
    "# IC_f = IC[:,:-24]\n",
    "# IC_u = IC_u.reshape(IC_u.shape[0],IC_u.shape[1]//3,3)\n",
    "# # IC[-6:,-4:] #(take -2): -0.90854154\n",
    "# np.mean(1+IC_u[-6:,7,2]), E15x15x30, 40500*5"
   ]
  },
  {
   "cell_type": "code",
   "execution_count": 48,
   "id": "standard-legend",
   "metadata": {},
   "outputs": [
    {
     "name": "stdout",
     "output_type": "stream",
     "text": [
      "2.966563245626459 0.0\n"
     ]
    },
    {
     "data": {
      "text/plain": [
       "(0.011883061697920694, 0.9654896113258615)"
      ]
     },
     "execution_count": 48,
     "metadata": {},
     "output_type": "execute_result"
    }
   ],
   "source": [
    "file = './Macro-3D_L15x15x15_60'\n",
    "with open(file, 'rb') as f_obj:\n",
    "    data = pickle.load(f_obj)\n",
    "usol,stress,svars,ISV,IC = data\n",
    "energy= svars[:,-3]\n",
    "dissipation= svars[:,6+6+22+1:6+6+22+2]\n",
    "usol=np.reshape(usol,(-1,3))\n",
    "print(np.amax(usol[:,2]),usol[-1,2])\n",
    "coorM=np.array([[0., 0., 0.],\n",
    "       [0., 1., 0.],\n",
    "       [1., 0., 0.],\n",
    "       [1., 1., 0.],\n",
    "       [0., 0., 1.],\n",
    "       [0., 1., 1.],\n",
    "       [1., 0., 1.],\n",
    "       [1., 1., 1.]])\n",
    "U15x15x30=np.amax(usol[:,2])\n",
    "E15x15x30=np.sum(energy)\n",
    "D15x15x30=np.sum(dissipation)\n",
    "N=15*15*15\n",
    "V=10#10*10*20\n",
    "# print(np.mean(IC[-6:],axis=0)[-8:]) #(take -2): -0.93940901\n",
    "IC_u = IC[:,-24:]\n",
    "IC_f = IC[:,:-24]\n",
    "IC_u = IC_u.reshape(IC_u.shape[0],IC_u.shape[1]//3,3)\n",
    "# IC[-6:,-4:] #(take -2): -0.90854154\n",
    "np.mean(1+IC_u[-6:,7,2]), E15x15x30/(N)"
   ]
  },
  {
   "cell_type": "code",
   "execution_count": 50,
   "id": "rapid-sheet",
   "metadata": {},
   "outputs": [
    {
     "data": {
      "text/plain": [
       "9.654896113258616"
      ]
     },
     "execution_count": 50,
     "metadata": {},
     "output_type": "execute_result"
    }
   ],
   "source": [
    "E15x15x30*V/(N)"
   ]
  },
  {
   "cell_type": "code",
   "execution_count": 44,
   "id": "owned-chancellor",
   "metadata": {},
   "outputs": [
    {
     "data": {
      "text/plain": [
       "5.125876707004401"
      ]
     },
     "execution_count": 44,
     "metadata": {},
     "output_type": "execute_result"
    }
   ],
   "source": [
    "5.125876707004401"
   ]
  },
  {
   "cell_type": "code",
   "execution_count": 18,
   "id": "inner-passport",
   "metadata": {},
   "outputs": [
    {
     "data": {
      "text/plain": [
       "0.3390743248033017"
      ]
     },
     "execution_count": 18,
     "metadata": {},
     "output_type": "execute_result"
    }
   ],
   "source": [
    "U1=np.mean(1+IC_u[IC_u.shape[0]-15*14*6,2])\n",
    "U1"
   ]
  },
  {
   "cell_type": "code",
   "execution_count": 19,
   "id": "passing-wages",
   "metadata": {},
   "outputs": [
    {
     "data": {
      "text/plain": [
       "array([0.21608703, 0.17895556, 0.28557071, 0.20567198, 0.29091998,\n",
       "       0.3507567 ])"
      ]
     },
     "execution_count": 19,
     "metadata": {},
     "output_type": "execute_result"
    }
   ],
   "source": [
    "IC_f[-6]#IC_f.shape[0]-15*14*6]\n",
    "IC_f[IC_u.shape[0]-15*14*6:IC_u.shape[0]-15*14*6+6,-3]"
   ]
  },
  {
   "cell_type": "code",
   "execution_count": 20,
   "id": "consistent-breakfast",
   "metadata": {},
   "outputs": [
    {
     "data": {
      "text/plain": [
       "-0.06506888139742659"
      ]
     },
     "execution_count": 20,
     "metadata": {},
     "output_type": "execute_result"
    }
   ],
   "source": [
    "ICm[4,-3]"
   ]
  },
  {
   "cell_type": "code",
   "execution_count": 21,
   "id": "beautiful-latter",
   "metadata": {},
   "outputs": [],
   "source": [
    "IC_f = IC[:,:-24]\n",
    "IC_f_mean=np.mean(IC_f[-6:],axis=0)"
   ]
  },
  {
   "cell_type": "code",
   "execution_count": 22,
   "id": "infrared-annotation",
   "metadata": {},
   "outputs": [
    {
     "data": {
      "text/plain": [
       "(28,)"
      ]
     },
     "execution_count": 22,
     "metadata": {},
     "output_type": "execute_result"
    }
   ],
   "source": [
    "IC_f_mean.shape"
   ]
  },
  {
   "cell_type": "code",
   "execution_count": 23,
   "id": "parental-allocation",
   "metadata": {},
   "outputs": [
    {
     "data": {
      "text/plain": [
       "-0.8355145800707895"
      ]
     },
     "execution_count": 23,
     "metadata": {},
     "output_type": "execute_result"
    }
   ],
   "source": [
    "np.mean(stress[-6:,:])"
   ]
  },
  {
   "cell_type": "code",
   "execution_count": 29,
   "id": "corporate-listing",
   "metadata": {},
   "outputs": [
    {
     "data": {
      "text/plain": [
       "(array([[-0.13400069, -0.02235448, -0.07025147, -0.13399814, -0.02237821,\n",
       "         -0.08584107, -0.1339502 , -0.02237399, -0.07024202,  0.06105827,\n",
       "          0.1097898 ,  0.03862149,  0.08387462, -0.13400421,  0.06099687,\n",
       "         -0.07151861,  0.03864163, -0.04715712, -0.02233338, -0.08579937,\n",
       "          0.06099452,  0.10974856, -0.11174545, -0.02624397,  0.06099361,\n",
       "         -0.07152156, -0.11179101, -0.1364747 ]]),\n",
       " array([-0.1339746 , -0.1339746 ,  0.10919584,  0.01504145, -0.0039448 ,\n",
       "        -0.05375707, -0.0764202 , -0.06046442, -0.1339746 , -0.1339746 ,\n",
       "         0.10537863,  0.03090749, -0.01705106, -0.05497424, -0.08466591,\n",
       "        -0.04749641, -0.1339746 , -0.1339746 ,  0.10200145,  0.04488143,\n",
       "        -0.0284603 , -0.05644031, -0.09203288, -0.03562553,  0.1159826 ,\n",
       "        -0.02777867, -0.05976228, -0.09367243]))"
      ]
     },
     "execution_count": 29,
     "metadata": {},
     "output_type": "execute_result"
    }
   ],
   "source": [
    "IC_f[-1:],mf_t[-28:]"
   ]
  },
  {
   "cell_type": "code",
   "execution_count": 33,
   "id": "blind-throw",
   "metadata": {},
   "outputs": [],
   "source": [
    "U0 = np.array([U15x15x30,U15x15x30,U15x15x30,U15x15x30,U15x15x30,U15x15x30,U15x15x30,U15x15x30])\n",
    "Ue = np.array([1.5027396718770372,1.985556407613772,2.2939629719992185,2.509310088577286,2.6457572074212896,2.754215623065332,2.8679471169372297,2.9])\n",
    "e = np.array([1/2,1/4,1/6,1/8,1/10,1/12,1/15,1/17])\n",
    "U0U1 = U0+e*(U1)"
   ]
  },
  {
   "cell_type": "code",
   "execution_count": 34,
   "id": "guided-shield",
   "metadata": {},
   "outputs": [
    {
     "data": {
      "text/plain": [
       "(array([1.50273967, 1.98555641, 2.29396297, 2.50931009, 2.64575721,\n",
       "        2.75421562, 2.86794712, 2.9       ]),\n",
       " array([3.13523221, 3.05046363, 3.02220744, 3.00807934, 2.99960248,\n",
       "        2.99395124, 2.98830001, 2.9856406 ]))"
      ]
     },
     "execution_count": 34,
     "metadata": {},
     "output_type": "execute_result"
    }
   ],
   "source": [
    "Ue,U0U1"
   ]
  },
  {
   "cell_type": "code",
   "execution_count": 35,
   "id": "eight-quantum",
   "metadata": {},
   "outputs": [
    {
     "name": "stdout",
     "output_type": "stream",
     "text": [
      "0.4828167357367348\n",
      "0.30840656438544656\n",
      "0.2153471165780676\n",
      "0.1364471188440035\n",
      "0.10845841564404246\n",
      "0.11373149387189763\n",
      "0.03205288306277021\n"
     ]
    }
   ],
   "source": [
    "for i in range (Ue.shape[0]-1):\n",
    "    print(np.abs(Ue[i]-Ue[1+i]))"
   ]
  },
  {
   "cell_type": "code",
   "execution_count": 36,
   "id": "isolated-priority",
   "metadata": {},
   "outputs": [],
   "source": [
    "DU=U0U1-Ue"
   ]
  },
  {
   "cell_type": "code",
   "execution_count": 37,
   "id": "amazing-composition",
   "metadata": {},
   "outputs": [],
   "source": [
    "import matplotlib.pyplot as plt\n",
    "from matplotlib.ticker import (MultipleLocator, FormatStrFormatter, AutoMinorLocator)\n",
    "import matplotlib as mpl\n",
    "mpl.rcParams['axes.unicode_minus']=False\n",
    "plt.rcParams[\"figure.figsize\"] = (4,3)\n",
    "import matplotlib.pyplot as plt\n",
    "# # plt.rcParams[\"font.family\"] = \"Times New Roman\"\n",
    "font = {'size'   : 13}\n",
    "from matplotlib import rc\n",
    "plt.rc('font', **font)\n",
    "ftsz_leg = 9\n",
    "ftsz = 12\n",
    "mkSZ = 4\n",
    "mkSZs = 0\n",
    "lnWDT = 1.25\n",
    "lnWDTs = 6\n",
    "from matplotlib import rc\n",
    "rc('font',**{'family':'sans-serif','sans-serif':['Times New Roman']})\n",
    "## for Palatino and other serif fonts use:\n",
    "#rc('font',**{'family':'serif','serif':['Palatino']})\n",
    "rc('text', usetex=True)\n",
    "\n",
    "import numpy as np\n",
    "import matplotlib.pyplot as plt"
   ]
  },
  {
   "cell_type": "code",
   "execution_count": 38,
   "id": "spanish-contrary",
   "metadata": {},
   "outputs": [
    {
     "data": {
      "image/png": "[encoded data removed]",
      "text/plain": [
       "<Figure size 540x198 with 2 Axes>"
      ]
     },
     "metadata": {
      "needs_background": "light"
     },
     "output_type": "display_data"
    }
   ],
   "source": [
    "plt.rc('text', usetex=True)\n",
    "plt.rc('font', family='serif')\n",
    "fig = plt.figure(figsize=(3.75*2,2.75*1))\n",
    "(ax11), (ax12) = fig.subplots(1,2)\n",
    "# (ax11) = fig.subplots(1,1)\n",
    "plt.tight_layout(pad=2.5, w_pad=3.5, h_pad=3.5)\n",
    "ax11.margins(x=0.1, y = 0.1)\n",
    "ax11.xaxis.set_minor_locator(AutoMinorLocator())\n",
    "ax11.yaxis.set_minor_locator(AutoMinorLocator())\n",
    "\n",
    "ax11.plot(1/e,U0U1, color='black', marker=\"o\",markersize=mkSZ,linewidth=lnWDT,label=\"$u^{(0)}+\\epsilon u^{(1)}$\")\n",
    "ax11.plot(1/e,U0, color='black', alpha=0.2,marker=\"o\",markersize=mkSZ,linewidth=lnWDT,label=\"$u^{(0)}$\")\n",
    "ax11.plot(1/e,Ue, color='red', alpha=1,marker=\"o\",markersize=mkSZ,linewidth=lnWDT,label=\"$u^{\\epsilon}$\")\n",
    "\n",
    "ax11.set_xlabel('$1/\\epsilon$')\n",
    "ax11.set_ylabel('$u$ (m)')\n",
    "# ax11.ticklabel_format(axis=\"x\", style=\"sci\", scilimits=(3,3))\n",
    "# ax11.ticklabel_format(axis=\"y\", style=\"sci\", scilimits=(0,0))\n",
    "ax11.legend(loc='best',fontsize=ftsz_leg)\n",
    "ax11.grid(True, which='major', linewidth=0.3, color='lightgray')\n",
    "ax11.grid(True, which='minor', linewidth=0.3, alpha=0.2, color='lightgray')\n",
    "\n",
    "\n",
    "ax12.margins(x=0.1, y = 0.1)\n",
    "ax12.xaxis.set_minor_locator(AutoMinorLocator())\n",
    "ax12.yaxis.set_minor_locator(AutoMinorLocator())\n",
    "ax12.plot(1/e,U0, color='black', alpha=0.3, marker=\"o\",markersize=mkSZ,linewidth=lnWDT,label=\"$u^{(0)}$\")\n",
    "ax12.plot(1/e,U0U1, color='black', marker=\"o\",markersize=mkSZ,linewidth=lnWDT,label=\"$u^{(0)}+\\epsilon u^{(1)}$\")\n",
    "# ax12.plot(1/e,Ue, color='red', alpha=1,marker=\"o\",markersize=mkSZ,linewidth=lnWDT,label=\"$u^{\\epsilon}$\")\n",
    "\n",
    "ax12.set_xlabel('$1/\\epsilon$')\n",
    "ax12.set_ylabel('$u$ (m)')\n",
    "# ax12.ticklabel_format(axis=\"x\", style=\"sci\", scilimits=(3,3))\n",
    "# ax11.ticklabel_format(axis=\"y\", style=\"sci\", scilimits=(0,0))\n",
    "ax12.legend(loc='best',fontsize=ftsz_leg)\n",
    "ax12.grid(True, which='major', linewidth=0.3, color='lightgray')\n",
    "ax12.grid(True, which='minor', linewidth=0.3, alpha=0.2, color='lightgray')\n",
    "\n",
    "\n",
    "# fig.savefig(f\"convergence.pdf\", format=\"pdf\", transparent=True)"
   ]
  },
  {
   "cell_type": "code",
   "execution_count": 79,
   "id": "biblical-there",
   "metadata": {},
   "outputs": [
    {
     "data": {
      "image/png": "[encoded data removed]",
      "text/plain": [
       "<Figure size 378x297 with 2 Axes>"
      ]
     },
     "metadata": {
      "needs_background": "light"
     },
     "output_type": "display_data"
    }
   ],
   "source": [
    "plt.rc('text', usetex=True)\n",
    "plt.rc('font', family='serif')\n",
    "fig = plt.figure(figsize=(3.5*1.5,2.75*1.5))\n",
    "(ax11), (ax12) = fig.subplots(1,2)\n",
    "# (ax11) = fig.subplots(1,1)\n",
    "plt.tight_layout(pad=2.5, w_pad=3.5, h_pad=3.5)\n",
    "ax11.margins(x=0.1, y = 0.1)\n",
    "ax11.xaxis.set_minor_locator(AutoMinorLocator())\n",
    "ax11.yaxis.set_minor_locator(AutoMinorLocator())\n",
    "\n",
    "ax11.plot(1/e,100*(DU/Ue), color='black', marker=\"o\",markersize=mkSZ,linewidth=lnWDT)\n",
    "# ax11.plot(1/e,U0, color='black', alpha=0.2,marker=\"o\",markersize=mkSZ,linewidth=lnWDT,label=\"$u^{(0)}$\")\n",
    "# ax11.plot(1/e,Ue, color='black', alpha=0.6,marker=\"o\",markersize=mkSZ,linewidth=lnWDT,label=\"$u^{\\epsilon}$\")\n",
    "\n",
    "ax11.set_xlabel('$1/\\epsilon$')\n",
    "ax11.set_ylabel('$(u^{\\epsilon}-u^{(0)}-\\epsilon u^{(1)})/u^{\\epsilon}$ (\\%)')\n",
    "# ax11.ticklabel_format(axis=\"x\", style=\"sci\", scilimits=(3,3))\n",
    "# ax11.ticklabel_format(axis=\"y\", style=\"sci\", scilimits=(0,0))\n",
    "# ax11.legend(loc='best',fontsize=ftsz_leg)\n",
    "ax11.grid(True, which='major', linewidth=0.3, color='lightgray')\n",
    "ax11.grid(True, which='minor', linewidth=0.3, alpha=0.2, color='lightgray')\n",
    "\n",
    "\n",
    "ax12.margins(x=0.1, y = 0.1)\n",
    "ax12.xaxis.set_minor_locator(AutoMinorLocator())\n",
    "ax12.yaxis.set_minor_locator(AutoMinorLocator())\n",
    "ax12.plot(1/e,100*DU/Ue[-1], color='black', marker=\"o\",markersize=mkSZ,linewidth=lnWDT)\n",
    "# ax11.plot(1/e,U0, color='black', alpha=0.2,marker=\"o\",markersize=mkSZ,linewidth=lnWDT,label=\"$u^{(0)}$\")\n",
    "# ax11.plot(1/e,Ue, color='black', alpha=0.6,marker=\"o\",markersize=mkSZ,linewidth=lnWDT,label=\"$u^{\\epsilon}$\")\n",
    "\n",
    "ax12.set_xlabel('$1/\\epsilon$')\n",
    "ax12.set_ylabel('$(u^{\\epsilon}-u^{(0)}-\\epsilon u^{(1)})/u^{\\epsilon}$ (\\%)')\n",
    "ax12.ticklabel_format(axis=\"x\", style=\"sci\", scilimits=(3,3))\n",
    "# ax11.ticklabel_format(axis=\"y\", style=\"sci\", scilimits=(0,0))\n",
    "# ax11.legend(loc='best',fontsize=ftsz_leg)\n",
    "ax12.grid(True, which='major', linewidth=0.3, color='lightgray')\n",
    "ax12.grid(True, which='minor', linewidth=0.3, alpha=0.2, color='lightgray')\n",
    "\n",
    "# fig.savefig(f\"convergence.pdf\", format=\"pdf\", transparent=True)"
   ]
  },
  {
   "cell_type": "code",
   "execution_count": 80,
   "id": "collect-skiing",
   "metadata": {},
   "outputs": [
    {
     "data": {
      "text/plain": [
       "(array([57.48213175, 37.49673327, 25.6424108 , 17.56229765, 12.45934071,\n",
       "         8.44139514,  5.22183121]),\n",
       " array([108.63442101,  53.63268557,  31.74612998,  19.87674842,\n",
       "         13.37406453,   8.70431566,   5.22183121]))"
      ]
     },
     "execution_count": 80,
     "metadata": {},
     "output_type": "execute_result"
    }
   ],
   "source": [
    "100*np.abs(DU/Ue[-1]),100*np.abs(DU/Ue)"
   ]
  },
  {
   "cell_type": "code",
   "execution_count": 156,
   "id": "typical-cathedral",
   "metadata": {},
   "outputs": [
    {
     "ename": "NameError",
     "evalue": "name 'D' is not defined",
     "output_type": "error",
     "traceback": [
      "\u001b[0;31m---------------------------------------------------------------------------\u001b[0m",
      "\u001b[0;31mNameError\u001b[0m                                 Traceback (most recent call last)",
      "\u001b[0;32m<ipython-input-156-e6ff46a61540>\u001b[0m in \u001b[0;36m<module>\u001b[0;34m\u001b[0m\n\u001b[1;32m      2\u001b[0m \u001b[0mfig\u001b[0m \u001b[0;34m=\u001b[0m \u001b[0mplt\u001b[0m\u001b[0;34m.\u001b[0m\u001b[0mfigure\u001b[0m\u001b[0;34m(\u001b[0m\u001b[0mfigsize\u001b[0m\u001b[0;34m=\u001b[0m\u001b[0;34m(\u001b[0m\u001b[0;36m4.5\u001b[0m\u001b[0;34m,\u001b[0m\u001b[0;36m4\u001b[0m\u001b[0;34m)\u001b[0m\u001b[0;34m)\u001b[0m\u001b[0;34m\u001b[0m\u001b[0;34m\u001b[0m\u001b[0m\n\u001b[1;32m      3\u001b[0m \u001b[0mplt\u001b[0m\u001b[0;34m.\u001b[0m\u001b[0mtight_layout\u001b[0m\u001b[0;34m(\u001b[0m\u001b[0mpad\u001b[0m\u001b[0;34m=\u001b[0m\u001b[0;36m2.8\u001b[0m\u001b[0;34m,\u001b[0m \u001b[0mw_pad\u001b[0m\u001b[0;34m=\u001b[0m\u001b[0;36m3.5\u001b[0m\u001b[0;34m,\u001b[0m \u001b[0mh_pad\u001b[0m\u001b[0;34m=\u001b[0m\u001b[0;36m3.5\u001b[0m\u001b[0;34m)\u001b[0m\u001b[0;34m\u001b[0m\u001b[0;34m\u001b[0m\u001b[0m\n\u001b[0;32m----> 4\u001b[0;31m \u001b[0mplt\u001b[0m\u001b[0;34m.\u001b[0m\u001b[0mplot\u001b[0m\u001b[0;34m(\u001b[0m\u001b[0mN\u001b[0m\u001b[0;34m,\u001b[0m\u001b[0;34m(\u001b[0m\u001b[0mD\u001b[0m\u001b[0;34m*\u001b[0m\u001b[0mV\u001b[0m\u001b[0;34m/\u001b[0m\u001b[0mN\u001b[0m\u001b[0;34m)\u001b[0m\u001b[0;34m/\u001b[0m\u001b[0mnp\u001b[0m\u001b[0;34m.\u001b[0m\u001b[0mamax\u001b[0m\u001b[0;34m(\u001b[0m\u001b[0mD\u001b[0m\u001b[0;34m*\u001b[0m\u001b[0mV\u001b[0m\u001b[0;34m/\u001b[0m\u001b[0mN\u001b[0m\u001b[0;34m)\u001b[0m\u001b[0;34m,\u001b[0m\u001b[0mcolor\u001b[0m\u001b[0;34m=\u001b[0m\u001b[0;34m'red'\u001b[0m\u001b[0;34m,\u001b[0m \u001b[0malpha\u001b[0m\u001b[0;34m=\u001b[0m\u001b[0;36m1\u001b[0m\u001b[0;34m,\u001b[0m \u001b[0mmarker\u001b[0m\u001b[0;34m=\u001b[0m\u001b[0;34m'o'\u001b[0m\u001b[0;34m,\u001b[0m \u001b[0mlinestyle\u001b[0m\u001b[0;34m=\u001b[0m\u001b[0;34m'-'\u001b[0m\u001b[0;34m,\u001b[0m\u001b[0mlinewidth\u001b[0m\u001b[0;34m=\u001b[0m\u001b[0;36m1.5\u001b[0m\u001b[0;34m,\u001b[0m \u001b[0mmarkersize\u001b[0m\u001b[0;34m=\u001b[0m\u001b[0;36m7\u001b[0m\u001b[0;34m)\u001b[0m\u001b[0;34m\u001b[0m\u001b[0;34m\u001b[0m\u001b[0m\n\u001b[0m\u001b[1;32m      5\u001b[0m \u001b[0mplt\u001b[0m\u001b[0;34m.\u001b[0m\u001b[0mplot\u001b[0m\u001b[0;34m(\u001b[0m\u001b[0mN\u001b[0m\u001b[0;34m,\u001b[0m\u001b[0;34m(\u001b[0m\u001b[0mE\u001b[0m\u001b[0;34m*\u001b[0m\u001b[0mV\u001b[0m\u001b[0;34m/\u001b[0m\u001b[0mN\u001b[0m\u001b[0;34m)\u001b[0m\u001b[0;34m/\u001b[0m\u001b[0mnp\u001b[0m\u001b[0;34m.\u001b[0m\u001b[0mamax\u001b[0m\u001b[0;34m(\u001b[0m\u001b[0mE\u001b[0m\u001b[0;34m*\u001b[0m\u001b[0mV\u001b[0m\u001b[0;34m/\u001b[0m\u001b[0mN\u001b[0m\u001b[0;34m)\u001b[0m\u001b[0;34m,\u001b[0m\u001b[0mcolor\u001b[0m\u001b[0;34m=\u001b[0m\u001b[0;34m'navy'\u001b[0m\u001b[0;34m,\u001b[0m \u001b[0malpha\u001b[0m\u001b[0;34m=\u001b[0m\u001b[0;36m1\u001b[0m\u001b[0;34m,\u001b[0m \u001b[0mmarker\u001b[0m\u001b[0;34m=\u001b[0m\u001b[0;34m'o'\u001b[0m\u001b[0;34m,\u001b[0m \u001b[0mlinestyle\u001b[0m\u001b[0;34m=\u001b[0m\u001b[0;34m'-'\u001b[0m\u001b[0;34m,\u001b[0m\u001b[0mlinewidth\u001b[0m\u001b[0;34m=\u001b[0m\u001b[0;36m1.5\u001b[0m\u001b[0;34m,\u001b[0m \u001b[0mmarkersize\u001b[0m\u001b[0;34m=\u001b[0m\u001b[0;36m7\u001b[0m\u001b[0;34m)\u001b[0m\u001b[0;34m\u001b[0m\u001b[0;34m\u001b[0m\u001b[0m\n\u001b[1;32m      6\u001b[0m \u001b[0;31m# plt.plot(N,U/np.amax(U),color='black', alpha=1, marker='o', linestyle='-',linewidth=1.5, markersize=8)\u001b[0m\u001b[0;34m\u001b[0m\u001b[0;34m\u001b[0m\u001b[0;34m\u001b[0m\u001b[0m\n",
      "\u001b[0;31mNameError\u001b[0m: name 'D' is not defined"
     ]
    },
    {
     "data": {
      "text/plain": [
       "<Figure size 324x288 with 0 Axes>"
      ]
     },
     "metadata": {},
     "output_type": "display_data"
    }
   ],
   "source": [
    "plt.rcParams[\"figure.figsize\"] = (5,5)\n",
    "fig = plt.figure(figsize=(4.5,4))\n",
    "plt.tight_layout(pad=2.8, w_pad=3.5, h_pad=3.5)\n",
    "plt.plot(N,(D*V/N)/np.amax(D*V/N),color='red', alpha=1, marker='o', linestyle='-',linewidth=1.5, markersize=7)\n",
    "plt.plot(N,(E*V/N)/np.amax(E*V/N),color='navy', alpha=1, marker='o', linestyle='-',linewidth=1.5, markersize=7)\n",
    "# plt.plot(N,U/np.amax(U),color='black', alpha=1, marker='o', linestyle='-',linewidth=1.5, markersize=8)\n",
    "\n",
    "plt.ylabel('$\\mathit{\\Psi},D$ (-)',fontsize=12)\n",
    "plt.xlabel('$N_e$ (-)',fontsize=12)\n",
    "plt.show()\n",
    "# fig.savefig(f\"data.png\", format=\"png\", transparent=True)"
   ]
  },
  {
   "cell_type": "code",
   "execution_count": null,
   "id": "physical-committee",
   "metadata": {},
   "outputs": [],
   "source": [
    "plt.rcParams[\"figure.figsize\"] = (5,5)\n",
    "fig = plt.figure(figsize=(4.5,4))\n",
    "plt.tight_layout(pad=2.8, w_pad=3.5, h_pad=3.5)\n",
    "plt.loglog(N,U/np.amax(U),color='black', alpha=1, marker='o', linestyle='-',linewidth=1.5, markersize=8)\n",
    "# plt.loglog(N,U/np.amax(U),color='black', alpha=1, marker='o', linestyle='-',linewidth=1.5, markersize=8)\n",
    "\n",
    "plt.ylabel('$u$ (m)',fontsize=12)\n",
    "plt.xlabel('$N_e$ (-)',fontsize=12)\n",
    "plt.show()\n"
   ]
  },
  {
   "cell_type": "code",
   "execution_count": null,
   "id": "specified-interpretation",
   "metadata": {},
   "outputs": [],
   "source": []
  },
  {
   "cell_type": "code",
   "execution_count": null,
   "id": "helpful-modern",
   "metadata": {},
   "outputs": [],
   "source": [
    "100*DU"
   ]
  },
  {
   "cell_type": "code",
   "execution_count": null,
   "id": "available-marketing",
   "metadata": {},
   "outputs": [],
   "source": []
  }
 ],
 "metadata": {
  "kernelspec": {
   "display_name": "Python 3",
   "language": "python",
   "name": "python3"
  },
  "language_info": {
   "codemirror_mode": {
    "name": "ipython",
    "version": 3
   },
   "file_extension": ".py",
   "mimetype": "text/x-python",
   "name": "python",
   "nbconvert_exporter": "python",
   "pygments_lexer": "ipython3",
   "version": "3.8.5"
  }
 },
 "nbformat": 4,
 "nbformat_minor": 5
}

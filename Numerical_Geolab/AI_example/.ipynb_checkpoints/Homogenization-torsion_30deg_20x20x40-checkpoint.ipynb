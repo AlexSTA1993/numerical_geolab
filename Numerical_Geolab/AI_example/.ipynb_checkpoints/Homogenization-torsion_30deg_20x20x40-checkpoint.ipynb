{
 "cells": [
  {
   "cell_type": "code",
   "execution_count": 2,
   "id": "indirect-party",
   "metadata": {},
   "outputs": [],
   "source": [
    "import matplotlib.pyplot as plt\n",
    "import numpy as np\n",
    "import pickle\n",
    "np.random.seed(1)"
   ]
  },
  {
   "cell_type": "code",
   "execution_count": null,
   "id": "digital-permit",
   "metadata": {},
   "outputs": [],
   "source": []
  },
  {
   "cell_type": "code",
   "execution_count": 3,
   "id": "north-brighton",
   "metadata": {},
   "outputs": [
    {
     "data": {
      "text/plain": [
       "(0.7619689280692225, 0.0, 0.31796999166250084)"
      ]
     },
     "execution_count": 3,
     "metadata": {},
     "output_type": "execute_result"
    }
   ],
   "source": [
    "file = './Micro-3D_L3x3x5'\n",
    "with open(file, 'rb') as f_obj:\n",
    "    data = pickle.load(f_obj)\n",
    "svarsGP,add_svarsGP,nparticles,nbars,nsvars = data\n",
    "svarsGP[-3],svarsGP[-2],np.amax(add_svarsGP[:,2])"
   ]
  },
  {
   "cell_type": "code",
   "execution_count": 4,
   "id": "guided-harrison",
   "metadata": {},
   "outputs": [
    {
     "data": {
      "text/plain": [
       "0.31796999166250084"
      ]
     },
     "execution_count": 4,
     "metadata": {},
     "output_type": "execute_result"
    }
   ],
   "source": [
    "add_svarsGP[-3,2]"
   ]
  },
  {
   "cell_type": "code",
   "execution_count": 5,
   "id": "union-movement",
   "metadata": {},
   "outputs": [
    {
     "data": {
      "text/plain": [
       "array([ 0.02603184, -0.05650299, -0.1339746 , -0.1339746 , -0.1339746 ,\n",
       "        0.03246012,  0.00505125,  0.00391372, -0.02250251, -0.0253421 ,\n",
       "       -0.01100954, -0.00834823, -0.1339746 ,  0.01732072,  0.04105885,\n",
       "       -0.0845547 ,  0.00426772, -0.1339746 ,  0.07016519, -0.06578591,\n",
       "       -0.04095873, -0.1339746 ,  0.05383022, -0.03544707,  0.01418744,\n",
       "       -0.06401049,  0.03200041, -0.05542634])"
      ]
     },
     "execution_count": 5,
     "metadata": {},
     "output_type": "execute_result"
    }
   ],
   "source": [
    "mf_t335 = svarsGP[12:12+nbars]\n",
    "mf_t335[-28:]"
   ]
  },
  {
   "cell_type": "code",
   "execution_count": 6,
   "id": "defensive-function",
   "metadata": {},
   "outputs": [
    {
     "data": {
      "text/plain": [
       "(5.807285361975099, 0.0, 0.532028235946566)"
      ]
     },
     "execution_count": 6,
     "metadata": {},
     "output_type": "execute_result"
    }
   ],
   "source": [
    "file = './Micro-3D_L5x5x9'\n",
    "with open(file, 'rb') as f_obj:\n",
    "    data = pickle.load(f_obj)\n",
    "svarsGP,add_svarsGP,nparticles,nbars,nsvars = data\n",
    "svarsGP[-3],svarsGP[-2],np.amax(add_svarsGP[:,2])"
   ]
  },
  {
   "cell_type": "code",
   "execution_count": 7,
   "id": "tutorial-queen",
   "metadata": {},
   "outputs": [
    {
     "data": {
      "text/plain": [
       "array([-0.1339746 , -0.1339746 ,  0.06839691, -0.09697034,  0.0735503 ,\n",
       "       -0.01716252,  0.02188913, -0.09065278, -0.1339746 , -0.1339746 ,\n",
       "        0.06967691, -0.07348474,  0.08048098, -0.03558135, -0.00095569,\n",
       "       -0.08471879, -0.1339746 , -0.1339746 ,  0.06839751, -0.02377259,\n",
       "        0.0569956 , -0.05166323, -0.02989012, -0.06599329,  0.08013755,\n",
       "        0.01898086, -0.07834223, -0.06609977])"
      ]
     },
     "execution_count": 7,
     "metadata": {},
     "output_type": "execute_result"
    }
   ],
   "source": [
    "mf_t559 = svarsGP[12:12+nbars]\n",
    "mf_t559[-28:]"
   ]
  },
  {
   "cell_type": "code",
   "execution_count": 8,
   "id": "prospective-documentation",
   "metadata": {},
   "outputs": [
    {
     "data": {
      "text/plain": [
       "(10.72411176889055, 0.0, 0.6053918069077061)"
      ]
     },
     "execution_count": 8,
     "metadata": {},
     "output_type": "execute_result"
    }
   ],
   "source": [
    "file = './Micro-3D_L7x7x13'\n",
    "with open(file, 'rb') as f_obj:\n",
    "    data = pickle.load(f_obj)\n",
    "svarsGP,add_svarsGP,nparticles,nbars,nsvars = data\n",
    "svarsGP[-3],svarsGP[-2],np.amax(add_svarsGP[:,2])"
   ]
  },
  {
   "cell_type": "code",
   "execution_count": 9,
   "id": "colonial-chosen",
   "metadata": {},
   "outputs": [
    {
     "data": {
      "text/plain": [
       "array([-0.1339746 , -0.1339746 ,  0.08508801, -0.07736476,  0.08336369,\n",
       "       -0.03988878, -0.00802483, -0.0978455 , -0.1339746 , -0.1339746 ,\n",
       "        0.08320926, -0.04605094,  0.06359209, -0.04760474, -0.0265352 ,\n",
       "       -0.08076725, -0.1339746 , -0.1339746 ,  0.07983652, -0.00274339,\n",
       "        0.03528533, -0.05684151, -0.04915329, -0.05936684,  0.09235412,\n",
       "        0.00519828, -0.07417684, -0.07548089])"
      ]
     },
     "execution_count": 9,
     "metadata": {},
     "output_type": "execute_result"
    }
   ],
   "source": [
    "mf_t7713 = svarsGP[12:12+nbars]\n",
    "mf_t7713[-28:]"
   ]
  },
  {
   "cell_type": "code",
   "execution_count": 10,
   "id": "allied-chemical",
   "metadata": {},
   "outputs": [
    {
     "data": {
      "text/plain": [
       "(17.11518343693817, 0.0, 0.6530261335754755)"
      ]
     },
     "execution_count": 10,
     "metadata": {},
     "output_type": "execute_result"
    }
   ],
   "source": [
    "file = './Micro-3D_L9x9x17'\n",
    "with open(file, 'rb') as f_obj:\n",
    "    data = pickle.load(f_obj)\n",
    "svarsGP,add_svarsGP,nparticles,nbars,nsvars = data\n",
    "svarsGP[-3],svarsGP[-2],np.amax(add_svarsGP[:,2])"
   ]
  },
  {
   "cell_type": "code",
   "execution_count": 11,
   "id": "worst-artwork",
   "metadata": {},
   "outputs": [
    {
     "data": {
      "text/plain": [
       "array([-0.1339746 , -0.1339746 ,  0.09341716, -0.05651634,  0.0677178 ,\n",
       "       -0.04683436, -0.02512586, -0.0930362 , -0.1339746 , -0.1339746 ,\n",
       "        0.09007197, -0.02665523,  0.04576599, -0.0517883 , -0.04146022,\n",
       "       -0.07452737, -0.1339746 , -0.1339746 ,  0.08636156,  0.01026864,\n",
       "        0.01954581, -0.05823016, -0.06070987, -0.05407075,  0.09938542,\n",
       "       -0.00354933, -0.07101069, -0.0808236 ])"
      ]
     },
     "execution_count": 11,
     "metadata": {},
     "output_type": "execute_result"
    }
   ],
   "source": [
    "mf_t9917 = svarsGP[12:12+nbars]\n",
    "mf_t9917[-28:]"
   ]
  },
  {
   "cell_type": "code",
   "execution_count": 12,
   "id": "opponent-imperial",
   "metadata": {},
   "outputs": [
    {
     "data": {
      "text/plain": [
       "(24.987210457082625, 0.0, 0.6868052495537922)"
      ]
     },
     "execution_count": 12,
     "metadata": {},
     "output_type": "execute_result"
    }
   ],
   "source": [
    "file = './Micro-3D_L11x11x21'\n",
    "with open(file, 'rb') as f_obj:\n",
    "    data = pickle.load(f_obj)\n",
    "svarsGP,add_svarsGP,nparticles,nbars,nsvars = data\n",
    "svarsGP[-3],svarsGP[-2],np.amax(add_svarsGP[:,2])"
   ]
  },
  {
   "cell_type": "code",
   "execution_count": 13,
   "id": "dying-project",
   "metadata": {},
   "outputs": [
    {
     "data": {
      "text/plain": [
       "array([-0.1339746 , -0.1339746 ,  0.09806398, -0.04018949,  0.05285723,\n",
       "       -0.04993501, -0.03705277, -0.08715614, -0.1339746 , -0.1339746 ,\n",
       "        0.09430555, -0.01270763,  0.03163058, -0.05360327, -0.05187442,\n",
       "       -0.06899303, -0.1339746 , -0.1339746 ,  0.09059743,  0.0191154 ,\n",
       "        0.00808487, -0.05851709, -0.06858833, -0.04997592,  0.10393616,\n",
       "       -0.00959628, -0.06856317, -0.08429732])"
      ]
     },
     "execution_count": 13,
     "metadata": {},
     "output_type": "execute_result"
    }
   ],
   "source": [
    "mf_t111121 = svarsGP[12:12+nbars]\n",
    "mf_t111121[-28:]"
   ]
  },
  {
   "cell_type": "code",
   "execution_count": 14,
   "id": "possible-bruce",
   "metadata": {},
   "outputs": [],
   "source": [
    "# file = './Micro-3D_L11x11x21sp'\n",
    "# with open(file, 'rb') as f_obj:\n",
    "#     data = pickle.load(f_obj)\n",
    "# svarsGP,add_svarsGP,nparticles,nbars,nsvars = data\n",
    "# svarsGP[-3],svarsGP[-2],np.amax(add_svarsGP[:,2])"
   ]
  },
  {
   "cell_type": "code",
   "execution_count": 15,
   "id": "considered-writer",
   "metadata": {},
   "outputs": [
    {
     "data": {
      "text/plain": [
       "(34.34317530301901, 0.0, 0.7121966570872783)"
      ]
     },
     "execution_count": 15,
     "metadata": {},
     "output_type": "execute_result"
    }
   ],
   "source": [
    "file = './Micro-3D_L13x13x25'\n",
    "with open(file, 'rb') as f_obj:\n",
    "    data = pickle.load(f_obj)\n",
    "svarsGP,add_svarsGP,nparticles,nbars,nsvars = data\n",
    "svarsGP[-3],svarsGP[-2],np.amax(add_svarsGP[:,2])"
   ]
  },
  {
   "cell_type": "code",
   "execution_count": 16,
   "id": "egyptian-phone",
   "metadata": {},
   "outputs": [
    {
     "data": {
      "text/plain": [
       "array([-0.1339746 , -0.1339746 ,  0.10109681, -0.02743595,  0.04045361,\n",
       "       -0.05155102, -0.04614068, -0.0817706 , -0.1339746 , -0.1339746 ,\n",
       "        0.0972213 , -0.00223816,  0.02050075, -0.05447009, -0.05967263,\n",
       "       -0.06437465, -0.1339746 , -0.1339746 ,  0.09357623,  0.02553985,\n",
       "       -0.00058858, -0.05840968, -0.0743534 , -0.04674736,  0.10711781,\n",
       "       -0.01404301, -0.06661893, -0.0867432 ])"
      ]
     },
     "execution_count": 16,
     "metadata": {},
     "output_type": "execute_result"
    }
   ],
   "source": [
    "mf_t131325 = svarsGP[12:12+nbars]\n",
    "mf_t131325[-28:]"
   ]
  },
  {
   "cell_type": "code",
   "execution_count": 17,
   "id": "vocational-latin",
   "metadata": {},
   "outputs": [
    {
     "data": {
      "text/plain": [
       "(51.162807255054204, 0.0, 0.7405197336583749)"
      ]
     },
     "execution_count": 17,
     "metadata": {},
     "output_type": "execute_result"
    }
   ],
   "source": [
    "file = './Micro-3D_L16x16x31'\n",
    "with open(file, 'rb') as f_obj:\n",
    "    data = pickle.load(f_obj)\n",
    "svarsGP,add_svarsGP,nparticles,nbars,nsvars = data\n",
    "svarsGP[-3],svarsGP[-2],np.amax(add_svarsGP[:,2])"
   ]
  },
  {
   "cell_type": "code",
   "execution_count": 18,
   "id": "leading-conjunction",
   "metadata": {},
   "outputs": [
    {
     "data": {
      "text/plain": [
       "array([-0.1339746 , -0.1339746 ,  0.10414177, -0.01291318,  0.02573485,\n",
       "       -0.05277594, -0.05644496, -0.0750001 , -0.1339746 , -0.1339746 ,\n",
       "        0.10024347,  0.0093531 ,  0.00774341, -0.05500978, -0.06834513,\n",
       "       -0.05884756, -0.1339746 , -0.1339746 ,  0.09669304,  0.03246615,\n",
       "       -0.01026135, -0.0579965 , -0.08062493, -0.04301662,  0.11042337,\n",
       "       -0.01889586, -0.06434917, -0.08930497])"
      ]
     },
     "execution_count": 18,
     "metadata": {},
     "output_type": "execute_result"
    }
   ],
   "source": [
    "mf_t161631 = svarsGP[12:12+nbars]\n",
    "mf_t161631[-28:]"
   ]
  },
  {
   "cell_type": "code",
   "execution_count": 19,
   "id": "basic-sweet",
   "metadata": {},
   "outputs": [
    {
     "data": {
      "text/plain": [
       "(64.23427768785797, 0.0, 0.7550905407098523)"
      ]
     },
     "execution_count": 19,
     "metadata": {},
     "output_type": "execute_result"
    }
   ],
   "source": [
    "file = './Micro-3D_L18x18x35'\n",
    "with open(file, 'rb') as f_obj:\n",
    "    data = pickle.load(f_obj)\n",
    "svarsGP,add_svarsGP,nparticles,nbars,nsvars = data\n",
    "svarsGP[-3],svarsGP[-2],np.amax(add_svarsGP[:,2])"
   ]
  },
  {
   "cell_type": "code",
   "execution_count": 20,
   "id": "coastal-recording",
   "metadata": {},
   "outputs": [
    {
     "data": {
      "text/plain": [
       "(86.63034930945287, 0.0, 0.7726337351092422)"
      ]
     },
     "execution_count": 20,
     "metadata": {},
     "output_type": "execute_result"
    }
   ],
   "source": [
    "file = './Micro-3D_L21x21x41sp'\n",
    "with open(file, 'rb') as f_obj:\n",
    "    data = pickle.load(f_obj)\n",
    "svarsGP,add_svarsGP,nparticles,nbars,nsvars = data\n",
    "svarsGP[-3],svarsGP[-2],np.amax(add_svarsGP[:,2])"
   ]
  },
  {
   "cell_type": "code",
   "execution_count": 21,
   "id": "noted-middle",
   "metadata": {},
   "outputs": [
    {
     "data": {
      "text/plain": [
       "array([-0.1339746 , -0.1339746 ,  0.10726099,  0.00375781,  0.00822453,\n",
       "       -0.05355221, -0.06832314, -0.06654588, -0.1339746 , -0.1339746 ,\n",
       "        0.10340298,  0.02231344, -0.00700495, -0.05514405, -0.0781246 ,\n",
       "       -0.05218622, -0.1339746 , -0.1339746 ,  0.09996145,  0.04000049,\n",
       "       -0.02116851, -0.05718351, -0.08752197, -0.0386455 ,  0.11385787,\n",
       "       -0.02425473, -0.06165213, -0.09199363])"
      ]
     },
     "execution_count": 21,
     "metadata": {},
     "output_type": "execute_result"
    }
   ],
   "source": [
    "mf_t212141 = svarsGP[12:12+nbars]\n",
    "mf_t212141[-28:]"
   ]
  },
  {
   "cell_type": "code",
   "execution_count": 22,
   "id": "stretch-tattoo",
   "metadata": {},
   "outputs": [
    {
     "data": {
      "text/plain": [
       "(103.42079044441388, 0.0, 0.7822187175307169)"
      ]
     },
     "execution_count": 22,
     "metadata": {},
     "output_type": "execute_result"
    }
   ],
   "source": [
    "file = './Micro-3D_L23x23x45'\n",
    "with open(file, 'rb') as f_obj:\n",
    "    data = pickle.load(f_obj)\n",
    "svarsGP,add_svarsGP,nparticles,nbars,nsvars = data\n",
    "svarsGP[-3],svarsGP[-2],np.amax(add_svarsGP[:,2])"
   ]
  },
  {
   "cell_type": "code",
   "execution_count": 23,
   "id": "dental-blanket",
   "metadata": {},
   "outputs": [
    {
     "data": {
      "text/plain": [
       "(131.3966093403556, 0.0, 0.7942863131179823)"
      ]
     },
     "execution_count": 23,
     "metadata": {},
     "output_type": "execute_result"
    }
   ],
   "source": [
    "file = './Micro-3D_L26x26x51'\n",
    "with open(file, 'rb') as f_obj:\n",
    "    data = pickle.load(f_obj)\n",
    "svarsGP,add_svarsGP,nparticles,nbars,nsvars = data\n",
    "svarsGP[-3],svarsGP[-2],np.amax(add_svarsGP[:,2])"
   ]
  },
  {
   "cell_type": "code",
   "execution_count": 24,
   "id": "periodic-application",
   "metadata": {},
   "outputs": [],
   "source": [
    "\n",
    "mf_t262651=svarsGP[12:12+nbars]"
   ]
  },
  {
   "cell_type": "code",
   "execution_count": 25,
   "id": "adverse-genome",
   "metadata": {},
   "outputs": [
    {
     "data": {
      "text/plain": [
       "array([-0.1339746 , -0.1339746 ,  0.10919584,  0.01504145, -0.0039448 ,\n",
       "       -0.05375707, -0.0764202 , -0.06046442, -0.1339746 , -0.1339746 ,\n",
       "        0.10537863,  0.03090749, -0.01705106, -0.05497424, -0.08466591,\n",
       "       -0.04749641, -0.1339746 , -0.1339746 ,  0.10200145,  0.04488143,\n",
       "       -0.0284603 , -0.05644031, -0.09203288, -0.03562553,  0.1159826 ,\n",
       "       -0.02777867, -0.05976228, -0.09367243])"
      ]
     },
     "execution_count": 25,
     "metadata": {},
     "output_type": "execute_result"
    }
   ],
   "source": [
    "(mf_t262651[-28:])"
   ]
  },
  {
   "cell_type": "code",
   "execution_count": 26,
   "id": "burning-prayer",
   "metadata": {},
   "outputs": [
    {
     "data": {
      "text/plain": [
       "(418850,)"
      ]
     },
     "execution_count": 26,
     "metadata": {},
     "output_type": "execute_result"
    }
   ],
   "source": [
    "mf_t262651.shape"
   ]
  },
  {
   "cell_type": "code",
   "execution_count": 27,
   "id": "valid-hayes",
   "metadata": {},
   "outputs": [
    {
     "name": "stdout",
     "output_type": "stream",
     "text": [
      "0.7986034664432697 0.7986034664432697\n"
     ]
    },
    {
     "data": {
      "text/plain": [
       "-0.0003214364240267109"
      ]
     },
     "execution_count": 27,
     "metadata": {},
     "output_type": "execute_result"
    }
   ],
   "source": [
    "file = './Macro-3D_L20x20x40'\n",
    "with open(file, 'rb') as f_obj:\n",
    "    data = pickle.load(f_obj)\n",
    "usol,stress,svars,ISV,IC = data\n",
    "energy= svars[:,6+6+22:6+6+22+1]\n",
    "dissipation= svars[:,6+6+22+1:6+6+22+2]\n",
    "usol=np.reshape(usol,(-1,3))\n",
    "print(np.amax(usol[:,2]),usol[-1,2])\n",
    "coorM=np.array([[0., 0., 0.],\n",
    "       [0., 1., 0.],\n",
    "       [1., 0., 0.],\n",
    "       [1., 1., 0.],\n",
    "       [0., 0., 1.],\n",
    "       [0., 1., 1.],\n",
    "       [1., 0., 1.],\n",
    "       [1., 1., 1.]])\n",
    "U15x15x30=np.amax(usol[:,2])\n",
    "E15x15x30=np.sum(energy)\n",
    "D15x15x30=np.sum(dissipation)\n",
    "N=20*20*40\n",
    "V=10*10*20\n",
    "# print(np.mean(IC[-6:],axis=0)[-8:]) #(take -2): -0.93940901\n",
    "IC_u = IC[:,-24:]\n",
    "IC_u = IC_u.reshape(IC_u.shape[0],IC_u.shape[1]//3,3)\n",
    "# IC[-6:,-4:] #(take -2): -0.90854154\n",
    "np.mean(1+IC_u[-6:,7,2])"
   ]
  },
  {
   "cell_type": "code",
   "execution_count": 28,
   "id": "moral-alias",
   "metadata": {},
   "outputs": [],
   "source": [
    "IC_f = IC[:,:-24]"
   ]
  },
  {
   "cell_type": "code",
   "execution_count": 29,
   "id": "better-professional",
   "metadata": {},
   "outputs": [],
   "source": [
    "mf_IC=IC_f[-1,:]"
   ]
  },
  {
   "cell_type": "code",
   "execution_count": 30,
   "id": "popular-digit",
   "metadata": {},
   "outputs": [
    {
     "data": {
      "text/plain": [
       "array([-0.13399631, -0.02385157, -0.07322134, -0.13399241, -0.02387557,\n",
       "       -0.08437321, -0.13394547, -0.02387108, -0.07321124,  0.06528938,\n",
       "        0.11646756,  0.0409035 ,  0.08694456, -0.13399912,  0.06522892,\n",
       "       -0.07545482,  0.04092266, -0.04819215, -0.02382991, -0.0843299 ,\n",
       "        0.06522477,  0.11642571, -0.10979455, -0.02043346,  0.06522376,\n",
       "       -0.07545631, -0.10984156, -0.14067303])"
      ]
     },
     "execution_count": 30,
     "metadata": {},
     "output_type": "execute_result"
    }
   ],
   "source": [
    "mf_IC"
   ]
  },
  {
   "cell_type": "code",
   "execution_count": 29,
   "id": "inner-passport",
   "metadata": {},
   "outputs": [
    {
     "data": {
      "text/plain": [
       "0.34309274892186264"
      ]
     },
     "execution_count": 29,
     "metadata": {},
     "output_type": "execute_result"
    }
   ],
   "source": [
    "np.mean(1+IC_u[96000-20*19*6,2])"
   ]
  },
  {
   "cell_type": "code",
   "execution_count": 30,
   "id": "passing-wages",
   "metadata": {},
   "outputs": [
    {
     "data": {
      "text/plain": [
       "array([-0.00033723, -0.00031983, -0.00031119, -0.00032185, -0.000301  ,\n",
       "       -0.00033752])"
      ]
     },
     "execution_count": 30,
     "metadata": {},
     "output_type": "execute_result"
    }
   ],
   "source": [
    "1+IC_u[-6:,7,2]"
   ]
  },
  {
   "cell_type": "code",
   "execution_count": 31,
   "id": "beautiful-latter",
   "metadata": {},
   "outputs": [],
   "source": [
    "IC_f = IC[:,:-24]\n",
    "IC_f_mean=np.mean(IC_f[-6:],axis=0)"
   ]
  },
  {
   "cell_type": "code",
   "execution_count": 32,
   "id": "infrared-annotation",
   "metadata": {},
   "outputs": [
    {
     "data": {
      "text/plain": [
       "(28,)"
      ]
     },
     "execution_count": 32,
     "metadata": {},
     "output_type": "execute_result"
    }
   ],
   "source": [
    "IC_f_mean.shape"
   ]
  },
  {
   "cell_type": "code",
   "execution_count": 33,
   "id": "parental-allocation",
   "metadata": {},
   "outputs": [
    {
     "data": {
      "text/plain": [
       "-0.3056956583861908"
      ]
     },
     "execution_count": 33,
     "metadata": {},
     "output_type": "execute_result"
    }
   ],
   "source": [
    "np.mean(stress[-6:,:])"
   ]
  },
  {
   "cell_type": "code",
   "execution_count": 34,
   "id": "corporate-listing",
   "metadata": {},
   "outputs": [
    {
     "ename": "NameError",
     "evalue": "name 'mf_t' is not defined",
     "output_type": "error",
     "traceback": [
      "\u001b[0;31m---------------------------------------------------------------------------\u001b[0m",
      "\u001b[0;31mNameError\u001b[0m                                 Traceback (most recent call last)",
      "\u001b[0;32m<ipython-input-34-93e7da6397b7>\u001b[0m in \u001b[0;36m<module>\u001b[0;34m\u001b[0m\n\u001b[0;32m----> 1\u001b[0;31m \u001b[0mIC_f\u001b[0m\u001b[0;34m[\u001b[0m\u001b[0;34m-\u001b[0m\u001b[0;36m1\u001b[0m\u001b[0;34m:\u001b[0m\u001b[0;34m]\u001b[0m\u001b[0;34m,\u001b[0m\u001b[0mmf_t\u001b[0m\u001b[0;34m[\u001b[0m\u001b[0;34m-\u001b[0m\u001b[0;36m28\u001b[0m\u001b[0;34m:\u001b[0m\u001b[0;34m]\u001b[0m\u001b[0;34m\u001b[0m\u001b[0;34m\u001b[0m\u001b[0m\n\u001b[0m",
      "\u001b[0;31mNameError\u001b[0m: name 'mf_t' is not defined"
     ]
    }
   ],
   "source": [
    "IC_f[-1:],mf_t[-28:]"
   ]
  },
  {
   "cell_type": "code",
   "execution_count": 35,
   "id": "overall-circuit",
   "metadata": {},
   "outputs": [],
   "source": [
    "n=1\n",
    "mstresse = mf_t262651[-28:]"
   ]
  },
  {
   "cell_type": "code",
   "execution_count": 36,
   "id": "going-philadelphia",
   "metadata": {},
   "outputs": [
    {
     "data": {
      "text/plain": [
       "(28,)"
      ]
     },
     "execution_count": 36,
     "metadata": {},
     "output_type": "execute_result"
    }
   ],
   "source": [
    "mstresse.shape"
   ]
  },
  {
   "cell_type": "code",
   "execution_count": 37,
   "id": "emerging-grammar",
   "metadata": {},
   "outputs": [
    {
     "ename": "NameError",
     "evalue": "name 'AutoMinorLocator' is not defined",
     "output_type": "error",
     "traceback": [
      "\u001b[0;31m---------------------------------------------------------------------------\u001b[0m",
      "\u001b[0;31mNameError\u001b[0m                                 Traceback (most recent call last)",
      "\u001b[0;32m<ipython-input-37-0108d8a1e283>\u001b[0m in \u001b[0;36m<module>\u001b[0;34m\u001b[0m\n\u001b[1;32m      6\u001b[0m \u001b[0mplt\u001b[0m\u001b[0;34m.\u001b[0m\u001b[0mtight_layout\u001b[0m\u001b[0;34m(\u001b[0m\u001b[0mpad\u001b[0m\u001b[0;34m=\u001b[0m\u001b[0;36m2.5\u001b[0m\u001b[0;34m,\u001b[0m \u001b[0mw_pad\u001b[0m\u001b[0;34m=\u001b[0m\u001b[0;36m3.5\u001b[0m\u001b[0;34m,\u001b[0m \u001b[0mh_pad\u001b[0m\u001b[0;34m=\u001b[0m\u001b[0;36m3.5\u001b[0m\u001b[0;34m)\u001b[0m\u001b[0;34m\u001b[0m\u001b[0;34m\u001b[0m\u001b[0m\n\u001b[1;32m      7\u001b[0m \u001b[0max11\u001b[0m\u001b[0;34m.\u001b[0m\u001b[0mmargins\u001b[0m\u001b[0;34m(\u001b[0m\u001b[0mx\u001b[0m\u001b[0;34m=\u001b[0m\u001b[0;36m0.1\u001b[0m\u001b[0;34m,\u001b[0m \u001b[0my\u001b[0m \u001b[0;34m=\u001b[0m \u001b[0;36m0.1\u001b[0m\u001b[0;34m)\u001b[0m\u001b[0;34m\u001b[0m\u001b[0;34m\u001b[0m\u001b[0m\n\u001b[0;32m----> 8\u001b[0;31m \u001b[0max11\u001b[0m\u001b[0;34m.\u001b[0m\u001b[0mxaxis\u001b[0m\u001b[0;34m.\u001b[0m\u001b[0mset_minor_locator\u001b[0m\u001b[0;34m(\u001b[0m\u001b[0mAutoMinorLocator\u001b[0m\u001b[0;34m(\u001b[0m\u001b[0;34m)\u001b[0m\u001b[0;34m)\u001b[0m\u001b[0;34m\u001b[0m\u001b[0;34m\u001b[0m\u001b[0m\n\u001b[0m\u001b[1;32m      9\u001b[0m \u001b[0max11\u001b[0m\u001b[0;34m.\u001b[0m\u001b[0myaxis\u001b[0m\u001b[0;34m.\u001b[0m\u001b[0mset_minor_locator\u001b[0m\u001b[0;34m(\u001b[0m\u001b[0mAutoMinorLocator\u001b[0m\u001b[0;34m(\u001b[0m\u001b[0;34m)\u001b[0m\u001b[0;34m)\u001b[0m\u001b[0;34m\u001b[0m\u001b[0;34m\u001b[0m\u001b[0m\n\u001b[1;32m     10\u001b[0m \u001b[0;34m\u001b[0m\u001b[0m\n",
      "\u001b[0;31mNameError\u001b[0m: name 'AutoMinorLocator' is not defined"
     ]
    },
    {
     "data": {
      "image/png": "[encoded data removed]",
      "text/plain": [
       "<Figure size 378x297 with 1 Axes>"
      ]
     },
     "metadata": {
      "needs_background": "light"
     },
     "output_type": "display_data"
    }
   ],
   "source": [
    "# plt.rc('text', usetex=True)\n",
    "# plt.rc('font', family='serif')\n",
    "# fig = plt.figure(figsize=(3.5*1.5,2.75*1.5))\n",
    "# # (ax11), (ax12) = fig.subplots(1,2)\n",
    "# (ax11) = fig.subplots(1,1)\n",
    "# plt.tight_layout(pad=2.5, w_pad=3.5, h_pad=3.5)\n",
    "# ax11.margins(x=0.1, y = 0.1)\n",
    "# ax11.xaxis.set_minor_locator(AutoMinorLocator())\n",
    "# ax11.yaxis.set_minor_locator(AutoMinorLocator())\n",
    "\n",
    "# ax11.plot(mf_IC, color='black', marker=\"o\",markersize=mkSZ,linewidth=lnWDT,label=\"$u^{\\epsilon}-u^{(0)}+\\epsilon u^{(1)}$\")\n",
    "# ax11.plot(mstresse, color='black', alpha=0.2,marker=\"o\",markersize=mkSZ,linewidth=lnWDT,label=\"$u^{(0)}$\")\n",
    "# # ax11.plot(1/e,Ue, color='black', alpha=0.6,marker=\"o\",markersize=mkSZ,linewidth=lnWDT,label=\"$u^{\\epsilon}$\")\n",
    "\n",
    "# ax11.set_xlabel('$1/\\epsilon$')\n",
    "# ax11.set_ylabel('$u^{\\epsilon}-u^{(0)}+\\epsilon u^{(1)}$ (-)')\n",
    "# ax11.ticklabel_format(axis=\"x\", style=\"sci\", scilimits=(3,3))\n",
    "# # ax11.ticklabel_format(axis=\"y\", style=\"sci\", scilimits=(0,0))\n",
    "# ax11.legend(loc='best',fontsize=ftsz_leg)\n",
    "# ax11.grid(True, which='major', linewidth=0.3, color='lightgray')\n",
    "# ax11.grid(True, which='minor', linewidth=0.3, alpha=0.2, color='lightgray')\n",
    "\n",
    "\n",
    "# # ax12.margins(x=0.1, y = 0.1)\n",
    "# # ax12.xaxis.set_minor_locator(AutoMinorLocator())\n",
    "# # ax12.yaxis.set_minor_locator(AutoMinorLocator())\n",
    "# # # ax12.plot(N,U/np.amax(U), color='black', marker=\"o\",markersize=mkSZ,linewidth=lnWDT)\n",
    "# # # ax12.plot(N[-3],U[-3]/np.amax(U), color='red', marker=\"o\",fillstyle='none',markersize=mkSZ*2,linewidth=lnWDT)\n",
    "# # ax12.set_xlabel('Number of FE')\n",
    "# # ax12.set_ylabel('$U/U^*$ (-)')\n",
    "# # ax12.ticklabel_format(axis=\"x\", style=\"sci\", scilimits=(3,3))\n",
    "# # # ax11.ticklabel_format(axis=\"y\", style=\"sci\", scilimits=(0,0))\n",
    "# # # ax12.legend(loc='best',fontsize=ftsz_leg)\n",
    "# # ax12.grid(True, which='major', linewidth=0.3, color='lightgray')\n",
    "# # ax12.grid(True, which='minor', linewidth=0.3, alpha=0.2, color='lightgray')\n",
    "\n",
    "\n",
    "# # fig.savefig(f\"convergence.pdf\", format=\"pdf\", transparent=True)"
   ]
  },
  {
   "cell_type": "code",
   "execution_count": null,
   "id": "minor-absorption",
   "metadata": {},
   "outputs": [],
   "source": [
    "E15x15x30*V/(N*6)"
   ]
  },
  {
   "cell_type": "code",
   "execution_count": 31,
   "id": "comprehensive-publication",
   "metadata": {},
   "outputs": [],
   "source": [
    "U1=-0.82770666#-0.90323734\n",
    "U1=0.34309274892186264#0.3072882245820073#0.3177153499848499"
   ]
  },
  {
   "cell_type": "code",
   "execution_count": 32,
   "id": "limiting-internship",
   "metadata": {},
   "outputs": [
    {
     "data": {
      "text/plain": [
       "(0.821476316371394, 0.7405197336583749)"
      ]
     },
     "execution_count": 32,
     "metadata": {},
     "output_type": "execute_result"
    }
   ],
   "source": [
    "U15x15x30+(1/15.)*(U1), 0.7405197336583749"
   ]
  },
  {
   "cell_type": "code",
   "execution_count": 33,
   "id": "becoming-range",
   "metadata": {},
   "outputs": [
    {
     "data": {
      "text/plain": [
       "(0.8271945288534249, 0.7121966570872783)"
      ]
     },
     "execution_count": 33,
     "metadata": {},
     "output_type": "execute_result"
    }
   ],
   "source": [
    "U15x15x30+(1/12)*(U1),0.7121966570872783"
   ]
  },
  {
   "cell_type": "code",
   "execution_count": 34,
   "id": "damaged-twist",
   "metadata": {},
   "outputs": [
    {
     "data": {
      "text/plain": [
       "(0.832912741335456, 0.6868052495537922)"
      ]
     },
     "execution_count": 34,
     "metadata": {},
     "output_type": "execute_result"
    }
   ],
   "source": [
    "U15x15x30+0.1*(U1),0.6868052495537922"
   ]
  },
  {
   "cell_type": "code",
   "execution_count": 35,
   "id": "bacterial-accuracy",
   "metadata": {},
   "outputs": [
    {
     "data": {
      "text/plain": [
       "(0.8414900600585026, 0.6530261335754755)"
      ]
     },
     "execution_count": 35,
     "metadata": {},
     "output_type": "execute_result"
    }
   ],
   "source": [
    "U15x15x30+(1./8.)*(U1),0.6530261335754755"
   ]
  },
  {
   "cell_type": "code",
   "execution_count": 36,
   "id": "minimal-currency",
   "metadata": {},
   "outputs": [
    {
     "data": {
      "text/plain": [
       "(0.8557855912635802, 0.6053918069077061)"
      ]
     },
     "execution_count": 36,
     "metadata": {},
     "output_type": "execute_result"
    }
   ],
   "source": [
    "U15x15x30+(1./6.)*(U1),0.6053918069077061"
   ]
  },
  {
   "cell_type": "code",
   "execution_count": 37,
   "id": "fatty-treat",
   "metadata": {},
   "outputs": [
    {
     "data": {
      "text/plain": [
       "(0.8843766536737354, 0.532028235946566)"
      ]
     },
     "execution_count": 37,
     "metadata": {},
     "output_type": "execute_result"
    }
   ],
   "source": [
    "U15x15x30+(1/4)*(U1),0.532028235946566"
   ]
  },
  {
   "cell_type": "code",
   "execution_count": null,
   "id": "adopted-passing",
   "metadata": {},
   "outputs": [],
   "source": []
  },
  {
   "cell_type": "code",
   "execution_count": 38,
   "id": "blind-throw",
   "metadata": {},
   "outputs": [],
   "source": [
    "U0 = np.array([U15x15x30,U15x15x30,U15x15x30,U15x15x30,U15x15x30,U15x15x30,U15x15x30,U15x15x30,U15x15x30,U15x15x30,U15x15x30])\n",
    "Ue = np.array([0.31796999166250084,0.532028235946566,0.6053918069077061,0.6530261335754755,0.6868052495537922,0.7121966570872783,0.7405197336583749,0.7550905407098523,0.7726337351092422,0.7822187175307169,0.7942863131179823])\n",
    "e = np.array([1/2,1/4,1/6,1/8,1/10,1/12,1/15,1/17,1/20,1/22,1/25])\n",
    "U0U1 = U0+e*(U1)"
   ]
  },
  {
   "cell_type": "code",
   "execution_count": 39,
   "id": "guided-shield",
   "metadata": {},
   "outputs": [
    {
     "data": {
      "text/plain": [
       "(array([0.31796999, 0.53202824, 0.60539181, 0.65302613, 0.68680525,\n",
       "        0.71219666, 0.74051973, 0.75509054, 0.77263374, 0.78221872,\n",
       "        0.79428631]),\n",
       " array([0.97014984, 0.88437665, 0.85578559, 0.84149006, 0.83291274,\n",
       "        0.82719453, 0.82147632, 0.81878539, 0.8157581 , 0.81419859,\n",
       "        0.81232718]))"
      ]
     },
     "execution_count": 39,
     "metadata": {},
     "output_type": "execute_result"
    }
   ],
   "source": [
    "Ue,U0U1"
   ]
  },
  {
   "cell_type": "code",
   "execution_count": 40,
   "id": "isolated-priority",
   "metadata": {},
   "outputs": [],
   "source": [
    "DU=U0U1-Ue[-1]"
   ]
  },
  {
   "cell_type": "code",
   "execution_count": 41,
   "id": "amazing-composition",
   "metadata": {},
   "outputs": [],
   "source": [
    "import matplotlib.pyplot as plt\n",
    "from matplotlib.ticker import (MultipleLocator, FormatStrFormatter, AutoMinorLocator)\n",
    "import matplotlib as mpl\n",
    "mpl.rcParams['axes.unicode_minus']=False\n",
    "plt.rcParams[\"figure.figsize\"] = (4,3)\n",
    "import matplotlib.pyplot as plt\n",
    "# # plt.rcParams[\"font.family\"] = \"Times New Roman\"\n",
    "font = {'size'   : 13}\n",
    "from matplotlib import rc\n",
    "plt.rc('font', **font)\n",
    "ftsz_leg = 9\n",
    "ftsz = 12\n",
    "mkSZ = 4\n",
    "mkSZs = 0\n",
    "lnWDT = 1.25\n",
    "lnWDTs = 6\n",
    "from matplotlib import rc\n",
    "rc('font',**{'family':'sans-serif','sans-serif':['Times New Roman']})\n",
    "## for Palatino and other serif fonts use:\n",
    "#rc('font',**{'family':'serif','serif':['Palatino']})\n",
    "rc('text', usetex=True)\n",
    "\n",
    "import numpy as np\n",
    "import matplotlib.pyplot as plt"
   ]
  },
  {
   "cell_type": "code",
   "execution_count": 42,
   "id": "spanish-contrary",
   "metadata": {},
   "outputs": [
    {
     "data": {
      "image/png": "[encoded data removed]",
      "text/plain": [
       "<Figure size 504x198 with 2 Axes>"
      ]
     },
     "metadata": {
      "needs_background": "light"
     },
     "output_type": "display_data"
    }
   ],
   "source": [
    "plt.rc('text', usetex=True)\n",
    "plt.rc('font', family='serif')\n",
    "fig = plt.figure(figsize=(3.5*2,2.75*1))\n",
    "(ax11), (ax12) = fig.subplots(1,2)\n",
    "# (ax11) = fig.subplots(1,1)\n",
    "plt.tight_layout(pad=2.5, w_pad=3.5, h_pad=3.5)\n",
    "ax11.margins(x=0.1, y = 0.1)\n",
    "ax11.xaxis.set_minor_locator(AutoMinorLocator())\n",
    "ax11.yaxis.set_minor_locator(AutoMinorLocator())\n",
    "\n",
    "ax11.plot(1/e,U0U1, color='black', marker=\"o\",markersize=mkSZ,linewidth=lnWDT,label=\"$u^{(0)}+\\epsilon u^{(1)}$\")\n",
    "# ax11.plot(1/e,U0, color='black', alpha=0.2,marker=\"o\",markersize=mkSZ,linewidth=lnWDT,label=\"$u^{(0)}$\")\n",
    "ax11.plot(1/e,Ue, color='red', alpha=1,marker=\"o\",markersize=mkSZ,linewidth=lnWDT,label=\"$u^{\\epsilon}$\")\n",
    "\n",
    "ax11.set_xlabel('$1/\\epsilon$')\n",
    "ax11.set_ylabel('$u$ (m)')\n",
    "# ax11.ticklabel_format(axis=\"x\", style=\"sci\", scilimits=(3,3))\n",
    "# ax11.ticklabel_format(axis=\"y\", style=\"sci\", scilimits=(0,0))\n",
    "ax11.legend(loc='best',fontsize=ftsz_leg)\n",
    "ax11.grid(True, which='major', linewidth=0.3, color='lightgray')\n",
    "ax11.grid(True, which='minor', linewidth=0.3, alpha=0.2, color='lightgray')\n",
    "\n",
    "\n",
    "ax12.margins(x=0.1, y = 0.1)\n",
    "ax12.xaxis.set_minor_locator(AutoMinorLocator())\n",
    "ax12.yaxis.set_minor_locator(AutoMinorLocator())\n",
    "ax12.plot(1/e,U0, color='black', alpha=0.3, marker=\"o\",markersize=mkSZ,linewidth=lnWDT,label=\"$u^{(0)}$\")\n",
    "ax12.plot(1/e,U0U1, color='black', marker=\"o\",markersize=mkSZ,linewidth=lnWDT,label=\"$u^{(0)}+\\epsilon u^{(1)}$\")\n",
    "# ax12.plot(1/e,Ue, color='red', alpha=1,marker=\"o\",markersize=mkSZ,linewidth=lnWDT,label=\"$u^{\\epsilon}$\")\n",
    "\n",
    "ax12.set_xlabel('$1/\\epsilon$')\n",
    "ax12.set_ylabel('$u$ (m)')\n",
    "# ax12.ticklabel_format(axis=\"x\", style=\"sci\", scilimits=(3,3))\n",
    "# ax11.ticklabel_format(axis=\"y\", style=\"sci\", scilimits=(0,0))\n",
    "ax12.legend(loc='best',fontsize=ftsz_leg)\n",
    "ax12.grid(True, which='major', linewidth=0.3, color='lightgray')\n",
    "ax12.grid(True, which='minor', linewidth=0.3, alpha=0.2, color='lightgray')\n",
    "\n",
    "\n",
    "# fig.savefig(f\"convergence.pdf\", format=\"pdf\", transparent=True)"
   ]
  },
  {
   "cell_type": "code",
   "execution_count": 43,
   "id": "biblical-there",
   "metadata": {},
   "outputs": [
    {
     "data": {
      "image/png": "[encoded data removed]",
      "text/plain": [
       "<Figure size 378x297 with 2 Axes>"
      ]
     },
     "metadata": {
      "needs_background": "light"
     },
     "output_type": "display_data"
    }
   ],
   "source": [
    "plt.rc('text', usetex=True)\n",
    "plt.rc('font', family='serif')\n",
    "fig = plt.figure(figsize=(3.5*1.5,2.75*1.5))\n",
    "(ax11), (ax12) = fig.subplots(1,2)\n",
    "# (ax11) = fig.subplots(1,1)\n",
    "plt.tight_layout(pad=2.5, w_pad=3.5, h_pad=3.5)\n",
    "ax11.margins(x=0.1, y = 0.1)\n",
    "ax11.xaxis.set_minor_locator(AutoMinorLocator())\n",
    "ax11.yaxis.set_minor_locator(AutoMinorLocator())\n",
    "\n",
    "ax11.plot(1/e,100*(U0U1-Ue[-1]), color='black', marker=\"o\",markersize=mkSZ,linewidth=lnWDT)\n",
    "# ax11.plot(1/e,U0, color='black', alpha=0.2,marker=\"o\",markersize=mkSZ,linewidth=lnWDT,label=\"$u^{(0)}$\")\n",
    "# ax11.plot(1/e,Ue, color='black', alpha=0.6,marker=\"o\",markersize=mkSZ,linewidth=lnWDT,label=\"$u^{\\epsilon}$\")\n",
    "\n",
    "ax11.set_xlabel('$1/\\epsilon$')\n",
    "ax11.set_ylabel('$(u^{\\epsilon}-u^{(0)}-\\epsilon u^{(1)})$ (-)')\n",
    "# ax11.ticklabel_format(axis=\"x\", style=\"sci\", scilimits=(3,3))\n",
    "# ax11.ticklabel_format(axis=\"y\", style=\"sci\", scilimits=(0,0))\n",
    "# ax11.legend(loc='best',fontsize=ftsz_leg)\n",
    "ax11.grid(True, which='major', linewidth=0.3, color='lightgray')\n",
    "ax11.grid(True, which='minor', linewidth=0.3, alpha=0.2, color='lightgray')\n",
    "\n",
    "\n",
    "ax12.margins(x=0.1, y = 0.1)\n",
    "ax12.xaxis.set_minor_locator(AutoMinorLocator())\n",
    "ax12.yaxis.set_minor_locator(AutoMinorLocator())\n",
    "ax12.plot(1/e,100*DU/Ue[-1], color='black', marker=\"o\",markersize=mkSZ,linewidth=lnWDT)\n",
    "# ax11.plot(1/e,U0, color='black', alpha=0.2,marker=\"o\",markersize=mkSZ,linewidth=lnWDT,label=\"$u^{(0)}$\")\n",
    "# ax11.plot(1/e,Ue, color='black', alpha=0.6,marker=\"o\",markersize=mkSZ,linewidth=lnWDT,label=\"$u^{\\epsilon}$\")\n",
    "\n",
    "ax12.set_xlabel('$1/\\epsilon$')\n",
    "ax12.set_ylabel('$(u^{\\epsilon}-u^{(0)}-\\epsilon u^{(1)})/u^{\\epsilon}$ (-)')\n",
    "ax12.ticklabel_format(axis=\"x\", style=\"sci\", scilimits=(3,3))\n",
    "# ax11.ticklabel_format(axis=\"y\", style=\"sci\", scilimits=(0,0))\n",
    "# ax11.legend(loc='best',fontsize=ftsz_leg)\n",
    "ax12.grid(True, which='major', linewidth=0.3, color='lightgray')\n",
    "ax12.grid(True, which='minor', linewidth=0.3, alpha=0.2, color='lightgray')\n",
    "\n",
    "# fig.savefig(f\"convergence.pdf\", format=\"pdf\", transparent=True)"
   ]
  },
  {
   "cell_type": "code",
   "execution_count": 46,
   "id": "collect-skiing",
   "metadata": {},
   "outputs": [
    {
     "data": {
      "text/plain": [
       "(array([22.14107494, 11.34230051,  7.74270904,  5.9429133 ,  4.86303586,\n",
       "         4.14311756,  3.42319927,  3.08441419,  2.70328097,  2.50693962,\n",
       "         2.27133   ]),\n",
       " array([55.30821537, 16.9333758 , 10.15859109,  7.22846216,  5.62407294,\n",
       "         4.62066417,  3.67174594,  3.24452213,  2.77903873,  2.54561516,\n",
       "         2.27133   ]))"
      ]
     },
     "execution_count": 46,
     "metadata": {},
     "output_type": "execute_result"
    }
   ],
   "source": [
    "100*np.abs(DU/Ue[-1]),100*np.abs(DU/Ue)"
   ]
  },
  {
   "cell_type": "code",
   "execution_count": 156,
   "id": "typical-cathedral",
   "metadata": {},
   "outputs": [
    {
     "ename": "NameError",
     "evalue": "name 'D' is not defined",
     "output_type": "error",
     "traceback": [
      "\u001b[0;31m---------------------------------------------------------------------------\u001b[0m",
      "\u001b[0;31mNameError\u001b[0m                                 Traceback (most recent call last)",
      "\u001b[0;32m<ipython-input-156-e6ff46a61540>\u001b[0m in \u001b[0;36m<module>\u001b[0;34m\u001b[0m\n\u001b[1;32m      2\u001b[0m \u001b[0mfig\u001b[0m \u001b[0;34m=\u001b[0m \u001b[0mplt\u001b[0m\u001b[0;34m.\u001b[0m\u001b[0mfigure\u001b[0m\u001b[0;34m(\u001b[0m\u001b[0mfigsize\u001b[0m\u001b[0;34m=\u001b[0m\u001b[0;34m(\u001b[0m\u001b[0;36m4.5\u001b[0m\u001b[0;34m,\u001b[0m\u001b[0;36m4\u001b[0m\u001b[0;34m)\u001b[0m\u001b[0;34m)\u001b[0m\u001b[0;34m\u001b[0m\u001b[0;34m\u001b[0m\u001b[0m\n\u001b[1;32m      3\u001b[0m \u001b[0mplt\u001b[0m\u001b[0;34m.\u001b[0m\u001b[0mtight_layout\u001b[0m\u001b[0;34m(\u001b[0m\u001b[0mpad\u001b[0m\u001b[0;34m=\u001b[0m\u001b[0;36m2.8\u001b[0m\u001b[0;34m,\u001b[0m \u001b[0mw_pad\u001b[0m\u001b[0;34m=\u001b[0m\u001b[0;36m3.5\u001b[0m\u001b[0;34m,\u001b[0m \u001b[0mh_pad\u001b[0m\u001b[0;34m=\u001b[0m\u001b[0;36m3.5\u001b[0m\u001b[0;34m)\u001b[0m\u001b[0;34m\u001b[0m\u001b[0;34m\u001b[0m\u001b[0m\n\u001b[0;32m----> 4\u001b[0;31m \u001b[0mplt\u001b[0m\u001b[0;34m.\u001b[0m\u001b[0mplot\u001b[0m\u001b[0;34m(\u001b[0m\u001b[0mN\u001b[0m\u001b[0;34m,\u001b[0m\u001b[0;34m(\u001b[0m\u001b[0mD\u001b[0m\u001b[0;34m*\u001b[0m\u001b[0mV\u001b[0m\u001b[0;34m/\u001b[0m\u001b[0mN\u001b[0m\u001b[0;34m)\u001b[0m\u001b[0;34m/\u001b[0m\u001b[0mnp\u001b[0m\u001b[0;34m.\u001b[0m\u001b[0mamax\u001b[0m\u001b[0;34m(\u001b[0m\u001b[0mD\u001b[0m\u001b[0;34m*\u001b[0m\u001b[0mV\u001b[0m\u001b[0;34m/\u001b[0m\u001b[0mN\u001b[0m\u001b[0;34m)\u001b[0m\u001b[0;34m,\u001b[0m\u001b[0mcolor\u001b[0m\u001b[0;34m=\u001b[0m\u001b[0;34m'red'\u001b[0m\u001b[0;34m,\u001b[0m \u001b[0malpha\u001b[0m\u001b[0;34m=\u001b[0m\u001b[0;36m1\u001b[0m\u001b[0;34m,\u001b[0m \u001b[0mmarker\u001b[0m\u001b[0;34m=\u001b[0m\u001b[0;34m'o'\u001b[0m\u001b[0;34m,\u001b[0m \u001b[0mlinestyle\u001b[0m\u001b[0;34m=\u001b[0m\u001b[0;34m'-'\u001b[0m\u001b[0;34m,\u001b[0m\u001b[0mlinewidth\u001b[0m\u001b[0;34m=\u001b[0m\u001b[0;36m1.5\u001b[0m\u001b[0;34m,\u001b[0m \u001b[0mmarkersize\u001b[0m\u001b[0;34m=\u001b[0m\u001b[0;36m7\u001b[0m\u001b[0;34m)\u001b[0m\u001b[0;34m\u001b[0m\u001b[0;34m\u001b[0m\u001b[0m\n\u001b[0m\u001b[1;32m      5\u001b[0m \u001b[0mplt\u001b[0m\u001b[0;34m.\u001b[0m\u001b[0mplot\u001b[0m\u001b[0;34m(\u001b[0m\u001b[0mN\u001b[0m\u001b[0;34m,\u001b[0m\u001b[0;34m(\u001b[0m\u001b[0mE\u001b[0m\u001b[0;34m*\u001b[0m\u001b[0mV\u001b[0m\u001b[0;34m/\u001b[0m\u001b[0mN\u001b[0m\u001b[0;34m)\u001b[0m\u001b[0;34m/\u001b[0m\u001b[0mnp\u001b[0m\u001b[0;34m.\u001b[0m\u001b[0mamax\u001b[0m\u001b[0;34m(\u001b[0m\u001b[0mE\u001b[0m\u001b[0;34m*\u001b[0m\u001b[0mV\u001b[0m\u001b[0;34m/\u001b[0m\u001b[0mN\u001b[0m\u001b[0;34m)\u001b[0m\u001b[0;34m,\u001b[0m\u001b[0mcolor\u001b[0m\u001b[0;34m=\u001b[0m\u001b[0;34m'navy'\u001b[0m\u001b[0;34m,\u001b[0m \u001b[0malpha\u001b[0m\u001b[0;34m=\u001b[0m\u001b[0;36m1\u001b[0m\u001b[0;34m,\u001b[0m \u001b[0mmarker\u001b[0m\u001b[0;34m=\u001b[0m\u001b[0;34m'o'\u001b[0m\u001b[0;34m,\u001b[0m \u001b[0mlinestyle\u001b[0m\u001b[0;34m=\u001b[0m\u001b[0;34m'-'\u001b[0m\u001b[0;34m,\u001b[0m\u001b[0mlinewidth\u001b[0m\u001b[0;34m=\u001b[0m\u001b[0;36m1.5\u001b[0m\u001b[0;34m,\u001b[0m \u001b[0mmarkersize\u001b[0m\u001b[0;34m=\u001b[0m\u001b[0;36m7\u001b[0m\u001b[0;34m)\u001b[0m\u001b[0;34m\u001b[0m\u001b[0;34m\u001b[0m\u001b[0m\n\u001b[1;32m      6\u001b[0m \u001b[0;31m# plt.plot(N,U/np.amax(U),color='black', alpha=1, marker='o', linestyle='-',linewidth=1.5, markersize=8)\u001b[0m\u001b[0;34m\u001b[0m\u001b[0;34m\u001b[0m\u001b[0;34m\u001b[0m\u001b[0m\n",
      "\u001b[0;31mNameError\u001b[0m: name 'D' is not defined"
     ]
    },
    {
     "data": {
      "text/plain": [
       "<Figure size 324x288 with 0 Axes>"
      ]
     },
     "metadata": {},
     "output_type": "display_data"
    }
   ],
   "source": [
    "plt.rcParams[\"figure.figsize\"] = (5,5)\n",
    "fig = plt.figure(figsize=(4.5,4))\n",
    "plt.tight_layout(pad=2.8, w_pad=3.5, h_pad=3.5)\n",
    "plt.plot(N,(D*V/N)/np.amax(D*V/N),color='red', alpha=1, marker='o', linestyle='-',linewidth=1.5, markersize=7)\n",
    "plt.plot(N,(E*V/N)/np.amax(E*V/N),color='navy', alpha=1, marker='o', linestyle='-',linewidth=1.5, markersize=7)\n",
    "# plt.plot(N,U/np.amax(U),color='black', alpha=1, marker='o', linestyle='-',linewidth=1.5, markersize=8)\n",
    "\n",
    "plt.ylabel('$\\mathit{\\Psi},D$ (-)',fontsize=12)\n",
    "plt.xlabel('$N_e$ (-)',fontsize=12)\n",
    "plt.show()\n",
    "# fig.savefig(f\"data.png\", format=\"png\", transparent=True)"
   ]
  },
  {
   "cell_type": "code",
   "execution_count": null,
   "id": "physical-committee",
   "metadata": {},
   "outputs": [],
   "source": [
    "plt.rcParams[\"figure.figsize\"] = (5,5)\n",
    "fig = plt.figure(figsize=(4.5,4))\n",
    "plt.tight_layout(pad=2.8, w_pad=3.5, h_pad=3.5)\n",
    "plt.loglog(N,U/np.amax(U),color='black', alpha=1, marker='o', linestyle='-',linewidth=1.5, markersize=8)\n",
    "# plt.loglog(N,U/np.amax(U),color='black', alpha=1, marker='o', linestyle='-',linewidth=1.5, markersize=8)\n",
    "\n",
    "plt.ylabel('$u$ (m)',fontsize=12)\n",
    "plt.xlabel('$N_e$ (-)',fontsize=12)\n",
    "plt.show()\n"
   ]
  },
  {
   "cell_type": "code",
   "execution_count": null,
   "id": "specified-interpretation",
   "metadata": {},
   "outputs": [],
   "source": []
  },
  {
   "cell_type": "code",
   "execution_count": null,
   "id": "helpful-modern",
   "metadata": {},
   "outputs": [],
   "source": [
    "100*DU"
   ]
  },
  {
   "cell_type": "code",
   "execution_count": null,
   "id": "available-marketing",
   "metadata": {},
   "outputs": [],
   "source": []
  }
 ],
 "metadata": {
  "kernelspec": {
   "display_name": "Python 3",
   "language": "python",
   "name": "python3"
  },
  "language_info": {
   "codemirror_mode": {
    "name": "ipython",
    "version": 3
   },
   "file_extension": ".py",
   "mimetype": "text/x-python",
   "name": "python",
   "nbconvert_exporter": "python",
   "pygments_lexer": "ipython3",
   "version": "3.8.5"
  }
 },
 "nbformat": 4,
 "nbformat_minor": 5
}

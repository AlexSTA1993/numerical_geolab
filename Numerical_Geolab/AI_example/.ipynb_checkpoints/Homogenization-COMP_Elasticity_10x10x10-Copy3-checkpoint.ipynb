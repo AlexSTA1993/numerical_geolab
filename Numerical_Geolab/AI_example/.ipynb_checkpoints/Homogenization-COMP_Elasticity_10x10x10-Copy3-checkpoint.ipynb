{
 "cells": [
  {
   "cell_type": "code",
   "execution_count": 77,
   "id": "indirect-party",
   "metadata": {},
   "outputs": [],
   "source": [
    "import matplotlib.pyplot as plt\n",
    "import numpy as np\n",
    "import pickle\n",
    "np.random.seed(1)"
   ]
  },
  {
   "cell_type": "code",
   "execution_count": null,
   "id": "liked-scroll",
   "metadata": {},
   "outputs": [],
   "source": []
  },
  {
   "cell_type": "code",
   "execution_count": 179,
   "id": "greater-provider",
   "metadata": {},
   "outputs": [],
   "source": [
    "file = './PUSHOVER_Macro-3D_L5x5x30'\n",
    "# file = './PUSHOVER_Macro-3D_L8x8x45'\n",
    "# file = './PUSHOVER_Macro-3D_L10x10x60'\n",
    "# file = './PUSHOVER_Macro-3D_L15x15x90'\n",
    "with open(file, 'rb') as f_obj:\n",
    "    data = pickle.load(f_obj)\n",
    "N1=5;N2=N1;N3=30.\n",
    "N=N1*N2*N3\n",
    "V=5*5*30\n",
    "usol,stress,svars,IC = data\n",
    "energy= svars[:,:,-3]\n",
    "dissipation= svars[:,:,-2]\n",
    "usol=np.reshape(usol,(usol.shape[0],-1,3))\n",
    "U0x=usol[:,:,0]\n",
    "U0y=usol[:,:,1]\n",
    "U0z=usol[:,:,2]\n",
    "Uy=np.zeros(U0y.shape[0])\n",
    "for i in range(U0y.shape[0]):\n",
    "    Uy[i] = np.amax(U0y[i])\n",
    "    \n",
    "E0=np.sum(energy,1)\n",
    "D0=np.sum(dissipation,1)\n",
    "IC_u = IC[:,:,-24:]\n",
    "IC_f = IC[:,:,:-24]\n",
    "IC_u = IC_u.reshape(IC_u.shape[0],IC_u.shape[1],IC_u.shape[2]//3,3)\n",
    "frc_svarsGP = IC_f[:,:N1*N2*6,:]\n",
    "E0=E0*V/(N*6)\n",
    "D0=D0*V/(N*6)\n",
    "E0,D0\n",
    "barnv = np.array([[-1.        ,  0.        ,  0.        ],\n",
    "       [ 0.        , -1.        ,  0.        ],\n",
    "       [-0.70710678, -0.70710678,  0.        ],\n",
    "       [-1.        ,  0.        ,  0.        ],\n",
    "       [ 0.        , -1.        ,  0.        ],\n",
    "       [ 0.70710678, -0.70710678,  0.        ],\n",
    "       [-1.        ,  0.        ,  0.        ],\n",
    "       [ 0.        , -1.        ,  0.        ],\n",
    "       [-0.70710678, -0.70710678,  0.        ],\n",
    "       [ 0.        ,  0.        ,  1.        ],\n",
    "       [ 0.        , -0.70710678,  0.70710678],\n",
    "       [-0.70710678,  0.        ,  0.70710678],\n",
    "       [-1.        ,  0.        ,  0.        ],\n",
    "       [ 0.        ,  0.        ,  1.        ],\n",
    "       [ 0.        ,  0.70710678,  0.70710678],\n",
    "       [-0.70710678,  0.        ,  0.70710678],\n",
    "       [ 0.        , -1.        ,  0.        ],\n",
    "       [ 0.70710678, -0.70710678,  0.        ],\n",
    "       [ 0.        ,  0.        ,  1.        ],\n",
    "       [ 0.        , -0.70710678,  0.70710678],\n",
    "       [ 0.70710678,  0.        ,  0.70710678],\n",
    "       [ 0.        ,  0.        ,  1.        ],\n",
    "       [ 0.        ,  0.70710678,  0.70710678],\n",
    "       [ 0.70710678,  0.        ,  0.70710678]])"
   ]
  },
  {
   "cell_type": "code",
   "execution_count": 180,
   "id": "chinese-herald",
   "metadata": {},
   "outputs": [],
   "source": [
    "frc = np.zeros((frc_svarsGP.shape[0],N1*N2*6,24,3))\n",
    "for t in range(frc_svarsGP.shape[0]):\n",
    "    for b in range(N1*N2*6):\n",
    "        for i in range(24):\n",
    "            frc[t,b,i,:]=(frc_svarsGP[t,b,i]*(barnv[i]))\n",
    "            \n",
    "fy = np.zeros((frc_svarsGP.shape[0],N1*N2*6,24))\n",
    "for t in range(frc_svarsGP.shape[0]):\n",
    "    for b in range(N1*N2*6):\n",
    "        for i in range(24):\n",
    "            fy[t,b,i]=np.dot(frc[t,b,i],np.array([0,1,0]))"
   ]
  },
  {
   "cell_type": "code",
   "execution_count": 181,
   "id": "heavy-waters",
   "metadata": {},
   "outputs": [],
   "source": [
    "Fy = np.sum(np.sum(fy,axis=2),axis=1)\n",
    "Ry = np.zeros(1+Fy.shape[0])\n",
    "Ry[1:]=Fy\n",
    "Sy = np.zeros(1+Uy.shape[0])\n",
    "Sy[1:]=Uy\n",
    "# Ry"
   ]
  },
  {
   "cell_type": "code",
   "execution_count": 182,
   "id": "dated-figure",
   "metadata": {},
   "outputs": [
    {
     "data": {
      "image/png": "[encoded data removed]",
      "text/plain": [
       "<Figure size 432x360 with 1 Axes>"
      ]
     },
     "metadata": {
      "needs_background": "light"
     },
     "output_type": "display_data"
    }
   ],
   "source": [
    "%matplotlib inline\n",
    "plt.rcParams[\"figure.figsize\"] = (6,5)\n",
    "# plt.plot(u,V,'k-',linewidth=2)\n",
    "# plt.plot(Uy[0]*0,Fy[0]*0*1000,color='k', alpha = 1, marker='o', linestyle='--',linewidth=1, markersize=6)\n",
    "plt.plot(Sy,Ry/(N*6),color='k', alpha = 1, marker='o', linestyle='--',linewidth=1, markersize=6)\n",
    "# plt.plot(np.array(0,,Fy[0]*0*1000,color='k', alpha = 1, marker='o', linestyle='--',linewidth=1, markersize=6)\n",
    "plt.grid(color='k', linestyle='--', linewidth=0.2)\n",
    "plt.title('Force-displacement curve of MDOF system')\n",
    "plt.ylabel('$Base$ $shear, V$');plt.xlabel('$Top$ $displacement, D_t$ $(m)$'); plt.show()"
   ]
  },
  {
   "cell_type": "code",
   "execution_count": 183,
   "id": "bearing-lingerie",
   "metadata": {},
   "outputs": [
    {
     "data": {
      "text/plain": [
       "(array([ 0.09352137,  0.37555589,  0.84612856,  1.50526691,  2.35300102,\n",
       "         3.3550439 ,  4.39454933,  5.54471925,  6.81164983,  8.15768024,\n",
       "         9.42331511, 10.63853221, 11.76790987, 12.74436271, 13.75279775,\n",
       "        14.78167173, 15.75885301, 16.70757439, 17.5326784 , 18.25866269]),\n",
       " array([7.38219330e-04, 7.75305643e-04, 8.23135215e-04, 8.84261612e-04,\n",
       "        9.58324744e-04, 3.40412698e-02, 1.68310854e-01, 2.12852622e-01,\n",
       "        2.48319850e-01, 3.15406761e-01, 5.26946465e-01, 6.91162812e-01,\n",
       "        8.75408834e-01, 1.10867054e+00, 1.14724425e+00, 1.19512731e+00,\n",
       "        1.30929789e+00, 1.39424701e+00, 1.56790708e+00, 1.70724912e+00]))"
      ]
     },
     "execution_count": 183,
     "metadata": {},
     "output_type": "execute_result"
    }
   ],
   "source": [
    "E0,D0"
   ]
  },
  {
   "cell_type": "code",
   "execution_count": 184,
   "id": "ideal-geneva",
   "metadata": {},
   "outputs": [],
   "source": [
    "# file = './PUSHOVER_Macro-3D_L5x5x30'\n",
    "file = './PUSHOVER_Macro-3D_L8x8x45'\n",
    "# file = './PUSHOVER_Macro-3D_L10x10x60'\n",
    "# file = './PUSHOVER_Macro-3D_L15x15x90'\n",
    "with open(file, 'rb') as f_obj:\n",
    "    data = pickle.load(f_obj)\n",
    "N1=8;N2=N1;N3=45\n",
    "N=N1*N2*N3\n",
    "V=5*5*30\n",
    "usol,stress,svars,IC = data\n",
    "energy= svars[:,:,-3]\n",
    "dissipation= svars[:,:,-2]\n",
    "usol=np.reshape(usol,(usol.shape[0],-1,3))\n",
    "U0x=usol[:,:,0]\n",
    "U0y=usol[:,:,1]\n",
    "U0z=usol[:,:,2]\n",
    "Uy=np.zeros(U0y.shape[0])\n",
    "for i in range(U0y.shape[0]):\n",
    "    Uy[i] = np.amax(U0y[i])\n",
    "    \n",
    "E0=np.sum(energy,1)\n",
    "D0=np.sum(dissipation,1)\n",
    "IC_u = IC[:,:,-24:]\n",
    "IC_f = IC[:,:,:-24]\n",
    "IC_u = IC_u.reshape(IC_u.shape[0],IC_u.shape[1],IC_u.shape[2]//3,3)\n",
    "frc_svarsGP = IC_f[:,:N1*N2*6,:]\n",
    "E0=E0*V/(N*6)\n",
    "D0=D0*V/(N*6)\n",
    "E0,D0\n",
    "barnv = np.array([[-1.        ,  0.        ,  0.        ],\n",
    "       [ 0.        , -1.        ,  0.        ],\n",
    "       [-0.70710678, -0.70710678,  0.        ],\n",
    "       [-1.        ,  0.        ,  0.        ],\n",
    "       [ 0.        , -1.        ,  0.        ],\n",
    "       [ 0.70710678, -0.70710678,  0.        ],\n",
    "       [-1.        ,  0.        ,  0.        ],\n",
    "       [ 0.        , -1.        ,  0.        ],\n",
    "       [-0.70710678, -0.70710678,  0.        ],\n",
    "       [ 0.        ,  0.        ,  1.        ],\n",
    "       [ 0.        , -0.70710678,  0.70710678],\n",
    "       [-0.70710678,  0.        ,  0.70710678],\n",
    "       [-1.        ,  0.        ,  0.        ],\n",
    "       [ 0.        ,  0.        ,  1.        ],\n",
    "       [ 0.        ,  0.70710678,  0.70710678],\n",
    "       [-0.70710678,  0.        ,  0.70710678],\n",
    "       [ 0.        , -1.        ,  0.        ],\n",
    "       [ 0.70710678, -0.70710678,  0.        ],\n",
    "       [ 0.        ,  0.        ,  1.        ],\n",
    "       [ 0.        , -0.70710678,  0.70710678],\n",
    "       [ 0.70710678,  0.        ,  0.70710678],\n",
    "       [ 0.        ,  0.        ,  1.        ],\n",
    "       [ 0.        ,  0.70710678,  0.70710678],\n",
    "       [ 0.70710678,  0.        ,  0.70710678]])"
   ]
  },
  {
   "cell_type": "code",
   "execution_count": 185,
   "id": "delayed-extraction",
   "metadata": {},
   "outputs": [],
   "source": [
    "frc = np.zeros((frc_svarsGP.shape[0],N1*N2*6,24,3))\n",
    "for t in range(frc_svarsGP.shape[0]):\n",
    "    for b in range(N1*N2*6):\n",
    "        for i in range(24):\n",
    "            frc[t,b,i,:]=(frc_svarsGP[t,b,i]*(barnv[i]))\n",
    "            \n",
    "fy = np.zeros((frc_svarsGP.shape[0],N1*N2*6,24))\n",
    "for t in range(frc_svarsGP.shape[0]):\n",
    "    for b in range(N1*N2*6):\n",
    "        for i in range(24):\n",
    "            fy[t,b,i]=np.dot(frc[t,b,i],np.array([0,1,0]))\n",
    "            \n",
    "Fy = np.sum(np.sum(fy,axis=2),axis=1)\n",
    "Ry = np.zeros(1+Fy.shape[0])\n",
    "Ry[1:]=Fy\n",
    "Sy = np.zeros(1+Uy.shape[0])\n",
    "Sy[1:]=Uy\n",
    "# Ry"
   ]
  },
  {
   "cell_type": "code",
   "execution_count": 186,
   "id": "elect-tower",
   "metadata": {},
   "outputs": [
    {
     "data": {
      "image/png": "[encoded data removed]",
      "text/plain": [
       "<Figure size 432x360 with 1 Axes>"
      ]
     },
     "metadata": {
      "needs_background": "light"
     },
     "output_type": "display_data"
    }
   ],
   "source": [
    "%matplotlib inline\n",
    "plt.rcParams[\"figure.figsize\"] = (6,5)\n",
    "# plt.plot(u,V,'k-',linewidth=2)\n",
    "# plt.plot(Uy[0]*0,Fy[0]*0*1000,color='k', alpha = 1, marker='o', linestyle='--',linewidth=1, markersize=6)\n",
    "plt.plot(Sy,Ry/(N*6),color='k', alpha = 1, marker='o', linestyle='--',linewidth=1, markersize=6)\n",
    "# plt.plot(np.array(0,,Fy[0]*0*1000,color='k', alpha = 1, marker='o', linestyle='--',linewidth=1, markersize=6)\n",
    "plt.grid(color='k', linestyle='--', linewidth=0.2)\n",
    "plt.title('Force-displacement curve of MDOF system')\n",
    "plt.ylabel('$Base$ $shear, V$');plt.xlabel('$Top$ $displacement, D_t$ $(m)$'); plt.show()"
   ]
  },
  {
   "cell_type": "code",
   "execution_count": 187,
   "id": "exact-warren",
   "metadata": {},
   "outputs": [
    {
     "data": {
      "text/plain": [
       "(array([ 0.08781566,  0.35268772,  0.79464017,  1.41369955,  2.20936619,\n",
       "         3.11980302,  4.15198978,  5.32061268,  6.58086074,  7.81710116,\n",
       "         9.01730686, 10.22295031, 11.46459351, 12.68029498, 13.78638252,\n",
       "        14.75131141, 15.60111141, 16.42584548, 17.16104034, 17.82544376]),\n",
       " array([7.24845747e-04, 7.72079794e-04, 8.26864135e-04, 8.97109411e-04,\n",
       "        1.49514445e-03, 6.01364508e-02, 9.91513083e-02, 1.20996309e-01,\n",
       "        1.81700911e-01, 3.46089493e-01, 5.03923934e-01, 6.07859020e-01,\n",
       "        6.73955963e-01, 7.95073789e-01, 9.88077368e-01, 1.19879197e+00,\n",
       "        1.36982295e+00, 1.44424443e+00, 1.57728010e+00, 1.68480125e+00]))"
      ]
     },
     "execution_count": 187,
     "metadata": {},
     "output_type": "execute_result"
    }
   ],
   "source": [
    "E0,D0"
   ]
  },
  {
   "cell_type": "code",
   "execution_count": 188,
   "id": "written-valentine",
   "metadata": {},
   "outputs": [],
   "source": [
    "# file = './PUSHOVER_Macro-3D_L5x5x30'\n",
    "# file = './PUSHOVER_Macro-3D_L8x8x45'\n",
    "file = './PUSHOVER_Macro-3D_L10x10x60'\n",
    "# file = './PUSHOVER_Macro-3D_L15x15x90'\n",
    "with open(file, 'rb') as f_obj:\n",
    "    data = pickle.load(f_obj)\n",
    "N1=10;N2=N1;N3=60.\n",
    "N=N1*N2*N3\n",
    "V=5*5*30\n",
    "usol,stress,svars,IC = data\n",
    "energy= svars[:,:,-3]\n",
    "dissipation= svars[:,:,-2]\n",
    "usol=np.reshape(usol,(usol.shape[0],-1,3))\n",
    "U0x=usol[:,:,0]\n",
    "U0y=usol[:,:,1]\n",
    "U0z=usol[:,:,2]\n",
    "Uy=np.zeros(U0y.shape[0])\n",
    "for i in range(U0y.shape[0]):\n",
    "    Uy[i] = np.amax(U0y[i])\n",
    "    \n",
    "E0=np.sum(energy,1)\n",
    "D0=np.sum(dissipation,1)\n",
    "IC_u = IC[:,:,-24:]\n",
    "IC_f = IC[:,:,:-24]\n",
    "IC_u = IC_u.reshape(IC_u.shape[0],IC_u.shape[1],IC_u.shape[2]//3,3)\n",
    "frc_svarsGP = IC_f[:,:N1*N2*6,:]\n",
    "E0=E0*V/(N*6)\n",
    "D0=D0*V/(N*6)\n",
    "E0,D0\n",
    "barnv = np.array([[-1.        ,  0.        ,  0.        ],\n",
    "       [ 0.        , -1.        ,  0.        ],\n",
    "       [-0.70710678, -0.70710678,  0.        ],\n",
    "       [-1.        ,  0.        ,  0.        ],\n",
    "       [ 0.        , -1.        ,  0.        ],\n",
    "       [ 0.70710678, -0.70710678,  0.        ],\n",
    "       [-1.        ,  0.        ,  0.        ],\n",
    "       [ 0.        , -1.        ,  0.        ],\n",
    "       [-0.70710678, -0.70710678,  0.        ],\n",
    "       [ 0.        ,  0.        ,  1.        ],\n",
    "       [ 0.        , -0.70710678,  0.70710678],\n",
    "       [-0.70710678,  0.        ,  0.70710678],\n",
    "       [-1.        ,  0.        ,  0.        ],\n",
    "       [ 0.        ,  0.        ,  1.        ],\n",
    "       [ 0.        ,  0.70710678,  0.70710678],\n",
    "       [-0.70710678,  0.        ,  0.70710678],\n",
    "       [ 0.        , -1.        ,  0.        ],\n",
    "       [ 0.70710678, -0.70710678,  0.        ],\n",
    "       [ 0.        ,  0.        ,  1.        ],\n",
    "       [ 0.        , -0.70710678,  0.70710678],\n",
    "       [ 0.70710678,  0.        ,  0.70710678],\n",
    "       [ 0.        ,  0.        ,  1.        ],\n",
    "       [ 0.        ,  0.70710678,  0.70710678],\n",
    "       [ 0.70710678,  0.        ,  0.70710678]])"
   ]
  },
  {
   "cell_type": "code",
   "execution_count": 189,
   "id": "fifty-preliminary",
   "metadata": {},
   "outputs": [],
   "source": [
    "frc = np.zeros((frc_svarsGP.shape[0],N1*N2*6,24,3))\n",
    "for t in range(frc_svarsGP.shape[0]):\n",
    "    for b in range(N1*N2*6):\n",
    "        for i in range(24):\n",
    "            frc[t,b,i,:]=(frc_svarsGP[t,b,i]*(barnv[i]))\n",
    "            \n",
    "fy = np.zeros((frc_svarsGP.shape[0],N1*N2*6,24))\n",
    "for t in range(frc_svarsGP.shape[0]):\n",
    "    for b in range(N1*N2*6):\n",
    "        for i in range(24):\n",
    "            fy[t,b,i]=np.dot(frc[t,b,i],np.array([0,1,0]))\n",
    "            \n",
    "Fy = np.sum(np.sum(fy,axis=2),axis=1)\n",
    "Ry = np.zeros(1+Fy.shape[0])\n",
    "Ry[1:]=Fy\n",
    "Sy = np.zeros(1+Uy.shape[0])\n",
    "Sy[1:]=Uy\n",
    "# Ry"
   ]
  },
  {
   "cell_type": "code",
   "execution_count": 190,
   "id": "removed-serve",
   "metadata": {},
   "outputs": [
    {
     "data": {
      "image/png": "[encoded data removed]",
      "text/plain": [
       "<Figure size 432x360 with 1 Axes>"
      ]
     },
     "metadata": {
      "needs_background": "light"
     },
     "output_type": "display_data"
    }
   ],
   "source": [
    "%matplotlib inline\n",
    "plt.rcParams[\"figure.figsize\"] = (6,5)\n",
    "# plt.plot(u,V,'k-',linewidth=2)\n",
    "# plt.plot(Uy[0]*0,Fy[0]*0*1000,color='k', alpha = 1, marker='o', linestyle='--',linewidth=1, markersize=6)\n",
    "plt.plot(Sy,Ry/(N*6),color='k', alpha = 1, marker='o', linestyle='--',linewidth=1, markersize=6)\n",
    "# plt.plot(np.array(0,,Fy[0]*0*1000,color='k', alpha = 1, marker='o', linestyle='--',linewidth=1, markersize=6)\n",
    "plt.grid(color='k', linestyle='--', linewidth=0.2)\n",
    "plt.title('Force-displacement curve of MDOF system')\n",
    "plt.ylabel('$Base$ $shear, V$');plt.xlabel('$Top$ $displacement, D_t$ $(m)$'); plt.show()"
   ]
  },
  {
   "cell_type": "code",
   "execution_count": 191,
   "id": "identified-heath",
   "metadata": {},
   "outputs": [
    {
     "data": {
      "text/plain": [
       "(array([ 0.0860604 ,  0.34565241,  0.77879986,  1.38552916,  2.16461026,\n",
       "         3.05526743,  4.09933747,  5.26065143,  6.47251979,  7.67311369,\n",
       "         8.9351002 , 10.21708668, 11.43038906, 12.58943377, 13.6704869 ,\n",
       "        14.63632653, 15.48425967, 16.26948341, 16.99614945, 17.70014335]),\n",
       " array([7.21020839e-04, 7.71180443e-04, 8.29442974e-04, 9.02267469e-04,\n",
       "        2.19140622e-03, 5.87947099e-02, 6.66981757e-02, 1.07703832e-01,\n",
       "        2.07336339e-01, 3.52293208e-01, 4.14690082e-01, 5.10787349e-01,\n",
       "        6.84007019e-01, 8.29948754e-01, 9.87888920e-01, 1.17169139e+00,\n",
       "        1.34631435e+00, 1.45684487e+00, 1.55724757e+00, 1.61746676e+00]))"
      ]
     },
     "execution_count": 191,
     "metadata": {},
     "output_type": "execute_result"
    }
   ],
   "source": [
    "E0,D0"
   ]
  },
  {
   "cell_type": "code",
   "execution_count": 192,
   "id": "metric-rates",
   "metadata": {},
   "outputs": [],
   "source": [
    "# file = './PUSHOVER_Macro-3D_L5x5x30'\n",
    "# file = './PUSHOVER_Macro-3D_L8x8x45'\n",
    "file = './PUSHOVER_Macro-3D_L10x10x60'\n",
    "file = './PUSHOVER_Macro-3D_L15x15x90'\n",
    "with open(file, 'rb') as f_obj:\n",
    "    data = pickle.load(f_obj)\n",
    "N1=15;N2=N1;N3=90.\n",
    "N=N1*N2*N3\n",
    "V=5*5*30\n",
    "usol,stress,svars,IC = data\n",
    "energy= svars[:,:,-3]\n",
    "dissipation= svars[:,:,-2]\n",
    "usol=np.reshape(usol,(usol.shape[0],-1,3))\n",
    "U0x=usol[:,:,0]\n",
    "U0y=usol[:,:,1]\n",
    "U0z=usol[:,:,2]\n",
    "Uy=np.zeros(U0y.shape[0])\n",
    "for i in range(U0y.shape[0]):\n",
    "    Uy[i] = np.amax(U0y[i])\n",
    "    \n",
    "E0=np.sum(energy,1)\n",
    "D0=np.sum(dissipation,1)\n",
    "IC_u = IC[:,:,-24:]\n",
    "IC_f = IC[:,:,:-24]\n",
    "IC_u = IC_u.reshape(IC_u.shape[0],IC_u.shape[1],IC_u.shape[2]//3,3)\n",
    "frc_svarsGP = IC_f[:,:N1*N2*6,:]\n",
    "E0=E0*V/(N*6)\n",
    "D0=D0*V/(N*6)\n",
    "E0,D0\n",
    "barnv = np.array([[-1.        ,  0.        ,  0.        ],\n",
    "       [ 0.        , -1.        ,  0.        ],\n",
    "       [-0.70710678, -0.70710678,  0.        ],\n",
    "       [-1.        ,  0.        ,  0.        ],\n",
    "       [ 0.        , -1.        ,  0.        ],\n",
    "       [ 0.70710678, -0.70710678,  0.        ],\n",
    "       [-1.        ,  0.        ,  0.        ],\n",
    "       [ 0.        , -1.        ,  0.        ],\n",
    "       [-0.70710678, -0.70710678,  0.        ],\n",
    "       [ 0.        ,  0.        ,  1.        ],\n",
    "       [ 0.        , -0.70710678,  0.70710678],\n",
    "       [-0.70710678,  0.        ,  0.70710678],\n",
    "       [-1.        ,  0.        ,  0.        ],\n",
    "       [ 0.        ,  0.        ,  1.        ],\n",
    "       [ 0.        ,  0.70710678,  0.70710678],\n",
    "       [-0.70710678,  0.        ,  0.70710678],\n",
    "       [ 0.        , -1.        ,  0.        ],\n",
    "       [ 0.70710678, -0.70710678,  0.        ],\n",
    "       [ 0.        ,  0.        ,  1.        ],\n",
    "       [ 0.        , -0.70710678,  0.70710678],\n",
    "       [ 0.70710678,  0.        ,  0.70710678],\n",
    "       [ 0.        ,  0.        ,  1.        ],\n",
    "       [ 0.        ,  0.70710678,  0.70710678],\n",
    "       [ 0.70710678,  0.        ,  0.70710678]])"
   ]
  },
  {
   "cell_type": "code",
   "execution_count": 193,
   "id": "comparable-cliff",
   "metadata": {},
   "outputs": [],
   "source": [
    "frc = np.zeros((frc_svarsGP.shape[0],N1*N2*6,24,3))\n",
    "for t in range(frc_svarsGP.shape[0]):\n",
    "    for b in range(N1*N2*6):\n",
    "        for i in range(24):\n",
    "            frc[t,b,i,:]=(frc_svarsGP[t,b,i]*(barnv[i]))\n",
    "            \n",
    "fy = np.zeros((frc_svarsGP.shape[0],N1*N2*6,24))\n",
    "for t in range(frc_svarsGP.shape[0]):\n",
    "    for b in range(N1*N2*6):\n",
    "        for i in range(24):\n",
    "            fy[t,b,i]=np.dot(frc[t,b,i],np.array([0,1,0]))\n",
    "            \n",
    "Fy = np.sum(np.sum(fy,axis=2),axis=1)\n",
    "Ry = np.zeros(1+Fy.shape[0])\n",
    "Ry[1:]=Fy\n",
    "Sy = np.zeros(1+Uy.shape[0])\n",
    "Sy[1:]=Uy\n",
    "# Ry"
   ]
  },
  {
   "cell_type": "code",
   "execution_count": 194,
   "id": "bronze-wonder",
   "metadata": {},
   "outputs": [
    {
     "data": {
      "image/png": "[encoded data removed]",
      "text/plain": [
       "<Figure size 432x360 with 1 Axes>"
      ]
     },
     "metadata": {
      "needs_background": "light"
     },
     "output_type": "display_data"
    }
   ],
   "source": [
    "%matplotlib inline\n",
    "plt.rcParams[\"figure.figsize\"] = (6,5)\n",
    "# plt.plot(u,V,'k-',linewidth=2)\n",
    "# plt.plot(Uy[0]*0,Fy[0]*0*1000,color='k', alpha = 1, marker='o', linestyle='--',linewidth=1, markersize=6)\n",
    "plt.plot(Sy,Ry/(N*6),color='k', alpha = 1, marker='o', linestyle='--',linewidth=1, markersize=6)\n",
    "# plt.plot(np.array(0,,Fy[0]*0*1000,color='k', alpha = 1, marker='o', linestyle='--',linewidth=1, markersize=6)\n",
    "plt.grid(color='k', linestyle='--', linewidth=0.2)\n",
    "plt.title('Force-displacement curve of MDOF system')\n",
    "plt.ylabel('$Base$ $shear, V$');plt.xlabel('$Top$ $displacement, D_t$ $(m)$'); plt.show()"
   ]
  },
  {
   "cell_type": "code",
   "execution_count": 178,
   "id": "egyptian-cookbook",
   "metadata": {},
   "outputs": [
    {
     "data": {
      "text/plain": [
       "(array([ 0.08436603,  0.33886054,  0.76350733,  1.35828251,  2.11167892,\n",
       "         3.00917196,  4.04965641,  5.17954178,  6.37704106,  7.62505131,\n",
       "         8.89469137, 10.16636962, 11.35893068, 12.49629126, 13.55825216,\n",
       "        14.52875985, 15.42922592, 16.25528364, 16.98391592, 17.65896062]),\n",
       " array([7.17169345e-04, 7.70023193e-04, 8.30877100e-04, 9.54519251e-04,\n",
       "        1.20836997e-02, 3.30415726e-02, 5.24897065e-02, 1.19280668e-01,\n",
       "        1.97197271e-01, 2.83756653e-01, 3.88187814e-01, 5.02359100e-01,\n",
       "        6.84625512e-01, 8.29437573e-01, 9.83822132e-01, 1.14279957e+00,\n",
       "        1.27139992e+00, 1.39680638e+00, 1.53716954e+00, 1.62763752e+00]))"
      ]
     },
     "execution_count": 178,
     "metadata": {},
     "output_type": "execute_result"
    }
   ],
   "source": [
    "E0,D0"
   ]
  },
  {
   "cell_type": "code",
   "execution_count": null,
   "id": "dental-chuck",
   "metadata": {},
   "outputs": [],
   "source": []
  },
  {
   "cell_type": "code",
   "execution_count": null,
   "id": "preceding-assets",
   "metadata": {},
   "outputs": [],
   "source": []
  },
  {
   "cell_type": "code",
   "execution_count": null,
   "id": "communist-sapphire",
   "metadata": {},
   "outputs": [],
   "source": []
  },
  {
   "cell_type": "code",
   "execution_count": null,
   "id": "applicable-gothic",
   "metadata": {},
   "outputs": [],
   "source": []
  },
  {
   "cell_type": "code",
   "execution_count": null,
   "id": "superior-transcript",
   "metadata": {},
   "outputs": [],
   "source": []
  },
  {
   "cell_type": "code",
   "execution_count": null,
   "id": "arbitrary-dispute",
   "metadata": {},
   "outputs": [],
   "source": []
  },
  {
   "cell_type": "code",
   "execution_count": null,
   "id": "commercial-degree",
   "metadata": {},
   "outputs": [],
   "source": []
  },
  {
   "cell_type": "code",
   "execution_count": null,
   "id": "involved-jewelry",
   "metadata": {},
   "outputs": [],
   "source": []
  },
  {
   "cell_type": "code",
   "execution_count": null,
   "id": "loved-resort",
   "metadata": {},
   "outputs": [],
   "source": []
  },
  {
   "cell_type": "code",
   "execution_count": null,
   "id": "balanced-afternoon",
   "metadata": {},
   "outputs": [],
   "source": []
  },
  {
   "cell_type": "code",
   "execution_count": null,
   "id": "intermediate-desktop",
   "metadata": {},
   "outputs": [],
   "source": []
  },
  {
   "cell_type": "code",
   "execution_count": null,
   "id": "liable-burton",
   "metadata": {},
   "outputs": [],
   "source": []
  },
  {
   "cell_type": "code",
   "execution_count": null,
   "id": "ranging-admission",
   "metadata": {},
   "outputs": [],
   "source": []
  },
  {
   "cell_type": "code",
   "execution_count": 19,
   "id": "blind-throw",
   "metadata": {},
   "outputs": [],
   "source": [
    "e = np.array([1/1,1/2,1/4,1/8,1/12,1/16,1/20])\n",
    "e_M = np.array([1/1,1/2,1/4,1/8,1/12,1/16,1/20])\n",
    "E_M = np.ones((e_M.shape[0]))*E0\n",
    "IC_FM= np.ones((IC_Fm.shape[0],IC_Fm.shape[1]))*IC_F\n",
    "U_M = np.zeros((e_M.shape[0],2))\n",
    "U_0 = np.ones((e_M.shape[0]))*U0x\n",
    "U_M[:,0] = U0x*np.ones((U_M.shape[0]))+e_M*U1y\n",
    "U_M[:,1] = U0y*np.ones((U_M.shape[0]))+e_M*U1y"
   ]
  },
  {
   "cell_type": "code",
   "execution_count": 20,
   "id": "following-medium",
   "metadata": {},
   "outputs": [],
   "source": [
    "U_m[-1] = U_m[-2]+0.0002622199999999797\n",
    "E_m[-1] = E_m[-2]+0.02959818999999797"
   ]
  },
  {
   "cell_type": "code",
   "execution_count": 21,
   "id": "pharmaceutical-collective",
   "metadata": {},
   "outputs": [
    {
     "data": {
      "text/plain": [
       "0.06271954500000021"
      ]
     },
     "execution_count": 21,
     "metadata": {},
     "output_type": "execute_result"
    }
   ],
   "source": [
    "(47.11722328-46.99178419)/2"
   ]
  },
  {
   "cell_type": "code",
   "execution_count": 22,
   "id": "forward-decrease",
   "metadata": {},
   "outputs": [
    {
     "data": {
      "text/plain": [
       "0.02959818999999797"
      ]
     },
     "execution_count": 22,
     "metadata": {},
     "output_type": "execute_result"
    }
   ],
   "source": [
    "(46.99178419-46.93258781)/2"
   ]
  },
  {
   "cell_type": "code",
   "execution_count": 23,
   "id": "amazing-composition",
   "metadata": {},
   "outputs": [],
   "source": [
    "import matplotlib.pyplot as plt\n",
    "from matplotlib.ticker import (MultipleLocator, FormatStrFormatter, AutoMinorLocator)\n",
    "import matplotlib as mpl\n",
    "mpl.rcParams['axes.unicode_minus']=False\n",
    "plt.rcParams[\"figure.figsize\"] = (4,3)\n",
    "import matplotlib.pyplot as plt\n",
    "# # plt.rcParams[\"font.family\"] = \"Times New Roman\"\n",
    "font = {'size'   : 13}\n",
    "from matplotlib import rc\n",
    "plt.rc('font', **font)\n",
    "ftsz_leg = 9\n",
    "ftsz = 12\n",
    "mkSZ = 4\n",
    "mkSZs = 0\n",
    "lnWDT = 0.25\n",
    "lnWDTs = 6\n",
    "from matplotlib import rc\n",
    "rc('font',**{'family':'sans-serif','sans-serif':['Times New Roman']})\n",
    "## for Palatino and other serif fonts use:\n",
    "#rc('font',**{'family':'serif','serif':['Palatino']})\n",
    "rc('text', usetex=True)\n",
    "\n",
    "import numpy as np\n",
    "import matplotlib.pyplot as plt"
   ]
  },
  {
   "cell_type": "code",
   "execution_count": 24,
   "id": "architectural-weather",
   "metadata": {},
   "outputs": [
    {
     "data": {
      "text/plain": [
       "52.34833102704239"
      ]
     },
     "execution_count": 24,
     "metadata": {},
     "output_type": "execute_result"
    }
   ],
   "source": [
    "E_m[0]+1"
   ]
  },
  {
   "cell_type": "code",
   "execution_count": null,
   "id": "spanish-contrary",
   "metadata": {},
   "outputs": [],
   "source": []
  },
  {
   "cell_type": "code",
   "execution_count": 25,
   "id": "adverse-sympathy",
   "metadata": {},
   "outputs": [
    {
     "data": {
      "image/png": "[encoded data removed]",
      "text/plain": [
       "<Figure size 288x151.2 with 1 Axes>"
      ]
     },
     "metadata": {
      "needs_background": "light"
     },
     "output_type": "display_data"
    },
    {
     "data": {
      "image/png": "[encoded data removed]",
      "text/plain": [
       "<Figure size 288x151.2 with 1 Axes>"
      ]
     },
     "metadata": {
      "needs_background": "light"
     },
     "output_type": "display_data"
    }
   ],
   "source": [
    "cE = 8.96; cD = 9.0; A = np.pi*(1e-2)**2; cP=1000\n",
    "plt.rc('text', usetex=True)\n",
    "plt.rc('font', family='serif')\n",
    "fig = plt.figure(figsize=(4,2.1))\n",
    "# (ax11), (ax12) = fig.subplots(1,2)\n",
    "(ax11) = fig.subplots(1,1)\n",
    "plt.tight_layout(pad=2.5, w_pad=3.5, h_pad=3.5)\n",
    "ax11.margins(x=0.1, y = 0.2)\n",
    "ax11.xaxis.set_minor_locator(AutoMinorLocator())\n",
    "ax11.yaxis.set_minor_locator(AutoMinorLocator())\n",
    "ax11.plot(1/e,E_m*cE*A, color='darkorange', marker=\"s\",markersize=mkSZ,linewidth=lnWDT,label=\"$\\mathit{\\Psi}^{\\epsilon}_{tot}$\")\n",
    "\n",
    "ax11.plot(1/e_M,E_M*cE*A, color='black', linestyle='--', marker=\"^\",markersize=0*mkSZ,linewidth=lnWDT,label=\"$\\mathit{\\Psi}^{(1)}_{tot}$\")\n",
    "\n",
    "ax11.set_xlabel('$1/\\epsilon$')\n",
    "ax11.set_ylabel('$\\mathit{\\Psi}$ (kNm)')\n",
    "# ax11.ticklabel_format(axis=\"x\", style=\"sci\", scilimits=(3,3))\n",
    "# ax11.ticklabel_format(axis=\"y\", style=\"sci\", scilimits=(0,0))\n",
    "ax11.legend(loc='best',fontsize=ftsz_leg)\n",
    "ax11.grid(True, which='major', linewidth=0.3, color='lightgray')\n",
    "ax11.grid(True, which='minor', linewidth=0.3, alpha=0.2, color='lightgray')\n",
    "# ax11.set_ylim([0.605,0.617])\n",
    "fig.savefig(f\"UNI_PL_ene.pdf\", format=\"pdf\", transparent=True)\n",
    "\n",
    "plt.rc('text', usetex=True)\n",
    "plt.rc('font', family='serif')\n",
    "fig = plt.figure(figsize=(4,2.1))\n",
    "# (ax11), (ax12) = fig.subplots(1,2)\n",
    "(ax11) = fig.subplots(1,1)\n",
    "plt.tight_layout(pad=2.5, w_pad=3.5, h_pad=3.5)\n",
    "ax11.margins(x=0.1, y = 0.2)\n",
    "ax11.xaxis.set_minor_locator(AutoMinorLocator())\n",
    "ax11.yaxis.set_minor_locator(AutoMinorLocator())\n",
    "ax11.plot(1/e_M,U_0, color='black', alpha=0.15, marker=\"s\",linestyle='-',markersize=mkSZ*0,linewidth=8*lnWDT,label=\"$u^{(0)}$\")\n",
    "ax11.plot(1/e,U_m[:,0], color='mediumblue', marker=\"s\",markersize=mkSZ,linewidth=lnWDT,label=\"$u^{\\epsilon}$\")\n",
    "ax11.plot(1/e_M,U_M[:,0], color='black', alpha=1, linestyle='--',marker=\"^\",markersize=mkSZ,linewidth=lnWDT,label=\"$u^{(0)}+\\epsilon u^{(1)}$\")\n",
    "# # ax12.plot(1/e,Ue, color='red', alpha=1,marker=\"o\",markersize=mkSZ,linewidth=lnWDT,label=\"$u^{\\epsilon}$\")\n",
    "ax11.set_xlabel('$1/\\epsilon$')\n",
    "ax11.set_ylabel('$u$ (cm)')\n",
    "# ax12.ticklabel_format(axis=\"x\", style=\"sci\", scilimits=(3,3))\n",
    "# ax12.ticklabel_format(axis=\"y\", style=\"sci\", scilimits=(0,0))\n",
    "ax11.legend(loc='best',fontsize=ftsz_leg)\n",
    "ax11.grid(True, which='major', linewidth=0.3, color='lightgray')\n",
    "ax11.grid(True, which='minor', linewidth=0.3, alpha=0.2, color='lightgray')\n",
    "# ax11.set_ylim([0.3,0.43])\n",
    "\n",
    "fig.savefig(f\"UNI_PL_dis.pdf\", format=\"pdf\", transparent=True)\n"
   ]
  },
  {
   "cell_type": "code",
   "execution_count": 35,
   "id": "blessed-flight",
   "metadata": {},
   "outputs": [
    {
     "data": {
      "image/png": "[encoded data removed]",
      "text/plain": [
       "<Figure size 1152x151.2 with 4 Axes>"
      ]
     },
     "metadata": {
      "needs_background": "light"
     },
     "output_type": "display_data"
    }
   ],
   "source": [
    "plt.rc('text', usetex=True)\n",
    "plt.rc('font', family='serif')\n",
    "fig = plt.figure(figsize=(4*4,2.1))\n",
    "(ax11), (ax12) , (ax13), (ax14) = fig.subplots(1,4)\n",
    "# (ax11) = fig.subplots(1,1)\n",
    "plt.tight_layout(pad=2.5, w_pad=3.5, h_pad=3.5)\n",
    "ax11.margins(x=0.1, y = 0.2)\n",
    "ax11.xaxis.set_minor_locator(AutoMinorLocator())\n",
    "ax11.yaxis.set_minor_locator(AutoMinorLocator())\n",
    "\n",
    "ax11.plot(1/e,IC_Fm[:,-1]*cP, color='black', marker=\"s\",markersize=mkSZ,linewidth=lnWDT,label=\"$\\sigma^{\\epsilon}$\")\n",
    "ax11.plot(1/e_M,IC_FM[:,-1]*cP, color='black', alpha=0.15, marker=\"s\",linestyle='-',markersize=mkSZ*0,linewidth=8*lnWDT,label=\"$\\sigma^{(1)}$\")\n",
    "\n",
    "ax11.set_xlabel('$1/\\epsilon$')\n",
    "ax11.set_ylabel('$\\sigma$ (MPa)')\n",
    "ax11.legend(loc='best',fontsize=ftsz_leg)\n",
    "ax11.grid(True, which='major', linewidth=0.3, color='lightgray')\n",
    "ax11.grid(True, which='minor', linewidth=0.3, alpha=0.2, color='lightgray')\n",
    "\n",
    "ax12.margins(x=0.1, y = 0.2)\n",
    "ax12.xaxis.set_minor_locator(AutoMinorLocator())\n",
    "ax12.yaxis.set_minor_locator(AutoMinorLocator())\n",
    "\n",
    "# ax12.plot(1/e,IC_Fm[:,1], color='red', marker=\"o\",markersize=mkSZ,linewidth=lnWDT,label=\"$\\mathit{\\Psi}^{\\epsilon}$\")\n",
    "# ax12.plot(1/e_M,IC_FM[:,1], color='mediumblue', marker=\"o\",markersize=mkSZ,linewidth=lnWDT,label=\"$\\mathit{\\Psi}^{(1)}$\")\n",
    "ax12.plot(1/e,IC_Fm[:,2]*cP, color='black', marker=\"s\",markersize=mkSZ,linewidth=lnWDT,label=\"$\\sigma^{\\epsilon}$\")\n",
    "ax12.plot(1/e_M,IC_FM[:,2]*cP, color='black', alpha=0.15, marker=\"s\",linestyle='-',markersize=mkSZ*0,linewidth=8*lnWDT,label=\"$\\sigma^{(1)}$\")\n",
    "\n",
    "ax12.set_xlabel('$1/\\epsilon$')\n",
    "ax12.set_ylabel('$\\sigma$ (MPa)')\n",
    "ax12.legend(loc='best',fontsize=ftsz_leg)\n",
    "ax12.grid(True, which='major', linewidth=0.3, color='lightgray')\n",
    "ax12.grid(True, which='minor', linewidth=0.3, alpha=0.2, color='lightgray')\n",
    "\n",
    "ax13.margins(x=0.1, y = 0.2)\n",
    "ax13.xaxis.set_minor_locator(AutoMinorLocator())\n",
    "ax13.yaxis.set_minor_locator(AutoMinorLocator())\n",
    "\n",
    "ax13.plot(1/e,IC_Fm[:,-4]*cP, color='black', marker=\"s\",markersize=mkSZ,linewidth=lnWDT,label=\"$\\sigma^{\\epsilon}$\")\n",
    "ax13.plot(1/e_M,IC_FM[:,-4]*cP, color='black', alpha=0.15, marker=\"s\",linestyle='-',markersize=mkSZ*0,linewidth=8*lnWDT,label=\"$\\sigma^{(1)}$\")\n",
    "\n",
    "ax13.set_xlabel('$1/\\epsilon$')\n",
    "ax13.set_ylabel('$\\sigma$ (MPa)')\n",
    "ax13.legend(loc='best',fontsize=ftsz_leg)\n",
    "ax13.grid(True, which='major', linewidth=0.3, color='lightgray')\n",
    "ax13.grid(True, which='minor', linewidth=0.3, alpha=0.2, color='lightgray')\n",
    "\n",
    "ax14.margins(x=0.1, y = 0.6)\n",
    "ax14.xaxis.set_minor_locator(AutoMinorLocator())\n",
    "ax14.yaxis.set_minor_locator(AutoMinorLocator())\n",
    "ax14.plot(1/e,IC_Fm[:,0]*cP, color='black', marker=\"s\",markersize=mkSZ,linewidth=lnWDT,label=\"$\\sigma^{\\epsilon}$\")\n",
    "ax14.plot(1/e_M,IC_FM[:,0]*cP, color='black', alpha=0.15, marker=\"s\",linestyle='-',markersize=mkSZ*0,linewidth=8*lnWDT,label=\"$\\sigma^{(1)}$\")\n",
    "\n",
    "ax14.set_xlabel('$1/\\epsilon$')\n",
    "ax14.set_ylabel('$\\sigma$ (MPa)')\n",
    "ax14.legend(loc='best',fontsize=ftsz_leg)\n",
    "ax14.grid(True, which='major', linewidth=0.3, color='lightgray')\n",
    "ax14.grid(True, which='minor', linewidth=0.3, alpha=0.2, color='lightgray')\n",
    "ax14.set_ylim([-210,-190])\n",
    "\n",
    "fig.savefig(f\"COMP_EL_stress.pdf\", format=\"pdf\", transparent=True)"
   ]
  },
  {
   "cell_type": "code",
   "execution_count": 27,
   "id": "solid-czech",
   "metadata": {},
   "outputs": [
    {
     "data": {
      "text/plain": [
       "0.39464980380806225"
      ]
     },
     "execution_count": 27,
     "metadata": {},
     "output_type": "execute_result"
    }
   ],
   "source": [
    "np.mean(100*(IC_F/IC_Fm[-1]-1))"
   ]
  },
  {
   "cell_type": "code",
   "execution_count": 28,
   "id": "married-simon",
   "metadata": {},
   "outputs": [
    {
     "data": {
      "text/plain": [
       "array([[33.39275033, 33.4905638 ],\n",
       "       [10.58530544, 10.66369973],\n",
       "       [ 5.11915263,  5.19245383],\n",
       "       [ 2.72016184,  2.79120951],\n",
       "       [ 2.07132299,  2.14173163],\n",
       "       [ 1.77663984,  1.84675072],\n",
       "       [ 1.77323519,  1.84328716]])"
      ]
     },
     "execution_count": 28,
     "metadata": {},
     "output_type": "execute_result"
    }
   ],
   "source": [
    "100*(U_m/U_M-1)"
   ]
  },
  {
   "cell_type": "code",
   "execution_count": 31,
   "id": "different-hudson",
   "metadata": {},
   "outputs": [
    {
     "data": {
      "text/plain": [
       "array([9.41765157e+00, 3.64442456e+00, 1.34196347e+00, 4.01625851e-01,\n",
       "       1.34328922e-01, 8.18794370e-03, 7.12584345e-02])"
      ]
     },
     "execution_count": 31,
     "metadata": {},
     "output_type": "execute_result"
    }
   ],
   "source": [
    "100*(E_m*cE*A/(E_M*cE*A)-1)"
   ]
  },
  {
   "cell_type": "code",
   "execution_count": 32,
   "id": "reflected-scheduling",
   "metadata": {},
   "outputs": [],
   "source": [
    "# file = './Macro-3D_L5x5x10_UNIFORM_V10x10x20'\n",
    "# with open(file, 'rb') as f_obj:\n",
    "#     data = pickle.load(f_obj)\n",
    "# usol,stress,svars,ISV,IC = data\n",
    "# energy= svars[:,-3]\n",
    "# dissipation= svars[:,6+6+22+1:6+6+22+2]\n",
    "# usol=np.reshape(usol,(-1,3))\n",
    "# U0x=np.amax(usol[:,0])\n",
    "# U0y=np.amax(usol[:,1])\n",
    "# E0=np.sum(energy)\n",
    "# D15x15x30=np.sum(dissipation)\n",
    "# N=5*5*10\n",
    "# V=10*10*20\n",
    "# # print(np.mean(IC[-6:],axis=0)[-8:]) #(take -2): -0.93940901\n",
    "# IC_u = IC[:,-24:]\n",
    "# IC_f = IC[:,:-24]\n",
    "# IC_u = IC_u.reshape(IC_u.shape[0],IC_u.shape[1]//3,3)\n",
    "# # IC[-6:,-4:] #(take -2): -0.90854154\n",
    "# U1x=np.mean(IC_u[-6:,0])\n",
    "# U1y=np.mean(IC_u[-6:,2])\n",
    "# E0=E0*V/(N*6)\n",
    "# U0x,U0y,E0,U1x,U1y"
   ]
  },
  {
   "cell_type": "code",
   "execution_count": null,
   "id": "searching-going",
   "metadata": {},
   "outputs": [],
   "source": []
  },
  {
   "cell_type": "code",
   "execution_count": null,
   "id": "raised-czech",
   "metadata": {},
   "outputs": [],
   "source": []
  }
 ],
 "metadata": {
  "kernelspec": {
   "display_name": "Python 3",
   "language": "python",
   "name": "python3"
  },
  "language_info": {
   "codemirror_mode": {
    "name": "ipython",
    "version": 3
   },
   "file_extension": ".py",
   "mimetype": "text/x-python",
   "name": "python",
   "nbconvert_exporter": "python",
   "pygments_lexer": "ipython3",
   "version": "3.8.10"
  }
 },
 "nbformat": 4,
 "nbformat_minor": 5
}

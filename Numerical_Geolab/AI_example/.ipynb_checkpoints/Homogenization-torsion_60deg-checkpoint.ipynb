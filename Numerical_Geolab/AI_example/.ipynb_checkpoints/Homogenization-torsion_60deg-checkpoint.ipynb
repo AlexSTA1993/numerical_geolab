{
 "cells": [
  {
   "cell_type": "code",
   "execution_count": 1,
   "id": "indirect-party",
   "metadata": {},
   "outputs": [],
   "source": [
    "import matplotlib.pyplot as plt\n",
    "import numpy as np\n",
    "import pickle\n",
    "np.random.seed(1)"
   ]
  },
  {
   "cell_type": "code",
   "execution_count": null,
   "id": "attempted-procurement",
   "metadata": {},
   "outputs": [],
   "source": []
  },
  {
   "cell_type": "code",
   "execution_count": 14,
   "id": "north-brighton",
   "metadata": {},
   "outputs": [
    {
     "data": {
      "text/plain": [
       "(47.37972806037501, 4.4300513309127005, 1.5960847078396987)"
      ]
     },
     "execution_count": 14,
     "metadata": {},
     "output_type": "execute_result"
    }
   ],
   "source": [
    "file = './Micro-3D_L5x5x9_60'\n",
    "with open(file, 'rb') as f_obj:\n",
    "    data = pickle.load(f_obj)\n",
    "svarsGP,add_svarsGP,nparticles,nbars,nsvars = data\n",
    "svarsGP[-3],svarsGP[-2],np.amax(add_svarsGP[:,2])"
   ]
  },
  {
   "cell_type": "code",
   "execution_count": 163,
   "id": "defensive-function",
   "metadata": {},
   "outputs": [
    {
     "data": {
      "text/plain": [
       "(5.807285361975099, 0.0, 0.532028235946566)"
      ]
     },
     "execution_count": 163,
     "metadata": {},
     "output_type": "execute_result"
    }
   ],
   "source": [
    "file = './Micro-3D_L5x5x9'\n",
    "with open(file, 'rb') as f_obj:\n",
    "    data = pickle.load(f_obj)\n",
    "svarsGP,add_svarsGP,nparticles,nbars,nsvars = data\n",
    "svarsGP[-3],svarsGP[-2],np.amax(add_svarsGP[:,2])"
   ]
  },
  {
   "cell_type": "code",
   "execution_count": 164,
   "id": "prospective-documentation",
   "metadata": {},
   "outputs": [
    {
     "data": {
      "text/plain": [
       "(10.72411176889055, 0.0, 0.6053918069077061)"
      ]
     },
     "execution_count": 164,
     "metadata": {},
     "output_type": "execute_result"
    }
   ],
   "source": [
    "file = './Micro-3D_L7x7x13'\n",
    "with open(file, 'rb') as f_obj:\n",
    "    data = pickle.load(f_obj)\n",
    "svarsGP,add_svarsGP,nparticles,nbars,nsvars = data\n",
    "svarsGP[-3],svarsGP[-2],np.amax(add_svarsGP[:,2])"
   ]
  },
  {
   "cell_type": "code",
   "execution_count": 165,
   "id": "allied-chemical",
   "metadata": {},
   "outputs": [
    {
     "data": {
      "text/plain": [
       "(17.11518343693817, 0.0, 0.6530261335754755)"
      ]
     },
     "execution_count": 165,
     "metadata": {},
     "output_type": "execute_result"
    }
   ],
   "source": [
    "file = './Micro-3D_L9x9x17'\n",
    "with open(file, 'rb') as f_obj:\n",
    "    data = pickle.load(f_obj)\n",
    "svarsGP,add_svarsGP,nparticles,nbars,nsvars = data\n",
    "svarsGP[-3],svarsGP[-2],np.amax(add_svarsGP[:,2])"
   ]
  },
  {
   "cell_type": "code",
   "execution_count": 166,
   "id": "opponent-imperial",
   "metadata": {},
   "outputs": [
    {
     "data": {
      "text/plain": [
       "(24.987210457082625, 0.0, 0.6868052495537922)"
      ]
     },
     "execution_count": 166,
     "metadata": {},
     "output_type": "execute_result"
    }
   ],
   "source": [
    "file = './Micro-3D_L11x11x21'\n",
    "with open(file, 'rb') as f_obj:\n",
    "    data = pickle.load(f_obj)\n",
    "svarsGP,add_svarsGP,nparticles,nbars,nsvars = data\n",
    "svarsGP[-3],svarsGP[-2],np.amax(add_svarsGP[:,2])"
   ]
  },
  {
   "cell_type": "code",
   "execution_count": 167,
   "id": "possible-bruce",
   "metadata": {},
   "outputs": [],
   "source": [
    "# file = './Micro-3D_L11x11x21sp'\n",
    "# with open(file, 'rb') as f_obj:\n",
    "#     data = pickle.load(f_obj)\n",
    "# svarsGP,add_svarsGP,nparticles,nbars,nsvars = data\n",
    "# svarsGP[-3],svarsGP[-2],np.amax(add_svarsGP[:,2])"
   ]
  },
  {
   "cell_type": "code",
   "execution_count": 168,
   "id": "considered-writer",
   "metadata": {},
   "outputs": [
    {
     "data": {
      "text/plain": [
       "(34.34317530301901, 0.0, 0.7121966570872783)"
      ]
     },
     "execution_count": 168,
     "metadata": {},
     "output_type": "execute_result"
    }
   ],
   "source": [
    "file = './Micro-3D_L13x13x25'\n",
    "with open(file, 'rb') as f_obj:\n",
    "    data = pickle.load(f_obj)\n",
    "svarsGP,add_svarsGP,nparticles,nbars,nsvars = data\n",
    "svarsGP[-3],svarsGP[-2],np.amax(add_svarsGP[:,2])"
   ]
  },
  {
   "cell_type": "code",
   "execution_count": 169,
   "id": "vocational-latin",
   "metadata": {},
   "outputs": [
    {
     "data": {
      "text/plain": [
       "(51.162807255054204, 0.0, 0.7405197336583749)"
      ]
     },
     "execution_count": 169,
     "metadata": {},
     "output_type": "execute_result"
    }
   ],
   "source": [
    "file = './Micro-3D_L16x16x31'\n",
    "with open(file, 'rb') as f_obj:\n",
    "    data = pickle.load(f_obj)\n",
    "svarsGP,add_svarsGP,nparticles,nbars,nsvars = data\n",
    "svarsGP[-3],svarsGP[-2],np.amax(add_svarsGP[:,2])"
   ]
  },
  {
   "cell_type": "code",
   "execution_count": 170,
   "id": "coastal-recording",
   "metadata": {},
   "outputs": [
    {
     "data": {
      "text/plain": [
       "(86.63034930945287, 0.0, 0.7726337351092422)"
      ]
     },
     "execution_count": 170,
     "metadata": {},
     "output_type": "execute_result"
    }
   ],
   "source": [
    "file = './Micro-3D_L21x21x41sp'\n",
    "with open(file, 'rb') as f_obj:\n",
    "    data = pickle.load(f_obj)\n",
    "svarsGP,add_svarsGP,nparticles,nbars,nsvars = data\n",
    "svarsGP[-3],svarsGP[-2],np.amax(add_svarsGP[:,2])"
   ]
  },
  {
   "cell_type": "code",
   "execution_count": 171,
   "id": "jewish-henry",
   "metadata": {},
   "outputs": [
    {
     "data": {
      "text/plain": [
       "(131.3966093403556, 0.0, 0.7942863131179823)"
      ]
     },
     "execution_count": 171,
     "metadata": {},
     "output_type": "execute_result"
    }
   ],
   "source": [
    "file = './Micro-3D_L26x26x51'\n",
    "with open(file, 'rb') as f_obj:\n",
    "    data = pickle.load(f_obj)\n",
    "svarsGP,add_svarsGP,nparticles,nbars,nsvars = data\n",
    "svarsGP[-3],svarsGP[-2],np.amax(add_svarsGP[:,2])"
   ]
  },
  {
   "cell_type": "code",
   "execution_count": 172,
   "id": "periodic-application",
   "metadata": {},
   "outputs": [],
   "source": [
    "\n",
    "mf_t=svarsGP[12:12+nbars]"
   ]
  },
  {
   "cell_type": "code",
   "execution_count": 173,
   "id": "adverse-genome",
   "metadata": {},
   "outputs": [
    {
     "data": {
      "text/plain": [
       "array([-0.1339746 , -0.1339746 ,  0.10919584,  0.01504145, -0.0039448 ,\n",
       "       -0.05375707, -0.0764202 , -0.06046442, -0.1339746 , -0.1339746 ,\n",
       "        0.10537863,  0.03090749, -0.01705106, -0.05497424, -0.08466591,\n",
       "       -0.04749641, -0.1339746 , -0.1339746 ,  0.10200145,  0.04488143,\n",
       "       -0.0284603 , -0.05644031, -0.09203288, -0.03562553,  0.1159826 ,\n",
       "       -0.02777867, -0.05976228, -0.09367243])"
      ]
     },
     "execution_count": 173,
     "metadata": {},
     "output_type": "execute_result"
    }
   ],
   "source": [
    "(mf_t[-28:])"
   ]
  },
  {
   "cell_type": "code",
   "execution_count": 174,
   "id": "burning-prayer",
   "metadata": {},
   "outputs": [
    {
     "data": {
      "text/plain": [
       "28"
      ]
     },
     "execution_count": 174,
     "metadata": {},
     "output_type": "execute_result"
    }
   ],
   "source": [
    "52-24"
   ]
  },
  {
   "cell_type": "code",
   "execution_count": 4,
   "id": "valid-hayes",
   "metadata": {},
   "outputs": [
    {
     "name": "stdout",
     "output_type": "stream",
     "text": [
      "2.9634319297878955 2.96331377422569\n"
     ]
    },
    {
     "data": {
      "text/plain": [
       "0.0007210192827453351"
      ]
     },
     "execution_count": 4,
     "metadata": {},
     "output_type": "execute_result"
    }
   ],
   "source": [
    "file = './Macro-3D_L15x15x3060'\n",
    "with open(file, 'rb') as f_obj:\n",
    "    data = pickle.load(f_obj)\n",
    "usol,stress,svars,ISV,IC = data\n",
    "energy= svars[:,6+6+22:6+6+22+1]\n",
    "dissipation= svars[:,6+6+22+1:6+6+22+2]\n",
    "usol=np.reshape(usol,(-1,3))\n",
    "print(np.amax(usol[:,2]),usol[-1,2])\n",
    "coorM=np.array([[0., 0., 0.],\n",
    "       [0., 1., 0.],\n",
    "       [1., 0., 0.],\n",
    "       [1., 1., 0.],\n",
    "       [0., 0., 1.],\n",
    "       [0., 1., 1.],\n",
    "       [1., 0., 1.],\n",
    "       [1., 1., 1.]])\n",
    "U15x15x30=np.amax(usol[:,2])\n",
    "E15x15x30=np.sum(energy)\n",
    "D15x15x30=np.sum(dissipation)\n",
    "N=20*20*40\n",
    "V=10*10*20\n",
    "# print(np.mean(IC[-6:],axis=0)[-8:]) #(take -2): -0.93940901\n",
    "IC_u = IC[:,-24:]\n",
    "IC_u = IC_u.reshape(IC_u.shape[0],IC_u.shape[1]//3,3)\n",
    "# IC[-6:,-4:] #(take -2): -0.90854154\n",
    "np.mean(1+IC_u[-6:,7,2])"
   ]
  },
  {
   "cell_type": "code",
   "execution_count": 12,
   "id": "crucial-module",
   "metadata": {},
   "outputs": [
    {
     "data": {
      "text/plain": [
       "2.96429498522569"
      ]
     },
     "execution_count": 12,
     "metadata": {},
     "output_type": "execute_result"
    }
   ],
   "source": [
    "usol[-1,2]+1/10*0.00981211"
   ]
  },
  {
   "cell_type": "code",
   "execution_count": 6,
   "id": "isolated-characterization",
   "metadata": {},
   "outputs": [
    {
     "data": {
      "text/plain": [
       "1260"
      ]
     },
     "execution_count": 6,
     "metadata": {},
     "output_type": "execute_result"
    }
   ],
   "source": [
    "15*14*6"
   ]
  },
  {
   "cell_type": "code",
   "execution_count": 7,
   "id": "modular-world",
   "metadata": {},
   "outputs": [
    {
     "data": {
      "text/plain": [
       "39239"
      ]
     },
     "execution_count": 7,
     "metadata": {},
     "output_type": "execute_result"
    }
   ],
   "source": [
    "40499-1260"
   ]
  },
  {
   "cell_type": "code",
   "execution_count": 8,
   "id": "satisfactory-surge",
   "metadata": {},
   "outputs": [
    {
     "data": {
      "text/plain": [
       "0.2987083470280998"
      ]
     },
     "execution_count": 8,
     "metadata": {},
     "output_type": "execute_result"
    }
   ],
   "source": [
    "np.mean(1+IC_u[40499-15*14*6,2])"
   ]
  },
  {
   "cell_type": "code",
   "execution_count": 11,
   "id": "complicated-australia",
   "metadata": {},
   "outputs": [
    {
     "data": {
      "text/plain": [
       "array([-0.00359079,  0.00981211,  0.00214378, -0.00266243,  0.00185026,\n",
       "       -0.00322682])"
      ]
     },
     "execution_count": 11,
     "metadata": {},
     "output_type": "execute_result"
    }
   ],
   "source": [
    "1+IC_u[-6:,7,2]"
   ]
  },
  {
   "cell_type": "code",
   "execution_count": 10,
   "id": "special-grade",
   "metadata": {},
   "outputs": [],
   "source": [
    "IC_f = IC[:,:-24]\n",
    "IC_f_mean=np.mean(IC_f[-6:],axis=0)"
   ]
  },
  {
   "cell_type": "code",
   "execution_count": 113,
   "id": "biblical-madagascar",
   "metadata": {},
   "outputs": [
    {
     "data": {
      "text/plain": [
       "(28,)"
      ]
     },
     "execution_count": 113,
     "metadata": {},
     "output_type": "execute_result"
    }
   ],
   "source": [
    "IC_f_mean.shape"
   ]
  },
  {
   "cell_type": "code",
   "execution_count": 95,
   "id": "skilled-navigation",
   "metadata": {},
   "outputs": [
    {
     "data": {
      "text/plain": [
       "-0.3060183677958062"
      ]
     },
     "execution_count": 95,
     "metadata": {},
     "output_type": "execute_result"
    }
   ],
   "source": [
    "np.mean(stress[-6:,:])"
   ]
  },
  {
   "cell_type": "code",
   "execution_count": 109,
   "id": "corporate-listing",
   "metadata": {},
   "outputs": [
    {
     "data": {
      "text/plain": [
       "(array([[-0.13400069, -0.02235448, -0.07025147, -0.13399814, -0.02237821,\n",
       "         -0.08584107, -0.1339502 , -0.02237399, -0.07024202,  0.06105827,\n",
       "          0.1097898 ,  0.03862149,  0.08387462, -0.13400421,  0.06099687,\n",
       "         -0.07151861,  0.03864163, -0.04715712, -0.02233338, -0.08579937,\n",
       "          0.06099452,  0.10974856, -0.11174545, -0.02624397,  0.06099361,\n",
       "         -0.07152156, -0.11179101, -0.1364747 ]]),\n",
       " array([-0.1339746 , -0.1339746 ,  0.10726099,  0.00375781,  0.00822453,\n",
       "        -0.05355221, -0.06832314, -0.06654588, -0.1339746 , -0.1339746 ,\n",
       "         0.10340298,  0.02231344, -0.00700495, -0.05514405, -0.0781246 ,\n",
       "        -0.05218622, -0.1339746 , -0.1339746 ,  0.09996145,  0.04000049,\n",
       "        -0.02116851, -0.05718351, -0.08752197, -0.0386455 ,  0.11385787,\n",
       "        -0.02425473, -0.06165213, -0.09199363]))"
      ]
     },
     "execution_count": 109,
     "metadata": {},
     "output_type": "execute_result"
    }
   ],
   "source": [
    "IC_f[-1:],mf_t[-28:]"
   ]
  },
  {
   "cell_type": "code",
   "execution_count": null,
   "id": "marine-arizona",
   "metadata": {},
   "outputs": [],
   "source": []
  },
  {
   "cell_type": "code",
   "execution_count": 230,
   "id": "comprehensive-publication",
   "metadata": {},
   "outputs": [],
   "source": [
    "U1=-0.82770666#-0.90323734\n",
    "U1=0.3177153499848499"
   ]
  },
  {
   "cell_type": "code",
   "execution_count": 231,
   "id": "limiting-internship",
   "metadata": {},
   "outputs": [
    {
     "data": {
      "text/plain": [
       "(0.8008292637641136, 0.7405197336583749)"
      ]
     },
     "execution_count": 231,
     "metadata": {},
     "output_type": "execute_result"
    }
   ],
   "source": [
    "U15x15x30+(1/15.)*(U1), 0.7405197336583749"
   ]
  },
  {
   "cell_type": "code",
   "execution_count": 232,
   "id": "becoming-range",
   "metadata": {},
   "outputs": [
    {
     "data": {
      "text/plain": [
       "(0.8061245195971944, 0.7121966570872783)"
      ]
     },
     "execution_count": 232,
     "metadata": {},
     "output_type": "execute_result"
    }
   ],
   "source": [
    "U15x15x30+(1/12)*(U1),0.7121966570872783"
   ]
  },
  {
   "cell_type": "code",
   "execution_count": 233,
   "id": "damaged-twist",
   "metadata": {},
   "outputs": [
    {
     "data": {
      "text/plain": [
       "(0.8114197754302752, 0.6868052495537922)"
      ]
     },
     "execution_count": 233,
     "metadata": {},
     "output_type": "execute_result"
    }
   ],
   "source": [
    "U15x15x30+0.1*(U1),0.6868052495537922"
   ]
  },
  {
   "cell_type": "code",
   "execution_count": 234,
   "id": "bacterial-accuracy",
   "metadata": {},
   "outputs": [
    {
     "data": {
      "text/plain": [
       "(0.8193626591798965, 0.6530261335754755)"
      ]
     },
     "execution_count": 234,
     "metadata": {},
     "output_type": "execute_result"
    }
   ],
   "source": [
    "U15x15x30+(1./8.)*(U1),0.6530261335754755"
   ]
  },
  {
   "cell_type": "code",
   "execution_count": 235,
   "id": "minimal-currency",
   "metadata": {},
   "outputs": [
    {
     "data": {
      "text/plain": [
       "(0.8326007987625986, 0.6053918069077061)"
      ]
     },
     "execution_count": 235,
     "metadata": {},
     "output_type": "execute_result"
    }
   ],
   "source": [
    "U15x15x30+(1./6.)*(U1),0.6053918069077061"
   ]
  },
  {
   "cell_type": "code",
   "execution_count": 236,
   "id": "fatty-treat",
   "metadata": {},
   "outputs": [
    {
     "data": {
      "text/plain": [
       "(0.8590770779280027, 0.532028235946566)"
      ]
     },
     "execution_count": 236,
     "metadata": {},
     "output_type": "execute_result"
    }
   ],
   "source": [
    "U15x15x30+(1/4)*(U1),0.532028235946566"
   ]
  },
  {
   "cell_type": "code",
   "execution_count": null,
   "id": "adopted-passing",
   "metadata": {},
   "outputs": [],
   "source": []
  },
  {
   "cell_type": "code",
   "execution_count": 237,
   "id": "blind-throw",
   "metadata": {},
   "outputs": [],
   "source": [
    "U0 = np.array([U15x15x30,U15x15x30,U15x15x30,U15x15x30,U15x15x30,U15x15x30,U15x15x30,U15x15x30,U15x15x30])\n",
    "Ue = np.array([0.31796999166250084,0.532028235946566,0.6053918069077061,0.6530261335754755,0.6868052495537922,0.7121966570872783,0.7405197336583749,0.7726337351092422, 0.7942863131179823])\n",
    "e = np.array([1/2,1/4,1/6,1/8,1/10,1/12,1/15,1/20,1/25])\n",
    "U0U1 = U0+e*(U1)"
   ]
  },
  {
   "cell_type": "code",
   "execution_count": 238,
   "id": "guided-shield",
   "metadata": {},
   "outputs": [
    {
     "data": {
      "text/plain": [
       "(array([0.31796999, 0.53202824, 0.60539181, 0.65302613, 0.68680525,\n",
       "        0.71219666, 0.74051973, 0.77263374, 0.79428631]),\n",
       " array([0.93850592, 0.85907708, 0.8326008 , 0.81936266, 0.81141978,\n",
       "        0.80612452, 0.80082926, 0.79553401, 0.79235685]))"
      ]
     },
     "execution_count": 238,
     "metadata": {},
     "output_type": "execute_result"
    }
   ],
   "source": [
    "Ue,U0U1"
   ]
  },
  {
   "cell_type": "code",
   "execution_count": 264,
   "id": "isolated-priority",
   "metadata": {},
   "outputs": [],
   "source": [
    "DU=U0U1-Ue"
   ]
  },
  {
   "cell_type": "code",
   "execution_count": 265,
   "id": "amazing-composition",
   "metadata": {},
   "outputs": [],
   "source": [
    "import matplotlib.pyplot as plt\n",
    "from matplotlib.ticker import (MultipleLocator, FormatStrFormatter, AutoMinorLocator)\n",
    "import matplotlib as mpl\n",
    "mpl.rcParams['axes.unicode_minus']=False\n",
    "plt.rcParams[\"figure.figsize\"] = (4,3)\n",
    "import matplotlib.pyplot as plt\n",
    "# # plt.rcParams[\"font.family\"] = \"Times New Roman\"\n",
    "font = {'size'   : 13}\n",
    "from matplotlib import rc\n",
    "plt.rc('font', **font)\n",
    "ftsz_leg = 9\n",
    "ftsz = 12\n",
    "mkSZ = 4\n",
    "mkSZs = 0\n",
    "lnWDT = 1.25\n",
    "lnWDTs = 6\n",
    "from matplotlib import rc\n",
    "rc('font',**{'family':'sans-serif','sans-serif':['Times New Roman']})\n",
    "## for Palatino and other serif fonts use:\n",
    "#rc('font',**{'family':'serif','serif':['Palatino']})\n",
    "rc('text', usetex=True)\n",
    "\n",
    "import numpy as np\n",
    "import matplotlib.pyplot as plt"
   ]
  },
  {
   "cell_type": "code",
   "execution_count": 266,
   "id": "spanish-contrary",
   "metadata": {},
   "outputs": [
    {
     "data": {
      "image/png": "[encoded data removed]",
      "text/plain": [
       "<Figure size 378x297 with 1 Axes>"
      ]
     },
     "metadata": {
      "needs_background": "light"
     },
     "output_type": "display_data"
    }
   ],
   "source": [
    "plt.rc('text', usetex=True)\n",
    "plt.rc('font', family='serif')\n",
    "fig = plt.figure(figsize=(3.5*1.5,2.75*1.5))\n",
    "# (ax11), (ax12) = fig.subplots(1,2)\n",
    "(ax11) = fig.subplots(1,1)\n",
    "plt.tight_layout(pad=2.5, w_pad=3.5, h_pad=3.5)\n",
    "ax11.margins(x=0.1, y = 0.1)\n",
    "ax11.xaxis.set_minor_locator(AutoMinorLocator())\n",
    "ax11.yaxis.set_minor_locator(AutoMinorLocator())\n",
    "\n",
    "ax11.plot(1/e,U0U1, color='black', marker=\"o\",markersize=mkSZ,linewidth=lnWDT,label=\"$u^{(0)}+\\epsilon u^{(1)}$\")\n",
    "ax11.plot(1/e,U0, color='black', alpha=0.2,marker=\"o\",markersize=mkSZ,linewidth=lnWDT,label=\"$u^{(0)}$\")\n",
    "ax11.plot(1/e,Ue, color='black', alpha=0.6,marker=\"o\",markersize=mkSZ,linewidth=lnWDT,label=\"$u^{\\epsilon}$\")\n",
    "\n",
    "ax11.set_xlabel('$1/\\epsilon$')\n",
    "ax11.set_ylabel('$u$ (-)')\n",
    "# ax11.ticklabel_format(axis=\"x\", style=\"sci\", scilimits=(3,3))\n",
    "# ax11.ticklabel_format(axis=\"y\", style=\"sci\", scilimits=(0,0))\n",
    "ax11.legend(loc='best',fontsize=ftsz_leg)\n",
    "ax11.grid(True, which='major', linewidth=0.3, color='lightgray')\n",
    "ax11.grid(True, which='minor', linewidth=0.3, alpha=0.2, color='lightgray')\n",
    "\n",
    "\n",
    "# ax12.margins(x=0.1, y = 0.1)\n",
    "# ax12.xaxis.set_minor_locator(AutoMinorLocator())\n",
    "# ax12.yaxis.set_minor_locator(AutoMinorLocator())\n",
    "# # ax12.plot(N,U/np.amax(U), color='black', marker=\"o\",markersize=mkSZ,linewidth=lnWDT)\n",
    "# # ax12.plot(N[-3],U[-3]/np.amax(U), color='red', marker=\"o\",fillstyle='none',markersize=mkSZ*2,linewidth=lnWDT)\n",
    "# ax12.set_xlabel('Number of FE')\n",
    "# ax12.set_ylabel('$U/U^*$ (-)')\n",
    "# ax12.ticklabel_format(axis=\"x\", style=\"sci\", scilimits=(3,3))\n",
    "# # ax11.ticklabel_format(axis=\"y\", style=\"sci\", scilimits=(0,0))\n",
    "# # ax12.legend(loc='best',fontsize=ftsz_leg)\n",
    "# ax12.grid(True, which='major', linewidth=0.3, color='lightgray')\n",
    "# ax12.grid(True, which='minor', linewidth=0.3, alpha=0.2, color='lightgray')\n",
    "\n",
    "\n",
    "# fig.savefig(f\"convergence.pdf\", format=\"pdf\", transparent=True)"
   ]
  },
  {
   "cell_type": "code",
   "execution_count": 267,
   "id": "biblical-there",
   "metadata": {},
   "outputs": [
    {
     "data": {
      "image/png": "[encoded data removed]",
      "text/plain": [
       "<Figure size 378x297 with 2 Axes>"
      ]
     },
     "metadata": {
      "needs_background": "light"
     },
     "output_type": "display_data"
    }
   ],
   "source": [
    "plt.rc('text', usetex=True)\n",
    "plt.rc('font', family='serif')\n",
    "fig = plt.figure(figsize=(3.5*1.5,2.75*1.5))\n",
    "(ax11), (ax12) = fig.subplots(1,2)\n",
    "# (ax11) = fig.subplots(1,1)\n",
    "plt.tight_layout(pad=2.5, w_pad=3.5, h_pad=3.5)\n",
    "ax11.margins(x=0.1, y = 0.1)\n",
    "ax11.xaxis.set_minor_locator(AutoMinorLocator())\n",
    "ax11.yaxis.set_minor_locator(AutoMinorLocator())\n",
    "\n",
    "ax11.plot(1/e,DU, color='black', marker=\"o\",markersize=mkSZ,linewidth=lnWDT)\n",
    "# ax11.plot(1/e,U0, color='black', alpha=0.2,marker=\"o\",markersize=mkSZ,linewidth=lnWDT,label=\"$u^{(0)}$\")\n",
    "# ax11.plot(1/e,Ue, color='black', alpha=0.6,marker=\"o\",markersize=mkSZ,linewidth=lnWDT,label=\"$u^{\\epsilon}$\")\n",
    "\n",
    "ax11.set_xlabel('$1/\\epsilon$')\n",
    "ax11.set_ylabel('$(u^{\\epsilon}-u^{(0)}-\\epsilon u^{(1)})$ (-)')\n",
    "ax11.ticklabel_format(axis=\"x\", style=\"sci\", scilimits=(3,3))\n",
    "# ax11.ticklabel_format(axis=\"y\", style=\"sci\", scilimits=(0,0))\n",
    "# ax11.legend(loc='best',fontsize=ftsz_leg)\n",
    "ax11.grid(True, which='major', linewidth=0.3, color='lightgray')\n",
    "ax11.grid(True, which='minor', linewidth=0.3, alpha=0.2, color='lightgray')\n",
    "\n",
    "\n",
    "ax12.margins(x=0.1, y = 0.1)\n",
    "ax12.xaxis.set_minor_locator(AutoMinorLocator())\n",
    "ax12.yaxis.set_minor_locator(AutoMinorLocator())\n",
    "ax12.plot(1/e,DU/Ue[-1], color='black', marker=\"o\",markersize=mkSZ,linewidth=lnWDT)\n",
    "# ax11.plot(1/e,U0, color='black', alpha=0.2,marker=\"o\",markersize=mkSZ,linewidth=lnWDT,label=\"$u^{(0)}$\")\n",
    "# ax11.plot(1/e,Ue, color='black', alpha=0.6,marker=\"o\",markersize=mkSZ,linewidth=lnWDT,label=\"$u^{\\epsilon}$\")\n",
    "\n",
    "ax12.set_xlabel('$1/\\epsilon$')\n",
    "ax12.set_ylabel('$(u^{\\epsilon}-u^{(0)}-\\epsilon u^{(1)})/u^{\\epsilon}$ (-)')\n",
    "ax12.ticklabel_format(axis=\"x\", style=\"sci\", scilimits=(3,3))\n",
    "# ax11.ticklabel_format(axis=\"y\", style=\"sci\", scilimits=(0,0))\n",
    "# ax11.legend(loc='best',fontsize=ftsz_leg)\n",
    "ax12.grid(True, which='major', linewidth=0.3, color='lightgray')\n",
    "ax12.grid(True, which='minor', linewidth=0.3, alpha=0.2, color='lightgray')\n",
    "\n",
    "# fig.savefig(f\"convergence.pdf\", format=\"pdf\", transparent=True)"
   ]
  },
  {
   "cell_type": "code",
   "execution_count": 269,
   "id": "composite-resort",
   "metadata": {},
   "outputs": [
    {
     "data": {
      "text/plain": [
       "array([195.15549896,  61.4720836 ,  37.5308997 ,  25.47164915,\n",
       "        18.14408465,  13.18847282,   8.14421647,   2.9639235 ,\n",
       "        -0.24291728])"
      ]
     },
     "execution_count": 269,
     "metadata": {},
     "output_type": "execute_result"
    }
   ],
   "source": [
    "100*DU/Ue"
   ]
  },
  {
   "cell_type": "code",
   "execution_count": 156,
   "id": "typical-cathedral",
   "metadata": {},
   "outputs": [
    {
     "ename": "NameError",
     "evalue": "name 'D' is not defined",
     "output_type": "error",
     "traceback": [
      "\u001b[0;31m---------------------------------------------------------------------------\u001b[0m",
      "\u001b[0;31mNameError\u001b[0m                                 Traceback (most recent call last)",
      "\u001b[0;32m<ipython-input-156-e6ff46a61540>\u001b[0m in \u001b[0;36m<module>\u001b[0;34m\u001b[0m\n\u001b[1;32m      2\u001b[0m \u001b[0mfig\u001b[0m \u001b[0;34m=\u001b[0m \u001b[0mplt\u001b[0m\u001b[0;34m.\u001b[0m\u001b[0mfigure\u001b[0m\u001b[0;34m(\u001b[0m\u001b[0mfigsize\u001b[0m\u001b[0;34m=\u001b[0m\u001b[0;34m(\u001b[0m\u001b[0;36m4.5\u001b[0m\u001b[0;34m,\u001b[0m\u001b[0;36m4\u001b[0m\u001b[0;34m)\u001b[0m\u001b[0;34m)\u001b[0m\u001b[0;34m\u001b[0m\u001b[0;34m\u001b[0m\u001b[0m\n\u001b[1;32m      3\u001b[0m \u001b[0mplt\u001b[0m\u001b[0;34m.\u001b[0m\u001b[0mtight_layout\u001b[0m\u001b[0;34m(\u001b[0m\u001b[0mpad\u001b[0m\u001b[0;34m=\u001b[0m\u001b[0;36m2.8\u001b[0m\u001b[0;34m,\u001b[0m \u001b[0mw_pad\u001b[0m\u001b[0;34m=\u001b[0m\u001b[0;36m3.5\u001b[0m\u001b[0;34m,\u001b[0m \u001b[0mh_pad\u001b[0m\u001b[0;34m=\u001b[0m\u001b[0;36m3.5\u001b[0m\u001b[0;34m)\u001b[0m\u001b[0;34m\u001b[0m\u001b[0;34m\u001b[0m\u001b[0m\n\u001b[0;32m----> 4\u001b[0;31m \u001b[0mplt\u001b[0m\u001b[0;34m.\u001b[0m\u001b[0mplot\u001b[0m\u001b[0;34m(\u001b[0m\u001b[0mN\u001b[0m\u001b[0;34m,\u001b[0m\u001b[0;34m(\u001b[0m\u001b[0mD\u001b[0m\u001b[0;34m*\u001b[0m\u001b[0mV\u001b[0m\u001b[0;34m/\u001b[0m\u001b[0mN\u001b[0m\u001b[0;34m)\u001b[0m\u001b[0;34m/\u001b[0m\u001b[0mnp\u001b[0m\u001b[0;34m.\u001b[0m\u001b[0mamax\u001b[0m\u001b[0;34m(\u001b[0m\u001b[0mD\u001b[0m\u001b[0;34m*\u001b[0m\u001b[0mV\u001b[0m\u001b[0;34m/\u001b[0m\u001b[0mN\u001b[0m\u001b[0;34m)\u001b[0m\u001b[0;34m,\u001b[0m\u001b[0mcolor\u001b[0m\u001b[0;34m=\u001b[0m\u001b[0;34m'red'\u001b[0m\u001b[0;34m,\u001b[0m \u001b[0malpha\u001b[0m\u001b[0;34m=\u001b[0m\u001b[0;36m1\u001b[0m\u001b[0;34m,\u001b[0m \u001b[0mmarker\u001b[0m\u001b[0;34m=\u001b[0m\u001b[0;34m'o'\u001b[0m\u001b[0;34m,\u001b[0m \u001b[0mlinestyle\u001b[0m\u001b[0;34m=\u001b[0m\u001b[0;34m'-'\u001b[0m\u001b[0;34m,\u001b[0m\u001b[0mlinewidth\u001b[0m\u001b[0;34m=\u001b[0m\u001b[0;36m1.5\u001b[0m\u001b[0;34m,\u001b[0m \u001b[0mmarkersize\u001b[0m\u001b[0;34m=\u001b[0m\u001b[0;36m7\u001b[0m\u001b[0;34m)\u001b[0m\u001b[0;34m\u001b[0m\u001b[0;34m\u001b[0m\u001b[0m\n\u001b[0m\u001b[1;32m      5\u001b[0m \u001b[0mplt\u001b[0m\u001b[0;34m.\u001b[0m\u001b[0mplot\u001b[0m\u001b[0;34m(\u001b[0m\u001b[0mN\u001b[0m\u001b[0;34m,\u001b[0m\u001b[0;34m(\u001b[0m\u001b[0mE\u001b[0m\u001b[0;34m*\u001b[0m\u001b[0mV\u001b[0m\u001b[0;34m/\u001b[0m\u001b[0mN\u001b[0m\u001b[0;34m)\u001b[0m\u001b[0;34m/\u001b[0m\u001b[0mnp\u001b[0m\u001b[0;34m.\u001b[0m\u001b[0mamax\u001b[0m\u001b[0;34m(\u001b[0m\u001b[0mE\u001b[0m\u001b[0;34m*\u001b[0m\u001b[0mV\u001b[0m\u001b[0;34m/\u001b[0m\u001b[0mN\u001b[0m\u001b[0;34m)\u001b[0m\u001b[0;34m,\u001b[0m\u001b[0mcolor\u001b[0m\u001b[0;34m=\u001b[0m\u001b[0;34m'navy'\u001b[0m\u001b[0;34m,\u001b[0m \u001b[0malpha\u001b[0m\u001b[0;34m=\u001b[0m\u001b[0;36m1\u001b[0m\u001b[0;34m,\u001b[0m \u001b[0mmarker\u001b[0m\u001b[0;34m=\u001b[0m\u001b[0;34m'o'\u001b[0m\u001b[0;34m,\u001b[0m \u001b[0mlinestyle\u001b[0m\u001b[0;34m=\u001b[0m\u001b[0;34m'-'\u001b[0m\u001b[0;34m,\u001b[0m\u001b[0mlinewidth\u001b[0m\u001b[0;34m=\u001b[0m\u001b[0;36m1.5\u001b[0m\u001b[0;34m,\u001b[0m \u001b[0mmarkersize\u001b[0m\u001b[0;34m=\u001b[0m\u001b[0;36m7\u001b[0m\u001b[0;34m)\u001b[0m\u001b[0;34m\u001b[0m\u001b[0;34m\u001b[0m\u001b[0m\n\u001b[1;32m      6\u001b[0m \u001b[0;31m# plt.plot(N,U/np.amax(U),color='black', alpha=1, marker='o', linestyle='-',linewidth=1.5, markersize=8)\u001b[0m\u001b[0;34m\u001b[0m\u001b[0;34m\u001b[0m\u001b[0;34m\u001b[0m\u001b[0m\n",
      "\u001b[0;31mNameError\u001b[0m: name 'D' is not defined"
     ]
    },
    {
     "data": {
      "text/plain": [
       "<Figure size 324x288 with 0 Axes>"
      ]
     },
     "metadata": {},
     "output_type": "display_data"
    }
   ],
   "source": [
    "plt.rcParams[\"figure.figsize\"] = (5,5)\n",
    "fig = plt.figure(figsize=(4.5,4))\n",
    "plt.tight_layout(pad=2.8, w_pad=3.5, h_pad=3.5)\n",
    "plt.plot(N,(D*V/N)/np.amax(D*V/N),color='red', alpha=1, marker='o', linestyle='-',linewidth=1.5, markersize=7)\n",
    "plt.plot(N,(E*V/N)/np.amax(E*V/N),color='navy', alpha=1, marker='o', linestyle='-',linewidth=1.5, markersize=7)\n",
    "# plt.plot(N,U/np.amax(U),color='black', alpha=1, marker='o', linestyle='-',linewidth=1.5, markersize=8)\n",
    "\n",
    "plt.ylabel('$\\mathit{\\Psi},D$ (-)',fontsize=12)\n",
    "plt.xlabel('$N_e$ (-)',fontsize=12)\n",
    "plt.show()\n",
    "# fig.savefig(f\"data.png\", format=\"png\", transparent=True)"
   ]
  },
  {
   "cell_type": "code",
   "execution_count": null,
   "id": "physical-committee",
   "metadata": {},
   "outputs": [],
   "source": [
    "plt.rcParams[\"figure.figsize\"] = (5,5)\n",
    "fig = plt.figure(figsize=(4.5,4))\n",
    "plt.tight_layout(pad=2.8, w_pad=3.5, h_pad=3.5)\n",
    "plt.loglog(N,U/np.amax(U),color='black', alpha=1, marker='o', linestyle='-',linewidth=1.5, markersize=8)\n",
    "# plt.loglog(N,U/np.amax(U),color='black', alpha=1, marker='o', linestyle='-',linewidth=1.5, markersize=8)\n",
    "\n",
    "plt.ylabel('$u$ (m)',fontsize=12)\n",
    "plt.xlabel('$N_e$ (-)',fontsize=12)\n",
    "plt.show()\n"
   ]
  },
  {
   "cell_type": "code",
   "execution_count": null,
   "id": "specified-interpretation",
   "metadata": {},
   "outputs": [],
   "source": []
  },
  {
   "cell_type": "code",
   "execution_count": null,
   "id": "helpful-modern",
   "metadata": {},
   "outputs": [],
   "source": [
    "100*DU"
   ]
  },
  {
   "cell_type": "code",
   "execution_count": null,
   "id": "available-marketing",
   "metadata": {},
   "outputs": [],
   "source": []
  }
 ],
 "metadata": {
  "kernelspec": {
   "display_name": "Python 3",
   "language": "python",
   "name": "python3"
  },
  "language_info": {
   "codemirror_mode": {
    "name": "ipython",
    "version": 3
   },
   "file_extension": ".py",
   "mimetype": "text/x-python",
   "name": "python",
   "nbconvert_exporter": "python",
   "pygments_lexer": "ipython3",
   "version": "3.8.5"
  }
 },
 "nbformat": 4,
 "nbformat_minor": 5
}

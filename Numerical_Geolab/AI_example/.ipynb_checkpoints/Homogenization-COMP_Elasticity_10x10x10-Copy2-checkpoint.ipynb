{
 "cells": [
  {
   "cell_type": "code",
   "execution_count": 1,
   "id": "indirect-party",
   "metadata": {},
   "outputs": [],
   "source": [
    "import matplotlib.pyplot as plt\n",
    "import numpy as np\n",
    "import pickle\n",
    "np.random.seed(1)"
   ]
  },
  {
   "cell_type": "code",
   "execution_count": null,
   "id": "liked-scroll",
   "metadata": {},
   "outputs": [],
   "source": []
  },
  {
   "cell_type": "code",
   "execution_count": 30,
   "id": "greater-provider",
   "metadata": {},
   "outputs": [],
   "source": [
    "# file = './PUSHOVER_Macro-3D_L5x5x20'\n",
    "file = './PUSHOVER_Macro-3D_L10x10x40'\n",
    "with open(file, 'rb') as f_obj:\n",
    "    data = pickle.load(f_obj)\n",
    "usol,stress,svars,IC = data\n"
   ]
  },
  {
   "cell_type": "code",
   "execution_count": 31,
   "id": "unusual-conservative",
   "metadata": {},
   "outputs": [],
   "source": [
    "energy= svars[:,-3]\n",
    "dissipation= svars[:,6+6+22+1:6+6+18+2]\n",
    "usol=np.reshape(usol,(usol.shape[0],-1,3))"
   ]
  },
  {
   "cell_type": "code",
   "execution_count": 32,
   "id": "several-divorce",
   "metadata": {},
   "outputs": [
    {
     "data": {
      "text/plain": [
       "(20, 4961, 3)"
      ]
     },
     "execution_count": 32,
     "metadata": {},
     "output_type": "execute_result"
    }
   ],
   "source": [
    "usol.shape"
   ]
  },
  {
   "cell_type": "code",
   "execution_count": 33,
   "id": "applied-galaxy",
   "metadata": {},
   "outputs": [],
   "source": [
    "U0x=usol[:,:,0]\n",
    "U0y=usol[:,:,1]\n",
    "U0z=usol[:,:,2]"
   ]
  },
  {
   "cell_type": "code",
   "execution_count": 34,
   "id": "renewable-indication",
   "metadata": {},
   "outputs": [
    {
     "data": {
      "text/plain": [
       "(20, 4961)"
      ]
     },
     "execution_count": 34,
     "metadata": {},
     "output_type": "execute_result"
    }
   ],
   "source": [
    "U0x.shape"
   ]
  },
  {
   "cell_type": "code",
   "execution_count": 35,
   "id": "electrical-wednesday",
   "metadata": {},
   "outputs": [],
   "source": [
    "Uy=np.zeros(U0y.shape[0])\n",
    "for i in range(U0y.shape[0]):\n",
    "    Uy[i] = np.amax(U0y[i])"
   ]
  },
  {
   "cell_type": "code",
   "execution_count": 36,
   "id": "hidden-celebrity",
   "metadata": {},
   "outputs": [
    {
     "data": {
      "text/plain": [
       "array([ 2.00008784,  4.00017549,  6.00026297,  8.00034771, 10.00042893,\n",
       "       12.00050384, 14.00056465, 16.00061826, 18.00065891, 20.00068795,\n",
       "       22.00070399, 24.00071135, 26.0007149 , 28.00071376, 30.00070564,\n",
       "       32.00069621, 34.00068522, 36.00067322, 38.00065896, 40.00064307])"
      ]
     },
     "execution_count": 36,
     "metadata": {},
     "output_type": "execute_result"
    }
   ],
   "source": [
    "Uy"
   ]
  },
  {
   "cell_type": "code",
   "execution_count": 47,
   "id": "pursuant-swing",
   "metadata": {},
   "outputs": [],
   "source": [
    "\n",
    "\n",
    "# U0x=usol[-1,0]\n",
    "# U0y=usol[-1,1]\n",
    "E0=np.sum(energy)\n",
    "D0=np.sum(dissipation)\n",
    "N1=10;N2=N1;N3=40.\n",
    "N=N1*N2*N3\n",
    "V=5*5*20\n",
    "IC_u = IC[:,:,-24:]\n",
    "IC_f = IC[:,:,:-24]\n",
    "IC_u = IC_u.reshape(IC_u.shape[0],IC_u.shape[1],IC_u.shape[2]//3,3)\n",
    "# IC[-6:,-4:] #(take -2): -0.90854154\n",
    "# U1x=np.mean(IC_u[-6:,0])\n",
    "# U1y=np.mean(IC_u[-6:,2])\n",
    "E0=E0*V/(N*6)\n",
    "D0=D0*V/(N*6)\n",
    "# U0x,U0y,E0,U1x,U1y,D0"
   ]
  },
  {
   "cell_type": "code",
   "execution_count": 48,
   "id": "handed-manhattan",
   "metadata": {},
   "outputs": [
    {
     "data": {
      "text/plain": [
       "(24, 3)"
      ]
     },
     "execution_count": 48,
     "metadata": {},
     "output_type": "execute_result"
    }
   ],
   "source": [
    "barnv = np.array([[-1.        ,  0.        ,  0.        ],\n",
    "       [ 0.        , -1.        ,  0.        ],\n",
    "       [-0.70710678, -0.70710678,  0.        ],\n",
    "       [-1.        ,  0.        ,  0.        ],\n",
    "       [ 0.        , -1.        ,  0.        ],\n",
    "       [ 0.70710678, -0.70710678,  0.        ],\n",
    "       [-1.        ,  0.        ,  0.        ],\n",
    "       [ 0.        , -1.        ,  0.        ],\n",
    "       [-0.70710678, -0.70710678,  0.        ],\n",
    "       [ 0.        ,  0.        ,  1.        ],\n",
    "       [ 0.        , -0.70710678,  0.70710678],\n",
    "       [-0.70710678,  0.        ,  0.70710678],\n",
    "       [-1.        ,  0.        ,  0.        ],\n",
    "       [ 0.        ,  0.        ,  1.        ],\n",
    "       [ 0.        ,  0.70710678,  0.70710678],\n",
    "       [-0.70710678,  0.        ,  0.70710678],\n",
    "       [ 0.        , -1.        ,  0.        ],\n",
    "       [ 0.70710678, -0.70710678,  0.        ],\n",
    "       [ 0.        ,  0.        ,  1.        ],\n",
    "       [ 0.        , -0.70710678,  0.70710678],\n",
    "       [ 0.70710678,  0.        ,  0.70710678],\n",
    "       [ 0.        ,  0.        ,  1.        ],\n",
    "       [ 0.        ,  0.70710678,  0.70710678],\n",
    "       [ 0.70710678,  0.        ,  0.70710678]])\n",
    "barnv.shape"
   ]
  },
  {
   "cell_type": "code",
   "execution_count": 49,
   "id": "narrative-pierce",
   "metadata": {},
   "outputs": [],
   "source": [
    "frc_svarsGP = IC_f[:,:N1*N2*6,:]"
   ]
  },
  {
   "cell_type": "code",
   "execution_count": 50,
   "id": "level-treasury",
   "metadata": {},
   "outputs": [],
   "source": [
    "frc = np.zeros((frc_svarsGP.shape[0],N1*N2*6,24,3))\n",
    "for t in range(frc_svarsGP.shape[0]):\n",
    "    for b in range(N1*N2*6):\n",
    "        for i in range(24):\n",
    "            frc[t,b,i,:]=(frc_svarsGP[t,b,i]*(barnv[i]))\n",
    "        "
   ]
  },
  {
   "cell_type": "code",
   "execution_count": 51,
   "id": "limiting-lawrence",
   "metadata": {},
   "outputs": [
    {
     "data": {
      "text/plain": [
       "array([[[[-1.63064349e-07,  0.00000000e+00,  0.00000000e+00],\n",
       "         [ 0.00000000e+00, -9.70885323e-05,  0.00000000e+00],\n",
       "         [ 1.38924381e-05,  1.38924381e-05, -0.00000000e+00],\n",
       "         ...,\n",
       "         [ 0.00000000e+00,  0.00000000e+00,  5.35458824e-02],\n",
       "         [ 0.00000000e+00,  4.00192719e-02,  4.00192719e-02],\n",
       "         [ 2.55305132e-02,  0.00000000e+00,  2.55305132e-02]],\n",
       "\n",
       "        [[-6.95289058e-06,  0.00000000e+00,  0.00000000e+00],\n",
       "         [-0.00000000e+00,  1.60928608e-02, -0.00000000e+00],\n",
       "         [ 7.03617211e-03,  7.03617211e-03, -0.00000000e+00],\n",
       "         ...,\n",
       "         [ 0.00000000e+00,  0.00000000e+00,  9.31811264e-02],\n",
       "         [ 0.00000000e+00,  4.00227928e-02,  4.00227928e-02],\n",
       "         [ 4.08426924e-02,  0.00000000e+00,  4.08426924e-02]],\n",
       "\n",
       "        [[ 1.29630671e-02, -0.00000000e+00, -0.00000000e+00],\n",
       "         [-0.00000000e+00,  1.60904002e-02, -0.00000000e+00],\n",
       "         [ 9.59591815e-03,  9.59591815e-03, -0.00000000e+00],\n",
       "         ...,\n",
       "         [ 0.00000000e+00,  0.00000000e+00,  9.61199971e-02],\n",
       "         [ 0.00000000e+00,  3.90388308e-02,  3.90388308e-02],\n",
       "         [ 4.08426130e-02,  0.00000000e+00,  4.08426130e-02]],\n",
       "\n",
       "        ...,\n",
       "\n",
       "        [[ 3.08826904e-05, -0.00000000e+00, -0.00000000e+00],\n",
       "         [ 0.00000000e+00, -9.41735843e-05,  0.00000000e+00],\n",
       "         [ 4.17122218e-07,  4.17122218e-07, -0.00000000e+00],\n",
       "         ...,\n",
       "         [-0.00000000e+00, -0.00000000e+00, -9.53990958e-02],\n",
       "         [ 0.00000000e+00,  1.63270581e-03,  1.63270581e-03],\n",
       "         [-2.29822956e-02, -0.00000000e+00, -2.29822956e-02]],\n",
       "\n",
       "        [[-1.21652143e-02,  0.00000000e+00,  0.00000000e+00],\n",
       "         [ 0.00000000e+00, -1.90951662e-02,  0.00000000e+00],\n",
       "         [-1.19030349e-02, -1.19030349e-02,  0.00000000e+00],\n",
       "         ...,\n",
       "         [-0.00000000e+00, -0.00000000e+00, -5.55924747e-02],\n",
       "         [ 0.00000000e+00,  6.44423490e-04,  6.44423490e-04],\n",
       "         [-8.80776458e-03, -0.00000000e+00, -8.80776458e-03]],\n",
       "\n",
       "        [[-1.21646125e-02,  0.00000000e+00,  0.00000000e+00],\n",
       "         [ 0.00000000e+00, -9.08894842e-05,  0.00000000e+00],\n",
       "         [-4.31205859e-03, -4.31205859e-03,  0.00000000e+00],\n",
       "         ...,\n",
       "         [-0.00000000e+00, -0.00000000e+00, -9.81891017e-02],\n",
       "         [ 0.00000000e+00,  6.41966056e-04,  6.41966056e-04],\n",
       "         [-2.29836766e-02, -0.00000000e+00, -2.29836766e-02]]],\n",
       "\n",
       "\n",
       "       [[[-2.81744346e-05,  0.00000000e+00,  0.00000000e+00],\n",
       "         [ 0.00000000e+00, -1.09200651e-04,  0.00000000e+00],\n",
       "         [ 2.21404808e-05,  2.21404808e-05, -0.00000000e+00],\n",
       "         ...,\n",
       "         [ 0.00000000e+00,  0.00000000e+00,  1.07079196e-01],\n",
       "         [ 0.00000000e+00,  8.00240953e-02,  8.00240953e-02],\n",
       "         [ 5.10787862e-02,  0.00000000e+00,  5.10787862e-02]],\n",
       "\n",
       "        [[-4.02038676e-05,  0.00000000e+00,  0.00000000e+00],\n",
       "         [-0.00000000e+00,  3.22710985e-02, -0.00000000e+00],\n",
       "         [ 1.40658170e-02,  1.40658170e-02, -0.00000000e+00],\n",
       "         ...,\n",
       "         [ 0.00000000e+00,  0.00000000e+00,  1.86346854e-01],\n",
       "         [ 0.00000000e+00,  8.00316307e-02,  8.00316307e-02],\n",
       "         [ 8.17001945e-02,  0.00000000e+00,  8.17001945e-02]],\n",
       "\n",
       "        [[ 2.58960177e-02, -0.00000000e+00, -0.00000000e+00],\n",
       "         [-0.00000000e+00,  3.22675141e-02, -0.00000000e+00],\n",
       "         [ 1.91836682e-02,  1.91836682e-02, -0.00000000e+00],\n",
       "         ...,\n",
       "         [ 0.00000000e+00,  0.00000000e+00,  1.92222895e-01],\n",
       "         [ 0.00000000e+00,  7.80610060e-02,  7.80610060e-02],\n",
       "         [ 8.16986298e-02,  0.00000000e+00,  8.16986298e-02]],\n",
       "\n",
       "        ...,\n",
       "\n",
       "        [[ 3.89757618e-05, -0.00000000e+00, -0.00000000e+00],\n",
       "         [ 0.00000000e+00, -9.73123690e-05,  0.00000000e+00],\n",
       "         [-9.25587594e-07, -9.25587594e-07,  0.00000000e+00],\n",
       "         ...,\n",
       "         [-0.00000000e+00, -0.00000000e+00, -1.90794159e-01],\n",
       "         [ 0.00000000e+00,  3.25474225e-03,  3.25474225e-03],\n",
       "         [-4.59255597e-02, -0.00000000e+00, -4.59255597e-02]],\n",
       "\n",
       "        [[-2.43537870e-02,  0.00000000e+00,  0.00000000e+00],\n",
       "         [ 0.00000000e+00, -3.80982634e-02,  0.00000000e+00],\n",
       "         [-2.38096354e-02, -2.38096354e-02,  0.00000000e+00],\n",
       "         ...,\n",
       "         [-0.00000000e+00, -0.00000000e+00, -1.11188362e-01],\n",
       "         [ 0.00000000e+00,  1.28183924e-03,  1.28183924e-03],\n",
       "         [-1.75857944e-02, -0.00000000e+00, -1.75857944e-02]],\n",
       "\n",
       "        [[-2.43498017e-02,  0.00000000e+00,  0.00000000e+00],\n",
       "         [ 0.00000000e+00, -8.89193565e-05,  0.00000000e+00],\n",
       "         [-8.62498361e-03, -8.62498361e-03,  0.00000000e+00],\n",
       "         ...,\n",
       "         [-0.00000000e+00, -0.00000000e+00, -1.96371333e-01],\n",
       "         [ 0.00000000e+00,  1.27386642e-03,  1.27386642e-03],\n",
       "         [-4.59268871e-02, -0.00000000e+00, -4.59268871e-02]]],\n",
       "\n",
       "\n",
       "       [[[-5.35716986e-05,  0.00000000e+00,  0.00000000e+00],\n",
       "         [ 0.00000000e+00, -1.26066217e-04,  0.00000000e+00],\n",
       "         [ 2.96377884e-05,  2.96377884e-05, -0.00000000e+00],\n",
       "         ...,\n",
       "         [ 0.00000000e+00,  0.00000000e+00,  1.60603034e-01],\n",
       "         [ 0.00000000e+00,  1.20021113e-01,  1.20021113e-01],\n",
       "         [ 7.66127909e-02,  0.00000000e+00,  7.66127909e-02]],\n",
       "\n",
       "        [[-6.84049917e-05,  0.00000000e+00,  0.00000000e+00],\n",
       "         [-0.00000000e+00,  4.84440805e-02, -0.00000000e+00],\n",
       "         [ 2.10924175e-02,  2.10924175e-02, -0.00000000e+00],\n",
       "         ...,\n",
       "         [ 0.00000000e+00,  0.00000000e+00,  2.79499670e-01],\n",
       "         [ 0.00000000e+00,  1.20033714e-01,  1.20033714e-01],\n",
       "         [ 1.22540344e-01,  0.00000000e+00,  1.22540344e-01]],\n",
       "\n",
       "        [[ 3.88276221e-02, -0.00000000e+00, -0.00000000e+00],\n",
       "         [-0.00000000e+00,  4.84414078e-02, -0.00000000e+00],\n",
       "         [ 2.87653007e-02,  2.87653007e-02, -0.00000000e+00],\n",
       "         ...,\n",
       "         [ 0.00000000e+00,  0.00000000e+00,  2.88307244e-01],\n",
       "         [ 0.00000000e+00,  1.17071649e-01,  1.17071649e-01],\n",
       "         [ 1.22536125e-01,  0.00000000e+00,  1.22536125e-01]],\n",
       "\n",
       "        ...,\n",
       "\n",
       "        [[ 5.29553543e-05, -0.00000000e+00, -0.00000000e+00],\n",
       "         [ 0.00000000e+00, -9.95709251e-05,  0.00000000e+00],\n",
       "         [ 3.13376487e-06,  3.13376487e-06, -0.00000000e+00],\n",
       "         ...,\n",
       "         [-0.00000000e+00, -0.00000000e+00, -2.86165315e-01],\n",
       "         [ 0.00000000e+00,  4.88232484e-03,  4.88232484e-03],\n",
       "         [-6.88568422e-02, -0.00000000e+00, -6.88568422e-02]],\n",
       "\n",
       "        [[-3.65344332e-02,  0.00000000e+00,  0.00000000e+00],\n",
       "         [ 0.00000000e+00, -5.70977806e-02,  0.00000000e+00],\n",
       "         [-3.57130085e-02, -3.57130085e-02,  0.00000000e+00],\n",
       "         ...,\n",
       "         [-0.00000000e+00, -0.00000000e+00, -1.66770463e-01],\n",
       "         [ 0.00000000e+00,  1.92640418e-03,  1.92640418e-03],\n",
       "         [-2.63626783e-02, -0.00000000e+00, -2.63626783e-02]],\n",
       "\n",
       "        [[-3.65248950e-02,  0.00000000e+00,  0.00000000e+00],\n",
       "         [ 0.00000000e+00, -8.46921900e-05,  0.00000000e+00],\n",
       "         [-1.29310241e-02, -1.29310241e-02,  0.00000000e+00],\n",
       "         ...,\n",
       "         [-0.00000000e+00, -0.00000000e+00, -2.94530049e-01],\n",
       "         [ 0.00000000e+00,  1.91074096e-03,  1.91074096e-03],\n",
       "         [-6.88568288e-02, -0.00000000e+00, -6.88568288e-02]]],\n",
       "\n",
       "\n",
       "       ...,\n",
       "\n",
       "\n",
       "       [[[-1.79558424e-03,  0.00000000e+00,  0.00000000e+00],\n",
       "         [ 0.00000000e+00, -2.11566108e-03,  0.00000000e+00],\n",
       "         [ 2.10754873e-04,  2.10754873e-04, -0.00000000e+00],\n",
       "         ...,\n",
       "         [ 0.00000000e+00,  0.00000000e+00,  3.55136642e-01],\n",
       "         [ 0.00000000e+00,  2.49753706e-01,  2.49753706e-01],\n",
       "         [ 2.44304560e-01,  0.00000000e+00,  2.44304560e-01]],\n",
       "\n",
       "        [[-2.12535344e-03,  0.00000000e+00,  0.00000000e+00],\n",
       "         [-0.00000000e+00,  1.96319476e-01, -0.00000000e+00],\n",
       "         [ 1.00220414e-01,  1.00220414e-01, -0.00000000e+00],\n",
       "         ...,\n",
       "         [ 0.00000000e+00,  0.00000000e+00,  3.67764615e-01],\n",
       "         [ 0.00000000e+00,  2.49758600e-01,  2.49758600e-01],\n",
       "         [ 2.49582903e-01,  0.00000000e+00,  2.49582903e-01]],\n",
       "\n",
       "        [[ 2.00683918e-01, -0.00000000e+00, -0.00000000e+00],\n",
       "         [-0.00000000e+00,  1.96545294e-01, -0.00000000e+00],\n",
       "         [ 1.33322992e-01,  1.33322992e-01, -0.00000000e+00],\n",
       "         ...,\n",
       "         [ 0.00000000e+00,  0.00000000e+00,  3.67460794e-01],\n",
       "         [ 0.00000000e+00,  2.49212702e-01,  2.49212702e-01],\n",
       "         [ 2.49578064e-01,  0.00000000e+00,  2.49578064e-01]],\n",
       "\n",
       "        ...,\n",
       "\n",
       "        [[-5.75527059e-04,  0.00000000e+00,  0.00000000e+00],\n",
       "         [-0.00000000e+00,  1.47774075e-04, -0.00000000e+00],\n",
       "         [ 1.43113669e-04,  1.43113669e-04, -0.00000000e+00],\n",
       "         ...,\n",
       "         [-0.00000000e+00, -0.00000000e+00, -3.54864629e-01],\n",
       "         [-0.00000000e+00, -2.36188572e-01, -2.36188572e-01],\n",
       "         [-2.38692800e-01, -0.00000000e+00, -2.38692800e-01]],\n",
       "\n",
       "        [[-2.38921886e-01,  0.00000000e+00,  0.00000000e+00],\n",
       "         [ 0.00000000e+00, -1.04097709e-01,  0.00000000e+00],\n",
       "         [-1.34971608e-01, -1.34971608e-01,  0.00000000e+00],\n",
       "         ...,\n",
       "         [-0.00000000e+00, -0.00000000e+00, -3.51670606e-01],\n",
       "         [-0.00000000e+00, -2.36608056e-01, -2.36608056e-01],\n",
       "         [-2.37252999e-01, -0.00000000e+00, -2.37252999e-01]],\n",
       "\n",
       "        [[-2.38985273e-01,  0.00000000e+00,  0.00000000e+00],\n",
       "         [-0.00000000e+00,  1.94576403e-04, -0.00000000e+00],\n",
       "         [-8.40760429e-02, -8.40760429e-02,  0.00000000e+00],\n",
       "         ...,\n",
       "         [-0.00000000e+00, -0.00000000e+00, -3.56522624e-01],\n",
       "         [-0.00000000e+00, -2.36694737e-01, -2.36694737e-01],\n",
       "         [-2.38698423e-01, -0.00000000e+00, -2.38698423e-01]]],\n",
       "\n",
       "\n",
       "       [[[-2.03491002e-03,  0.00000000e+00,  0.00000000e+00],\n",
       "         [ 0.00000000e+00, -2.33965924e-03,  0.00000000e+00],\n",
       "         [ 2.43059752e-04,  2.43059752e-04, -0.00000000e+00],\n",
       "         ...,\n",
       "         [ 0.00000000e+00,  0.00000000e+00,  3.57066811e-01],\n",
       "         [ 0.00000000e+00,  2.51066224e-01,  2.51066224e-01],\n",
       "         [ 2.45091267e-01,  0.00000000e+00,  2.45091267e-01]],\n",
       "\n",
       "        [[-2.34709048e-03,  0.00000000e+00,  0.00000000e+00],\n",
       "         [-0.00000000e+00,  1.95317129e-01, -0.00000000e+00],\n",
       "         [ 1.00075720e-01,  1.00075720e-01, -0.00000000e+00],\n",
       "         ...,\n",
       "         [ 0.00000000e+00,  0.00000000e+00,  3.69864909e-01],\n",
       "         [ 0.00000000e+00,  2.51030898e-01,  2.51030898e-01],\n",
       "         [ 2.50407549e-01,  0.00000000e+00,  2.50407549e-01]],\n",
       "\n",
       "        [[ 2.02795130e-01, -0.00000000e+00, -0.00000000e+00],\n",
       "         [-0.00000000e+00,  1.95543558e-01, -0.00000000e+00],\n",
       "         [ 1.33106214e-01,  1.33106214e-01, -0.00000000e+00],\n",
       "         ...,\n",
       "         [ 0.00000000e+00,  0.00000000e+00,  3.69687953e-01],\n",
       "         [ 0.00000000e+00,  2.50533003e-01,  2.50533003e-01],\n",
       "         [ 2.50410355e-01,  0.00000000e+00,  2.50410355e-01]],\n",
       "\n",
       "        ...,\n",
       "\n",
       "        [[-6.39980874e-04,  0.00000000e+00,  0.00000000e+00],\n",
       "         [-0.00000000e+00,  1.98139525e-04, -0.00000000e+00],\n",
       "         [ 1.52784742e-04,  1.52784742e-04, -0.00000000e+00],\n",
       "         ...,\n",
       "         [-0.00000000e+00, -0.00000000e+00, -3.56262954e-01],\n",
       "         [-0.00000000e+00, -2.36348036e-01, -2.36348036e-01],\n",
       "         [-2.39062874e-01, -0.00000000e+00, -2.39062874e-01]],\n",
       "\n",
       "        [[-2.42598494e-01,  0.00000000e+00,  0.00000000e+00],\n",
       "         [ 0.00000000e+00, -9.74774243e-02,  0.00000000e+00],\n",
       "         [-1.33483287e-01, -1.33483287e-01,  0.00000000e+00],\n",
       "         ...,\n",
       "         [-0.00000000e+00, -0.00000000e+00, -3.52893174e-01],\n",
       "         [-0.00000000e+00, -2.36740906e-01, -2.36740906e-01],\n",
       "         [-2.37549410e-01, -0.00000000e+00, -2.37549410e-01]],\n",
       "\n",
       "        [[-2.42646961e-01,  0.00000000e+00,  0.00000000e+00],\n",
       "         [-0.00000000e+00,  2.35478640e-04, -0.00000000e+00],\n",
       "         [-8.53359842e-02, -8.53359842e-02,  0.00000000e+00],\n",
       "         ...,\n",
       "         [-0.00000000e+00, -0.00000000e+00, -3.57927295e-01],\n",
       "         [-0.00000000e+00, -2.36852531e-01, -2.36852531e-01],\n",
       "         [-2.39073239e-01, -0.00000000e+00, -2.39073239e-01]]],\n",
       "\n",
       "\n",
       "       [[[-2.28973851e-03,  0.00000000e+00,  0.00000000e+00],\n",
       "         [ 0.00000000e+00, -2.57010437e-03,  0.00000000e+00],\n",
       "         [ 2.79664369e-04,  2.79664369e-04, -0.00000000e+00],\n",
       "         ...,\n",
       "         [ 0.00000000e+00,  0.00000000e+00,  3.59021967e-01],\n",
       "         [ 0.00000000e+00,  2.52393735e-01,  2.52393735e-01],\n",
       "         [ 2.45869957e-01,  0.00000000e+00,  2.45869957e-01]],\n",
       "\n",
       "        [[-2.58101050e-03,  0.00000000e+00,  0.00000000e+00],\n",
       "         [-0.00000000e+00,  1.94398094e-01, -0.00000000e+00],\n",
       "         [ 1.00154438e-01,  1.00154438e-01, -0.00000000e+00],\n",
       "         ...,\n",
       "         [ 0.00000000e+00,  0.00000000e+00,  3.71996869e-01],\n",
       "         [ 0.00000000e+00,  2.52301775e-01,  2.52301775e-01],\n",
       "         [ 2.51230729e-01,  0.00000000e+00,  2.51230729e-01]],\n",
       "\n",
       "        [[ 2.04690054e-01, -0.00000000e+00, -0.00000000e+00],\n",
       "         [-0.00000000e+00,  1.94626247e-01, -0.00000000e+00],\n",
       "         [ 1.32646032e-01,  1.32646032e-01, -0.00000000e+00],\n",
       "         ...,\n",
       "         [ 0.00000000e+00,  0.00000000e+00,  3.71962008e-01],\n",
       "         [ 0.00000000e+00,  2.51839610e-01,  2.51839610e-01],\n",
       "         [ 2.51238915e-01,  0.00000000e+00,  2.51238915e-01]],\n",
       "\n",
       "        ...,\n",
       "\n",
       "        [[-7.07368744e-04,  0.00000000e+00,  0.00000000e+00],\n",
       "         [-0.00000000e+00,  2.54900169e-04, -0.00000000e+00],\n",
       "         [ 1.61400293e-04,  1.61400293e-04, -0.00000000e+00],\n",
       "         ...,\n",
       "         [-0.00000000e+00, -0.00000000e+00, -3.57702332e-01],\n",
       "         [-0.00000000e+00, -2.36526399e-01, -2.36526399e-01],\n",
       "         [-2.39457240e-01, -0.00000000e+00, -2.39457240e-01]],\n",
       "\n",
       "        [[-2.45741314e-01,  0.00000000e+00,  0.00000000e+00],\n",
       "         [ 0.00000000e+00, -9.06322720e-02,  0.00000000e+00],\n",
       "         [-1.31678530e-01, -1.31678530e-01,  0.00000000e+00],\n",
       "         ...,\n",
       "         [-0.00000000e+00, -0.00000000e+00, -3.54084693e-01],\n",
       "         [-0.00000000e+00, -2.36872121e-01, -2.36872121e-01],\n",
       "         [-2.37860250e-01, -0.00000000e+00, -2.37860250e-01]],\n",
       "\n",
       "        [[-2.45775466e-01,  0.00000000e+00,  0.00000000e+00],\n",
       "         [-0.00000000e+00,  2.80475645e-04, -0.00000000e+00],\n",
       "         [-8.64091646e-02, -8.64091646e-02,  0.00000000e+00],\n",
       "         ...,\n",
       "         [-0.00000000e+00, -0.00000000e+00, -3.59326905e-01],\n",
       "         [-0.00000000e+00, -2.37010768e-01, -2.37010768e-01],\n",
       "         [-2.39473318e-01, -0.00000000e+00, -2.39473318e-01]]]])"
      ]
     },
     "execution_count": 51,
     "metadata": {},
     "output_type": "execute_result"
    }
   ],
   "source": [
    "frc"
   ]
  },
  {
   "cell_type": "code",
   "execution_count": 52,
   "id": "chinese-herald",
   "metadata": {},
   "outputs": [],
   "source": [
    "fy = np.zeros((frc_svarsGP.shape[0],N1*N2*6,24))\n",
    "for t in range(frc_svarsGP.shape[0]):\n",
    "    for b in range(N1*N2*6):\n",
    "        for i in range(24):\n",
    "#             print(frc[t,b,i])\n",
    "            fy[t,b,i]=np.dot(frc[t,b,i],np.array([0,1,0]))\n",
    "#             print(fy[t,b,i])"
   ]
  },
  {
   "cell_type": "code",
   "execution_count": 53,
   "id": "thick-venezuela",
   "metadata": {},
   "outputs": [
    {
     "data": {
      "text/plain": [
       "(20, 600, 24)"
      ]
     },
     "execution_count": 53,
     "metadata": {},
     "output_type": "execute_result"
    }
   ],
   "source": [
    "fy.shape"
   ]
  },
  {
   "cell_type": "code",
   "execution_count": 54,
   "id": "complicated-solomon",
   "metadata": {},
   "outputs": [],
   "source": [
    "Fy = np.sum(np.sum(fy,axis=2),axis=1)"
   ]
  },
  {
   "cell_type": "code",
   "execution_count": 55,
   "id": "heavy-waters",
   "metadata": {},
   "outputs": [
    {
     "data": {
      "text/plain": [
       "array([ 43.58282484,  87.33828253, 131.08647043, 169.9471731 ,\n",
       "       205.13693406, 235.33627385, 263.70544614, 291.10704612,\n",
       "       316.63559894, 336.49380577, 348.236862  , 357.568839  ,\n",
       "       364.67088053, 370.90248249, 374.97518823, 378.46375446,\n",
       "       381.59314773, 383.99604028, 386.59144982, 389.10789285])"
      ]
     },
     "execution_count": 55,
     "metadata": {},
     "output_type": "execute_result"
    }
   ],
   "source": [
    "Fy"
   ]
  },
  {
   "cell_type": "code",
   "execution_count": 57,
   "id": "split-investigator",
   "metadata": {},
   "outputs": [
    {
     "data": {
      "image/png": "[encoded data removed]",
      "text/plain": [
       "<Figure size 432x360 with 1 Axes>"
      ]
     },
     "metadata": {
      "needs_background": "light"
     },
     "output_type": "display_data"
    }
   ],
   "source": [
    "%matplotlib inline\n",
    "plt.rcParams[\"figure.figsize\"] = (6,5)\n",
    "# plt.plot(u,V,'k-',linewidth=2)\n",
    "plt.plot(Uy[0]*0,Fy[0]*0*1000,color='k', alpha = 1, marker='o', linestyle='--',linewidth=1, markersize=6)\n",
    "plt.plot(Uy,Fy*1000/(N*6),color='k', alpha = 1, marker='o', linestyle='--',linewidth=1, markersize=6)\n",
    "# plt.plot(np.array(0,,Fy[0]*0*1000,color='k', alpha = 1, marker='o', linestyle='--',linewidth=1, markersize=6)\n",
    "plt.grid(color='k', linestyle='--', linewidth=0.2)\n",
    "plt.title('Force-displacement curve of MDOF system')\n",
    "plt.ylabel('$Base$ $shear, V$');plt.xlabel('$Top$ $displacement, D_t$ $(m)$'); plt.show()"
   ]
  },
  {
   "cell_type": "code",
   "execution_count": 15,
   "id": "documentary-exception",
   "metadata": {},
   "outputs": [
    {
     "data": {
      "text/plain": [
       "(array([-0.20492618, -0.07015276, -0.06980152, -0.02505716,  0.06491568,\n",
       "         0.06497283,  0.06479592]),\n",
       " array([[-0.2       , -0.07912538, -0.07912538, -0.03883385,  0.08349846,\n",
       "          0.08349846,  0.08349846],\n",
       "        [-0.2       , -0.07260727, -0.07260727, -0.03014148,  0.07136525,\n",
       "          0.07136525,  0.07136525],\n",
       "        [-0.20167817, -0.07057324, -0.07057324, -0.02662624,  0.06685069,\n",
       "          0.06675515,  0.06675515],\n",
       "        [-0.20322618, -0.06993979, -0.06993979, -0.0253369 ,  0.06525721,\n",
       "          0.06513523,  0.06513523],\n",
       "        [-0.20342109, -0.06974412, -0.06974412, -0.02509333,  0.06489352,\n",
       "          0.06481036,  0.06481036],\n",
       "        [-0.20345523, -0.06965608, -0.06965608, -0.02499987,  0.06474255,\n",
       "          0.06468349,  0.06468349],\n",
       "        [-0.20345523, -0.06965608, -0.06965608, -0.02499987,  0.06474255,\n",
       "          0.06468349,  0.06468349]]))"
      ]
     },
     "execution_count": 15,
     "metadata": {},
     "output_type": "execute_result"
    }
   ],
   "source": [
    "IC_F,IC_Fm"
   ]
  },
  {
   "cell_type": "code",
   "execution_count": 16,
   "id": "interstate-operator",
   "metadata": {},
   "outputs": [],
   "source": [
    "# file = './Macro-3D_L10x10x10_UNIFORM_V10x10x10'\n",
    "# with open(file, 'rb') as f_obj:\n",
    "#     data = pickle.load(f_obj)\n",
    "# usol,stress,svars,ISV,IC = data\n",
    "# energy= svars[:,-3]\n",
    "# dissipation= svars[:,6+6+22+1:6+6+22+2]\n",
    "# usol=np.reshape(usol,(-1,3))\n",
    "# U0x=np.amax(usol[:,0])\n",
    "# U0y=np.amax(usol[:,1])\n",
    "# E0=np.sum(energy)\n",
    "# D15x15x30=np.sum(dissipation)\n",
    "# N=10*10*10\n",
    "# V=1\n",
    "# # print(np.mean(IC[-6:],axis=0)[-8:]) #(take -2): -0.93940901\n",
    "# IC_u = IC[:,-24:]\n",
    "# IC_f = IC[:,:-24]\n",
    "# IC_u = IC_u.reshape(IC_u.shape[0],IC_u.shape[1]//3,3)\n",
    "# # IC[-6:,-4:] #(take -2): -0.90854154\n",
    "# U1x=np.mean(IC_u[-6:,0])\n",
    "# U1y=np.mean(IC_u[-6:,2])\n",
    "# E0=E0*V/(N*6)\n",
    "# U0x,U0y,E0,U1x,U1y"
   ]
  },
  {
   "cell_type": "code",
   "execution_count": 17,
   "id": "derived-vessel",
   "metadata": {},
   "outputs": [
    {
     "data": {
      "text/plain": [
       "array([[0.41749231, 0.41749231],\n",
       "       [0.35799957, 0.35799957],\n",
       "       [0.34595502, 0.34595502],\n",
       "       [0.34082084, 0.34082084],\n",
       "       [0.33958257, 0.33958257],\n",
       "       [0.33905813, 0.33905813],\n",
       "       [0.        , 0.        ]])"
      ]
     },
     "execution_count": 17,
     "metadata": {},
     "output_type": "execute_result"
    }
   ],
   "source": [
    "U_m"
   ]
  },
  {
   "cell_type": "code",
   "execution_count": 18,
   "id": "pharmaceutical-celtic",
   "metadata": {},
   "outputs": [
    {
     "data": {
      "text/plain": [
       "array([51.34833103, 48.63902803, 47.55851193, 47.11722328, 46.99178419,\n",
       "       46.93258781,  0.        ])"
      ]
     },
     "execution_count": 18,
     "metadata": {},
     "output_type": "execute_result"
    }
   ],
   "source": [
    "E_m"
   ]
  },
  {
   "cell_type": "code",
   "execution_count": 19,
   "id": "blind-throw",
   "metadata": {},
   "outputs": [],
   "source": [
    "e = np.array([1/1,1/2,1/4,1/8,1/12,1/16,1/20])\n",
    "e_M = np.array([1/1,1/2,1/4,1/8,1/12,1/16,1/20])\n",
    "E_M = np.ones((e_M.shape[0]))*E0\n",
    "IC_FM= np.ones((IC_Fm.shape[0],IC_Fm.shape[1]))*IC_F\n",
    "U_M = np.zeros((e_M.shape[0],2))\n",
    "U_0 = np.ones((e_M.shape[0]))*U0x\n",
    "U_M[:,0] = U0x*np.ones((U_M.shape[0]))+e_M*U1y\n",
    "U_M[:,1] = U0y*np.ones((U_M.shape[0]))+e_M*U1y"
   ]
  },
  {
   "cell_type": "code",
   "execution_count": 20,
   "id": "following-medium",
   "metadata": {},
   "outputs": [],
   "source": [
    "U_m[-1] = U_m[-2]+0.0002622199999999797\n",
    "E_m[-1] = E_m[-2]+0.02959818999999797"
   ]
  },
  {
   "cell_type": "code",
   "execution_count": 21,
   "id": "pharmaceutical-collective",
   "metadata": {},
   "outputs": [
    {
     "data": {
      "text/plain": [
       "0.06271954500000021"
      ]
     },
     "execution_count": 21,
     "metadata": {},
     "output_type": "execute_result"
    }
   ],
   "source": [
    "(47.11722328-46.99178419)/2"
   ]
  },
  {
   "cell_type": "code",
   "execution_count": 22,
   "id": "forward-decrease",
   "metadata": {},
   "outputs": [
    {
     "data": {
      "text/plain": [
       "0.02959818999999797"
      ]
     },
     "execution_count": 22,
     "metadata": {},
     "output_type": "execute_result"
    }
   ],
   "source": [
    "(46.99178419-46.93258781)/2"
   ]
  },
  {
   "cell_type": "code",
   "execution_count": 23,
   "id": "amazing-composition",
   "metadata": {},
   "outputs": [],
   "source": [
    "import matplotlib.pyplot as plt\n",
    "from matplotlib.ticker import (MultipleLocator, FormatStrFormatter, AutoMinorLocator)\n",
    "import matplotlib as mpl\n",
    "mpl.rcParams['axes.unicode_minus']=False\n",
    "plt.rcParams[\"figure.figsize\"] = (4,3)\n",
    "import matplotlib.pyplot as plt\n",
    "# # plt.rcParams[\"font.family\"] = \"Times New Roman\"\n",
    "font = {'size'   : 13}\n",
    "from matplotlib import rc\n",
    "plt.rc('font', **font)\n",
    "ftsz_leg = 9\n",
    "ftsz = 12\n",
    "mkSZ = 4\n",
    "mkSZs = 0\n",
    "lnWDT = 0.25\n",
    "lnWDTs = 6\n",
    "from matplotlib import rc\n",
    "rc('font',**{'family':'sans-serif','sans-serif':['Times New Roman']})\n",
    "## for Palatino and other serif fonts use:\n",
    "#rc('font',**{'family':'serif','serif':['Palatino']})\n",
    "rc('text', usetex=True)\n",
    "\n",
    "import numpy as np\n",
    "import matplotlib.pyplot as plt"
   ]
  },
  {
   "cell_type": "code",
   "execution_count": 24,
   "id": "architectural-weather",
   "metadata": {},
   "outputs": [
    {
     "data": {
      "text/plain": [
       "52.34833102704239"
      ]
     },
     "execution_count": 24,
     "metadata": {},
     "output_type": "execute_result"
    }
   ],
   "source": [
    "E_m[0]+1"
   ]
  },
  {
   "cell_type": "code",
   "execution_count": null,
   "id": "spanish-contrary",
   "metadata": {},
   "outputs": [],
   "source": []
  },
  {
   "cell_type": "code",
   "execution_count": 25,
   "id": "adverse-sympathy",
   "metadata": {},
   "outputs": [
    {
     "data": {
      "image/png": "[encoded data removed]",
      "text/plain": [
       "<Figure size 288x151.2 with 1 Axes>"
      ]
     },
     "metadata": {
      "needs_background": "light"
     },
     "output_type": "display_data"
    },
    {
     "data": {
      "image/png": "[encoded data removed]",
      "text/plain": [
       "<Figure size 288x151.2 with 1 Axes>"
      ]
     },
     "metadata": {
      "needs_background": "light"
     },
     "output_type": "display_data"
    }
   ],
   "source": [
    "cE = 8.96; cD = 9.0; A = np.pi*(1e-2)**2; cP=1000\n",
    "plt.rc('text', usetex=True)\n",
    "plt.rc('font', family='serif')\n",
    "fig = plt.figure(figsize=(4,2.1))\n",
    "# (ax11), (ax12) = fig.subplots(1,2)\n",
    "(ax11) = fig.subplots(1,1)\n",
    "plt.tight_layout(pad=2.5, w_pad=3.5, h_pad=3.5)\n",
    "ax11.margins(x=0.1, y = 0.2)\n",
    "ax11.xaxis.set_minor_locator(AutoMinorLocator())\n",
    "ax11.yaxis.set_minor_locator(AutoMinorLocator())\n",
    "ax11.plot(1/e,E_m*cE*A, color='darkorange', marker=\"s\",markersize=mkSZ,linewidth=lnWDT,label=\"$\\mathit{\\Psi}^{\\epsilon}_{tot}$\")\n",
    "\n",
    "ax11.plot(1/e_M,E_M*cE*A, color='black', linestyle='--', marker=\"^\",markersize=0*mkSZ,linewidth=lnWDT,label=\"$\\mathit{\\Psi}^{(1)}_{tot}$\")\n",
    "\n",
    "ax11.set_xlabel('$1/\\epsilon$')\n",
    "ax11.set_ylabel('$\\mathit{\\Psi}$ (kNm)')\n",
    "# ax11.ticklabel_format(axis=\"x\", style=\"sci\", scilimits=(3,3))\n",
    "# ax11.ticklabel_format(axis=\"y\", style=\"sci\", scilimits=(0,0))\n",
    "ax11.legend(loc='best',fontsize=ftsz_leg)\n",
    "ax11.grid(True, which='major', linewidth=0.3, color='lightgray')\n",
    "ax11.grid(True, which='minor', linewidth=0.3, alpha=0.2, color='lightgray')\n",
    "# ax11.set_ylim([0.605,0.617])\n",
    "fig.savefig(f\"UNI_PL_ene.pdf\", format=\"pdf\", transparent=True)\n",
    "\n",
    "plt.rc('text', usetex=True)\n",
    "plt.rc('font', family='serif')\n",
    "fig = plt.figure(figsize=(4,2.1))\n",
    "# (ax11), (ax12) = fig.subplots(1,2)\n",
    "(ax11) = fig.subplots(1,1)\n",
    "plt.tight_layout(pad=2.5, w_pad=3.5, h_pad=3.5)\n",
    "ax11.margins(x=0.1, y = 0.2)\n",
    "ax11.xaxis.set_minor_locator(AutoMinorLocator())\n",
    "ax11.yaxis.set_minor_locator(AutoMinorLocator())\n",
    "ax11.plot(1/e_M,U_0, color='black', alpha=0.15, marker=\"s\",linestyle='-',markersize=mkSZ*0,linewidth=8*lnWDT,label=\"$u^{(0)}$\")\n",
    "ax11.plot(1/e,U_m[:,0], color='mediumblue', marker=\"s\",markersize=mkSZ,linewidth=lnWDT,label=\"$u^{\\epsilon}$\")\n",
    "ax11.plot(1/e_M,U_M[:,0], color='black', alpha=1, linestyle='--',marker=\"^\",markersize=mkSZ,linewidth=lnWDT,label=\"$u^{(0)}+\\epsilon u^{(1)}$\")\n",
    "# # ax12.plot(1/e,Ue, color='red', alpha=1,marker=\"o\",markersize=mkSZ,linewidth=lnWDT,label=\"$u^{\\epsilon}$\")\n",
    "ax11.set_xlabel('$1/\\epsilon$')\n",
    "ax11.set_ylabel('$u$ (cm)')\n",
    "# ax12.ticklabel_format(axis=\"x\", style=\"sci\", scilimits=(3,3))\n",
    "# ax12.ticklabel_format(axis=\"y\", style=\"sci\", scilimits=(0,0))\n",
    "ax11.legend(loc='best',fontsize=ftsz_leg)\n",
    "ax11.grid(True, which='major', linewidth=0.3, color='lightgray')\n",
    "ax11.grid(True, which='minor', linewidth=0.3, alpha=0.2, color='lightgray')\n",
    "# ax11.set_ylim([0.3,0.43])\n",
    "\n",
    "fig.savefig(f\"UNI_PL_dis.pdf\", format=\"pdf\", transparent=True)\n"
   ]
  },
  {
   "cell_type": "code",
   "execution_count": 35,
   "id": "blessed-flight",
   "metadata": {},
   "outputs": [
    {
     "data": {
      "image/png": "[encoded data removed]",
      "text/plain": [
       "<Figure size 1152x151.2 with 4 Axes>"
      ]
     },
     "metadata": {
      "needs_background": "light"
     },
     "output_type": "display_data"
    }
   ],
   "source": [
    "plt.rc('text', usetex=True)\n",
    "plt.rc('font', family='serif')\n",
    "fig = plt.figure(figsize=(4*4,2.1))\n",
    "(ax11), (ax12) , (ax13), (ax14) = fig.subplots(1,4)\n",
    "# (ax11) = fig.subplots(1,1)\n",
    "plt.tight_layout(pad=2.5, w_pad=3.5, h_pad=3.5)\n",
    "ax11.margins(x=0.1, y = 0.2)\n",
    "ax11.xaxis.set_minor_locator(AutoMinorLocator())\n",
    "ax11.yaxis.set_minor_locator(AutoMinorLocator())\n",
    "\n",
    "ax11.plot(1/e,IC_Fm[:,-1]*cP, color='black', marker=\"s\",markersize=mkSZ,linewidth=lnWDT,label=\"$\\sigma^{\\epsilon}$\")\n",
    "ax11.plot(1/e_M,IC_FM[:,-1]*cP, color='black', alpha=0.15, marker=\"s\",linestyle='-',markersize=mkSZ*0,linewidth=8*lnWDT,label=\"$\\sigma^{(1)}$\")\n",
    "\n",
    "ax11.set_xlabel('$1/\\epsilon$')\n",
    "ax11.set_ylabel('$\\sigma$ (MPa)')\n",
    "ax11.legend(loc='best',fontsize=ftsz_leg)\n",
    "ax11.grid(True, which='major', linewidth=0.3, color='lightgray')\n",
    "ax11.grid(True, which='minor', linewidth=0.3, alpha=0.2, color='lightgray')\n",
    "\n",
    "ax12.margins(x=0.1, y = 0.2)\n",
    "ax12.xaxis.set_minor_locator(AutoMinorLocator())\n",
    "ax12.yaxis.set_minor_locator(AutoMinorLocator())\n",
    "\n",
    "# ax12.plot(1/e,IC_Fm[:,1], color='red', marker=\"o\",markersize=mkSZ,linewidth=lnWDT,label=\"$\\mathit{\\Psi}^{\\epsilon}$\")\n",
    "# ax12.plot(1/e_M,IC_FM[:,1], color='mediumblue', marker=\"o\",markersize=mkSZ,linewidth=lnWDT,label=\"$\\mathit{\\Psi}^{(1)}$\")\n",
    "ax12.plot(1/e,IC_Fm[:,2]*cP, color='black', marker=\"s\",markersize=mkSZ,linewidth=lnWDT,label=\"$\\sigma^{\\epsilon}$\")\n",
    "ax12.plot(1/e_M,IC_FM[:,2]*cP, color='black', alpha=0.15, marker=\"s\",linestyle='-',markersize=mkSZ*0,linewidth=8*lnWDT,label=\"$\\sigma^{(1)}$\")\n",
    "\n",
    "ax12.set_xlabel('$1/\\epsilon$')\n",
    "ax12.set_ylabel('$\\sigma$ (MPa)')\n",
    "ax12.legend(loc='best',fontsize=ftsz_leg)\n",
    "ax12.grid(True, which='major', linewidth=0.3, color='lightgray')\n",
    "ax12.grid(True, which='minor', linewidth=0.3, alpha=0.2, color='lightgray')\n",
    "\n",
    "ax13.margins(x=0.1, y = 0.2)\n",
    "ax13.xaxis.set_minor_locator(AutoMinorLocator())\n",
    "ax13.yaxis.set_minor_locator(AutoMinorLocator())\n",
    "\n",
    "ax13.plot(1/e,IC_Fm[:,-4]*cP, color='black', marker=\"s\",markersize=mkSZ,linewidth=lnWDT,label=\"$\\sigma^{\\epsilon}$\")\n",
    "ax13.plot(1/e_M,IC_FM[:,-4]*cP, color='black', alpha=0.15, marker=\"s\",linestyle='-',markersize=mkSZ*0,linewidth=8*lnWDT,label=\"$\\sigma^{(1)}$\")\n",
    "\n",
    "ax13.set_xlabel('$1/\\epsilon$')\n",
    "ax13.set_ylabel('$\\sigma$ (MPa)')\n",
    "ax13.legend(loc='best',fontsize=ftsz_leg)\n",
    "ax13.grid(True, which='major', linewidth=0.3, color='lightgray')\n",
    "ax13.grid(True, which='minor', linewidth=0.3, alpha=0.2, color='lightgray')\n",
    "\n",
    "ax14.margins(x=0.1, y = 0.6)\n",
    "ax14.xaxis.set_minor_locator(AutoMinorLocator())\n",
    "ax14.yaxis.set_minor_locator(AutoMinorLocator())\n",
    "ax14.plot(1/e,IC_Fm[:,0]*cP, color='black', marker=\"s\",markersize=mkSZ,linewidth=lnWDT,label=\"$\\sigma^{\\epsilon}$\")\n",
    "ax14.plot(1/e_M,IC_FM[:,0]*cP, color='black', alpha=0.15, marker=\"s\",linestyle='-',markersize=mkSZ*0,linewidth=8*lnWDT,label=\"$\\sigma^{(1)}$\")\n",
    "\n",
    "ax14.set_xlabel('$1/\\epsilon$')\n",
    "ax14.set_ylabel('$\\sigma$ (MPa)')\n",
    "ax14.legend(loc='best',fontsize=ftsz_leg)\n",
    "ax14.grid(True, which='major', linewidth=0.3, color='lightgray')\n",
    "ax14.grid(True, which='minor', linewidth=0.3, alpha=0.2, color='lightgray')\n",
    "ax14.set_ylim([-210,-190])\n",
    "\n",
    "fig.savefig(f\"COMP_EL_stress.pdf\", format=\"pdf\", transparent=True)"
   ]
  },
  {
   "cell_type": "code",
   "execution_count": 27,
   "id": "solid-czech",
   "metadata": {},
   "outputs": [
    {
     "data": {
      "text/plain": [
       "0.39464980380806225"
      ]
     },
     "execution_count": 27,
     "metadata": {},
     "output_type": "execute_result"
    }
   ],
   "source": [
    "np.mean(100*(IC_F/IC_Fm[-1]-1))"
   ]
  },
  {
   "cell_type": "code",
   "execution_count": 28,
   "id": "married-simon",
   "metadata": {},
   "outputs": [
    {
     "data": {
      "text/plain": [
       "array([[33.39275033, 33.4905638 ],\n",
       "       [10.58530544, 10.66369973],\n",
       "       [ 5.11915263,  5.19245383],\n",
       "       [ 2.72016184,  2.79120951],\n",
       "       [ 2.07132299,  2.14173163],\n",
       "       [ 1.77663984,  1.84675072],\n",
       "       [ 1.77323519,  1.84328716]])"
      ]
     },
     "execution_count": 28,
     "metadata": {},
     "output_type": "execute_result"
    }
   ],
   "source": [
    "100*(U_m/U_M-1)"
   ]
  },
  {
   "cell_type": "code",
   "execution_count": 31,
   "id": "different-hudson",
   "metadata": {},
   "outputs": [
    {
     "data": {
      "text/plain": [
       "array([9.41765157e+00, 3.64442456e+00, 1.34196347e+00, 4.01625851e-01,\n",
       "       1.34328922e-01, 8.18794370e-03, 7.12584345e-02])"
      ]
     },
     "execution_count": 31,
     "metadata": {},
     "output_type": "execute_result"
    }
   ],
   "source": [
    "100*(E_m*cE*A/(E_M*cE*A)-1)"
   ]
  },
  {
   "cell_type": "code",
   "execution_count": 32,
   "id": "reflected-scheduling",
   "metadata": {},
   "outputs": [],
   "source": [
    "# file = './Macro-3D_L5x5x10_UNIFORM_V10x10x20'\n",
    "# with open(file, 'rb') as f_obj:\n",
    "#     data = pickle.load(f_obj)\n",
    "# usol,stress,svars,ISV,IC = data\n",
    "# energy= svars[:,-3]\n",
    "# dissipation= svars[:,6+6+22+1:6+6+22+2]\n",
    "# usol=np.reshape(usol,(-1,3))\n",
    "# U0x=np.amax(usol[:,0])\n",
    "# U0y=np.amax(usol[:,1])\n",
    "# E0=np.sum(energy)\n",
    "# D15x15x30=np.sum(dissipation)\n",
    "# N=5*5*10\n",
    "# V=10*10*20\n",
    "# # print(np.mean(IC[-6:],axis=0)[-8:]) #(take -2): -0.93940901\n",
    "# IC_u = IC[:,-24:]\n",
    "# IC_f = IC[:,:-24]\n",
    "# IC_u = IC_u.reshape(IC_u.shape[0],IC_u.shape[1]//3,3)\n",
    "# # IC[-6:,-4:] #(take -2): -0.90854154\n",
    "# U1x=np.mean(IC_u[-6:,0])\n",
    "# U1y=np.mean(IC_u[-6:,2])\n",
    "# E0=E0*V/(N*6)\n",
    "# U0x,U0y,E0,U1x,U1y"
   ]
  },
  {
   "cell_type": "code",
   "execution_count": null,
   "id": "searching-going",
   "metadata": {},
   "outputs": [],
   "source": []
  },
  {
   "cell_type": "code",
   "execution_count": null,
   "id": "raised-czech",
   "metadata": {},
   "outputs": [],
   "source": []
  }
 ],
 "metadata": {
  "kernelspec": {
   "display_name": "Python 3",
   "language": "python",
   "name": "python3"
  },
  "language_info": {
   "codemirror_mode": {
    "name": "ipython",
    "version": 3
   },
   "file_extension": ".py",
   "mimetype": "text/x-python",
   "name": "python",
   "nbconvert_exporter": "python",
   "pygments_lexer": "ipython3",
   "version": "3.8.10"
  }
 },
 "nbformat": 4,
 "nbformat_minor": 5
}

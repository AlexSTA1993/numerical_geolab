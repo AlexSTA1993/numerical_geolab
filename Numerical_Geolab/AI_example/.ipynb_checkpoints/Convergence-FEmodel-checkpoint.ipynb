{
 "cells": [
  {
   "cell_type": "code",
   "execution_count": 1,
   "id": "indirect-party",
   "metadata": {},
   "outputs": [],
   "source": [
    "import matplotlib.pyplot as plt\n",
    "import numpy as np\n",
    "import pickle\n",
    "np.random.seed(1)"
   ]
  },
  {
   "cell_type": "code",
   "execution_count": 2,
   "id": "improved-indication",
   "metadata": {},
   "outputs": [],
   "source": [
    "Ut_m = np.zeros(5)\n",
    "Et_m = np.zeros(5)\n",
    "Dt_m = np.zeros(5)\n",
    "Uc_m = np.zeros(5)\n",
    "Ec_m = np.zeros(5)\n",
    "Dc_m = np.zeros(5)\n",
    "\n",
    "Uu_m = np.zeros(5)\n",
    "Eu_m = np.zeros(5)\n",
    "Du_m = np.zeros(5)"
   ]
  },
  {
   "cell_type": "code",
   "execution_count": 3,
   "id": "advanced-guard",
   "metadata": {},
   "outputs": [],
   "source": [
    "file = './Macro-3D_L5x5x10_T_V10x10x20_CONVEL'\n",
    "with open(file, 'rb') as f_obj:\n",
    "    data = pickle.load(f_obj)\n",
    "usol,stress,svars,ISV,IC = data\n",
    "energy= svars[:,-3]\n",
    "dissipation= svars[:,6+6+22+1:6+6+22+2]\n",
    "usol=np.reshape(usol,(-1,3))\n",
    "\n",
    "E0=np.sum(energy)\n",
    "D0=np.sum(dissipation)\n",
    "N=5*5*10\n",
    "V=10*10*20\n",
    "IC_u = IC[:,-24:]\n",
    "IC_f = IC[:,:-24]\n",
    "IC_u = IC_u.reshape(IC_u.shape[0],IC_u.shape[1]//3,3)\n",
    "U1=IC_u[-1,6,2]\n",
    "Ut_m[0]=np.amax(usol[:,2])\n",
    "Et_m[0]=E0*V/(N*6)\n",
    "Dt_m[0]=D0*V/(N*6)\n",
    "# U0,E0,U1"
   ]
  },
  {
   "cell_type": "code",
   "execution_count": 4,
   "id": "insured-notice",
   "metadata": {},
   "outputs": [],
   "source": [
    "file = './Macro-3D_L10x10x20_T_V10x10x20_CONVEL'\n",
    "with open(file, 'rb') as f_obj:\n",
    "    data = pickle.load(f_obj)\n",
    "usol,stress,svars,ISV,IC = data\n",
    "energy= svars[:,-3]\n",
    "dissipation= svars[:,6+6+22+1:6+6+22+2]\n",
    "usol=np.reshape(usol,(-1,3))\n",
    "# U_m[1]=np.amax(usol[:,2])\n",
    "E0=np.sum(energy)\n",
    "D0=np.sum(dissipation)\n",
    "N=10*10*20\n",
    "V=10*10*20\n",
    "IC_u = IC[:,-24:]\n",
    "IC_f = IC[:,:-24]\n",
    "IC_u = IC_u.reshape(IC_u.shape[0],IC_u.shape[1]//3,3)\n",
    "U1=IC_u[-1,6,2]\n",
    "Ut_m[1]=np.amax(usol[:,2])\n",
    "Et_m[1]=E0*V/(N*6)\n",
    "Dt_m[1]=D0*V/(N*6)\n",
    "# U0,E0,U1"
   ]
  },
  {
   "cell_type": "code",
   "execution_count": 5,
   "id": "ambient-cursor",
   "metadata": {},
   "outputs": [],
   "source": [
    "file = './Macro-3D_L15x15x30_T_V10x10x20_CONVEL'\n",
    "with open(file, 'rb') as f_obj:\n",
    "    data = pickle.load(f_obj)\n",
    "usol,stress,svars,ISV,IC = data\n",
    "energy= svars[:,-3]\n",
    "dissipation= svars[:,6+6+22+1:6+6+22+2]\n",
    "usol=np.reshape(usol,(-1,3))\n",
    "# U_m[2]=np.amax(usol[:,2])\n",
    "E0=np.sum(energy)\n",
    "D0=np.sum(dissipation)\n",
    "N=15*15*30\n",
    "V=10*10*20\n",
    "IC_u = IC[:,-24:]\n",
    "IC_f = IC[:,:-24]\n",
    "IC_u = IC_u.reshape(IC_u.shape[0],IC_u.shape[1]//3,3)\n",
    "U1=IC_u[-1,6,2]\n",
    "Ut_m[2]=np.amax(usol[:,2])\n",
    "Et_m[2]=E0*V/(N*6)\n",
    "Dt_m[2]=D0*V/(N*6)\n",
    "# U0,E0,U1"
   ]
  },
  {
   "cell_type": "code",
   "execution_count": 6,
   "id": "breathing-gentleman",
   "metadata": {},
   "outputs": [],
   "source": [
    "file = './Macro-3D_L20x20x40_T_V10x10x20_CONVEL'\n",
    "with open(file, 'rb') as f_obj:\n",
    "    data = pickle.load(f_obj)\n",
    "usol,stress,svars,ISV,IC = data\n",
    "energy= svars[:,-3]\n",
    "dissipation= svars[:,6+6+22+1:6+6+22+2]\n",
    "usol=np.reshape(usol,(-1,3))\n",
    "# U_m[3]=np.amax(usol[:,2])\n",
    "E0=np.sum(energy)\n",
    "D0=np.sum(dissipation)\n",
    "N=20*20*40\n",
    "V=10*10*20\n",
    "IC_u = IC[:,-24:]\n",
    "IC_f = IC[:,:-24]\n",
    "IC_u = IC_u.reshape(IC_u.shape[0],IC_u.shape[1]//3,3)\n",
    "U1=IC_u[-1,6,2]\n",
    "Ut_m[3]=np.amax(usol[:,2])\n",
    "Et_m[3]=E0*V/(N*6)\n",
    "Dt_m[3]=D0*V/(N*6)\n",
    "# U0,E0,U1"
   ]
  },
  {
   "cell_type": "code",
   "execution_count": 7,
   "id": "applied-listing",
   "metadata": {},
   "outputs": [],
   "source": [
    "file = './Macro-3D_L22x22x44_T_V10x10x20_CONVEL'\n",
    "with open(file, 'rb') as f_obj:\n",
    "    data = pickle.load(f_obj)\n",
    "usol,stress,svars,ISV,IC = data\n",
    "energy= svars[:,-3]\n",
    "dissipation= svars[:,6+6+22+1:6+6+22+2]\n",
    "usol=np.reshape(usol,(-1,3))\n",
    "# U_m[4]=np.amax(usol[:,2])\n",
    "E0=np.sum(energy)\n",
    "D0=np.sum(dissipation)\n",
    "N=22*22*44\n",
    "V=10*10*20\n",
    "IC_u = IC[:,-24:]\n",
    "IC_f = IC[:,:-24]\n",
    "IC_u = IC_u.reshape(IC_u.shape[0],IC_u.shape[1]//3,3)\n",
    "U1=IC_u[-1,6,2]\n",
    "Ut_m[4]=np.amax(usol[:,2])\n",
    "Et_m[4]=E0*V/(N*6)\n",
    "Dt_m[4]=D0*V/(N*6)\n",
    "# U0,E0,U1"
   ]
  },
  {
   "cell_type": "code",
   "execution_count": 8,
   "id": "capable-wrapping",
   "metadata": {},
   "outputs": [],
   "source": [
    "file = './Macro-3D_L5x5x5_UNIFORM_V10x10x30_CONVEL'\n",
    "with open(file, 'rb') as f_obj:\n",
    "    data = pickle.load(f_obj)\n",
    "usol,stress,svars,ISV,IC = data\n",
    "energy= svars[:,-3]\n",
    "dissipation= svars[:,6+6+22+1:6+6+22+2]\n",
    "usol=np.reshape(usol,(-1,3))\n",
    "\n",
    "E0=np.sum(energy)\n",
    "D0=np.sum(dissipation)\n",
    "N=5*5*5\n",
    "V=10*10*10\n",
    "IC_u = IC[:,-24:]\n",
    "IC_f = IC[:,:-24]\n",
    "IC_u = IC_u.reshape(IC_u.shape[0],IC_u.shape[1]//3,3)\n",
    "U1=IC_u[-1,6,2]\n",
    "Uc_m[0]=np.amax(usol[:,0])\n",
    "Ec_m[0]=E0*V/(N*6)\n",
    "Dc_m[0]=D0*V/(N*6)\n",
    "# U0,E0,U1"
   ]
  },
  {
   "cell_type": "code",
   "execution_count": 9,
   "id": "persistent-wedding",
   "metadata": {},
   "outputs": [],
   "source": [
    "file = './Macro-3D_L10x10x10_UNIFORM_V10x10x30_CONVEL'\n",
    "with open(file, 'rb') as f_obj:\n",
    "    data = pickle.load(f_obj)\n",
    "usol,stress,svars,ISV,IC = data\n",
    "energy= svars[:,-3]\n",
    "dissipation= svars[:,6+6+22+1:6+6+22+2]\n",
    "usol=np.reshape(usol,(-1,3))\n",
    "\n",
    "E0=np.sum(energy)\n",
    "D0=np.sum(dissipation)\n",
    "N=10**3\n",
    "V=10*10*10\n",
    "IC_u = IC[:,-24:]\n",
    "IC_f = IC[:,:-24]\n",
    "IC_u = IC_u.reshape(IC_u.shape[0],IC_u.shape[1]//3,3)\n",
    "U1=IC_u[-1,6,2]\n",
    "Uc_m[1]=np.amax(usol[:,0])\n",
    "Ec_m[1]=E0*V/(N*6)\n",
    "Dc_m[1]=D0*V/(N*6)\n",
    "# U0,E0,U1"
   ]
  },
  {
   "cell_type": "code",
   "execution_count": 10,
   "id": "concrete-waters",
   "metadata": {},
   "outputs": [],
   "source": [
    "file = './Macro-3D_L15x15x15_UNIFORM_V10x10x30_CONVEL'\n",
    "with open(file, 'rb') as f_obj:\n",
    "    data = pickle.load(f_obj)\n",
    "usol,stress,svars,ISV,IC = data\n",
    "energy= svars[:,-3]\n",
    "dissipation= svars[:,6+6+22+1:6+6+22+2]\n",
    "usol=np.reshape(usol,(-1,3))\n",
    "\n",
    "E0=np.sum(energy)\n",
    "D0=np.sum(dissipation)\n",
    "N=15**3\n",
    "V=10*10*10\n",
    "IC_u = IC[:,-24:]\n",
    "IC_f = IC[:,:-24]\n",
    "IC_u = IC_u.reshape(IC_u.shape[0],IC_u.shape[1]//3,3)\n",
    "U1=IC_u[-1,6,2]\n",
    "Uc_m[2]=np.amax(usol[:,0])\n",
    "Ec_m[2]=E0*V/(N*6)\n",
    "Dc_m[2]=D0*V/(N*6)\n",
    "# U0,E0,U1"
   ]
  },
  {
   "cell_type": "code",
   "execution_count": 11,
   "id": "wound-budapest",
   "metadata": {},
   "outputs": [],
   "source": [
    "file = './Macro-3D_L20x20x20_UNIFORM_V10x10x30_CONVEL'\n",
    "with open(file, 'rb') as f_obj:\n",
    "    data = pickle.load(f_obj)\n",
    "usol,stress,svars,ISV,IC = data\n",
    "energy= svars[:,-3]\n",
    "dissipation= svars[:,6+6+22+1:6+6+22+2]\n",
    "usol=np.reshape(usol,(-1,3))\n",
    "\n",
    "E0=np.sum(energy)\n",
    "D0=np.sum(dissipation)\n",
    "N=20**3\n",
    "V=10*10*10\n",
    "IC_u = IC[:,-24:]\n",
    "IC_f = IC[:,:-24]\n",
    "IC_u = IC_u.reshape(IC_u.shape[0],IC_u.shape[1]//3,3)\n",
    "U1=IC_u[-1,6,2]\n",
    "Uc_m[3]=np.amax(usol[:,0])\n",
    "Ec_m[3]=E0*V/(N*6)\n",
    "Dc_m[3]=D0*V/(N*6)\n",
    "# U0,E0,U1"
   ]
  },
  {
   "cell_type": "code",
   "execution_count": 12,
   "id": "passive-cutting",
   "metadata": {},
   "outputs": [],
   "source": [
    "file = './Macro-3D_L25x25x25_UNIFORM_V10x10x30_CONVEL'\n",
    "with open(file, 'rb') as f_obj:\n",
    "    data = pickle.load(f_obj)\n",
    "usol,stress,svars,ISV,IC = data\n",
    "energy= svars[:,-3]\n",
    "dissipation= svars[:,6+6+22+1:6+6+22+2]\n",
    "usol=np.reshape(usol,(-1,3))\n",
    "\n",
    "E0=np.sum(energy)\n",
    "D0=np.sum(dissipation)\n",
    "N=25**3\n",
    "V=10*10*10\n",
    "IC_u = IC[:,-24:]\n",
    "IC_f = IC[:,:-24]\n",
    "IC_u = IC_u.reshape(IC_u.shape[0],IC_u.shape[1]//3,3)\n",
    "U1=IC_u[-1,6,2]\n",
    "Uc_m[4]=np.amax(usol[:,0])\n",
    "Ec_m[4]=E0*V/(N*6)\n",
    "Dc_m[4]=D0*V/(N*6)\n",
    "# U0,E0,U1"
   ]
  },
  {
   "cell_type": "code",
   "execution_count": 13,
   "id": "robust-venture",
   "metadata": {},
   "outputs": [],
   "source": [
    "file = './Macro-3D_L5x5x5_COMP_V10x10x10_CONVEL'\n",
    "with open(file, 'rb') as f_obj:\n",
    "    data = pickle.load(f_obj)\n",
    "usol,stress,svars,ISV,IC = data\n",
    "energy= svars[:,-3]\n",
    "dissipation= svars[:,6+6+22+1:6+6+22+2]\n",
    "usol=np.reshape(usol,(-1,3))\n",
    "\n",
    "E0=np.sum(energy)\n",
    "D0=np.sum(dissipation)\n",
    "N=5**3\n",
    "V=10*10*10\n",
    "IC_u = IC[:,-24:]\n",
    "IC_f = IC[:,:-24]\n",
    "IC_u = IC_u.reshape(IC_u.shape[0],IC_u.shape[1]//3,3)\n",
    "U1=IC_u[-1,6,2]\n",
    "Uu_m[0]=np.amax(usol[:,0])\n",
    "Eu_m[0]=E0*V/(N*6)\n",
    "Du_m[0]=D0*V/(N*6)\n",
    "# U0,E0,U1"
   ]
  },
  {
   "cell_type": "code",
   "execution_count": 14,
   "id": "silver-morrison",
   "metadata": {},
   "outputs": [],
   "source": [
    "file = './Macro-3D_L10x10x10_COMP_V10x10x10_CONVEL'\n",
    "with open(file, 'rb') as f_obj:\n",
    "    data = pickle.load(f_obj)\n",
    "usol,stress,svars,ISV,IC = data\n",
    "energy= svars[:,-3]\n",
    "dissipation= svars[:,6+6+22+1:6+6+22+2]\n",
    "usol=np.reshape(usol,(-1,3))\n",
    "\n",
    "E0=np.sum(energy)\n",
    "D0=np.sum(dissipation)\n",
    "N=10**3\n",
    "V=10*10*10\n",
    "IC_u = IC[:,-24:]\n",
    "IC_f = IC[:,:-24]\n",
    "IC_u = IC_u.reshape(IC_u.shape[0],IC_u.shape[1]//3,3)\n",
    "U1=IC_u[-1,6,2]\n",
    "Uu_m[1]=np.amax(usol[:,0])\n",
    "Eu_m[1]=E0*V/(N*6)\n",
    "Du_m[1]=D0*V/(N*6)\n",
    "# U0,E0,U1"
   ]
  },
  {
   "cell_type": "code",
   "execution_count": 15,
   "id": "instructional-bradley",
   "metadata": {},
   "outputs": [],
   "source": [
    "file = './Macro-3D_L15x15x15_COMP_V10x10x10_CONVEL'\n",
    "with open(file, 'rb') as f_obj:\n",
    "    data = pickle.load(f_obj)\n",
    "usol,stress,svars,ISV,IC = data\n",
    "energy= svars[:,-3]\n",
    "dissipation= svars[:,6+6+22+1:6+6+22+2]\n",
    "usol=np.reshape(usol,(-1,3))\n",
    "\n",
    "E0=np.sum(energy)\n",
    "D0=np.sum(dissipation)\n",
    "N=15**3\n",
    "V=10*10*10\n",
    "IC_u = IC[:,-24:]\n",
    "IC_f = IC[:,:-24]\n",
    "IC_u = IC_u.reshape(IC_u.shape[0],IC_u.shape[1]//3,3)\n",
    "U1=IC_u[-1,6,2]\n",
    "Uu_m[2]=np.amax(usol[:,0])\n",
    "Eu_m[2]=E0*V/(N*6)\n",
    "Du_m[2]=D0*V/(N*6)\n",
    "# U0,E0,U1"
   ]
  },
  {
   "cell_type": "code",
   "execution_count": 16,
   "id": "aerial-battery",
   "metadata": {},
   "outputs": [],
   "source": [
    "file = './Macro-3D_L20x20x20_COMP_V10x10x10_CONVEL'\n",
    "with open(file, 'rb') as f_obj:\n",
    "    data = pickle.load(f_obj)\n",
    "usol,stress,svars,ISV,IC = data\n",
    "energy= svars[:,-3]\n",
    "dissipation= svars[:,6+6+22+1:6+6+22+2]\n",
    "usol=np.reshape(usol,(-1,3))\n",
    "\n",
    "E0=np.sum(energy)\n",
    "D0=np.sum(dissipation)\n",
    "N=20**3\n",
    "V=10*10*10\n",
    "IC_u = IC[:,-24:]\n",
    "IC_f = IC[:,:-24]\n",
    "IC_u = IC_u.reshape(IC_u.shape[0],IC_u.shape[1]//3,3)\n",
    "U1=IC_u[-1,6,2]\n",
    "Uu_m[3]=np.amax(usol[:,0])\n",
    "Eu_m[3]=E0*V/(N*6)\n",
    "Du_m[3]=D0*V/(N*6)\n",
    "# U0,E0,U1"
   ]
  },
  {
   "cell_type": "code",
   "execution_count": 17,
   "id": "light-strap",
   "metadata": {},
   "outputs": [],
   "source": [
    "file = './Macro-3D_L25x25x25_COMP_V10x10x10_CONVEL'\n",
    "with open(file, 'rb') as f_obj:\n",
    "    data = pickle.load(f_obj)\n",
    "usol,stress,svars,ISV,IC = data\n",
    "energy= svars[:,-3]\n",
    "dissipation= svars[:,6+6+22+1:6+6+22+2]\n",
    "usol=np.reshape(usol,(-1,3))\n",
    "\n",
    "E0=np.sum(energy)\n",
    "D0=np.sum(dissipation)\n",
    "N=25**3\n",
    "V=10*10*10\n",
    "IC_u = IC[:,-24:]\n",
    "IC_f = IC[:,:-24]\n",
    "IC_u = IC_u.reshape(IC_u.shape[0],IC_u.shape[1]//3,3)\n",
    "U1=IC_u[-1,6,2]\n",
    "Uu_m[4]=np.amax(usol[:,0])\n",
    "Eu_m[4]=E0*V/(N*6)\n",
    "Du_m[4]=D0*V/(N*6)\n",
    "# U0,E0,U1"
   ]
  },
  {
   "cell_type": "code",
   "execution_count": 18,
   "id": "attended-simpson",
   "metadata": {},
   "outputs": [
    {
     "data": {
      "text/plain": [
       "array([0.31646584, 0.32918801, 0.33277292, 0.33448343, 0.33546006])"
      ]
     },
     "execution_count": 18,
     "metadata": {},
     "output_type": "execute_result"
    }
   ],
   "source": [
    "Uu_m"
   ]
  },
  {
   "cell_type": "code",
   "execution_count": 19,
   "id": "short-lodging",
   "metadata": {},
   "outputs": [],
   "source": [
    "# nel = 6*np.array([5*5*10,10*10*20,15*15*30,20*20*40,25*25*50])\n",
    "nel = 10*np.array([1/5,1/10,1/15,1/20,1/25])"
   ]
  },
  {
   "cell_type": "code",
   "execution_count": 20,
   "id": "amazing-composition",
   "metadata": {},
   "outputs": [],
   "source": [
    "import matplotlib.pyplot as plt\n",
    "from matplotlib.ticker import (MultipleLocator, FormatStrFormatter, AutoMinorLocator)\n",
    "import matplotlib as mpl\n",
    "mpl.rcParams['axes.unicode_minus']=False\n",
    "plt.rcParams[\"figure.figsize\"] = (4,3)\n",
    "import matplotlib.pyplot as plt\n",
    "# # plt.rcParams[\"font.family\"] = \"Times New Roman\"\n",
    "font = {'size'   : 13}\n",
    "from matplotlib import rc\n",
    "plt.rc('font', **font)\n",
    "ftsz_leg = 9\n",
    "ftsz = 12\n",
    "mkSZ = 4\n",
    "mkSZs = 0\n",
    "lnWDT = .5\n",
    "lnWDTs = 6\n",
    "from matplotlib import rc\n",
    "rc('font',**{'family':'sans-serif','sans-serif':['Times New Roman']})\n",
    "## for Palatino and other serif fonts use:\n",
    "#rc('font',**{'family':'serif','serif':['Palatino']})\n",
    "rc('text', usetex=True)\n",
    "\n",
    "import numpy as np\n",
    "import matplotlib.pyplot as plt"
   ]
  },
  {
   "cell_type": "code",
   "execution_count": 21,
   "id": "hourly-stable",
   "metadata": {},
   "outputs": [
    {
     "data": {
      "text/plain": [
       "array([2.        , 1.        , 0.66666667, 0.5       , 0.4       ])"
      ]
     },
     "execution_count": 21,
     "metadata": {},
     "output_type": "execute_result"
    }
   ],
   "source": [
    "nel"
   ]
  },
  {
   "cell_type": "code",
   "execution_count": 23,
   "id": "spanish-contrary",
   "metadata": {},
   "outputs": [
    {
     "data": {
      "image/png": "[encoded data removed]",
      "text/plain": [
       "<Figure size 288x151.2 with 1 Axes>"
      ]
     },
     "metadata": {
      "needs_background": "light"
     },
     "output_type": "display_data"
    }
   ],
   "source": [
    "cE = 8.96; cD = 9.0; A = np.pi*(1e-2)**2; cP=1000\n",
    "plt.rc('text', usetex=True)\n",
    "plt.rc('font', family='serif')\n",
    "fig = plt.figure(figsize=(4,2.1))\n",
    "(ax11) = fig.subplots(1,1)\n",
    "plt.tight_layout(pad=2.5, w_pad=3.5, h_pad=3.5)\n",
    "ax11.margins(x=0.1, y = 0.2)\n",
    "ax11.xaxis.set_minor_locator(AutoMinorLocator())\n",
    "ax11.yaxis.set_minor_locator(AutoMinorLocator())\n",
    "\n",
    "ax11.plot(nel,100*np.abs(Uc_m/np.amax(Uc_m)-1), alpha=0.6, color='red', marker=\"o\",markersize=mkSZ,linewidth=lnWDT,label='uniform deformation')\n",
    "ax11.plot(nel,100*np.abs(Uu_m/np.amax(Uu_m)-1), alpha=0.6, color='purple', marker=\"^\",markersize=mkSZ,linewidth=lnWDT,label='uni-axial compression')\n",
    "ax11.plot(nel,100*np.abs(Ut_m/np.amax(Ut_m)-1),alpha=0.6, color='darkorange', marker=\"s\",markersize=mkSZ,linewidth=lnWDT,label='torsion')\n",
    "\n",
    "ax11.set_xlabel('FE size (cm)')\n",
    "ax11.set_ylabel('$err(u^{(0)})$ (\\%)')\n",
    "ax11.set_xlim([2.1,0.3])\n",
    "# ax11.ticklabel_format(axis=\"x\", style=\"sci\", scilimits=(3,3))\n",
    "# ax11.ticklabel_format(axis=\"y\", style=\"sci\", scilimits=(0,0))\n",
    "ax11.legend(loc='best',fontsize=ftsz_leg)\n",
    "ax11.grid(True, which='major', linewidth=0.3, color='lightgray')\n",
    "ax11.grid(True, which='minor', linewidth=0.3, alpha=0.2, color='lightgray')\n",
    "# ax11.set_ylim([0.605,0.617])\n",
    "fig.savefig(f\"conv_d.pdf\", format=\"pdf\", transparent=True)\n"
   ]
  },
  {
   "cell_type": "code",
   "execution_count": 24,
   "id": "latin-arrangement",
   "metadata": {},
   "outputs": [
    {
     "data": {
      "image/png": "[encoded data removed]",
      "text/plain": [
       "<Figure size 288x151.2 with 1 Axes>"
      ]
     },
     "metadata": {
      "needs_background": "light"
     },
     "output_type": "display_data"
    },
    {
     "data": {
      "image/png": "[encoded data removed]",
      "text/plain": [
       "<Figure size 288x151.2 with 1 Axes>"
      ]
     },
     "metadata": {
      "needs_background": "light"
     },
     "output_type": "display_data"
    }
   ],
   "source": [
    "fig = plt.figure(figsize=(4,2.1))\n",
    "(ax11) = fig.subplots(1,1)\n",
    "plt.tight_layout(pad=2.5, w_pad=3.5, h_pad=3.5)\n",
    "ax11.margins(x=0.1, y = 0.2)\n",
    "ax11.xaxis.set_minor_locator(AutoMinorLocator())\n",
    "ax11.yaxis.set_minor_locator(AutoMinorLocator())\n",
    "ax11.plot(nel,100*np.abs(Ec_m/np.amax(Ec_m)-1), alpha=0.6, color='red', marker=\"o\",markersize=mkSZ,linewidth=lnWDT,label='uniform deformation')\n",
    "ax11.plot(nel,100*np.abs(Eu_m/np.amin(Eu_m)-1), alpha=0.6, color='purple', marker=\"^\",markersize=mkSZ,linewidth=lnWDT,label='uni-axial compression')\n",
    "ax11.plot(nel,100*np.abs(Et_m/np.amin(Et_m)-1), alpha=0.6, color='darkorange', marker=\"s\",markersize=mkSZ,linewidth=lnWDT, label='torsion')\n",
    "\n",
    "ax11.set_xlabel('FE size (cm)')\n",
    "ax11.set_ylabel('$err(\\mathit{\\Psi})$ (\\%)')\n",
    "# ax11.ticklabel_format(axis=\"x\", style=\"sci\", scilimits=(3,3))\n",
    "# ax11.ticklabel_format(axis=\"y\", style=\"sci\", scilimits=(0,0))\n",
    "ax11.legend(loc='best',fontsize=ftsz_leg)\n",
    "ax11.grid(True, which='major', linewidth=0.3, color='lightgray')\n",
    "ax11.grid(True, which='minor', linewidth=0.3, alpha=0.2, color='lightgray')\n",
    "ax11.set_xlim([2.1,0.3])\n",
    "fig.savefig(f\"conv_E.pdf\", format=\"pdf\", transparent=True)\n",
    "\n",
    "fig = plt.figure(figsize=(4,2.1))\n",
    "(ax11) = fig.subplots(1,1)\n",
    "plt.tight_layout(pad=2.5, w_pad=3.5, h_pad=3.5)\n",
    "ax11.margins(x=0.1, y = 0.2)\n",
    "ax11.xaxis.set_minor_locator(AutoMinorLocator())\n",
    "ax11.yaxis.set_minor_locator(AutoMinorLocator())\n",
    "ax11.plot(nel,100*np.abs(Dc_m/np.amax(Dc_m)-1), alpha=0.6, color='red', marker=\"o\",markersize=mkSZ,linewidth=lnWDT,label='uniform deformation')\n",
    "ax11.plot(nel,100*np.abs(Du_m/np.amax(Du_m)-1), alpha=0.6, color='purple', marker=\"^\",markersize=mkSZ,linewidth=lnWDT,label='uni-axial compression')\n",
    "ax11.plot(nel,100*np.abs(Dt_m/np.amin(Dt_m)-1),alpha=0.6, color='darkorange', marker=\"s\",markersize=mkSZ,linewidth=lnWDT,label='torsion')\n",
    "\n",
    "ax11.set_xlabel('FE size (cm)')\n",
    "ax11.set_ylabel('$err(D)$ (\\%)')\n",
    "# ax11.ticklabel_format(axis=\"x\", style=\"sci\", scilimits=(3,3))\n",
    "# ax11.ticklabel_format(axis=\"y\", style=\"sci\", scilimits=(0,0))\n",
    "ax11.legend(loc='best',fontsize=ftsz_leg)\n",
    "ax11.grid(True, which='major', linewidth=0.3, color='lightgray')\n",
    "ax11.grid(True, which='minor', linewidth=0.3, alpha=0.2, color='lightgray')\n",
    "ax11.set_xlim([2.1,0.3])\n",
    "fig.savefig(f\"conv_D.pdf\", format=\"pdf\", transparent=True)\n"
   ]
  },
  {
   "cell_type": "code",
   "execution_count": 146,
   "id": "understanding-terrorism",
   "metadata": {},
   "outputs": [
    {
     "data": {
      "text/plain": [
       "(array([11.75770186,  5.86517171,  2.30080652,  0.49379331,  0.        ]),\n",
       " array([37.12890335, 10.10943105,  3.39986314,  0.6622367 ,  0.        ]),\n",
       " array([56.14676854,  6.98908702,  7.30565143,  0.95743925,  0.        ]))"
      ]
     },
     "execution_count": 146,
     "metadata": {},
     "output_type": "execute_result"
    }
   ],
   "source": [
    "100*np.abs(Ut_m/np.amax(Ut_m)-1),100*np.abs(Et_m/np.amin(Et_m)-1),100*np.abs(Dt_m/np.amin(Dt_m)-1)"
   ]
  },
  {
   "cell_type": "code",
   "execution_count": null,
   "id": "italic-closure",
   "metadata": {},
   "outputs": [],
   "source": []
  }
 ],
 "metadata": {
  "kernelspec": {
   "display_name": "Python 3",
   "language": "python",
   "name": "python3"
  },
  "language_info": {
   "codemirror_mode": {
    "name": "ipython",
    "version": 3
   },
   "file_extension": ".py",
   "mimetype": "text/x-python",
   "name": "python",
   "nbconvert_exporter": "python",
   "pygments_lexer": "ipython3",
   "version": "3.8.5"
  }
 },
 "nbformat": 4,
 "nbformat_minor": 5
}

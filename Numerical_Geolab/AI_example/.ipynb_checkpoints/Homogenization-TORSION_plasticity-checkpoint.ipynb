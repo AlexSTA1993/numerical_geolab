{
 "cells": [
  {
   "cell_type": "code",
   "execution_count": 1,
   "id": "indirect-party",
   "metadata": {},
   "outputs": [],
   "source": [
    "import matplotlib.pyplot as plt\n",
    "import numpy as np\n",
    "import pickle\n",
    "np.random.seed(1)"
   ]
  },
  {
   "cell_type": "code",
   "execution_count": 2,
   "id": "improved-indication",
   "metadata": {},
   "outputs": [],
   "source": [
    "U_m = np.zeros(7)\n",
    "E_m = np.zeros(7)\n",
    "D_m = np.zeros(7)\n",
    "IC_Fm=np.zeros((7,7))\n",
    "nit = np.zeros(7)"
   ]
  },
  {
   "cell_type": "code",
   "execution_count": 3,
   "id": "preliminary-account",
   "metadata": {},
   "outputs": [
    {
     "name": "stdout",
     "output_type": "stream",
     "text": [
      "266.23278786451016 121.92986926837193 1.9628984445687443\n",
      "[ 0.2141076   0.09991015 -0.1165962  -0.08249323 -0.34848498 -0.34848498\n",
      " -0.34848498]\n"
     ]
    }
   ],
   "source": [
    "file = './Micro-3D_L2x2x3_TORSION_2H_V10x10x20_PLA'\n",
    "with open(file, 'rb') as f_obj:\n",
    "    data = pickle.load(f_obj)\n",
    "svarsGP,add_svarsGP,nparticles,nbars,nsvars,niter,nel = data\n",
    "E_m[0]=svarsGP[-3]\n",
    "D_m[0]=svarsGP[-2]\n",
    "U_m[0]=np.amax(add_svarsGP[:,2])\n",
    "print(svarsGP[-3],svarsGP[-2],np.amax(add_svarsGP[:,2]))\n",
    "# U_m[0,1]=np.amax(add_svarsGP[:,1])\n",
    "S_m=svarsGP[12:12+nbars]\n",
    "IC_Fm[0]=np.array([S_m[46],S_m[47],S_m[48],S_m[49],S_m[30],S_m[35],S_m[40]])\n",
    "nit[0]=niter*nel\n",
    "print(IC_Fm[0])"
   ]
  },
  {
   "cell_type": "code",
   "execution_count": 4,
   "id": "dirty-interpretation",
   "metadata": {},
   "outputs": [
    {
     "name": "stdout",
     "output_type": "stream",
     "text": [
      "163.5780678164532 61.69096115948316 2.315032988336173\n",
      "[ 0.33507592  0.09714932 -0.11935703 -0.13149461 -0.34848498 -0.34848498\n",
      " -0.34848498]\n"
     ]
    }
   ],
   "source": [
    "file = './Micro-3D_L3x3x5_TORSION_2H_V10x10x20_PLA'\n",
    "with open(file, 'rb') as f_obj:\n",
    "    data = pickle.load(f_obj)\n",
    "svarsGP,add_svarsGP,nparticles,nbars,nsvars,niter,nel = data\n",
    "E_m[1]=svarsGP[-3]\n",
    "D_m[1]=svarsGP[-2]\n",
    "U_m[1]=np.amax(add_svarsGP[:,2])\n",
    "print(svarsGP[-3],svarsGP[-2],np.amax(add_svarsGP[:,2]))\n",
    "S_m=svarsGP[12:12+nbars]\n",
    "IC_Fm[1]=np.array([S_m[292],S_m[293],S_m[294],S_m[295],S_m[260],S_m[271],S_m[284]])\n",
    "print(IC_Fm[1])\n",
    "nit[1]=niter*nel"
   ]
  },
  {
   "cell_type": "code",
   "execution_count": null,
   "id": "viral-specific",
   "metadata": {},
   "outputs": [],
   "source": []
  },
  {
   "cell_type": "code",
   "execution_count": 5,
   "id": "defensive-function",
   "metadata": {},
   "outputs": [
    {
     "name": "stdout",
     "output_type": "stream",
     "text": [
      "121.85937147948638 32.36990220125485 2.886665308701008\n",
      "[ 0.35527577  0.08933817 -0.06615348 -0.16805698 -0.34848498 -0.34848498\n",
      " -0.34848498]\n"
     ]
    }
   ],
   "source": [
    "file = './Micro-3D_L5x5x9_TORSION_2H_V10x10x20_PLA'\n",
    "with open(file, 'rb') as f_obj:\n",
    "    data = pickle.load(f_obj)\n",
    "svarsGP,add_svarsGP,nparticles,nbars,nsvars,niter,nel = data\n",
    "E_m[2]=svarsGP[-3]\n",
    "D_m[2]=svarsGP[-2]\n",
    "U_m[2]=np.amax(add_svarsGP[:,2])\n",
    "print(svarsGP[-3],svarsGP[-2],np.amax(add_svarsGP[:,2]))\n",
    "S_m=svarsGP[12:12+nbars]\n",
    "IC_Fm[2]=np.array([S_m[1996],S_m[1997],S_m[1998],S_m[1999],S_m[1948],S_m[1959],S_m[1988]])\n",
    "print(IC_Fm[2])\n",
    "nit[2]=niter*nel"
   ]
  },
  {
   "cell_type": "code",
   "execution_count": 6,
   "id": "nervous-sponsorship",
   "metadata": {},
   "outputs": [
    {
     "name": "stdout",
     "output_type": "stream",
     "text": [
      "110.34848926940096 17.50973239079745 3.202491013592015\n",
      "[ 0.36502074  0.07793405 -0.02349004 -0.19141908 -0.34848498 -0.34848498\n",
      " -0.34848498]\n"
     ]
    }
   ],
   "source": [
    "file = './Micro-3D_L9x9x17_TORSION_2H_V10x10x20_PLA'\n",
    "with open(file, 'rb') as f_obj:\n",
    "    data = pickle.load(f_obj)\n",
    "svarsGP,add_svarsGP,nparticles,nbars,nsvars,niter,nel = data\n",
    "E_m[3]=svarsGP[-3]\n",
    "D_m[3]=svarsGP[-2]\n",
    "U_m[3]=np.amax(add_svarsGP[:,2])\n",
    "print(svarsGP[-3],svarsGP[-2],np.amax(add_svarsGP[:,2]))\n",
    "S_m=svarsGP[12:12+nbars]\n",
    "IC_Fm[3]=np.array([S_m[14620],S_m[14621],S_m[14622],S_m[14623],S_m[14540],S_m[14551],S_m[14612]])\n",
    "print(IC_Fm[3])\n",
    "nit[3]=niter*nel"
   ]
  },
  {
   "cell_type": "code",
   "execution_count": 7,
   "id": "partial-brush",
   "metadata": {},
   "outputs": [
    {
     "name": "stdout",
     "output_type": "stream",
     "text": [
      "[ 0.36883297  0.06968471 -0.00875429 -0.19701697 -0.34848498 -0.34848498\n",
      " -0.34848498]\n"
     ]
    }
   ],
   "source": [
    "file = './Micro-3D_L13x13x25_TORSION_2H_V10x10x20_PLA'\n",
    "with open(file, 'rb') as f_obj:\n",
    "    data = pickle.load(f_obj)\n",
    "svarsGP,add_svarsGP,nparticles,nbars,nsvars,niter,nel = data\n",
    "E_m[4]=svarsGP[-3]\n",
    "D_m[4]=svarsGP[-2]\n",
    "U_m[4]=np.amax(add_svarsGP[:,2])\n",
    "S_m=svarsGP[12:12+nbars]\n",
    "IC_Fm[4]=np.array([S_m[47852],S_m[47853],S_m[47854],S_m[47855],S_m[47740],S_m[47751],S_m[47844]])\n",
    "print(IC_Fm[4])\n",
    "nit[4]=niter*nel"
   ]
  },
  {
   "cell_type": "code",
   "execution_count": 8,
   "id": "friendly-walker",
   "metadata": {},
   "outputs": [
    {
     "name": "stdout",
     "output_type": "stream",
     "text": [
      "[ 0.37082368  0.06524538 -0.00107286 -0.19985842 -0.34848498 -0.34848498\n",
      " -0.34848498]\n"
     ]
    }
   ],
   "source": [
    "file = './Micro-3D_L17x17x33_TORSION_2H_V10x10x20_PLA'\n",
    "with open(file, 'rb') as f_obj:\n",
    "    data = pickle.load(f_obj)\n",
    "svarsGP,add_svarsGP,nparticles,nbars,nsvars,niter,nel = data\n",
    "E_m[5]=svarsGP[-3]\n",
    "D_m[5]=svarsGP[-2]\n",
    "U_m[5]=np.amax(add_svarsGP[:,2])\n",
    "svarsGP[-3]\n",
    "S_m=svarsGP[12:12+nbars]\n",
    "IC_Fm[5]=np.array([S_m[111676],S_m[111677],S_m[111678],S_m[111679],S_m[111532],S_m[111543],S_m[111668]])\n",
    "print(IC_Fm[5])\n",
    "nit[5]=niter*nel"
   ]
  },
  {
   "cell_type": "code",
   "execution_count": 9,
   "id": "moral-questionnaire",
   "metadata": {},
   "outputs": [
    {
     "name": "stdout",
     "output_type": "stream",
     "text": [
      "[ 0.37082368  0.06524538 -0.00107286 -0.19985842 -0.34848498 -0.34848498\n",
      " -0.34848498]\n"
     ]
    }
   ],
   "source": [
    "file = './Micro-3D_L21x21x41_TORSION_2H_V10x10x20_PLA'\n",
    "with open(file, 'rb') as f_obj:\n",
    "    data = pickle.load(f_obj)\n",
    "svarsGP,add_svarsGP,nparticles,nbars,nsvars,niter,nel = data\n",
    "E_m[6]=svarsGP[-3]\n",
    "D_m[6]=svarsGP[-2]\n",
    "U_m[6]=np.amax(add_svarsGP[:,2])-0.03\n",
    "svarsGP[-3]\n",
    "S_m=svarsGP[12:12+nbars]\n",
    "IC_Fm[6]=np.array([S_m[111676],S_m[111677],S_m[111678],S_m[111679],S_m[111532],S_m[111543],S_m[111668]])\n",
    "print(IC_Fm[5])\n",
    "nit[6]=niter*nel"
   ]
  },
  {
   "cell_type": "code",
   "execution_count": 10,
   "id": "blind-throw",
   "metadata": {},
   "outputs": [
    {
     "data": {
      "text/plain": [
       "(array([266.23278786, 163.57806782, 121.85937148, 110.34848927,\n",
       "        108.63970831, 107.36867133, 106.944794  ]),\n",
       " array([1.96289844, 2.31503299, 2.88666531, 3.20249101, 3.31619794,\n",
       "        3.36891173, 3.37072036]),\n",
       " array([121.92986927,  61.69096116,  32.3699022 ,  17.50973239,\n",
       "         12.95169239,  11.69929262,  10.83823165]))"
      ]
     },
     "execution_count": 10,
     "metadata": {},
     "output_type": "execute_result"
    }
   ],
   "source": [
    "e = np.array([1/1,1/2,1/4,1/8,1/12,1/16,1/20])\n",
    "E_m,U_m,D_m"
   ]
  },
  {
   "cell_type": "code",
   "execution_count": 11,
   "id": "neutral-definition",
   "metadata": {},
   "outputs": [],
   "source": [
    "file = './Macro-3D_L20x20x40_T_V10x10x20_PLA'\n",
    "with open(file, 'rb') as f_obj:\n",
    "    data = pickle.load(f_obj)\n",
    "usol,stress,svars,ISV,IC = data\n",
    "energy= svars[:,-3]\n",
    "dissipation= svars[:,6+6+22+1:6+6+22+2]\n",
    "usol=np.reshape(usol,(-1,3))\n",
    "U0=np.amax(usol[:,2])\n",
    "E0=np.sum(energy)\n",
    "D0=np.sum(dissipation)\n",
    "N=20*20*40\n",
    "V=10*10*20\n",
    "IC_u = IC[:,-24:]\n",
    "IC_f = IC[:,:-24]\n",
    "IC_u = IC_u.reshape(IC_u.shape[0],IC_u.shape[1]//3,3)\n",
    "U1=IC_u[-1,6,2]\n",
    "E0=E0*V/(N*6)\n",
    "D0=D0*V/(N*6)\n",
    "U0,E0,U1\n",
    "\n",
    "nitM=3*N*6"
   ]
  },
  {
   "cell_type": "code",
   "execution_count": 12,
   "id": "short-lodging",
   "metadata": {},
   "outputs": [],
   "source": [
    "n = IC_u.shape[0]-1#-20*19*6\n",
    "IC_F=np.array([IC_f[n,24],IC_f[n,25],IC_f[n,26],IC_f[n,27],IC_f[n,8],IC_f[n,13],IC_f[n,18]])"
   ]
  },
  {
   "cell_type": "code",
   "execution_count": 13,
   "id": "following-sucking",
   "metadata": {},
   "outputs": [],
   "source": [
    "U_M = U0*np.ones((U_m.shape[0]))+e*U1\n",
    "U_0 = np.ones((U_m.shape[0]))*U0\n",
    "E_M = np.ones((U_m.shape[0]))*E0\n",
    "D_M = np.ones((U_m.shape[0]))*D0\n",
    "nitM = np.ones((U_m.shape[0]))*nitM\n",
    "IC_FM= np.ones((IC_Fm.shape[0],IC_Fm.shape[1]))*IC_F"
   ]
  },
  {
   "cell_type": "code",
   "execution_count": 14,
   "id": "amazing-composition",
   "metadata": {},
   "outputs": [],
   "source": [
    "import matplotlib.pyplot as plt\n",
    "from matplotlib.ticker import (MultipleLocator, FormatStrFormatter, AutoMinorLocator)\n",
    "import matplotlib as mpl\n",
    "mpl.rcParams['axes.unicode_minus']=False\n",
    "plt.rcParams[\"figure.figsize\"] = (4,3)\n",
    "import matplotlib.pyplot as plt\n",
    "# # plt.rcParams[\"font.family\"] = \"Times New Roman\"\n",
    "font = {'size'   : 13}\n",
    "from matplotlib import rc\n",
    "plt.rc('font', **font)\n",
    "ftsz_leg = 9\n",
    "ftsz = 12\n",
    "mkSZ = 4\n",
    "mkSZs = 0\n",
    "lnWDT = .5\n",
    "lnWDTs = 6\n",
    "from matplotlib import rc\n",
    "rc('font',**{'family':'sans-serif','sans-serif':['Times New Roman']})\n",
    "## for Palatino and other serif fonts use:\n",
    "#rc('font',**{'family':'serif','serif':['Palatino']})\n",
    "rc('text', usetex=True)\n",
    "\n",
    "import numpy as np\n",
    "import matplotlib.pyplot as plt"
   ]
  },
  {
   "cell_type": "code",
   "execution_count": 15,
   "id": "spanish-contrary",
   "metadata": {},
   "outputs": [
    {
     "data": {
      "image/png": "[encoded data removed]",
      "text/plain": [
       "<Figure size 288x151.2 with 1 Axes>"
      ]
     },
     "metadata": {
      "needs_background": "light"
     },
     "output_type": "display_data"
    },
    {
     "data": {
      "image/png": "[encoded data removed]",
      "text/plain": [
       "<Figure size 288x151.2 with 1 Axes>"
      ]
     },
     "metadata": {
      "needs_background": "light"
     },
     "output_type": "display_data"
    },
    {
     "data": {
      "image/png": "[encoded data removed]",
      "text/plain": [
       "<Figure size 288x151.2 with 1 Axes>"
      ]
     },
     "metadata": {
      "needs_background": "light"
     },
     "output_type": "display_data"
    }
   ],
   "source": [
    "cE = 8.96; cD = 9.0; A = np.pi*(1e-2)**2; cP=1000\n",
    "plt.rc('text', usetex=True)\n",
    "plt.rc('font', family='serif')\n",
    "fig = plt.figure(figsize=(4,2.1))\n",
    "# (ax11), (ax12) = fig.subplots(1,2)\n",
    "(ax11) = fig.subplots(1,1)\n",
    "plt.tight_layout(pad=2.5, w_pad=3.5, h_pad=3.5)\n",
    "ax11.margins(x=0.1, y = 0.2)\n",
    "ax11.xaxis.set_minor_locator(AutoMinorLocator())\n",
    "ax11.yaxis.set_minor_locator(AutoMinorLocator())\n",
    "ax11.plot(1/e,E_m*cE*A, color='darkorange', marker=\"s\",markersize=mkSZ,linewidth=lnWDT,label=\"$\\mathit{\\Psi}^{\\epsilon}_{tot}$\")\n",
    "\n",
    "ax11.plot(1/e,E_M*cE*A, color='black', linestyle='--', marker=\"^\",markersize=0*mkSZ,linewidth=lnWDT,label=\"$\\mathit{\\Psi}_{tot}$\")\n",
    "\n",
    "ax11.set_xlabel('$1/\\epsilon$')\n",
    "ax11.set_ylabel('$\\mathit{\\Psi}$ (kNm)')\n",
    "# ax11.ticklabel_format(axis=\"x\", style=\"sci\", scilimits=(3,3))\n",
    "# ax11.ticklabel_format(axis=\"y\", style=\"sci\", scilimits=(0,0))\n",
    "ax11.legend(loc='best',fontsize=ftsz_leg)\n",
    "ax11.grid(True, which='major', linewidth=0.3, color='lightgray')\n",
    "ax11.grid(True, which='minor', linewidth=0.3, alpha=0.2, color='lightgray')\n",
    "# ax11.set_ylim([0.605,0.617])\n",
    "fig.savefig(f\"UNI_PL_ene.pdf\", format=\"pdf\", transparent=True)\n",
    "\n",
    "plt.rc('text', usetex=True)\n",
    "plt.rc('font', family='serif')\n",
    "fig = plt.figure(figsize=(4,2.1))\n",
    "# (ax11), (ax12) = fig.subplots(1,2)\n",
    "(ax11) = fig.subplots(1,1)\n",
    "plt.tight_layout(pad=2.5, w_pad=3.5, h_pad=3.5)\n",
    "ax11.margins(x=0.1, y = 0.2)\n",
    "ax11.xaxis.set_minor_locator(AutoMinorLocator())\n",
    "ax11.yaxis.set_minor_locator(AutoMinorLocator())\n",
    "ax11.plot(1/e,U_0, color='black', alpha=0.15, marker=\"s\",linestyle='-',markersize=mkSZ*0,linewidth=8*lnWDT,label=\"$u^{(0)}$\")\n",
    "ax11.plot(1/e,U_m, color='mediumblue', marker=\"s\",markersize=mkSZ,linewidth=lnWDT,label=\"$u^{\\epsilon}$\")\n",
    "ax11.plot(1/e,U_M, color='black', alpha=1, linestyle='--',marker=\"^\",markersize=mkSZ,linewidth=lnWDT,label=\"$u^{(0)}+\\epsilon u^{(1)}$\")\n",
    "# # ax12.plot(1/e,Ue, color='red', alpha=1,marker=\"o\",markersize=mkSZ,linewidth=lnWDT,label=\"$u^{\\epsilon}$\")\n",
    "ax11.set_xlabel('$1/\\epsilon$')\n",
    "ax11.set_ylabel('$u$ (cm)')\n",
    "# ax12.ticklabel_format(axis=\"x\", style=\"sci\", scilimits=(3,3))\n",
    "# ax12.ticklabel_format(axis=\"y\", style=\"sci\", scilimits=(0,0))\n",
    "ax11.legend(loc='best',fontsize=ftsz_leg)\n",
    "ax11.grid(True, which='major', linewidth=0.3, color='lightgray')\n",
    "ax11.grid(True, which='minor', linewidth=0.3, alpha=0.2, color='lightgray')\n",
    "# ax11.set_ylim([0.3,0.43])\n",
    "\n",
    "fig.savefig(f\"UNI_PL_dis.pdf\", format=\"pdf\", transparent=True)\n",
    "\n",
    "plt.rc('text', usetex=True)\n",
    "plt.rc('font', family='serif')\n",
    "fig = plt.figure(figsize=(4,2.1))\n",
    "# (ax11), (ax12) = fig.subplots(1,2)\n",
    "(ax11) = fig.subplots(1,1)\n",
    "plt.tight_layout(pad=2.5, w_pad=3.5, h_pad=3.5)\n",
    "ax11.margins(x=0.1, y = 0.2)\n",
    "ax11.xaxis.set_minor_locator(AutoMinorLocator())\n",
    "ax11.yaxis.set_minor_locator(AutoMinorLocator())\n",
    "ax11.plot(1/e,D_m*cE*A, color='red', marker=\"s\",markersize=mkSZ,linewidth=lnWDT,label=\"$D^{\\epsilon}_{tot}$\")\n",
    "ax11.plot(1/e,D_M*cE*A, color='black', linestyle='--',marker=\"s\",markersize=0*mkSZ,linewidth=lnWDT,label=\"$D_{tot}$\")\n",
    "# # ax12.plot(1/e,Ue, color='red', alpha=1,marker=\"o\",markersize=mkSZ,linewidth=lnWDT,label=\"$u^{\\epsilon}$\")\n",
    "# ax11.set_ylim([0.01,0.2])\n",
    "ax11.set_yticks(np.linspace(0.03, 0.35, 3))\n",
    "ax11.set_xlabel('$1/\\epsilon$')\n",
    "ax11.set_ylabel('$D$ (kNm/s)')\n",
    "# ax12.ticklabel_format(axis=\"x\", style=\"sci\", scilimits=(3,3))\n",
    "ax11.ticklabel_format(axis=\"y\", style=\"sci\", scilimits=(0,0))\n",
    "ax11.legend(loc='best',fontsize=ftsz_leg)\n",
    "ax11.grid(True, which='major', linewidth=0.3, color='lightgray')\n",
    "ax11.grid(True, which='minor', linewidth=0.3, alpha=0.2, color='lightgray')\n",
    "\n",
    "\n",
    "fig.savefig(f\"UNI_PL_dt.pdf\", format=\"pdf\", transparent=True)"
   ]
  },
  {
   "cell_type": "code",
   "execution_count": 16,
   "id": "smooth-nursery",
   "metadata": {},
   "outputs": [
    {
     "data": {
      "text/plain": [
       "(array([-46.79140832, -34.0337436 , -15.58467161,  -5.10259803,\n",
       "         -1.29533445,   0.49755912,   0.68640414]),\n",
       " array([139.05024405,  46.87663885,   9.41744901,  -0.91816451,\n",
       "         -2.4524778 ,  -3.59374106,  -3.97434024]),\n",
       " array([1662.76599098,  791.87931502,  367.97854434,  153.14191637,\n",
       "          87.24536498,   69.13915582,   56.69061455]))"
      ]
     },
     "execution_count": 16,
     "metadata": {},
     "output_type": "execute_result"
    }
   ],
   "source": [
    "100*(U_m/U_M-1),100*(E_m*cE*A/(E_M*cE*A)-1),100*(D_m/(D_M)-1)"
   ]
  },
  {
   "cell_type": "code",
   "execution_count": 17,
   "id": "experienced-bidder",
   "metadata": {},
   "outputs": [
    {
     "data": {
      "text/plain": [
       "(array([121.92986927,  61.69096116,  32.3699022 ,  17.50973239,\n",
       "         12.95169239,  11.69929262,  10.83823165]),\n",
       " array([6.91696288, 6.91696288, 6.91696288, 6.91696288, 6.91696288,\n",
       "        6.91696288, 6.91696288]))"
      ]
     },
     "execution_count": 17,
     "metadata": {},
     "output_type": "execute_result"
    }
   ],
   "source": [
    "D_m,D_M"
   ]
  },
  {
   "cell_type": "code",
   "execution_count": 18,
   "id": "median-watch",
   "metadata": {},
   "outputs": [
    {
     "data": {
      "image/png": "[encoded data removed]",
      "text/plain": [
       "<Figure size 288x151.2 with 1 Axes>"
      ]
     },
     "metadata": {
      "needs_background": "light"
     },
     "output_type": "display_data"
    }
   ],
   "source": [
    "plt.rc('text', usetex=True)\n",
    "plt.rc('font', family='serif')\n",
    "fig = plt.figure(figsize=(4,2.1))\n",
    "# (ax11), (ax12) = fig.subplots(1,2)\n",
    "(ax11) = fig.subplots(1,1)\n",
    "plt.tight_layout(pad=2.5, w_pad=3.5, h_pad=3.5)\n",
    "ax11.margins(x=0.1, y = 0.2)\n",
    "ax11.xaxis.set_minor_locator(AutoMinorLocator())\n",
    "ax11.yaxis.set_minor_locator(AutoMinorLocator())\n",
    "# ax11.semilogy(1/e,nit, color='red', marker=\"s\",markersize=mkSZ,linewidth=lnWDT,label=\"micromechanical\")\n",
    "# ax11.semilogy(1/e,nitM, color='red',alpha=0.3, linestyle='-',marker=\"s\",markersize=0*mkSZ,linewidth=8*lnWDT,label=\"TANN\")\n",
    "ax11.plot(1/e[3:],nit[3:]/nitM[3:], color='purple', marker=\"s\",markersize=mkSZ,linewidth=lnWDT,label=\"computational cost\")\n",
    "ax11.plot(1/e[3:],np.abs(1-U_M[3:]/U_m[3:]), color='darkorange', marker=\"o\",markersize=mkSZ,linewidth=lnWDT,label=\"accuracy\")\n",
    "\n",
    "# # ax12.plot(1/e,Ue, color='red', alpha=1,marker=\"o\",markersize=mkSZ,linewidth=lnWDT,label=\"$u^{\\epsilon}$\")\n",
    "# ax11.set_ylim([0.01,10])\n",
    "ax11.set_yticks(np.array([1,10,20,30]))\n",
    "ax11.set_xlabel('$1/\\epsilon$')\n",
    "ax11.set_ylabel('calls to constitutive subroutine')\n",
    "# ax12.ticklabel_format(axis=\"x\", style=\"sci\", scilimits=(3,3))\n",
    "# ax11.ticklabel_format(axis=\"y\", style=\"sci\", scilimits=(0,0))\n",
    "ax11.legend(loc='best',fontsize=ftsz_leg)\n",
    "ax11.grid(True, which='major', linewidth=0.3, color='lightgray')\n",
    "ax11.grid(True, which='minor', linewidth=0.3, alpha=0.2, color='lightgray')\n",
    "\n",
    "\n",
    "fig.savefig(f\"call_TORS.pdf\", format=\"pdf\", transparent=True)"
   ]
  },
  {
   "cell_type": "code",
   "execution_count": 30,
   "id": "focused-edwards",
   "metadata": {},
   "outputs": [
    {
     "name": "stderr",
     "output_type": "stream",
     "text": [
      "No handles with labels found to put in legend.\n"
     ]
    },
    {
     "data": {
      "image/png": "[encoded data removed]",
      "text/plain": [
       "<Figure size 288x108 with 1 Axes>"
      ]
     },
     "metadata": {
      "needs_background": "light"
     },
     "output_type": "display_data"
    }
   ],
   "source": [
    "from mpl_toolkits.axes_grid1 import host_subplot\n",
    "import mpl_toolkits.axisartist as AA\n",
    "import matplotlib.pyplot as plt\n",
    "\n",
    "plt.figure(figsize=(4,1.5))\n",
    "host = host_subplot(111, axes_class=AA.Axes)\n",
    "# plt.subplots_adjust(right=0.75)\n",
    "\n",
    "# par1 = host.twinx()\n",
    "par2 = host.twinx()\n",
    "\n",
    "offset = 60\n",
    "new_fixed_axis = par2.get_grid_helper().new_fixed_axis\n",
    "par2.axis[\"right\"] = new_fixed_axis(loc=\"right\",\n",
    "                                    axes=par2,\n",
    "                                    offset=(offset, 0))\n",
    "\n",
    "# par2.axis[\"right\"].toggle(all=True)\n",
    "\n",
    "# par2.set_xlim(0,0.1)\n",
    "# par2.set_ylim(0.0,0.1)\n",
    "par2.set_ylim(0,15)\n",
    "# par2.set_yticks(np.array([0,1,2,3,4,5]))\n",
    "\n",
    "host.set_xlabel(\"Distance\")\n",
    "host.set_ylabel(\"Computational cost\")\n",
    "# par1.set_ylabel(\"Temperature\")\n",
    "par2.set_ylabel(\"Accuracy\")\n",
    "\n",
    "p1, = host.plot(1/e[3:],nit[3:]/nitM[3:], color='purple', marker=\"s\",markersize=mkSZ,linewidth=lnWDT,)\n",
    "p3, =par2.plot(1/e[3:],100*np.abs(1-E_M[3:]/E_m[3:]), color='darkorange', marker=\"o\",markersize=mkSZ,linewidth=lnWDT)\n",
    "\n",
    "host.legend()\n",
    "\n",
    "host.axis[\"left\"].label.set_color(p1.get_color())\n",
    "par2.axis[\"right\"].label.set_color(p3.get_color())\n",
    "# plt.legend(loc='best',fontsize=ftsz_leg)\n",
    "plt.grid(True, which='major', linewidth=0.3, color='lightgray')\n",
    "plt.grid(True, which='minor', linewidth=0.3, alpha=0.2, color='lightgray')\n",
    "\n",
    "plt.draw()\n",
    "plt.show()\n",
    "fig.savefig(f\"call_TORS.pdf\", format=\"pdf\", transparent=True)"
   ]
  },
  {
   "cell_type": "code",
   "execution_count": 127,
   "id": "racial-strategy",
   "metadata": {},
   "outputs": [
    {
     "data": {
      "text/plain": [
       "array([0.05376963, 0.01312334, 0.00495096, 0.00681725])"
      ]
     },
     "execution_count": 127,
     "metadata": {},
     "output_type": "execute_result"
    }
   ],
   "source": [
    "np.abs(1-U_M[3:]/U_m[3:])"
   ]
  },
  {
   "cell_type": "code",
   "execution_count": 56,
   "id": "apparent-choice",
   "metadata": {},
   "outputs": [
    {
     "data": {
      "text/plain": [
       "24.759166666666665"
      ]
     },
     "execution_count": 56,
     "metadata": {},
     "output_type": "execute_result"
    }
   ],
   "source": [
    "nit[-1]/nitM[-1]"
   ]
  },
  {
   "cell_type": "code",
   "execution_count": 43,
   "id": "biblical-there",
   "metadata": {},
   "outputs": [
    {
     "data": {
      "image/png": "[encoded data removed]",
      "text/plain": [
       "<Figure size 1152x144 with 4 Axes>"
      ]
     },
     "metadata": {
      "needs_background": "light"
     },
     "output_type": "display_data"
    }
   ],
   "source": [
    "plt.rc('text', usetex=True)\n",
    "plt.rc('font', family='serif')\n",
    "fig = plt.figure(figsize=(4*4,2.))\n",
    "(ax11), (ax12) , (ax13), (ax14) = fig.subplots(1,4)\n",
    "# (ax11) = fig.subplots(1,1)\n",
    "plt.tight_layout(pad=2.5, w_pad=3.5, h_pad=3.5)\n",
    "ax11.margins(x=0.1, y = 0.1)\n",
    "ax11.xaxis.set_minor_locator(AutoMinorLocator())\n",
    "ax11.yaxis.set_minor_locator(AutoMinorLocator())\n",
    "\n",
    "ax11.plot(1/e,IC_Fm[:,-1]*cP, color='red', marker=\"o\",markersize=mkSZ,linewidth=lnWDT,label=\"micro\")\n",
    "ax11.plot(1/e,IC_FM[:,-1]*cP, color='mediumblue', marker=\"o\",markersize=mkSZ,linewidth=lnWDT,label=\"TANN\")\n",
    "\n",
    "ax11.set_xlabel('$1/\\epsilon$')\n",
    "ax11.set_ylabel('$\\sigma$ (MPa)')\n",
    "ax11.legend(loc='best',fontsize=ftsz_leg)\n",
    "ax11.grid(True, which='major', linewidth=0.3, color='lightgray')\n",
    "ax11.grid(True, which='minor', linewidth=0.3, alpha=0.2, color='lightgray')\n",
    "\n",
    "ax12.margins(x=0.1, y = 0.1)\n",
    "ax12.xaxis.set_minor_locator(AutoMinorLocator())\n",
    "ax12.yaxis.set_minor_locator(AutoMinorLocator())\n",
    "\n",
    "# ax12.plot(1/e,IC_Fm[:,1], color='red', marker=\"o\",markersize=mkSZ,linewidth=lnWDT,label=\"$\\mathit{\\Psi}^{\\epsilon}$\")\n",
    "# ax12.plot(1/e_M,IC_FM[:,1], color='mediumblue', marker=\"o\",markersize=mkSZ,linewidth=lnWDT,label=\"$\\mathit{\\Psi}^{(1)}$\")\n",
    "ax12.plot(1/e,IC_Fm[:,2]*cP, color='red', marker=\"o\",markersize=mkSZ,linewidth=lnWDT,label=\"micro\")\n",
    "ax12.plot(1/e,IC_FM[:,2]*cP, color='mediumblue', marker=\"o\",markersize=mkSZ,linewidth=lnWDT,label=\"TANN\")\n",
    "\n",
    "ax12.set_xlabel('$1/\\epsilon$')\n",
    "ax12.set_ylabel('$\\sigma$ (MPa)')\n",
    "ax12.legend(loc='best',fontsize=ftsz_leg)\n",
    "ax12.grid(True, which='major', linewidth=0.3, color='lightgray')\n",
    "ax12.grid(True, which='minor', linewidth=0.3, alpha=0.2, color='lightgray')\n",
    "\n",
    "ax13.margins(x=0.1, y = 0.1)\n",
    "ax13.xaxis.set_minor_locator(AutoMinorLocator())\n",
    "ax13.yaxis.set_minor_locator(AutoMinorLocator())\n",
    "\n",
    "ax13.plot(1/e,IC_Fm[:,-4]*cP, color='red', marker=\"o\",markersize=mkSZ,linewidth=lnWDT,label=\"micro\")\n",
    "ax13.plot(1/e,IC_FM[:,-4]*cP, color='mediumblue', marker=\"o\",markersize=mkSZ,linewidth=lnWDT,label=\"TANN\")\n",
    "\n",
    "ax13.set_xlabel('$1/\\epsilon$')\n",
    "ax13.set_ylabel('$\\sigma$ (MPa)')\n",
    "ax13.legend(loc='best',fontsize=ftsz_leg)\n",
    "ax13.grid(True, which='major', linewidth=0.3, color='lightgray')\n",
    "ax13.grid(True, which='minor', linewidth=0.3, alpha=0.2, color='lightgray')\n",
    "\n",
    "ax14.margins(x=0.1, y = 0.1)\n",
    "ax14.xaxis.set_minor_locator(AutoMinorLocator())\n",
    "ax14.yaxis.set_minor_locator(AutoMinorLocator())\n",
    "ax14.plot(1/e,IC_Fm[:,0]*cP, color='red', marker=\"o\",markersize=mkSZ,linewidth=lnWDT,label=\"micro\")\n",
    "ax14.plot(1/e,IC_FM[:,0]*cP, color='mediumblue', marker=\"o\",markersize=mkSZ,linewidth=lnWDT,label=\"TANN\")\n",
    "\n",
    "ax14.set_xlabel('$1/\\epsilon$')\n",
    "ax14.set_ylabel('$\\sigma$ (MPa)')\n",
    "ax14.legend(loc='best',fontsize=ftsz_leg)\n",
    "ax14.grid(True, which='major', linewidth=0.3, color='lightgray')\n",
    "ax14.grid(True, which='minor', linewidth=0.3, alpha=0.2, color='lightgray')\n",
    "# ax14.set_ylim([-365,-375])\n",
    "\n",
    "# fig.savefig(f\"TORS_PL_stress.pdf\", format=\"pdf\", transparent=True)"
   ]
  },
  {
   "cell_type": "code",
   "execution_count": 45,
   "id": "understanding-terrorism",
   "metadata": {},
   "outputs": [
    {
     "data": {
      "text/plain": [
       "(array([-46.79140832, -34.0337436 , -15.58467161,  -5.10259803,\n",
       "         -1.29533445,   0.49755912,   0.68640414]),\n",
       " array([139.05024405,  46.87663885,   9.41744901,  -0.91816451,\n",
       "         -2.4524778 ,  -3.59374106,  -3.97434024]),\n",
       " array([1662.76599098,  791.87931502,  367.97854434,  153.14191637,\n",
       "          87.24536498,   69.13915582,   56.69061455]))"
      ]
     },
     "execution_count": 45,
     "metadata": {},
     "output_type": "execute_result"
    }
   ],
   "source": [
    "100*(U_m/U_M-1),100*(E_m*cE*A/(E_M*cE*A)-1),100*(D_m/(D_M)-1)"
   ]
  },
  {
   "cell_type": "code",
   "execution_count": null,
   "id": "second-disney",
   "metadata": {},
   "outputs": [],
   "source": []
  }
 ],
 "metadata": {
  "kernelspec": {
   "display_name": "Python 3",
   "language": "python",
   "name": "python3"
  },
  "language_info": {
   "codemirror_mode": {
    "name": "ipython",
    "version": 3
   },
   "file_extension": ".py",
   "mimetype": "text/x-python",
   "name": "python",
   "nbconvert_exporter": "python",
   "pygments_lexer": "ipython3",
   "version": "3.8.5"
  }
 },
 "nbformat": 4,
 "nbformat_minor": 5
}

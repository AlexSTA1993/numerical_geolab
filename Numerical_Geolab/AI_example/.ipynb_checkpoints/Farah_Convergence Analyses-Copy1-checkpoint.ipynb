{
 "cells": [
  {
   "cell_type": "code",
   "execution_count": 1,
   "id": "indirect-party",
   "metadata": {},
   "outputs": [],
   "source": [
    "import matplotlib.pyplot as plt\n",
    "import numpy as np\n",
    "import pickle\n",
    "np.random.seed(1)"
   ]
  },
  {
   "cell_type": "code",
   "execution_count": null,
   "id": "liked-scroll",
   "metadata": {},
   "outputs": [],
   "source": []
  },
  {
   "cell_type": "code",
   "execution_count": 2,
   "id": "written-valentine",
   "metadata": {},
   "outputs": [],
   "source": [
    "file = './DEG1_PUSHOVER_Macro-3D_L5x5x30'\n",
    "with open(file, 'rb') as f_obj:\n",
    "    data = pickle.load(f_obj)\n",
    "N1=5;N2=N1;N3=30.\n",
    "N=N1*N2*N3\n",
    "V=5*5*30\n",
    "usol,stress,svars,IC = data\n",
    "energy= svars[:,:,-3]\n",
    "dissipation= svars[:,:,-2]\n",
    "usol=np.reshape(usol,(usol.shape[0],-1,3))\n",
    "U0x=usol[:,:,0]\n",
    "U0y=usol[:,:,1]\n",
    "U0z=usol[:,:,2]\n",
    "Uy=np.zeros(U0y.shape[0])\n",
    "for i in range(U0y.shape[0]):\n",
    "    Uy[i] = np.amax(U0y[i])\n",
    "    \n",
    "E0=np.sum(energy,1)\n",
    "D0=np.sum(dissipation,1)\n",
    "IC_u = IC[:,:,-24:]\n",
    "IC_f = IC[:,:,:-24]\n",
    "IC_u = IC_u.reshape(IC_u.shape[0],IC_u.shape[1],IC_u.shape[2]//3,3)\n",
    "frc_svarsGP = IC_f[:,:N1*N2*6,:]\n",
    "E05530=E0*V/(N*6)\n",
    "D05530=D0*V/(N*6)\n",
    "E0,D0\n",
    "barnv = np.array([[-1.        ,  0.        ,  0.        ],\n",
    "       [ 0.        , -1.        ,  0.        ],\n",
    "       [-0.70710678, -0.70710678,  0.        ],\n",
    "       [-1.        ,  0.        ,  0.        ],\n",
    "       [ 0.        , -1.        ,  0.        ],\n",
    "       [ 0.70710678, -0.70710678,  0.        ],\n",
    "       [-1.        ,  0.        ,  0.        ],\n",
    "       [ 0.        , -1.        ,  0.        ],\n",
    "       [-0.70710678, -0.70710678,  0.        ],\n",
    "       [ 0.        ,  0.        ,  1.        ],\n",
    "       [ 0.        , -0.70710678,  0.70710678],\n",
    "       [-0.70710678,  0.        ,  0.70710678],\n",
    "       [-1.        ,  0.        ,  0.        ],\n",
    "       [ 0.        ,  0.        ,  1.        ],\n",
    "       [ 0.        ,  0.70710678,  0.70710678],\n",
    "       [-0.70710678,  0.        ,  0.70710678],\n",
    "       [ 0.        , -1.        ,  0.        ],\n",
    "       [ 0.70710678, -0.70710678,  0.        ],\n",
    "       [ 0.        ,  0.        ,  1.        ],\n",
    "       [ 0.        , -0.70710678,  0.70710678],\n",
    "       [ 0.70710678,  0.        ,  0.70710678],\n",
    "       [ 0.        ,  0.        ,  1.        ],\n",
    "       [ 0.        ,  0.70710678,  0.70710678],\n",
    "       [ 0.70710678,  0.        ,  0.70710678]])"
   ]
  },
  {
   "cell_type": "code",
   "execution_count": 3,
   "id": "fifty-preliminary",
   "metadata": {},
   "outputs": [],
   "source": [
    "frc = np.zeros((frc_svarsGP.shape[0],N1*N2*6,24,3))\n",
    "for t in range(frc_svarsGP.shape[0]):\n",
    "    for b in range(N1*N2*6):\n",
    "        for i in range(24):\n",
    "            frc[t,b,i,:]=(frc_svarsGP[t,b,i]*(barnv[i]))\n",
    "            \n",
    "fy = np.zeros((frc_svarsGP.shape[0],N1*N2*6,24))\n",
    "for t in range(frc_svarsGP.shape[0]):\n",
    "    for b in range(N1*N2*6):\n",
    "        for i in range(24):\n",
    "            fy[t,b,i]=np.dot(frc[t,b,i],np.array([0,1,0]))\n",
    "            \n",
    "Fy = np.sum(np.sum(fy,axis=2),axis=1)\n",
    "Ry5530 = np.zeros(1+Fy.shape[0])\n",
    "Ry5530[1:]=Fy\n",
    "Sy5530 = np.zeros(1+Uy.shape[0])\n",
    "Sy5530[1:]=Uy\n",
    "# Ry"
   ]
  },
  {
   "cell_type": "code",
   "execution_count": 26,
   "id": "removed-serve",
   "metadata": {},
   "outputs": [
    {
     "data": {
      "image/png": "[encoded data removed]",
      "text/plain": [
       "<Figure size 360x216 with 1 Axes>"
      ]
     },
     "metadata": {
      "needs_background": "light"
     },
     "output_type": "display_data"
    }
   ],
   "source": [
    "%matplotlib inline\n",
    "plt.rcParams[\"figure.figsize\"] = (5,3)\n",
    "# plt.plot(u,V,'k-',linewidth=2)\n",
    "# plt.plot(Uy[0]*0,Fy[0]*0*1000,color='k', alpha = 1, marker='o', linestyle='--',linewidth=1, markersize=6)\n",
    "plt.plot(Sy5530,1000*Ry5530,color='k', alpha = 1, marker='o', linestyle='--',linewidth=1, markersize=6)\n",
    "# plt.plot(np.array(0,,Fy[0]*0*1000,color='k', alpha = 1, marker='o', linestyle='--',linewidth=1, markersize=6)\n",
    "plt.grid(color='k', linestyle='--', linewidth=0.2)\n",
    "plt.title('Force-displacement curve of MDOF system')\n",
    "plt.ylabel('$Base$ $shear, V$');plt.xlabel('$Top$ $displacement, D_t$ $(m)$'); plt.show()"
   ]
  },
  {
   "cell_type": "code",
   "execution_count": 5,
   "id": "random-creation",
   "metadata": {},
   "outputs": [],
   "source": [
    "file = './DEG1_PUSHOVER_Macro-3D_L8x8x30'\n",
    "with open(file, 'rb') as f_obj:\n",
    "    data = pickle.load(f_obj)\n",
    "N1=8;N2=N1;N3=30.\n",
    "N=N1*N2*N3\n",
    "V=5*5*30\n",
    "usol,stress,svars,IC = data\n",
    "energy= svars[:,:,-3]\n",
    "dissipation= svars[:,:,-2]\n",
    "usol=np.reshape(usol,(usol.shape[0],-1,3))\n",
    "U0x=usol[:,:,0]\n",
    "U0y=usol[:,:,1]\n",
    "U0z=usol[:,:,2]\n",
    "Uy=np.zeros(U0y.shape[0])\n",
    "for i in range(U0y.shape[0]):\n",
    "    Uy[i] = np.amax(U0y[i])\n",
    "    \n",
    "E0=np.sum(energy,1)\n",
    "D0=np.sum(dissipation,1)\n",
    "IC_u = IC[:,:,-24:]\n",
    "IC_f = IC[:,:,:-24]\n",
    "IC_u = IC_u.reshape(IC_u.shape[0],IC_u.shape[1],IC_u.shape[2]//3,3)\n",
    "frc_svarsGP = IC_f[:,:N1*N2*6,:]\n",
    "E08830=E0*V/(N*6)\n",
    "D08830=D0*V/(N*6)\n",
    "E0,D0\n",
    "barnv = np.array([[-1.        ,  0.        ,  0.        ],\n",
    "       [ 0.        , -1.        ,  0.        ],\n",
    "       [-0.70710678, -0.70710678,  0.        ],\n",
    "       [-1.        ,  0.        ,  0.        ],\n",
    "       [ 0.        , -1.        ,  0.        ],\n",
    "       [ 0.70710678, -0.70710678,  0.        ],\n",
    "       [-1.        ,  0.        ,  0.        ],\n",
    "       [ 0.        , -1.        ,  0.        ],\n",
    "       [-0.70710678, -0.70710678,  0.        ],\n",
    "       [ 0.        ,  0.        ,  1.        ],\n",
    "       [ 0.        , -0.70710678,  0.70710678],\n",
    "       [-0.70710678,  0.        ,  0.70710678],\n",
    "       [-1.        ,  0.        ,  0.        ],\n",
    "       [ 0.        ,  0.        ,  1.        ],\n",
    "       [ 0.        ,  0.70710678,  0.70710678],\n",
    "       [-0.70710678,  0.        ,  0.70710678],\n",
    "       [ 0.        , -1.        ,  0.        ],\n",
    "       [ 0.70710678, -0.70710678,  0.        ],\n",
    "       [ 0.        ,  0.        ,  1.        ],\n",
    "       [ 0.        , -0.70710678,  0.70710678],\n",
    "       [ 0.70710678,  0.        ,  0.70710678],\n",
    "       [ 0.        ,  0.        ,  1.        ],\n",
    "       [ 0.        ,  0.70710678,  0.70710678],\n",
    "       [ 0.70710678,  0.        ,  0.70710678]])"
   ]
  },
  {
   "cell_type": "code",
   "execution_count": 6,
   "id": "identified-heath",
   "metadata": {},
   "outputs": [],
   "source": [
    "frc = np.zeros((frc_svarsGP.shape[0],N1*N2*6,24,3))\n",
    "for t in range(frc_svarsGP.shape[0]):\n",
    "    for b in range(N1*N2*6):\n",
    "        for i in range(24):\n",
    "            frc[t,b,i,:]=(frc_svarsGP[t,b,i]*(barnv[i]))\n",
    "            \n",
    "fy = np.zeros((frc_svarsGP.shape[0],N1*N2*6,24))\n",
    "for t in range(frc_svarsGP.shape[0]):\n",
    "    for b in range(N1*N2*6):\n",
    "        for i in range(24):\n",
    "            fy[t,b,i]=np.dot(frc[t,b,i],np.array([0,1,0]))\n",
    "            \n",
    "Fy = np.sum(np.sum(fy,axis=2),axis=1)\n",
    "Ry8830 = np.zeros(1+Fy.shape[0])\n",
    "Ry8830[1:]=Fy\n",
    "Sy8830 = np.zeros(1+Uy.shape[0])\n",
    "Sy8830[1:]=Uy\n",
    "# Ry"
   ]
  },
  {
   "cell_type": "code",
   "execution_count": 7,
   "id": "metric-rates",
   "metadata": {},
   "outputs": [],
   "source": [
    "file = './DEG1_PUSHOVER_Macro-3D_L10x10x30'\n",
    "with open(file, 'rb') as f_obj:\n",
    "    data = pickle.load(f_obj)\n",
    "N1=10;N2=N1;N3=30.\n",
    "N=N1*N2*N3\n",
    "V=5*5*30\n",
    "usol,stress,svars,IC = data\n",
    "energy= svars[:,:,-3]\n",
    "dissipation= svars[:,:,-2]\n",
    "usol=np.reshape(usol,(usol.shape[0],-1,3))\n",
    "U0x=usol[:,:,0]\n",
    "U0y=usol[:,:,1]\n",
    "U0z=usol[:,:,2]\n",
    "Uy=np.zeros(U0y.shape[0])\n",
    "for i in range(U0y.shape[0]):\n",
    "    Uy[i] = np.amax(U0y[i])\n",
    "    \n",
    "E0=np.sum(energy,1)\n",
    "D0=np.sum(dissipation,1)\n",
    "IC_u = IC[:,:,-24:]\n",
    "IC_f = IC[:,:,:-24]\n",
    "IC_u = IC_u.reshape(IC_u.shape[0],IC_u.shape[1],IC_u.shape[2]//3,3)\n",
    "frc_svarsGP = IC_f[:,:N1*N2*6,:]\n",
    "E0101030=E0*V/(N*6)\n",
    "D0101030=D0*V/(N*6)\n",
    "E0,D0\n",
    "barnv = np.array([[-1.        ,  0.        ,  0.        ],\n",
    "       [ 0.        , -1.        ,  0.        ],\n",
    "       [-0.70710678, -0.70710678,  0.        ],\n",
    "       [-1.        ,  0.        ,  0.        ],\n",
    "       [ 0.        , -1.        ,  0.        ],\n",
    "       [ 0.70710678, -0.70710678,  0.        ],\n",
    "       [-1.        ,  0.        ,  0.        ],\n",
    "       [ 0.        , -1.        ,  0.        ],\n",
    "       [-0.70710678, -0.70710678,  0.        ],\n",
    "       [ 0.        ,  0.        ,  1.        ],\n",
    "       [ 0.        , -0.70710678,  0.70710678],\n",
    "       [-0.70710678,  0.        ,  0.70710678],\n",
    "       [-1.        ,  0.        ,  0.        ],\n",
    "       [ 0.        ,  0.        ,  1.        ],\n",
    "       [ 0.        ,  0.70710678,  0.70710678],\n",
    "       [-0.70710678,  0.        ,  0.70710678],\n",
    "       [ 0.        , -1.        ,  0.        ],\n",
    "       [ 0.70710678, -0.70710678,  0.        ],\n",
    "       [ 0.        ,  0.        ,  1.        ],\n",
    "       [ 0.        , -0.70710678,  0.70710678],\n",
    "       [ 0.70710678,  0.        ,  0.70710678],\n",
    "       [ 0.        ,  0.        ,  1.        ],\n",
    "       [ 0.        ,  0.70710678,  0.70710678],\n",
    "       [ 0.70710678,  0.        ,  0.70710678]])"
   ]
  },
  {
   "cell_type": "code",
   "execution_count": 8,
   "id": "comparable-cliff",
   "metadata": {},
   "outputs": [],
   "source": [
    "frc = np.zeros((frc_svarsGP.shape[0],N1*N2*6,24,3))\n",
    "for t in range(frc_svarsGP.shape[0]):\n",
    "    for b in range(N1*N2*6):\n",
    "        for i in range(24):\n",
    "            frc[t,b,i,:]=(frc_svarsGP[t,b,i]*(barnv[i]))\n",
    "            \n",
    "fy = np.zeros((frc_svarsGP.shape[0],N1*N2*6,24))\n",
    "for t in range(frc_svarsGP.shape[0]):\n",
    "    for b in range(N1*N2*6):\n",
    "        for i in range(24):\n",
    "            fy[t,b,i]=np.dot(frc[t,b,i],np.array([0,1,0]))\n",
    "            \n",
    "Fy = np.sum(np.sum(fy,axis=2),axis=1)\n",
    "Ry101030 = np.zeros(1+Fy.shape[0])\n",
    "Ry101030[1:]=Fy\n",
    "Sy101030 = np.zeros(1+Uy.shape[0])\n",
    "Sy101030[1:]=Uy\n",
    "# Ry"
   ]
  },
  {
   "cell_type": "code",
   "execution_count": 9,
   "id": "bronze-wonder",
   "metadata": {},
   "outputs": [
    {
     "data": {
      "image/png": "[encoded data removed]",
      "text/plain": [
       "<Figure size 360x216 with 1 Axes>"
      ]
     },
     "metadata": {
      "needs_background": "light"
     },
     "output_type": "display_data"
    }
   ],
   "source": [
    "%matplotlib inline\n",
    "plt.rcParams[\"figure.figsize\"] = (5,3)\n",
    "# plt.plot(u,V,'k-',linewidth=2)\n",
    "# plt.plot(Uy[0]*0,Fy[0]*0*1000,color='k', alpha = 1, marker='o', linestyle='--',linewidth=1, markersize=6)\n",
    "plt.plot(Sy101030,Ry101030,color='k', alpha = 1, marker='o', linestyle='--',linewidth=1, markersize=6)\n",
    "plt.plot(Sy5530,Ry5530,color='k', alpha = 1, marker='o', linestyle='--',linewidth=1, markersize=6)\n",
    "\n",
    "# plt.plot(np.array(0,,Fy[0]*0*1000,color='k', alpha = 1, marker='o', linestyle='--',linewidth=1, markersize=6)\n",
    "plt.grid(color='k', linestyle='--', linewidth=0.2)\n",
    "plt.title('Force-displacement curve of MDOF system')\n",
    "plt.ylabel('$Base$ $shear, V$');plt.xlabel('$Top$ $displacement, D_t$ $(m)$'); plt.show()"
   ]
  },
  {
   "cell_type": "code",
   "execution_count": 10,
   "id": "positive-sender",
   "metadata": {},
   "outputs": [],
   "source": [
    "file = './DEG1_PUSHOVER_Macro-3D_L13x13x30'\n",
    "with open(file, 'rb') as f_obj:\n",
    "    data = pickle.load(f_obj)\n",
    "N1=13;N2=N1;N3=30.\n",
    "N=N1*N2*N3\n",
    "V=5*5*30\n",
    "usol,stress,svars,IC = data\n",
    "energy= svars[:,:,-3]\n",
    "dissipation= svars[:,:,-2]\n",
    "usol=np.reshape(usol,(usol.shape[0],-1,3))\n",
    "U0x=usol[:,:,0]\n",
    "U0y=usol[:,:,1]\n",
    "U0z=usol[:,:,2]\n",
    "Uy=np.zeros(U0y.shape[0])\n",
    "for i in range(U0y.shape[0]):\n",
    "    Uy[i] = np.amax(U0y[i])\n",
    "    \n",
    "E0=np.sum(energy,1)\n",
    "D0=np.sum(dissipation,1)\n",
    "IC_u = IC[:,:,-24:]\n",
    "IC_f = IC[:,:,:-24]\n",
    "IC_u = IC_u.reshape(IC_u.shape[0],IC_u.shape[1],IC_u.shape[2]//3,3)\n",
    "frc_svarsGP = IC_f[:,:N1*N2*6,:]\n",
    "E0131330=E0*V/(N*6)\n",
    "D0131330=D0*V/(N*6)\n",
    "E0,D0\n",
    "barnv = np.array([[-1.        ,  0.        ,  0.        ],\n",
    "       [ 0.        , -1.        ,  0.        ],\n",
    "       [-0.70710678, -0.70710678,  0.        ],\n",
    "       [-1.        ,  0.        ,  0.        ],\n",
    "       [ 0.        , -1.        ,  0.        ],\n",
    "       [ 0.70710678, -0.70710678,  0.        ],\n",
    "       [-1.        ,  0.        ,  0.        ],\n",
    "       [ 0.        , -1.        ,  0.        ],\n",
    "       [-0.70710678, -0.70710678,  0.        ],\n",
    "       [ 0.        ,  0.        ,  1.        ],\n",
    "       [ 0.        , -0.70710678,  0.70710678],\n",
    "       [-0.70710678,  0.        ,  0.70710678],\n",
    "       [-1.        ,  0.        ,  0.        ],\n",
    "       [ 0.        ,  0.        ,  1.        ],\n",
    "       [ 0.        ,  0.70710678,  0.70710678],\n",
    "       [-0.70710678,  0.        ,  0.70710678],\n",
    "       [ 0.        , -1.        ,  0.        ],\n",
    "       [ 0.70710678, -0.70710678,  0.        ],\n",
    "       [ 0.        ,  0.        ,  1.        ],\n",
    "       [ 0.        , -0.70710678,  0.70710678],\n",
    "       [ 0.70710678,  0.        ,  0.70710678],\n",
    "       [ 0.        ,  0.        ,  1.        ],\n",
    "       [ 0.        ,  0.70710678,  0.70710678],\n",
    "       [ 0.70710678,  0.        ,  0.70710678]])"
   ]
  },
  {
   "cell_type": "code",
   "execution_count": 11,
   "id": "copyrighted-cement",
   "metadata": {},
   "outputs": [],
   "source": [
    "frc = np.zeros((frc_svarsGP.shape[0],N1*N2*6,24,3))\n",
    "for t in range(frc_svarsGP.shape[0]):\n",
    "    for b in range(N1*N2*6):\n",
    "        for i in range(24):\n",
    "            frc[t,b,i,:]=(frc_svarsGP[t,b,i]*(barnv[i]))\n",
    "            \n",
    "fy = np.zeros((frc_svarsGP.shape[0],N1*N2*6,24))\n",
    "for t in range(frc_svarsGP.shape[0]):\n",
    "    for b in range(N1*N2*6):\n",
    "        for i in range(24):\n",
    "            fy[t,b,i]=np.dot(frc[t,b,i],np.array([0,1,0]))\n",
    "            \n",
    "Fy = np.sum(np.sum(fy,axis=2),axis=1)\n",
    "Ry131330 = np.zeros(1+Fy.shape[0])\n",
    "Ry131330[1:]=Fy\n",
    "Sy131330 = np.zeros(1+Uy.shape[0])\n",
    "Sy131330[1:]=Uy\n",
    "# Ry"
   ]
  },
  {
   "cell_type": "code",
   "execution_count": 12,
   "id": "dental-chuck",
   "metadata": {},
   "outputs": [],
   "source": [
    "file = './DEG1_PUSHOVER_Macro-3D_L15x15x30'\n",
    "with open(file, 'rb') as f_obj:\n",
    "    data = pickle.load(f_obj)\n",
    "N1=15;N2=N1;N3=30.\n",
    "N=N1*N2*N3\n",
    "V=5*5*30\n",
    "usol,stress,svars,IC = data\n",
    "energy= svars[:,:,-3]\n",
    "dissipation= svars[:,:,-2]\n",
    "usol=np.reshape(usol,(usol.shape[0],-1,3))\n",
    "U0x=usol[:,:,0]\n",
    "U0y=usol[:,:,1]\n",
    "U0z=usol[:,:,2]\n",
    "Uy=np.zeros(U0y.shape[0])\n",
    "for i in range(U0y.shape[0]):\n",
    "    Uy[i] = np.amax(U0y[i])\n",
    "    \n",
    "E0=np.sum(energy,1)\n",
    "D0=np.sum(dissipation,1)\n",
    "IC_u = IC[:,:,-24:]\n",
    "IC_f = IC[:,:,:-24]\n",
    "IC_u = IC_u.reshape(IC_u.shape[0],IC_u.shape[1],IC_u.shape[2]//3,3)\n",
    "frc_svarsGP = IC_f[:,:N1*N2*6,:]\n",
    "E0151530=E0*V/(N*6)\n",
    "D0151530=D0*V/(N*6)\n",
    "E0,D0\n",
    "barnv = np.array([[-1.        ,  0.        ,  0.        ],\n",
    "       [ 0.        , -1.        ,  0.        ],\n",
    "       [-0.70710678, -0.70710678,  0.        ],\n",
    "       [-1.        ,  0.        ,  0.        ],\n",
    "       [ 0.        , -1.        ,  0.        ],\n",
    "       [ 0.70710678, -0.70710678,  0.        ],\n",
    "       [-1.        ,  0.        ,  0.        ],\n",
    "       [ 0.        , -1.        ,  0.        ],\n",
    "       [-0.70710678, -0.70710678,  0.        ],\n",
    "       [ 0.        ,  0.        ,  1.        ],\n",
    "       [ 0.        , -0.70710678,  0.70710678],\n",
    "       [-0.70710678,  0.        ,  0.70710678],\n",
    "       [-1.        ,  0.        ,  0.        ],\n",
    "       [ 0.        ,  0.        ,  1.        ],\n",
    "       [ 0.        ,  0.70710678,  0.70710678],\n",
    "       [-0.70710678,  0.        ,  0.70710678],\n",
    "       [ 0.        , -1.        ,  0.        ],\n",
    "       [ 0.70710678, -0.70710678,  0.        ],\n",
    "       [ 0.        ,  0.        ,  1.        ],\n",
    "       [ 0.        , -0.70710678,  0.70710678],\n",
    "       [ 0.70710678,  0.        ,  0.70710678],\n",
    "       [ 0.        ,  0.        ,  1.        ],\n",
    "       [ 0.        ,  0.70710678,  0.70710678],\n",
    "       [ 0.70710678,  0.        ,  0.70710678]])"
   ]
  },
  {
   "cell_type": "code",
   "execution_count": 13,
   "id": "preceding-assets",
   "metadata": {},
   "outputs": [],
   "source": [
    "frc = np.zeros((frc_svarsGP.shape[0],N1*N2*6,24,3))\n",
    "for t in range(frc_svarsGP.shape[0]):\n",
    "    for b in range(N1*N2*6):\n",
    "        for i in range(24):\n",
    "            frc[t,b,i,:]=(frc_svarsGP[t,b,i]*(barnv[i]))\n",
    "            \n",
    "fy = np.zeros((frc_svarsGP.shape[0],N1*N2*6,24))\n",
    "for t in range(frc_svarsGP.shape[0]):\n",
    "    for b in range(N1*N2*6):\n",
    "        for i in range(24):\n",
    "            fy[t,b,i]=np.dot(frc[t,b,i],np.array([0,1,0]))\n",
    "            \n",
    "Fy = np.sum(np.sum(fy,axis=2),axis=1)\n",
    "Ry151530 = np.zeros(1+Fy.shape[0])\n",
    "Ry151530[1:]=Fy -1\n",
    "Sy151530 = np.zeros(1+Uy.shape[0])\n",
    "Sy151530[1:]=Uy\n",
    "# Ry"
   ]
  },
  {
   "cell_type": "code",
   "execution_count": 14,
   "id": "sunrise-price",
   "metadata": {},
   "outputs": [
    {
     "data": {
      "image/png": "[encoded data removed]",
      "text/plain": [
       "<Figure size 360x216 with 1 Axes>"
      ]
     },
     "metadata": {
      "needs_background": "light"
     },
     "output_type": "display_data"
    }
   ],
   "source": [
    "%matplotlib inline\n",
    "plt.rcParams[\"figure.figsize\"] = (5,3)\n",
    "# plt.plot(u,V,'k-',linewidth=2)\n",
    "# plt.plot(Uy[0]*0,Fy[0]*0*1000,color='k', alpha = 1, marker='o', linestyle='--',linewidth=1, markersize=6)\n",
    "plt.plot(Sy151530,Ry151530,color='red', alpha = 1, marker='o', linestyle='--',linewidth=1, markersize=6)\n",
    "plt.plot(Sy101030,Ry101030,color='blue', alpha = 1, marker='o', linestyle='--',linewidth=1, markersize=6)\n",
    "plt.plot(Sy5530,Ry5530,color='k', alpha = 1, marker='o', linestyle='--',linewidth=1, markersize=6)\n",
    "\n",
    "# plt.plot(np.array(0,,Fy[0]*0*1000,color='k', alpha = 1, marker='o', linestyle='--',linewidth=1, markersize=6)\n",
    "plt.grid(color='k', linestyle='--', linewidth=0.2)\n",
    "plt.title('Force-displacement curve of MDOF system')\n",
    "plt.ylabel('$Base$ $shear, V$');plt.xlabel('$Top$ $displacement, D_t$ $(m)$'); plt.show()"
   ]
  },
  {
   "cell_type": "code",
   "execution_count": 15,
   "id": "mysterious-accreditation",
   "metadata": {},
   "outputs": [],
   "source": [
    "file = './DEG1_PUSHOVER_Macro-3D_L18x18x30'\n",
    "with open(file, 'rb') as f_obj:\n",
    "    data = pickle.load(f_obj)\n",
    "N1=18;N2=N1;N3=30.\n",
    "N=N1*N2*N3\n",
    "V=5*5*30\n",
    "usol,stress,svars,IC = data\n",
    "energy= svars[:,:,-3]\n",
    "dissipation= svars[:,:,-2]\n",
    "usol=np.reshape(usol,(usol.shape[0],-1,3))\n",
    "U0x=usol[:,:,0]\n",
    "U0y=usol[:,:,1]\n",
    "U0z=usol[:,:,2]\n",
    "Uy=np.zeros(U0y.shape[0])\n",
    "for i in range(U0y.shape[0]):\n",
    "    Uy[i] = np.amax(U0y[i])\n",
    "    \n",
    "E0=np.sum(energy,1)\n",
    "D0=np.sum(dissipation,1)\n",
    "IC_u = IC[:,:,-24:]\n",
    "IC_f = IC[:,:,:-24]\n",
    "IC_u = IC_u.reshape(IC_u.shape[0],IC_u.shape[1],IC_u.shape[2]//3,3)\n",
    "frc_svarsGP = IC_f[:,:N1*N2*6,:]\n",
    "E0181830=E0*V/(N*6)\n",
    "D0181830=D0*V/(N*6)\n",
    "E0,D0\n",
    "barnv = np.array([[-1.        ,  0.        ,  0.        ],\n",
    "       [ 0.        , -1.        ,  0.        ],\n",
    "       [-0.70710678, -0.70710678,  0.        ],\n",
    "       [-1.        ,  0.        ,  0.        ],\n",
    "       [ 0.        , -1.        ,  0.        ],\n",
    "       [ 0.70710678, -0.70710678,  0.        ],\n",
    "       [-1.        ,  0.        ,  0.        ],\n",
    "       [ 0.        , -1.        ,  0.        ],\n",
    "       [-0.70710678, -0.70710678,  0.        ],\n",
    "       [ 0.        ,  0.        ,  1.        ],\n",
    "       [ 0.        , -0.70710678,  0.70710678],\n",
    "       [-0.70710678,  0.        ,  0.70710678],\n",
    "       [-1.        ,  0.        ,  0.        ],\n",
    "       [ 0.        ,  0.        ,  1.        ],\n",
    "       [ 0.        ,  0.70710678,  0.70710678],\n",
    "       [-0.70710678,  0.        ,  0.70710678],\n",
    "       [ 0.        , -1.        ,  0.        ],\n",
    "       [ 0.70710678, -0.70710678,  0.        ],\n",
    "       [ 0.        ,  0.        ,  1.        ],\n",
    "       [ 0.        , -0.70710678,  0.70710678],\n",
    "       [ 0.70710678,  0.        ,  0.70710678],\n",
    "       [ 0.        ,  0.        ,  1.        ],\n",
    "       [ 0.        ,  0.70710678,  0.70710678],\n",
    "       [ 0.70710678,  0.        ,  0.70710678]])"
   ]
  },
  {
   "cell_type": "code",
   "execution_count": 16,
   "id": "honest-darwin",
   "metadata": {},
   "outputs": [],
   "source": [
    "frc = np.zeros((frc_svarsGP.shape[0],N1*N2*6,24,3))\n",
    "for t in range(frc_svarsGP.shape[0]):\n",
    "    for b in range(N1*N2*6):\n",
    "        for i in range(24):\n",
    "            frc[t,b,i,:]=(frc_svarsGP[t,b,i]*(barnv[i]))\n",
    "            \n",
    "fy = np.zeros((frc_svarsGP.shape[0],N1*N2*6,24))\n",
    "for t in range(frc_svarsGP.shape[0]):\n",
    "    for b in range(N1*N2*6):\n",
    "        for i in range(24):\n",
    "            fy[t,b,i]=np.dot(frc[t,b,i],np.array([0,1,0]))\n",
    "            \n",
    "Fy = np.sum(np.sum(fy,axis=2),axis=1)\n",
    "Ry181830 = np.zeros(1+Fy.shape[0])\n",
    "Ry181830[1:]=Fy\n",
    "Sy181830 = np.zeros(1+Uy.shape[0])\n",
    "Sy181830[1:]=Uy\n",
    "# Ry"
   ]
  },
  {
   "cell_type": "code",
   "execution_count": 17,
   "id": "packed-pointer",
   "metadata": {},
   "outputs": [],
   "source": [
    "file = './DEG1_PUSHOVER_Macro-3D_L20x20x30'\n",
    "with open(file, 'rb') as f_obj:\n",
    "    data = pickle.load(f_obj)\n",
    "N1=20;N2=N1;N3=30.\n",
    "N=N1*N2*N3\n",
    "V=5*5*30\n",
    "usol,stress,svars,IC = data\n",
    "energy= svars[:,:,-3]\n",
    "dissipation= svars[:,:,-2]\n",
    "usol=np.reshape(usol,(usol.shape[0],-1,3))\n",
    "U0x=usol[:,:,0]\n",
    "U0y=usol[:,:,1]\n",
    "U0z=usol[:,:,2]\n",
    "Uy=np.zeros(U0y.shape[0])\n",
    "for i in range(U0y.shape[0]):\n",
    "    Uy[i] = np.amax(U0y[i])\n",
    "    \n",
    "E0=np.sum(energy,1)\n",
    "D0=np.sum(dissipation,1)\n",
    "IC_u = IC[:,:,-24:]\n",
    "IC_f = IC[:,:,:-24]\n",
    "IC_u = IC_u.reshape(IC_u.shape[0],IC_u.shape[1],IC_u.shape[2]//3,3)\n",
    "frc_svarsGP = IC_f[:,:N1*N2*6,:]\n",
    "E0202030=E0*V/(N*6)\n",
    "D0202030=D0*V/(N*6)\n",
    "E0,D0\n",
    "barnv = np.array([[-1.        ,  0.        ,  0.        ],\n",
    "       [ 0.        , -1.        ,  0.        ],\n",
    "       [-0.70710678, -0.70710678,  0.        ],\n",
    "       [-1.        ,  0.        ,  0.        ],\n",
    "       [ 0.        , -1.        ,  0.        ],\n",
    "       [ 0.70710678, -0.70710678,  0.        ],\n",
    "       [-1.        ,  0.        ,  0.        ],\n",
    "       [ 0.        , -1.        ,  0.        ],\n",
    "       [-0.70710678, -0.70710678,  0.        ],\n",
    "       [ 0.        ,  0.        ,  1.        ],\n",
    "       [ 0.        , -0.70710678,  0.70710678],\n",
    "       [-0.70710678,  0.        ,  0.70710678],\n",
    "       [-1.        ,  0.        ,  0.        ],\n",
    "       [ 0.        ,  0.        ,  1.        ],\n",
    "       [ 0.        ,  0.70710678,  0.70710678],\n",
    "       [-0.70710678,  0.        ,  0.70710678],\n",
    "       [ 0.        , -1.        ,  0.        ],\n",
    "       [ 0.70710678, -0.70710678,  0.        ],\n",
    "       [ 0.        ,  0.        ,  1.        ],\n",
    "       [ 0.        , -0.70710678,  0.70710678],\n",
    "       [ 0.70710678,  0.        ,  0.70710678],\n",
    "       [ 0.        ,  0.        ,  1.        ],\n",
    "       [ 0.        ,  0.70710678,  0.70710678],\n",
    "       [ 0.70710678,  0.        ,  0.70710678]])"
   ]
  },
  {
   "cell_type": "code",
   "execution_count": 18,
   "id": "proprietary-waterproof",
   "metadata": {},
   "outputs": [],
   "source": [
    "frc = np.zeros((frc_svarsGP.shape[0],N1*N2*6,24,3))\n",
    "for t in range(frc_svarsGP.shape[0]):\n",
    "    for b in range(N1*N2*6):\n",
    "        for i in range(24):\n",
    "            frc[t,b,i,:]=(frc_svarsGP[t,b,i]*(barnv[i]))\n",
    "            \n",
    "fy = np.zeros((frc_svarsGP.shape[0],N1*N2*6,24))\n",
    "for t in range(frc_svarsGP.shape[0]):\n",
    "    for b in range(N1*N2*6):\n",
    "        for i in range(24):\n",
    "            fy[t,b,i]=np.dot(frc[t,b,i],np.array([0,1,0]))\n",
    "            \n",
    "Fy = np.sum(np.sum(fy,axis=2),axis=1)\n",
    "Ry202030 = np.zeros(1+Fy.shape[0])\n",
    "Ry202030[1:]=Fy\n",
    "Sy202030 = np.zeros(1+Uy.shape[0])\n",
    "Sy202030[1:]=Uy\n",
    "# Ry"
   ]
  },
  {
   "cell_type": "code",
   "execution_count": 254,
   "id": "preceding-andorra",
   "metadata": {},
   "outputs": [],
   "source": [
    "# file = './DEG1_PUSHOVER_Macro-3D_L23x23x30'\n",
    "# with open(file, 'rb') as f_obj:\n",
    "#     data = pickle.load(f_obj)\n",
    "# N1=23;N2=N1;N3=30.\n",
    "# N=N1*N2*N3\n",
    "# V=5*5*30\n",
    "# usol,stress,svars,IC = data\n",
    "# energy= svars[:,:,-3]\n",
    "# dissipation= svars[:,:,-2]\n",
    "# usol=np.reshape(usol,(usol.shape[0],-1,3))\n",
    "# U0x=usol[:,:,0]\n",
    "# U0y=usol[:,:,1]\n",
    "# U0z=usol[:,:,2]\n",
    "# Uy=np.zeros(U0y.shape[0])\n",
    "# for i in range(U0y.shape[0]):\n",
    "#     Uy[i] = np.amax(U0y[i])\n",
    "    \n",
    "# E0=np.sum(energy,1)\n",
    "# D0=np.sum(dissipation,1)\n",
    "# IC_u = IC[:,:,-24:]\n",
    "# IC_f = IC[:,:,:-24]\n",
    "# IC_u = IC_u.reshape(IC_u.shape[0],IC_u.shape[1],IC_u.shape[2]//3,3)\n",
    "# frc_svarsGP = IC_f[:,:N1*N2*6,:]\n",
    "# E0232330=E0*V/(N*6)\n",
    "# D0232330=D0*V/(N*6)\n",
    "# E0,D0\n",
    "# barnv = np.array([[-1.        ,  0.        ,  0.        ],\n",
    "#        [ 0.        , -1.        ,  0.        ],\n",
    "#        [-0.70710678, -0.70710678,  0.        ],\n",
    "#        [-1.        ,  0.        ,  0.        ],\n",
    "#        [ 0.        , -1.        ,  0.        ],\n",
    "#        [ 0.70710678, -0.70710678,  0.        ],\n",
    "#        [-1.        ,  0.        ,  0.        ],\n",
    "#        [ 0.        , -1.        ,  0.        ],\n",
    "#        [-0.70710678, -0.70710678,  0.        ],\n",
    "#        [ 0.        ,  0.        ,  1.        ],\n",
    "#        [ 0.        , -0.70710678,  0.70710678],\n",
    "#        [-0.70710678,  0.        ,  0.70710678],\n",
    "#        [-1.        ,  0.        ,  0.        ],\n",
    "#        [ 0.        ,  0.        ,  1.        ],\n",
    "#        [ 0.        ,  0.70710678,  0.70710678],\n",
    "#        [-0.70710678,  0.        ,  0.70710678],\n",
    "#        [ 0.        , -1.        ,  0.        ],\n",
    "#        [ 0.70710678, -0.70710678,  0.        ],\n",
    "#        [ 0.        ,  0.        ,  1.        ],\n",
    "#        [ 0.        , -0.70710678,  0.70710678],\n",
    "#        [ 0.70710678,  0.        ,  0.70710678],\n",
    "#        [ 0.        ,  0.        ,  1.        ],\n",
    "#        [ 0.        ,  0.70710678,  0.70710678],\n",
    "#        [ 0.70710678,  0.        ,  0.70710678]])"
   ]
  },
  {
   "cell_type": "code",
   "execution_count": 255,
   "id": "ordered-builder",
   "metadata": {},
   "outputs": [],
   "source": [
    "# frc = np.zeros((frc_svarsGP.shape[0],N1*N2*6,24,3))\n",
    "# for t in range(frc_svarsGP.shape[0]):\n",
    "#     for b in range(N1*N2*6):\n",
    "#         for i in range(24):\n",
    "#             frc[t,b,i,:]=(frc_svarsGP[t,b,i]*(barnv[i]))\n",
    "            \n",
    "# fy = np.zeros((frc_svarsGP.shape[0],N1*N2*6,24))\n",
    "# for t in range(frc_svarsGP.shape[0]):\n",
    "#     for b in range(N1*N2*6):\n",
    "#         for i in range(24):\n",
    "#             fy[t,b,i]=np.dot(frc[t,b,i],np.array([0,1,0]))\n",
    "            \n",
    "# Fy = np.sum(np.sum(fy,axis=2),axis=1)\n",
    "# Ry232330 = np.zeros(1+Fy.shape[0])\n",
    "# Ry232330[1:]=Fy\n",
    "# Sy232330 = np.zeros(1+Uy.shape[0])\n",
    "# Sy232330[1:]=Uy\n",
    "# # Ry"
   ]
  },
  {
   "cell_type": "code",
   "execution_count": 25,
   "id": "christian-allowance",
   "metadata": {},
   "outputs": [
    {
     "data": {
      "image/png": "[encoded data removed]",
      "text/plain": [
       "<Figure size 360x360 with 1 Axes>"
      ]
     },
     "metadata": {
      "needs_background": "light"
     },
     "output_type": "display_data"
    }
   ],
   "source": [
    "%matplotlib inline\n",
    "plt.rcParams[\"figure.figsize\"] = (5,5)\n",
    "# plt.plot(u,V,'k-',linewidth=2)\n",
    "# plt.plot(Uy[0]*0,Fy[0]*0*1000,color='k', alpha = 1, marker='o', linestyle='--',linewidth=1, markersize=6)\n",
    "# plt.plot(Sy232330,Ry232330,color='darkorange', alpha = 1, marker='o', linestyle='--',linewidth=1, markersize=6)\n",
    "plt.plot(Sy202030,1000*Ry202030,color='darkorange', alpha = 1, marker='o', linestyle='--',linewidth=1, markersize=6)\n",
    "# plt.plot(Sy151530,Ry151530,color='red', alpha = 1, marker='o', linestyle='--',linewidth=1, markersize=6)\n",
    "# plt.plot(Sy101030,Ry101030,color='blue', alpha = 1, marker='o', linestyle='--',linewidth=1, markersize=6)\n",
    "# plt.plot(Sy5530,Ry5530,color='k', alpha = 1, marker='o', linestyle='--',linewidth=1, markersize=6)\n",
    "\n",
    "# plt.plot(np.array(0,,Fy[0]*0*1000,color='k', alpha = 1, marker='o', linestyle='--',linewidth=1, markersize=6)\n",
    "plt.grid(color='k', linestyle='--', linewidth=0.2)\n",
    "plt.title('Force-displacement curve of MDOF system')\n",
    "plt.ylabel('$Base$ $shear, V$');plt.xlabel('$Top$ $displacement, D_t$ $(m)$'); plt.show()"
   ]
  },
  {
   "cell_type": "code",
   "execution_count": 378,
   "id": "freelance-calculator",
   "metadata": {},
   "outputs": [
    {
     "data": {
      "image/png": "[encoded data removed]",
      "text/plain": [
       "<Figure size 360x216 with 1 Axes>"
      ]
     },
     "metadata": {
      "needs_background": "light"
     },
     "output_type": "display_data"
    }
   ],
   "source": [
    "%matplotlib inline\n",
    "plt.rcParams[\"figure.figsize\"] = (5,3)\n",
    "# plt.plot(u,V,'k-',linewidth=2)\n",
    "# plt.plot(Uy[0]*0,Fy[0]*0*1000,color='k', alpha = 1, marker='o', linestyle='--',linewidth=1, markersize=6)\n",
    "plt.plot(Sy151530,1000*Ry151530/(15*15*30*6),color='red', alpha = 1, marker='o', linestyle='--',linewidth=1, markersize=6)\n",
    "plt.plot(Sy101030,1000*Ry101030/(10*10*30*6),color='blue', alpha = 1, marker='o', linestyle='--',linewidth=1, markersize=6)\n",
    "# plt.plot(Sy5530,1000*Ry5530/(5*5*30*6),color='k', alpha = 1, marker='o', linestyle='--',linewidth=1, markersize=6)\n",
    "plt.plot(Sy202030,1000*Ry202030/(20*20*30*6),color='darkorange', alpha = 1, marker='o', linestyle='--',linewidth=1, markersize=6)\n",
    "plt.plot(Sy232330,1000*Ry232330/(23*23*30*6),color='gray', alpha = 1, marker='o', linestyle='--',linewidth=1, markersize=6)\n",
    "\n",
    "# plt.plot(np.array(0,,Fy[0]*0*1000,color='k', alpha = 1, marker='o', linestyle='--',linewidth=1, markersize=6)\n",
    "plt.grid(color='k', linestyle='--', linewidth=0.2)\n",
    "plt.title('Force-displacement curve of MDOF system')\n",
    "plt.ylabel('$Base$ $shear, V$');plt.xlabel('$Top$ $displacement, D_t$ $(m)$'); plt.show()"
   ]
  },
  {
   "cell_type": "code",
   "execution_count": 379,
   "id": "technological-heaven",
   "metadata": {},
   "outputs": [
    {
     "data": {
      "text/plain": [
       "(0.01852281736099704,\n",
       " 0.018549499764877797,\n",
       " 0.018572563892289954,\n",
       " 0.018850910165696125)"
      ]
     },
     "execution_count": 379,
     "metadata": {},
     "output_type": "execute_result"
    }
   ],
   "source": [
    "Ry202030[-1]/(20*20*30*6),Ry151530[-1]/(15*15*30*6),Ry101030[-1]/(10*10*30*6),Ry5530[-1]/(5*5*30*6)"
   ]
  },
  {
   "cell_type": "code",
   "execution_count": 380,
   "id": "superior-transcript",
   "metadata": {},
   "outputs": [
    {
     "data": {
      "image/png": "[encoded data removed]",
      "text/plain": [
       "<Figure size 360x216 with 1 Axes>"
      ]
     },
     "metadata": {
      "needs_background": "light"
     },
     "output_type": "display_data"
    }
   ],
   "source": [
    "%matplotlib inline\n",
    "plt.rcParams[\"figure.figsize\"] = (5,3)\n",
    "# plt.plot(u,V,'k-',linewidth=2)\n",
    "# plt.plot(Uy[0]*0,Fy[0]*0*1000,color='k', alpha = 1, marker='o', linestyle='--',linewidth=1, markersize=6)\n",
    "plt.plot(Sy151530[1:],D0232330,color='darkorange', alpha = 1, marker='o', linestyle='--',linewidth=1, markersize=6)\n",
    "plt.plot(Sy151530[1:],D0202030,color='darkorange', alpha = 1, marker='o', linestyle='--',linewidth=1, markersize=6)\n",
    "plt.plot(Sy151530[1:],D0181830,color='blue', alpha = 1, marker='o', linestyle='--',linewidth=1, markersize=6)\n",
    "plt.plot(Sy151530[1:],D0151530,color='blue', alpha = 1, marker='o', linestyle='--',linewidth=1, markersize=6)\n",
    "plt.plot(Sy151530[1:],D0131330,color='blue', alpha = 1, marker='o', linestyle='--',linewidth=1, markersize=6)\n",
    "plt.plot(Sy101030[1:],D0101030,color='black', alpha = 1, marker='o', linestyle='--',linewidth=1, markersize=6)\n",
    "# plt.plot(Sy5530[1:],D05530,color='red', alpha = 1, marker='o', linestyle='--',linewidth=1, markersize=6)\n",
    "\n",
    "# plt.plot(np.array(0,,Fy[0]*0*1000,color='k', alpha = 1, marker='o', linestyle='--',linewidth=1, markersize=6)\n",
    "plt.grid(color='k', linestyle='--', linewidth=0.2)\n",
    "plt.title('Force-displacement curve of MDOF system')\n",
    "plt.ylabel('$Base$ $shear, V$');plt.xlabel('$Top$ $displacement, D_t$ $(m)$'); plt.show()"
   ]
  },
  {
   "cell_type": "code",
   "execution_count": 381,
   "id": "arbitrary-dispute",
   "metadata": {},
   "outputs": [],
   "source": [
    "mean = np.zeros(8)\n",
    "mean[0] = Ry5530[-1]/(5*5*30*6)\n",
    "# mean[1] = Ry8830[-1]/(8*8*30*6)\n",
    "mean[2] = Ry101030[-1]/(10*10*30*6)\n",
    "# mean[3] = Ry131330[-1]/(13*13*30*6)\n",
    "mean[4] = Ry151530[-1]/(15*15*30*6)\n",
    "# mean[5] = Ry181830[-1]/(18*18*30*6)\n",
    "mean[6] = Ry202030[-1]/(20*20*30*6)\n",
    "# mean[7] = Ry232330[-1]/(23*23*30*6)\n",
    "\n",
    "mean = 1000*mean"
   ]
  },
  {
   "cell_type": "code",
   "execution_count": 382,
   "id": "atlantic-listing",
   "metadata": {},
   "outputs": [
    {
     "data": {
      "text/plain": [
       "array([18.85091017,  0.        , 18.57256389,  0.        , 18.54949976,\n",
       "        0.        , 18.52281736,  0.        ])"
      ]
     },
     "execution_count": 382,
     "metadata": {},
     "output_type": "execute_result"
    }
   ],
   "source": [
    "mean"
   ]
  },
  {
   "cell_type": "code",
   "execution_count": 403,
   "id": "prospective-living",
   "metadata": {},
   "outputs": [],
   "source": [
    "err = np.zeros((3,4))\n",
    "n=8\n",
    "err[0,0]=100*np.abs(D05530[-n]-D0202030[-n])/D0202030[-n]\n",
    "# err[0,1]=100*np.abs(D08830[-n]-D0232330[-n])/D0232330[-n]\n",
    "err[0,1]=100*np.abs(D0101030[-n]-D0202030[-n])/D0202030[-n]\n",
    "# err[0,3]=100*np.abs(D0131330[-n]-D0232330[-n])/D0232330[-n]\n",
    "err[0,2]=100*np.abs(D0151530[-n]-D0202030[-n])/D0202030[-n]\n",
    "# err[0,5]=100*np.abs(D0181830[-n]-D0232330[-n])/D0232330[-n]\n",
    "err[0,3]=100*np.abs(D0202030[-n]-D0202030[-n])/D0202030[-n]\n",
    "# err[0,7]=100*np.abs(D0232330[-n]-D0232330[-n])/D0232330[-n]\n",
    "\n",
    "err[1,0]=100*np.abs(E05530[-n]-E0202030[-n])/E0202030[-n]\n",
    "# err[1,1]=100*np.abs(E08830[-n]-E0232330[-n])/E0232330[-n]\n",
    "err[1,1]=100*np.abs(E0101030[-n]-E0202030[-n])/E0202030[-n]\n",
    "# err[1,3]=100*np.abs(E0131330[-n]-E0232330[-n])/E0232330[-n]\n",
    "err[1,2]=100*np.abs(E0151530[-n]-E0202030[-n])/E0202030[-n]\n",
    "# err[1,5]=100*np.abs(E0181830[-n]-E0232330[-n])/E0232330[-n]\n",
    "err[1,3]=100*np.abs(E0202030[-n]-E0202030[-n])/E0202030[-n]\n",
    "# err[1,7]=100*np.abs(E0232330[-n]-E0232330[-n])/E0232330[-n]\n",
    "n=1\n",
    "\n",
    "err[2,0]=100*np.abs(mean[0]-mean[6])/mean[6]\n",
    "err[2,1]=100*np.abs(mean[2]-mean[6])/mean[6]\n",
    "err[2,2]=100*np.abs(mean[4]-mean[6])/mean[6]\n",
    "err[2,3]=100*np.abs(mean[6]-mean[6])/mean[6]\n",
    "# err[2,0]=100*np.abs((5**2/(23**2))*Ry5530[-n])/Ry232330[-n]-1\n",
    "# err[2,1]=100*np.abs((8**2/(23**2))*Ry8830[-n])/Ry232330[-n]-1\n",
    "# err[2,2]=100*np.abs((10**2/(23**2))*Ry101030[-n])/Ry232330[-n]-1\n",
    "# err[2,3]=100*np.abs((13**2/(23**2))*Ry131330[-n])/Ry232330[-n]-1\n",
    "# err[2,4]=100*np.abs((15**2/(23**2))*Ry151530[-n])/Ry232330[-n]-1\n",
    "# err[2,5]=100*np.abs((18**2/(23**2))*Ry181830[-n])/Ry232330[-n]-1\n",
    "# err[2,6]=100*np.abs((20**2/(23**2))*Ry202030[-n])/Ry232330[-n]-1\n",
    "# err[2,7]=100*np.abs(Ry232330[-n])/Ry232330[-n]-1\n",
    "\n",
    "size = np.array([5/5,5/10,5/15,5/20])\n",
    "FE = np.array([5**2,10**2,15**2,20**2])*30*6"
   ]
  },
  {
   "cell_type": "code",
   "execution_count": 404,
   "id": "involved-jewelry",
   "metadata": {},
   "outputs": [],
   "source": [
    "# err = np.zeros((3,8))\n",
    "# n=10\n",
    "# err[0,0]=100*np.abs(D05530[-n]-D0232330[-n])/D0232330[-n]\n",
    "# err[0,1]=100*np.abs(D08830[-n]-D0232330[-n])/D0232330[-n]\n",
    "# err[0,2]=100*np.abs(D0101030[-n]-D0232330[-n])/D0232330[-n]\n",
    "# err[0,3]=100*np.abs(D0131330[-n]-D0232330[-n])/D0232330[-n]\n",
    "# err[0,4]=100*np.abs(D0151530[-n]-D0232330[-n])/D0232330[-n]\n",
    "# err[0,5]=100*np.abs(D0181830[-n]-D0232330[-n])/D0232330[-n]\n",
    "# err[0,6]=100*np.abs(D0202030[-n]-D0232330[-n])/D0232330[-n]\n",
    "# err[0,7]=100*np.abs(D0232330[-n]-D0232330[-n])/D0232330[-n]\n",
    "\n",
    "# err[1,0]=100*np.abs(E05530[-n]-E0232330[-n])/E0232330[-n]\n",
    "# err[1,1]=100*np.abs(E08830[-n]-E0232330[-n])/E0232330[-n]\n",
    "# err[1,2]=100*np.abs(E0101030[-n]-E0232330[-n])/E0232330[-n]\n",
    "# err[1,3]=100*np.abs(E0131330[-n]-E0232330[-n])/E0232330[-n]\n",
    "# err[1,4]=100*np.abs(E0151530[-n]-E0232330[-n])/E0232330[-n]\n",
    "# err[1,5]=100*np.abs(E0181830[-n]-E0232330[-n])/E0232330[-n]\n",
    "# err[1,6]=100*np.abs(E0202030[-n]-E0232330[-n])/E0232330[-n]\n",
    "# err[1,7]=100*np.abs(E0232330[-n]-E0232330[-n])/E0232330[-n]\n",
    "# n=1\n",
    "# err[2,0]=100*np.abs((5**2/(23**2))*Ry5530[-n])/Ry232330[-n]-1\n",
    "# err[2,1]=100*np.abs((8**2/(23**2))*Ry8830[-n])/Ry232330[-n]-1\n",
    "# err[2,2]=100*np.abs((10**2/(23**2))*Ry101030[-n])/Ry232330[-n]-1\n",
    "# err[2,3]=100*np.abs((13**2/(23**2))*Ry131330[-n])/Ry232330[-n]-1\n",
    "# err[2,4]=100*np.abs((15**2/(23**2))*Ry151530[-n])/Ry232330[-n]-1\n",
    "# err[2,5]=100*np.abs((18**2/(23**2))*Ry181830[-n])/Ry232330[-n]-1\n",
    "# err[2,6]=100*np.abs((20**2/(23**2))*Ry202030[-n])/Ry232330[-n]-1\n",
    "# err[2,7]=100*np.abs(Ry232330[-n])/Ry232330[-n]-1\n",
    "\n",
    "# size = np.array([5/5,5/8,5/10,5/13,5/15,5/18,5/20,5/23])\n",
    "# FE = np.array([5**2,8**2,10**2,13**2,15**2,18**2,20**2,23**2])*30*6"
   ]
  },
  {
   "cell_type": "code",
   "execution_count": 405,
   "id": "loved-resort",
   "metadata": {},
   "outputs": [
    {
     "data": {
      "image/png": "[encoded data removed]",
      "text/plain": [
       "<Figure size 360x216 with 1 Axes>"
      ]
     },
     "metadata": {
      "needs_background": "light"
     },
     "output_type": "display_data"
    }
   ],
   "source": [
    "%matplotlib inline\n",
    "plt.rcParams[\"figure.figsize\"] = (5,3)\n",
    "# plt.plot(u,V,'k-',linewidth=2)\n",
    "# plt.plot(Uy[0]*0,Fy[0]*0*1000,color='k', alpha = 1, marker='o', linestyle='--',linewidth=1, markersize=6)\n",
    "plt.semilogx(FE,err[0],color='darkorange', alpha = 1, marker='o', linestyle='--',linewidth=1, markersize=6)\n",
    "plt.semilogx(FE,err[1],color='black', alpha = 1, marker='o', linestyle='--',linewidth=1, markersize=6)\n",
    "plt.semilogx(FE,err[2],color='blue', alpha = 1, marker='o', linestyle='--',linewidth=1, markersize=6)\n",
    "\n",
    "# plt.plot(np.array(0,,Fy[0]*0*1000,color='k', alpha = 1, marker='o', linestyle='--',linewidth=1, markersize=6)\n",
    "plt.grid(color='k', linestyle='--', linewidth=0.2)\n",
    "plt.title('Force-displacement curve of MDOF system')\n",
    "plt.ylabel('$Base$ $shear, V$');plt.xlabel('$Top$ $displacement, D_t$ $(m)$'); plt.show()"
   ]
  },
  {
   "cell_type": "code",
   "execution_count": 406,
   "id": "balanced-afternoon",
   "metadata": {},
   "outputs": [
    {
     "data": {
      "text/plain": [
       "array([[26.89341981,  7.70505949,  2.36507046,  0.        ],\n",
       "       [ 0.33858211,  0.25725397,  0.08006807,  0.        ],\n",
       "       [ 1.77128996,  0.26856892,  0.14405154,  0.        ]])"
      ]
     },
     "execution_count": 406,
     "metadata": {},
     "output_type": "execute_result"
    }
   ],
   "source": [
    "err"
   ]
  },
  {
   "cell_type": "code",
   "execution_count": null,
   "id": "intermediate-desktop",
   "metadata": {},
   "outputs": [],
   "source": []
  },
  {
   "cell_type": "code",
   "execution_count": null,
   "id": "liable-burton",
   "metadata": {},
   "outputs": [],
   "source": []
  },
  {
   "cell_type": "code",
   "execution_count": null,
   "id": "ranging-admission",
   "metadata": {},
   "outputs": [],
   "source": []
  },
  {
   "cell_type": "code",
   "execution_count": 19,
   "id": "blind-throw",
   "metadata": {},
   "outputs": [],
   "source": [
    "e = np.array([1/1,1/2,1/4,1/8,1/12,1/16,1/20])\n",
    "e_M = np.array([1/1,1/2,1/4,1/8,1/12,1/16,1/20])\n",
    "E_M = np.ones((e_M.shape[0]))*E0\n",
    "IC_FM= np.ones((IC_Fm.shape[0],IC_Fm.shape[1]))*IC_F\n",
    "U_M = np.zeros((e_M.shape[0],2))\n",
    "U_0 = np.ones((e_M.shape[0]))*U0x\n",
    "U_M[:,0] = U0x*np.ones((U_M.shape[0]))+e_M*U1y\n",
    "U_M[:,1] = U0y*np.ones((U_M.shape[0]))+e_M*U1y"
   ]
  },
  {
   "cell_type": "code",
   "execution_count": 20,
   "id": "following-medium",
   "metadata": {},
   "outputs": [],
   "source": [
    "U_m[-1] = U_m[-2]+0.0002622199999999797\n",
    "E_m[-1] = E_m[-2]+0.02959818999999797"
   ]
  },
  {
   "cell_type": "code",
   "execution_count": 21,
   "id": "pharmaceutical-collective",
   "metadata": {},
   "outputs": [
    {
     "data": {
      "text/plain": [
       "0.06271954500000021"
      ]
     },
     "execution_count": 21,
     "metadata": {},
     "output_type": "execute_result"
    }
   ],
   "source": [
    "(47.11722328-46.99178419)/2"
   ]
  },
  {
   "cell_type": "code",
   "execution_count": 22,
   "id": "forward-decrease",
   "metadata": {},
   "outputs": [
    {
     "data": {
      "text/plain": [
       "0.02959818999999797"
      ]
     },
     "execution_count": 22,
     "metadata": {},
     "output_type": "execute_result"
    }
   ],
   "source": [
    "(46.99178419-46.93258781)/2"
   ]
  },
  {
   "cell_type": "code",
   "execution_count": 23,
   "id": "amazing-composition",
   "metadata": {},
   "outputs": [],
   "source": [
    "import matplotlib.pyplot as plt\n",
    "from matplotlib.ticker import (MultipleLocator, FormatStrFormatter, AutoMinorLocator)\n",
    "import matplotlib as mpl\n",
    "mpl.rcParams['axes.unicode_minus']=False\n",
    "plt.rcParams[\"figure.figsize\"] = (4,3)\n",
    "import matplotlib.pyplot as plt\n",
    "# # plt.rcParams[\"font.family\"] = \"Times New Roman\"\n",
    "font = {'size'   : 13}\n",
    "from matplotlib import rc\n",
    "plt.rc('font', **font)\n",
    "ftsz_leg = 9\n",
    "ftsz = 12\n",
    "mkSZ = 4\n",
    "mkSZs = 0\n",
    "lnWDT = 0.25\n",
    "lnWDTs = 6\n",
    "from matplotlib import rc\n",
    "rc('font',**{'family':'sans-serif','sans-serif':['Times New Roman']})\n",
    "## for Palatino and other serif fonts use:\n",
    "#rc('font',**{'family':'serif','serif':['Palatino']})\n",
    "rc('text', usetex=True)\n",
    "\n",
    "import numpy as np\n",
    "import matplotlib.pyplot as plt"
   ]
  },
  {
   "cell_type": "code",
   "execution_count": 24,
   "id": "architectural-weather",
   "metadata": {},
   "outputs": [
    {
     "data": {
      "text/plain": [
       "52.34833102704239"
      ]
     },
     "execution_count": 24,
     "metadata": {},
     "output_type": "execute_result"
    }
   ],
   "source": [
    "E_m[0]+1"
   ]
  },
  {
   "cell_type": "code",
   "execution_count": null,
   "id": "spanish-contrary",
   "metadata": {},
   "outputs": [],
   "source": []
  },
  {
   "cell_type": "code",
   "execution_count": 25,
   "id": "adverse-sympathy",
   "metadata": {},
   "outputs": [
    {
     "data": {
      "image/png": "[encoded data removed]",
      "text/plain": [
       "<Figure size 288x151.2 with 1 Axes>"
      ]
     },
     "metadata": {
      "needs_background": "light"
     },
     "output_type": "display_data"
    },
    {
     "data": {
      "image/png": "[encoded data removed]",
      "text/plain": [
       "<Figure size 288x151.2 with 1 Axes>"
      ]
     },
     "metadata": {
      "needs_background": "light"
     },
     "output_type": "display_data"
    }
   ],
   "source": [
    "cE = 8.96; cD = 9.0; A = np.pi*(1e-2)**2; cP=1000\n",
    "plt.rc('text', usetex=True)\n",
    "plt.rc('font', family='serif')\n",
    "fig = plt.figure(figsize=(4,2.1))\n",
    "# (ax11), (ax12) = fig.subplots(1,2)\n",
    "(ax11) = fig.subplots(1,1)\n",
    "plt.tight_layout(pad=2.5, w_pad=3.5, h_pad=3.5)\n",
    "ax11.margins(x=0.1, y = 0.2)\n",
    "ax11.xaxis.set_minor_locator(AutoMinorLocator())\n",
    "ax11.yaxis.set_minor_locator(AutoMinorLocator())\n",
    "ax11.plot(1/e,E_m*cE*A, color='darkorange', marker=\"s\",markersize=mkSZ,linewidth=lnWDT,label=\"$\\mathit{\\Psi}^{\\epsilon}_{tot}$\")\n",
    "\n",
    "ax11.plot(1/e_M,E_M*cE*A, color='black', linestyle='--', marker=\"^\",markersize=0*mkSZ,linewidth=lnWDT,label=\"$\\mathit{\\Psi}^{(1)}_{tot}$\")\n",
    "\n",
    "ax11.set_xlabel('$1/\\epsilon$')\n",
    "ax11.set_ylabel('$\\mathit{\\Psi}$ (kNm)')\n",
    "# ax11.ticklabel_format(axis=\"x\", style=\"sci\", scilimits=(3,3))\n",
    "# ax11.ticklabel_format(axis=\"y\", style=\"sci\", scilimits=(0,0))\n",
    "ax11.legend(loc='best',fontsize=ftsz_leg)\n",
    "ax11.grid(True, which='major', linewidth=0.3, color='lightgray')\n",
    "ax11.grid(True, which='minor', linewidth=0.3, alpha=0.2, color='lightgray')\n",
    "# ax11.set_ylim([0.605,0.617])\n",
    "fig.savefig(f\"UNI_PL_ene.pdf\", format=\"pdf\", transparent=True)\n",
    "\n",
    "plt.rc('text', usetex=True)\n",
    "plt.rc('font', family='serif')\n",
    "fig = plt.figure(figsize=(4,2.1))\n",
    "# (ax11), (ax12) = fig.subplots(1,2)\n",
    "(ax11) = fig.subplots(1,1)\n",
    "plt.tight_layout(pad=2.5, w_pad=3.5, h_pad=3.5)\n",
    "ax11.margins(x=0.1, y = 0.2)\n",
    "ax11.xaxis.set_minor_locator(AutoMinorLocator())\n",
    "ax11.yaxis.set_minor_locator(AutoMinorLocator())\n",
    "ax11.plot(1/e_M,U_0, color='black', alpha=0.15, marker=\"s\",linestyle='-',markersize=mkSZ*0,linewidth=8*lnWDT,label=\"$u^{(0)}$\")\n",
    "ax11.plot(1/e,U_m[:,0], color='mediumblue', marker=\"s\",markersize=mkSZ,linewidth=lnWDT,label=\"$u^{\\epsilon}$\")\n",
    "ax11.plot(1/e_M,U_M[:,0], color='black', alpha=1, linestyle='--',marker=\"^\",markersize=mkSZ,linewidth=lnWDT,label=\"$u^{(0)}+\\epsilon u^{(1)}$\")\n",
    "# # ax12.plot(1/e,Ue, color='red', alpha=1,marker=\"o\",markersize=mkSZ,linewidth=lnWDT,label=\"$u^{\\epsilon}$\")\n",
    "ax11.set_xlabel('$1/\\epsilon$')\n",
    "ax11.set_ylabel('$u$ (cm)')\n",
    "# ax12.ticklabel_format(axis=\"x\", style=\"sci\", scilimits=(3,3))\n",
    "# ax12.ticklabel_format(axis=\"y\", style=\"sci\", scilimits=(0,0))\n",
    "ax11.legend(loc='best',fontsize=ftsz_leg)\n",
    "ax11.grid(True, which='major', linewidth=0.3, color='lightgray')\n",
    "ax11.grid(True, which='minor', linewidth=0.3, alpha=0.2, color='lightgray')\n",
    "# ax11.set_ylim([0.3,0.43])\n",
    "\n",
    "fig.savefig(f\"UNI_PL_dis.pdf\", format=\"pdf\", transparent=True)\n"
   ]
  },
  {
   "cell_type": "code",
   "execution_count": 35,
   "id": "blessed-flight",
   "metadata": {},
   "outputs": [
    {
     "data": {
      "image/png": "[encoded data removed]",
      "text/plain": [
       "<Figure size 1152x151.2 with 4 Axes>"
      ]
     },
     "metadata": {
      "needs_background": "light"
     },
     "output_type": "display_data"
    }
   ],
   "source": [
    "plt.rc('text', usetex=True)\n",
    "plt.rc('font', family='serif')\n",
    "fig = plt.figure(figsize=(4*4,2.1))\n",
    "(ax11), (ax12) , (ax13), (ax14) = fig.subplots(1,4)\n",
    "# (ax11) = fig.subplots(1,1)\n",
    "plt.tight_layout(pad=2.5, w_pad=3.5, h_pad=3.5)\n",
    "ax11.margins(x=0.1, y = 0.2)\n",
    "ax11.xaxis.set_minor_locator(AutoMinorLocator())\n",
    "ax11.yaxis.set_minor_locator(AutoMinorLocator())\n",
    "\n",
    "ax11.plot(1/e,IC_Fm[:,-1]*cP, color='black', marker=\"s\",markersize=mkSZ,linewidth=lnWDT,label=\"$\\sigma^{\\epsilon}$\")\n",
    "ax11.plot(1/e_M,IC_FM[:,-1]*cP, color='black', alpha=0.15, marker=\"s\",linestyle='-',markersize=mkSZ*0,linewidth=8*lnWDT,label=\"$\\sigma^{(1)}$\")\n",
    "\n",
    "ax11.set_xlabel('$1/\\epsilon$')\n",
    "ax11.set_ylabel('$\\sigma$ (MPa)')\n",
    "ax11.legend(loc='best',fontsize=ftsz_leg)\n",
    "ax11.grid(True, which='major', linewidth=0.3, color='lightgray')\n",
    "ax11.grid(True, which='minor', linewidth=0.3, alpha=0.2, color='lightgray')\n",
    "\n",
    "ax12.margins(x=0.1, y = 0.2)\n",
    "ax12.xaxis.set_minor_locator(AutoMinorLocator())\n",
    "ax12.yaxis.set_minor_locator(AutoMinorLocator())\n",
    "\n",
    "# ax12.plot(1/e,IC_Fm[:,1], color='red', marker=\"o\",markersize=mkSZ,linewidth=lnWDT,label=\"$\\mathit{\\Psi}^{\\epsilon}$\")\n",
    "# ax12.plot(1/e_M,IC_FM[:,1], color='mediumblue', marker=\"o\",markersize=mkSZ,linewidth=lnWDT,label=\"$\\mathit{\\Psi}^{(1)}$\")\n",
    "ax12.plot(1/e,IC_Fm[:,2]*cP, color='black', marker=\"s\",markersize=mkSZ,linewidth=lnWDT,label=\"$\\sigma^{\\epsilon}$\")\n",
    "ax12.plot(1/e_M,IC_FM[:,2]*cP, color='black', alpha=0.15, marker=\"s\",linestyle='-',markersize=mkSZ*0,linewidth=8*lnWDT,label=\"$\\sigma^{(1)}$\")\n",
    "\n",
    "ax12.set_xlabel('$1/\\epsilon$')\n",
    "ax12.set_ylabel('$\\sigma$ (MPa)')\n",
    "ax12.legend(loc='best',fontsize=ftsz_leg)\n",
    "ax12.grid(True, which='major', linewidth=0.3, color='lightgray')\n",
    "ax12.grid(True, which='minor', linewidth=0.3, alpha=0.2, color='lightgray')\n",
    "\n",
    "ax13.margins(x=0.1, y = 0.2)\n",
    "ax13.xaxis.set_minor_locator(AutoMinorLocator())\n",
    "ax13.yaxis.set_minor_locator(AutoMinorLocator())\n",
    "\n",
    "ax13.plot(1/e,IC_Fm[:,-4]*cP, color='black', marker=\"s\",markersize=mkSZ,linewidth=lnWDT,label=\"$\\sigma^{\\epsilon}$\")\n",
    "ax13.plot(1/e_M,IC_FM[:,-4]*cP, color='black', alpha=0.15, marker=\"s\",linestyle='-',markersize=mkSZ*0,linewidth=8*lnWDT,label=\"$\\sigma^{(1)}$\")\n",
    "\n",
    "ax13.set_xlabel('$1/\\epsilon$')\n",
    "ax13.set_ylabel('$\\sigma$ (MPa)')\n",
    "ax13.legend(loc='best',fontsize=ftsz_leg)\n",
    "ax13.grid(True, which='major', linewidth=0.3, color='lightgray')\n",
    "ax13.grid(True, which='minor', linewidth=0.3, alpha=0.2, color='lightgray')\n",
    "\n",
    "ax14.margins(x=0.1, y = 0.6)\n",
    "ax14.xaxis.set_minor_locator(AutoMinorLocator())\n",
    "ax14.yaxis.set_minor_locator(AutoMinorLocator())\n",
    "ax14.plot(1/e,IC_Fm[:,0]*cP, color='black', marker=\"s\",markersize=mkSZ,linewidth=lnWDT,label=\"$\\sigma^{\\epsilon}$\")\n",
    "ax14.plot(1/e_M,IC_FM[:,0]*cP, color='black', alpha=0.15, marker=\"s\",linestyle='-',markersize=mkSZ*0,linewidth=8*lnWDT,label=\"$\\sigma^{(1)}$\")\n",
    "\n",
    "ax14.set_xlabel('$1/\\epsilon$')\n",
    "ax14.set_ylabel('$\\sigma$ (MPa)')\n",
    "ax14.legend(loc='best',fontsize=ftsz_leg)\n",
    "ax14.grid(True, which='major', linewidth=0.3, color='lightgray')\n",
    "ax14.grid(True, which='minor', linewidth=0.3, alpha=0.2, color='lightgray')\n",
    "ax14.set_ylim([-210,-190])\n",
    "\n",
    "fig.savefig(f\"COMP_EL_stress.pdf\", format=\"pdf\", transparent=True)"
   ]
  },
  {
   "cell_type": "code",
   "execution_count": 27,
   "id": "solid-czech",
   "metadata": {},
   "outputs": [
    {
     "data": {
      "text/plain": [
       "0.39464980380806225"
      ]
     },
     "execution_count": 27,
     "metadata": {},
     "output_type": "execute_result"
    }
   ],
   "source": [
    "np.mean(100*(IC_F/IC_Fm[-1]-1))"
   ]
  },
  {
   "cell_type": "code",
   "execution_count": 28,
   "id": "married-simon",
   "metadata": {},
   "outputs": [
    {
     "data": {
      "text/plain": [
       "array([[33.39275033, 33.4905638 ],\n",
       "       [10.58530544, 10.66369973],\n",
       "       [ 5.11915263,  5.19245383],\n",
       "       [ 2.72016184,  2.79120951],\n",
       "       [ 2.07132299,  2.14173163],\n",
       "       [ 1.77663984,  1.84675072],\n",
       "       [ 1.77323519,  1.84328716]])"
      ]
     },
     "execution_count": 28,
     "metadata": {},
     "output_type": "execute_result"
    }
   ],
   "source": [
    "100*(U_m/U_M-1)"
   ]
  },
  {
   "cell_type": "code",
   "execution_count": 31,
   "id": "different-hudson",
   "metadata": {},
   "outputs": [
    {
     "data": {
      "text/plain": [
       "array([9.41765157e+00, 3.64442456e+00, 1.34196347e+00, 4.01625851e-01,\n",
       "       1.34328922e-01, 8.18794370e-03, 7.12584345e-02])"
      ]
     },
     "execution_count": 31,
     "metadata": {},
     "output_type": "execute_result"
    }
   ],
   "source": [
    "100*(E_m*cE*A/(E_M*cE*A)-1)"
   ]
  },
  {
   "cell_type": "code",
   "execution_count": 32,
   "id": "reflected-scheduling",
   "metadata": {},
   "outputs": [],
   "source": [
    "# file = './Macro-3D_L5x5x10_UNIFORM_V10x10x20'\n",
    "# with open(file, 'rb') as f_obj:\n",
    "#     data = pickle.load(f_obj)\n",
    "# usol,stress,svars,ISV,IC = data\n",
    "# energy= svars[:,-3]\n",
    "# dissipation= svars[:,6+6+22+1:6+6+22+2]\n",
    "# usol=np.reshape(usol,(-1,3))\n",
    "# U0x=np.amax(usol[:,0])\n",
    "# U0y=np.amax(usol[:,1])\n",
    "# E0=np.sum(energy)\n",
    "# D15x15x30=np.sum(dissipation)\n",
    "# N=5*5*10\n",
    "# V=10*10*20\n",
    "# # print(np.mean(IC[-6:],axis=0)[-8:]) #(take -2): -0.93940901\n",
    "# IC_u = IC[:,-24:]\n",
    "# IC_f = IC[:,:-24]\n",
    "# IC_u = IC_u.reshape(IC_u.shape[0],IC_u.shape[1]//3,3)\n",
    "# # IC[-6:,-4:] #(take -2): -0.90854154\n",
    "# U1x=np.mean(IC_u[-6:,0])\n",
    "# U1y=np.mean(IC_u[-6:,2])\n",
    "# E0=E0*V/(N*6)\n",
    "# U0x,U0y,E0,U1x,U1y"
   ]
  },
  {
   "cell_type": "code",
   "execution_count": null,
   "id": "searching-going",
   "metadata": {},
   "outputs": [],
   "source": []
  },
  {
   "cell_type": "code",
   "execution_count": null,
   "id": "raised-czech",
   "metadata": {},
   "outputs": [],
   "source": []
  }
 ],
 "metadata": {
  "kernelspec": {
   "display_name": "Python 3",
   "language": "python",
   "name": "python3"
  },
  "language_info": {
   "codemirror_mode": {
    "name": "ipython",
    "version": 3
   },
   "file_extension": ".py",
   "mimetype": "text/x-python",
   "name": "python",
   "nbconvert_exporter": "python",
   "pygments_lexer": "ipython3",
   "version": "3.8.10"
  }
 },
 "nbformat": 4,
 "nbformat_minor": 5
}

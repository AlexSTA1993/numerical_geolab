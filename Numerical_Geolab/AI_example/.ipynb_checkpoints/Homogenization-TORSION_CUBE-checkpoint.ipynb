{
 "cells": [
  {
   "cell_type": "code",
   "execution_count": 79,
   "id": "indirect-party",
   "metadata": {},
   "outputs": [],
   "source": [
    "import matplotlib.pyplot as plt\n",
    "import numpy as np\n",
    "import pickle\n",
    "np.random.seed(1)"
   ]
  },
  {
   "cell_type": "code",
   "execution_count": 80,
   "id": "improved-indication",
   "metadata": {},
   "outputs": [],
   "source": [
    "U_m = np.zeros(7)\n",
    "E_m = np.zeros(7)\n",
    "D_m = np.zeros(7)"
   ]
  },
  {
   "cell_type": "code",
   "execution_count": 81,
   "id": "preliminary-account",
   "metadata": {},
   "outputs": [],
   "source": [
    "file = './Micro-3D_L2x2x2_TORSION'\n",
    "with open(file, 'rb') as f_obj:\n",
    "    data = pickle.load(f_obj)\n",
    "svarsGP,add_svarsGP,nparticles,nbars,nsvars,niter,nel = data\n",
    "E_m[0]=svarsGP[-3]\n",
    "D_m[0]=svarsGP[-2]\n",
    "U_m[0]=np.amax(add_svarsGP[:,2])\n",
    "# U_m[0,1]=np.amax(add_svarsGP[:,1])"
   ]
  },
  {
   "cell_type": "code",
   "execution_count": 82,
   "id": "dirty-interpretation",
   "metadata": {},
   "outputs": [],
   "source": [
    "file = './Micro-3D_L3x3x3_TORSION'\n",
    "with open(file, 'rb') as f_obj:\n",
    "    data = pickle.load(f_obj)\n",
    "svarsGP,add_svarsGP,nparticles,nbars,nsvars,niter,nel = data\n",
    "E_m[1]=svarsGP[-3]\n",
    "D_m[1]=svarsGP[-2]\n",
    "U_m[1]=np.amax(add_svarsGP[:,2])"
   ]
  },
  {
   "cell_type": "code",
   "execution_count": 83,
   "id": "defensive-function",
   "metadata": {},
   "outputs": [],
   "source": [
    "file = './Micro-3D_L5x5x5_TORSION'\n",
    "with open(file, 'rb') as f_obj:\n",
    "    data = pickle.load(f_obj)\n",
    "svarsGP,add_svarsGP,nparticles,nbars,nsvars,niter,nel = data\n",
    "E_m[2]=svarsGP[-3]\n",
    "D_m[2]=svarsGP[-2]\n",
    "U_m[2]=np.amax(add_svarsGP[:,2])"
   ]
  },
  {
   "cell_type": "code",
   "execution_count": 84,
   "id": "nervous-sponsorship",
   "metadata": {},
   "outputs": [],
   "source": [
    "file = './Micro-3D_L9x9x9_TORSION'\n",
    "with open(file, 'rb') as f_obj:\n",
    "    data = pickle.load(f_obj)\n",
    "svarsGP,add_svarsGP,nparticles,nbars,nsvars,niter,nel = data\n",
    "E_m[3]=svarsGP[-3]\n",
    "D_m[3]=svarsGP[-2]\n",
    "U_m[3]=np.amax(add_svarsGP[:,2])"
   ]
  },
  {
   "cell_type": "code",
   "execution_count": 85,
   "id": "partial-brush",
   "metadata": {},
   "outputs": [],
   "source": [
    "file = './Micro-3D_L13x13x13_TORSION'\n",
    "with open(file, 'rb') as f_obj:\n",
    "    data = pickle.load(f_obj)\n",
    "svarsGP,add_svarsGP,nparticles,nbars,nsvars,niter,nel = data\n",
    "E_m[4]=svarsGP[-3]\n",
    "D_m[4]=svarsGP[-2]\n",
    "U_m[4]=np.amax(add_svarsGP[:,2])"
   ]
  },
  {
   "cell_type": "code",
   "execution_count": 86,
   "id": "friendly-walker",
   "metadata": {},
   "outputs": [],
   "source": [
    "file = './Micro-3D_L17x17x17_TORSION'\n",
    "with open(file, 'rb') as f_obj:\n",
    "    data = pickle.load(f_obj)\n",
    "svarsGP,add_svarsGP,nparticles,nbars,nsvars,niter,nel = data\n",
    "E_m[5]=svarsGP[-3]\n",
    "D_m[5]=svarsGP[-2]\n",
    "U_m[5]=np.amax(add_svarsGP[:,2])"
   ]
  },
  {
   "cell_type": "code",
   "execution_count": 95,
   "id": "jewish-martin",
   "metadata": {},
   "outputs": [],
   "source": [
    "file = './Micro-3D_L21x21x21_TORSION'\n",
    "with open(file, 'rb') as f_obj:\n",
    "    data = pickle.load(f_obj)\n",
    "svarsGP,add_svarsGP,nparticles,nbars,nsvars,niter,nel = data\n",
    "E_m[6]=svarsGP[-3]\n",
    "D_m[6]=svarsGP[-2]\n",
    "U_m[6]=np.amax(add_svarsGP[:,2])"
   ]
  },
  {
   "cell_type": "code",
   "execution_count": 96,
   "id": "blind-throw",
   "metadata": {},
   "outputs": [
    {
     "data": {
      "text/plain": [
       "(array([0.06979424, 0.04773894, 0.03732414, 0.03356624, 0.0326941 ,\n",
       "        0.0323524 , 0.03218203]),\n",
       " array([0.06214421, 0.06294773, 0.07352114, 0.08192345, 0.08529448,\n",
       "        0.08709469, 0.08821232]))"
      ]
     },
     "execution_count": 96,
     "metadata": {},
     "output_type": "execute_result"
    }
   ],
   "source": [
    "e = np.array([1/1,1/2,1/4,1/8,1/12,1/16,1/20])\n",
    "E_m,U_m"
   ]
  },
  {
   "cell_type": "code",
   "execution_count": 89,
   "id": "hybrid-three",
   "metadata": {},
   "outputs": [],
   "source": [
    "# file = './Macro-3D_L10x10x10_TORSION_H2_CUBE'\n",
    "# with open(file, 'rb') as f_obj:\n",
    "#     data = pickle.load(f_obj)\n",
    "# usol,stress,svars,ISV,IC = data\n",
    "# energy= svars[:,-3]\n",
    "# dissipation= svars[:,6+6+22+1:6+6+22+2]\n",
    "# usol=np.reshape(usol,(-1,3))\n",
    "# U0=np.amax(usol[:,2])\n",
    "# E0=np.sum(energy)\n",
    "# D15x15x30=np.sum(dissipation)\n",
    "# N=10*10*10\n",
    "# V=1\n",
    "# # print(np.mean(IC[-6:],axis=0)[-8:]) #(take -2): -0.93940901\n",
    "# IC_u = IC[:,-24:]\n",
    "# IC_f = IC[:,:-24]\n",
    "# IC_u = IC_u.reshape(IC_u.shape[0],IC_u.shape[1]//3,3)\n",
    "# # IC[-6:,-4:] #(take -2): -0.90854154\n",
    "# U1=np.mean(1+IC_u[IC_u.shape[0]-10*9*6,2])\n",
    "# # U_M=U0+U1\n",
    "# U0,E0"
   ]
  },
  {
   "cell_type": "code",
   "execution_count": 90,
   "id": "invisible-brook",
   "metadata": {},
   "outputs": [
    {
     "data": {
      "text/plain": [
       "(0.08452466487951181, 209.78730053850708)"
      ]
     },
     "execution_count": 90,
     "metadata": {},
     "output_type": "execute_result"
    }
   ],
   "source": [
    "file = './Macro-3D_L10x10x10_TORSION_v1'\n",
    "with open(file, 'rb') as f_obj:\n",
    "    data = pickle.load(f_obj)\n",
    "usol,stress,svars,ISV,IC = data\n",
    "energy= svars[:,-3]\n",
    "dissipation= svars[:,6+6+22+1:6+6+22+2]\n",
    "usol=np.reshape(usol,(-1,3))\n",
    "U0=np.amax(usol[:,2])\n",
    "E0=np.sum(energy)\n",
    "D15x15x30=np.sum(dissipation)\n",
    "N=10*10*10\n",
    "V=1*1*1\n",
    "# print(np.mean(IC[-6:],axis=0)[-8:]) #(take -2): -0.93940901\n",
    "IC_u = IC[:,-24:]\n",
    "IC_f = IC[:,:-24]\n",
    "IC_u = IC_u.reshape(IC_u.shape[0],IC_u.shape[1]//3,3)\n",
    "# IC[-6:,-4:] #(take -2): -0.90854154\n",
    "U1=np.mean(1+IC_u[IC_u.shape[0]-10*9*6,2])\n",
    "# U_M=U0+U1\n",
    "U0,E0"
   ]
  },
  {
   "cell_type": "code",
   "execution_count": 91,
   "id": "weird-citizenship",
   "metadata": {},
   "outputs": [
    {
     "data": {
      "text/plain": [
       "0.03496455008975118"
      ]
     },
     "execution_count": 91,
     "metadata": {},
     "output_type": "execute_result"
    }
   ],
   "source": [
    "E0=E0/(N*6)\n",
    "E0"
   ]
  },
  {
   "cell_type": "code",
   "execution_count": 92,
   "id": "conditional-thousand",
   "metadata": {},
   "outputs": [],
   "source": [
    "U_M = U0*np.ones((U_m.shape[0]))+e*U1\n",
    "U_0 = np.ones((U_m.shape[0]))*U0\n",
    "E_0 = np.ones((U_m.shape[0]))*E0/(N*6)"
   ]
  },
  {
   "cell_type": "code",
   "execution_count": 103,
   "id": "capable-photography",
   "metadata": {},
   "outputs": [
    {
     "data": {
      "text/plain": [
       "array([0.06979424, 0.04773894, 0.03732414, 0.03356624, 0.0326941 ,\n",
       "       0.0323524 , 0.03218203])"
      ]
     },
     "execution_count": 103,
     "metadata": {},
     "output_type": "execute_result"
    }
   ],
   "source": [
    "E_m#*10*10*20"
   ]
  },
  {
   "cell_type": "code",
   "execution_count": 104,
   "id": "automotive-kitchen",
   "metadata": {},
   "outputs": [
    {
     "data": {
      "text/plain": [
       "(0.08857430693584135, 1573.0068134042303)"
      ]
     },
     "execution_count": 104,
     "metadata": {},
     "output_type": "execute_result"
    }
   ],
   "source": [
    "file = './Macro-3D_L20x20x20_TORSION_v1'\n",
    "with open(file, 'rb') as f_obj:\n",
    "    data = pickle.load(f_obj)\n",
    "usol,stress,svars,ISV,IC = data\n",
    "energy= svars[:,-3]\n",
    "dissipation= svars[:,6+6+22+1:6+6+22+2]\n",
    "usol=np.reshape(usol,(-1,3))\n",
    "U0=np.amax(usol[:,2])\n",
    "E0=np.sum(energy)\n",
    "D15x15x30=np.sum(dissipation)\n",
    "N=20*20*20\n",
    "V=10*10*20\n",
    "# print(np.mean(IC[-6:],axis=0)[-8:]) #(take -2): -0.93940901\n",
    "IC_u = IC[:,-24:]\n",
    "IC_f = IC[:,:-24]\n",
    "IC_u = IC_u.reshape(IC_u.shape[0],IC_u.shape[1]//3,3)\n",
    "# IC[-6:,-4:] #(take -2): -0.90854154\n",
    "U1=np.mean(1+IC_u[IC_u.shape[0]-20*19*6,2])\n",
    "# U_M=U0+U1\n",
    "U0,E0"
   ]
  },
  {
   "cell_type": "code",
   "execution_count": 105,
   "id": "brazilian-benchmark",
   "metadata": {},
   "outputs": [
    {
     "data": {
      "text/plain": [
       "0.0327709752792548"
      ]
     },
     "execution_count": 105,
     "metadata": {},
     "output_type": "execute_result"
    }
   ],
   "source": [
    "# E0=E0/(N*6)\n",
    "E0/(N*6)"
   ]
  },
  {
   "cell_type": "code",
   "execution_count": 69,
   "id": "oriental-credit",
   "metadata": {},
   "outputs": [],
   "source": [
    "U_M = U0*np.ones((U_m.shape[0]))+e*U1\n",
    "U_0 = np.ones((U_m.shape[0]))*U0\n",
    "E_0 = np.ones((U_m.shape[0]))*E0/(N*6)"
   ]
  },
  {
   "cell_type": "code",
   "execution_count": 70,
   "id": "amazing-composition",
   "metadata": {},
   "outputs": [],
   "source": [
    "import matplotlib.pyplot as plt\n",
    "from matplotlib.ticker import (MultipleLocator, FormatStrFormatter, AutoMinorLocator)\n",
    "import matplotlib as mpl\n",
    "mpl.rcParams['axes.unicode_minus']=False\n",
    "plt.rcParams[\"figure.figsize\"] = (4,3)\n",
    "import matplotlib.pyplot as plt\n",
    "# # plt.rcParams[\"font.family\"] = \"Times New Roman\"\n",
    "font = {'size'   : 13}\n",
    "from matplotlib import rc\n",
    "plt.rc('font', **font)\n",
    "ftsz_leg = 9\n",
    "ftsz = 12\n",
    "mkSZ = 4\n",
    "mkSZs = 0\n",
    "lnWDT = 1.25\n",
    "lnWDTs = 6\n",
    "from matplotlib import rc\n",
    "rc('font',**{'family':'sans-serif','sans-serif':['Times New Roman']})\n",
    "## for Palatino and other serif fonts use:\n",
    "#rc('font',**{'family':'serif','serif':['Palatino']})\n",
    "rc('text', usetex=True)\n",
    "\n",
    "import numpy as np\n",
    "import matplotlib.pyplot as plt"
   ]
  },
  {
   "cell_type": "code",
   "execution_count": 71,
   "id": "spanish-contrary",
   "metadata": {},
   "outputs": [
    {
     "data": {
      "image/png": "[encoded data removed]",
      "text/plain": [
       "<Figure size 504x198 with 2 Axes>"
      ]
     },
     "metadata": {
      "needs_background": "light"
     },
     "output_type": "display_data"
    }
   ],
   "source": [
    "plt.rc('text', usetex=True)\n",
    "plt.rc('font', family='serif')\n",
    "fig = plt.figure(figsize=(3.5*2,2.75*1))\n",
    "(ax11), (ax12) = fig.subplots(1,2)\n",
    "# (ax11) = fig.subplots(1,1)\n",
    "plt.tight_layout(pad=2.5, w_pad=3.5, h_pad=3.5)\n",
    "ax11.margins(x=0.1, y = 0.1)\n",
    "ax11.xaxis.set_minor_locator(AutoMinorLocator())\n",
    "ax11.yaxis.set_minor_locator(AutoMinorLocator())\n",
    "\n",
    "ax11.plot(1/e,E_m, color='black', marker=\"o\",markersize=mkSZ,linewidth=lnWDT)\n",
    "ax11.set_xlabel('$1/\\epsilon$')\n",
    "ax11.set_ylabel('$\\mathit{\\Psi}$ (Nm)')\n",
    "# ax11.ticklabel_format(axis=\"x\", style=\"sci\", scilimits=(3,3))\n",
    "# ax11.ticklabel_format(axis=\"y\", style=\"sci\", scilimits=(0,0))\n",
    "# ax11.legend(loc='best',fontsize=ftsz_leg)\n",
    "ax11.grid(True, which='major', linewidth=0.3, color='lightgray')\n",
    "ax11.grid(True, which='minor', linewidth=0.3, alpha=0.2, color='lightgray')\n",
    "\n",
    "\n",
    "ax12.margins(x=0.1, y = 0.1)\n",
    "ax12.xaxis.set_minor_locator(AutoMinorLocator())\n",
    "ax12.yaxis.set_minor_locator(AutoMinorLocator())\n",
    "# ax12.plot(1/e,U_m[:,0], color='black', alpha=0.3, marker=\"o\",markersize=mkSZ,linewidth=lnWDT,label=\"$u^{\\epsilon}_x$\")\n",
    "ax12.plot(1/e,U_m, color='black', marker=\"o\",markersize=mkSZ,linewidth=lnWDT,label=\"$u^{\\epsilon}_z$\")\n",
    "# # ax12.plot(1/e,Ue, color='red', alpha=1,marker=\"o\",markersize=mkSZ,linewidth=lnWDT,label=\"$u^{\\epsilon}$\")\n",
    "\n",
    "ax12.set_xlabel('$1/\\epsilon$')\n",
    "ax12.set_ylabel('$u$ (m)')\n",
    "# ax12.ticklabel_format(axis=\"x\", style=\"sci\", scilimits=(3,3))\n",
    "# ax12.ticklabel_format(axis=\"y\", style=\"sci\", scilimits=(0,0))\n",
    "ax12.legend(loc='best',fontsize=ftsz_leg)\n",
    "ax12.grid(True, which='major', linewidth=0.3, color='lightgray')\n",
    "ax12.grid(True, which='minor', linewidth=0.3, alpha=0.2, color='lightgray')\n",
    "\n",
    "\n",
    "# fig.savefig(f\"convergence.pdf\", format=\"pdf\", transparent=True)"
   ]
  },
  {
   "cell_type": "code",
   "execution_count": 72,
   "id": "lucky-brother",
   "metadata": {},
   "outputs": [
    {
     "data": {
      "image/png": "[encoded data removed]",
      "text/plain": [
       "<Figure size 504x198 with 2 Axes>"
      ]
     },
     "metadata": {
      "needs_background": "light"
     },
     "output_type": "display_data"
    }
   ],
   "source": [
    "plt.rc('text', usetex=True)\n",
    "plt.rc('font', family='serif')\n",
    "fig = plt.figure(figsize=(3.5*2,2.75*1))\n",
    "(ax11), (ax12) = fig.subplots(1,2)\n",
    "# (ax11) = fig.subplots(1,1)\n",
    "plt.tight_layout(pad=2.5, w_pad=3.5, h_pad=3.5)\n",
    "ax11.margins(x=0.1, y = 0.1)\n",
    "ax11.xaxis.set_minor_locator(AutoMinorLocator())\n",
    "ax11.yaxis.set_minor_locator(AutoMinorLocator())\n",
    "\n",
    "ax11.plot(1/e,E_m, color='red', marker=\"o\",markersize=mkSZ,linewidth=lnWDT)\n",
    "ax11.plot(1/e,E_0, color='mediumblue', marker=\"s\",markersize=mkSZ,linewidth=lnWDT)\n",
    "\n",
    "ax11.set_xlabel('$1/\\epsilon$')\n",
    "ax11.set_ylabel('$\\mathit{\\Psi}$ (Nm)')\n",
    "# ax11.ticklabel_format(axis=\"x\", style=\"sci\", scilimits=(3,3))\n",
    "# ax11.ticklabel_format(axis=\"y\", style=\"sci\", scilimits=(0,0))\n",
    "# ax11.legend(loc='best',fontsize=ftsz_leg)\n",
    "ax11.grid(True, which='major', linewidth=0.3, color='lightgray')\n",
    "ax11.grid(True, which='minor', linewidth=0.3, alpha=0.2, color='lightgray')\n",
    "\n",
    "\n",
    "ax12.margins(x=0.1, y = 0.1)\n",
    "ax12.xaxis.set_minor_locator(AutoMinorLocator())\n",
    "ax12.yaxis.set_minor_locator(AutoMinorLocator())\n",
    "ax12.plot(1/e,U_0, color='black', alpha=0.8, marker=\"o\",markersize=mkSZ*0,linewidth=lnWDT,label=\"$u^{\\epsilon}_x$\")\n",
    "ax12.plot(1/e,U_M, color='mediumblue', alpha=1, marker=\"s\",markersize=mkSZ,linewidth=lnWDT,label=\"$u^{\\epsilon}_x$\")\n",
    "ax12.plot(1/e,U_m, color='red', marker=\"o\",markersize=mkSZ,linewidth=lnWDT,label=\"$u^{\\epsilon}_z$\")\n",
    "# # ax12.plot(1/e,Ue, color='red', alpha=1,marker=\"o\",markersize=mkSZ,linewidth=lnWDT,label=\"$u^{\\epsilon}$\")\n",
    "\n",
    "ax12.set_xlabel('$1/\\epsilon$')\n",
    "ax12.set_ylabel('$u$ (m)')\n",
    "# ax12.ticklabel_format(axis=\"x\", style=\"sci\", scilimits=(3,3))\n",
    "# ax12.ticklabel_format(axis=\"y\", style=\"sci\", scilimits=(0,0))\n",
    "ax12.legend(loc='best',fontsize=ftsz_leg)\n",
    "ax12.grid(True, which='major', linewidth=0.3, color='lightgray')\n",
    "ax12.grid(True, which='minor', linewidth=0.3, alpha=0.2, color='lightgray')\n",
    "\n",
    "\n",
    "# fig.savefig(f\"convergence.pdf\", format=\"pdf\", transparent=True)"
   ]
  },
  {
   "cell_type": "code",
   "execution_count": null,
   "id": "biblical-there",
   "metadata": {},
   "outputs": [],
   "source": [
    "plt.rc('text', usetex=True)\n",
    "plt.rc('font', family='serif')\n",
    "fig = plt.figure(figsize=(3.5*1.5,2.75*1.5))\n",
    "(ax11), (ax12) = fig.subplots(1,2)\n",
    "# (ax11) = fig.subplots(1,1)\n",
    "plt.tight_layout(pad=2.5, w_pad=3.5, h_pad=3.5)\n",
    "ax11.margins(x=0.1, y = 0.1)\n",
    "ax11.xaxis.set_minor_locator(AutoMinorLocator())\n",
    "ax11.yaxis.set_minor_locator(AutoMinorLocator())\n",
    "\n",
    "ax11.plot(1/e,DU, color='black', marker=\"o\",markersize=mkSZ,linewidth=lnWDT)\n",
    "# ax11.plot(1/e,U0, color='black', alpha=0.2,marker=\"o\",markersize=mkSZ,linewidth=lnWDT,label=\"$u^{(0)}$\")\n",
    "# ax11.plot(1/e,Ue, color='black', alpha=0.6,marker=\"o\",markersize=mkSZ,linewidth=lnWDT,label=\"$u^{\\epsilon}$\")\n",
    "\n",
    "ax11.set_xlabel('$1/\\epsilon$')\n",
    "ax11.set_ylabel('$(u^{\\epsilon}-u^{(0)}-\\epsilon u^{(1)})$ (-)')\n",
    "ax11.ticklabel_format(axis=\"x\", style=\"sci\", scilimits=(3,3))\n",
    "# ax11.ticklabel_format(axis=\"y\", style=\"sci\", scilimits=(0,0))\n",
    "# ax11.legend(loc='best',fontsize=ftsz_leg)\n",
    "ax11.grid(True, which='major', linewidth=0.3, color='lightgray')\n",
    "ax11.grid(True, which='minor', linewidth=0.3, alpha=0.2, color='lightgray')\n",
    "\n",
    "\n",
    "ax12.margins(x=0.1, y = 0.1)\n",
    "ax12.xaxis.set_minor_locator(AutoMinorLocator())\n",
    "ax12.yaxis.set_minor_locator(AutoMinorLocator())\n",
    "ax12.plot(1/e,DU/Ue, color='black', marker=\"o\",markersize=mkSZ,linewidth=lnWDT)\n",
    "# ax11.plot(1/e,U0, color='black', alpha=0.2,marker=\"o\",markersize=mkSZ,linewidth=lnWDT,label=\"$u^{(0)}$\")\n",
    "# ax11.plot(1/e,Ue, color='black', alpha=0.6,marker=\"o\",markersize=mkSZ,linewidth=lnWDT,label=\"$u^{\\epsilon}$\")\n",
    "\n",
    "ax12.set_xlabel('$1/\\epsilon$')\n",
    "ax12.set_ylabel('$(u^{\\epsilon}-u^{(0)}-\\epsilon u^{(1)})/u^{\\epsilon}$ (-)')\n",
    "ax12.ticklabel_format(axis=\"x\", style=\"sci\", scilimits=(3,3))\n",
    "# ax11.ticklabel_format(axis=\"y\", style=\"sci\", scilimits=(0,0))\n",
    "# ax11.legend(loc='best',fontsize=ftsz_leg)\n",
    "ax12.grid(True, which='major', linewidth=0.3, color='lightgray')\n",
    "ax12.grid(True, which='minor', linewidth=0.3, alpha=0.2, color='lightgray')\n",
    "\n",
    "# fig.savefig(f\"convergence.pdf\", format=\"pdf\", transparent=True)"
   ]
  },
  {
   "cell_type": "code",
   "execution_count": null,
   "id": "understanding-terrorism",
   "metadata": {},
   "outputs": [],
   "source": [
    "DU/Ue"
   ]
  },
  {
   "cell_type": "code",
   "execution_count": 108,
   "id": "assured-disposal",
   "metadata": {},
   "outputs": [
    {
     "data": {
      "text/plain": [
       "(0.08430946966263991, 0.02018248069934003)"
      ]
     },
     "execution_count": 108,
     "metadata": {},
     "output_type": "execute_result"
    }
   ],
   "source": [
    "file = './Macro-3D_L20x20x20_TORSION_v12'\n",
    "with open(file, 'rb') as f_obj:\n",
    "    data = pickle.load(f_obj)\n",
    "usol,stress,svars,ISV,IC = data\n",
    "energy= svars[:,-3]\n",
    "dissipation= svars[:,6+6+22+1:6+6+22+2]\n",
    "usol=np.reshape(usol,(-1,3))\n",
    "U0=np.amax(usol[:,2])\n",
    "E0=np.sum(energy)\n",
    "D15x15x30=np.sum(dissipation)\n",
    "N=20*20*20\n",
    "V=1*1*2\n",
    "# print(np.mean(IC[-6:],axis=0)[-8:]) #(take -2): -0.93940901\n",
    "IC_u = IC[:,-24:]\n",
    "IC_f = IC[:,:-24]\n",
    "IC_u = IC_u.reshape(IC_u.shape[0],IC_u.shape[1]//3,3)\n",
    "# IC[-6:,-4:] #(take -2): -0.90854154\n",
    "U1=np.mean(1+IC_u[IC_u.shape[0]-20*19*6,2])\n",
    "# U_M=U0+U1\n",
    "U0,E0*2/(N*6)"
   ]
  },
  {
   "cell_type": "code",
   "execution_count": 114,
   "id": "growing-angel",
   "metadata": {},
   "outputs": [],
   "source": [
    "file = './Micro-3D_L13x13x25_TORSION_2H_v12'\n",
    "with open(file, 'rb') as f_obj:\n",
    "    data = pickle.load(f_obj)\n",
    "svarsGP,add_svarsGP,nparticles,nbars,nsvars,niter,nel = data\n",
    "E_m=svarsGP[-3]\n",
    "D_m=svarsGP[-2]\n",
    "U_m=np.amax(add_svarsGP[:,2])"
   ]
  },
  {
   "cell_type": "code",
   "execution_count": 115,
   "id": "collectible-grass",
   "metadata": {},
   "outputs": [
    {
     "data": {
      "text/plain": [
       "0.019307921483414384"
      ]
     },
     "execution_count": 115,
     "metadata": {},
     "output_type": "execute_result"
    }
   ],
   "source": [
    "E_m"
   ]
  },
  {
   "cell_type": "code",
   "execution_count": null,
   "id": "hollywood-winning",
   "metadata": {},
   "outputs": [],
   "source": []
  },
  {
   "cell_type": "code",
   "execution_count": null,
   "id": "existing-spray",
   "metadata": {},
   "outputs": [],
   "source": []
  },
  {
   "cell_type": "code",
   "execution_count": null,
   "id": "respected-theater",
   "metadata": {},
   "outputs": [],
   "source": [
    "print(M_IC_f[8],m_IC_f161631[8])\n",
    "print(M_IC_f[13],m_IC_f161631[13])\n",
    "print(M_IC_f[18],m_IC_f161631[18])\n",
    "print(M_IC_f[-4],m_IC_f161631[-4])\n",
    "print(M_IC_f[-3],m_IC_f161631[-3])\n",
    "print(M_IC_f[-2],m_IC_f161631[-2])\n",
    "print(M_IC_f[-1],m_IC_f161631[-1])"
   ]
  },
  {
   "cell_type": "code",
   "execution_count": null,
   "id": "micro-constraint",
   "metadata": {},
   "outputs": [],
   "source": [
    "print(M_IC_f[8],m_IC_f111121[8])\n",
    "print(M_IC_f[13],m_IC_f111121[13])\n",
    "print(M_IC_f[18],m_IC_f111121[18])\n",
    "print(M_IC_f[-4],m_IC_f111121[-4])\n",
    "print(M_IC_f[-3],m_IC_f111121[-3])\n",
    "print(M_IC_f[-2],m_IC_f111121[-2])\n",
    "print(M_IC_f[-1],m_IC_f111121[-1])"
   ]
  },
  {
   "cell_type": "code",
   "execution_count": null,
   "id": "comparable-carnival",
   "metadata": {},
   "outputs": [],
   "source": [
    "print(M_IC_f[8],m_IC_f212141[8])\n",
    "print(M_IC_f[13],m_IC_f212141[13])\n",
    "print(M_IC_f[18],m_IC_f212141[18])\n",
    "print(M_IC_f[-4],m_IC_f212141[-4])\n",
    "print(M_IC_f[-3],m_IC_f212141[-3])\n",
    "print(M_IC_f[-2],m_IC_f212141[-2])\n",
    "print(M_IC_f[-1],m_IC_f212141[-1])"
   ]
  },
  {
   "cell_type": "code",
   "execution_count": null,
   "id": "typical-cathedral",
   "metadata": {},
   "outputs": [],
   "source": [
    "plt.rc('text', usetex=True)\n",
    "plt.rc('font', family='serif')\n",
    "fig = plt.figure(figsize=(3.5*1.5,2.75*1.5))\n",
    "# (ax11), (ax12) = fig.subplots(1,2)\n",
    "(ax11) = fig.subplots(1,1)\n",
    "plt.tight_layout(pad=2.5, w_pad=3.5, h_pad=3.5)\n",
    "ax11.margins(x=0.1, y = 0.1)\n",
    "ax11.xaxis.set_minor_locator(AutoMinorLocator())\n",
    "ax11.yaxis.set_minor_locator(AutoMinorLocator())\n",
    "n=-2\n",
    "ax11.plot(M_IC_f[n], color='black', marker=\"o\",markersize=mkSZ,linewidth=lnWDT)\n",
    "ax11.plot(m_IC_f212141[n], color='red', alpha=1,marker=\"o\",markersize=mkSZ,linewidth=lnWDT,label=\"$u^{(0)}$\")\n",
    "ax11.plot(m_IC_f161631[n], color='red', alpha=0.6,marker=\"o\",markersize=mkSZ,linewidth=lnWDT,label=\"$u^{(0)}$\")\n",
    "ax11.plot(m_IC_f111121[n], color='red', alpha=0.4,marker=\"o\",markersize=mkSZ,linewidth=lnWDT,label=\"$u^{(0)}$\")\n",
    "ax11.plot(m_IC_f6611[n], color='red', alpha=0.3,marker=\"o\",markersize=mkSZ,linewidth=lnWDT,label=\"$u^{(0)}$\")\n",
    "ax11.plot(m_IC_f335[n], color='red', alpha=0.15,marker=\"o\",markersize=mkSZ,linewidth=lnWDT,label=\"$u^{(0)}$\")\n",
    "\n",
    "# ax11.plot(IC_f6611[-28:], color='black', alpha=0.2,marker=\"o\",markersize=mkSZ,linewidth=lnWDT,label=\"$u^{(0)}$\")\n",
    "\n",
    "# ax11.plot(1/e,Ue, color='black', alpha=0.6,marker=\"o\",markersize=mkSZ,linewidth=lnWDT,label=\"$u^{\\epsilon}$\")\n",
    "\n",
    "ax11.set_xlabel('$1/\\epsilon$')\n",
    "ax11.set_ylabel('$(u^{\\epsilon}-u^{(0)}-\\epsilon u^{(1)})$ (-)')\n",
    "ax11.ticklabel_format(axis=\"x\", style=\"sci\", scilimits=(3,3))\n",
    "# ax11.ticklabel_format(axis=\"y\", style=\"sci\", scilimits=(0,0))\n",
    "# ax11.legend(loc='best',fontsize=ftsz_leg)\n",
    "ax11.grid(True, which='major', linewidth=0.3, color='lightgray')\n",
    "ax11.grid(True, which='minor', linewidth=0.3, alpha=0.2, color='lightgray')\n",
    "\n",
    "\n",
    "# ax12.margins(x=0.1, y = 0.1)\n",
    "# ax12.xaxis.set_minor_locator(AutoMinorLocator())\n",
    "# ax12.yaxis.set_minor_locator(AutoMinorLocator())\n",
    "# ax12.plot(1/e,DU/Ue, color='black', marker=\"o\",markersize=mkSZ,linewidth=lnWDT)\n",
    "# # ax11.plot(1/e,U0, color='black', alpha=0.2,marker=\"o\",markersize=mkSZ,linewidth=lnWDT,label=\"$u^{(0)}$\")\n",
    "# # ax11.plot(1/e,Ue, color='black', alpha=0.6,marker=\"o\",markersize=mkSZ,linewidth=lnWDT,label=\"$u^{\\epsilon}$\")\n",
    "\n",
    "# ax12.set_xlabel('$1/\\epsilon$')\n",
    "# ax12.set_ylabel('$(u^{\\epsilon}-u^{(0)}-\\epsilon u^{(1)})/u^{\\epsilon}$ (-)')\n",
    "# ax12.ticklabel_format(axis=\"x\", style=\"sci\", scilimits=(3,3))\n",
    "# # ax11.ticklabel_format(axis=\"y\", style=\"sci\", scilimits=(0,0))\n",
    "# # ax11.legend(loc='best',fontsize=ftsz_leg)\n",
    "# ax12.grid(True, which='major', linewidth=0.3, color='lightgray')\n",
    "# ax12.grid(True, which='minor', linewidth=0.3, alpha=0.2, color='lightgray')\n",
    "\n",
    "# fig.savefig(f\"convergence.pdf\", format=\"pdf\", transparent=True)"
   ]
  },
  {
   "cell_type": "code",
   "execution_count": null,
   "id": "suspended-congress",
   "metadata": {},
   "outputs": [],
   "source": []
  },
  {
   "cell_type": "code",
   "execution_count": null,
   "id": "physical-committee",
   "metadata": {},
   "outputs": [],
   "source": [
    "plt.rcParams[\"figure.figsize\"] = (5,5)\n",
    "fig = plt.figure(figsize=(4.5,4))\n",
    "plt.tight_layout(pad=2.8, w_pad=3.5, h_pad=3.5)\n",
    "plt.loglog(N,U/np.amax(U),color='black', alpha=1, marker='o', linestyle='-',linewidth=1.5, markersize=8)\n",
    "# plt.loglog(N,U/np.amax(U),color='black', alpha=1, marker='o', linestyle='-',linewidth=1.5, markersize=8)\n",
    "\n",
    "plt.ylabel('$u$ (m)',fontsize=12)\n",
    "plt.xlabel('$N_e$ (-)',fontsize=12)\n",
    "plt.show()\n"
   ]
  },
  {
   "cell_type": "code",
   "execution_count": null,
   "id": "specified-interpretation",
   "metadata": {},
   "outputs": [],
   "source": []
  },
  {
   "cell_type": "code",
   "execution_count": null,
   "id": "helpful-modern",
   "metadata": {},
   "outputs": [],
   "source": [
    "100*DU"
   ]
  },
  {
   "cell_type": "code",
   "execution_count": null,
   "id": "available-marketing",
   "metadata": {},
   "outputs": [],
   "source": []
  }
 ],
 "metadata": {
  "kernelspec": {
   "display_name": "Python 3",
   "language": "python",
   "name": "python3"
  },
  "language_info": {
   "codemirror_mode": {
    "name": "ipython",
    "version": 3
   },
   "file_extension": ".py",
   "mimetype": "text/x-python",
   "name": "python",
   "nbconvert_exporter": "python",
   "pygments_lexer": "ipython3",
   "version": "3.8.5"
  }
 },
 "nbformat": 4,
 "nbformat_minor": 5
}

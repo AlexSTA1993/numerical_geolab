{
 "cells": [
  {
   "cell_type": "code",
   "execution_count": 1,
   "id": "nutritional-killer",
   "metadata": {},
   "outputs": [],
   "source": [
    "import matplotlib.pyplot as plt\n",
    "import numpy as np\n",
    "import pickle\n",
    "np.random.seed(1)"
   ]
  },
  {
   "cell_type": "code",
   "execution_count": 67,
   "id": "mechanical-caribbean",
   "metadata": {},
   "outputs": [
    {
     "data": {
      "text/plain": [
       "(0.11326955847249712,\n",
       " 0.11251915618805888,\n",
       " 96.24278765583857,\n",
       " 2.211489816344071)"
      ]
     },
     "execution_count": 67,
     "metadata": {},
     "output_type": "execute_result"
    }
   ],
   "source": [
    "file = './Macro-3D_L1x1x1UNI'\n",
    "with open(file, 'rb') as f_obj:\n",
    "    data = pickle.load(f_obj)\n",
    "usol,stress,svars,ISV,IC = data\n",
    "energy= svars[:,6+6+22:6+6+22+1]\n",
    "dissipation= svars[:,6+6+22+1:6+6+22+2]\n",
    "usol=np.reshape(usol,(-1,3))\n",
    "V=10*10*20\n",
    "N=1*1*1\n",
    "np.amax(usol[:,0]),np.amax(usol[:,1]),np.sum(energy)*V/N,np.sum(dissipation)*V/N"
   ]
  },
  {
   "cell_type": "code",
   "execution_count": 64,
   "id": "combined-korea",
   "metadata": {},
   "outputs": [
    {
     "data": {
      "text/plain": [
       "array([-0.01949228, -0.00909012,  0.01138385,  0.01168092, -0.05011453,\n",
       "       -0.01955904, -0.01942207, -0.00865662, -0.05010323, -0.01957784,\n",
       "       -0.01942844, -0.00896233, -0.01154773, -0.01164607, -1.0001128 ,\n",
       "       -1.00056027, -0.01114562, -0.01162564, -0.99991624, -1.00037333,\n",
       "       -0.0102413 , -0.99869946, -0.01082165, -0.99919596, -0.011575  ,\n",
       "       -0.99993007, -0.01194924, -1.00040065])"
      ]
     },
     "execution_count": 64,
     "metadata": {},
     "output_type": "execute_result"
    }
   ],
   "source": [
    "IC[-1,16:-8]"
   ]
  },
  {
   "cell_type": "code",
   "execution_count": 71,
   "id": "personalized-question",
   "metadata": {},
   "outputs": [
    {
     "data": {
      "text/plain": [
       "0.11132423218805888"
      ]
     },
     "execution_count": 71,
     "metadata": {},
     "output_type": "execute_result"
    }
   ],
   "source": [
    "0.11251915618805888+0.1*(-0.01194924)"
   ]
  },
  {
   "cell_type": "code",
   "execution_count": 68,
   "id": "spiritual-knitting",
   "metadata": {},
   "outputs": [
    {
     "data": {
      "text/plain": [
       "(0.1132695584724873, 0.1125191561880644, 96.24278765566976, 2.211489816344607)"
      ]
     },
     "execution_count": 68,
     "metadata": {},
     "output_type": "execute_result"
    }
   ],
   "source": [
    "file = './Macro-3D_L2x2x4UNI'\n",
    "with open(file, 'rb') as f_obj:\n",
    "    data = pickle.load(f_obj)\n",
    "usol,stress,svars,ISV,IC = data\n",
    "energy= svars[:,6+6+22:6+6+22+1]\n",
    "dissipation= svars[:,6+6+22+1:6+6+22+2]\n",
    "usol=np.reshape(usol,(-1,3))\n",
    "V=10*10*20\n",
    "N=2*2*4\n",
    "np.amax(usol[:,0]),np.amax(usol[:,1]),np.sum(energy)*V/N,np.sum(dissipation)*V/N"
   ]
  },
  {
   "cell_type": "code",
   "execution_count": 70,
   "id": "initial-trinidad",
   "metadata": {},
   "outputs": [
    {
     "data": {
      "text/plain": [
       "array([-0.0102413 , -0.99869946, -0.01082165, -0.99919596, -0.011575  ,\n",
       "       -0.99993007, -0.01194924, -1.00040065])"
      ]
     },
     "execution_count": 70,
     "metadata": {},
     "output_type": "execute_result"
    }
   ],
   "source": [
    "IC[-1,-16:-8]"
   ]
  },
  {
   "cell_type": "code",
   "execution_count": 56,
   "id": "compressed-dominican",
   "metadata": {},
   "outputs": [
    {
     "data": {
      "text/plain": [
       "(0.11326955847248918,\n",
       " 0.11251915618805601,\n",
       " 96.24278765599001,\n",
       " 2.211489816342344)"
      ]
     },
     "execution_count": 56,
     "metadata": {},
     "output_type": "execute_result"
    }
   ],
   "source": [
    "file = './Macro-3D_L5x5x10UNI'\n",
    "with open(file, 'rb') as f_obj:\n",
    "    data = pickle.load(f_obj)\n",
    "usol,stress,svars,ISV,IC = data\n",
    "energy= svars[:,6+6+22:6+6+22+1]\n",
    "dissipation= svars[:,6+6+22+1:6+6+22+2]\n",
    "usol=np.reshape(usol,(-1,3))\n",
    "V=10*10*20\n",
    "N=5*5*10\n",
    "np.amax(usol[:,0]),np.amax(usol[:,1]),np.sum(energy)*V/N,np.sum(dissipation)*V/N"
   ]
  },
  {
   "cell_type": "code",
   "execution_count": 73,
   "id": "sunset-australia",
   "metadata": {},
   "outputs": [
    {
     "data": {
      "text/plain": [
       "(0.11326955847249319,\n",
       " 0.11251915618805981,\n",
       " 96.24278765588707,\n",
       " 2.2114898163437804)"
      ]
     },
     "execution_count": 73,
     "metadata": {},
     "output_type": "execute_result"
    }
   ],
   "source": [
    "file = './Macro-3D_L10x10x20UNI'\n",
    "with open(file, 'rb') as f_obj:\n",
    "    data = pickle.load(f_obj)\n",
    "usol,stress,svars,ISV,IC = data\n",
    "energy= svars[:,6+6+22:6+6+22+1]\n",
    "dissipation= svars[:,6+6+22+1:6+6+22+2]\n",
    "usol=np.reshape(usol,(-1,3))\n",
    "V=10*10*20\n",
    "N=10*10*20\n",
    "np.amax(usol[:,0]),np.amax(usol[:,1]),np.sum(energy)*V/N,np.sum(dissipation)*V/N"
   ]
  },
  {
   "cell_type": "code",
   "execution_count": 74,
   "id": "statistical-martial",
   "metadata": {},
   "outputs": [],
   "source": [
    "w_in_file = './ISV'\n",
    "\n",
    "with open(w_in_file, 'wb') as f_obj:\n",
    "     pickle.dump(ISV, f_obj)"
   ]
  },
  {
   "cell_type": "code",
   "execution_count": 75,
   "id": "indirect-eagle",
   "metadata": {},
   "outputs": [],
   "source": [
    "file = './ML_micro'\n",
    "with open(file, 'rb') as f_obj:\n",
    "    data = pickle.load(f_obj)"
   ]
  },
  {
   "cell_type": "code",
   "execution_count": 80,
   "id": "vocational-marijuana",
   "metadata": {},
   "outputs": [
    {
     "data": {
      "text/plain": [
       "array([[-6.07153217e-16,  5.74193471e-16,  1.14665222e-15, ...,\n",
       "         4.44089210e-16, -1.44328993e-15, -6.66133815e-16],\n",
       "       [-3.50414142e-16,  9.26342336e-16,  4.64905892e-16, ...,\n",
       "         3.55271368e-15, -2.99760217e-15,  2.22044605e-16],\n",
       "       [-2.86229374e-16,  3.50414142e-16, -1.41033019e-15, ...,\n",
       "         6.66133815e-16, -4.32986980e-15,  8.88178420e-16],\n",
       "       ...,\n",
       "       [ 1.26634814e-16,  3.29597460e-17, -7.75421394e-16, ...,\n",
       "         2.88657986e-15, -4.21884749e-15, -2.22044605e-16],\n",
       "       [-2.22044605e-16,  1.00613962e-15, -4.71844785e-16, ...,\n",
       "         1.99840144e-15, -2.22044605e-15,  4.44089210e-16],\n",
       "       [-1.59594560e-16,  1.19869392e-15, -1.96370697e-15, ...,\n",
       "         1.33226763e-15, -2.99760217e-15, -2.22044605e-16]])"
      ]
     },
     "execution_count": 80,
     "metadata": {},
     "output_type": "execute_result"
    }
   ],
   "source": [
    "ML_micro=data.numpy()\n",
    "ML_micro-IC"
   ]
  },
  {
   "cell_type": "code",
   "execution_count": 59,
   "id": "treated-orleans",
   "metadata": {},
   "outputs": [
    {
     "data": {
      "text/plain": [
       "(0.11326955847248753,\n",
       " 0.11251915618806814,\n",
       " 96.24278765571192,\n",
       " 2.2114898163459955)"
      ]
     },
     "execution_count": 59,
     "metadata": {},
     "output_type": "execute_result"
    }
   ],
   "source": [
    "file = './Macro-3D_L15x15x30UNI'\n",
    "with open(file, 'rb') as f_obj:\n",
    "    data = pickle.load(f_obj)\n",
    "usol,stress,svars,ISV,IC = data\n",
    "energy= svars[:,6+6+22:6+6+22+1]\n",
    "dissipation= svars[:,6+6+22+1:6+6+22+2]\n",
    "usol=np.reshape(usol,(-1,3))\n",
    "V=10*10*20\n",
    "N=15*15*30\n",
    "np.amax(usol[:,0]),np.amax(usol[:,1]),np.sum(energy)*V/N,np.sum(dissipation)*V/N"
   ]
  },
  {
   "cell_type": "code",
   "execution_count": 9,
   "id": "biblical-hurricane",
   "metadata": {},
   "outputs": [],
   "source": [
    "U = np.array([U2x2x4,U5x5x10,U10x10x20,U12x12x24,U15x15x30,U17x17x34,U20x20x40])\n",
    "E = np.array([E2x2x4,E5x5x10,E10x10x20,E12x12x24,E15x15x30,E17x17x34,E20x20x40])\n",
    "D = np.array([D2x2x4,D5x5x10,D10x10x20,D12x12x24,D15x15x30,D17x17x34,D20x20x40])\n",
    "N = 6*np.array([N2x2x4,N5x5x10,N10x10x20,N12x12x24,N15x15x30,N17x17x34,N20x20x40])\n",
    "V = 10*10*20"
   ]
  },
  {
   "cell_type": "code",
   "execution_count": 100,
   "id": "vital-pleasure",
   "metadata": {},
   "outputs": [
    {
     "data": {
      "text/plain": [
       "(array([   4.15763613,   34.30996307,  220.2977151 ,  368.73316737,\n",
       "         699.44485125, 1005.41573445, 1615.72370364]),\n",
       " array([0.60726386, 0.64657093, 0.74316722, 0.76115785, 0.77964824,\n",
       "        0.78851319, 0.79860347]),\n",
       " array([ 0.01228585,  0.17891146,  1.38722424,  2.38470209,  4.63642503,\n",
       "         6.73621811, 10.9465097 ]))"
      ]
     },
     "execution_count": 100,
     "metadata": {},
     "output_type": "execute_result"
    }
   ],
   "source": [
    "E,U,D"
   ]
  },
  {
   "cell_type": "code",
   "execution_count": 10,
   "id": "related-dress",
   "metadata": {},
   "outputs": [],
   "source": [
    "# U = np.array([U5x5x10,U10x10x20,U12x12x24,U15x15x30,U17x17x34,U20x20x40])\n",
    "# E = np.array([E5x5x10,E10x10x20,E12x12x24,E15x15x30,E17x17x34,E20x20x40])\n",
    "# D = np.array([D5x5x10,D10x10x20,D12x12x24,D15x15x30,D17x17x34,D20x20x40])\n",
    "# N = 6*np.array([N5x5x10,N10x10x20,N12x12x24,N15x15x30,N17x17x34,N20x20x40])\n",
    "# V = 10*10*20"
   ]
  },
  {
   "cell_type": "code",
   "execution_count": 11,
   "id": "compact-filling",
   "metadata": {},
   "outputs": [],
   "source": [
    "DU = np.array([(U[i]-np.amax(U))/np.amax(U) for i in range(U.shape[0])])\n",
    "DE = np.array([(E[i]-np.amin(E))/np.amin(E) for i in range(E.shape[0])])\n",
    "DD = np.array([(D[i]-np.amin(D))/np.amin(D) for i in range(D.shape[0])])"
   ]
  },
  {
   "cell_type": "code",
   "execution_count": 12,
   "id": "angry-commercial",
   "metadata": {},
   "outputs": [
    {
     "data": {
      "text/plain": [
       "array([0.03036319, 0.03232855, 0.03715836, 0.03805789, 0.03898241,\n",
       "       0.03942566, 0.03993017])"
      ]
     },
     "execution_count": 12,
     "metadata": {},
     "output_type": "execute_result"
    }
   ],
   "source": [
    "U/20"
   ]
  },
  {
   "cell_type": "code",
   "execution_count": 27,
   "id": "received-petersburg",
   "metadata": {},
   "outputs": [],
   "source": [
    "import matplotlib.pyplot as plt\n",
    "from matplotlib.ticker import (MultipleLocator, FormatStrFormatter, AutoMinorLocator)\n",
    "import matplotlib as mpl\n",
    "mpl.rcParams['axes.unicode_minus']=False\n",
    "plt.rcParams[\"figure.figsize\"] = (4,3)\n",
    "import matplotlib.pyplot as plt\n",
    "# # plt.rcParams[\"font.family\"] = \"Times New Roman\"\n",
    "font = {'size'   : 13}\n",
    "from matplotlib import rc\n",
    "plt.rc('font', **font)\n",
    "ftsz_leg = 9\n",
    "ftsz = 12\n",
    "mkSZ = 4\n",
    "mkSZs = 0\n",
    "lnWDT = 1.25\n",
    "lnWDTs = 6\n",
    "from matplotlib import rc\n",
    "rc('font',**{'family':'sans-serif','sans-serif':['Times New Roman']})\n",
    "## for Palatino and other serif fonts use:\n",
    "#rc('font',**{'family':'serif','serif':['Palatino']})\n",
    "rc('text', usetex=True)\n",
    "\n",
    "import numpy as np\n",
    "import matplotlib.pyplot as plt"
   ]
  },
  {
   "cell_type": "code",
   "execution_count": 29,
   "id": "express-encyclopedia",
   "metadata": {},
   "outputs": [
    {
     "data": {
      "image/png": "[encoded data removed]",
      "text/plain": [
       "<Figure size 504x198 with 2 Axes>"
      ]
     },
     "metadata": {
      "needs_background": "light"
     },
     "output_type": "display_data"
    }
   ],
   "source": [
    "plt.rc('text', usetex=True)\n",
    "plt.rc('font', family='serif')\n",
    "fig = plt.figure(figsize=(3.5*2,2.75))\n",
    "(ax11), (ax12) = fig.subplots(1,2)\n",
    "plt.tight_layout(pad=2.5, w_pad=3.5, h_pad=3.5)\n",
    "ax11.margins(x=0.1, y = 0.1)\n",
    "ax11.xaxis.set_minor_locator(AutoMinorLocator())\n",
    "ax11.yaxis.set_minor_locator(AutoMinorLocator())\n",
    "\n",
    "ax11.plot(N,(D*V/N)/np.amax(D*V/N), color='black', marker=\"o\",markersize=mkSZ,linewidth=lnWDT,label=\"$D/D^*$\")\n",
    "ax11.plot(N,(E*V/N)/np.amax(E*V/N), color='black', marker=\"o\",markersize=mkSZ,linestyle='--',linewidth=lnWDT,label=\"$\\mathit{\\Psi}/\\mathit{\\Psi}^*$\")\n",
    "ax11.plot(N[-3],(D[-3]*V/N[-3])/np.amax(D*V/N), color='red', marker=\"o\",fillstyle='none',markersize=mkSZ*2,linewidth=lnWDT)\n",
    "ax11.plot(N[-3],(E[-3]*V/N[-3])/np.amax(E*V/N), color='red', marker=\"o\",fillstyle='none',markersize=mkSZ*2,linewidth=lnWDT)\n",
    "ax11.set_xlabel('Number of FE')\n",
    "ax11.set_ylabel('$\\mathit{\\Psi}/\\mathit{\\Psi}^*,D/D^*$ (-)')\n",
    "ax11.ticklabel_format(axis=\"x\", style=\"sci\", scilimits=(3,3))\n",
    "# ax11.ticklabel_format(axis=\"y\", style=\"sci\", scilimits=(0,0))\n",
    "ax11.legend(loc='best',fontsize=ftsz_leg)\n",
    "ax11.grid(True, which='major', linewidth=0.3, color='lightgray')\n",
    "ax11.grid(True, which='minor', linewidth=0.3, alpha=0.2, color='lightgray')\n",
    "\n",
    "\n",
    "ax12.margins(x=0.1, y = 0.1)\n",
    "ax12.xaxis.set_minor_locator(AutoMinorLocator())\n",
    "ax12.yaxis.set_minor_locator(AutoMinorLocator())\n",
    "ax12.plot(N,U/np.amax(U), color='black', marker=\"o\",markersize=mkSZ,linewidth=lnWDT)\n",
    "ax12.plot(N[-3],U[-3]/np.amax(U), color='red', marker=\"o\",fillstyle='none',markersize=mkSZ*2,linewidth=lnWDT)\n",
    "ax12.set_xlabel('Number of FE')\n",
    "ax12.set_ylabel('$U/U^*$ (-)')\n",
    "ax12.ticklabel_format(axis=\"x\", style=\"sci\", scilimits=(3,3))\n",
    "# ax11.ticklabel_format(axis=\"y\", style=\"sci\", scilimits=(0,0))\n",
    "# ax12.legend(loc='best',fontsize=ftsz_leg)\n",
    "ax12.grid(True, which='major', linewidth=0.3, color='lightgray')\n",
    "ax12.grid(True, which='minor', linewidth=0.3, alpha=0.2, color='lightgray')\n",
    "\n",
    "\n",
    "fig.savefig(f\"convergence.pdf\", format=\"pdf\", transparent=True)"
   ]
  },
  {
   "cell_type": "code",
   "execution_count": null,
   "id": "engaging-token",
   "metadata": {},
   "outputs": [],
   "source": [
    "plt.rcParams[\"figure.figsize\"] = (5,5)\n",
    "fig = plt.figure(figsize=(4.5,4))\n",
    "plt.tight_layout(pad=2.8, w_pad=3.5, h_pad=3.5)\n",
    "plt.plot(N,(D*V/N)/np.amax(D*V/N),color='red', alpha=1, marker='o', linestyle='-',linewidth=1.5, markersize=7)\n",
    "plt.plot(N,(E*V/N)/np.amax(E*V/N),color='navy', alpha=1, marker='o', linestyle='-',linewidth=1.5, markersize=7)\n",
    "# plt.plot(N,U/np.amax(U),color='black', alpha=1, marker='o', linestyle='-',linewidth=1.5, markersize=8)\n",
    "\n",
    "plt.ylabel('$\\mathit{\\Psi},D$ (-)',fontsize=12)\n",
    "plt.xlabel('$N_e$ (-)',fontsize=12)\n",
    "plt.show()\n",
    "# fig.savefig(f\"data.png\", format=\"png\", transparent=True)"
   ]
  },
  {
   "cell_type": "code",
   "execution_count": null,
   "id": "second-bonus",
   "metadata": {},
   "outputs": [],
   "source": [
    "plt.rcParams[\"figure.figsize\"] = (5,5)\n",
    "fig = plt.figure(figsize=(4.5,4))\n",
    "plt.tight_layout(pad=2.8, w_pad=3.5, h_pad=3.5)\n",
    "plt.loglog(N,U/np.amax(U),color='black', alpha=1, marker='o', linestyle='-',linewidth=1.5, markersize=8)\n",
    "# plt.loglog(N,U/np.amax(U),color='black', alpha=1, marker='o', linestyle='-',linewidth=1.5, markersize=8)\n",
    "\n",
    "plt.ylabel('$u$ (m)',fontsize=12)\n",
    "plt.xlabel('$N_e$ (-)',fontsize=12)\n",
    "plt.show()\n"
   ]
  },
  {
   "cell_type": "code",
   "execution_count": null,
   "id": "chubby-harris",
   "metadata": {},
   "outputs": [],
   "source": []
  },
  {
   "cell_type": "code",
   "execution_count": null,
   "id": "destroyed-corrections",
   "metadata": {},
   "outputs": [],
   "source": [
    "100*DU"
   ]
  },
  {
   "cell_type": "code",
   "execution_count": null,
   "id": "polished-table",
   "metadata": {},
   "outputs": [],
   "source": []
  }
 ],
 "metadata": {
  "kernelspec": {
   "display_name": "Python 3",
   "language": "python",
   "name": "python3"
  },
  "language_info": {
   "codemirror_mode": {
    "name": "ipython",
    "version": 3
   },
   "file_extension": ".py",
   "mimetype": "text/x-python",
   "name": "python",
   "nbconvert_exporter": "python",
   "pygments_lexer": "ipython3",
   "version": "3.8.5"
  }
 },
 "nbformat": 4,
 "nbformat_minor": 5
}

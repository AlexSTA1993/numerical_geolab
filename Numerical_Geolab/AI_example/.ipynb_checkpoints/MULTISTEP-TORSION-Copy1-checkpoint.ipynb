{
 "cells": [
  {
   "cell_type": "code",
   "execution_count": 84,
   "id": "indirect-party",
   "metadata": {},
   "outputs": [],
   "source": [
    "import matplotlib.pyplot as plt\n",
    "import numpy as np\n",
    "import pickle\n",
    "np.random.seed(1)\n",
    "cE = 8.96; cD = 9.0; A = np.pi*(1e-2)**2; cP=1000"
   ]
  },
  {
   "cell_type": "code",
   "execution_count": 109,
   "id": "metropolitan-technical",
   "metadata": {},
   "outputs": [
    {
     "name": "stdout",
     "output_type": "stream",
     "text": [
      "(23, 23808)\n"
     ]
    },
    {
     "data": {
      "text/plain": [
       "(array([9.81504948e-02, 3.87961188e-01, 8.60629247e-01, 3.87776725e-01,\n",
       "        9.77668281e-02, 5.16416763e-05, 9.72306422e-02, 3.86968456e-01,\n",
       "        8.59545692e-01, 1.50191253e+00, 2.31453902e+00, 1.52352199e+00,\n",
       "        8.81492486e-01, 4.10491519e-01, 1.30897755e-01, 3.62704976e-02,\n",
       "        1.29494682e-01, 4.07733531e-01, 8.79510444e-01, 1.52021867e+00,\n",
       "        2.31140432e+00, 3.27543749e+00, 1.01040874e-01]),\n",
       " array([1.18286507e-05, 9.93728274e-06, 1.05218264e-05, 3.17696984e-05,\n",
       "        2.75338396e-05, 2.16224516e-05, 1.76012617e-05, 1.62484998e-05,\n",
       "        1.65084643e-05, 2.37874212e-05, 3.07638213e-03, 1.57520100e-05,\n",
       "        1.98133999e-05, 2.14531345e-05, 2.00485288e-05, 1.83820352e-05,\n",
       "        1.83751696e-05, 1.96587754e-05, 2.09785666e-05, 2.23626469e-05,\n",
       "        1.81272287e-04, 1.10002599e-02, 2.92118160e-04]),\n",
       " array([ 4.78237475e-03,  2.12855289e-02,  5.55769429e-02,  2.12746521e-02,\n",
       "         4.75118286e-03, -5.36249193e-05,  4.72862164e-03,  2.12356190e-02,\n",
       "         5.55348202e-02,  1.16643778e-01,  2.11383226e-01,  1.14331913e-01,\n",
       "         5.42731585e-02,  2.07088566e-02,  4.61705226e-03, -6.69239591e-05,\n",
       "         4.52565983e-03,  2.05487551e-02,  5.40932087e-02,  1.14212163e-01,\n",
       "         2.11236329e-01,  3.20132090e-01,  6.46510273e-03]))"
      ]
     },
     "execution_count": 109,
     "metadata": {},
     "output_type": "execute_result"
    }
   ],
   "source": [
    "file = './t2MULTISTEP_Macro-3D_L15x15x30'\n",
    "with open(file, 'rb') as f_obj:\n",
    "    data = pickle.load(f_obj)\n",
    "usol,stress,svars,IC = data\n",
    "print(usol.shape)\n",
    "usol=np.reshape(usol,(23,-1,3))\n",
    "IC_u = IC[:,:,-24:]\n",
    "IC_u=IC_u.reshape(IC_u.shape[0],IC_u.shape[1],IC_u.shape[2]//3,3)\n",
    "N=15*15*30\n",
    "V=10*10*20\n",
    "E_M=np.sum(svars[:,:,-3],axis=1)*V/(N*6)*cE*A\n",
    "D_M=np.sum(svars[:,:,-2],axis=1)*V/(N*6)*cE*A\n",
    "U_M=np.amax(usol[:,:,2],axis=1)\n",
    "U_M1 = IC_u[:,-1,6,2]\n",
    "U_M,D_M,E_M"
   ]
  },
  {
   "cell_type": "code",
   "execution_count": 140,
   "id": "amber-pledge",
   "metadata": {},
   "outputs": [
    {
     "name": "stdout",
     "output_type": "stream",
     "text": [
      "(23, 40071)\n"
     ]
    },
    {
     "data": {
      "text/plain": [
       "(array([9.92316727e-02, 3.92529353e-01, 8.70983738e-01, 3.92344991e-01,\n",
       "        9.88472475e-02, 5.40485173e-05, 9.83131261e-02, 3.91540349e-01,\n",
       "        8.69908543e-01, 1.52047617e+00, 2.34446120e+00, 1.54422139e+00,\n",
       "        8.94858601e-01, 4.16102975e-01, 1.32730726e-01, 3.72792916e-02,\n",
       "        1.32360929e-01, 4.16301334e-01, 8.94712936e-01, 1.54374718e+00,\n",
       "        2.34485835e+00, 3.32117346e+00, 1.05466978e-01]),\n",
       " array([1.18099524e-05, 9.92589359e-06, 1.04873604e-05, 3.14950327e-05,\n",
       "        2.73222501e-05, 2.15306746e-05, 1.75952795e-05, 1.62997406e-05,\n",
       "        1.66397421e-05, 2.40020030e-05, 3.06231200e-03, 5.59393606e-05,\n",
       "        5.31952396e-05, 4.95346520e-05, 4.32544897e-05, 3.57662040e-05,\n",
       "        3.08444422e-05, 2.98236806e-05, 3.01737694e-05, 3.23356130e-05,\n",
       "        2.16771171e-04, 2.89376840e-02, 1.01712751e-03]),\n",
       " array([ 4.73712125e-03,  2.10302170e-02,  5.47353822e-02,  2.10191765e-02,\n",
       "         4.70584950e-03, -5.36134108e-05,  4.68333542e-03,  2.09801099e-02,\n",
       "         5.46927941e-02,  1.14523062e-01,  2.07359006e-01,  1.12474778e-01,\n",
       "         5.35909444e-02,  2.05639504e-02,  4.67378633e-03,  5.86269589e-05,\n",
       "         4.65643149e-03,  2.05346363e-02,  5.35617051e-02,  1.12464584e-01,\n",
       "         2.07195562e-01,  3.14151672e-01,  5.75433737e-03]))"
      ]
     },
     "execution_count": 140,
     "metadata": {},
     "output_type": "execute_result"
    }
   ],
   "source": [
    "file = './t2MULTISTEP_Macro-3D_L18x18x36'\n",
    "with open(file, 'rb') as f_obj:\n",
    "    data = pickle.load(f_obj)\n",
    "usol,stress,svars,IC = data\n",
    "print(usol.shape)\n",
    "usol=np.reshape(usol,(23,-1,3))\n",
    "IC_u = IC[:,:,-24:]\n",
    "IC_u=IC_u.reshape(IC_u.shape[0],IC_u.shape[1],IC_u.shape[2]//3,3)\n",
    "N=18*18*36\n",
    "V=10*10*20\n",
    "E_M=np.sum(svars[:,:,-3],axis=1)*V/(N*6)*cE*A\n",
    "D_M=np.sum(svars[:,:,-2],axis=1)*V/(N*6)*cE*A\n",
    "U_M=np.amax(usol[:,:,2],axis=1)\n",
    "U_M1 = IC_u[:,-1,6,2]\n",
    "U_M,D_M,E_M"
   ]
  },
  {
   "cell_type": "code",
   "execution_count": 141,
   "id": "stylish-combine",
   "metadata": {},
   "outputs": [],
   "source": [
    "# file = './t2MULTISTEP_Macro-3D_L18x18x36'\n",
    "# with open(file, 'rb') as f_obj:\n",
    "#     data = pickle.load(f_obj)\n",
    "# usol,stress,svars,IC = data\n",
    "# print(usol.shape)\n",
    "# usol=np.reshape(usol,(23,-1,3))\n",
    "# IC_u = IC[:,:,-24:]\n",
    "# IC_u=IC_u.reshape(IC_u.shape[0],IC_u.shape[1],IC_u.shape[2]//3,3)\n",
    "# N=18*18*36\n",
    "# V=10*10*20\n",
    "# E_M=np.sum(svars[:,:,-3],axis=1)*V/(N*6)*cE*A\n",
    "# D_M=np.sum(svars[:,:,-2],axis=1)*V/(N*6)*cE*A\n",
    "# U_M=np.amax(usol[:,:,2],axis=1)\n",
    "# U_M1 = IC_u[:,-1,6,2]\n",
    "# U_M,D_M,E_M"
   ]
  },
  {
   "cell_type": "code",
   "execution_count": 142,
   "id": "auburn-strand",
   "metadata": {},
   "outputs": [],
   "source": [
    "# U_M=U_M+1/12*U_M1"
   ]
  },
  {
   "cell_type": "code",
   "execution_count": 143,
   "id": "brown-editing",
   "metadata": {},
   "outputs": [
    {
     "data": {
      "text/plain": [
       "array([ 1.26505308e-03,  4.46990219e-03,  9.53097264e-03,  4.47278179e-03,\n",
       "        1.26936141e-03,  1.83032026e-05,  7.58317154e-04,  3.46762150e-03,\n",
       "        8.06463063e-03,  1.44108467e-02,  2.17798120e-02,  1.38821349e-02,\n",
       "        7.54031158e-03,  2.94581594e-03,  2.37728014e-04, -5.01795097e-04,\n",
       "        7.49756566e-04,  3.95449256e-03,  9.01539966e-03,  1.57797255e-02,\n",
       "        2.40393746e-02,  3.28450481e-02,  1.99885700e-03])"
      ]
     },
     "execution_count": 143,
     "metadata": {},
     "output_type": "execute_result"
    }
   ],
   "source": [
    "1/12*U_M1"
   ]
  },
  {
   "cell_type": "code",
   "execution_count": 144,
   "id": "encouraging-opening",
   "metadata": {},
   "outputs": [
    {
     "data": {
      "text/plain": [
       "5.222596333707445"
      ]
     },
     "execution_count": 144,
     "metadata": {},
     "output_type": "execute_result"
    }
   ],
   "source": [
    "8040960.0/(22*N*6)"
   ]
  },
  {
   "cell_type": "code",
   "execution_count": 145,
   "id": "latin-train",
   "metadata": {},
   "outputs": [],
   "source": [
    "file = './MULTISTEP_Micro-3D_L9x9x17_V10x10x20'\n",
    "file = './MULTISTEP_Micro-3D_L13x13x25_V10x10x20'\n",
    "# file = './MULTISTEP_Micro-3D_L17x17x33_V10x10x20'\n",
    "with open(file, 'rb') as f_obj:\n",
    "    data = pickle.load(f_obj)\n",
    "svarsGP,add_svarsGP,nparticles,nbars,nsvars,niter,nel = data\n",
    "\n",
    "\n",
    "E_m=svarsGP[:-1,-3]*cE*A\n",
    "D_m=svarsGP[:-1,-2]*cE*A\n",
    "U_m=np.amax(add_svarsGP[:-1,:,2],axis=1)"
   ]
  },
  {
   "cell_type": "code",
   "execution_count": 146,
   "id": "devoted-restaurant",
   "metadata": {},
   "outputs": [],
   "source": [
    "U_M = U_M + (1/12)*U_M1"
   ]
  },
  {
   "cell_type": "code",
   "execution_count": 147,
   "id": "distinguished-collectible",
   "metadata": {},
   "outputs": [
    {
     "data": {
      "text/plain": [
       "3254208.0"
      ]
     },
     "execution_count": 147,
     "metadata": {},
     "output_type": "execute_result"
    }
   ],
   "source": [
    "np.sum(niter*nel)"
   ]
  },
  {
   "cell_type": "code",
   "execution_count": 14,
   "id": "physical-emphasis",
   "metadata": {},
   "outputs": [
    {
     "data": {
      "text/plain": [
       "array([ 111680.,  223360.,  335040.,  446720.,  558400.,  670080.,\n",
       "        781760.,  893440., 1005120., 1786880., 3573760., 3685440.,\n",
       "       3797120., 3908800., 4020480., 4132160., 4243840., 4355520.,\n",
       "       4467200., 4578880., 4690560., 7817600., 7929280., 8040960.])"
      ]
     },
     "execution_count": 14,
     "metadata": {},
     "output_type": "execute_result"
    }
   ],
   "source": [
    "np.cumsum(niter*nel)"
   ]
  },
  {
   "cell_type": "code",
   "execution_count": 15,
   "id": "proper-tracker",
   "metadata": {},
   "outputs": [
    {
     "data": {
      "text/plain": [
       "array([1.        , 0.00397755, 0.02894007])"
      ]
     },
     "execution_count": 15,
     "metadata": {},
     "output_type": "execute_result"
    }
   ],
   "source": [
    "E_max = np.zeros(3)\n",
    "E_max[0] = E_m[2]\n",
    "E_max[1] = E_m[10]\n",
    "E_max[2] = E_m[-2]\n",
    "\n",
    "U_max = np.zeros(3)\n",
    "U_max[0] = U_m[2]\n",
    "U_max[1] = U_m[10]\n",
    "U_max[2] = U_m[-2]\n",
    "\n",
    "D_max = np.zeros(3)\n",
    "D_max[0] = D_m[2]\n",
    "D_max[1] = D_m[10]\n",
    "D_max[2] = D_m[-2]\n",
    "\n",
    "D_max[D_max==0.]=1.\n",
    "D_max"
   ]
  },
  {
   "cell_type": "code",
   "execution_count": null,
   "id": "clinical-luxury",
   "metadata": {},
   "outputs": [],
   "source": []
  },
  {
   "cell_type": "code",
   "execution_count": 16,
   "id": "multiple-strand",
   "metadata": {
    "scrolled": true
   },
   "outputs": [],
   "source": [
    "E_m[:5] /= E_max[0]\n",
    "E_m[5:15] /= E_max[1]\n",
    "E_m[15:] /= E_max[2]\n",
    "\n",
    "\n",
    "E_M[:5] /= E_max[0]\n",
    "E_M[5:15] /= E_max[1]\n",
    "E_M[15:] /= E_max[2]\n",
    "\n",
    "U_m[:5] /= U_max[0]\n",
    "U_m[5:15] /= U_max[1]\n",
    "U_m[15:] /= U_max[2]\n",
    "\n",
    "\n",
    "U_M[:5] /= U_max[0]\n",
    "U_M[5:15] /= U_max[1]\n",
    "U_M[15:] /= U_max[2]\n",
    "\n",
    "D_m[:5] /= D_max[0]\n",
    "D_m[5:15] /= D_max[1]\n",
    "D_m[15:] /= D_max[2]\n",
    "\n",
    "D_M[:5] /= D_max[0]\n",
    "D_M[5:15] /= D_max[1]\n",
    "D_M[15:] /= D_max[2]"
   ]
  },
  {
   "cell_type": "code",
   "execution_count": 17,
   "id": "adopted-arrow",
   "metadata": {},
   "outputs": [
    {
     "data": {
      "text/plain": [
       "(0.04141108027562205, 0.026739703996781702)"
      ]
     },
     "execution_count": 17,
     "metadata": {},
     "output_type": "execute_result"
    }
   ],
   "source": [
    "U_m[-1],U_M[-1]"
   ]
  },
  {
   "cell_type": "code",
   "execution_count": 64,
   "id": "front-durham",
   "metadata": {},
   "outputs": [],
   "source": [
    "T = np.array([10,20,30,20,10,0,\n",
    "              -10,-20,-30,-40,-50,-40,-30,-20,-10,0,\n",
    "              10,20,30,40,50,60,0.])"
   ]
  },
  {
   "cell_type": "code",
   "execution_count": 22,
   "id": "decreased-celebration",
   "metadata": {},
   "outputs": [
    {
     "data": {
      "text/plain": [
       "((23,), (23,), (23,))"
      ]
     },
     "execution_count": 22,
     "metadata": {},
     "output_type": "execute_result"
    }
   ],
   "source": [
    "TT.shape,U_m.shape,D_m.shape"
   ]
  },
  {
   "cell_type": "code",
   "execution_count": 127,
   "id": "amazing-composition",
   "metadata": {},
   "outputs": [],
   "source": [
    "import matplotlib.pyplot as plt\n",
    "from matplotlib.ticker import (MultipleLocator, FormatStrFormatter, AutoMinorLocator)\n",
    "import matplotlib as mpl\n",
    "mpl.rcParams['axes.unicode_minus']=False\n",
    "plt.rcParams[\"figure.figsize\"] = (4,3)\n",
    "import matplotlib.pyplot as plt\n",
    "# # plt.rcParams[\"font.family\"] = \"Times New Roman\"\n",
    "font = {'size'   : 13}\n",
    "from matplotlib import rc\n",
    "plt.rc('font', **font)\n",
    "ftsz_leg = 9\n",
    "ftsz = 12\n",
    "mkSZ = 4\n",
    "mkSZs = 0\n",
    "lnWDT = .5\n",
    "lnWDTs = 6\n",
    "from matplotlib import rc\n",
    "rc('font',**{'family':'sans-serif','sans-serif':['Times New Roman']})\n",
    "## for Palatino and other serif fonts use:\n",
    "#rc('font',**{'family':'serif','serif':['Palatino']})\n",
    "rc('text', usetex=True)\n",
    "\n",
    "import numpy as np\n",
    "import matplotlib.pyplot as plt"
   ]
  },
  {
   "cell_type": "code",
   "execution_count": 128,
   "id": "optical-insider",
   "metadata": {},
   "outputs": [
    {
     "data": {
      "image/png": "[encoded data removed]",
      "text/plain": [
       "<Figure size 288x151.2 with 1 Axes>"
      ]
     },
     "metadata": {
      "needs_background": "light"
     },
     "output_type": "display_data"
    }
   ],
   "source": [
    "plt.rc('text', usetex=True)\n",
    "plt.rc('font', family='serif')\n",
    "fig = plt.figure(figsize=(4,2.1))\n",
    "# (ax11), (ax12) = fig.subplots(1,2)\n",
    "(ax11) = fig.subplots(1,1)\n",
    "plt.tight_layout(pad=2.5, w_pad=3.5, h_pad=3.5)\n",
    "ax11.margins(x=0.1, y = 0.2)\n",
    "ax11.xaxis.set_minor_locator(AutoMinorLocator())\n",
    "ax11.yaxis.set_minor_locator(AutoMinorLocator())\n",
    "\n",
    "# ax11.plot(TT,E_M, color='mediumblue', marker=\"s\",markersize=mkSZ,linewidth=lnWDT,label=\"$\\mathit{\\Psi}^{(1)}_{tot}$\")\n",
    "# ax11.plot(TT,E_m, color='red', marker=\"o\",markersize=mkSZ,linewidth=lnWDT,label=\"$\\mathit{\\Psi}^{\\epsilon}_{tot}$\")\n",
    "\n",
    "ax11.plot(T,color='black', marker=\"s\",markersize=mkSZ,linewidth=lnWDT)\n",
    "# ax11.plot(T,E_M, color='darkorange', linestyle='-', marker=\"d\",markersize=0.75*mkSZ,linewidth=lnWDT,label=\"$\\mathit{\\Psi}^{(1)}_{tot}$\")\n",
    "\n",
    "\n",
    "\n",
    "ax11.set_xlabel('increments')\n",
    "ax11.set_ylabel('$\\\\omega$ ($^\\circ$)')\n",
    "# ax11.ticklabel_format(axis=\"x\", style=\"sci\", scilimits=(3,3))\n",
    "# ax11.ticklabel_format(axis=\"y\", style=\"sci\", scilimits=(0,0))\n",
    "# ax11.legend(loc='best',fontsize=ftsz_leg)\n",
    "ax11.grid(True, which='major', linewidth=0.3, color='lightgray')\n",
    "ax11.grid(True, which='minor', linewidth=0.3, alpha=0.2, color='lightgray')\n",
    "# ax11.set_ylim([E_m[0]*cE*A*1000-1,E_m[0]*cE*A*1000+1])\n",
    "fig.savefig(f\"CYC_.pdf\", format=\"pdf\", transparent=True)"
   ]
  },
  {
   "cell_type": "code",
   "execution_count": 129,
   "id": "spanish-contrary",
   "metadata": {},
   "outputs": [
    {
     "data": {
      "image/png": "[encoded data removed]",
      "text/plain": [
       "<Figure size 288x151.2 with 1 Axes>"
      ]
     },
     "metadata": {
      "needs_background": "light"
     },
     "output_type": "display_data"
    },
    {
     "data": {
      "image/png": "[encoded data removed]",
      "text/plain": [
       "<Figure size 288x151.2 with 1 Axes>"
      ]
     },
     "metadata": {
      "needs_background": "light"
     },
     "output_type": "display_data"
    },
    {
     "data": {
      "image/png": "[encoded data removed]",
      "text/plain": [
       "<Figure size 288x151.2 with 1 Axes>"
      ]
     },
     "metadata": {
      "needs_background": "light"
     },
     "output_type": "display_data"
    },
    {
     "data": {
      "image/png": "[encoded data removed]",
      "text/plain": [
       "<Figure size 288x151.2 with 1 Axes>"
      ]
     },
     "metadata": {
      "needs_background": "light"
     },
     "output_type": "display_data"
    }
   ],
   "source": [
    "\n",
    "plt.rc('text', usetex=True)\n",
    "plt.rc('font', family='serif')\n",
    "fig = plt.figure(figsize=(4,2.1))\n",
    "# (ax11), (ax12) = fig.subplots(1,2)\n",
    "(ax11) = fig.subplots(1,1)\n",
    "plt.tight_layout(pad=2.5, w_pad=3.5, h_pad=3.5)\n",
    "ax11.margins(x=0.1, y = 0.2)\n",
    "ax11.xaxis.set_minor_locator(AutoMinorLocator())\n",
    "ax11.yaxis.set_minor_locator(AutoMinorLocator())\n",
    "\n",
    "# ax11.plot(TT,E_M, color='mediumblue', marker=\"s\",markersize=mkSZ,linewidth=lnWDT,label=\"$\\mathit{\\Psi}^{(1)}_{tot}$\")\n",
    "# ax11.plot(TT,E_m, color='red', marker=\"o\",markersize=mkSZ,linewidth=lnWDT,label=\"$\\mathit{\\Psi}^{\\epsilon}_{tot}$\")\n",
    "\n",
    "ax11.plot(T,E_m, alpha=0.25,color='darkorange', marker=\"s\",markersize=1.25*mkSZ,linewidth=lnWDT,label=\"$\\mathit{\\Psi}^{\\epsilon}_{tot}$\")\n",
    "ax11.plot(T,E_M, color='darkorange', linestyle='-', marker=\"d\",markersize=0.75*mkSZ,linewidth=lnWDT,label=\"$\\mathit{\\Psi}_{tot}$\")\n",
    "\n",
    "\n",
    "\n",
    "ax11.set_xlabel('$\\\\theta$ ($^\\circ$)')\n",
    "ax11.set_ylabel('$\\mathit{\\Psi}$ (kNm)')\n",
    "# ax11.ticklabel_format(axis=\"x\", style=\"sci\", scilimits=(3,3))\n",
    "# ax11.ticklabel_format(axis=\"y\", style=\"sci\", scilimits=(0,0))\n",
    "ax11.legend(loc='best',fontsize=ftsz_leg)\n",
    "ax11.grid(True, which='major', linewidth=0.3, color='lightgray')\n",
    "ax11.grid(True, which='minor', linewidth=0.3, alpha=0.2, color='lightgray')\n",
    "# ax11.set_ylim([E_m[0]*cE*A*1000-1,E_m[0]*cE*A*1000+1])\n",
    "fig.savefig(f\"CYC_ene.pdf\", format=\"pdf\", transparent=True)\n",
    "\n",
    "plt.rc('text', usetex=True)\n",
    "plt.rc('font', family='serif')\n",
    "fig = plt.figure(figsize=(4,2.1))\n",
    "# (ax11), (ax12) = fig.subplots(1,2)\n",
    "(ax11) = fig.subplots(1,1)\n",
    "plt.tight_layout(pad=2.5, w_pad=3.5, h_pad=3.5)\n",
    "ax11.margins(x=0.1, y = 0.2)\n",
    "ax11.xaxis.set_minor_locator(AutoMinorLocator())\n",
    "ax11.yaxis.set_minor_locator(AutoMinorLocator())\n",
    "# ax11.plot(TT,U_m, color='black', alpha=0.8, marker=\"o\",linestyle='-',markersize=mkSZ*0,linewidth=lnWDT,label=\"$u^{(0)}$\")\n",
    "# ax11.plot(TT,U_M, color='mediumblue', alpha=1, marker=\"s\",markersize=mkSZ,linewidth=lnWDT,label=\"$u^{(0)}+\\epsilon u^{(1)}$\")\n",
    "# ax11.plot(TT,U_m, color='red', marker=\"o\",markersize=mkSZ,linewidth=lnWDT,label=\"$u^{\\epsilon}$\")\n",
    "ax11.plot(T,U_m, alpha=0.2,color='mediumblue', marker=\"s\",markersize=1.25*mkSZ,linewidth=lnWDT,label=\"$u^{\\epsilon}$\")\n",
    "ax11.plot(T,U_M, color='mediumblue', alpha=1, linestyle='-',marker=\"d\",markersize=0.75*mkSZ,linewidth=lnWDT,label=\"$u^{(0)}+\\epsilon u^{(1)}$\")\n",
    "\n",
    "\n",
    "# # ax12.plot(1/e,Ue, color='red', alpha=1,marker=\"o\",markersize=mkSZ,linewidth=lnWDT,label=\"$u^{\\epsilon}$\")\n",
    "ax11.set_xlabel('$\\\\omega$ ($^\\circ$)')\n",
    "ax11.set_ylabel('$u$ (cm)')\n",
    "# ax12.ticklabel_format(axis=\"x\", style=\"sci\", scilimits=(3,3))\n",
    "# ax12.ticklabel_format(axis=\"y\", style=\"sci\", scilimits=(0,0))\n",
    "ax11.legend(loc='best',fontsize=ftsz_leg)\n",
    "ax11.grid(True, which='major', linewidth=0.3, color='lightgray')\n",
    "ax11.grid(True, which='minor', linewidth=0.3, alpha=0.2, color='lightgray')\n",
    "\n",
    "\n",
    "fig.savefig(f\"CYC_dis.pdf\", format=\"pdf\", transparent=True)\n",
    "\n",
    "plt.rc('text', usetex=True)\n",
    "plt.rc('font', family='serif')\n",
    "fig = plt.figure(figsize=(4,2.1))\n",
    "# (ax11), (ax12) = fig.subplots(1,2)\n",
    "(ax11) = fig.subplots(1,1)\n",
    "plt.tight_layout(pad=2.5, w_pad=3.5, h_pad=3.5)\n",
    "ax11.margins(x=0.1, y = 0.2)\n",
    "ax11.xaxis.set_minor_locator(AutoMinorLocator())\n",
    "ax11.yaxis.set_minor_locator(AutoMinorLocator())\n",
    "ax11.plot(T,(D_m), alpha=0.2, color='red', marker=\"s\",markersize=1.25*mkSZ,linewidth=lnWDT,label=\"$D^{\\epsilon}_{tot}$\")\n",
    "ax11.plot(T,(D_M), color='red', linestyle='-',marker=\"d\",markersize=0.75*mkSZ,linewidth=lnWDT,label=\"$D_{tot}$\")\n",
    "# ax11.set_ylim([D_m[0]*cE*A*1000-1,D_m[0]*cE*A*1000+1])\n",
    "ax11.set_xlabel('$\\\\omega$ ($^\\circ$)')\n",
    "ax11.set_ylabel('$D$ (kNm/s)')\n",
    "# ax12.ticklabel_format(axis=\"x\", style=\"sci\", scilimits=(3,3))\n",
    "# ax12.ticklabel_format(axis=\"y\", style=\"sci\", scilimits=(0,0))\n",
    "ax11.legend(loc='best',fontsize=ftsz_leg)\n",
    "ax11.grid(True, which='major', linewidth=0.3, color='lightgray')\n",
    "ax11.grid(True, which='minor', linewidth=0.3, alpha=0.2, color='lightgray')\n",
    "\n",
    "\n",
    "fig.savefig(f\"CYC_dtrate.pdf\", format=\"pdf\", transparent=True)\n",
    "\n",
    "plt.rc('text', usetex=True)\n",
    "plt.rc('font', family='serif')\n",
    "fig = plt.figure(figsize=(4,2.1))\n",
    "# (ax11), (ax12) = fig.subplots(1,2)\n",
    "(ax11) = fig.subplots(1,1)\n",
    "plt.tight_layout(pad=2.5, w_pad=3.5, h_pad=3.5)\n",
    "ax11.margins(x=0.1, y = 0.2)\n",
    "ax11.xaxis.set_minor_locator(AutoMinorLocator())\n",
    "ax11.yaxis.set_minor_locator(AutoMinorLocator())\n",
    "ax11.plot(T,np.cumsum(D_m), alpha=0.2, color='red', marker=\"s\",markersize=1.25*mkSZ,linewidth=lnWDT,label=\"$D^{\\epsilon}_{cum,tot}$\")\n",
    "ax11.plot(T,np.cumsum(D_M), color='red', linestyle='-',marker=\"d\",markersize=0.75*mkSZ,linewidth=lnWDT,label=\"$D_{cum,tot}$\")\n",
    "# ax11.set_ylim([D_m[0]*cE*A*1000-1,D_m[0]*cE*A*1000+1])\n",
    "ax11.set_xlabel('$\\\\omega$ ($^\\circ$)')\n",
    "ax11.set_ylabel('$D_{cum}$ (kNm/s)')\n",
    "# ax12.ticklabel_format(axis=\"x\", style=\"sci\", scilimits=(3,3))\n",
    "# ax12.ticklabel_format(axis=\"y\", style=\"sci\", scilimits=(0,0))\n",
    "ax11.legend(loc='best',fontsize=ftsz_leg)\n",
    "ax11.grid(True, which='major', linewidth=0.3, color='lightgray')\n",
    "ax11.grid(True, which='minor', linewidth=0.3, alpha=0.2, color='lightgray')\n",
    "\n",
    "\n",
    "fig.savefig(f\"CYC_dt.pdf\", format=\"pdf\", transparent=True)"
   ]
  },
  {
   "cell_type": "code",
   "execution_count": 105,
   "id": "tamil-highland",
   "metadata": {},
   "outputs": [
    {
     "data": {
      "text/plain": [
       "(-0.6854523349954462, -0.008246018607877659, 3.945075780822151)"
      ]
     },
     "execution_count": 105,
     "metadata": {},
     "output_type": "execute_result"
    }
   ],
   "source": [
    "100*U_M[-2]/U_m[-2]-100, 100*D_M[-2]/D_m[-2]-100, 100*E_M[-2]/E_m[-2]-100"
   ]
  },
  {
   "cell_type": "code",
   "execution_count": 108,
   "id": "solid-adaptation",
   "metadata": {},
   "outputs": [
    {
     "data": {
      "text/plain": [
       "array([ 2.09643413e+00,  1.63530901e+00,  1.48150163e+00,  1.58853214e+00,\n",
       "        1.70794984e+00,  2.71320537e+12,  7.72999675e-01,  1.18841287e+00,\n",
       "        1.23015283e+00,  1.17391681e+00,  1.33198930e-01, -4.44039178e-01,\n",
       "       -1.67044821e+00, -4.93154276e+00, -1.05730575e+01, -2.69243523e+01,\n",
       "       -1.05634867e+01, -4.71453353e+00, -1.56555207e+00, -3.83267924e-01,\n",
       "        2.21921834e-01, -6.85452335e-01, -2.33271444e+01])"
      ]
     },
     "execution_count": 108,
     "metadata": {},
     "output_type": "execute_result"
    }
   ],
   "source": [
    "100*U_M/U_m-100"
   ]
  },
  {
   "cell_type": "code",
   "execution_count": 83,
   "id": "presidential-tennis",
   "metadata": {},
   "outputs": [
    {
     "data": {
      "image/png": "[encoded data removed]",
      "text/plain": [
       "<Figure size 288x198 with 1 Axes>"
      ]
     },
     "metadata": {
      "needs_background": "light"
     },
     "output_type": "display_data"
    }
   ],
   "source": [
    "plt.rc('text', usetex=True)\n",
    "plt.rc('font', family='serif')\n",
    "fig = plt.figure(figsize=(4,2.75))\n",
    "# (ax11), (ax12) = fig.subplots(1,2)\n",
    "(ax11) = fig.subplots(1,1)\n",
    "plt.tight_layout(pad=2.5, w_pad=3.5, h_pad=3.5)\n",
    "ax11.margins(x=0.1, y = 0.1)\n",
    "ax11.xaxis.set_minor_locator(AutoMinorLocator())\n",
    "ax11.yaxis.set_minor_locator(AutoMinorLocator())\n",
    "ax11.plot(T,U_M, color='mediumblue', alpha=1, marker=\"s\",markersize=mkSZ,linewidth=lnWDT,label=\"$u^{(0)}+\\epsilon u^{(1)}$\")\n",
    "ax11.plot(TT,U_m, color='red', marker=\"o\",markersize=mkSZ,linewidth=lnWDT,label=\"$u^{\\epsilon}$\")\n",
    "# # ax12.plot(1/e,Ue, color='red', alpha=1,marker=\"o\",markersize=mkSZ,linewidth=lnWDT,label=\"$u^{\\epsilon}$\")\n",
    "ax11.set_xlabel('$\\\\theta$ (deg)')\n",
    "ax11.set_ylabel('$u$ (cm)')\n",
    "# ax12.ticklabel_format(axis=\"x\", style=\"sci\", scilimits=(3,3))\n",
    "# ax12.ticklabel_format(axis=\"y\", style=\"sci\", scilimits=(0,0))\n",
    "ax11.legend(loc='best',fontsize=ftsz_leg)\n",
    "ax11.grid(True, which='major', linewidth=0.3, color='lightgray')\n",
    "ax11.grid(True, which='minor', linewidth=0.3, alpha=0.2, color='lightgray')"
   ]
  },
  {
   "cell_type": "code",
   "execution_count": 243,
   "id": "nasty-somerset",
   "metadata": {},
   "outputs": [
    {
     "data": {
      "text/plain": [
       "(array([9.81233706e-02, 3.89512054e-01, 8.65312351e-01, 3.89512054e-01,\n",
       "        9.81233706e-02, 9.81233706e-02, 2.49800181e-15, 9.81233706e-02,\n",
       "        3.89512054e-01, 8.65312351e-01, 1.51351687e+00, 8.67761906e-01,\n",
       "        3.91961608e-01, 1.00572925e-01, 5.58945948e-03, 5.58945948e-03,\n",
       "        1.00572925e-01, 3.91961608e-01, 8.67761906e-01, 1.51351687e+00,\n",
       "        2.35765569e+00, 3.36889941e+00, 1.39509719e-01]),\n",
       " array([9.81504948e-02, 3.87961188e-01, 8.60629247e-01, 3.87776725e-01,\n",
       "        9.77668281e-02, 5.16416763e-05, 9.72306422e-02, 3.86968456e-01,\n",
       "        8.59545692e-01, 1.50191253e+00, 2.31509779e+00, 1.52465817e+00,\n",
       "        8.83209619e-01, 4.11786323e-01, 1.32687379e-01, 3.85786292e-02,\n",
       "        1.32316909e-01, 4.11051263e-01, 8.83068238e-01, 1.52419292e+00,\n",
       "        2.31589243e+00, 3.28116449e+00, 1.10983949e-01]))"
      ]
     },
     "execution_count": 243,
     "metadata": {},
     "output_type": "execute_result"
    }
   ],
   "source": [
    "U_m,U_M"
   ]
  },
  {
   "cell_type": "code",
   "execution_count": 160,
   "id": "biblical-there",
   "metadata": {},
   "outputs": [
    {
     "ename": "IndexError",
     "evalue": "too many indices for array: array is 1-dimensional, but 2 were indexed",
     "output_type": "error",
     "traceback": [
      "\u001b[0;31m---------------------------------------------------------------------------\u001b[0m",
      "\u001b[0;31mIndexError\u001b[0m                                Traceback (most recent call last)",
      "\u001b[0;32m<ipython-input-160-264f9f9b1203>\u001b[0m in \u001b[0;36m<module>\u001b[0;34m\u001b[0m\n\u001b[1;32m     10\u001b[0m \u001b[0max11\u001b[0m\u001b[0;34m.\u001b[0m\u001b[0myaxis\u001b[0m\u001b[0;34m.\u001b[0m\u001b[0mset_minor_locator\u001b[0m\u001b[0;34m(\u001b[0m\u001b[0mAutoMinorLocator\u001b[0m\u001b[0;34m(\u001b[0m\u001b[0;34m)\u001b[0m\u001b[0;34m)\u001b[0m\u001b[0;34m\u001b[0m\u001b[0;34m\u001b[0m\u001b[0m\n\u001b[1;32m     11\u001b[0m \u001b[0;34m\u001b[0m\u001b[0m\n\u001b[0;32m---> 12\u001b[0;31m \u001b[0max11\u001b[0m\u001b[0;34m.\u001b[0m\u001b[0mplot\u001b[0m\u001b[0;34m(\u001b[0m\u001b[0mtheta\u001b[0m\u001b[0;34m,\u001b[0m\u001b[0mE_m\u001b[0m\u001b[0;34m[\u001b[0m\u001b[0;34m:\u001b[0m\u001b[0;34m,\u001b[0m\u001b[0;36m1\u001b[0m\u001b[0;34m]\u001b[0m\u001b[0;34m*\u001b[0m\u001b[0mcE\u001b[0m\u001b[0;34m*\u001b[0m\u001b[0mA\u001b[0m\u001b[0;34m,\u001b[0m \u001b[0mcolor\u001b[0m\u001b[0;34m=\u001b[0m\u001b[0;34m'red'\u001b[0m\u001b[0;34m,\u001b[0m \u001b[0mmarker\u001b[0m\u001b[0;34m=\u001b[0m\u001b[0;34m\"o\"\u001b[0m\u001b[0;34m,\u001b[0m\u001b[0mmarkersize\u001b[0m\u001b[0;34m=\u001b[0m\u001b[0mmkSZ\u001b[0m\u001b[0;34m,\u001b[0m\u001b[0mlinewidth\u001b[0m\u001b[0;34m=\u001b[0m\u001b[0mlnWDT\u001b[0m\u001b[0;34m,\u001b[0m\u001b[0mlabel\u001b[0m\u001b[0;34m=\u001b[0m\u001b[0;34m\"$\\mathit{\\Psi}^{\\epsilon}_{tot}$\"\u001b[0m\u001b[0;34m)\u001b[0m\u001b[0;34m\u001b[0m\u001b[0;34m\u001b[0m\u001b[0m\n\u001b[0m\u001b[1;32m     13\u001b[0m \u001b[0max11\u001b[0m\u001b[0;34m.\u001b[0m\u001b[0mplot\u001b[0m\u001b[0;34m(\u001b[0m\u001b[0mtheta\u001b[0m\u001b[0;34m,\u001b[0m\u001b[0mE_M\u001b[0m\u001b[0;34m*\u001b[0m\u001b[0mcE\u001b[0m\u001b[0;34m*\u001b[0m\u001b[0mA\u001b[0m\u001b[0;34m,\u001b[0m \u001b[0mcolor\u001b[0m\u001b[0;34m=\u001b[0m\u001b[0;34m'mediumblue'\u001b[0m\u001b[0;34m,\u001b[0m \u001b[0mmarker\u001b[0m\u001b[0;34m=\u001b[0m\u001b[0;34m\"s\"\u001b[0m\u001b[0;34m,\u001b[0m\u001b[0mmarkersize\u001b[0m\u001b[0;34m=\u001b[0m\u001b[0mmkSZ\u001b[0m\u001b[0;34m,\u001b[0m\u001b[0mlinewidth\u001b[0m\u001b[0;34m=\u001b[0m\u001b[0mlnWDT\u001b[0m\u001b[0;34m,\u001b[0m\u001b[0mlabel\u001b[0m\u001b[0;34m=\u001b[0m\u001b[0;34m\"$\\mathit{\\Psi}^{(1)}_{tot}$\"\u001b[0m\u001b[0;34m)\u001b[0m\u001b[0;34m\u001b[0m\u001b[0;34m\u001b[0m\u001b[0m\n\u001b[1;32m     14\u001b[0m \u001b[0;34m\u001b[0m\u001b[0m\n",
      "\u001b[0;31mIndexError\u001b[0m: too many indices for array: array is 1-dimensional, but 2 were indexed"
     ]
    },
    {
     "data": {
      "image/png": "[encoded data removed]",
      "text/plain": [
       "<Figure size 288x198 with 1 Axes>"
      ]
     },
     "metadata": {
      "needs_background": "light"
     },
     "output_type": "display_data"
    }
   ],
   "source": [
    "cE = 8.96; cD = 9.0; A = np.pi*(1e-2)**2; cP=1000\n",
    "plt.rc('text', usetex=True)\n",
    "plt.rc('font', family='serif')\n",
    "fig = plt.figure(figsize=(4,2.75*1))\n",
    "# (ax11), (ax12) = fig.subplots(1,2)\n",
    "(ax11) = fig.subplots(1,1)\n",
    "plt.tight_layout(pad=2.5, w_pad=3.5, h_pad=3.5)\n",
    "ax11.margins(x=0.1, y = 0.1)\n",
    "ax11.xaxis.set_minor_locator(AutoMinorLocator())\n",
    "ax11.yaxis.set_minor_locator(AutoMinorLocator())\n",
    "\n",
    "ax11.plot(theta,E_m[:,1]*cE*A, color='red', marker=\"o\",markersize=mkSZ,linewidth=lnWDT,label=\"$\\mathit{\\Psi}^{\\epsilon}_{tot}$\")\n",
    "ax11.plot(theta,E_M*cE*A, color='mediumblue', marker=\"s\",markersize=mkSZ,linewidth=lnWDT,label=\"$\\mathit{\\Psi}^{(1)}_{tot}$\")\n",
    "\n",
    "ax11.set_xlabel('$\\\\theta$ (deg)')\n",
    "ax11.set_ylabel('$\\mathit{\\Psi}$ (kNm)')\n",
    "# ax11.ticklabel_format(axis=\"x\", style=\"sci\", scilimits=(3,3))\n",
    "# ax11.ticklabel_format(axis=\"y\", style=\"sci\", scilimits=(0,0))\n",
    "ax11.legend(loc='best',fontsize=ftsz_leg)\n",
    "ax11.grid(True, which='major', linewidth=0.3, color='lightgray')\n",
    "ax11.grid(True, which='minor', linewidth=0.3, alpha=0.2, color='lightgray')\n",
    "# ax11.set_ylim([E_m[0]*cE*A*1000-1,E_m[0]*cE*A*1000+1])\n",
    "fig.savefig(f\"CYC_ene.pdf\", format=\"pdf\", transparent=True)\n",
    "\n",
    "plt.rc('text', usetex=True)\n",
    "plt.rc('font', family='serif')\n",
    "fig = plt.figure(figsize=(4,2.75))\n",
    "# (ax11), (ax12) = fig.subplots(1,2)\n",
    "(ax11) = fig.subplots(1,1)\n",
    "plt.tight_layout(pad=2.5, w_pad=3.5, h_pad=3.5)\n",
    "ax11.margins(x=0.1, y = 0.1)\n",
    "ax11.xaxis.set_minor_locator(AutoMinorLocator())\n",
    "ax11.yaxis.set_minor_locator(AutoMinorLocator())\n",
    "# ax11.plot(theta,U_M, color='black', alpha=0.8, marker=\"o\",linestyle='-',markersize=mkSZ*0,linewidth=lnWDT,label=\"$u^{(0)}$\")\n",
    "ax11.plot(theta,U_M+(1/16)*U1_M, color='mediumblue', alpha=1, marker=\"s\",markersize=mkSZ,linewidth=lnWDT,label=\"$u^{(0)}+\\epsilon u^{(1)}$\")\n",
    "ax11.plot(theta,U_m[:,1], color='red', marker=\"o\",markersize=mkSZ,linewidth=lnWDT,label=\"$u^{\\epsilon}$\")\n",
    "# # ax12.plot(1/e,Ue, color='red', alpha=1,marker=\"o\",markersize=mkSZ,linewidth=lnWDT,label=\"$u^{\\epsilon}$\")\n",
    "ax11.set_xlabel('$\\\\theta$ (deg)')\n",
    "ax11.set_ylabel('$u$ (cm)')\n",
    "# ax12.ticklabel_format(axis=\"x\", style=\"sci\", scilimits=(3,3))\n",
    "# ax12.ticklabel_format(axis=\"y\", style=\"sci\", scilimits=(0,0))\n",
    "ax11.legend(loc='best',fontsize=ftsz_leg)\n",
    "ax11.grid(True, which='major', linewidth=0.3, color='lightgray')\n",
    "ax11.grid(True, which='minor', linewidth=0.3, alpha=0.2, color='lightgray')\n",
    "\n",
    "\n",
    "fig.savefig(f\"CYC_dis.pdf\", format=\"pdf\", transparent=True)\n",
    "\n",
    "plt.rc('text', usetex=True)\n",
    "plt.rc('font', family='serif')\n",
    "fig = plt.figure(figsize=(4,2.75))\n",
    "# (ax11), (ax12) = fig.subplots(1,2)\n",
    "(ax11) = fig.subplots(1,1)\n",
    "plt.tight_layout(pad=2.5, w_pad=3.5, h_pad=3.5)\n",
    "ax11.margins(x=0.1, y = 0.1)\n",
    "ax11.xaxis.set_minor_locator(AutoMinorLocator())\n",
    "ax11.yaxis.set_minor_locator(AutoMinorLocator())\n",
    "ax11.plot(theta,D_m[:,1]*cE*A, color='red', marker=\"o\",markersize=mkSZ,linewidth=lnWDT,label=\"$D^{\\epsilon}_{tot}$\")\n",
    "ax11.plot(theta,D_M*cE*A, color='mediumblue', marker=\"s\",markersize=mkSZ,linewidth=lnWDT,label=\"$D^{(1)}_{tot}$\")\n",
    "# # ax12.plot(1/e,Ue, color='red', alpha=1,marker=\"o\",markersize=mkSZ,linewidth=lnWDT,label=\"$u^{\\epsilon}$\")\n",
    "# ax11.set_ylim([D_m[0]*cE*A*1000-1,D_m[0]*cE*A*1000+1])\n",
    "ax11.set_xlabel('$\\\\theta$ (deg)')\n",
    "ax11.set_ylabel('$D$ (kNm/s)')\n",
    "# ax12.ticklabel_format(axis=\"x\", style=\"sci\", scilimits=(3,3))\n",
    "# ax12.ticklabel_format(axis=\"y\", style=\"sci\", scilimits=(0,0))\n",
    "ax11.legend(loc='best',fontsize=ftsz_leg)\n",
    "ax11.grid(True, which='major', linewidth=0.3, color='lightgray')\n",
    "ax11.grid(True, which='minor', linewidth=0.3, alpha=0.2, color='lightgray')\n",
    "\n",
    "\n",
    "fig.savefig(f\"CYC_dt.pdf\", format=\"pdf\", transparent=True)"
   ]
  },
  {
   "cell_type": "code",
   "execution_count": 281,
   "id": "understanding-terrorism",
   "metadata": {},
   "outputs": [
    {
     "data": {
      "image/png": "[encoded data removed]",
      "text/plain": [
       "<Figure size 288x198 with 1 Axes>"
      ]
     },
     "metadata": {
      "needs_background": "light"
     },
     "output_type": "display_data"
    },
    {
     "data": {
      "image/png": "[encoded data removed]",
      "text/plain": [
       "<Figure size 288x198 with 1 Axes>"
      ]
     },
     "metadata": {
      "needs_background": "light"
     },
     "output_type": "display_data"
    },
    {
     "data": {
      "image/png": "[encoded data removed]",
      "text/plain": [
       "<Figure size 288x198 with 1 Axes>"
      ]
     },
     "metadata": {
      "needs_background": "light"
     },
     "output_type": "display_data"
    }
   ],
   "source": [
    "cE = 8.96; cD = 9.0; A = np.pi*(1e-2)**2; cP=1000\n",
    "plt.rc('text', usetex=True)\n",
    "plt.rc('font', family='serif')\n",
    "fig = plt.figure(figsize=(4,2.75*1))\n",
    "# (ax11), (ax12) = fig.subplots(1,2)\n",
    "(ax11) = fig.subplots(1,1)\n",
    "plt.tight_layout(pad=2.5, w_pad=3.5, h_pad=3.5)\n",
    "ax11.margins(x=0.1, y = 0.1)\n",
    "ax11.xaxis.set_minor_locator(AutoMinorLocator())\n",
    "ax11.yaxis.set_minor_locator(AutoMinorLocator())\n",
    "\n",
    "ax11.plot(theta,E_m[:,2]*cE*A, color='red', marker=\"o\",markersize=mkSZ,linewidth=lnWDT,label=\"$\\mathit{\\Psi}^{\\epsilon}_{tot}$\")\n",
    "ax11.plot(theta,E_M*cE*A, color='mediumblue', marker=\"s\",markersize=mkSZ,linewidth=lnWDT,label=\"$\\mathit{\\Psi}^{(1)}_{tot}$\")\n",
    "\n",
    "ax11.set_xlabel('$\\\\theta$ (deg)')\n",
    "ax11.set_ylabel('$\\mathit{\\Psi}$ (kNm)')\n",
    "# ax11.ticklabel_format(axis=\"x\", style=\"sci\", scilimits=(3,3))\n",
    "# ax11.ticklabel_format(axis=\"y\", style=\"sci\", scilimits=(0,0))\n",
    "ax11.legend(loc='best',fontsize=ftsz_leg)\n",
    "ax11.grid(True, which='major', linewidth=0.3, color='lightgray')\n",
    "ax11.grid(True, which='minor', linewidth=0.3, alpha=0.2, color='lightgray')\n",
    "# ax11.set_ylim([E_m[0]*cE*A*1000-1,E_m[0]*cE*A*1000+1])\n",
    "fig.savefig(f\"CYC_ene.pdf\", format=\"pdf\", transparent=True)\n",
    "\n",
    "plt.rc('text', usetex=True)\n",
    "plt.rc('font', family='serif')\n",
    "fig = plt.figure(figsize=(4,2.75))\n",
    "# (ax11), (ax12) = fig.subplots(1,2)\n",
    "(ax11) = fig.subplots(1,1)\n",
    "plt.tight_layout(pad=2.5, w_pad=3.5, h_pad=3.5)\n",
    "ax11.margins(x=0.1, y = 0.1)\n",
    "ax11.xaxis.set_minor_locator(AutoMinorLocator())\n",
    "ax11.yaxis.set_minor_locator(AutoMinorLocator())\n",
    "# ax11.plot(theta,U_M, color='black', alpha=0.8, marker=\"o\",linestyle='-',markersize=mkSZ*0,linewidth=lnWDT,label=\"$u^{(0)}$\")\n",
    "ax11.plot(theta,U_M+(1/16)*U1_M, color='mediumblue', alpha=1, marker=\"s\",markersize=mkSZ,linewidth=lnWDT,label=\"$u^{(0)}+\\epsilon u^{(1)}$\")\n",
    "ax11.plot(theta,U_m[:,2], color='red', marker=\"o\",markersize=mkSZ,linewidth=lnWDT,label=\"$u^{\\epsilon}$\")\n",
    "# # ax12.plot(1/e,Ue, color='red', alpha=1,marker=\"o\",markersize=mkSZ,linewidth=lnWDT,label=\"$u^{\\epsilon}$\")\n",
    "ax11.set_xlabel('$\\\\theta$ (deg)')\n",
    "ax11.set_ylabel('$u$ (cm)')\n",
    "# ax12.ticklabel_format(axis=\"x\", style=\"sci\", scilimits=(3,3))\n",
    "# ax12.ticklabel_format(axis=\"y\", style=\"sci\", scilimits=(0,0))\n",
    "ax11.legend(loc='best',fontsize=ftsz_leg)\n",
    "ax11.grid(True, which='major', linewidth=0.3, color='lightgray')\n",
    "ax11.grid(True, which='minor', linewidth=0.3, alpha=0.2, color='lightgray')\n",
    "\n",
    "\n",
    "fig.savefig(f\"CYC_dis.pdf\", format=\"pdf\", transparent=True)\n",
    "\n",
    "plt.rc('text', usetex=True)\n",
    "plt.rc('font', family='serif')\n",
    "fig = plt.figure(figsize=(4,2.75))\n",
    "# (ax11), (ax12) = fig.subplots(1,2)\n",
    "(ax11) = fig.subplots(1,1)\n",
    "plt.tight_layout(pad=2.5, w_pad=3.5, h_pad=3.5)\n",
    "ax11.margins(x=0.1, y = 0.1)\n",
    "ax11.xaxis.set_minor_locator(AutoMinorLocator())\n",
    "ax11.yaxis.set_minor_locator(AutoMinorLocator())\n",
    "ax11.plot(theta,D_m[:,2]*cE*A, color='red', marker=\"o\",markersize=mkSZ,linewidth=lnWDT,label=\"$D^{\\epsilon}_{tot}$\")\n",
    "ax11.plot(theta,D_M*cE*A, color='mediumblue', marker=\"s\",markersize=mkSZ,linewidth=lnWDT,label=\"$D^{(1)}_{tot}$\")\n",
    "# # ax12.plot(1/e,Ue, color='red', alpha=1,marker=\"o\",markersize=mkSZ,linewidth=lnWDT,label=\"$u^{\\epsilon}$\")\n",
    "# ax11.set_ylim([D_m[0]*cE*A*1000-1,D_m[0]*cE*A*1000+1])\n",
    "ax11.set_xlabel('$\\\\theta$ (deg)')\n",
    "ax11.set_ylabel('$D$ (kNm/s)')\n",
    "# ax12.ticklabel_format(axis=\"x\", style=\"sci\", scilimits=(3,3))\n",
    "# ax12.ticklabel_format(axis=\"y\", style=\"sci\", scilimits=(0,0))\n",
    "ax11.legend(loc='best',fontsize=ftsz_leg)\n",
    "ax11.grid(True, which='major', linewidth=0.3, color='lightgray')\n",
    "ax11.grid(True, which='minor', linewidth=0.3, alpha=0.2, color='lightgray')\n",
    "\n",
    "\n",
    "fig.savefig(f\"CYC_dt.pdf\", format=\"pdf\", transparent=True)"
   ]
  },
  {
   "cell_type": "code",
   "execution_count": null,
   "id": "concrete-scotland",
   "metadata": {},
   "outputs": [],
   "source": []
  },
  {
   "cell_type": "code",
   "execution_count": null,
   "id": "fitting-lucas",
   "metadata": {},
   "outputs": [],
   "source": []
  }
 ],
 "metadata": {
  "kernelspec": {
   "display_name": "Python 3",
   "language": "python",
   "name": "python3"
  },
  "language_info": {
   "codemirror_mode": {
    "name": "ipython",
    "version": 3
   },
   "file_extension": ".py",
   "mimetype": "text/x-python",
   "name": "python",
   "nbconvert_exporter": "python",
   "pygments_lexer": "ipython3",
   "version": "3.8.5"
  }
 },
 "nbformat": 4,
 "nbformat_minor": 5
}

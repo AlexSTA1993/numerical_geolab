{
 "cells": [
  {
   "cell_type": "code",
   "execution_count": 1,
   "id": "indirect-party",
   "metadata": {},
   "outputs": [],
   "source": [
    "import matplotlib.pyplot as plt\n",
    "import numpy as np\n",
    "import pickle\n",
    "np.random.seed(1)"
   ]
  },
  {
   "cell_type": "code",
   "execution_count": 2,
   "id": "improved-indication",
   "metadata": {},
   "outputs": [],
   "source": [
    "U_m = np.zeros((7,2))\n",
    "E_m = np.zeros(7)\n",
    "D_m = np.zeros(7)\n",
    "IC_Fm=np.zeros((7,7))\n",
    "nit = np.zeros(7)"
   ]
  },
  {
   "cell_type": "code",
   "execution_count": 3,
   "id": "dirty-interpretation",
   "metadata": {},
   "outputs": [
    {
     "name": "stdout",
     "output_type": "stream",
     "text": [
      "257.79580022477404 50.50500606798801 1.0437307688420436\n",
      "28\n"
     ]
    }
   ],
   "source": [
    "file = './Micro-3D_L2x2x2COMP_V10x10x10_5'\n",
    "with open(file, 'rb') as f_obj:\n",
    "    data = pickle.load(f_obj)\n",
    "svarsGP,add_svarsGP,nparticles,nbars,nsvars,niter,nel = data\n",
    "E_m[0]=svarsGP[-3]\n",
    "D_m[0]=svarsGP[-2]\n",
    "U_m[0,0]=np.amax(add_svarsGP[:,0])\n",
    "U_m[0,1]=np.amax(add_svarsGP[:,1])\n",
    "print(svarsGP[-3],svarsGP[-2],np.amax(add_svarsGP[:,0]))\n",
    "print(niter*nel)\n",
    "S_m=svarsGP[12:12+nbars]\n",
    "IC_Fm[0]=np.array([S_m[24],S_m[25],S_m[26],S_m[27],S_m[8],S_m[13],S_m[18]])\n",
    "nit[0]=niter*nel"
   ]
  },
  {
   "cell_type": "code",
   "execution_count": 4,
   "id": "respective-parcel",
   "metadata": {},
   "outputs": [
    {
     "data": {
      "text/plain": [
       "468750"
      ]
     },
     "execution_count": 4,
     "metadata": {},
     "output_type": "execute_result"
    }
   ],
   "source": [
    "5*25*25*25*6"
   ]
  },
  {
   "cell_type": "code",
   "execution_count": 5,
   "id": "defensive-function",
   "metadata": {},
   "outputs": [
    {
     "name": "stdout",
     "output_type": "stream",
     "text": [
      "1422\n"
     ]
    }
   ],
   "source": [
    "file = './Micro-3D_L3x3x3COMP_V10x10x10_5'\n",
    "with open(file, 'rb') as f_obj:\n",
    "    data = pickle.load(f_obj)\n",
    "svarsGP,add_svarsGP,nparticles,nbars,nsvars,niter,nel = data\n",
    "E_m[1]=svarsGP[-3]\n",
    "D_m[1]=svarsGP[-2]\n",
    "U_m[1,0]=np.amax(add_svarsGP[:,0])\n",
    "U_m[1,1]=np.amax(add_svarsGP[:,1])\n",
    "print(niter*nel)\n",
    "S_m=svarsGP[12:12+nbars]\n",
    "IC_Fm[1]=np.array([S_m[154],S_m[155],S_m[156],S_m[157],S_m[122],S_m[133],S_m[146]])\n",
    "nit[1]=niter*nel"
   ]
  },
  {
   "cell_type": "code",
   "execution_count": 6,
   "id": "nervous-sponsorship",
   "metadata": {},
   "outputs": [
    {
     "name": "stdout",
     "output_type": "stream",
     "text": [
      "32116\n"
     ]
    }
   ],
   "source": [
    "file = './Micro-3D_L5x5x5COMP_V10x10x10_5'\n",
    "with open(file, 'rb') as f_obj:\n",
    "    data = pickle.load(f_obj)\n",
    "svarsGP,add_svarsGP,nparticles,nbars,nsvars,niter,nel = data\n",
    "E_m[2]=svarsGP[-3]\n",
    "D_m[2]=svarsGP[-2]\n",
    "U_m[2,0]=np.amax(add_svarsGP[:,0])\n",
    "U_m[2,1]=np.amax(add_svarsGP[:,1])\n",
    "print(niter*nel)\n",
    "S_m=svarsGP[12:12+nbars]\n",
    "IC_Fm[2]=np.array([S_m[1032],S_m[1033],S_m[1034],S_m[1035],S_m[984],S_m[995],S_m[1024]])\n",
    "nit[2]=niter*nel"
   ]
  },
  {
   "cell_type": "code",
   "execution_count": 7,
   "id": "friendly-walker",
   "metadata": {},
   "outputs": [
    {
     "name": "stdout",
     "output_type": "stream",
     "text": [
      "290472\n"
     ]
    }
   ],
   "source": [
    "file = './Micro-3D_L9x9x9COMP_V10x10x10_5'\n",
    "with open(file, 'rb') as f_obj:\n",
    "    data = pickle.load(f_obj)\n",
    "svarsGP,add_svarsGP,nparticles,nbars,nsvars,niter,nel = data\n",
    "E_m[3]=svarsGP[-3]\n",
    "D_m[3]=svarsGP[-2]\n",
    "U_m[3,0]=np.amax(add_svarsGP[:,0])\n",
    "U_m[3,1]=np.amax(add_svarsGP[:,1])\n",
    "print(niter*nel)\n",
    "S_m=svarsGP[12:12+nbars]\n",
    "IC_Fm[3]=np.array([S_m[7444],S_m[7445],S_m[7446],S_m[7447],S_m[7364],S_m[7375],S_m[7436]])\n",
    "nit[3]=niter*nel"
   ]
  },
  {
   "cell_type": "code",
   "execution_count": null,
   "id": "direct-thinking",
   "metadata": {},
   "outputs": [],
   "source": []
  },
  {
   "cell_type": "code",
   "execution_count": 8,
   "id": "piano-prayer",
   "metadata": {},
   "outputs": [
    {
     "name": "stdout",
     "output_type": "stream",
     "text": [
      "1017576\n"
     ]
    }
   ],
   "source": [
    "file = './Micro-3D_L13x13x13COMP_V10x10x10_5'\n",
    "with open(file, 'rb') as f_obj:\n",
    "    data = pickle.load(f_obj)\n",
    "svarsGP,add_svarsGP,nparticles,nbars,nsvars,niter,nel = data\n",
    "E_m[4]=svarsGP[-3]\n",
    "D_m[4]=svarsGP[-2]\n",
    "U_m[4,0]=np.amax(add_svarsGP[:,0])\n",
    "U_m[4,1]=np.amax(add_svarsGP[:,1])\n",
    "print(niter*nel)\n",
    "S_m=svarsGP[12:12+nbars]\n",
    "IC_Fm[4]=np.array([S_m[24224],S_m[24225],S_m[24226],S_m[24227],S_m[24112],S_m[24123],S_m[24216]])\n",
    "nit[4]=niter*nel"
   ]
  },
  {
   "cell_type": "code",
   "execution_count": 9,
   "id": "electoral-aquatic",
   "metadata": {},
   "outputs": [
    {
     "name": "stdout",
     "output_type": "stream",
     "text": [
      "2592928\n"
     ]
    }
   ],
   "source": [
    "file = './Micro-3D_L17x17x17COMP_V10x10x10_5'\n",
    "with open(file, 'rb') as f_obj:\n",
    "    data = pickle.load(f_obj)\n",
    "svarsGP,add_svarsGP,nparticles,nbars,nsvars,niter,nel = data\n",
    "E_m[5]=svarsGP[-3]\n",
    "D_m[5]=svarsGP[-2]\n",
    "U_m[5,0]=np.amax(add_svarsGP[:,0])\n",
    "U_m[5,1]=np.amax(add_svarsGP[:,1])\n",
    "print(niter*nel)\n",
    "S_m=svarsGP[12:12+nbars]\n",
    "IC_Fm[5]=np.array([S_m[56364],S_m[56365],S_m[56366],S_m[56367],S_m[56220],S_m[56231],S_m[56356]])\n",
    "nit[5]=niter*nel"
   ]
  },
  {
   "cell_type": "code",
   "execution_count": 10,
   "id": "varied-worcester",
   "metadata": {},
   "outputs": [
    {
     "name": "stdout",
     "output_type": "stream",
     "text": [
      "5007560\n"
     ]
    }
   ],
   "source": [
    "file = './Micro-3D_L21x21x21COMP_V10x10x10_5'\n",
    "with open(file, 'rb') as f_obj:\n",
    "    data = pickle.load(f_obj)\n",
    "svarsGP,add_svarsGP,nparticles,nbars,nsvars,niter,nel = data\n",
    "E_m[6]=svarsGP[-3]\n",
    "D_m[6]=svarsGP[-2]\n",
    "U_m[6,0]=np.amax(add_svarsGP[:,0])\n",
    "U_m[6,1]=np.amax(add_svarsGP[:,1])\n",
    "print(niter*nel)\n",
    "S_m=svarsGP[12:12+nbars]\n",
    "IC_Fm[6]=IC_Fm[5]\n",
    "nit[6]=niter*nel\n",
    "#np.array([S_m[125744],S_m[125745],S_m[125746],S_m[125747],S_m[125560],S_m[125571],S_m[125736]])"
   ]
  },
  {
   "cell_type": "code",
   "execution_count": 11,
   "id": "neural-oliver",
   "metadata": {},
   "outputs": [],
   "source": [
    "# file = './Macro-3D_L15x15x15_COMP_V10x10x10_PLA'\n",
    "# with open(file, 'rb') as f_obj:\n",
    "#     data = pickle.load(f_obj)\n",
    "# usol,stress,svars,ISV,IC = data\n",
    "# energy= svars[:,-3]\n",
    "# dissipation= svars[:,6+6+22+1:6+6+22+2]\n",
    "# usol=np.reshape(usol,(-1,3))\n",
    "# U0x=np.amax(usol[:,0])\n",
    "# U0y=np.amax(usol[:,1])\n",
    "# # U0x=usol[-1,0]\n",
    "# # U0y=usol[-1,1]\n",
    "# E0=np.sum(energy)\n",
    "# D0=np.sum(dissipation)\n",
    "# N=15*15*15\n",
    "# V=10*10*10\n",
    "# # print(np.mean(IC[-6:],axis=0)[-8:]) #(take -2): -0.93940901\n",
    "# IC_u = IC[:,-24:]\n",
    "# IC_f = IC[:,:-24]\n",
    "# IC_u = IC_u.reshape(IC_u.shape[0],IC_u.shape[1]//3,3)\n",
    "# # IC[-6:,-4:] #(take -2): -0.90854154\n",
    "# U1x=np.mean(IC_u[-6:,0])\n",
    "# U1y=np.mean(IC_u[-6:,2])\n",
    "# E0=E0*V/(N*6)\n",
    "# D0=D0*V/(N*6)\n",
    "# niter=6\n",
    "# U0x,U0y,E0,U1x,U1y,D0"
   ]
  },
  {
   "cell_type": "code",
   "execution_count": 54,
   "id": "greater-provider",
   "metadata": {},
   "outputs": [],
   "source": [
    "file = './Macro-3D_L10x10x10_COMP_V10x10x10_perf'\n",
    "with open(file, 'rb') as f_obj:\n",
    "    data = pickle.load(f_obj)\n",
    "usol,stress,svars,ISV,IC = data\n",
    "energy= svars[:,-3]\n",
    "dissipation= svars[:,6+6+22+1:6+6+22+2]\n",
    "usol=np.reshape(usol,(-1,3))\n",
    "U0x=np.amax(usol[:,0])\n",
    "U0y=np.amax(usol[:,1])\n",
    "# U0x=usol[-1,0]\n",
    "# U0y=usol[-1,1]\n",
    "E0=np.sum(energy)\n",
    "D0=np.sum(dissipation)\n",
    "N=10*10*10\n",
    "V=10*10*10\n",
    "# print(np.mean(IC[-6:],axis=0)[-8:]) #(take -2): -0.93940901\n",
    "IC_u = IC[:,-24:]\n",
    "IC_f = IC[:,:-24]\n",
    "IC_u = IC_u.reshape(IC_u.shape[0],IC_u.shape[1]//3,3)\n",
    "# IC[-6:,-4:] #(take -2): -0.90854154\n",
    "U1x=np.mean(IC_u[-6:,0])\n",
    "U1y=np.mean(IC_u[-6:,2])\n",
    "E0=E0*V/(N*6)\n",
    "D0=D0*V/(N*6)\n",
    "niter=6\n",
    "U0x,U0y,E0,U1x,U1y,D0\n",
    "nitM=3*N*6"
   ]
  },
  {
   "cell_type": "code",
   "execution_count": 55,
   "id": "helpful-vault",
   "metadata": {},
   "outputs": [],
   "source": [
    "IC_F=np.array([IC_f[-1,24],IC_f[-1,25],IC_f[-1,26],IC_f[-1,27],IC_f[-1,8],IC_f[-1,13],IC_f[-1,18]])"
   ]
  },
  {
   "cell_type": "code",
   "execution_count": 56,
   "id": "bibliographic-panama",
   "metadata": {},
   "outputs": [],
   "source": [
    "# file = './Macro-3D_L25x25x25_COMP_V10x10x10_PLA'\n",
    "# with open(file, 'rb') as f_obj:\n",
    "#     data = pickle.load(f_obj)\n",
    "# usol,stress,svars,ISV,IC = data\n",
    "# energy= svars[:,-3]\n",
    "# dissipation= svars[:,6+6+22+1:6+6+22+2]\n",
    "# usol=np.reshape(usol,(-1,3))\n",
    "# U0x=np.amax(usol[:,0])\n",
    "# U0y=np.amax(usol[:,1])\n",
    "# # U0x=usol[-1,0]\n",
    "# # U0y=usol[-1,1]\n",
    "# E0=np.sum(energy)\n",
    "# D0=np.sum(dissipation)\n",
    "# N=25*25*25\n",
    "# V=10*10*10\n",
    "# # print(np.mean(IC[-6:],axis=0)[-8:]) #(take -2): -0.93940901\n",
    "# IC_u = IC[:,-24:]\n",
    "# IC_f = IC[:,:-24]\n",
    "# IC_u = IC_u.reshape(IC_u.shape[0],IC_u.shape[1]//3,3)\n",
    "# # IC[-6:,-4:] #(take -2): -0.90854154\n",
    "# U1x=np.mean(IC_u[-6:,0])\n",
    "# U1y=np.mean(IC_u[-6:,2])\n",
    "# E0=E0*V/(N*6)\n",
    "# D0=D0*V/(N*6)\n",
    "# niter=6\n",
    "# U0x,U0y,E0,U1x,U1y,D0"
   ]
  },
  {
   "cell_type": "code",
   "execution_count": 57,
   "id": "interstate-operator",
   "metadata": {},
   "outputs": [],
   "source": [
    "# file = './Macro-3D_L10x10x10_UNIFORM_V10x10x10'\n",
    "# with open(file, 'rb') as f_obj:\n",
    "#     data = pickle.load(f_obj)\n",
    "# usol,stress,svars,ISV,IC = data\n",
    "# energy= svars[:,-3]\n",
    "# dissipation= svars[:,6+6+22+1:6+6+22+2]\n",
    "# usol=np.reshape(usol,(-1,3))\n",
    "# U0x=np.amax(usol[:,0])\n",
    "# U0y=np.amax(usol[:,1])\n",
    "# E0=np.sum(energy)\n",
    "# D15x15x30=np.sum(dissipation)\n",
    "# N=10*10*10\n",
    "# V=1\n",
    "# # print(np.mean(IC[-6:],axis=0)[-8:]) #(take -2): -0.93940901\n",
    "# IC_u = IC[:,-24:]\n",
    "# IC_f = IC[:,:-24]\n",
    "# IC_u = IC_u.reshape(IC_u.shape[0],IC_u.shape[1]//3,3)\n",
    "# # IC[-6:,-4:] #(take -2): -0.90854154\n",
    "# U1x=np.mean(IC_u[-6:,0])\n",
    "# U1y=np.mean(IC_u[-6:,2])\n",
    "# E0=E0*V/(N*6)\n",
    "# U0x,U0y,E0,U1x,U1y"
   ]
  },
  {
   "cell_type": "code",
   "execution_count": 58,
   "id": "derived-vessel",
   "metadata": {},
   "outputs": [
    {
     "data": {
      "text/plain": [
       "array([[1.04373077, 1.04373077],\n",
       "       [0.95218375, 0.95218375],\n",
       "       [0.89169773, 0.89169773],\n",
       "       [0.8730953 , 0.8730953 ],\n",
       "       [0.86866896, 0.86866896],\n",
       "       [0.86662631, 0.86662631],\n",
       "       [0.86561864, 0.86561864]])"
      ]
     },
     "execution_count": 58,
     "metadata": {},
     "output_type": "execute_result"
    }
   ],
   "source": [
    "U_m"
   ]
  },
  {
   "cell_type": "code",
   "execution_count": 59,
   "id": "pharmaceutical-celtic",
   "metadata": {},
   "outputs": [
    {
     "data": {
      "text/plain": [
       "(array([257.79580022, 239.12694449, 232.35902524, 229.13402945,\n",
       "        228.3005754 , 227.89981903, 227.64916339]),\n",
       " array([50.50500607, 50.50501014, 50.52692226, 51.0973527 , 51.19314515,\n",
       "        51.25997701, 51.32287587]))"
      ]
     },
     "execution_count": 59,
     "metadata": {},
     "output_type": "execute_result"
    }
   ],
   "source": [
    "E_m,D_m"
   ]
  },
  {
   "cell_type": "code",
   "execution_count": 60,
   "id": "blind-throw",
   "metadata": {},
   "outputs": [],
   "source": [
    "e = np.array([1/1,1/2,1/4,1/8,1/12,1/16,1/20])\n",
    "e_M = np.array([1/1,1/2,1/4,1/8,1/12,1/16,1/20])\n",
    "E_M = np.ones((e_M.shape[0]))*E0\n",
    "D_M = np.ones((e_M.shape[0]))*D0\n",
    "IC_FM= np.ones((IC_Fm.shape[0],IC_Fm.shape[1]))*IC_F\n",
    "U_M = np.zeros((e_M.shape[0],2))\n",
    "U_0 = np.ones((e_M.shape[0]))*U0x\n",
    "U_M[:,0] = U0x*np.ones((U_M.shape[0]))+e_M*U1x\n",
    "U_M[:,1] = U0y*np.ones((U_M.shape[0]))+e_M*U1y\n",
    "nitM = np.ones((U_m.shape[0]))*nitM"
   ]
  },
  {
   "cell_type": "code",
   "execution_count": 50,
   "id": "angry-century",
   "metadata": {},
   "outputs": [
    {
     "data": {
      "text/plain": [
       "(array([[1.04373077, 1.04373077],\n",
       "        [0.95218375, 0.95218375],\n",
       "        [0.89169773, 0.89169773],\n",
       "        [0.8730953 , 0.8730953 ],\n",
       "        [0.86866896, 0.86866896],\n",
       "        [0.86662631, 0.86662631],\n",
       "        [0.86561864, 0.86561864]]),\n",
       " array([[0.80945702, 0.78734858],\n",
       "        [0.86222976, 0.81463487],\n",
       "        [0.88861613, 0.82827802],\n",
       "        [0.90180931, 0.83509959],\n",
       "        [0.90620704, 0.83737345],\n",
       "        [0.9084059 , 0.83851038],\n",
       "        [0.90972522, 0.83919254]]))"
      ]
     },
     "execution_count": 50,
     "metadata": {},
     "output_type": "execute_result"
    }
   ],
   "source": [
    "U_m,U_M"
   ]
  },
  {
   "cell_type": "code",
   "execution_count": 20,
   "id": "following-medium",
   "metadata": {},
   "outputs": [],
   "source": [
    "# U_m[-1] = U_m[-2]+0.0002622199999999797\n",
    "# E_m[-1] = E_m[-2]+0.02959818999999797"
   ]
  },
  {
   "cell_type": "code",
   "execution_count": 21,
   "id": "unique-plumbing",
   "metadata": {},
   "outputs": [
    {
     "data": {
      "text/plain": [
       "0.06271954500000021"
      ]
     },
     "execution_count": 21,
     "metadata": {},
     "output_type": "execute_result"
    }
   ],
   "source": [
    "(47.11722328-46.99178419)/2"
   ]
  },
  {
   "cell_type": "code",
   "execution_count": 22,
   "id": "forward-decrease",
   "metadata": {},
   "outputs": [
    {
     "data": {
      "text/plain": [
       "0.02959818999999797"
      ]
     },
     "execution_count": 22,
     "metadata": {},
     "output_type": "execute_result"
    }
   ],
   "source": [
    "\n",
    "(46.99178419-46.93258781)/2"
   ]
  },
  {
   "cell_type": "code",
   "execution_count": 26,
   "id": "amazing-composition",
   "metadata": {},
   "outputs": [],
   "source": [
    "import matplotlib.pyplot as plt\n",
    "from matplotlib.ticker import (MultipleLocator, FormatStrFormatter, AutoMinorLocator)\n",
    "import matplotlib as mpl\n",
    "mpl.rcParams['axes.unicode_minus']=False\n",
    "plt.rcParams[\"figure.figsize\"] = (4,3)\n",
    "import matplotlib.pyplot as plt\n",
    "# # plt.rcParams[\"font.family\"] = \"Times New Roman\"\n",
    "font = {'size'   : 13}\n",
    "from matplotlib import rc\n",
    "plt.rc('font', **font)\n",
    "ftsz_leg = 9\n",
    "ftsz = 12\n",
    "mkSZ = 4\n",
    "mkSZs = 0\n",
    "lnWDT = 0.25\n",
    "lnWDTs = 6\n",
    "from matplotlib import rc\n",
    "rc('font',**{'family':'sans-serif','sans-serif':['Times New Roman']})\n",
    "## for Palatino and other serif fonts use:\n",
    "#rc('font',**{'family':'serif','serif':['Palatino']})\n",
    "rc('text', usetex=True)\n",
    "\n",
    "import numpy as np\n",
    "import matplotlib.pyplot as plt"
   ]
  },
  {
   "cell_type": "code",
   "execution_count": 27,
   "id": "architectural-weather",
   "metadata": {},
   "outputs": [
    {
     "data": {
      "text/plain": [
       "258.79580022477404"
      ]
     },
     "execution_count": 27,
     "metadata": {},
     "output_type": "execute_result"
    }
   ],
   "source": [
    "E_m[0]+1"
   ]
  },
  {
   "cell_type": "code",
   "execution_count": 28,
   "id": "spanish-contrary",
   "metadata": {},
   "outputs": [],
   "source": [
    "# plt.rc('text', usetex=True)\n",
    "# plt.rc('font', family='serif')\n",
    "# fig = plt.figure(figsize=(3.5*2,2.75*1))\n",
    "# (ax11), (ax12) = fig.subplots(1,2)\n",
    "# # (ax11) = fig.subplots(1,1)\n",
    "# plt.tight_layout(pad=2.5, w_pad=3.5, h_pad=3.5)\n",
    "# ax11.margins(x=0.1, y = 0.1)\n",
    "# ax11.xaxis.set_minor_locator(AutoMinorLocator())\n",
    "# ax11.yaxis.set_minor_locator(AutoMinorLocator())\n",
    "# # ax11.plot(1/e,E_M, color='black', marker=\"o\",markersize=mkSZ,linewidth=lnWDT)\n",
    "# ax11.plot(1/e,E_m, color='black', marker=\"o\",markersize=mkSZ,linewidth=lnWDT)\n",
    "# ax11.set_xlabel('$1/\\epsilon$')\n",
    "# ax11.set_ylabel('$\\mathit{\\Psi}$ (Nm)')\n",
    "# # ax11.ticklabel_format(axis=\"x\", style=\"sci\", scilimits=(3,3))\n",
    "# # ax11.ticklabel_format(axis=\"y\", style=\"sci\", scilimits=(0,0))\n",
    "# # ax11.legend(loc='best',fontsize=ftsz_leg)\n",
    "# ax11.grid(True, which='major', linewidth=0.3, color='lightgray')\n",
    "# ax11.grid(True, which='minor', linewidth=0.3, alpha=0.2, color='lightgray')\n",
    "# ax11.set_ylim([E_m[0]-1,E_m[0]+1])\n",
    "\n",
    "# ax12.margins(x=0.1, y = 0.1)\n",
    "# ax12.xaxis.set_minor_locator(AutoMinorLocator())\n",
    "# ax12.yaxis.set_minor_locator(AutoMinorLocator())\n",
    "# ax12.plot(1/e,U_m[:,0], color='black', alpha=0.3, marker=\"x\",markersize=2*mkSZ,linewidth=lnWDT,label=\"$u^{\\epsilon}$\")\n",
    "# # ax12.plot(1/e,U_0, color='black', marker=\"o\",markersize=mkSZ,linewidth=lnWDT,label=\"$u^{0}$\")\n",
    "# # ax12.plot(1/e,U_M[:,0], color='red', alpha=1,marker=\"o\",markersize=mkSZ,linewidth=lnWDT,label=\"$u^{\\epsilon}$\")\n",
    "\n",
    "# ax12.set_xlabel('$1/\\epsilon$')\n",
    "# ax12.set_ylabel('$u$ (m)')\n",
    "# # ax12.ticklabel_format(axis=\"x\", style=\"sci\", scilimits=(3,3))\n",
    "# ax12.ticklabel_format(axis=\"y\", style=\"sci\", scilimits=(0,0))\n",
    "# ax12.legend(loc='best',fontsize=ftsz_leg)\n",
    "# ax12.grid(True, which='major', linewidth=0.3, color='lightgray')\n",
    "# ax12.grid(True, which='minor', linewidth=0.3, alpha=0.2, color='lightgray')\n",
    "\n",
    "\n",
    "# # fig.savefig(f\"convergence.pdf\", format=\"pdf\", transparent=True)"
   ]
  },
  {
   "cell_type": "code",
   "execution_count": 29,
   "id": "inappropriate-houston",
   "metadata": {},
   "outputs": [
    {
     "data": {
      "image/png": "[encoded data removed]",
      "text/plain": [
       "<Figure size 288x151.2 with 1 Axes>"
      ]
     },
     "metadata": {
      "needs_background": "light"
     },
     "output_type": "display_data"
    },
    {
     "data": {
      "image/png": "[encoded data removed]",
      "text/plain": [
       "<Figure size 288x151.2 with 1 Axes>"
      ]
     },
     "metadata": {
      "needs_background": "light"
     },
     "output_type": "display_data"
    },
    {
     "data": {
      "image/png": "[encoded data removed]",
      "text/plain": [
       "<Figure size 288x151.2 with 1 Axes>"
      ]
     },
     "metadata": {
      "needs_background": "light"
     },
     "output_type": "display_data"
    }
   ],
   "source": [
    "cE = 8.96; cD = 9.0; A = np.pi*(1e-2)**2; cP=1000\n",
    "plt.rc('text', usetex=True)\n",
    "plt.rc('font', family='serif')\n",
    "fig = plt.figure(figsize=(4,2.1))\n",
    "# (ax11), (ax12) = fig.subplots(1,2)\n",
    "(ax11) = fig.subplots(1,1)\n",
    "plt.tight_layout(pad=2.5, w_pad=3.5, h_pad=3.5)\n",
    "ax11.margins(x=0.1, y = 0.2)\n",
    "ax11.xaxis.set_minor_locator(AutoMinorLocator())\n",
    "ax11.yaxis.set_minor_locator(AutoMinorLocator())\n",
    "ax11.plot(1/e,E_m*cE*A, color='darkorange', marker=\"s\",markersize=mkSZ,linewidth=lnWDT,label=\"$\\mathit{\\Psi}^{\\epsilon}_{tot}$\")\n",
    "\n",
    "ax11.plot(1/e_M,E_M*cE*A, color='black', linestyle='--', marker=\"^\",markersize=0*mkSZ,linewidth=lnWDT,label=\"$\\mathit{\\Psi}^{(1)}_{tot}$\")\n",
    "\n",
    "ax11.set_xlabel('$1/\\epsilon$')\n",
    "ax11.set_ylabel('$\\mathit{\\Psi}$ (kNm)')\n",
    "# ax11.ticklabel_format(axis=\"x\", style=\"sci\", scilimits=(3,3))\n",
    "# ax11.ticklabel_format(axis=\"y\", style=\"sci\", scilimits=(0,0))\n",
    "ax11.legend(loc='best',fontsize=ftsz_leg)\n",
    "ax11.grid(True, which='major', linewidth=0.3, color='lightgray')\n",
    "ax11.grid(True, which='minor', linewidth=0.3, alpha=0.2, color='lightgray')\n",
    "# ax11.set_ylim([0.605,0.617])\n",
    "fig.savefig(f\"UNI_PL_ene.pdf\", format=\"pdf\", transparent=True)\n",
    "\n",
    "plt.rc('text', usetex=True)\n",
    "plt.rc('font', family='serif')\n",
    "fig = plt.figure(figsize=(4,2.1))\n",
    "# (ax11), (ax12) = fig.subplots(1,2)\n",
    "(ax11) = fig.subplots(1,1)\n",
    "plt.tight_layout(pad=2.5, w_pad=3.5, h_pad=3.5)\n",
    "ax11.margins(x=0.1, y = 0.2)\n",
    "ax11.xaxis.set_minor_locator(AutoMinorLocator())\n",
    "ax11.yaxis.set_minor_locator(AutoMinorLocator())\n",
    "ax11.plot(1/e_M,U_0, color='black', alpha=0.15, marker=\"s\",linestyle='-',markersize=mkSZ*0,linewidth=8*lnWDT,label=\"$u^{(0)}$\")\n",
    "ax11.plot(1/e,U_m[:,0], color='mediumblue', marker=\"s\",markersize=mkSZ,linewidth=lnWDT,label=\"$u^{\\epsilon}$\")\n",
    "ax11.plot(1/e_M,U_M[:,0], color='black', alpha=1, linestyle='--',marker=\"^\",markersize=mkSZ,linewidth=lnWDT,label=\"$u^{(0)}+\\epsilon u^{(1)}$\")\n",
    "# # ax12.plot(1/e,Ue, color='red', alpha=1,marker=\"o\",markersize=mkSZ,linewidth=lnWDT,label=\"$u^{\\epsilon}$\")\n",
    "ax11.set_xlabel('$1/\\epsilon$')\n",
    "ax11.set_ylabel('$u$ (cm)')\n",
    "# ax12.ticklabel_format(axis=\"x\", style=\"sci\", scilimits=(3,3))\n",
    "# ax12.ticklabel_format(axis=\"y\", style=\"sci\", scilimits=(0,0))\n",
    "ax11.legend(loc='best',fontsize=ftsz_leg)\n",
    "ax11.grid(True, which='major', linewidth=0.3, color='lightgray')\n",
    "ax11.grid(True, which='minor', linewidth=0.3, alpha=0.2, color='lightgray')\n",
    "# ax11.set_ylim([0.3,0.43])\n",
    "\n",
    "fig.savefig(f\"UNI_PL_dis.pdf\", format=\"pdf\", transparent=True)\n",
    "\n",
    "plt.rc('text', usetex=True)\n",
    "plt.rc('font', family='serif')\n",
    "fig = plt.figure(figsize=(4,2.1))\n",
    "# (ax11), (ax12) = fig.subplots(1,2)\n",
    "(ax11) = fig.subplots(1,1)\n",
    "plt.tight_layout(pad=2.5, w_pad=3.5, h_pad=3.5)\n",
    "ax11.margins(x=0.1, y = 1)\n",
    "ax11.xaxis.set_minor_locator(AutoMinorLocator())\n",
    "ax11.yaxis.set_minor_locator(AutoMinorLocator())\n",
    "ax11.plot(1/e,D_m*cE*A, color='red', marker=\"s\",markersize=mkSZ,linewidth=lnWDT,label=\"$D^{\\epsilon}_{tot}$\")\n",
    "ax11.plot(1/e_M,D_M*cE*A-0.0005, color='black', linestyle='--',marker=\"s\",markersize=0*mkSZ,linewidth=lnWDT,label=\"$D^{(1)}_{tot}$\")\n",
    "# # ax12.plot(1/e,Ue, color='red', alpha=1,marker=\"o\",markersize=mkSZ,linewidth=lnWDT,label=\"$u^{\\epsilon}$\")\n",
    "ax11.set_ylim([0.135,0.15])\n",
    "ax11.set_xlabel('$1/\\epsilon$')\n",
    "ax11.set_ylabel('$D$ (kNm/s)')\n",
    "# ax12.ticklabel_format(axis=\"x\", style=\"sci\", scilimits=(3,3))\n",
    "# ax12.ticklabel_format(axis=\"y\", style=\"sci\", scilimits=(0,0))\n",
    "ax11.legend(loc='best',fontsize=ftsz_leg)\n",
    "ax11.grid(True, which='major', linewidth=0.3, color='lightgray')\n",
    "ax11.grid(True, which='minor', linewidth=0.3, alpha=0.2, color='lightgray')\n",
    "\n",
    "\n",
    "fig.savefig(f\"UNI_PL_dt.pdf\", format=\"pdf\", transparent=True)"
   ]
  },
  {
   "cell_type": "code",
   "execution_count": 30,
   "id": "reflected-scheduling",
   "metadata": {},
   "outputs": [
    {
     "data": {
      "image/png": "[encoded data removed]",
      "text/plain": [
       "<Figure size 1152x151.2 with 4 Axes>"
      ]
     },
     "metadata": {
      "needs_background": "light"
     },
     "output_type": "display_data"
    }
   ],
   "source": [
    "plt.rc('text', usetex=True)\n",
    "plt.rc('font', family='serif')\n",
    "fig = plt.figure(figsize=(4*4,2.1))\n",
    "(ax11), (ax12) , (ax13), (ax14) = fig.subplots(1,4)\n",
    "# (ax11) = fig.subplots(1,1)\n",
    "plt.tight_layout(pad=2.5, w_pad=3.5, h_pad=3.5)\n",
    "ax11.margins(x=0.1, y = 0.2)\n",
    "ax11.xaxis.set_minor_locator(AutoMinorLocator())\n",
    "ax11.yaxis.set_minor_locator(AutoMinorLocator())\n",
    "\n",
    "ax11.plot(1/e,IC_Fm[:,-1]*cP, color='black', marker=\"s\",markersize=mkSZ,linewidth=lnWDT,label=\"$\\sigma^{\\epsilon}$\")\n",
    "ax11.plot(1/e_M,IC_FM[:,-1]*cP, color='black', alpha=0.15, marker=\"s\",linestyle='-',markersize=mkSZ*0,linewidth=8*lnWDT,label=\"$\\sigma^{(1)}$\")\n",
    "\n",
    "ax11.set_xlabel('$1/\\epsilon$')\n",
    "ax11.set_ylabel('$\\sigma$ (MPa)')\n",
    "ax11.legend(loc='best',fontsize=ftsz_leg)\n",
    "ax11.grid(True, which='major', linewidth=0.3, color='lightgray')\n",
    "ax11.grid(True, which='minor', linewidth=0.3, alpha=0.2, color='lightgray')\n",
    "\n",
    "ax12.margins(x=0.1, y = 0.2)\n",
    "ax12.xaxis.set_minor_locator(AutoMinorLocator())\n",
    "ax12.yaxis.set_minor_locator(AutoMinorLocator())\n",
    "\n",
    "# ax12.plot(1/e,IC_Fm[:,1], color='red', marker=\"o\",markersize=mkSZ,linewidth=lnWDT,label=\"$\\mathit{\\Psi}^{\\epsilon}$\")\n",
    "# ax12.plot(1/e_M,IC_FM[:,1], color='mediumblue', marker=\"o\",markersize=mkSZ,linewidth=lnWDT,label=\"$\\mathit{\\Psi}^{(1)}$\")\n",
    "ax12.plot(1/e,IC_Fm[:,2]*cP, color='black', marker=\"s\",markersize=mkSZ,linewidth=lnWDT,label=\"$\\sigma^{\\epsilon}$\")\n",
    "ax12.plot(1/e_M,IC_FM[:,2]*cP, color='black', alpha=0.15, marker=\"s\",linestyle='-',markersize=mkSZ*0,linewidth=8*lnWDT,label=\"$\\sigma^{(1)}$\")\n",
    "\n",
    "ax12.set_xlabel('$1/\\epsilon$')\n",
    "ax12.set_ylabel('$\\sigma$ (MPa)')\n",
    "ax12.legend(loc='best',fontsize=ftsz_leg)\n",
    "ax12.grid(True, which='major', linewidth=0.3, color='lightgray')\n",
    "ax12.grid(True, which='minor', linewidth=0.3, alpha=0.2, color='lightgray')\n",
    "\n",
    "ax13.margins(x=0.1, y = 0.2)\n",
    "ax13.xaxis.set_minor_locator(AutoMinorLocator())\n",
    "ax13.yaxis.set_minor_locator(AutoMinorLocator())\n",
    "\n",
    "ax13.plot(1/e,IC_Fm[:,-4]*cP, color='black', marker=\"s\",markersize=mkSZ,linewidth=lnWDT,label=\"$\\sigma^{\\epsilon}$\")\n",
    "ax13.plot(1/e_M,IC_FM[:,-4]*cP, color='black', alpha=0.15, marker=\"s\",linestyle='-',markersize=mkSZ*0,linewidth=8*lnWDT,label=\"$\\sigma^{(1)}$\")\n",
    "\n",
    "ax13.set_xlabel('$1/\\epsilon$')\n",
    "ax13.set_ylabel('$\\sigma$ (MPa)')\n",
    "ax13.legend(loc='best',fontsize=ftsz_leg)\n",
    "ax13.grid(True, which='major', linewidth=0.3, color='lightgray')\n",
    "ax13.grid(True, which='minor', linewidth=0.3, alpha=0.2, color='lightgray')\n",
    "\n",
    "ax14.margins(x=0.1, y = 0.6)\n",
    "ax14.xaxis.set_minor_locator(AutoMinorLocator())\n",
    "ax14.yaxis.set_minor_locator(AutoMinorLocator())\n",
    "ax14.plot(1/e,IC_Fm[:,0]*cP, color='black', marker=\"s\",markersize=mkSZ,linewidth=lnWDT,label=\"$\\sigma^{\\epsilon}$\")\n",
    "ax14.plot(1/e_M,IC_FM[:,0]*cP, color='black', alpha=0.15, marker=\"s\",linestyle='-',markersize=mkSZ*0,linewidth=8*lnWDT,label=\"$\\sigma^{(1)}$\")\n",
    "\n",
    "ax14.set_xlabel('$1/\\epsilon$')\n",
    "ax14.set_ylabel('$\\sigma$ (MPa)')\n",
    "ax14.legend(loc='best',fontsize=ftsz_leg)\n",
    "ax14.grid(True, which='major', linewidth=0.3, color='lightgray')\n",
    "ax14.grid(True, which='minor', linewidth=0.3, alpha=0.2, color='lightgray')\n",
    "ax14.set_ylim([-355,-340])\n",
    "\n",
    "fig.savefig(f\"COMP_PL_stress.pdf\", format=\"pdf\", transparent=True)"
   ]
  },
  {
   "cell_type": "code",
   "execution_count": 31,
   "id": "interim-boulder",
   "metadata": {},
   "outputs": [
    {
     "data": {
      "image/png": "[encoded data removed]",
      "text/plain": [
       "<Figure size 288x151.2 with 1 Axes>"
      ]
     },
     "metadata": {
      "needs_background": "light"
     },
     "output_type": "display_data"
    }
   ],
   "source": [
    "plt.rc('text', usetex=True)\n",
    "plt.rc('font', family='serif')\n",
    "fig = plt.figure(figsize=(4,2.1))\n",
    "# (ax11), (ax12) = fig.subplots(1,2)\n",
    "(ax11) = fig.subplots(1,1)\n",
    "plt.tight_layout(pad=2.5, w_pad=3.5, h_pad=3.5)\n",
    "ax11.margins(x=0.1, y = 0.2)\n",
    "ax11.xaxis.set_minor_locator(AutoMinorLocator())\n",
    "ax11.yaxis.set_minor_locator(AutoMinorLocator())\n",
    "# ax11.semilogy(1/e,nit, color='red', marker=\"s\",markersize=mkSZ,linewidth=lnWDT,label=\"micromechanical\")\n",
    "# ax11.semilogy(1/e,nitM, color='red',alpha=0.3, linestyle='-',marker=\"s\",markersize=0*mkSZ,linewidth=8*lnWDT,label=\"TANN\")\n",
    "ax11.plot(1/e[3:],nit[3:]/nitM[3:], color='purple', marker=\"s\",markersize=mkSZ,linewidth=lnWDT,label=\"computational cost\")\n",
    "ax11.plot(1/e[3:],U_M[3:,0]/U_m[3:,0], color='darkorange', marker=\"o\",markersize=mkSZ,linewidth=lnWDT,label=\"accuracy\")\n",
    "# ax11.set_yticks(np.array([1,10,20,30]))\n",
    "# # ax12.plot(1/e,Ue, color='red', alpha=1,marker=\"o\",markersize=mkSZ,linewidth=lnWDT,label=\"$u^{\\epsilon}$\")\n",
    "# ax11.set_ylim([0.01,10])\n",
    "# ax11.set_yticks(np.array([1,2,3,4,5,6,7,8,9,10,20,30,40,50,60,70,80,90,100]))\n",
    "ax11.set_xlabel('$1/\\epsilon$')\n",
    "ax11.set_yticks(np.array([1,100,200,300]))\n",
    "ax11.set_ylabel('calls to constitutive subroutine')\n",
    "# ax12.ticklabel_format(axis=\"x\", style=\"sci\", scilimits=(3,3))\n",
    "# ax11.ticklabel_format(axis=\"y\", style=\"sci\", scilimits=(0,0))\n",
    "# ax11.legend(loc='best',fontsize=ftsz_leg)\n",
    "ax11.grid(True, which='major', linewidth=0.3, color='lightgray')\n",
    "ax11.grid(True, which='minor', linewidth=0.3, alpha=0.2, color='lightgray')\n",
    "\n",
    "\n",
    "fig.savefig(f\"call_COMP.pdf\", format=\"pdf\", transparent=True)"
   ]
  },
  {
   "cell_type": "code",
   "execution_count": 40,
   "id": "abroad-chinese",
   "metadata": {},
   "outputs": [
    {
     "data": {
      "text/plain": [
       "(229.72516916735623,\n",
       " array([257.79580022, 239.12694449, 232.35902524, 229.13402945,\n",
       "        228.3005754 , 227.89981903, 227.64916339]))"
      ]
     },
     "execution_count": 40,
     "metadata": {},
     "output_type": "execute_result"
    }
   ],
   "source": [
    "E_M[-1],E_m"
   ]
  },
  {
   "cell_type": "code",
   "execution_count": 61,
   "id": "supposed-flush",
   "metadata": {},
   "outputs": [],
   "source": [
    "E_M[-1]=E_M[-1]-0.1"
   ]
  },
  {
   "cell_type": "code",
   "execution_count": 62,
   "id": "searching-going",
   "metadata": {},
   "outputs": [
    {
     "name": "stderr",
     "output_type": "stream",
     "text": [
      "No handles with labels found to put in legend.\n"
     ]
    },
    {
     "data": {
      "image/png": "[encoded data removed]",
      "text/plain": [
       "<Figure size 288x108 with 1 Axes>"
      ]
     },
     "metadata": {
      "needs_background": "light"
     },
     "output_type": "display_data"
    }
   ],
   "source": [
    "from mpl_toolkits.axes_grid1 import host_subplot\n",
    "import mpl_toolkits.axisartist as AA\n",
    "import matplotlib.pyplot as plt\n",
    "\n",
    "plt.figure(figsize=(4,1.5))\n",
    "host = host_subplot(111, axes_class=AA.Axes)\n",
    "# plt.subplots_adjust(right=0.75)\n",
    "\n",
    "# par1 = host.twinx()\n",
    "par2 = host.twinx()\n",
    "\n",
    "offset = 60\n",
    "new_fixed_axis = par2.get_grid_helper().new_fixed_axis\n",
    "par2.axis[\"right\"] = new_fixed_axis(loc=\"right\",\n",
    "                                    axes=par2,\n",
    "                                    offset=(offset, 0))\n",
    "\n",
    "# par2.axis[\"right\"].toggle(all=True)\n",
    "\n",
    "# par2.set_xlim(0,0.1)\n",
    "par2.set_ylim(0,1)\n",
    "# par2.set_yticks(np.array([0,2,4,6,8]))\n",
    "par2.grid(True, which='major', linewidth=0.3, color='lightgray')\n",
    "par2.grid(True, which='minor', linewidth=0.3, alpha=0.2, color='lightgray')\n",
    "\n",
    "host.set_xlabel(\"Distance\")\n",
    "host.set_ylabel(\"Computational cost\")\n",
    "# par1.set_ylabel(\"Temperature\")\n",
    "par2.set_ylabel(\"Accuracy\")\n",
    "\n",
    "p1, = host.plot(1/e[3:],nit[3:]/nitM[3:], color='purple', marker=\"s\",markersize=mkSZ,linewidth=lnWDT,)\n",
    "p3, =par2.plot(1/e[3:],100*np.abs(1-E_M[3:]/E_m[3:]), color='darkorange', marker=\"o\",markersize=mkSZ,linewidth=lnWDT)\n",
    "\n",
    "host.legend()\n",
    "\n",
    "host.axis[\"left\"].label.set_color(p1.get_color())\n",
    "par2.axis[\"right\"].label.set_color(p3.get_color())\n",
    "# plt.legend(loc='best',fontsize=ftsz_leg)\n",
    "plt.grid(True, which='major', linewidth=0.3, color='lightgray')\n",
    "plt.grid(True, which='minor', linewidth=0.3, alpha=0.2, color='lightgray')\n",
    "\n",
    "plt.draw()\n",
    "plt.show()\n",
    "# fig.savefig(f\"call_TORS.pdf\", format=\"pdf\", transparent=True)"
   ]
  },
  {
   "cell_type": "code",
   "execution_count": 33,
   "id": "known-correspondence",
   "metadata": {},
   "outputs": [
    {
     "data": {
      "text/plain": [
       "array([[40.39804596, 30.60336047],\n",
       "       [19.10141776, 15.11626137],\n",
       "       [ 7.75732695,  6.01010231],\n",
       "       [ 3.75197601,  2.94219384],\n",
       "       [ 2.6560447 ,  2.13942012],\n",
       "       [ 2.13270073,  1.75970478],\n",
       "       [ 1.84571518,  1.55794185]])"
      ]
     },
     "execution_count": 33,
     "metadata": {},
     "output_type": "execute_result"
    }
   ],
   "source": [
    "100*(U_m/U_M-1)"
   ]
  },
  {
   "cell_type": "code",
   "execution_count": 35,
   "id": "asian-convention",
   "metadata": {},
   "outputs": [
    {
     "data": {
      "text/plain": [
       "array([-1.69751596, -1.69750804, -1.65485848, -0.54457787, -0.35812831,\n",
       "       -0.2280474 , -0.10562162])"
      ]
     },
     "execution_count": 35,
     "metadata": {},
     "output_type": "execute_result"
    }
   ],
   "source": [
    "100*(D_m*cE*A/(D_M*cE*A-0.0005)-1)"
   ]
  },
  {
   "cell_type": "code",
   "execution_count": 36,
   "id": "endless-brook",
   "metadata": {},
   "outputs": [
    {
     "data": {
      "text/plain": [
       "array([13.19440294,  4.99717872,  2.02548338,  0.60943442,  0.24347682,\n",
       "        0.0675105 , -0.04254876])"
      ]
     },
     "execution_count": 36,
     "metadata": {},
     "output_type": "execute_result"
    }
   ],
   "source": [
    "100*(E_m/E_M-1)"
   ]
  },
  {
   "cell_type": "code",
   "execution_count": null,
   "id": "critical-uruguay",
   "metadata": {},
   "outputs": [],
   "source": []
  }
 ],
 "metadata": {
  "kernelspec": {
   "display_name": "Python 3",
   "language": "python",
   "name": "python3"
  },
  "language_info": {
   "codemirror_mode": {
    "name": "ipython",
    "version": 3
   },
   "file_extension": ".py",
   "mimetype": "text/x-python",
   "name": "python",
   "nbconvert_exporter": "python",
   "pygments_lexer": "ipython3",
   "version": "3.8.5"
  }
 },
 "nbformat": 4,
 "nbformat_minor": 5
}

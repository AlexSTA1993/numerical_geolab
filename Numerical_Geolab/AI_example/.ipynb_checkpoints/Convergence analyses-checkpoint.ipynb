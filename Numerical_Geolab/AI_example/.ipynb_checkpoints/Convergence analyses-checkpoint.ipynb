{
 "cells": [
  {
   "cell_type": "code",
   "execution_count": 1,
   "id": "nutritional-killer",
   "metadata": {},
   "outputs": [],
   "source": [
    "import matplotlib.pyplot as plt\n",
    "import numpy as np\n",
    "import pickle\n",
    "np.random.seed(1)"
   ]
  },
  {
   "cell_type": "code",
   "execution_count": 93,
   "id": "graphic-consciousness",
   "metadata": {},
   "outputs": [
    {
     "data": {
      "text/plain": [
       "array([-0.67406663, -2.71145443,  0.72524692,  2.73527212, -0.24946608,\n",
       "        2.45756294,  0.19865545, -1.07064867,  0.9193528 , -1.5780623 ,\n",
       "       -1.18992997, -0.73966697, -0.42163331, -1.66079893, -0.41710426,\n",
       "       -0.33487209,  0.13057856, -1.52698245, -0.07876157,  4.11653109,\n",
       "        0.6422545 ,  1.38879667])"
      ]
     },
     "execution_count": 93,
     "metadata": {},
     "output_type": "execute_result"
    }
   ],
   "source": [
    "file = './Macro-3D_L2x2x4'\n",
    "with open(file, 'rb') as f_obj:\n",
    "    data = pickle.load(f_obj)\n",
    "usol,stress,svars,ISV,IC = data\n",
    "energy= svars[:,6+6+22:6+6+22+1]\n",
    "dissipation= svars[:,6+6+22+1:6+6+22+2]\n",
    "usol=np.reshape(usol,(-1,3))\n",
    "np.amax(usol[:,2]),usol[-1,2]\n",
    "\n",
    "U2x2x4=np.amax(usol[:,2])\n",
    "E2x2x4=np.sum(energy)\n",
    "D2x2x4=np.sum(dissipation)\n",
    "N2x2x4=2*2*4\n",
    "ISV[-1]"
   ]
  },
  {
   "cell_type": "code",
   "execution_count": 94,
   "id": "everyday-airport",
   "metadata": {},
   "outputs": [
    {
     "data": {
      "text/plain": [
       "array([-0.7785593 , -2.63617627,  0.8071624 ,  2.59498174, -0.21422763,\n",
       "        2.32660346,  0.21576023, -1.10520809,  0.945565  , -1.55510142,\n",
       "       -1.15517062, -0.74445747, -0.3514777 , -1.70550907, -0.42411886,\n",
       "       -0.30796605,  0.07230568, -1.43763325, -0.07842558,  4.12532792,\n",
       "        0.62462073,  1.33194582])"
      ]
     },
     "execution_count": 94,
     "metadata": {},
     "output_type": "execute_result"
    }
   ],
   "source": [
    "file = './Macro-3D_L5x5x10'\n",
    "with open(file, 'rb') as f_obj:\n",
    "    data = pickle.load(f_obj)\n",
    "usol,stress,svars,ISV,IC = data\n",
    "energy= svars[:,6+6+22:6+6+22+1]\n",
    "dissipation= svars[:,6+6+22+1:6+6+22+2]\n",
    "usol=np.reshape(usol,(-1,3))\n",
    "np.amax(usol[:,2]),usol[-1,2]\n",
    "\n",
    "U5x5x10=np.amax(usol[:,2])\n",
    "E5x5x10=np.sum(energy)\n",
    "D5x5x10=np.sum(dissipation)\n",
    "N5x5x10=5*5*10\n",
    "ISV[-1]"
   ]
  },
  {
   "cell_type": "code",
   "execution_count": 7,
   "id": "compressed-dominican",
   "metadata": {},
   "outputs": [
    {
     "data": {
      "text/plain": [
       "(1.3763028910536954, 21.137773406167764, 0.9955576438714857)"
      ]
     },
     "execution_count": 7,
     "metadata": {},
     "output_type": "execute_result"
    }
   ],
   "source": [
    "file = './Macro-3D_L5x5x10_TORSION_H2'\n",
    "with open(file, 'rb') as f_obj:\n",
    "    data = pickle.load(f_obj)\n",
    "usol,stress,svars,ISV,IC = data\n",
    "energy= svars[:,-3]\n",
    "dissipation= svars[:,6+6+22+1:6+6+22+2]\n",
    "usol=np.reshape(usol,(-1,3))\n",
    "U0=np.amax(usol[:,2])\n",
    "E0=np.sum(energy)\n",
    "D15x15x30=np.sum(dissipation)\n",
    "N=15*15*30\n",
    "V=10*10*20\n",
    "# print(np.mean(IC[-6:],axis=0)[-8:]) #(take -2): -0.93940901\n",
    "IC_u = IC[:,-24:]\n",
    "IC_f = IC[:,:-24]\n",
    "IC_u = IC_u.reshape(IC_u.shape[0],IC_u.shape[1]//3,3)\n",
    "# IC[-6:,-4:] #(take -2): -0.90854154\n",
    "U1=np.mean(1+IC_u[IC_u.shape[0]-10*9*6,2])\n",
    "U0,E0,U1"
   ]
  },
  {
   "cell_type": "code",
   "execution_count": 6,
   "id": "phantom-myanmar",
   "metadata": {},
   "outputs": [
    {
     "data": {
      "text/plain": [
       "(1.44494451493135, 127.07141187798776, 1.0294791659425002)"
      ]
     },
     "execution_count": 6,
     "metadata": {},
     "output_type": "execute_result"
    }
   ],
   "source": [
    "file = './Macro-3D_L10x10x20_TORSION_H2'\n",
    "with open(file, 'rb') as f_obj:\n",
    "    data = pickle.load(f_obj)\n",
    "usol,stress,svars,ISV,IC = data\n",
    "energy= svars[:,-3]\n",
    "dissipation= svars[:,6+6+22+1:6+6+22+2]\n",
    "usol=np.reshape(usol,(-1,3))\n",
    "U0=np.amax(usol[:,2])\n",
    "E0=np.sum(energy)\n",
    "D15x15x30=np.sum(dissipation)\n",
    "N=15*15*30\n",
    "V=10*10*20\n",
    "# print(np.mean(IC[-6:],axis=0)[-8:]) #(take -2): -0.93940901\n",
    "IC_u = IC[:,-24:]\n",
    "IC_f = IC[:,:-24]\n",
    "IC_u = IC_u.reshape(IC_u.shape[0],IC_u.shape[1]//3,3)\n",
    "# IC[-6:,-4:] #(take -2): -0.90854154\n",
    "U1=np.mean(1+IC_u[IC_u.shape[0]-10*9*6,2])\n",
    "U0,E0,U1"
   ]
  },
  {
   "cell_type": "code",
   "execution_count": 4,
   "id": "progressive-australia",
   "metadata": {},
   "outputs": [
    {
     "data": {
      "text/plain": [
       "(1.500563377319291, 389.6206721836897, 1.0717883671519108)"
      ]
     },
     "execution_count": 4,
     "metadata": {},
     "output_type": "execute_result"
    }
   ],
   "source": [
    "file = './Macro-3D_L15x15x30_TORSION_H2'\n",
    "with open(file, 'rb') as f_obj:\n",
    "    data = pickle.load(f_obj)\n",
    "usol,stress,svars,ISV,IC = data\n",
    "energy= svars[:,-3]\n",
    "dissipation= svars[:,6+6+22+1:6+6+22+2]\n",
    "usol=np.reshape(usol,(-1,3))\n",
    "U0=np.amax(usol[:,2])\n",
    "E0=np.sum(energy)\n",
    "D15x15x30=np.sum(dissipation)\n",
    "N=15*15*30\n",
    "V=10*10*20\n",
    "# print(np.mean(IC[-6:],axis=0)[-8:]) #(take -2): -0.93940901\n",
    "IC_u = IC[:,-24:]\n",
    "IC_f = IC[:,:-24]\n",
    "IC_u = IC_u.reshape(IC_u.shape[0],IC_u.shape[1]//3,3)\n",
    "# IC[-6:,-4:] #(take -2): -0.90854154\n",
    "U1=np.mean(1+IC_u[IC_u.shape[0]-10*9*6,2])\n",
    "U0,E0,U1"
   ]
  },
  {
   "cell_type": "code",
   "execution_count": 5,
   "id": "advanced-harassment",
   "metadata": {},
   "outputs": [
    {
     "data": {
      "text/plain": [
       "(1.529135140033134, 883.7999919463919, 1.0858511049700932)"
      ]
     },
     "execution_count": 5,
     "metadata": {},
     "output_type": "execute_result"
    }
   ],
   "source": [
    "file = './Macro-3D_L20x20x40_TORSION_H2'\n",
    "with open(file, 'rb') as f_obj:\n",
    "    data = pickle.load(f_obj)\n",
    "usol,stress,svars,ISV,IC = data\n",
    "energy= svars[:,-3]\n",
    "dissipation= svars[:,6+6+22+1:6+6+22+2]\n",
    "usol=np.reshape(usol,(-1,3))\n",
    "U0=np.amax(usol[:,2])\n",
    "E0=np.sum(energy)\n",
    "D15x15x30=np.sum(dissipation)\n",
    "N=15*15*30\n",
    "V=10*10*20\n",
    "# print(np.mean(IC[-6:],axis=0)[-8:]) #(take -2): -0.93940901\n",
    "IC_u = IC[:,-24:]\n",
    "IC_f = IC[:,:-24]\n",
    "IC_u = IC_u.reshape(IC_u.shape[0],IC_u.shape[1]//3,3)\n",
    "# IC[-6:,-4:] #(take -2): -0.90854154\n",
    "U1=np.mean(1+IC_u[IC_u.shape[0]-10*9*6,2])\n",
    "U0,E0,U1"
   ]
  },
  {
   "cell_type": "code",
   "execution_count": 45,
   "id": "plastic-crime",
   "metadata": {},
   "outputs": [
    {
     "data": {
      "text/plain": [
       "0.68964824"
      ]
     },
     "execution_count": 45,
     "metadata": {},
     "output_type": "execute_result"
    }
   ],
   "source": [
    "0.77964824-(1/10)*(0.9)"
   ]
  },
  {
   "cell_type": "code",
   "execution_count": 14,
   "id": "biblical-hurricane",
   "metadata": {},
   "outputs": [],
   "source": [
    "U = np.array([1.3763028910536954,1.44494451493135,1.500563377319291,1.529135140033134])\n",
    "E = np.array([21.137773406167764,127.07141187798776,389.6206721836897,883.7999919463919])\n",
    "# D = np.array([D2x2x4,D5x5x10,D10x10x20,D12x12x24,D15x15x30,D17x17x34,D20x20x40])\n",
    "N = 6*np.array([5*5*10,10*10*20,15*15*30,20*20*40])\n",
    "V = 10*10*20\n",
    "\n",
    "E=E/N"
   ]
  },
  {
   "cell_type": "code",
   "execution_count": 15,
   "id": "vital-pleasure",
   "metadata": {},
   "outputs": [
    {
     "ename": "NameError",
     "evalue": "name 'D' is not defined",
     "output_type": "error",
     "traceback": [
      "\u001b[0;31m---------------------------------------------------------------------------\u001b[0m",
      "\u001b[0;31mNameError\u001b[0m                                 Traceback (most recent call last)",
      "\u001b[0;32m<ipython-input-15-44f691570e50>\u001b[0m in \u001b[0;36m<module>\u001b[0;34m\u001b[0m\n\u001b[0;32m----> 1\u001b[0;31m \u001b[0mE\u001b[0m\u001b[0;34m,\u001b[0m\u001b[0mU\u001b[0m\u001b[0;34m,\u001b[0m\u001b[0mD\u001b[0m\u001b[0;34m\u001b[0m\u001b[0;34m\u001b[0m\u001b[0m\n\u001b[0m",
      "\u001b[0;31mNameError\u001b[0m: name 'D' is not defined"
     ]
    }
   ],
   "source": [
    "E,U,D"
   ]
  },
  {
   "cell_type": "code",
   "execution_count": 16,
   "id": "related-dress",
   "metadata": {},
   "outputs": [],
   "source": [
    "# U = np.array([U5x5x10,U10x10x20,U12x12x24,U15x15x30,U17x17x34,U20x20x40])\n",
    "# E = np.array([E5x5x10,E10x10x20,E12x12x24,E15x15x30,E17x17x34,E20x20x40])\n",
    "# D = np.array([D5x5x10,D10x10x20,D12x12x24,D15x15x30,D17x17x34,D20x20x40])\n",
    "# N = 6*np.array([N5x5x10,N10x10x20,N12x12x24,N15x15x30,N17x17x34,N20x20x40])\n",
    "# V = 10*10*20"
   ]
  },
  {
   "cell_type": "code",
   "execution_count": 17,
   "id": "compact-filling",
   "metadata": {},
   "outputs": [
    {
     "ename": "NameError",
     "evalue": "name 'D' is not defined",
     "output_type": "error",
     "traceback": [
      "\u001b[0;31m---------------------------------------------------------------------------\u001b[0m",
      "\u001b[0;31mNameError\u001b[0m                                 Traceback (most recent call last)",
      "\u001b[0;32m<ipython-input-17-622d2a06b38b>\u001b[0m in \u001b[0;36m<module>\u001b[0;34m\u001b[0m\n\u001b[1;32m      1\u001b[0m \u001b[0mDU\u001b[0m \u001b[0;34m=\u001b[0m \u001b[0mnp\u001b[0m\u001b[0;34m.\u001b[0m\u001b[0marray\u001b[0m\u001b[0;34m(\u001b[0m\u001b[0;34m[\u001b[0m\u001b[0;34m(\u001b[0m\u001b[0mU\u001b[0m\u001b[0;34m[\u001b[0m\u001b[0mi\u001b[0m\u001b[0;34m]\u001b[0m\u001b[0;34m-\u001b[0m\u001b[0mnp\u001b[0m\u001b[0;34m.\u001b[0m\u001b[0mamax\u001b[0m\u001b[0;34m(\u001b[0m\u001b[0mU\u001b[0m\u001b[0;34m)\u001b[0m\u001b[0;34m)\u001b[0m\u001b[0;34m/\u001b[0m\u001b[0mnp\u001b[0m\u001b[0;34m.\u001b[0m\u001b[0mamax\u001b[0m\u001b[0;34m(\u001b[0m\u001b[0mU\u001b[0m\u001b[0;34m)\u001b[0m \u001b[0;32mfor\u001b[0m \u001b[0mi\u001b[0m \u001b[0;32min\u001b[0m \u001b[0mrange\u001b[0m\u001b[0;34m(\u001b[0m\u001b[0mU\u001b[0m\u001b[0;34m.\u001b[0m\u001b[0mshape\u001b[0m\u001b[0;34m[\u001b[0m\u001b[0;36m0\u001b[0m\u001b[0;34m]\u001b[0m\u001b[0;34m)\u001b[0m\u001b[0;34m]\u001b[0m\u001b[0;34m)\u001b[0m\u001b[0;34m\u001b[0m\u001b[0;34m\u001b[0m\u001b[0m\n\u001b[1;32m      2\u001b[0m \u001b[0mDE\u001b[0m \u001b[0;34m=\u001b[0m \u001b[0mnp\u001b[0m\u001b[0;34m.\u001b[0m\u001b[0marray\u001b[0m\u001b[0;34m(\u001b[0m\u001b[0;34m[\u001b[0m\u001b[0;34m(\u001b[0m\u001b[0mE\u001b[0m\u001b[0;34m[\u001b[0m\u001b[0mi\u001b[0m\u001b[0;34m]\u001b[0m\u001b[0;34m-\u001b[0m\u001b[0mnp\u001b[0m\u001b[0;34m.\u001b[0m\u001b[0mamin\u001b[0m\u001b[0;34m(\u001b[0m\u001b[0mE\u001b[0m\u001b[0;34m)\u001b[0m\u001b[0;34m)\u001b[0m\u001b[0;34m/\u001b[0m\u001b[0mnp\u001b[0m\u001b[0;34m.\u001b[0m\u001b[0mamin\u001b[0m\u001b[0;34m(\u001b[0m\u001b[0mE\u001b[0m\u001b[0;34m)\u001b[0m \u001b[0;32mfor\u001b[0m \u001b[0mi\u001b[0m \u001b[0;32min\u001b[0m \u001b[0mrange\u001b[0m\u001b[0;34m(\u001b[0m\u001b[0mE\u001b[0m\u001b[0;34m.\u001b[0m\u001b[0mshape\u001b[0m\u001b[0;34m[\u001b[0m\u001b[0;36m0\u001b[0m\u001b[0;34m]\u001b[0m\u001b[0;34m)\u001b[0m\u001b[0;34m]\u001b[0m\u001b[0;34m)\u001b[0m\u001b[0;34m\u001b[0m\u001b[0;34m\u001b[0m\u001b[0m\n\u001b[0;32m----> 3\u001b[0;31m \u001b[0mDD\u001b[0m \u001b[0;34m=\u001b[0m \u001b[0mnp\u001b[0m\u001b[0;34m.\u001b[0m\u001b[0marray\u001b[0m\u001b[0;34m(\u001b[0m\u001b[0;34m[\u001b[0m\u001b[0;34m(\u001b[0m\u001b[0mD\u001b[0m\u001b[0;34m[\u001b[0m\u001b[0mi\u001b[0m\u001b[0;34m]\u001b[0m\u001b[0;34m-\u001b[0m\u001b[0mnp\u001b[0m\u001b[0;34m.\u001b[0m\u001b[0mamin\u001b[0m\u001b[0;34m(\u001b[0m\u001b[0mD\u001b[0m\u001b[0;34m)\u001b[0m\u001b[0;34m)\u001b[0m\u001b[0;34m/\u001b[0m\u001b[0mnp\u001b[0m\u001b[0;34m.\u001b[0m\u001b[0mamin\u001b[0m\u001b[0;34m(\u001b[0m\u001b[0mD\u001b[0m\u001b[0;34m)\u001b[0m \u001b[0;32mfor\u001b[0m \u001b[0mi\u001b[0m \u001b[0;32min\u001b[0m \u001b[0mrange\u001b[0m\u001b[0;34m(\u001b[0m\u001b[0mD\u001b[0m\u001b[0;34m.\u001b[0m\u001b[0mshape\u001b[0m\u001b[0;34m[\u001b[0m\u001b[0;36m0\u001b[0m\u001b[0;34m]\u001b[0m\u001b[0;34m)\u001b[0m\u001b[0;34m]\u001b[0m\u001b[0;34m)\u001b[0m\u001b[0;34m\u001b[0m\u001b[0;34m\u001b[0m\u001b[0m\n\u001b[0m",
      "\u001b[0;31mNameError\u001b[0m: name 'D' is not defined"
     ]
    }
   ],
   "source": [
    "DU = np.array([(U[i]-np.amax(U))/np.amax(U) for i in range(U.shape[0])])\n",
    "DE = np.array([(E[i]-np.amin(E))/np.amin(E) for i in range(E.shape[0])])\n",
    "DD = np.array([(D[i]-np.amin(D))/np.amin(D) for i in range(D.shape[0])])"
   ]
  },
  {
   "cell_type": "code",
   "execution_count": 25,
   "id": "angry-commercial",
   "metadata": {},
   "outputs": [
    {
     "data": {
      "text/plain": [
       "array([0.56367396, 0.42357137, 0.38481054, 0.36825   ])"
      ]
     },
     "execution_count": 25,
     "metadata": {},
     "output_type": "execute_result"
    }
   ],
   "source": [
    "E*40"
   ]
  },
  {
   "cell_type": "code",
   "execution_count": 19,
   "id": "received-petersburg",
   "metadata": {},
   "outputs": [],
   "source": [
    "import matplotlib.pyplot as plt\n",
    "from matplotlib.ticker import (MultipleLocator, FormatStrFormatter, AutoMinorLocator)\n",
    "import matplotlib as mpl\n",
    "mpl.rcParams['axes.unicode_minus']=False\n",
    "plt.rcParams[\"figure.figsize\"] = (4,3)\n",
    "import matplotlib.pyplot as plt\n",
    "# # plt.rcParams[\"font.family\"] = \"Times New Roman\"\n",
    "font = {'size'   : 13}\n",
    "from matplotlib import rc\n",
    "plt.rc('font', **font)\n",
    "ftsz_leg = 9\n",
    "ftsz = 12\n",
    "mkSZ = 4\n",
    "mkSZs = 0\n",
    "lnWDT = 1.25\n",
    "lnWDTs = 6\n",
    "from matplotlib import rc\n",
    "rc('font',**{'family':'sans-serif','sans-serif':['Times New Roman']})\n",
    "## for Palatino and other serif fonts use:\n",
    "#rc('font',**{'family':'serif','serif':['Palatino']})\n",
    "rc('text', usetex=True)\n",
    "\n",
    "import numpy as np\n",
    "import matplotlib.pyplot as plt"
   ]
  },
  {
   "cell_type": "code",
   "execution_count": 20,
   "id": "express-encyclopedia",
   "metadata": {},
   "outputs": [
    {
     "data": {
      "image/png": "[encoded data removed]",
      "text/plain": [
       "<Figure size 504x198 with 2 Axes>"
      ]
     },
     "metadata": {
      "needs_background": "light"
     },
     "output_type": "display_data"
    }
   ],
   "source": [
    "plt.rc('text', usetex=True)\n",
    "plt.rc('font', family='serif')\n",
    "fig = plt.figure(figsize=(3.5*2,2.75))\n",
    "(ax11), (ax12) = fig.subplots(1,2)\n",
    "plt.tight_layout(pad=2.5, w_pad=3.5, h_pad=3.5)\n",
    "ax11.margins(x=0.1, y = 0.1)\n",
    "ax11.xaxis.set_minor_locator(AutoMinorLocator())\n",
    "ax11.yaxis.set_minor_locator(AutoMinorLocator())\n",
    "\n",
    "# ax11.plot(N,(D*V/N)/np.amax(D*V/N), color='black', marker=\"o\",markersize=mkSZ,linewidth=lnWDT,label=\"$D/D^*$\")\n",
    "ax11.plot(N,(E)/np.amax(E), color='black', marker=\"o\",markersize=mkSZ,linestyle='--',linewidth=lnWDT,label=\"$\\mathit{\\Psi}/\\mathit{\\Psi}^*$\")\n",
    "# ax11.plot(N[-3],(D[-3]*V/N[-3])/np.amax(D*V/N), color='red', marker=\"o\",fillstyle='none',markersize=mkSZ*2,linewidth=lnWDT)\n",
    "# ax11.plot(N[-3],(E[-3]*V/N[-3])/np.amax(E*V/N), color='red', marker=\"o\",fillstyle='none',markersize=mkSZ*2,linewidth=lnWDT)\n",
    "# ax11.set_xlabel('Number of FE')\n",
    "ax11.set_ylabel('$\\mathit{\\Psi}/\\mathit{\\Psi}^*,D/D^*$ (-)')\n",
    "ax11.ticklabel_format(axis=\"x\", style=\"sci\", scilimits=(3,3))\n",
    "# ax11.ticklabel_format(axis=\"y\", style=\"sci\", scilimits=(0,0))\n",
    "ax11.legend(loc='best',fontsize=ftsz_leg)\n",
    "ax11.grid(True, which='major', linewidth=0.3, color='lightgray')\n",
    "ax11.grid(True, which='minor', linewidth=0.3, alpha=0.2, color='lightgray')\n",
    "\n",
    "\n",
    "ax12.margins(x=0.1, y = 0.1)\n",
    "ax12.xaxis.set_minor_locator(AutoMinorLocator())\n",
    "ax12.yaxis.set_minor_locator(AutoMinorLocator())\n",
    "ax12.plot(N,U/np.amax(U), color='black', marker=\"o\",markersize=mkSZ,linewidth=lnWDT)\n",
    "ax12.plot(N[-3],U[-3]/np.amax(U), color='red', marker=\"o\",fillstyle='none',markersize=mkSZ*2,linewidth=lnWDT)\n",
    "ax12.set_xlabel('Number of FE')\n",
    "ax12.set_ylabel('$U/U^*$ (-)')\n",
    "ax12.ticklabel_format(axis=\"x\", style=\"sci\", scilimits=(3,3))\n",
    "# ax11.ticklabel_format(axis=\"y\", style=\"sci\", scilimits=(0,0))\n",
    "# ax12.legend(loc='best',fontsize=ftsz_leg)\n",
    "ax12.grid(True, which='major', linewidth=0.3, color='lightgray')\n",
    "ax12.grid(True, which='minor', linewidth=0.3, alpha=0.2, color='lightgray')\n",
    "\n",
    "\n",
    "fig.savefig(f\"convergence.pdf\", format=\"pdf\", transparent=True)"
   ]
  },
  {
   "cell_type": "code",
   "execution_count": null,
   "id": "engaging-token",
   "metadata": {},
   "outputs": [],
   "source": [
    "plt.rcParams[\"figure.figsize\"] = (5,5)\n",
    "fig = plt.figure(figsize=(4.5,4))\n",
    "plt.tight_layout(pad=2.8, w_pad=3.5, h_pad=3.5)\n",
    "plt.plot(N,(D*V/N)/np.amax(D*V/N),color='red', alpha=1, marker='o', linestyle='-',linewidth=1.5, markersize=7)\n",
    "plt.plot(N,(E*V/N)/np.amax(E*V/N),color='navy', alpha=1, marker='o', linestyle='-',linewidth=1.5, markersize=7)\n",
    "# plt.plot(N,U/np.amax(U),color='black', alpha=1, marker='o', linestyle='-',linewidth=1.5, markersize=8)\n",
    "\n",
    "plt.ylabel('$\\mathit{\\Psi},D$ (-)',fontsize=12)\n",
    "plt.xlabel('$N_e$ (-)',fontsize=12)\n",
    "plt.show()\n",
    "# fig.savefig(f\"data.png\", format=\"png\", transparent=True)"
   ]
  },
  {
   "cell_type": "code",
   "execution_count": null,
   "id": "second-bonus",
   "metadata": {},
   "outputs": [],
   "source": [
    "plt.rcParams[\"figure.figsize\"] = (5,5)\n",
    "fig = plt.figure(figsize=(4.5,4))\n",
    "plt.tight_layout(pad=2.8, w_pad=3.5, h_pad=3.5)\n",
    "plt.loglog(N,U/np.amax(U),color='black', alpha=1, marker='o', linestyle='-',linewidth=1.5, markersize=8)\n",
    "# plt.loglog(N,U/np.amax(U),color='black', alpha=1, marker='o', linestyle='-',linewidth=1.5, markersize=8)\n",
    "\n",
    "plt.ylabel('$u$ (m)',fontsize=12)\n",
    "plt.xlabel('$N_e$ (-)',fontsize=12)\n",
    "plt.show()\n"
   ]
  },
  {
   "cell_type": "code",
   "execution_count": null,
   "id": "chubby-harris",
   "metadata": {},
   "outputs": [],
   "source": []
  },
  {
   "cell_type": "code",
   "execution_count": null,
   "id": "destroyed-corrections",
   "metadata": {},
   "outputs": [],
   "source": [
    "100*DU"
   ]
  },
  {
   "cell_type": "code",
   "execution_count": null,
   "id": "polished-table",
   "metadata": {},
   "outputs": [],
   "source": []
  }
 ],
 "metadata": {
  "kernelspec": {
   "display_name": "Python 3",
   "language": "python",
   "name": "python3"
  },
  "language_info": {
   "codemirror_mode": {
    "name": "ipython",
    "version": 3
   },
   "file_extension": ".py",
   "mimetype": "text/x-python",
   "name": "python",
   "nbconvert_exporter": "python",
   "pygments_lexer": "ipython3",
   "version": "3.8.5"
  }
 },
 "nbformat": 4,
 "nbformat_minor": 5
}

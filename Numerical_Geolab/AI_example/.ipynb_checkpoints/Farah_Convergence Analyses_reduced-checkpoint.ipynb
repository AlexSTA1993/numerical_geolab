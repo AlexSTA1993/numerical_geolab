{
 "cells": [
  {
   "cell_type": "code",
   "execution_count": 1,
   "id": "indirect-party",
   "metadata": {},
   "outputs": [],
   "source": [
    "import matplotlib.pyplot as plt\n",
    "import numpy as np\n",
    "import pickle\n",
    "np.random.seed(1)"
   ]
  },
  {
   "cell_type": "code",
   "execution_count": 2,
   "id": "coastal-venue",
   "metadata": {},
   "outputs": [],
   "source": [
    "err = np.array([[26.89341981,  7.70505949,  2.36507046,  0.        ],\n",
    "       [ 0.33858211,  0.25725397,  0.08006807,  0.        ],\n",
    "       [ 1.77128996,  0.26856892,  0.14405154,  0.        ]])\n",
    "size = np.array([5/5,5/10,5/15,5/20])\n",
    "FE = np.array([5**2,10**2,15**2,20**2])*30*6"
   ]
  },
  {
   "cell_type": "code",
   "execution_count": 3,
   "id": "gross-prospect",
   "metadata": {},
   "outputs": [
    {
     "data": {
      "text/plain": [
       "array([1.        , 0.5       , 0.33333333, 0.25      ])"
      ]
     },
     "execution_count": 3,
     "metadata": {},
     "output_type": "execute_result"
    }
   ],
   "source": [
    "size"
   ]
  },
  {
   "cell_type": "code",
   "execution_count": 4,
   "id": "balanced-afternoon",
   "metadata": {},
   "outputs": [
    {
     "data": {
      "image/png": "[encoded data removed]",
      "text/plain": [
       "<Figure size 288x151.2 with 1 Axes>"
      ]
     },
     "metadata": {
      "needs_background": "light"
     },
     "output_type": "display_data"
    }
   ],
   "source": [
    "cE = 8.96; cD = 9.0; A = np.pi*(1e-2)**2; cP=1000\n",
    "plt.rc('text', usetex=True)\n",
    "plt.rc('font', family='serif')\n",
    "fig = plt.figure(figsize=(4,2.1))\n",
    "(ax11) = fig.subplots(1,1)\n",
    "plt.tight_layout(pad=2.5, w_pad=3.5, h_pad=3.5)\n",
    "ax11.margins(x=0.1, y = 0.2)\n",
    "\n",
    "# relative percentage error in total energy at top displacement = 40 cm\n",
    "ax11.plot(size,err[1],color='black', alpha = 1, marker='o', linestyle='--',linewidth=1, markersize=6,label='$err(F)$')\n",
    "# relative percentage error in base shear at top displacement = 40 cm\n",
    "ax11.plot(size,err[2],color='darkblue', alpha = 1, marker='o', linestyle='--',linewidth=1, markersize=6,label='$err(V)$')\n",
    "# relative percentage error in base shear at top displacement = 40 cm\n",
    "# ax11.plot(size,err[0],color='red', alpha = 1, marker='o', linestyle='--',linewidth=1, markersize=6,label='$err(D)$')\n",
    "\n",
    "ax11.set_xlabel('FE size (cm)')\n",
    "ax11.set_ylabel('$err$ (\\%)')\n",
    "ax11.set_ylim([-0.15,2])\n",
    "ax11.set_xlim([1.1,0.2])\n",
    "ax11.legend(loc='best',fontsize=11)\n",
    "ax11.grid(True, which='major', linewidth=0.3, color='lightgray')\n",
    "ax11.grid(True, which='minor', linewidth=0.3, alpha=0.2, color='lightgray')\n",
    "# ax11.set_ylim([0.605,0.617])\n",
    "fig.savefig(f\"conv_sizeFE.pdf\", format=\"pdf\", transparent=True)\n"
   ]
  },
  {
   "cell_type": "code",
   "execution_count": 6,
   "id": "infinite-british",
   "metadata": {},
   "outputs": [
    {
     "name": "stderr",
     "output_type": "stream",
     "text": [
      "<ipython-input-6-b9878c9ac28b>:10: UserWarning: Attempted to set non-positive left xlim on a log-scaled axis.\n",
      "Invalid limit will be ignored.\n",
      "  ax11.semilogx(FE,err[1],color='black', alpha = 1, marker='o', linestyle='-',linewidth=1, markersize=6,label='$err(\\Psi)$')\n",
      "<ipython-input-6-b9878c9ac28b>:18: UserWarning: Attempted to set non-positive left xlim on a log-scaled axis.\n",
      "Invalid limit will be ignored.\n",
      "  ax11.set_xlim([0,1e+5])\n"
     ]
    },
    {
     "data": {
      "image/png": "[encoded data removed]",
      "text/plain": [
       "<Figure size 288x151.2 with 1 Axes>"
      ]
     },
     "metadata": {
      "needs_background": "light"
     },
     "output_type": "display_data"
    }
   ],
   "source": [
    "cE = 8.96; cD = 9.0; A = np.pi*(1e-2)**2; cP=1000\n",
    "plt.rc('text', usetex=True)\n",
    "plt.rc('font', family='serif')\n",
    "fig = plt.figure(figsize=(4,2.1))\n",
    "(ax11) = fig.subplots(1,1)\n",
    "plt.tight_layout(pad=2.5, w_pad=3.5, h_pad=3.5)\n",
    "ax11.margins(x=0.1, y = 0.2)\n",
    "\n",
    "# relative percentage error in total energy at top displacement = 40 cm\n",
    "ax11.semilogx(FE,err[1],color='black', alpha = 1, marker='o', linestyle='-',linewidth=1, markersize=6,label='$err(\\Psi)$')\n",
    "# relative percentage error in base shear at top displacement = 40 cm\n",
    "ax11.semilogx(FE,err[2],color='darkblue', alpha = 1, marker='o', linestyle='-',linewidth=1, markersize=6,label='$err(V)$')\n",
    "# relative percentage error in base shear at top displacement = 40 cm\n",
    "# ax11.loglog(FE,err[0],color='red', alpha = 1, marker='o', linestyle='--',linewidth=1, markersize=6,label='$err(D)$')\n",
    "\n",
    "ax11.set_xlabel('Number of FE (-)')\n",
    "ax11.set_ylabel('$err$ (\\%)')\n",
    "ax11.set_xlim([0,1e+5])\n",
    "ax11.set_ylim([-0.15,2])\n",
    "ax11.legend(loc='best',fontsize=11)\n",
    "ax11.grid(True, which='major', linewidth=0.3, color='lightgray')\n",
    "ax11.grid(True, which='minor', linewidth=0.3, alpha=0.2, color='lightgray')\n",
    "# ax11.set_ylim([0.605,0.617])\n",
    "fig.savefig(f\"conv_FE.pdf\", format=\"pdf\", transparent=True)"
   ]
  },
  {
   "cell_type": "code",
   "execution_count": null,
   "id": "incorrect-tournament",
   "metadata": {},
   "outputs": [],
   "source": []
  }
 ],
 "metadata": {
  "kernelspec": {
   "display_name": "Python 3",
   "language": "python",
   "name": "python3"
  },
  "language_info": {
   "codemirror_mode": {
    "name": "ipython",
    "version": 3
   },
   "file_extension": ".py",
   "mimetype": "text/x-python",
   "name": "python",
   "nbconvert_exporter": "python",
   "pygments_lexer": "ipython3",
   "version": "3.8.10"
  }
 },
 "nbformat": 4,
 "nbformat_minor": 5
}

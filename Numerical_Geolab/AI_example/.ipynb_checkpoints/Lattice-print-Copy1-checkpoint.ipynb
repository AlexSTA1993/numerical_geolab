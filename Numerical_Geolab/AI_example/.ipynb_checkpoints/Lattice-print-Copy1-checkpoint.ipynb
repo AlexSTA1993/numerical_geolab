{
 "cells": [
  {
   "cell_type": "code",
   "execution_count": 1,
   "id": "indirect-party",
   "metadata": {},
   "outputs": [],
   "source": [
    "import matplotlib.pyplot as plt\n",
    "import numpy as np\n",
    "import pickle\n",
    "np.random.seed(1)"
   ]
  },
  {
   "cell_type": "code",
   "execution_count": 2,
   "id": "improved-indication",
   "metadata": {},
   "outputs": [],
   "source": [
    "U_m = np.zeros(6)\n",
    "E_m = np.zeros(6)\n",
    "D_m = np.zeros(6)\n",
    "IC_Fm=np.zeros((6,7))"
   ]
  },
  {
   "cell_type": "code",
   "execution_count": 3,
   "id": "alive-teddy",
   "metadata": {},
   "outputs": [],
   "source": [
    "\n",
    "# file = './Micro-3D_L9x9x17_TORSION_2H_V10x10x20'\n",
    "# with open(file, 'rb') as f_obj:\n",
    "#     data = pickle.load(f_obj)\n",
    "# svarsGP,add_svarsGP,nparticles,nbars,nsvars,niter,nel = data\n",
    "# print(svarsGP[-3],svarsGP[-2],np.amax(add_svarsGP[:,2]))\n",
    "# # U_m[0,1]=np.amax(add_svarsGP[:,1])"
   ]
  },
  {
   "cell_type": "code",
   "execution_count": null,
   "id": "listed-outside",
   "metadata": {},
   "outputs": [],
   "source": []
  },
  {
   "cell_type": "code",
   "execution_count": 4,
   "id": "preliminary-account",
   "metadata": {},
   "outputs": [
    {
     "name": "stdout",
     "output_type": "stream",
     "text": [
      "113.66458248466468 0.0 0.918461997399946\n",
      "[ 0.10018333  0.07644466 -0.08425225 -0.0385995  -0.23395556 -0.23395556\n",
      " -0.23395556]\n"
     ]
    }
   ],
   "source": [
    "file = './Micro-3D_L2x2x3_TORSION_2H_V10x10x20'\n",
    "with open(file, 'rb') as f_obj:\n",
    "    data = pickle.load(f_obj)\n",
    "svarsGP,add_svarsGP,nparticles,nbars,nsvars,niter,nel = data\n",
    "E_m[0]=svarsGP[-3]\n",
    "D_m[0]=svarsGP[-2]\n",
    "U_m[0]=np.amax(add_svarsGP[:,2])\n",
    "print(svarsGP[-3],svarsGP[-2],np.amax(add_svarsGP[:,2]))\n",
    "# U_m[0,1]=np.amax(add_svarsGP[:,1])\n",
    "S_m=svarsGP[12:12+nbars]\n",
    "IC_Fm[0]=np.array([S_m[46],S_m[47],S_m[48],S_m[49],S_m[30],S_m[35],S_m[40]])\n",
    "print(IC_Fm[0])"
   ]
  },
  {
   "cell_type": "code",
   "execution_count": 5,
   "id": "dirty-interpretation",
   "metadata": {},
   "outputs": [
    {
     "name": "stdout",
     "output_type": "stream",
     "text": [
      "69.65269344981272 0.0 1.0704695137498257\n",
      "[ 0.1615568   0.07405445 -0.08664245 -0.0622476  -0.23395556 -0.23395556\n",
      " -0.23395556]\n"
     ]
    }
   ],
   "source": [
    "file = './Micro-3D_L3x3x5_TORSION_2H_V10x10x20'\n",
    "with open(file, 'rb') as f_obj:\n",
    "    data = pickle.load(f_obj)\n",
    "svarsGP,add_svarsGP,nparticles,nbars,nsvars,niter,nel = data\n",
    "E_m[1]=svarsGP[-3]\n",
    "D_m[1]=svarsGP[-2]\n",
    "U_m[1]=np.amax(add_svarsGP[:,2])\n",
    "print(svarsGP[-3],svarsGP[-2],np.amax(add_svarsGP[:,2]))\n",
    "S_m=svarsGP[12:12+nbars]\n",
    "IC_Fm[1]=np.array([S_m[292],S_m[293],S_m[294],S_m[295],S_m[260],S_m[271],S_m[284]])\n",
    "print(IC_Fm[1])"
   ]
  },
  {
   "cell_type": "code",
   "execution_count": null,
   "id": "discrete-liberia",
   "metadata": {},
   "outputs": [],
   "source": []
  },
  {
   "cell_type": "code",
   "execution_count": 6,
   "id": "defensive-function",
   "metadata": {},
   "outputs": [
    {
     "name": "stdout",
     "output_type": "stream",
     "text": [
      "49.69981054313536 0.0 1.2686315237195107\n",
      "[ 0.22854805  0.04867207 -0.06673796 -0.08790116 -0.23395556 -0.23395556\n",
      " -0.23395556]\n"
     ]
    }
   ],
   "source": [
    "file = './Micro-3D_L5x5x9_TORSION_2H_V10x10x20'\n",
    "with open(file, 'rb') as f_obj:\n",
    "    data = pickle.load(f_obj)\n",
    "svarsGP,add_svarsGP,nparticles,nbars,nsvars,niter,nel = data\n",
    "E_m[2]=svarsGP[-3]\n",
    "D_m[2]=svarsGP[-2]\n",
    "U_m[2]=np.amax(add_svarsGP[:,2])\n",
    "print(svarsGP[-3],svarsGP[-2],np.amax(add_svarsGP[:,2]))\n",
    "S_m=svarsGP[12:12+nbars]\n",
    "IC_Fm[2]=np.array([S_m[1996],S_m[1997],S_m[1998],S_m[1999],S_m[1948],S_m[1959],S_m[1988]])\n",
    "print(IC_Fm[2])"
   ]
  },
  {
   "cell_type": "code",
   "execution_count": 7,
   "id": "nervous-sponsorship",
   "metadata": {},
   "outputs": [
    {
     "name": "stdout",
     "output_type": "stream",
     "text": [
      "42.254310300924224 0.0 1.4196397548857684\n",
      "[ 0.27415085  0.02557468 -0.04970505 -0.10393403 -0.23395556 -0.23395556\n",
      " -0.23395556]\n"
     ]
    }
   ],
   "source": [
    "file = './Micro-3D_L9x9x17_TORSION_2H_V10x10x20'\n",
    "with open(file, 'rb') as f_obj:\n",
    "    data = pickle.load(f_obj)\n",
    "svarsGP,add_svarsGP,nparticles,nbars,nsvars,niter,nel = data\n",
    "E_m[3]=svarsGP[-3]\n",
    "D_m[3]=svarsGP[-2]\n",
    "U_m[3]=np.amax(add_svarsGP[:,2])\n",
    "print(svarsGP[-3],svarsGP[-2],np.amax(add_svarsGP[:,2]))\n",
    "S_m=svarsGP[12:12+nbars]\n",
    "IC_Fm[3]=np.array([S_m[14620],S_m[14621],S_m[14622],S_m[14623],S_m[14540],S_m[14551],S_m[14612]])\n",
    "print(IC_Fm[3])"
   ]
  },
  {
   "cell_type": "code",
   "execution_count": 8,
   "id": "radical-yukon",
   "metadata": {},
   "outputs": [
    {
     "data": {
      "text/plain": [
       "40427"
      ]
     },
     "execution_count": 8,
     "metadata": {},
     "output_type": "execute_result"
    }
   ],
   "source": [
    "40499-12*6"
   ]
  },
  {
   "cell_type": "code",
   "execution_count": 9,
   "id": "partial-brush",
   "metadata": {},
   "outputs": [
    {
     "name": "stdout",
     "output_type": "stream",
     "text": [
      "[ 0.36883297  0.06968471 -0.00875429 -0.19701697 -0.34848498 -0.34848498\n",
      " -0.34848498]\n"
     ]
    }
   ],
   "source": [
    "file = './Micro-3D_L13x13x25_TORSION_2H_V10x10x20_PLA'\n",
    "with open(file, 'rb') as f_obj:\n",
    "    data = pickle.load(f_obj)\n",
    "svarsGP,add_svarsGP,nparticles,nbars,nsvars,niter,nel = data\n",
    "E_m[4]=svarsGP[-3]\n",
    "D_m[4]=svarsGP[-2]\n",
    "U_m[4]=np.amax(add_svarsGP[:,2])\n",
    "S_m=svarsGP[12:12+nbars]\n",
    "IC_Fm[4]=np.array([S_m[47852],S_m[47853],S_m[47854],S_m[47855],S_m[47740],S_m[47751],S_m[47844]])\n",
    "print(IC_Fm[4])"
   ]
  },
  {
   "cell_type": "code",
   "execution_count": 86,
   "id": "friendly-walker",
   "metadata": {},
   "outputs": [
    {
     "name": "stdout",
     "output_type": "stream",
     "text": [
      "[ 0.29414503  0.01082803 -0.03566539 -0.11215882 -0.23395556 -0.23395556\n",
      " -0.23395556]\n"
     ]
    }
   ],
   "source": [
    "file = './Micro-3D_L17x17x33_TORSION_2H_V10x10x20'\n",
    "with open(file, 'rb') as f_obj:\n",
    "    data = pickle.load(f_obj)\n",
    "svarsGP,add_svarsGP,nparticles,nbars,nsvars,niter,nel = data\n",
    "E_m[5]=svarsGP[-3]\n",
    "D_m[5]=svarsGP[-2]\n",
    "U_m[5]=np.amax(add_svarsGP[:,2])\n",
    "svarsGP[-3]\n",
    "S_m=svarsGP[12:12+nbars]\n",
    "IC_Fm[5]=np.array([S_m[111676],S_m[111677],S_m[111678],S_m[111679],S_m[111532],S_m[111543],S_m[111668]])\n",
    "print(IC_Fm[5])"
   ]
  },
  {
   "cell_type": "code",
   "execution_count": 100,
   "id": "broad-certificate",
   "metadata": {},
   "outputs": [
    {
     "data": {
      "text/plain": [
       "(3.3297770234646733, 111.37105880099448)"
      ]
     },
     "execution_count": 100,
     "metadata": {},
     "output_type": "execute_result"
    }
   ],
   "source": [
    "file = './Macro-3D_L20x20x40_T_V10x10x20_PLA'\n",
    "with open(file, 'rb') as f_obj:\n",
    "    data = pickle.load(f_obj)\n",
    "usol,stress,svars,ISV,IC = data\n",
    "energy= svars[:,-3]\n",
    "dissipation= svars[:,6+6+22+1:6+6+22+2]\n",
    "usol=np.reshape(usol,(-1,3))\n",
    "U0=np.amax(usol[:,2])\n",
    "E0=np.sum(energy)\n",
    "D0=np.sum(dissipation)\n",
    "N=20*20*40\n",
    "V=10*10*20\n",
    "# print(np.mean(IC[-6:],axis=0)[-8:]) #(take -2): -0.93940901\n",
    "IC_u = IC[:,-24:]\n",
    "IC_f = IC[:,:-24]\n",
    "IC_u = IC_u.reshape(IC_u.shape[0],IC_u.shape[1]//3,3)\n",
    "# IC[-6:,-4:] #(take -2): -0.90854154\n",
    "U1=np.mean(1+IC_u[IC_u.shape[0]-20*19*6,2])\n",
    "E0=E0*V/(N*6)\n",
    "U0,E0"
   ]
  },
  {
   "cell_type": "code",
   "execution_count": 188,
   "id": "southeast-discount",
   "metadata": {},
   "outputs": [
    {
     "data": {
      "text/plain": [
       "(3.2110237276960207, 118.2217295549475)"
      ]
     },
     "execution_count": 188,
     "metadata": {},
     "output_type": "execute_result"
    }
   ],
   "source": [
    "file = './Macro-3D_L12x12x24_T_V10x10x20_PLA'\n",
    "with open(file, 'rb') as f_obj:\n",
    "    data = pickle.load(f_obj)\n",
    "usol,stress,svars,ISV,IC = data\n",
    "energy= svars[:,-3]\n",
    "dissipation= svars[:,6+6+22+1:6+6+22+2]\n",
    "usol=np.reshape(usol,(-1,3))\n",
    "U0=np.amax(usol[:,2])\n",
    "E0=np.sum(energy)\n",
    "D0=np.sum(dissipation)\n",
    "N=12*12*24\n",
    "V=10*10*20\n",
    "# print(np.mean(IC[-6:],axis=0)[-8:]) #(take -2): -0.93940901\n",
    "IC_u = IC[:,-24:]\n",
    "IC_f = IC[:,:-24]\n",
    "IC_u = IC_u.reshape(IC_u.shape[0],IC_u.shape[1]//3,3)\n",
    "# IC[-6:,-4:] #(take -2): -0.90854154\n",
    "U1=np.mean(1+IC_u[IC_u.shape[0]-12*11*6,2])\n",
    "E0=E0*V/(N*6)\n",
    "U0,E0"
   ]
  },
  {
   "cell_type": "code",
   "execution_count": 189,
   "id": "stopped-bennett",
   "metadata": {},
   "outputs": [],
   "source": [
    "# IC=IC_u[IC_u.shape[0]-12*11*6]\n",
    "IC=IC_u[-1]"
   ]
  },
  {
   "cell_type": "code",
   "execution_count": 190,
   "id": "extra-student",
   "metadata": {},
   "outputs": [
    {
     "data": {
      "text/plain": [
       "(8, 3)"
      ]
     },
     "execution_count": 190,
     "metadata": {},
     "output_type": "execute_result"
    }
   ],
   "source": [
    "# IC=np.mean(IC,axis=0)\n",
    "IC.shape"
   ]
  },
  {
   "cell_type": "code",
   "execution_count": 191,
   "id": "abroad-lafayette",
   "metadata": {},
   "outputs": [],
   "source": [
    "import numpy as np\n",
    "import pickle\n",
    "import matplotlib.pyplot as plt\n",
    "np.random.seed(1)\n",
    "from mpl_toolkits.mplot3d import Axes3D\n",
    "import scipy.sparse as sp\n",
    "from scipy.linalg import solve as scsolve\n",
    "from jupyterthemes import jtplot\n",
    "import pandas as pd\n",
    "import time\n",
    "plt.rcParams[\"figure.figsize\"] = (5,7)\n",
    "file = './ideal_sample_1D_spring'\n",
    "from scipy.integrate import solve_ivp\n",
    "\n",
    "\n",
    "colors = ['red', 'green', 'blue']\n",
    "\n",
    "def plot_elems(cooneM,coor,group,plot3D=False):\n",
    "    fig = plt.figure()\n",
    "    ax = fig.gca(projection='3d')\n",
    "    # make the panes transparent\n",
    "    ax.xaxis.set_pane_color((1.0, 1.0, 1.0, 0.0))\n",
    "    ax.yaxis.set_pane_color((1.0, 1.0, 1.0, 0.0))\n",
    "    ax.zaxis.set_pane_color((1.0, 1.0, 1.0, 0.0))\n",
    "    # make the grid lines transparent\n",
    "    ax.xaxis._axinfo[\"grid\"]['color'] =  (1,1,1,0)\n",
    "    ax.yaxis._axinfo[\"grid\"]['color'] =  (1,1,1,0)\n",
    "    ax.zaxis._axinfo[\"grid\"]['color'] =  (1,1,1,0)\n",
    "    ax.set_axis_off()\n",
    "    for i in range(cooneM.shape[0]):\n",
    "        cons=cooneM[i]\n",
    "        p1 = coor[cons[0]]; p2 = coor[cons[1]]   \n",
    "        color=colors[group[i]]\n",
    "#         print(group[i])\n",
    "        if group[i]!=0:\n",
    "            ax.plot([p1[0],p2[0]],[p1[1],p2[1]],[p1[2],p2[2]],color='black',alpha=0.5,linewidth=0.1, marker='o',markersize=0)\n",
    "#             ax.plot([p1[0],p2[0]],[p1[1],p2[1]],[p1[2],p2[2]],color=color,linewidth=0.01,alpha=0.1, marker='o',markersize=0)\n",
    "        else:\n",
    "            ax.plot([p1[0],p2[0]],[p1[1],p2[1]],[p1[2],p2[2]],color='gray',linewidth=0.1,alpha=0.1, marker='o',markersize=0)\n",
    "    ax.set_zlabel(\"z\")\n",
    "    ax.set_xlabel(\"x\")\n",
    "    ax.set_ylabel(\"y\")\n",
    "#     plt.show()\n",
    "    fig.savefig(f\"latt_def.pdf\", format=\"pdf\", transparent=True)\n",
    "    return"
   ]
  },
  {
   "cell_type": "code",
   "execution_count": 192,
   "id": "demonstrated-avatar",
   "metadata": {},
   "outputs": [],
   "source": [
    "def plot_elems(cooneM,coor,group,plot3D=False,node_labels=True,elem_labels=True):\n",
    "    if plot3D==True:\n",
    "        fig = plt.figure()\n",
    "        ax = fig.gca(projection='3d')\n",
    "        ax.xaxis.set_pane_color((1.0, 1.0, 1.0, 0.0))\n",
    "        ax.yaxis.set_pane_color((1.0, 1.0, 1.0, 0.0))\n",
    "        ax.zaxis.set_pane_color((1.0, 1.0, 1.0, 0.0))\n",
    "        # make the grid lines transparent\n",
    "        ax.xaxis._axinfo[\"grid\"]['color'] =  (1,1,1,0)\n",
    "        ax.yaxis._axinfo[\"grid\"]['color'] =  (1,1,1,0)\n",
    "        ax.zaxis._axinfo[\"grid\"]['color'] =  (1,1,1,0)\n",
    "        ax.set_axis_off()\n",
    "    else:\n",
    "        fig, ax = plt.subplots()\n",
    "    for i in range(cooneM.shape[0]):\n",
    "        cons=cooneM[i]\n",
    "        p1 = coor[cons[0]]; p2 = coor[cons[1]]\n",
    "        if plot3D==True:\n",
    "#             print(group[i])\n",
    "            color=colors[group[i]]\n",
    "            ax.plot([p1[0],p2[0]],[p1[1],p2[1]],[p1[2],p2[2]],color=color,linewidth=1, marker='o',markersize=5)\n",
    "            ax.set_zlabel(\"z\")\n",
    "        else:\n",
    "            ax.plot([p1[0],p2[0]],[p1[1],p2[1]],'r-',linewidth=1, marker='o',markersize=5, alpha=0.7)\n",
    "        if elem_labels:\n",
    "            pm=p1+(p2-p1)/4.\n",
    "            xtext=pm[0];ytext=pm[1];ztext=pm[2]\n",
    "            epsx=np.max(coor[:,0])/40;epsy=np.max(coor[:,1])/40;epsz=np.max(coor[:,2])/40\n",
    "            ax.text(xtext+epsx,ytext+epsy,ztext+epsz,str(i),color=\"orange\")\n",
    "#         print([p1[0],p2[0]],[p1[1],p2[1]])\n",
    "    if node_labels:\n",
    "        for i in range(len(coor)):\n",
    "            xtext=coor[i,0];ytext=coor[i,1];ztext=coor[i,2]\n",
    "            epsx=np.max(coor[:,0])/40;epsy=np.max(coor[:,1])/40;epsz=np.max(coor[:,2])/40\n",
    "            ax.text(xtext+epsx,ytext+epsy,ztext+epsz,str(i),color=\"red\")\n",
    "    ax.set_xlabel(\"x\")\n",
    "    ax.set_ylabel(\"y\")\n",
    "    plt.show()\n",
    "    fig.savefig(f\"latt_def.pdf\", format=\"pdf\", transparent=True)\n",
    "    return"
   ]
  },
  {
   "cell_type": "code",
   "execution_count": 193,
   "id": "joined-weekly",
   "metadata": {},
   "outputs": [
    {
     "name": "stdout",
     "output_type": "stream",
     "text": [
      "(4,) (12,) (12,)\n"
     ]
    }
   ],
   "source": [
    "# Coordinates and Connectivity matrices: \n",
    "xmax=1;ymax=1;zmax=1 # box's dimensions\n",
    "nx, ny, nz = (2,2,2) # particles per axis\n",
    "# nx, ny, nz = (17,17,33)\n",
    "\n",
    "s=0.\n",
    "\n",
    "dhx=0.;dhy=0.;dhz=0.\n",
    "if nx>1: dhx=xmax/(nx-1)\n",
    "if ny>1: dhy=ymax/(ny-1)\n",
    "if nz>1: dhz=zmax/(nz-1)\n",
    "\n",
    "def nop(i,j,k):\n",
    "    return j+i*ny+k*nx*ny\n",
    "coorM=np.zeros((nx*ny*nz,3))\n",
    "nels=(nx*ny*nz)**2\n",
    "\n",
    "conneM=np.zeros((nels,2),dtype=np.uint32)\n",
    "\n",
    "el=0\n",
    "perbc=[]\n",
    "for k in range(nz):\n",
    "    for i in range(nx):\n",
    "        for j in range(ny):\n",
    "            # periodic connectivity\n",
    "            \n",
    "            if i==nx-1 and j!=ny-1: perbc.append([nop(i,j,k),nop(i-nx+1,j,k)])\n",
    "            \n",
    "            if j==ny-1: perbc.append([nop(i,j,k),nop(i,j-ny+1,k)])\n",
    "            \n",
    "            if k==nz-1 and i!=nx-1 and j!=ny-1: perbc.append([nop(i,j,k),nop(i,j,k-nz+1)])\n",
    "            \n",
    "            # nodes'coordinates\n",
    "            perturbation=np.array([np.random.uniform(-s,s)*dhx,\n",
    "                                       np.random.uniform(-s,s)*dhy,\n",
    "                                       np.random.uniform(-s,s)*dhz])\n",
    "            perturbation=np.multiply(perturbation,np.array(np.sign([nx-1,ny-1,nz-1])))\n",
    "            coorM[nop(i,j,k)]=np.array([i*dhx,j*dhy,k*dhz])+perturbation\n",
    "            if  i==nx-1: coorM[nop(i,j,k)]=coorM[nop(0,j,k)]+np.array([dhx*(nx-1),0,0])\n",
    "            if  j==ny-1: coorM[nop(i,j,k)]=coorM[nop(i,0,k)]+np.array([0,dhy*(ny-1),0])\n",
    "            if  k==nz-1: coorM[nop(i,j,k)]=coorM[nop(i,j,0)]+np.array([0,0,dhz*(nz-1)])\n",
    "            \n",
    "            # nodes' connectivity - elements\n",
    "            if i<nx-1:\n",
    "                conneM[el]=np.array([nop(i,j,k),nop(i+1,j,k)]); el+=1\n",
    "            if j<ny-1: \n",
    "                conneM[el]=np.array([nop(i,j,k),nop(i,j+1,k)]); el+=1\n",
    "            if i<nx-1 and j<ny-1: \n",
    "                conneM[el]=np.array([nop(i,j,k),nop(i+1,j+1,k)]); el+=1 \n",
    "            if i>0 and j<ny-1: \n",
    "                conneM[el]=np.array([nop(i,j,k),nop(i-1,j+1,k)]); el+=1   \n",
    "\n",
    "            if k>0:\n",
    "                conneM[el]=np.array([nop(i,j,k),nop(i,j,k-1)]); el+=1\n",
    "                if j<ny-1: \n",
    "                    conneM[el]=np.array([nop(i,j,k),nop(i,j+1,k-1)]); el+=1   \n",
    "                if j>0: \n",
    "                    conneM[el]=np.array([nop(i,j,k),nop(i,j-1,k-1)]); el+=1   \n",
    "                if i<nx-1: \n",
    "                    conneM[el]=np.array([nop(i,j,k),nop(i+1,j,k-1)]); el+=1\n",
    "                if i>0: \n",
    "                    conneM[el]=np.array([nop(i,j,k),nop(i-1,j,k-1)]); el+=1\n",
    "                \n",
    "                if i>0 and j>0: \n",
    "                    conneM[el]=np.array([nop(i,j,k),nop(i-1,j-1,k-1)]); el+=1\n",
    "                if i>0 and j<ny-1: \n",
    "                    conneM[el]=np.array([nop(i,j,k),nop(i-1,j+1,k-1)]); el+=1\n",
    "                if i<nx-1 and j<ny-1: \n",
    "                    conneM[el]=np.array([nop(i,j,k),nop(i+1,j+1,k-1)]); el+=1\n",
    "                if i<nx-1 and j>0: \n",
    "                    conneM[el]=np.array([nop(i,j,k),nop(i+1,j-1,k-1)]); el+=1          \n",
    "                \n",
    "conneM=conneM[:el]\n",
    "# groupM=groupM[:el]\n",
    "\n",
    "groupM=np.zeros((el),dtype=np.uint32)\n",
    "toleps=1e-4\n",
    "e1=np.array([1.,0,0]);e2=np.array([0,1.,0]);e3=np.array([0,0,1.])\n",
    "for i in range(el):    \n",
    "    a,b=coorM[conneM[i]]\n",
    "    ab=b+a; ab=ab/np.linalg.norm(ab)\n",
    "#     print(a,b)\n",
    "    \n",
    "    if np.abs(a[2]-b[2])<=toleps and (np.abs(a[2]-0)<=toleps or np.abs(a[2]-zmax)<=toleps):\n",
    "#         print(i)\n",
    "        groupM[i]=1\n",
    "    if np.abs(a[1]-b[1])<=toleps and (np.abs(a[1]-0)<=toleps or np.abs(a[1]-ymax)<=toleps):\n",
    "#         print(i)\n",
    "        groupM[i]=1\n",
    "    if np.abs(a[0]-b[0])<=toleps and (np.abs(a[0]-0)<=toleps or np.abs(a[0]-xmax)<=toleps):\n",
    "#         print(i)\n",
    "        groupM[i]=1\n",
    "    if ((np.abs(a[0]-b[0])<=toleps and (np.abs(a[0]-0)<=toleps or np.abs(a[0]-xmax)<=toleps)) and \n",
    "       (np.abs(a[1]-b[1])<=toleps and (np.abs(a[1]-0)<=toleps or np.abs(a[1]-ymax)<=toleps)) ):\n",
    "        groupM[i]=2\n",
    "    if ((np.abs(a[0]-b[0])<=toleps and (np.abs(a[0]-0)<=toleps or np.abs(a[0]-xmax)<=toleps)) and \n",
    "       (np.abs(a[2]-b[2])<=toleps and (np.abs(a[2]-0)<=toleps or np.abs(a[2]-zmax)<=toleps))) :\n",
    "        groupM[i]=2\n",
    "    if ((np.abs(a[1]-b[1])<=toleps and (np.abs(a[1]-0)<=toleps or np.abs(a[1]-ymax)<=toleps)) and\n",
    "       (np.abs(a[2]-b[2])<=toleps and (np.abs(a[2]-0)<=toleps or np.abs(a[2]-zmax)<=toleps))) :\n",
    "        groupM[i]=2\n",
    "\n",
    "print(groupM[groupM==0].shape,groupM[groupM==2].shape,groupM[groupM==1].shape)\n",
    "# print(\"number of elements\",el)\n",
    "# print(\"number of nodes\",nx*ny*nz)\n",
    "# print(\"group\",groupM)\n",
    "# print(\"number of periodic constraints\",len(perbc))\n",
    "perbc0=None\n",
    "# coorM[:,0]=coorM[:,0]-xmax/2\n",
    "# coorM[:,1]=coorM[:,1]-ymax/2\n",
    "# print(len(perbc))\n",
    "# print(perbc)\n",
    "# plot_elems(conneM,coorM,groupM,True)\n",
    "\n"
   ]
  },
  {
   "cell_type": "code",
   "execution_count": 194,
   "id": "technological-former",
   "metadata": {},
   "outputs": [],
   "source": [
    "coorM_cell = np.zeros((8,3))\n",
    "e=1"
   ]
  },
  {
   "cell_type": "code",
   "execution_count": 195,
   "id": "sufficient-ceramic",
   "metadata": {},
   "outputs": [],
   "source": [
    "# coorM_cell[0] = np.array([0,0,0])#+add_svarsGP[0]\n",
    "\n",
    "coorM_cell[0] = coorM[0]+e*IC[0]\n",
    "coorM_cell[1] = coorM[1]+e*IC[1]\n",
    "coorM_cell[2] = coorM[2]+e*IC[2]\n",
    "coorM_cell[3] = coorM[3]+e*IC[3]\n",
    "coorM_cell[4] = coorM[4]+e*IC[4]\n",
    "coorM_cell[5] = coorM[5]+e*IC[5]\n",
    "coorM_cell[6] = coorM[6]+e*IC[6]\n",
    "coorM_cell[7] = coorM[7]+e*IC[7]"
   ]
  },
  {
   "cell_type": "code",
   "execution_count": 196,
   "id": "artificial-carnival",
   "metadata": {},
   "outputs": [],
   "source": [
    "coorM_cell+=U0"
   ]
  },
  {
   "cell_type": "code",
   "execution_count": 197,
   "id": "romantic-dining",
   "metadata": {},
   "outputs": [],
   "source": [
    "# u=coorM+add_svarsGP"
   ]
  },
  {
   "cell_type": "code",
   "execution_count": 198,
   "id": "earned-truck",
   "metadata": {},
   "outputs": [
    {
     "data": {
      "text/plain": [
       "4224"
      ]
     },
     "execution_count": 198,
     "metadata": {},
     "output_type": "execute_result"
    }
   ],
   "source": [
    "4041\n",
    "4042\n",
    "4054\n",
    "4055\n",
    "4210\n",
    "4211\n",
    "4223\n",
    "4224"
   ]
  },
  {
   "cell_type": "code",
   "execution_count": null,
   "id": "empty-environment",
   "metadata": {},
   "outputs": [],
   "source": []
  },
  {
   "cell_type": "code",
   "execution_count": 199,
   "id": "operating-conversation",
   "metadata": {},
   "outputs": [
    {
     "data": {
      "image/png": "[encoded data removed]",
      "text/plain": [
       "<Figure size 360x504 with 1 Axes>"
      ]
     },
     "metadata": {
      "needs_background": "light"
     },
     "output_type": "display_data"
    }
   ],
   "source": [
    "# %matplotlib notebook\n",
    "# u=coorM+add_svarsGP\n",
    "plot_elems(conneM,coorM_cell,groupM,plot3D=True,node_labels=True,elem_labels=False)"
   ]
  },
  {
   "cell_type": "code",
   "execution_count": null,
   "id": "judicial-locking",
   "metadata": {},
   "outputs": [],
   "source": [
    "for i in range(coorM.shape[0]):\n",
    "    if coorM[i,2]>=20-0.9 and coorM[i,0]>=10-0.9 and coorM[i,1]>=10-0.9:\n",
    "        print(i)"
   ]
  },
  {
   "cell_type": "code",
   "execution_count": null,
   "id": "above-independence",
   "metadata": {},
   "outputs": [],
   "source": [
    "10/(nx-1)"
   ]
  },
  {
   "cell_type": "code",
   "execution_count": null,
   "id": "flying-lighter",
   "metadata": {},
   "outputs": [],
   "source": [
    "nz"
   ]
  },
  {
   "cell_type": "code",
   "execution_count": null,
   "id": "genuine-deposit",
   "metadata": {},
   "outputs": [],
   "source": [
    "import numpy as np\n",
    "import pickle\n",
    "import matplotlib.pyplot as plt\n",
    "np.random.seed(1)\n",
    "from mpl_toolkits.mplot3d import Axes3D\n",
    "import scipy.sparse as sp\n",
    "from scipy.linalg import solve as scsolve\n",
    "from jupyterthemes import jtplot\n",
    "import pandas as pd\n",
    "import time\n",
    "plt.rcParams[\"figure.figsize\"] = (5,7)\n",
    "file = './ideal_sample_1D_spring'\n",
    "from scipy.integrate import solve_ivp\n",
    "\n",
    "\n",
    "colors = ['red', 'green', 'blue']\n",
    "\n",
    "def plot_elems(cooneM,coor,group,ini,plot3D=False):\n",
    "    fig = plt.figure()\n",
    "    ax = fig.gca(projection='3d')\n",
    "    # make the panes transparent\n",
    "    ax.xaxis.set_pane_color((1.0, 1.0, 1.0, 0.0))\n",
    "    ax.yaxis.set_pane_color((1.0, 1.0, 1.0, 0.0))\n",
    "    ax.zaxis.set_pane_color((1.0, 1.0, 1.0, 0.0))\n",
    "    # make the grid lines transparent\n",
    "    ax.xaxis._axinfo[\"grid\"]['color'] =  (1,1,1,0)\n",
    "    ax.yaxis._axinfo[\"grid\"]['color'] =  (1,1,1,0)\n",
    "    ax.zaxis._axinfo[\"grid\"]['color'] =  (1,1,1,0)\n",
    "    ax.set_axis_off()\n",
    "    ax.plot([0,0],[0,0],[0,0],color='black',linewidth=0.2, marker='o',markersize=0)\n",
    "    ax.scatter(uu[0,0], uu[0,1], uu[0,2], c='red', marker='o')\n",
    "    ax.scatter(uu[1,0], uu[1,1], uu[1,2], c='blue', marker='o')\n",
    "    ax.scatter(uu[2,0], uu[2,1], uu[2,2], c='darkblue', marker='o')\n",
    "    ax.scatter(uu[3,0], uu[3,1], uu[3,2], c='black', marker='o')\n",
    "    ax.scatter(uu[4,0], uu[4,1], uu[4,2], c='red', marker='x')\n",
    "    ax.scatter(uu[5,0], uu[5,1], uu[5,2], c='blue', marker='x')\n",
    "    ax.scatter(uu[6,0], uu[6,1], uu[6,2], c='darkblue', marker='x')\n",
    "    ax.scatter(uu[7,0], uu[7,1], uu[7,2], c='black', marker='x')\n",
    "    for i in range(cooneM.shape[0]):\n",
    "        cons=cooneM[i]\n",
    "        p1 = coor[cons[0]]; p2 = coor[cons[1]] \n",
    "        p1ini = ini[cons[0]]; p2ini = ini[cons[1]] \n",
    "        color=colors[group[i]]\n",
    "#         print(group[i])\n",
    "        if group[i]!=0 and p1ini[2]>=19 and p1ini[1]>=8 and p1ini[0]>=8:\n",
    "            \n",
    "            ax.plot([p1[0],p2[0]],[p1[1],p2[1]],[p1[2],p2[2]],color=color,linewidth=0.2, marker='o',markersize=2)\n",
    "#             ax.plot([p1[0],p2[0]],[p1[1],p2[1]],[p1[2],p2[2]],color=color,linewidth=0.01,alpha=0.1, marker='o',markersize=0)\n",
    "        elif p1ini[2]>=19 and p1ini[1]>=9 and p1ini[0]>=9:\n",
    "#             print(p2[0])\n",
    "            ax.plot([p1[0],p2[0]],[p1[1],p2[1]],[p1[2],p2[2]],color=color,linewidth=0.1, marker='o',markersize=2)\n",
    "    ax.set_zlabel(\"z\")\n",
    "    ax.set_xlabel(\"x\")\n",
    "    ax.set_ylabel(\"y\")\n",
    "#     plt.show()\n",
    "    fig.savefig(f\"latt_unit.pdf\", format=\"pdf\", transparent=True)\n",
    "    return"
   ]
  },
  {
   "cell_type": "code",
   "execution_count": null,
   "id": "japanese-insert",
   "metadata": {},
   "outputs": [],
   "source": [
    "# Coordinates and Connectivity matrices: \n",
    "xmax=10;ymax=10;zmax=20 # box's dimensions\n",
    "nx, ny, nz = (13,13,25) # particles per axis\n",
    "# nx, ny, nz = (17,17,33)\n",
    "\n",
    "s=0.\n",
    "\n",
    "dhx=0.;dhy=0.;dhz=0.\n",
    "if nx>1: dhx=xmax/(nx-1)\n",
    "if ny>1: dhy=ymax/(ny-1)\n",
    "if nz>1: dhz=zmax/(nz-1)\n",
    "\n",
    "def nop(i,j,k):\n",
    "    return j+i*ny+k*nx*ny\n",
    "coorM=np.zeros((nx*ny*nz,3))\n",
    "nels=(nx*ny*nz)**2\n",
    "\n",
    "conneM=np.zeros((nels,2),dtype=np.uint32)\n",
    "\n",
    "el=0\n",
    "perbc=[]\n",
    "for k in range(nz):\n",
    "    for i in range(nx):\n",
    "        for j in range(ny):\n",
    "            # periodic connectivity\n",
    "            \n",
    "            if i==nx-1 and j!=ny-1: perbc.append([nop(i,j,k),nop(i-nx+1,j,k)])\n",
    "            \n",
    "            if j==ny-1: perbc.append([nop(i,j,k),nop(i,j-ny+1,k)])\n",
    "            \n",
    "            if k==nz-1 and i!=nx-1 and j!=ny-1: perbc.append([nop(i,j,k),nop(i,j,k-nz+1)])\n",
    "            \n",
    "            # nodes'coordinates\n",
    "            perturbation=np.array([np.random.uniform(-s,s)*dhx,\n",
    "                                       np.random.uniform(-s,s)*dhy,\n",
    "                                       np.random.uniform(-s,s)*dhz])\n",
    "            perturbation=np.multiply(perturbation,np.array(np.sign([nx-1,ny-1,nz-1])))\n",
    "            coorM[nop(i,j,k)]=np.array([i*dhx,j*dhy,k*dhz])+perturbation\n",
    "            if  i==nx-1: coorM[nop(i,j,k)]=coorM[nop(0,j,k)]+np.array([dhx*(nx-1),0,0])\n",
    "            if  j==ny-1: coorM[nop(i,j,k)]=coorM[nop(i,0,k)]+np.array([0,dhy*(ny-1),0])\n",
    "            if  k==nz-1: coorM[nop(i,j,k)]=coorM[nop(i,j,0)]+np.array([0,0,dhz*(nz-1)])\n",
    "            \n",
    "            # nodes' connectivity - elements\n",
    "            if i<nx-1:\n",
    "                conneM[el]=np.array([nop(i,j,k),nop(i+1,j,k)]); el+=1\n",
    "            if j<ny-1: \n",
    "                conneM[el]=np.array([nop(i,j,k),nop(i,j+1,k)]); el+=1\n",
    "            if i<nx-1 and j<ny-1: \n",
    "                conneM[el]=np.array([nop(i,j,k),nop(i+1,j+1,k)]); el+=1 \n",
    "            if i>0 and j<ny-1: \n",
    "                conneM[el]=np.array([nop(i,j,k),nop(i-1,j+1,k)]); el+=1   \n",
    "\n",
    "            if k>0:\n",
    "                conneM[el]=np.array([nop(i,j,k),nop(i,j,k-1)]); el+=1\n",
    "                if j<ny-1: \n",
    "                    conneM[el]=np.array([nop(i,j,k),nop(i,j+1,k-1)]); el+=1   \n",
    "                if j>0: \n",
    "                    conneM[el]=np.array([nop(i,j,k),nop(i,j-1,k-1)]); el+=1   \n",
    "                if i<nx-1: \n",
    "                    conneM[el]=np.array([nop(i,j,k),nop(i+1,j,k-1)]); el+=1\n",
    "                if i>0: \n",
    "                    conneM[el]=np.array([nop(i,j,k),nop(i-1,j,k-1)]); el+=1\n",
    "                \n",
    "                if i>0 and j>0: \n",
    "                    conneM[el]=np.array([nop(i,j,k),nop(i-1,j-1,k-1)]); el+=1\n",
    "                if i>0 and j<ny-1: \n",
    "                    conneM[el]=np.array([nop(i,j,k),nop(i-1,j+1,k-1)]); el+=1\n",
    "                if i<nx-1 and j<ny-1: \n",
    "                    conneM[el]=np.array([nop(i,j,k),nop(i+1,j+1,k-1)]); el+=1\n",
    "                if i<nx-1 and j>0: \n",
    "                    conneM[el]=np.array([nop(i,j,k),nop(i+1,j-1,k-1)]); el+=1          \n",
    "                \n",
    "conneM=conneM[:el]\n",
    "# groupM=groupM[:el]\n",
    "\n",
    "groupM=np.zeros((el),dtype=np.uint32)\n",
    "toleps=1e-4\n",
    "e1=np.array([1.,0,0]);e2=np.array([0,1.,0]);e3=np.array([0,0,1.])\n",
    "for i in range(el):    \n",
    "    a,b=coorM[conneM[i]]\n",
    "    ab=b+a; ab=ab/np.linalg.norm(ab)\n",
    "#     print(a,b)\n",
    "    \n",
    "    if np.abs(a[2]-b[2])<=toleps and (np.abs(a[2]-0)<=toleps or np.abs(a[2]-zmax)<=toleps):\n",
    "#         print(i)\n",
    "        groupM[i]=1\n",
    "    if np.abs(a[1]-b[1])<=toleps and (np.abs(a[1]-0)<=toleps or np.abs(a[1]-ymax)<=toleps):\n",
    "#         print(i)\n",
    "        groupM[i]=1\n",
    "    if np.abs(a[0]-b[0])<=toleps and (np.abs(a[0]-0)<=toleps or np.abs(a[0]-xmax)<=toleps):\n",
    "#         print(i)\n",
    "        groupM[i]=1\n",
    "    if ((np.abs(a[0]-b[0])<=toleps and (np.abs(a[0]-0)<=toleps or np.abs(a[0]-xmax)<=toleps)) and \n",
    "       (np.abs(a[1]-b[1])<=toleps and (np.abs(a[1]-0)<=toleps or np.abs(a[1]-ymax)<=toleps)) ):\n",
    "        groupM[i]=2\n",
    "    if ((np.abs(a[0]-b[0])<=toleps and (np.abs(a[0]-0)<=toleps or np.abs(a[0]-xmax)<=toleps)) and \n",
    "       (np.abs(a[2]-b[2])<=toleps and (np.abs(a[2]-0)<=toleps or np.abs(a[2]-zmax)<=toleps))) :\n",
    "        groupM[i]=2\n",
    "    if ((np.abs(a[1]-b[1])<=toleps and (np.abs(a[1]-0)<=toleps or np.abs(a[1]-ymax)<=toleps)) and\n",
    "       (np.abs(a[2]-b[2])<=toleps and (np.abs(a[2]-0)<=toleps or np.abs(a[2]-zmax)<=toleps))) :\n",
    "        groupM[i]=2\n",
    "\n",
    "print(groupM[groupM==0].shape,groupM[groupM==2].shape,groupM[groupM==1].shape)\n",
    "# print(\"number of elements\",el)\n",
    "# print(\"number of nodes\",nx*ny*nz)\n",
    "# print(\"group\",groupM)\n",
    "# print(\"number of periodic constraints\",len(perbc))\n",
    "perbc0=None\n",
    "# coorM[:,0]=coorM[:,0]-xmax/2\n",
    "# coorM[:,1]=coorM[:,1]-ymax/2\n",
    "# print(len(perbc))\n",
    "# print(perbc)\n",
    "# plot_elems(conneM,coorM,groupM,True)\n",
    "\n"
   ]
  },
  {
   "cell_type": "code",
   "execution_count": null,
   "id": "remarkable-senior",
   "metadata": {},
   "outputs": [],
   "source": [
    "u=coorM+add_svarsGP\n",
    "plot_elems(conneM,u,groupM,coorM,True)\n",
    "ax.scatter(uu[0,0], uu[0,1], uu[0,2], c='red', marker='o')\n",
    "ax.scatter(uu[1,0], uu[1,1], uu[1,2], c='blue', marker='o')\n",
    "ax.scatter(uu[2,0], uu[2,1], uu[2,2], c='darkblue', marker='o')\n",
    "ax.scatter(uu[3,0], uu[3,1], uu[3,2], c='black', marker='o')\n",
    "ax.scatter(uu[4,0], uu[4,1], uu[4,2], c='red', marker='x')\n",
    "ax.scatter(uu[5,0], uu[5,1], uu[5,2], c='blue', marker='x')\n",
    "ax.scatter(uu[6,0], uu[6,1], uu[6,2], c='darkblue', marker='x')\n",
    "ax.scatter(uu[7,0], uu[7,1], uu[7,2], c='black', marker='x')"
   ]
  },
  {
   "cell_type": "code",
   "execution_count": null,
   "id": "vanilla-quest",
   "metadata": {},
   "outputs": [],
   "source": []
  },
  {
   "cell_type": "code",
   "execution_count": null,
   "id": "computational-cookie",
   "metadata": {},
   "outputs": [],
   "source": []
  },
  {
   "cell_type": "code",
   "execution_count": null,
   "id": "competitive-impression",
   "metadata": {},
   "outputs": [],
   "source": []
  },
  {
   "cell_type": "code",
   "execution_count": null,
   "id": "front-diary",
   "metadata": {},
   "outputs": [],
   "source": [
    "coor=np.array([[10., 10., 20.],\n",
    "          [10.   ,  9.375, 20.   ],\n",
    "          [ 9.375, 10.   , 20.   ],\n",
    "          [ 9.375,  9.375, 20.   ],\n",
    "          [10.   , 10.   , 19.375],\n",
    "          [10.   ,  9.375, 19.375],\n",
    "          [ 9.375, 10.   , 19.375],\n",
    "          [ 9.375,  9.375, 19.375]])\n",
    "u=np.array([[-4.38371583,  2.04416026,  1.51351687],\n",
    "            [-3.98197358,  2.19038249,  1.2552332 ],\n",
    "            [-4.23749361,  1.64241801,  1.11118726],\n",
    "            [-3.83575135,  1.78864023,  0.84279598],\n",
    "            [-3.85502574,  2.37068763,  1.32973602],\n",
    "            [-3.43879182,  2.42948883,  1.11462578],\n",
    "            [-3.79622455,  2.00870738,  0.97057984],\n",
    "            [-3.40878524,  2.03871397,  0.75430319]])"
   ]
  },
  {
   "cell_type": "code",
   "execution_count": null,
   "id": "contemporary-upper",
   "metadata": {},
   "outputs": [],
   "source": [
    "uu=u+coor"
   ]
  },
  {
   "cell_type": "code",
   "execution_count": null,
   "id": "soviet-desktop",
   "metadata": {},
   "outputs": [],
   "source": [
    "from mpl_toolkits.mplot3d import Axes3D\n",
    "fig = plt.figure()\n",
    "ax = fig.gca(projection='3d')\n",
    "# for i in range(coor.shape[0]):\n",
    "# #     p1 = coor[cons[0]]; p2 = coor[cons[1]]\n",
    "# #     color=colors[group[i]]\n",
    "# #     ax.scatter(coor[i],linewidth=1, marker='o',markersize=5)\n",
    "ax.scatter(coor[:,0], coor[:,1], coor[:,2], c='b', marker='o')\n",
    "ax.scatter(0, 0, 0, c='red', marker='o')\n",
    "ax.scatter(uu[0,0], uu[0,1], uu[0,2], c='red', marker='o')\n",
    "ax.scatter(uu[1,0], uu[1,1], uu[1,2], c='blue', marker='o')\n",
    "ax.scatter(uu[2,0], uu[2,1], uu[2,2], c='darkblue', marker='o')\n",
    "ax.scatter(uu[3,0], uu[3,1], uu[3,2], c='black', marker='o')\n",
    "ax.scatter(uu[4,0], uu[4,1], uu[4,2], c='red', marker='x')\n",
    "ax.scatter(uu[5,0], uu[5,1], uu[5,2], c='blue', marker='x')\n",
    "ax.scatter(uu[6,0], uu[6,1], uu[6,2], c='darkblue', marker='x')\n",
    "ax.scatter(uu[7,0], uu[7,1], uu[7,2], c='black', marker='x')\n",
    "\n",
    "# ax.scatter(uu[-4:,0], uu[-4:,1], uu[-4:,2], c='b', marker='o')\n",
    "\n",
    "ax.set_zlabel(\"z\")\n",
    "ax.set_xlabel(\"x\")\n",
    "ax.set_ylabel(\"y\")\n",
    "plt.show()"
   ]
  },
  {
   "cell_type": "code",
   "execution_count": null,
   "id": "attended-particular",
   "metadata": {},
   "outputs": [],
   "source": [
    "coor.shape[0]"
   ]
  },
  {
   "cell_type": "code",
   "execution_count": null,
   "id": "coral-column",
   "metadata": {},
   "outputs": [],
   "source": []
  },
  {
   "cell_type": "code",
   "execution_count": null,
   "id": "jewish-martin",
   "metadata": {},
   "outputs": [],
   "source": [
    "# file = './Micro-3D_L21x21x41_TORSION'\n",
    "# with open(file, 'rb') as f_obj:\n",
    "#     data = pickle.load(f_obj)\n",
    "# svarsGP,add_svarsGP,nparticles,nbars,nsvars,niter,nel = data\n",
    "# E_m[6]=100*svarsGP[-3]\n",
    "# D_m[6]=svarsGP[-2]\n",
    "# U_m[6]=np.amax(add_svarsGP[:,2])"
   ]
  },
  {
   "cell_type": "code",
   "execution_count": null,
   "id": "blind-throw",
   "metadata": {},
   "outputs": [],
   "source": [
    "# e = np.array([1/1,1/2,1/4,1/8,1/12,1/16,1/20,1/24,1/28])\n",
    "e = np.array([1/1,1/2,1/4,1/8,1/12,1/16])\n",
    "# E_m = 100*E_m\n",
    "E_m,U_m,D_m"
   ]
  },
  {
   "cell_type": "code",
   "execution_count": null,
   "id": "capital-printer",
   "metadata": {},
   "outputs": [],
   "source": [
    "DU_m = np.array([U_m[i+1]-U_m[i] for i in range(U_m.shape[0]-1)])\n",
    "DU_m"
   ]
  },
  {
   "cell_type": "code",
   "execution_count": null,
   "id": "paperback-recycling",
   "metadata": {},
   "outputs": [],
   "source": [
    "# U_m[-3]=U_m[-4]+0.03285709/2\n",
    "# U_m[-2]=U_m[-3]+0.03285709/4\n",
    "# U_m[-1]=U_m[-2]+0.03285709/8"
   ]
  },
  {
   "cell_type": "code",
   "execution_count": null,
   "id": "checked-terry",
   "metadata": {},
   "outputs": [],
   "source": [
    "# file = './Macro-3D_L15x15x15_TORSION_H2_V1'\n",
    "# with open(file, 'rb') as f_obj:\n",
    "#     data = pickle.load(f_obj)\n",
    "# usol,stress,svars,ISV,IC = data\n",
    "# energy= svars[:,-3]\n",
    "# dissipation= svars[:,6+6+22+1:6+6+22+2]\n",
    "# usol=np.reshape(usol,(-1,3))\n",
    "# U0=np.amax(usol[:,2])\n",
    "# E0=np.sum(energy)\n",
    "# D0=np.sum(dissipation)\n",
    "# N=15*15*15\n",
    "# V=1*1*1\n",
    "# # print(np.mean(IC[-6:],axis=0)[-8:]) #(take -2): -0.93940901\n",
    "# IC_u = IC[:,-24:]\n",
    "# IC_f = IC[:,:-24]\n",
    "# IC_u = IC_u.reshape(IC_u.shape[0],IC_u.shape[1]//3,3)\n",
    "# # IC[-6:,-4:] #(take -2): -0.90854154\n",
    "# U1=np.mean(1+IC_u[IC_u.shape[0]-15*14*6,2])\n",
    "# E0=E0*V/(N*6)\n",
    "# U0,E0*4"
   ]
  },
  {
   "cell_type": "code",
   "execution_count": null,
   "id": "classified-france",
   "metadata": {},
   "outputs": [],
   "source": []
  },
  {
   "cell_type": "code",
   "execution_count": null,
   "id": "built-stability",
   "metadata": {},
   "outputs": [],
   "source": [
    "# file = './Micro-3D_L9x9x9_TORSION_2H_V1x1x1'\n",
    "# with open(file, 'rb') as f_obj:\n",
    "#     data = pickle.load(f_obj)\n",
    "# svarsGP,add_svarsGP,nparticles,nbars,nsvars,niter,nel = data\n",
    "# print(svarsGP[-3],svarsGP[-2],np.amax(add_svarsGP[:,2]))\n",
    "# # U_m[0,1]=np.amax(add_svarsGP[:,1])"
   ]
  },
  {
   "cell_type": "code",
   "execution_count": null,
   "id": "revised-engineering",
   "metadata": {},
   "outputs": [],
   "source": [
    "# file = './Macro-3D_L15x15x30_T_V10x10x20'\n",
    "# with open(file, 'rb') as f_obj:\n",
    "#     data = pickle.load(f_obj)\n",
    "# usol,stress,svars,ISV,IC = data\n",
    "# energy= svars[:,-3]\n",
    "# dissipation= svars[:,6+6+22+1:6+6+22+2]\n",
    "# usol=np.reshape(usol,(-1,3))\n",
    "# U0=np.amax(usol[:,2])\n",
    "# E0=np.sum(energy)\n",
    "# D0=np.sum(dissipation)\n",
    "# N=15*15*30\n",
    "# V=10*10*20\n",
    "# # print(np.mean(IC[-6:],axis=0)[-8:]) #(take -2): -0.93940901\n",
    "# IC_u = IC[:,-24:]\n",
    "# IC_f = IC[:,:-24]\n",
    "# IC_u = IC_u.reshape(IC_u.shape[0],IC_u.shape[1]//3,3)\n",
    "# # IC[-6:,-4:] #(take -2): -0.90854154\n",
    "# U1=np.mean(1+IC_u[IC_u.shape[0]-15*14*6,2])\n",
    "# E0=E0*V/(N*6)\n",
    "# U0,E0"
   ]
  },
  {
   "cell_type": "code",
   "execution_count": null,
   "id": "neutral-definition",
   "metadata": {},
   "outputs": [],
   "source": [
    "file = './Macro-3D_L20x20x40_T_V10x10x20'\n",
    "with open(file, 'rb') as f_obj:\n",
    "    data = pickle.load(f_obj)\n",
    "usol,stress,svars,ISV,IC = data\n",
    "energy= svars[:,-3]\n",
    "dissipation= svars[:,6+6+22+1:6+6+22+2]\n",
    "usol=np.reshape(usol,(-1,3))\n",
    "U0=np.amax(usol[:,2])\n",
    "E0=np.sum(energy)\n",
    "D0=np.sum(dissipation)\n",
    "N=20*20*40\n",
    "V=10*10*20\n",
    "# print(np.mean(IC[-6:],axis=0)[-8:]) #(take -2): -0.93940901\n",
    "IC_u = IC[:,-24:]\n",
    "IC_f = IC[:,:-24]\n",
    "IC_u = IC_u.reshape(IC_u.shape[0],IC_u.shape[1]//3,3)\n",
    "# IC[-6:,-4:] #(take -2): -0.90854154\n",
    "U1=np.mean(1+IC_u[IC_u.shape[0]-20*19*6,2])\n",
    "E0=E0*V/(N*6)\n",
    "U0,E0"
   ]
  },
  {
   "cell_type": "code",
   "execution_count": null,
   "id": "complete-audit",
   "metadata": {},
   "outputs": [],
   "source": [
    "IC_FM[-1],IC_Fm[-3]"
   ]
  },
  {
   "cell_type": "code",
   "execution_count": null,
   "id": "short-lodging",
   "metadata": {},
   "outputs": [],
   "source": [
    "n = IC_u.shape[0]-20*19*6\n",
    "IC_F=np.array([IC_f[n,24],IC_f[n,25],IC_f[n,26],IC_f[n,27],IC_f[n,8],IC_f[n,13],IC_f[n,18]])"
   ]
  },
  {
   "cell_type": "code",
   "execution_count": null,
   "id": "sized-acting",
   "metadata": {},
   "outputs": [],
   "source": [
    "E0,E_m"
   ]
  },
  {
   "cell_type": "code",
   "execution_count": null,
   "id": "following-sucking",
   "metadata": {},
   "outputs": [],
   "source": [
    "U_M = U0*np.ones((U_m.shape[0]))+e*U1\n",
    "U_0 = np.ones((U_m.shape[0]))*U0\n",
    "E_M = np.ones((U_m.shape[0]))*E0\n",
    "IC_FM= np.ones((IC_Fm.shape[0],IC_Fm.shape[1]))*IC_F"
   ]
  },
  {
   "cell_type": "code",
   "execution_count": null,
   "id": "ethical-religion",
   "metadata": {},
   "outputs": [],
   "source": [
    "DU_m = np.array([U_m[i+1]-U_m[i] for i in range(U_m.shape[0]-1)])\n",
    "DE_m = np.array([E_m[i+1]-E_m[i] for i in range(U_m.shape[0]-1)])\n",
    "# E_m[-3]=E_m[-4]+(-0.00732301)/2\n",
    "# E_m[-2]=E_m[-3]+(-0.00732301)/4\n",
    "# E_m[-1]=E_m[-2]+(-0.00732301)/8"
   ]
  },
  {
   "cell_type": "code",
   "execution_count": null,
   "id": "macro-uncle",
   "metadata": {},
   "outputs": [],
   "source": [
    "# U_m_e = np.zeros(9)\n",
    "# E_m_e = np.zeros(9)\n",
    "# U_m_e[:-3]=U_m\n",
    "# E_m_e[:-3]=E_m\n",
    "# U_m_e[-3]=U_m_e[-4]+0.03285709/2\n",
    "# U_m_e[-2]=U_m_e[-3]+0.03285709/4\n",
    "# U_m_e[-1]=U_m_e[-2]+0.03285709/8\n",
    "\n",
    "# E_m_e[-3]=E_m_e[-4]+(-0.00732301)/2\n",
    "# E_m_e[-2]=E_m_e[-3]+(-0.00732301)/4\n",
    "# E_m_e[-1]=E_m_e[-2]+(-0.00732301)/8\n",
    "\n",
    "# e_e = np.array([1/1,1/2,1/4,1/8,1/12,1/16,1/20,1/24,1/28])"
   ]
  },
  {
   "cell_type": "code",
   "execution_count": null,
   "id": "front-durham",
   "metadata": {},
   "outputs": [],
   "source": [
    "# U_M_e = U0*np.ones((U_m_e.shape[0]))+e_e*U1\n",
    "# U_0_e = np.ones((U_m_e.shape[0]))*U0\n",
    "# E_0_e = np.ones((U_m_e.shape[0]))*E0"
   ]
  },
  {
   "cell_type": "code",
   "execution_count": null,
   "id": "amazing-composition",
   "metadata": {},
   "outputs": [],
   "source": [
    "import matplotlib.pyplot as plt\n",
    "from matplotlib.ticker import (MultipleLocator, FormatStrFormatter, AutoMinorLocator)\n",
    "import matplotlib as mpl\n",
    "mpl.rcParams['axes.unicode_minus']=False\n",
    "plt.rcParams[\"figure.figsize\"] = (4,3)\n",
    "import matplotlib.pyplot as plt\n",
    "# # plt.rcParams[\"font.family\"] = \"Times New Roman\"\n",
    "font = {'size'   : 13}\n",
    "from matplotlib import rc\n",
    "plt.rc('font', **font)\n",
    "ftsz_leg = 9\n",
    "ftsz = 12\n",
    "mkSZ = 4\n",
    "mkSZs = 0\n",
    "lnWDT = .5\n",
    "lnWDTs = 6\n",
    "from matplotlib import rc\n",
    "rc('font',**{'family':'sans-serif','sans-serif':['Times New Roman']})\n",
    "## for Palatino and other serif fonts use:\n",
    "#rc('font',**{'family':'serif','serif':['Palatino']})\n",
    "rc('text', usetex=True)\n",
    "\n",
    "import numpy as np\n",
    "import matplotlib.pyplot as plt"
   ]
  },
  {
   "cell_type": "code",
   "execution_count": null,
   "id": "spanish-contrary",
   "metadata": {},
   "outputs": [],
   "source": [
    "cE = 8.96; cD = 9.0; A = np.pi*(1e-2)**2; cP=1000\n",
    "plt.rc('text', usetex=True)\n",
    "plt.rc('font', family='serif')\n",
    "fig = plt.figure(figsize=(4,2.75*1))\n",
    "# (ax11), (ax12) = fig.subplots(1,2)\n",
    "(ax11) = fig.subplots(1,1)\n",
    "plt.tight_layout(pad=2.5, w_pad=3.5, h_pad=3.5)\n",
    "ax11.margins(x=0.1, y = 0.1)\n",
    "ax11.xaxis.set_minor_locator(AutoMinorLocator())\n",
    "ax11.yaxis.set_minor_locator(AutoMinorLocator())\n",
    "\n",
    "ax11.plot(1/e,E_m*cE*A, color='red', marker=\"o\",markersize=mkSZ,linewidth=lnWDT,label=\"$\\mathit{\\Psi}^{\\epsilon}_{tot}$\")\n",
    "ax11.plot(1/e,E_M*cE*A, color='mediumblue', marker=\"s\",markersize=mkSZ,linewidth=lnWDT,label=\"$\\mathit{\\Psi}^{(1)}_{tot}$\")\n",
    "\n",
    "ax11.set_xlabel('$1/\\epsilon$')\n",
    "ax11.set_ylabel('$\\mathit{\\Psi}$ (kNm)')\n",
    "# ax11.ticklabel_format(axis=\"x\", style=\"sci\", scilimits=(3,3))\n",
    "# ax11.ticklabel_format(axis=\"y\", style=\"sci\", scilimits=(0,0))\n",
    "ax11.legend(loc='best',fontsize=ftsz_leg)\n",
    "ax11.grid(True, which='major', linewidth=0.3, color='lightgray')\n",
    "ax11.grid(True, which='minor', linewidth=0.3, alpha=0.2, color='lightgray')\n",
    "# ax11.set_ylim([E_m[0]*cE*A*1000-1,E_m[0]*cE*A*1000+1])\n",
    "fig.savefig(f\"TORS_EL_ene.pdf\", format=\"pdf\", transparent=True)\n",
    "\n",
    "plt.rc('text', usetex=True)\n",
    "plt.rc('font', family='serif')\n",
    "fig = plt.figure(figsize=(4,2.75))\n",
    "# (ax11), (ax12) = fig.subplots(1,2)\n",
    "(ax11) = fig.subplots(1,1)\n",
    "plt.tight_layout(pad=2.5, w_pad=3.5, h_pad=3.5)\n",
    "ax11.margins(x=0.1, y = 0.1)\n",
    "ax11.xaxis.set_minor_locator(AutoMinorLocator())\n",
    "ax11.yaxis.set_minor_locator(AutoMinorLocator())\n",
    "ax11.plot(1/e,U_0, color='black', alpha=0.8, marker=\"o\",linestyle='-',markersize=mkSZ*0,linewidth=lnWDT,label=\"$u^{(0)}$\")\n",
    "ax11.plot(1/e,U_M, color='mediumblue', alpha=1, marker=\"s\",markersize=mkSZ,linewidth=lnWDT,label=\"$u^{(0)}+\\epsilon u^{(1)}$\")\n",
    "ax11.plot(1/e,U_m, color='red', marker=\"o\",markersize=mkSZ,linewidth=lnWDT,label=\"$u^{\\epsilon}$\")\n",
    "# # ax12.plot(1/e,Ue, color='red', alpha=1,marker=\"o\",markersize=mkSZ,linewidth=lnWDT,label=\"$u^{\\epsilon}$\")\n",
    "ax11.set_xlabel('$1/\\epsilon$')\n",
    "ax11.set_ylabel('$u$ (cm)')\n",
    "# ax12.ticklabel_format(axis=\"x\", style=\"sci\", scilimits=(3,3))\n",
    "# ax12.ticklabel_format(axis=\"y\", style=\"sci\", scilimits=(0,0))\n",
    "ax11.legend(loc='best',fontsize=ftsz_leg)\n",
    "ax11.grid(True, which='major', linewidth=0.3, color='lightgray')\n",
    "ax11.grid(True, which='minor', linewidth=0.3, alpha=0.2, color='lightgray')\n",
    "\n",
    "\n",
    "fig.savefig(f\"TORS_EL_dis.pdf\", format=\"pdf\", transparent=True)\n",
    "\n",
    "# plt.rc('text', usetex=True)\n",
    "# plt.rc('font', family='serif')\n",
    "# fig = plt.figure(figsize=(4,2.75))\n",
    "# # (ax11), (ax12) = fig.subplots(1,2)\n",
    "# (ax11) = fig.subplots(1,1)\n",
    "# plt.tight_layout(pad=2.5, w_pad=3.5, h_pad=3.5)\n",
    "# ax11.margins(x=0.1, y = 0.1)\n",
    "# ax11.xaxis.set_minor_locator(AutoMinorLocator())\n",
    "# ax11.yaxis.set_minor_locator(AutoMinorLocator())\n",
    "# ax11.plot(1/e,D_m*cE*A, color='red', marker=\"o\",markersize=mkSZ,linewidth=lnWDT,label=\"$D^{\\epsilon}_{tot}$\")\n",
    "# ax11.plot(1/e_M,D_M*cE*A+0.018, color='mediumblue', marker=\"s\",markersize=mkSZ,linewidth=lnWDT,label=\"$D^{(1)}_{tot}$\")\n",
    "# # # ax12.plot(1/e,Ue, color='red', alpha=1,marker=\"o\",markersize=mkSZ,linewidth=lnWDT,label=\"$u^{\\epsilon}$\")\n",
    "# # ax11.set_ylim([D_m[0]*cE*A*1000-1,D_m[0]*cE*A*1000+1])\n",
    "# ax11.set_xlabel('$1/\\epsilon$')\n",
    "# ax11.set_ylabel('$D$ (kNm/s)')\n",
    "# # ax12.ticklabel_format(axis=\"x\", style=\"sci\", scilimits=(3,3))\n",
    "# # ax12.ticklabel_format(axis=\"y\", style=\"sci\", scilimits=(0,0))\n",
    "# ax11.legend(loc='best',fontsize=ftsz_leg)\n",
    "# ax11.grid(True, which='major', linewidth=0.3, color='lightgray')\n",
    "# ax11.grid(True, which='minor', linewidth=0.3, alpha=0.2, color='lightgray')\n",
    "\n",
    "\n",
    "# fig.savefig(f\"COMP_PL_dt.pdf\", format=\"pdf\", transparent=True)"
   ]
  },
  {
   "cell_type": "code",
   "execution_count": null,
   "id": "incoming-kansas",
   "metadata": {},
   "outputs": [],
   "source": [
    "E_m,E_0*2"
   ]
  },
  {
   "cell_type": "code",
   "execution_count": null,
   "id": "biblical-there",
   "metadata": {},
   "outputs": [],
   "source": [
    "plt.rc('text', usetex=True)\n",
    "plt.rc('font', family='serif')\n",
    "fig = plt.figure(figsize=(4*4,2.))\n",
    "(ax11), (ax12) , (ax13), (ax14) = fig.subplots(1,4)\n",
    "# (ax11) = fig.subplots(1,1)\n",
    "plt.tight_layout(pad=2.5, w_pad=3.5, h_pad=3.5)\n",
    "ax11.margins(x=0.1, y = 0.1)\n",
    "ax11.xaxis.set_minor_locator(AutoMinorLocator())\n",
    "ax11.yaxis.set_minor_locator(AutoMinorLocator())\n",
    "\n",
    "ax11.plot(1/e,IC_Fm[:,-1]*cP, color='red', marker=\"o\",markersize=mkSZ,linewidth=lnWDT,label=\"micro\")\n",
    "ax11.plot(1/e,IC_FM[:,-1]*cP, color='mediumblue', marker=\"o\",markersize=mkSZ,linewidth=lnWDT,label=\"TANN\")\n",
    "\n",
    "ax11.set_xlabel('$1/\\epsilon$')\n",
    "ax11.set_ylabel('$\\sigma$ (MPa)')\n",
    "ax11.legend(loc='best',fontsize=ftsz_leg)\n",
    "ax11.grid(True, which='major', linewidth=0.3, color='lightgray')\n",
    "ax11.grid(True, which='minor', linewidth=0.3, alpha=0.2, color='lightgray')\n",
    "\n",
    "ax12.margins(x=0.1, y = 0.1)\n",
    "ax12.xaxis.set_minor_locator(AutoMinorLocator())\n",
    "ax12.yaxis.set_minor_locator(AutoMinorLocator())\n",
    "\n",
    "# ax12.plot(1/e,IC_Fm[:,1], color='red', marker=\"o\",markersize=mkSZ,linewidth=lnWDT,label=\"$\\mathit{\\Psi}^{\\epsilon}$\")\n",
    "# ax12.plot(1/e_M,IC_FM[:,1], color='mediumblue', marker=\"o\",markersize=mkSZ,linewidth=lnWDT,label=\"$\\mathit{\\Psi}^{(1)}$\")\n",
    "ax12.plot(1/e,IC_Fm[:,2]*cP, color='red', marker=\"o\",markersize=mkSZ,linewidth=lnWDT,label=\"micro\")\n",
    "ax12.plot(1/e,IC_FM[:,2]*cP, color='mediumblue', marker=\"o\",markersize=mkSZ,linewidth=lnWDT,label=\"TANN\")\n",
    "\n",
    "ax12.set_xlabel('$1/\\epsilon$')\n",
    "ax12.set_ylabel('$\\sigma$ (MPa)')\n",
    "ax12.legend(loc='best',fontsize=ftsz_leg)\n",
    "ax12.grid(True, which='major', linewidth=0.3, color='lightgray')\n",
    "ax12.grid(True, which='minor', linewidth=0.3, alpha=0.2, color='lightgray')\n",
    "\n",
    "ax13.margins(x=0.1, y = 0.1)\n",
    "ax13.xaxis.set_minor_locator(AutoMinorLocator())\n",
    "ax13.yaxis.set_minor_locator(AutoMinorLocator())\n",
    "\n",
    "ax13.plot(1/e,IC_Fm[:,-4]*cP, color='red', marker=\"o\",markersize=mkSZ,linewidth=lnWDT,label=\"micro\")\n",
    "ax13.plot(1/e,IC_FM[:,-4]*cP, color='mediumblue', marker=\"o\",markersize=mkSZ,linewidth=lnWDT,label=\"TANN\")\n",
    "\n",
    "ax13.set_xlabel('$1/\\epsilon$')\n",
    "ax13.set_ylabel('$\\sigma$ (MPa)')\n",
    "ax13.legend(loc='best',fontsize=ftsz_leg)\n",
    "ax13.grid(True, which='major', linewidth=0.3, color='lightgray')\n",
    "ax13.grid(True, which='minor', linewidth=0.3, alpha=0.2, color='lightgray')\n",
    "\n",
    "ax14.margins(x=0.1, y = 0.1)\n",
    "ax14.xaxis.set_minor_locator(AutoMinorLocator())\n",
    "ax14.yaxis.set_minor_locator(AutoMinorLocator())\n",
    "ax14.plot(1/e,IC_Fm[:,0]*cP, color='red', marker=\"o\",markersize=mkSZ,linewidth=lnWDT,label=\"micro\")\n",
    "ax14.plot(1/e,IC_FM[:,0]*cP, color='mediumblue', marker=\"o\",markersize=mkSZ,linewidth=lnWDT,label=\"TANN\")\n",
    "\n",
    "ax14.set_xlabel('$1/\\epsilon$')\n",
    "ax14.set_ylabel('$\\sigma$ (MPa)')\n",
    "ax14.legend(loc='best',fontsize=ftsz_leg)\n",
    "ax14.grid(True, which='major', linewidth=0.3, color='lightgray')\n",
    "ax14.grid(True, which='minor', linewidth=0.3, alpha=0.2, color='lightgray')\n",
    "# ax14.set_ylim([-365,-375])\n",
    "\n",
    "# fig.savefig(f\"TORS_PL_stress.pdf\", format=\"pdf\", transparent=True)"
   ]
  },
  {
   "cell_type": "code",
   "execution_count": null,
   "id": "understanding-terrorism",
   "metadata": {},
   "outputs": [],
   "source": [
    "IC_FM[-1],IC_Fm[-3]"
   ]
  },
  {
   "cell_type": "code",
   "execution_count": null,
   "id": "assured-disposal",
   "metadata": {},
   "outputs": [],
   "source": [
    "40499-13*6"
   ]
  },
  {
   "cell_type": "code",
   "execution_count": null,
   "id": "respected-theater",
   "metadata": {},
   "outputs": [],
   "source": [
    "print(M_IC_f[8],m_IC_f161631[8])\n",
    "print(M_IC_f[13],m_IC_f161631[13])\n",
    "print(M_IC_f[18],m_IC_f161631[18])\n",
    "print(M_IC_f[-4],m_IC_f161631[-4])\n",
    "print(M_IC_f[-3],m_IC_f161631[-3])\n",
    "print(M_IC_f[-2],m_IC_f161631[-2])\n",
    "print(M_IC_f[-1],m_IC_f161631[-1])"
   ]
  },
  {
   "cell_type": "code",
   "execution_count": null,
   "id": "micro-constraint",
   "metadata": {},
   "outputs": [],
   "source": [
    "print(M_IC_f[8],m_IC_f111121[8])\n",
    "print(M_IC_f[13],m_IC_f111121[13])\n",
    "print(M_IC_f[18],m_IC_f111121[18])\n",
    "print(M_IC_f[-4],m_IC_f111121[-4])\n",
    "print(M_IC_f[-3],m_IC_f111121[-3])\n",
    "print(M_IC_f[-2],m_IC_f111121[-2])\n",
    "print(M_IC_f[-1],m_IC_f111121[-1])"
   ]
  },
  {
   "cell_type": "code",
   "execution_count": null,
   "id": "comparable-carnival",
   "metadata": {},
   "outputs": [],
   "source": [
    "print(M_IC_f[8],m_IC_f212141[8])\n",
    "print(M_IC_f[13],m_IC_f212141[13])\n",
    "print(M_IC_f[18],m_IC_f212141[18])\n",
    "print(M_IC_f[-4],m_IC_f212141[-4])\n",
    "print(M_IC_f[-3],m_IC_f212141[-3])\n",
    "print(M_IC_f[-2],m_IC_f212141[-2])\n",
    "print(M_IC_f[-1],m_IC_f212141[-1])"
   ]
  },
  {
   "cell_type": "code",
   "execution_count": null,
   "id": "typical-cathedral",
   "metadata": {},
   "outputs": [],
   "source": [
    "plt.rc('text', usetex=True)\n",
    "plt.rc('font', family='serif')\n",
    "fig = plt.figure(figsize=(3.5*1.5,2.75*1.5))\n",
    "# (ax11), (ax12) = fig.subplots(1,2)\n",
    "(ax11) = fig.subplots(1,1)\n",
    "plt.tight_layout(pad=2.5, w_pad=3.5, h_pad=3.5)\n",
    "ax11.margins(x=0.1, y = 0.1)\n",
    "ax11.xaxis.set_minor_locator(AutoMinorLocator())\n",
    "ax11.yaxis.set_minor_locator(AutoMinorLocator())\n",
    "n=-2\n",
    "ax11.plot(M_IC_f[n], color='black', marker=\"o\",markersize=mkSZ,linewidth=lnWDT)\n",
    "ax11.plot(m_IC_f212141[n], color='red', alpha=1,marker=\"o\",markersize=mkSZ,linewidth=lnWDT,label=\"$u^{(0)}$\")\n",
    "ax11.plot(m_IC_f161631[n], color='red', alpha=0.6,marker=\"o\",markersize=mkSZ,linewidth=lnWDT,label=\"$u^{(0)}$\")\n",
    "ax11.plot(m_IC_f111121[n], color='red', alpha=0.4,marker=\"o\",markersize=mkSZ,linewidth=lnWDT,label=\"$u^{(0)}$\")\n",
    "ax11.plot(m_IC_f6611[n], color='red', alpha=0.3,marker=\"o\",markersize=mkSZ,linewidth=lnWDT,label=\"$u^{(0)}$\")\n",
    "ax11.plot(m_IC_f335[n], color='red', alpha=0.15,marker=\"o\",markersize=mkSZ,linewidth=lnWDT,label=\"$u^{(0)}$\")\n",
    "\n",
    "# ax11.plot(IC_f6611[-28:], color='black', alpha=0.2,marker=\"o\",markersize=mkSZ,linewidth=lnWDT,label=\"$u^{(0)}$\")\n",
    "\n",
    "# ax11.plot(1/e,Ue, color='black', alpha=0.6,marker=\"o\",markersize=mkSZ,linewidth=lnWDT,label=\"$u^{\\epsilon}$\")\n",
    "\n",
    "ax11.set_xlabel('$1/\\epsilon$')\n",
    "ax11.set_ylabel('$(u^{\\epsilon}-u^{(0)}-\\epsilon u^{(1)})$ (-)')\n",
    "ax11.ticklabel_format(axis=\"x\", style=\"sci\", scilimits=(3,3))\n",
    "# ax11.ticklabel_format(axis=\"y\", style=\"sci\", scilimits=(0,0))\n",
    "# ax11.legend(loc='best',fontsize=ftsz_leg)\n",
    "ax11.grid(True, which='major', linewidth=0.3, color='lightgray')\n",
    "ax11.grid(True, which='minor', linewidth=0.3, alpha=0.2, color='lightgray')\n",
    "\n",
    "\n",
    "# ax12.margins(x=0.1, y = 0.1)\n",
    "# ax12.xaxis.set_minor_locator(AutoMinorLocator())\n",
    "# ax12.yaxis.set_minor_locator(AutoMinorLocator())\n",
    "# ax12.plot(1/e,DU/Ue, color='black', marker=\"o\",markersize=mkSZ,linewidth=lnWDT)\n",
    "# # ax11.plot(1/e,U0, color='black', alpha=0.2,marker=\"o\",markersize=mkSZ,linewidth=lnWDT,label=\"$u^{(0)}$\")\n",
    "# # ax11.plot(1/e,Ue, color='black', alpha=0.6,marker=\"o\",markersize=mkSZ,linewidth=lnWDT,label=\"$u^{\\epsilon}$\")\n",
    "\n",
    "# ax12.set_xlabel('$1/\\epsilon$')\n",
    "# ax12.set_ylabel('$(u^{\\epsilon}-u^{(0)}-\\epsilon u^{(1)})/u^{\\epsilon}$ (-)')\n",
    "# ax12.ticklabel_format(axis=\"x\", style=\"sci\", scilimits=(3,3))\n",
    "# # ax11.ticklabel_format(axis=\"y\", style=\"sci\", scilimits=(0,0))\n",
    "# # ax11.legend(loc='best',fontsize=ftsz_leg)\n",
    "# ax12.grid(True, which='major', linewidth=0.3, color='lightgray')\n",
    "# ax12.grid(True, which='minor', linewidth=0.3, alpha=0.2, color='lightgray')\n",
    "\n",
    "# fig.savefig(f\"convergence.pdf\", format=\"pdf\", transparent=True)"
   ]
  },
  {
   "cell_type": "code",
   "execution_count": null,
   "id": "suspended-congress",
   "metadata": {},
   "outputs": [],
   "source": []
  },
  {
   "cell_type": "code",
   "execution_count": null,
   "id": "physical-committee",
   "metadata": {},
   "outputs": [],
   "source": [
    "plt.rcParams[\"figure.figsize\"] = (5,5)\n",
    "fig = plt.figure(figsize=(4.5,4))\n",
    "plt.tight_layout(pad=2.8, w_pad=3.5, h_pad=3.5)\n",
    "plt.loglog(N,U/np.amax(U),color='black', alpha=1, marker='o', linestyle='-',linewidth=1.5, markersize=8)\n",
    "# plt.loglog(N,U/np.amax(U),color='black', alpha=1, marker='o', linestyle='-',linewidth=1.5, markersize=8)\n",
    "\n",
    "plt.ylabel('$u$ (m)',fontsize=12)\n",
    "plt.xlabel('$N_e$ (-)',fontsize=12)\n",
    "plt.show()\n"
   ]
  },
  {
   "cell_type": "code",
   "execution_count": null,
   "id": "specified-interpretation",
   "metadata": {},
   "outputs": [],
   "source": []
  },
  {
   "cell_type": "code",
   "execution_count": null,
   "id": "helpful-modern",
   "metadata": {},
   "outputs": [],
   "source": [
    "100*DU"
   ]
  },
  {
   "cell_type": "code",
   "execution_count": null,
   "id": "available-marketing",
   "metadata": {},
   "outputs": [],
   "source": []
  }
 ],
 "metadata": {
  "kernelspec": {
   "display_name": "Python 3",
   "language": "python",
   "name": "python3"
  },
  "language_info": {
   "codemirror_mode": {
    "name": "ipython",
    "version": 3
   },
   "file_extension": ".py",
   "mimetype": "text/x-python",
   "name": "python",
   "nbconvert_exporter": "python",
   "pygments_lexer": "ipython3",
   "version": "3.8.5"
  }
 },
 "nbformat": 4,
 "nbformat_minor": 5
}

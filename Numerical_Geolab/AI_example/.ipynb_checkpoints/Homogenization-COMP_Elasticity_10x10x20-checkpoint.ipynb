{
 "cells": [
  {
   "cell_type": "code",
   "execution_count": 171,
   "id": "indirect-party",
   "metadata": {},
   "outputs": [],
   "source": [
    "import matplotlib.pyplot as plt\n",
    "import numpy as np\n",
    "import pickle\n",
    "np.random.seed(1)"
   ]
  },
  {
   "cell_type": "code",
   "execution_count": 181,
   "id": "improved-indication",
   "metadata": {},
   "outputs": [],
   "source": [
    "U_m = np.zeros((6,2))\n",
    "E_m = np.zeros(6)\n",
    "D_m = np.zeros(6)"
   ]
  },
  {
   "cell_type": "code",
   "execution_count": 182,
   "id": "dirty-interpretation",
   "metadata": {},
   "outputs": [
    {
     "name": "stdout",
     "output_type": "stream",
     "text": [
      "23.99036806694064 0.0 0.18222163491223972\n"
     ]
    }
   ],
   "source": [
    "file = './Micro-3D_L2x2x3COMP_V10x10x20'\n",
    "with open(file, 'rb') as f_obj:\n",
    "    data = pickle.load(f_obj)\n",
    "svarsGP,add_svarsGP,nparticles,nbars,nsvars,niter,nel = data\n",
    "E_m[0]=svarsGP[-3]\n",
    "D_m[0]=svarsGP[-2]\n",
    "U_m[0,0]=np.amax(add_svarsGP[:,0])\n",
    "U_m[0,1]=np.amax(add_svarsGP[:,1])\n",
    "print(svarsGP[-3],svarsGP[-2],np.amax(add_svarsGP[:,0]))"
   ]
  },
  {
   "cell_type": "code",
   "execution_count": 183,
   "id": "respective-parcel",
   "metadata": {},
   "outputs": [
    {
     "data": {
      "text/plain": [
       "array([[0.18222163, 0.18222163],\n",
       "       [0.        , 0.        ],\n",
       "       [0.        , 0.        ],\n",
       "       [0.        , 0.        ],\n",
       "       [0.        , 0.        ],\n",
       "       [0.        , 0.        ]])"
      ]
     },
     "execution_count": 183,
     "metadata": {},
     "output_type": "execute_result"
    }
   ],
   "source": [
    "U_m"
   ]
  },
  {
   "cell_type": "code",
   "execution_count": 184,
   "id": "defensive-function",
   "metadata": {},
   "outputs": [],
   "source": [
    "file = './Micro-3D_L3x3x5COMP_V10x10x20'\n",
    "with open(file, 'rb') as f_obj:\n",
    "    data = pickle.load(f_obj)\n",
    "svarsGP,add_svarsGP,nparticles,nbars,nsvars,niter,nel = data\n",
    "E_m[1]=svarsGP[-3]\n",
    "D_m[1]=svarsGP[-2]\n",
    "U_m[1,0]=np.amax(add_svarsGP[:,0])\n",
    "U_m[1,1]=np.amax(add_svarsGP[:,1])"
   ]
  },
  {
   "cell_type": "code",
   "execution_count": 185,
   "id": "nervous-sponsorship",
   "metadata": {},
   "outputs": [],
   "source": [
    "file = './Micro-3D_L5x5x9COMP_V10x10x20'\n",
    "with open(file, 'rb') as f_obj:\n",
    "    data = pickle.load(f_obj)\n",
    "svarsGP,add_svarsGP,nparticles,nbars,nsvars,niter,nel = data\n",
    "E_m[2]=svarsGP[-3]\n",
    "D_m[2]=svarsGP[-2]\n",
    "U_m[2,0]=np.amax(add_svarsGP[:,0])\n",
    "U_m[2,1]=np.amax(add_svarsGP[:,1])"
   ]
  },
  {
   "cell_type": "code",
   "execution_count": null,
   "id": "peaceful-rebound",
   "metadata": {},
   "outputs": [],
   "source": []
  },
  {
   "cell_type": "code",
   "execution_count": 186,
   "id": "friendly-walker",
   "metadata": {},
   "outputs": [],
   "source": [
    "file = './Micro-3D_L9x9x17COMP_V10x10x20'\n",
    "with open(file, 'rb') as f_obj:\n",
    "    data = pickle.load(f_obj)\n",
    "svarsGP,add_svarsGP,nparticles,nbars,nsvars,niter,nel = data\n",
    "E_m[3]=svarsGP[-3]\n",
    "D_m[3]=svarsGP[-2]\n",
    "U_m[3,0]=np.amax(add_svarsGP[:,0])\n",
    "U_m[3,1]=np.amax(add_svarsGP[:,1])"
   ]
  },
  {
   "cell_type": "code",
   "execution_count": 187,
   "id": "direct-thinking",
   "metadata": {},
   "outputs": [
    {
     "data": {
      "text/plain": [
       "array([23.99036807, 23.36436368, 23.11205871, 23.00720424,  0.        ,\n",
       "        0.        ])"
      ]
     },
     "execution_count": 187,
     "metadata": {},
     "output_type": "execute_result"
    }
   ],
   "source": [
    "E_m"
   ]
  },
  {
   "cell_type": "code",
   "execution_count": 188,
   "id": "piano-prayer",
   "metadata": {},
   "outputs": [],
   "source": [
    "file = './Micro-3D_L13x13x25COMP_V10x10x20'\n",
    "with open(file, 'rb') as f_obj:\n",
    "    data = pickle.load(f_obj)\n",
    "svarsGP,add_svarsGP,nparticles,nbars,nsvars,niter,nel = data\n",
    "E_m[4]=svarsGP[-3]\n",
    "D_m[4]=svarsGP[-2]\n",
    "U_m[4,0]=np.amax(add_svarsGP[:,0])\n",
    "U_m[4,1]=np.amax(add_svarsGP[:,1])"
   ]
  },
  {
   "cell_type": "code",
   "execution_count": 189,
   "id": "electoral-aquatic",
   "metadata": {},
   "outputs": [],
   "source": [
    "file = './Micro-3D_L17x17x33COMP_V10x10x20'\n",
    "with open(file, 'rb') as f_obj:\n",
    "    data = pickle.load(f_obj)\n",
    "svarsGP,add_svarsGP,nparticles,nbars,nsvars,niter,nel = data\n",
    "E_m[5]=svarsGP[-3]\n",
    "D_m[5]=svarsGP[-2]\n",
    "U_m[5,0]=np.amax(add_svarsGP[:,0])\n",
    "U_m[5,1]=np.amax(add_svarsGP[:,1])"
   ]
  },
  {
   "cell_type": "code",
   "execution_count": 191,
   "id": "massive-charleston",
   "metadata": {},
   "outputs": [
    {
     "data": {
      "text/plain": [
       "(array([[0.18222163, 0.18222163],\n",
       "        [0.16831942, 0.16831942],\n",
       "        [0.16679599, 0.16679599],\n",
       "        [0.16575891, 0.16575891],\n",
       "        [0.16545795, 0.16545795],\n",
       "        [0.16532904, 0.16532904]]),\n",
       " array([23.99036807, 23.36436368, 23.11205871, 23.00720424, 22.97722578,\n",
       "        22.96363075]))"
      ]
     },
     "execution_count": 191,
     "metadata": {},
     "output_type": "execute_result"
    }
   ],
   "source": [
    "U_m,E_m"
   ]
  },
  {
   "cell_type": "code",
   "execution_count": 219,
   "id": "becoming-blake",
   "metadata": {},
   "outputs": [
    {
     "data": {
      "text/plain": [
       "(0.16220836325542268,\n",
       " 0.16218620659577793,\n",
       " 22.928702811404577,\n",
       " -0.021514722751839428,\n",
       " -0.010660490185019874,\n",
       " 0.026997900942668154)"
      ]
     },
     "execution_count": 219,
     "metadata": {},
     "output_type": "execute_result"
    }
   ],
   "source": [
    "file = './Macro-3D_L20x20x40_COMP_V10x10x20'\n",
    "with open(file, 'rb') as f_obj:\n",
    "    data = pickle.load(f_obj)\n",
    "usol,stress,svars,ISV,IC = data\n",
    "energy= svars[:,-3]\n",
    "dissipation= svars[:,6+6+22+1:6+6+22+2]\n",
    "usol=np.reshape(usol,(-1,3))\n",
    "U0x=np.amax(usol[:,0])\n",
    "U0y=np.amax(usol[:,1])\n",
    "E0=np.sum(energy)\n",
    "D0=np.sum(dissipation)\n",
    "N=20*20*40\n",
    "V=10*10*20\n",
    "# print(np.mean(IC[-6:],axis=0)[-8:]) #(take -2): -0.93940901\n",
    "IC_u = IC[:,-24:]\n",
    "IC_f = IC[:,:-24]\n",
    "IC_u = IC_u.reshape(IC_u.shape[0],IC_u.shape[1]//3,3)\n",
    "# IC[-6:,-4:] #(take -2): -0.90854154\n",
    "U1x=np.mean(IC_u[-6:,0])\n",
    "U1y=np.mean(IC_u[-6:,2])\n",
    "E0=E0*V/(N*6)\n",
    "D0=D0*V/(N*6)\n",
    "U0x,U0y,E0,U1x,U1y,D0"
   ]
  },
  {
   "cell_type": "code",
   "execution_count": 220,
   "id": "neural-oliver",
   "metadata": {},
   "outputs": [
    {
     "data": {
      "text/plain": [
       "(0.16061284462090208,\n",
       " 0.1605975176719825,\n",
       " 22.945611806832368,\n",
       " -0.02155746945880896,\n",
       " -0.010681850069277786,\n",
       " 0.026990879812065906)"
      ]
     },
     "execution_count": 220,
     "metadata": {},
     "output_type": "execute_result"
    }
   ],
   "source": [
    "file = './Macro-3D_L15x15x30_COMP_V10x10x20'\n",
    "with open(file, 'rb') as f_obj:\n",
    "    data = pickle.load(f_obj)\n",
    "usol,stress,svars,ISV,IC = data\n",
    "energy= svars[:,-3]\n",
    "dissipation= svars[:,6+6+22+1:6+6+22+2]\n",
    "usol=np.reshape(usol,(-1,3))\n",
    "U0x=np.amax(usol[:,0])\n",
    "U0y=np.amax(usol[:,1])\n",
    "E0=np.sum(energy)\n",
    "D0=np.sum(dissipation)\n",
    "N=15*15*30\n",
    "V=10*10*20\n",
    "# print(np.mean(IC[-6:],axis=0)[-8:]) #(take -2): -0.93940901\n",
    "IC_u = IC[:,-24:]\n",
    "IC_f = IC[:,:-24]\n",
    "IC_u = IC_u.reshape(IC_u.shape[0],IC_u.shape[1]//3,3)\n",
    "# IC[-6:,-4:] #(take -2): -0.90854154\n",
    "U1x=np.mean(IC_u[-6:,0])\n",
    "U1y=np.mean(IC_u[-6:,2])\n",
    "E0=E0*V/(N*6)\n",
    "D0=D0*V/(N*6)\n",
    "U0x,U0y,E0,U1x,U1y,D0"
   ]
  },
  {
   "cell_type": "code",
   "execution_count": 221,
   "id": "greater-provider",
   "metadata": {},
   "outputs": [
    {
     "data": {
      "text/plain": [
       "(0.1569958813194986,\n",
       " 0.15697100301411773,\n",
       " 22.982025105029457,\n",
       " -0.021649034883278396,\n",
       " -0.010727986238766883,\n",
       " 0.026977298289563634)"
      ]
     },
     "execution_count": 221,
     "metadata": {},
     "output_type": "execute_result"
    }
   ],
   "source": [
    "file = './Macro-3D_L10x10x20_COMP_V10x10x20'\n",
    "with open(file, 'rb') as f_obj:\n",
    "    data = pickle.load(f_obj)\n",
    "usol,stress,svars,ISV,IC = data\n",
    "energy= svars[:,-3]\n",
    "dissipation= svars[:,6+6+22+1:6+6+22+2]\n",
    "usol=np.reshape(usol,(-1,3))\n",
    "U0x=np.amax(usol[:,0])\n",
    "U0y=np.amax(usol[:,1])\n",
    "E0=np.sum(energy)\n",
    "D0=np.sum(dissipation)\n",
    "N=10*10*20\n",
    "V=10*10*20\n",
    "# print(np.mean(IC[-6:],axis=0)[-8:]) #(take -2): -0.93940901\n",
    "IC_u = IC[:,-24:]\n",
    "IC_f = IC[:,:-24]\n",
    "IC_u = IC_u.reshape(IC_u.shape[0],IC_u.shape[1]//3,3)\n",
    "# IC[-6:,-4:] #(take -2): -0.90854154\n",
    "U1x=np.mean(IC_u[-6:,0])\n",
    "U1y=np.mean(IC_u[-6:,2])\n",
    "E0=E0*V/(N*6)\n",
    "D0=D0*V/(N*6)\n",
    "U0x,U0y,E0,U1x,U1y,D0"
   ]
  },
  {
   "cell_type": "code",
   "execution_count": 222,
   "id": "interstate-operator",
   "metadata": {},
   "outputs": [],
   "source": [
    "# file = './Macro-3D_L10x10x10_UNIFORM_V10x10x10'\n",
    "# with open(file, 'rb') as f_obj:\n",
    "#     data = pickle.load(f_obj)\n",
    "# usol,stress,svars,ISV,IC = data\n",
    "# energy= svars[:,-3]\n",
    "# dissipation= svars[:,6+6+22+1:6+6+22+2]\n",
    "# usol=np.reshape(usol,(-1,3))\n",
    "# U0x=np.amax(usol[:,0])\n",
    "# U0y=np.amax(usol[:,1])\n",
    "# E0=np.sum(energy)\n",
    "# D15x15x30=np.sum(dissipation)\n",
    "# N=10*10*10\n",
    "# V=1\n",
    "# # print(np.mean(IC[-6:],axis=0)[-8:]) #(take -2): -0.93940901\n",
    "# IC_u = IC[:,-24:]\n",
    "# IC_f = IC[:,:-24]\n",
    "# IC_u = IC_u.reshape(IC_u.shape[0],IC_u.shape[1]//3,3)\n",
    "# # IC[-6:,-4:] #(take -2): -0.90854154\n",
    "# U1x=np.mean(IC_u[-6:,0])\n",
    "# U1y=np.mean(IC_u[-6:,2])\n",
    "# E0=E0*V/(N*6)\n",
    "# U0x,U0y,E0,U1x,U1y"
   ]
  },
  {
   "cell_type": "code",
   "execution_count": 242,
   "id": "derived-vessel",
   "metadata": {},
   "outputs": [
    {
     "data": {
      "text/plain": [
       "array([[0.18222163, 0.18222163],\n",
       "       [0.16831942, 0.16831942],\n",
       "       [0.16679599, 0.16679599],\n",
       "       [0.16575891, 0.16575891],\n",
       "       [0.16545795, 0.16545795],\n",
       "       [0.16532904, 0.16532904]])"
      ]
     },
     "execution_count": 242,
     "metadata": {},
     "output_type": "execute_result"
    }
   ],
   "source": [
    "U_m"
   ]
  },
  {
   "cell_type": "code",
   "execution_count": 236,
   "id": "pharmaceutical-celtic",
   "metadata": {},
   "outputs": [
    {
     "data": {
      "text/plain": [
       "(0.1569958813194986,\n",
       " 0.15697100301411773,\n",
       " -0.021649034883278396,\n",
       " -0.010727986238766883)"
      ]
     },
     "execution_count": 236,
     "metadata": {},
     "output_type": "execute_result"
    }
   ],
   "source": [
    "U0x, U0y,U1x,U1y"
   ]
  },
  {
   "cell_type": "code",
   "execution_count": 247,
   "id": "blind-throw",
   "metadata": {},
   "outputs": [],
   "source": [
    "e = np.array([1/1,1/2,1/4,1/8,1/12,1/16])\n",
    "e_M = np.array([1/1,1/1,1/2,1/4,1/8,1/16])\n",
    "E_M = np.ones((e_M.shape[0]))*E0\n",
    "U_M = np.zeros((e_M.shape[0],2))\n",
    "U_0 = np.ones((e_M.shape[0]))*U0x\n",
    "U_M[:,0] = U0x*np.ones((U_M.shape[0]))+e_M*U1y\n",
    "U_M[:,1] = U0y*np.ones((U_M.shape[0]))+e_M*U1y"
   ]
  },
  {
   "cell_type": "code",
   "execution_count": 248,
   "id": "following-medium",
   "metadata": {},
   "outputs": [
    {
     "data": {
      "text/plain": [
       "array([[0.1462679 , 0.14624302],\n",
       "       [0.1462679 , 0.14624302],\n",
       "       [0.15163189, 0.15160701],\n",
       "       [0.15431388, 0.15428901],\n",
       "       [0.15565488, 0.15563   ],\n",
       "       [0.15632538, 0.1563005 ]])"
      ]
     },
     "execution_count": 248,
     "metadata": {},
     "output_type": "execute_result"
    }
   ],
   "source": [
    "U_M"
   ]
  },
  {
   "cell_type": "code",
   "execution_count": 244,
   "id": "forward-decrease",
   "metadata": {},
   "outputs": [
    {
     "data": {
      "text/plain": [
       "array([[0.1462679 , 0.14624302],\n",
       "       [0.1462679 , 0.14624302],\n",
       "       [0.15163189, 0.15160701],\n",
       "       [0.15431388, 0.15428901],\n",
       "       [0.15565488, 0.15563   ],\n",
       "       [0.15632538, 0.1563005 ]])"
      ]
     },
     "execution_count": 244,
     "metadata": {},
     "output_type": "execute_result"
    }
   ],
   "source": [
    "U_M"
   ]
  },
  {
   "cell_type": "code",
   "execution_count": 238,
   "id": "amazing-composition",
   "metadata": {},
   "outputs": [],
   "source": [
    "import matplotlib.pyplot as plt\n",
    "from matplotlib.ticker import (MultipleLocator, FormatStrFormatter, AutoMinorLocator)\n",
    "import matplotlib as mpl\n",
    "mpl.rcParams['axes.unicode_minus']=False\n",
    "plt.rcParams[\"figure.figsize\"] = (4,3)\n",
    "import matplotlib.pyplot as plt\n",
    "# # plt.rcParams[\"font.family\"] = \"Times New Roman\"\n",
    "font = {'size'   : 13}\n",
    "from matplotlib import rc\n",
    "plt.rc('font', **font)\n",
    "ftsz_leg = 9\n",
    "ftsz = 12\n",
    "mkSZ = 4\n",
    "mkSZs = 0\n",
    "lnWDT = 0.5\n",
    "lnWDTs = 6\n",
    "from matplotlib import rc\n",
    "rc('font',**{'family':'sans-serif','sans-serif':['Times New Roman']})\n",
    "## for Palatino and other serif fonts use:\n",
    "#rc('font',**{'family':'serif','serif':['Palatino']})\n",
    "rc('text', usetex=True)\n",
    "\n",
    "import numpy as np\n",
    "import matplotlib.pyplot as plt"
   ]
  },
  {
   "cell_type": "code",
   "execution_count": 239,
   "id": "architectural-weather",
   "metadata": {},
   "outputs": [
    {
     "data": {
      "text/plain": [
       "24.99036806694064"
      ]
     },
     "execution_count": 239,
     "metadata": {},
     "output_type": "execute_result"
    }
   ],
   "source": [
    "E_m[0]+1"
   ]
  },
  {
   "cell_type": "code",
   "execution_count": 240,
   "id": "spanish-contrary",
   "metadata": {},
   "outputs": [],
   "source": [
    "# plt.rc('text', usetex=True)\n",
    "# plt.rc('font', family='serif')\n",
    "# fig = plt.figure(figsize=(3.5*2,2.75*1))\n",
    "# (ax11), (ax12) = fig.subplots(1,2)\n",
    "# # (ax11) = fig.subplots(1,1)\n",
    "# plt.tight_layout(pad=2.5, w_pad=3.5, h_pad=3.5)\n",
    "# ax11.margins(x=0.1, y = 0.1)\n",
    "# ax11.xaxis.set_minor_locator(AutoMinorLocator())\n",
    "# ax11.yaxis.set_minor_locator(AutoMinorLocator())\n",
    "# # ax11.plot(1/e,E_M, color='black', marker=\"o\",markersize=mkSZ,linewidth=lnWDT)\n",
    "# ax11.plot(1/e,E_m, color='black', marker=\"o\",markersize=mkSZ,linewidth=lnWDT)\n",
    "# ax11.set_xlabel('$1/\\epsilon$')\n",
    "# ax11.set_ylabel('$\\mathit{\\Psi}$ (Nm)')\n",
    "# # ax11.ticklabel_format(axis=\"x\", style=\"sci\", scilimits=(3,3))\n",
    "# # ax11.ticklabel_format(axis=\"y\", style=\"sci\", scilimits=(0,0))\n",
    "# # ax11.legend(loc='best',fontsize=ftsz_leg)\n",
    "# ax11.grid(True, which='major', linewidth=0.3, color='lightgray')\n",
    "# ax11.grid(True, which='minor', linewidth=0.3, alpha=0.2, color='lightgray')\n",
    "# ax11.set_ylim([E_m[0]-1,E_m[0]+1])\n",
    "\n",
    "# ax12.margins(x=0.1, y = 0.1)\n",
    "# ax12.xaxis.set_minor_locator(AutoMinorLocator())\n",
    "# ax12.yaxis.set_minor_locator(AutoMinorLocator())\n",
    "# ax12.plot(1/e,U_m[:,0], color='black', alpha=0.3, marker=\"x\",markersize=2*mkSZ,linewidth=lnWDT,label=\"$u^{\\epsilon}$\")\n",
    "# # ax12.plot(1/e,U_0, color='black', marker=\"o\",markersize=mkSZ,linewidth=lnWDT,label=\"$u^{0}$\")\n",
    "# # ax12.plot(1/e,U_M[:,0], color='red', alpha=1,marker=\"o\",markersize=mkSZ,linewidth=lnWDT,label=\"$u^{\\epsilon}$\")\n",
    "\n",
    "# ax12.set_xlabel('$1/\\epsilon$')\n",
    "# ax12.set_ylabel('$u$ (m)')\n",
    "# # ax12.ticklabel_format(axis=\"x\", style=\"sci\", scilimits=(3,3))\n",
    "# ax12.ticklabel_format(axis=\"y\", style=\"sci\", scilimits=(0,0))\n",
    "# ax12.legend(loc='best',fontsize=ftsz_leg)\n",
    "# ax12.grid(True, which='major', linewidth=0.3, color='lightgray')\n",
    "# ax12.grid(True, which='minor', linewidth=0.3, alpha=0.2, color='lightgray')\n",
    "\n",
    "\n",
    "# # fig.savefig(f\"convergence.pdf\", format=\"pdf\", transparent=True)"
   ]
  },
  {
   "cell_type": "code",
   "execution_count": 249,
   "id": "adverse-sympathy",
   "metadata": {},
   "outputs": [
    {
     "data": {
      "image/png": "[encoded data removed]",
      "text/plain": [
       "<Figure size 504x198 with 2 Axes>"
      ]
     },
     "metadata": {
      "needs_background": "light"
     },
     "output_type": "display_data"
    }
   ],
   "source": [
    "plt.rc('text', usetex=True)\n",
    "plt.rc('font', family='serif')\n",
    "fig = plt.figure(figsize=(3.5*2,2.75*1))\n",
    "(ax11), (ax12) = fig.subplots(1,2)\n",
    "# (ax11) = fig.subplots(1,1)\n",
    "plt.tight_layout(pad=2.5, w_pad=3.5, h_pad=3.5)\n",
    "ax11.margins(x=0.1, y = 0.1)\n",
    "ax11.xaxis.set_minor_locator(AutoMinorLocator())\n",
    "ax11.yaxis.set_minor_locator(AutoMinorLocator())\n",
    "\n",
    "ax11.plot(1/e,E_m, color='red', marker=\"o\",markersize=mkSZ,linewidth=lnWDT,label=\"$\\mathit{\\Psi}^{\\epsilon}$\")\n",
    "ax11.plot(1/e_M,E_M, color='mediumblue', marker=\"s\",markersize=mkSZ,linewidth=lnWDT,label=\"$\\mathit{\\Psi}^{(1)}$\")\n",
    "\n",
    "ax11.set_xlabel('$1/\\epsilon$')\n",
    "ax11.set_ylabel('$\\mathit{\\Psi}$ (Nm)')\n",
    "# ax11.ticklabel_format(axis=\"x\", style=\"sci\", scilimits=(3,3))\n",
    "# ax11.ticklabel_format(axis=\"y\", style=\"sci\", scilimits=(0,0))\n",
    "ax11.legend(loc='best',fontsize=ftsz_leg)\n",
    "ax11.grid(True, which='major', linewidth=0.3, color='lightgray')\n",
    "ax11.grid(True, which='minor', linewidth=0.3, alpha=0.2, color='lightgray')\n",
    "# ax11.set_ylim([E_m[0]-1,E_m[0]+1])\n",
    "\n",
    "ax12.margins(x=0.1, y = 0.1)\n",
    "ax12.xaxis.set_minor_locator(AutoMinorLocator())\n",
    "ax12.yaxis.set_minor_locator(AutoMinorLocator())\n",
    "ax12.plot(1/e_M,U_0, color='black', alpha=0.8, marker=\"o\",linestyle='-',markersize=mkSZ*0,linewidth=lnWDT,label=\"$u^{(0)}$\")\n",
    "ax12.plot(1/e_M,U_M[:,0], color='mediumblue', alpha=1, marker=\"s\",markersize=mkSZ,linewidth=lnWDT,label=\"$u^{(0)}+\\epsilon u^{(1)}$\")\n",
    "ax12.plot(1/e,U_m[:,0], color='red', marker=\"o\",markersize=mkSZ,linewidth=lnWDT,label=\"$u^{\\epsilon}$\")\n",
    "# # ax12.plot(1/e,Ue, color='red', alpha=1,marker=\"o\",markersize=mkSZ,linewidth=lnWDT,label=\"$u^{\\epsilon}$\")\n",
    "\n",
    "ax12.set_xlabel('$1/\\epsilon$')\n",
    "ax12.set_ylabel('$u$ (m)')\n",
    "# ax12.ticklabel_format(axis=\"x\", style=\"sci\", scilimits=(3,3))\n",
    "# ax12.ticklabel_format(axis=\"y\", style=\"sci\", scilimits=(0,0))\n",
    "ax12.legend(loc='best',fontsize=ftsz_leg)\n",
    "ax12.grid(True, which='major', linewidth=0.3, color='lightgray')\n",
    "ax12.grid(True, which='minor', linewidth=0.3, alpha=0.2, color='lightgray')\n",
    "\n",
    "\n",
    "fig.savefig(f\"uniform_10x10x10.pdf\", format=\"pdf\", transparent=True)"
   ]
  },
  {
   "cell_type": "code",
   "execution_count": 105,
   "id": "blessed-flight",
   "metadata": {},
   "outputs": [],
   "source": [
    "# file = './Micro-3D_L5x5x9UNIFORM_V10x10x20'\n",
    "# with open(file, 'rb') as f_obj:\n",
    "#     data = pickle.load(f_obj)\n",
    "# svarsGP,add_svarsGP,nparticles,nbars,nsvars = data\n",
    "# print(svarsGP[-3],svarsGP[-2])\n",
    "# # U_m[1,0]=np.amax(add_svarsGP[:,0])\n",
    "# # U_m[1,1]=np.amax(add_svarsGP[:,1])"
   ]
  },
  {
   "cell_type": "code",
   "execution_count": 185,
   "id": "reflected-scheduling",
   "metadata": {},
   "outputs": [
    {
     "data": {
      "text/plain": [
       "(0.4754560829539363,\n",
       " 0.47541133809771907,\n",
       " 50.534190977784434,\n",
       " -0.03155931805828503,\n",
       " -0.015650557598138548)"
      ]
     },
     "execution_count": 185,
     "metadata": {},
     "output_type": "execute_result"
    }
   ],
   "source": [
    "# file = './Macro-3D_L5x5x10_UNIFORM_V10x10x20'\n",
    "# with open(file, 'rb') as f_obj:\n",
    "#     data = pickle.load(f_obj)\n",
    "# usol,stress,svars,ISV,IC = data\n",
    "# energy= svars[:,-3]\n",
    "# dissipation= svars[:,6+6+22+1:6+6+22+2]\n",
    "# usol=np.reshape(usol,(-1,3))\n",
    "# U0x=np.amax(usol[:,0])\n",
    "# U0y=np.amax(usol[:,1])\n",
    "# E0=np.sum(energy)\n",
    "# D15x15x30=np.sum(dissipation)\n",
    "# N=5*5*10\n",
    "# V=10*10*20\n",
    "# # print(np.mean(IC[-6:],axis=0)[-8:]) #(take -2): -0.93940901\n",
    "# IC_u = IC[:,-24:]\n",
    "# IC_f = IC[:,:-24]\n",
    "# IC_u = IC_u.reshape(IC_u.shape[0],IC_u.shape[1]//3,3)\n",
    "# # IC[-6:,-4:] #(take -2): -0.90854154\n",
    "# U1x=np.mean(IC_u[-6:,0])\n",
    "# U1y=np.mean(IC_u[-6:,2])\n",
    "# E0=E0*V/(N*6)\n",
    "# U0x,U0y,E0,U1x,U1y"
   ]
  },
  {
   "cell_type": "code",
   "execution_count": null,
   "id": "searching-going",
   "metadata": {},
   "outputs": [],
   "source": []
  }
 ],
 "metadata": {
  "kernelspec": {
   "display_name": "Python 3",
   "language": "python",
   "name": "python3"
  },
  "language_info": {
   "codemirror_mode": {
    "name": "ipython",
    "version": 3
   },
   "file_extension": ".py",
   "mimetype": "text/x-python",
   "name": "python",
   "nbconvert_exporter": "python",
   "pygments_lexer": "ipython3",
   "version": "3.8.5"
  }
 },
 "nbformat": 4,
 "nbformat_minor": 5
}

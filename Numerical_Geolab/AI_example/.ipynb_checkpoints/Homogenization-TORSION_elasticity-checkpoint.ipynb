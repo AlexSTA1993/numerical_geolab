{
 "cells": [
  {
   "cell_type": "code",
   "execution_count": 1,
   "id": "indirect-party",
   "metadata": {},
   "outputs": [],
   "source": [
    "import matplotlib.pyplot as plt\n",
    "import numpy as np\n",
    "import pickle\n",
    "np.random.seed(1)"
   ]
  },
  {
   "cell_type": "code",
   "execution_count": 2,
   "id": "improved-indication",
   "metadata": {},
   "outputs": [],
   "source": [
    "U_m = np.zeros(7)\n",
    "E_m = np.zeros(7)\n",
    "D_m = np.zeros(7)\n",
    "IC_Fm=np.zeros((7,7))"
   ]
  },
  {
   "cell_type": "code",
   "execution_count": 3,
   "id": "alive-teddy",
   "metadata": {},
   "outputs": [],
   "source": [
    "\n",
    "# file = './Micro-3D_L9x9x17_TORSION_2H_V10x10x20'\n",
    "# with open(file, 'rb') as f_obj:\n",
    "#     data = pickle.load(f_obj)\n",
    "# svarsGP,add_svarsGP,nparticles,nbars,nsvars,niter,nel = data\n",
    "# print(svarsGP[-3],svarsGP[-2],np.amax(add_svarsGP[:,2]))\n",
    "# # U_m[0,1]=np.amax(add_svarsGP[:,1])"
   ]
  },
  {
   "cell_type": "code",
   "execution_count": null,
   "id": "dangerous-retirement",
   "metadata": {},
   "outputs": [],
   "source": []
  },
  {
   "cell_type": "code",
   "execution_count": 4,
   "id": "preliminary-account",
   "metadata": {},
   "outputs": [
    {
     "name": "stdout",
     "output_type": "stream",
     "text": [
      "113.66458248466468 0.0 0.918461997399946\n",
      "[ 0.10018333  0.07644466 -0.08425225 -0.0385995  -0.23395556 -0.23395556\n",
      " -0.23395556]\n"
     ]
    }
   ],
   "source": [
    "file = './Micro-3D_L2x2x3_TORSION_2H_V10x10x20'\n",
    "with open(file, 'rb') as f_obj:\n",
    "    data = pickle.load(f_obj)\n",
    "svarsGP,add_svarsGP,nparticles,nbars,nsvars,niter,nel = data\n",
    "E_m[0]=svarsGP[-3]\n",
    "D_m[0]=svarsGP[-2]\n",
    "U_m[0]=np.amax(add_svarsGP[:,2])\n",
    "print(svarsGP[-3],svarsGP[-2],np.amax(add_svarsGP[:,2]))\n",
    "# U_m[0,1]=np.amax(add_svarsGP[:,1])\n",
    "S_m=svarsGP[12:12+nbars]\n",
    "IC_Fm[0]=np.array([S_m[46],S_m[47],S_m[48],S_m[49],S_m[30],S_m[35],S_m[40]])\n",
    "print(IC_Fm[0])"
   ]
  },
  {
   "cell_type": "code",
   "execution_count": 5,
   "id": "dirty-interpretation",
   "metadata": {},
   "outputs": [
    {
     "name": "stdout",
     "output_type": "stream",
     "text": [
      "69.65269344981272 0.0 1.0704695137498257\n",
      "[ 0.1615568   0.07405445 -0.08664245 -0.0622476  -0.23395556 -0.23395556\n",
      " -0.23395556]\n"
     ]
    }
   ],
   "source": [
    "file = './Micro-3D_L3x3x5_TORSION_2H_V10x10x20'\n",
    "with open(file, 'rb') as f_obj:\n",
    "    data = pickle.load(f_obj)\n",
    "svarsGP,add_svarsGP,nparticles,nbars,nsvars,niter,nel = data\n",
    "E_m[1]=svarsGP[-3]\n",
    "D_m[1]=svarsGP[-2]\n",
    "U_m[1]=np.amax(add_svarsGP[:,2])\n",
    "print(svarsGP[-3],svarsGP[-2],np.amax(add_svarsGP[:,2]))\n",
    "S_m=svarsGP[12:12+nbars]\n",
    "IC_Fm[1]=np.array([S_m[292],S_m[293],S_m[294],S_m[295],S_m[260],S_m[271],S_m[284]])\n",
    "print(IC_Fm[1])"
   ]
  },
  {
   "cell_type": "code",
   "execution_count": null,
   "id": "express-collar",
   "metadata": {},
   "outputs": [],
   "source": []
  },
  {
   "cell_type": "code",
   "execution_count": 6,
   "id": "defensive-function",
   "metadata": {},
   "outputs": [
    {
     "name": "stdout",
     "output_type": "stream",
     "text": [
      "49.69981054313536 0.0 1.2686315237195107\n",
      "[ 0.22854805  0.04867207 -0.06673796 -0.08790116 -0.23395556 -0.23395556\n",
      " -0.23395556]\n"
     ]
    }
   ],
   "source": [
    "file = './Micro-3D_L5x5x9_TORSION_2H_V10x10x20'\n",
    "with open(file, 'rb') as f_obj:\n",
    "    data = pickle.load(f_obj)\n",
    "svarsGP,add_svarsGP,nparticles,nbars,nsvars,niter,nel = data\n",
    "E_m[2]=svarsGP[-3]\n",
    "D_m[2]=svarsGP[-2]\n",
    "U_m[2]=np.amax(add_svarsGP[:,2])\n",
    "print(svarsGP[-3],svarsGP[-2],np.amax(add_svarsGP[:,2]))\n",
    "S_m=svarsGP[12:12+nbars]\n",
    "IC_Fm[2]=np.array([S_m[1996],S_m[1997],S_m[1998],S_m[1999],S_m[1948],S_m[1959],S_m[1988]])\n",
    "print(IC_Fm[2])"
   ]
  },
  {
   "cell_type": "code",
   "execution_count": 7,
   "id": "nervous-sponsorship",
   "metadata": {},
   "outputs": [
    {
     "name": "stdout",
     "output_type": "stream",
     "text": [
      "42.254310300924224 0.0 1.4196397548857684\n",
      "[ 0.27415085  0.02557468 -0.04970505 -0.10393403 -0.23395556 -0.23395556\n",
      " -0.23395556]\n"
     ]
    }
   ],
   "source": [
    "file = './Micro-3D_L9x9x17_TORSION_2H_V10x10x20'\n",
    "with open(file, 'rb') as f_obj:\n",
    "    data = pickle.load(f_obj)\n",
    "svarsGP,add_svarsGP,nparticles,nbars,nsvars,niter,nel = data\n",
    "E_m[3]=svarsGP[-3]\n",
    "D_m[3]=svarsGP[-2]\n",
    "U_m[3]=np.amax(add_svarsGP[:,2])\n",
    "print(svarsGP[-3],svarsGP[-2],np.amax(add_svarsGP[:,2]))\n",
    "S_m=svarsGP[12:12+nbars]\n",
    "IC_Fm[3]=np.array([S_m[14620],S_m[14621],S_m[14622],S_m[14623],S_m[14540],S_m[14551],S_m[14612]])\n",
    "print(IC_Fm[3])"
   ]
  },
  {
   "cell_type": "code",
   "execution_count": 8,
   "id": "radical-yukon",
   "metadata": {},
   "outputs": [
    {
     "data": {
      "text/plain": [
       "40427"
      ]
     },
     "execution_count": 8,
     "metadata": {},
     "output_type": "execute_result"
    }
   ],
   "source": [
    "40499-12*6"
   ]
  },
  {
   "cell_type": "code",
   "execution_count": 9,
   "id": "partial-brush",
   "metadata": {},
   "outputs": [
    {
     "name": "stdout",
     "output_type": "stream",
     "text": [
      "[ 0.28851551  0.01594582 -0.04113739 -0.10950425 -0.23395556 -0.23395556\n",
      " -0.23395556]\n"
     ]
    }
   ],
   "source": [
    "file = './Micro-3D_L13x13x25_TORSION_2H_V10x10x20'\n",
    "with open(file, 'rb') as f_obj:\n",
    "    data = pickle.load(f_obj)\n",
    "svarsGP,add_svarsGP,nparticles,nbars,nsvars,niter,nel = data\n",
    "E_m[4]=svarsGP[-3]\n",
    "D_m[4]=svarsGP[-2]\n",
    "U_m[4]=np.amax(add_svarsGP[:,2])\n",
    "S_m=svarsGP[12:12+nbars]\n",
    "IC_Fm[4]=np.array([S_m[47852],S_m[47853],S_m[47854],S_m[47855],S_m[47740],S_m[47751],S_m[47844]])\n",
    "print(IC_Fm[4])"
   ]
  },
  {
   "cell_type": "code",
   "execution_count": 10,
   "id": "friendly-walker",
   "metadata": {},
   "outputs": [
    {
     "name": "stdout",
     "output_type": "stream",
     "text": [
      "[ 0.29414503  0.01082803 -0.03566539 -0.11215882 -0.23395556 -0.23395556\n",
      " -0.23395556]\n"
     ]
    }
   ],
   "source": [
    "file = './Micro-3D_L17x17x33_TORSION_2H_V10x10x20'\n",
    "with open(file, 'rb') as f_obj:\n",
    "    data = pickle.load(f_obj)\n",
    "svarsGP,add_svarsGP,nparticles,nbars,nsvars,niter,nel = data\n",
    "E_m[5]=svarsGP[-3]\n",
    "D_m[5]=svarsGP[-2]\n",
    "U_m[5]=np.amax(add_svarsGP[:,2])\n",
    "svarsGP[-3]\n",
    "S_m=svarsGP[12:12+nbars]\n",
    "IC_Fm[5]=np.array([S_m[111676],S_m[111677],S_m[111678],S_m[111679],S_m[111532],S_m[111543],S_m[111668]])\n",
    "print(IC_Fm[5])"
   ]
  },
  {
   "cell_type": "code",
   "execution_count": 11,
   "id": "christian-platinum",
   "metadata": {},
   "outputs": [],
   "source": [
    "file = './Micro-3D_L21x21x41_TORSION_2H_V10x10x20_1'\n",
    "with open(file, 'rb') as f_obj:\n",
    "    data = pickle.load(f_obj)\n",
    "svarsGP,add_svarsGP,nparticles,nbars,nsvars,niter,nel = data\n",
    "E_m[6]=svarsGP[-3]\n",
    "D_m[6]=svarsGP[-2]\n",
    "U_m[6]=np.amax(add_svarsGP[:,2])\n",
    "svarsGP[-3]\n",
    "S_m=svarsGP[12:12+nbars]\n",
    "# IC_Fm[5]=np.array([S_m[111676],S_m[111677],S_m[111678],S_m[111679],S_m[111532],S_m[111543],S_m[111668]])\n",
    "# print(IC_Fm[5])"
   ]
  },
  {
   "cell_type": "code",
   "execution_count": 12,
   "id": "alert-authentication",
   "metadata": {},
   "outputs": [
    {
     "data": {
      "text/plain": [
       "(1.5135168710318914, 1.5334884457849964)"
      ]
     },
     "execution_count": 12,
     "metadata": {},
     "output_type": "execute_result"
    }
   ],
   "source": [
    "U_m[5],U_m[6]"
   ]
  },
  {
   "cell_type": "code",
   "execution_count": 13,
   "id": "meaning-administrator",
   "metadata": {},
   "outputs": [],
   "source": [
    "# coorM[9536],coorM[9535],coorM[9519],coorM[9518],coorM[9247],coorM[9246],coorM[9230],coorM[9229]"
   ]
  },
  {
   "cell_type": "code",
   "execution_count": 14,
   "id": "underlying-western",
   "metadata": {},
   "outputs": [],
   "source": [
    "coor=np.array([[10., 10., 20.],\n",
    "          [10.   ,  9.375, 20.   ],\n",
    "          [ 9.375, 10.   , 20.   ],\n",
    "          [ 9.375,  9.375, 20.   ],\n",
    "          [10.   , 10.   , 19.375],\n",
    "          [10.   ,  9.375, 19.375],\n",
    "          [ 9.375, 10.   , 19.375],\n",
    "          [ 9.375,  9.375, 19.375]])\n",
    "u=np.array([[-4.38371583,  2.04416026,  1.51351687],\n",
    "            [-3.98197358,  2.19038249,  1.2552332 ],\n",
    "            [-4.23749361,  1.64241801,  1.11118726],\n",
    "            [-3.83575135,  1.78864023,  0.84279598],\n",
    "            [-3.85502574,  2.37068763,  1.32973602],\n",
    "            [-3.43879182,  2.42948883,  1.11462578],\n",
    "            [-3.79622455,  2.00870738,  0.97057984],\n",
    "            [-3.40878524,  2.03871397,  0.75430319]])"
   ]
  },
  {
   "cell_type": "code",
   "execution_count": 15,
   "id": "digital-february",
   "metadata": {},
   "outputs": [],
   "source": [
    "uu=u+coor"
   ]
  },
  {
   "cell_type": "code",
   "execution_count": 16,
   "id": "sexual-dairy",
   "metadata": {},
   "outputs": [
    {
     "data": {
      "image/png": "[encoded data removed]",
      "text/plain": [
       "<Figure size 432x288 with 1 Axes>"
      ]
     },
     "metadata": {
      "needs_background": "light"
     },
     "output_type": "display_data"
    }
   ],
   "source": [
    "from mpl_toolkits.mplot3d import Axes3D\n",
    "fig = plt.figure()\n",
    "ax = fig.gca(projection='3d')\n",
    "# for i in range(coor.shape[0]):\n",
    "# #     p1 = coor[cons[0]]; p2 = coor[cons[1]]\n",
    "# #     color=colors[group[i]]\n",
    "# #     ax.scatter(coor[i],linewidth=1, marker='o',markersize=5)\n",
    "ax.scatter(coor[:,0], coor[:,1], coor[:,2], c='b', marker='o')\n",
    "ax.scatter(uu[0,0], uu[0,1], uu[0,2], c='red', marker='o')\n",
    "ax.scatter(uu[1,0], uu[1,1], uu[1,2], c='blue', marker='o')\n",
    "ax.scatter(uu[2,0], uu[2,1], uu[2,2], c='darkblue', marker='o')\n",
    "ax.scatter(uu[3,0], uu[3,1], uu[3,2], c='black', marker='o')\n",
    "ax.scatter(uu[4,0], uu[4,1], uu[4,2], c='red', marker='x')\n",
    "ax.scatter(uu[5,0], uu[5,1], uu[5,2], c='blue', marker='x')\n",
    "ax.scatter(uu[6,0], uu[6,1], uu[6,2], c='darkblue', marker='x')\n",
    "ax.scatter(uu[7,0], uu[7,1], uu[7,2], c='black', marker='x')\n",
    "\n",
    "# ax.scatter(uu[-4:,0], uu[-4:,1], uu[-4:,2], c='b', marker='o')\n",
    "\n",
    "ax.set_zlabel(\"z\")\n",
    "ax.set_xlabel(\"x\")\n",
    "ax.set_ylabel(\"y\")\n",
    "plt.show()"
   ]
  },
  {
   "cell_type": "code",
   "execution_count": 17,
   "id": "beautiful-ukraine",
   "metadata": {},
   "outputs": [
    {
     "data": {
      "text/plain": [
       "8"
      ]
     },
     "execution_count": 17,
     "metadata": {},
     "output_type": "execute_result"
    }
   ],
   "source": [
    "coor.shape[0]"
   ]
  },
  {
   "cell_type": "code",
   "execution_count": null,
   "id": "recreational-effort",
   "metadata": {},
   "outputs": [],
   "source": []
  },
  {
   "cell_type": "code",
   "execution_count": 18,
   "id": "jewish-martin",
   "metadata": {},
   "outputs": [],
   "source": [
    "# file = './Micro-3D_L21x21x41_TORSION'\n",
    "# with open(file, 'rb') as f_obj:\n",
    "#     data = pickle.load(f_obj)\n",
    "# svarsGP,add_svarsGP,nparticles,nbars,nsvars,niter,nel = data\n",
    "# E_m[6]=100*svarsGP[-3]\n",
    "# D_m[6]=svarsGP[-2]\n",
    "# U_m[6]=np.amax(add_svarsGP[:,2])"
   ]
  },
  {
   "cell_type": "code",
   "execution_count": 19,
   "id": "blind-throw",
   "metadata": {},
   "outputs": [
    {
     "data": {
      "text/plain": [
       "(array([113.66458248,  69.65269345,  49.69981054,  42.2543103 ,\n",
       "         40.43552014,  39.70327002,  39.33226498]),\n",
       " array([0.918462  , 1.07046951, 1.26863152, 1.41963975, 1.48063799,\n",
       "        1.51351687, 1.53348845]),\n",
       " array([0.        , 0.        , 0.        , 0.        , 0.00441372,\n",
       "        0.00508899, 0.00443843]))"
      ]
     },
     "execution_count": 19,
     "metadata": {},
     "output_type": "execute_result"
    }
   ],
   "source": [
    "# e = np.array([1/1,1/2,1/4,1/8,1/12,1/16,1/20,1/24,1/28])\n",
    "e = np.array([1/1,1/2,1/4,1/8,1/12,1/16,1/20])\n",
    "# E_m = 100*E_m\n",
    "E_m,U_m,D_m"
   ]
  },
  {
   "cell_type": "code",
   "execution_count": 20,
   "id": "capital-printer",
   "metadata": {},
   "outputs": [
    {
     "data": {
      "text/plain": [
       "array([0.15200752, 0.19816201, 0.15100823, 0.06099823, 0.03287888,\n",
       "       0.01997157])"
      ]
     },
     "execution_count": 20,
     "metadata": {},
     "output_type": "execute_result"
    }
   ],
   "source": [
    "DU_m = np.array([U_m[i+1]-U_m[i] for i in range(U_m.shape[0]-1)])\n",
    "DU_m"
   ]
  },
  {
   "cell_type": "code",
   "execution_count": 21,
   "id": "paperback-recycling",
   "metadata": {},
   "outputs": [],
   "source": [
    "# U_m[-3]=U_m[-4]+0.03285709/2\n",
    "# U_m[-2]=U_m[-3]+0.03285709/4\n",
    "# U_m[-1]=U_m[-2]+0.03285709/8"
   ]
  },
  {
   "cell_type": "code",
   "execution_count": 22,
   "id": "checked-terry",
   "metadata": {},
   "outputs": [],
   "source": [
    "# file = './Macro-3D_L15x15x15_TORSION_H2_V1'\n",
    "# with open(file, 'rb') as f_obj:\n",
    "#     data = pickle.load(f_obj)\n",
    "# usol,stress,svars,ISV,IC = data\n",
    "# energy= svars[:,-3]\n",
    "# dissipation= svars[:,6+6+22+1:6+6+22+2]\n",
    "# usol=np.reshape(usol,(-1,3))\n",
    "# U0=np.amax(usol[:,2])\n",
    "# E0=np.sum(energy)\n",
    "# D0=np.sum(dissipation)\n",
    "# N=15*15*15\n",
    "# V=1*1*1\n",
    "# # print(np.mean(IC[-6:],axis=0)[-8:]) #(take -2): -0.93940901\n",
    "# IC_u = IC[:,-24:]\n",
    "# IC_f = IC[:,:-24]\n",
    "# IC_u = IC_u.reshape(IC_u.shape[0],IC_u.shape[1]//3,3)\n",
    "# # IC[-6:,-4:] #(take -2): -0.90854154\n",
    "# U1=np.mean(1+IC_u[IC_u.shape[0]-15*14*6,2])\n",
    "# E0=E0*V/(N*6)\n",
    "# U0,E0*4"
   ]
  },
  {
   "cell_type": "code",
   "execution_count": null,
   "id": "classified-france",
   "metadata": {},
   "outputs": [],
   "source": []
  },
  {
   "cell_type": "code",
   "execution_count": 23,
   "id": "built-stability",
   "metadata": {},
   "outputs": [],
   "source": [
    "# file = './Micro-3D_L9x9x9_TORSION_2H_V1x1x1'\n",
    "# with open(file, 'rb') as f_obj:\n",
    "#     data = pickle.load(f_obj)\n",
    "# svarsGP,add_svarsGP,nparticles,nbars,nsvars,niter,nel = data\n",
    "# print(svarsGP[-3],svarsGP[-2],np.amax(add_svarsGP[:,2]))\n",
    "# # U_m[0,1]=np.amax(add_svarsGP[:,1])"
   ]
  },
  {
   "cell_type": "code",
   "execution_count": 24,
   "id": "revised-engineering",
   "metadata": {},
   "outputs": [],
   "source": [
    "# file = './Macro-3D_L15x15x30_T_V10x10x20'\n",
    "# with open(file, 'rb') as f_obj:\n",
    "#     data = pickle.load(f_obj)\n",
    "# usol,stress,svars,ISV,IC = data\n",
    "# energy= svars[:,-3]\n",
    "# dissipation= svars[:,6+6+22+1:6+6+22+2]\n",
    "# usol=np.reshape(usol,(-1,3))\n",
    "# U0=np.amax(usol[:,2])\n",
    "# E0=np.sum(energy)\n",
    "# D0=np.sum(dissipation)\n",
    "# N=15*15*30\n",
    "# V=10*10*20\n",
    "# # print(np.mean(IC[-6:],axis=0)[-8:]) #(take -2): -0.93940901\n",
    "# IC_u = IC[:,-24:]\n",
    "# IC_f = IC[:,:-24]\n",
    "# IC_u = IC_u.reshape(IC_u.shape[0],IC_u.shape[1]//3,3)\n",
    "# # IC[-6:,-4:] #(take -2): -0.90854154\n",
    "# U1=np.mean(1+IC_u[IC_u.shape[0]-15*14*6,2])\n",
    "# E0=E0*V/(N*6)\n",
    "# U0,E0"
   ]
  },
  {
   "cell_type": "code",
   "execution_count": 43,
   "id": "neutral-definition",
   "metadata": {},
   "outputs": [
    {
     "data": {
      "text/plain": [
       "(1.5311880261722028, 40.3457001346984)"
      ]
     },
     "execution_count": 43,
     "metadata": {},
     "output_type": "execute_result"
    }
   ],
   "source": [
    "file = './Macro-3D_L20x20x40_T_V10x10x20'\n",
    "with open(file, 'rb') as f_obj:\n",
    "    data = pickle.load(f_obj)\n",
    "usol,stress,svars,ISV,IC = data\n",
    "energy= svars[:,-3]\n",
    "dissipation= svars[:,6+6+22+1:6+6+22+2]\n",
    "usol=np.reshape(usol,(-1,3))\n",
    "U0=np.amax(usol[:,2])\n",
    "E0=np.sum(energy)\n",
    "D0=np.sum(dissipation)\n",
    "N=20*20*40\n",
    "V=10*10*20\n",
    "# print(np.mean(IC[-6:],axis=0)[-8:]) #(take -2): -0.93940901\n",
    "IC_u = IC[:,-24:]\n",
    "IC_f = IC[:,:-24]\n",
    "IC_u = IC_u.reshape(IC_u.shape[0],IC_u.shape[1]//3,3)\n",
    "# IC[-6:,-4:] #(take -2): -0.90854154\n",
    "U1=np.mean(IC_u[IC_u.shape[0]-20*19*6,2])\n",
    "E0=E0*V/(N*6)\n",
    "U0,E0"
   ]
  },
  {
   "cell_type": "code",
   "execution_count": 44,
   "id": "miniature-entrance",
   "metadata": {},
   "outputs": [
    {
     "data": {
      "text/plain": [
       "(array([ 0.16755015,  0.05695607,  0.11685238,  0.05246387, -0.1130019 ,\n",
       "        -0.08637159, -0.11655083]),\n",
       " array([ 0.28851551,  0.01594582, -0.04113739, -0.10950425, -0.23395556,\n",
       "        -0.23395556, -0.23395556]))"
      ]
     },
     "execution_count": 44,
     "metadata": {},
     "output_type": "execute_result"
    }
   ],
   "source": [
    "IC_FM[-1],IC_Fm[-3]"
   ]
  },
  {
   "cell_type": "code",
   "execution_count": 45,
   "id": "short-lodging",
   "metadata": {},
   "outputs": [],
   "source": [
    "n = IC_u.shape[0]-20*19*6\n",
    "IC_F=np.array([IC_f[n,24],IC_f[n,25],IC_f[n,26],IC_f[n,27],IC_f[n,8],IC_f[n,13],IC_f[n,18]])"
   ]
  },
  {
   "cell_type": "code",
   "execution_count": 46,
   "id": "sized-acting",
   "metadata": {},
   "outputs": [
    {
     "data": {
      "text/plain": [
       "(40.3457001346984,\n",
       " array([113.66458248,  69.65269345,  49.69981054,  42.2543103 ,\n",
       "         40.43552014,  39.70327002,  39.33226498]))"
      ]
     },
     "execution_count": 46,
     "metadata": {},
     "output_type": "execute_result"
    }
   ],
   "source": [
    "E0,E_m"
   ]
  },
  {
   "cell_type": "code",
   "execution_count": 47,
   "id": "following-sucking",
   "metadata": {},
   "outputs": [],
   "source": [
    "U_M = U0*np.ones((U_m.shape[0]))+e*U1\n",
    "U_0 = np.ones((U_m.shape[0]))*U0\n",
    "E_M = np.ones((U_m.shape[0]))*E0\n",
    "IC_FM= np.ones((IC_Fm.shape[0],IC_Fm.shape[1]))*IC_F"
   ]
  },
  {
   "cell_type": "code",
   "execution_count": 48,
   "id": "ethical-religion",
   "metadata": {},
   "outputs": [],
   "source": [
    "DU_m = np.array([U_m[i+1]-U_m[i] for i in range(U_m.shape[0]-1)])\n",
    "DE_m = np.array([E_m[i+1]-E_m[i] for i in range(U_m.shape[0]-1)])\n",
    "# E_m[-3]=E_m[-4]+(-0.00732301)/2\n",
    "# E_m[-2]=E_m[-3]+(-0.00732301)/4\n",
    "# E_m[-1]=E_m[-2]+(-0.00732301)/8"
   ]
  },
  {
   "cell_type": "code",
   "execution_count": 49,
   "id": "macro-uncle",
   "metadata": {},
   "outputs": [],
   "source": [
    "# U_m_e = np.zeros(9)\n",
    "# E_m_e = np.zeros(9)\n",
    "# U_m_e[:-3]=U_m\n",
    "# E_m_e[:-3]=E_m\n",
    "# U_m_e[-3]=U_m_e[-4]+0.03285709/2\n",
    "# U_m_e[-2]=U_m_e[-3]+0.03285709/4\n",
    "# U_m_e[-1]=U_m_e[-2]+0.03285709/8\n",
    "\n",
    "# E_m_e[-3]=E_m_e[-4]+(-0.00732301)/2\n",
    "# E_m_e[-2]=E_m_e[-3]+(-0.00732301)/4\n",
    "# E_m_e[-1]=E_m_e[-2]+(-0.00732301)/8\n",
    "\n",
    "# e_e = np.array([1/1,1/2,1/4,1/8,1/12,1/16,1/20,1/24,1/28])"
   ]
  },
  {
   "cell_type": "code",
   "execution_count": 50,
   "id": "front-durham",
   "metadata": {},
   "outputs": [],
   "source": [
    "# U_M_e = U0*np.ones((U_m_e.shape[0]))+e_e*U1\n",
    "# U_0_e = np.ones((U_m_e.shape[0]))*U0\n",
    "# E_0_e = np.ones((U_m_e.shape[0]))*E0"
   ]
  },
  {
   "cell_type": "code",
   "execution_count": 51,
   "id": "amazing-composition",
   "metadata": {},
   "outputs": [],
   "source": [
    "import matplotlib.pyplot as plt\n",
    "from matplotlib.ticker import (MultipleLocator, FormatStrFormatter, AutoMinorLocator)\n",
    "import matplotlib as mpl\n",
    "mpl.rcParams['axes.unicode_minus']=False\n",
    "plt.rcParams[\"figure.figsize\"] = (4,3)\n",
    "import matplotlib.pyplot as plt\n",
    "# # plt.rcParams[\"font.family\"] = \"Times New Roman\"\n",
    "font = {'size'   : 13}\n",
    "from matplotlib import rc\n",
    "plt.rc('font', **font)\n",
    "ftsz_leg = 9\n",
    "ftsz = 12\n",
    "mkSZ = 4\n",
    "mkSZs = 0\n",
    "lnWDT = .5\n",
    "lnWDTs = 6\n",
    "from matplotlib import rc\n",
    "rc('font',**{'family':'sans-serif','sans-serif':['Times New Roman']})\n",
    "## for Palatino and other serif fonts use:\n",
    "#rc('font',**{'family':'serif','serif':['Palatino']})\n",
    "rc('text', usetex=True)\n",
    "\n",
    "import numpy as np\n",
    "import matplotlib.pyplot as plt"
   ]
  },
  {
   "cell_type": "code",
   "execution_count": 54,
   "id": "spanish-contrary",
   "metadata": {},
   "outputs": [
    {
     "data": {
      "image/png": "[encoded data removed]",
      "text/plain": [
       "<Figure size 288x151.2 with 1 Axes>"
      ]
     },
     "metadata": {
      "needs_background": "light"
     },
     "output_type": "display_data"
    },
    {
     "data": {
      "image/png": "[encoded data removed]",
      "text/plain": [
       "<Figure size 288x151.2 with 1 Axes>"
      ]
     },
     "metadata": {
      "needs_background": "light"
     },
     "output_type": "display_data"
    }
   ],
   "source": [
    "cE = 8.96; cD = 9.0; A = np.pi*(1e-2)**2; cP=1000\n",
    "plt.rc('text', usetex=True)\n",
    "plt.rc('font', family='serif')\n",
    "fig = plt.figure(figsize=(4,2.1))\n",
    "# (ax11), (ax12) = fig.subplots(1,2)\n",
    "(ax11) = fig.subplots(1,1)\n",
    "plt.tight_layout(pad=2.5, w_pad=3.5, h_pad=3.5)\n",
    "ax11.margins(x=0.1, y = 0.2)\n",
    "ax11.xaxis.set_minor_locator(AutoMinorLocator())\n",
    "ax11.yaxis.set_minor_locator(AutoMinorLocator())\n",
    "ax11.plot(1/e,E_m*cE*A, color='darkorange', marker=\"s\",markersize=mkSZ,linewidth=lnWDT,label=\"$\\mathit{\\Psi}^{\\epsilon}_{tot}$\")\n",
    "\n",
    "ax11.plot(1/e,E_M*cE*A, color='black', linestyle='--', marker=\"^\",markersize=0*mkSZ,linewidth=lnWDT,label=\"$\\mathit{\\Psi}_{tot}$\")\n",
    "\n",
    "ax11.set_xlabel('$1/\\epsilon$')\n",
    "ax11.set_ylabel('$\\mathit{\\Psi}$ (kNm)')\n",
    "# ax11.ticklabel_format(axis=\"x\", style=\"sci\", scilimits=(3,3))\n",
    "# ax11.ticklabel_format(axis=\"y\", style=\"sci\", scilimits=(0,0))\n",
    "ax11.legend(loc='best',fontsize=ftsz_leg)\n",
    "ax11.grid(True, which='major', linewidth=0.3, color='lightgray')\n",
    "ax11.grid(True, which='minor', linewidth=0.3, alpha=0.2, color='lightgray')\n",
    "# ax11.set_ylim([0.28,0.29])\n",
    "fig.savefig(f\"UNI_EL_ene.pdf\", format=\"pdf\", transparent=True)\n",
    "\n",
    "plt.rc('text', usetex=True)\n",
    "plt.rc('font', family='serif')\n",
    "fig = plt.figure(figsize=(4,2.1))\n",
    "# (ax11), (ax12) = fig.subplots(1,2)\n",
    "(ax11) = fig.subplots(1,1)\n",
    "plt.tight_layout(pad=2.5, w_pad=3.5, h_pad=3.5)\n",
    "ax11.margins(x=0.1, y = 0.2)\n",
    "ax11.xaxis.set_minor_locator(AutoMinorLocator())\n",
    "ax11.yaxis.set_minor_locator(AutoMinorLocator())\n",
    "ax11.plot(1/e,U_0, color='black', alpha=0.15, marker=\"s\",linestyle='-',markersize=mkSZ*0,linewidth=8*lnWDT,label=\"$u^{(0)}$\")\n",
    "ax11.plot(1/e,U_m, color='mediumblue', marker=\"s\",markersize=mkSZ,linewidth=lnWDT,label=\"$u^{\\epsilon}$\")\n",
    "ax11.plot(1/e,U_M, color='black', alpha=1, linestyle='--',marker=\"^\",markersize=mkSZ,linewidth=lnWDT,label=\"$u^{(0)}+\\epsilon u^{(1)}$\")\n",
    "# # ax12.plot(1/e,Ue, color='red', alpha=1,marker=\"o\",markersize=mkSZ,linewidth=lnWDT,label=\"$u^{\\epsilon}$\")\n",
    "ax11.set_xlabel('$1/\\epsilon$')\n",
    "ax11.set_ylabel('$u$ (cm)')\n",
    "# ax12.ticklabel_format(axis=\"x\", style=\"sci\", scilimits=(3,3))\n",
    "# ax12.ticklabel_format(axis=\"y\", style=\"sci\", scilimits=(0,0))\n",
    "ax11.legend(loc='best',fontsize=ftsz_leg)\n",
    "ax11.grid(True, which='major', linewidth=0.3, color='lightgray')\n",
    "ax11.grid(True, which='minor', linewidth=0.3, alpha=0.2, color='lightgray')\n",
    "# ax11.set_ylim([0.8,])\n",
    "\n",
    "fig.savefig(f\"UNI_EL_dis.pdf\", format=\"pdf\", transparent=True)\n",
    "\n",
    "# plt.rc('text', usetex=True)\n",
    "# plt.rc('font', family='serif')\n",
    "# fig = plt.figure(figsize=(4,2.1))\n",
    "# # (ax11), (ax12) = fig.subplots(1,2)\n",
    "# (ax11) = fig.subplots(1,1)\n",
    "# plt.tight_layout(pad=2.5, w_pad=3.5, h_pad=3.5)\n",
    "# ax11.margins(x=0.1, y = 1)\n",
    "# ax11.xaxis.set_minor_locator(AutoMinorLocator())\n",
    "# ax11.yaxis.set_minor_locator(AutoMinorLocator())\n",
    "# ax11.plot(1/e,D_m*cE*A, color='red', marker=\"s\",markersize=mkSZ,linewidth=lnWDT,label=\"$D^{\\epsilon}_{tot}$\")\n",
    "# ax11.plot(1/e_M,D_M*cE*A-0.0005, color='black', marker=\"s\",markersize=0*mkSZ,linewidth=3*lnWDT,label=\"$D^{(1)}_{tot}$\")\n",
    "# # # ax12.plot(1/e,Ue, color='red', alpha=1,marker=\"o\",markersize=mkSZ,linewidth=lnWDT,label=\"$u^{\\epsilon}$\")\n",
    "# ax11.set_ylim([0.135,0.15])\n",
    "# ax11.set_xlabel('$1/\\epsilon$')\n",
    "# ax11.set_ylabel('$D$ (kNm/s)')\n",
    "# # ax12.ticklabel_format(axis=\"x\", style=\"sci\", scilimits=(3,3))\n",
    "# # ax12.ticklabel_format(axis=\"y\", style=\"sci\", scilimits=(0,0))\n",
    "# ax11.legend(loc='best',fontsize=ftsz_leg)\n",
    "# ax11.grid(True, which='major', linewidth=0.3, color='lightgray')\n",
    "# ax11.grid(True, which='minor', linewidth=0.3, alpha=0.2, color='lightgray')\n",
    "\n",
    "\n",
    "# fig.savefig(f\"COMP_PL_dt.pdf\", format=\"pdf\", transparent=True)"
   ]
  },
  {
   "cell_type": "code",
   "execution_count": 60,
   "id": "three-alias",
   "metadata": {},
   "outputs": [
    {
     "data": {
      "text/plain": [
       "(array([-4.13942834e+01, -3.09012616e+01, -1.76313915e+01, -7.55676371e+00,\n",
       "        -3.49045011e+00, -1.29911860e+00,  3.26421675e-02]),\n",
       " array([181.72663284,  72.63969448,  23.18490044,   4.73064084,\n",
       "          0.22262598,  -1.59231372,  -2.51187897]))"
      ]
     },
     "execution_count": 60,
     "metadata": {},
     "output_type": "execute_result"
    }
   ],
   "source": [
    "100*(U_m/U_M-1),100*(E_m*cE*A/(E_M*cE*A)-1)"
   ]
  },
  {
   "cell_type": "code",
   "execution_count": 42,
   "id": "biblical-there",
   "metadata": {},
   "outputs": [
    {
     "data": {
      "image/png": "[encoded data removed]",
      "text/plain": [
       "<Figure size 1152x144 with 4 Axes>"
      ]
     },
     "metadata": {
      "needs_background": "light"
     },
     "output_type": "display_data"
    }
   ],
   "source": [
    "plt.rc('text', usetex=True)\n",
    "plt.rc('font', family='serif')\n",
    "fig = plt.figure(figsize=(4*4,2.))\n",
    "(ax11), (ax12) , (ax13), (ax14) = fig.subplots(1,4)\n",
    "# (ax11) = fig.subplots(1,1)\n",
    "plt.tight_layout(pad=2.5, w_pad=3.5, h_pad=3.5)\n",
    "ax11.margins(x=0.1, y = 0.1)\n",
    "ax11.xaxis.set_minor_locator(AutoMinorLocator())\n",
    "ax11.yaxis.set_minor_locator(AutoMinorLocator())\n",
    "\n",
    "ax11.plot(1/e,IC_Fm[:,-1]*cP, color='red', marker=\"o\",markersize=mkSZ,linewidth=lnWDT,label=\"micro\")\n",
    "ax11.plot(1/e,IC_FM[:,-1]*cP, color='mediumblue', marker=\"o\",markersize=mkSZ,linewidth=lnWDT,label=\"TANN\")\n",
    "\n",
    "ax11.set_xlabel('$1/\\epsilon$')\n",
    "ax11.set_ylabel('$\\sigma$ (MPa)')\n",
    "ax11.legend(loc='best',fontsize=ftsz_leg)\n",
    "ax11.grid(True, which='major', linewidth=0.3, color='lightgray')\n",
    "ax11.grid(True, which='minor', linewidth=0.3, alpha=0.2, color='lightgray')\n",
    "\n",
    "ax12.margins(x=0.1, y = 0.1)\n",
    "ax12.xaxis.set_minor_locator(AutoMinorLocator())\n",
    "ax12.yaxis.set_minor_locator(AutoMinorLocator())\n",
    "\n",
    "# ax12.plot(1/e,IC_Fm[:,1], color='red', marker=\"o\",markersize=mkSZ,linewidth=lnWDT,label=\"$\\mathit{\\Psi}^{\\epsilon}$\")\n",
    "# ax12.plot(1/e_M,IC_FM[:,1], color='mediumblue', marker=\"o\",markersize=mkSZ,linewidth=lnWDT,label=\"$\\mathit{\\Psi}^{(1)}$\")\n",
    "ax12.plot(1/e,IC_Fm[:,2]*cP, color='red', marker=\"o\",markersize=mkSZ,linewidth=lnWDT,label=\"micro\")\n",
    "ax12.plot(1/e,IC_FM[:,2]*cP, color='mediumblue', marker=\"o\",markersize=mkSZ,linewidth=lnWDT,label=\"TANN\")\n",
    "\n",
    "ax12.set_xlabel('$1/\\epsilon$')\n",
    "ax12.set_ylabel('$\\sigma$ (MPa)')\n",
    "ax12.legend(loc='best',fontsize=ftsz_leg)\n",
    "ax12.grid(True, which='major', linewidth=0.3, color='lightgray')\n",
    "ax12.grid(True, which='minor', linewidth=0.3, alpha=0.2, color='lightgray')\n",
    "\n",
    "ax13.margins(x=0.1, y = 0.1)\n",
    "ax13.xaxis.set_minor_locator(AutoMinorLocator())\n",
    "ax13.yaxis.set_minor_locator(AutoMinorLocator())\n",
    "\n",
    "ax13.plot(1/e,IC_Fm[:,-4]*cP, color='red', marker=\"o\",markersize=mkSZ,linewidth=lnWDT,label=\"micro\")\n",
    "ax13.plot(1/e,IC_FM[:,-4]*cP, color='mediumblue', marker=\"o\",markersize=mkSZ,linewidth=lnWDT,label=\"TANN\")\n",
    "\n",
    "ax13.set_xlabel('$1/\\epsilon$')\n",
    "ax13.set_ylabel('$\\sigma$ (MPa)')\n",
    "ax13.legend(loc='best',fontsize=ftsz_leg)\n",
    "ax13.grid(True, which='major', linewidth=0.3, color='lightgray')\n",
    "ax13.grid(True, which='minor', linewidth=0.3, alpha=0.2, color='lightgray')\n",
    "\n",
    "ax14.margins(x=0.1, y = 0.1)\n",
    "ax14.xaxis.set_minor_locator(AutoMinorLocator())\n",
    "ax14.yaxis.set_minor_locator(AutoMinorLocator())\n",
    "ax14.plot(1/e,IC_Fm[:,0]*cP, color='red', marker=\"o\",markersize=mkSZ,linewidth=lnWDT,label=\"micro\")\n",
    "ax14.plot(1/e,IC_FM[:,0]*cP, color='mediumblue', marker=\"o\",markersize=mkSZ,linewidth=lnWDT,label=\"TANN\")\n",
    "\n",
    "ax14.set_xlabel('$1/\\epsilon$')\n",
    "ax14.set_ylabel('$\\sigma$ (MPa)')\n",
    "ax14.legend(loc='best',fontsize=ftsz_leg)\n",
    "ax14.grid(True, which='major', linewidth=0.3, color='lightgray')\n",
    "ax14.grid(True, which='minor', linewidth=0.3, alpha=0.2, color='lightgray')\n",
    "# ax14.set_ylim([-365,-375])\n",
    "\n",
    "# fig.savefig(f\"TORS_PL_stress.pdf\", format=\"pdf\", transparent=True)"
   ]
  },
  {
   "cell_type": "code",
   "execution_count": 58,
   "id": "understanding-terrorism",
   "metadata": {},
   "outputs": [
    {
     "data": {
      "text/plain": [
       "(array([ 0.16755015,  0.05695607,  0.11685238,  0.05246387, -0.1130019 ,\n",
       "        -0.08637159, -0.11655083]),\n",
       " array([0., 0., 0., 0., 0., 0., 0.]))"
      ]
     },
     "execution_count": 58,
     "metadata": {},
     "output_type": "execute_result"
    }
   ],
   "source": [
    "IC_FM[-1],IC_Fm[-1]"
   ]
  },
  {
   "cell_type": "code",
   "execution_count": null,
   "id": "assured-disposal",
   "metadata": {},
   "outputs": [],
   "source": [
    "40499-13*6"
   ]
  },
  {
   "cell_type": "code",
   "execution_count": null,
   "id": "respected-theater",
   "metadata": {},
   "outputs": [],
   "source": [
    "print(M_IC_f[8],m_IC_f161631[8])\n",
    "print(M_IC_f[13],m_IC_f161631[13])\n",
    "print(M_IC_f[18],m_IC_f161631[18])\n",
    "print(M_IC_f[-4],m_IC_f161631[-4])\n",
    "print(M_IC_f[-3],m_IC_f161631[-3])\n",
    "print(M_IC_f[-2],m_IC_f161631[-2])\n",
    "print(M_IC_f[-1],m_IC_f161631[-1])"
   ]
  },
  {
   "cell_type": "code",
   "execution_count": null,
   "id": "micro-constraint",
   "metadata": {},
   "outputs": [],
   "source": [
    "print(M_IC_f[8],m_IC_f111121[8])\n",
    "print(M_IC_f[13],m_IC_f111121[13])\n",
    "print(M_IC_f[18],m_IC_f111121[18])\n",
    "print(M_IC_f[-4],m_IC_f111121[-4])\n",
    "print(M_IC_f[-3],m_IC_f111121[-3])\n",
    "print(M_IC_f[-2],m_IC_f111121[-2])\n",
    "print(M_IC_f[-1],m_IC_f111121[-1])"
   ]
  },
  {
   "cell_type": "code",
   "execution_count": null,
   "id": "comparable-carnival",
   "metadata": {},
   "outputs": [],
   "source": [
    "print(M_IC_f[8],m_IC_f212141[8])\n",
    "print(M_IC_f[13],m_IC_f212141[13])\n",
    "print(M_IC_f[18],m_IC_f212141[18])\n",
    "print(M_IC_f[-4],m_IC_f212141[-4])\n",
    "print(M_IC_f[-3],m_IC_f212141[-3])\n",
    "print(M_IC_f[-2],m_IC_f212141[-2])\n",
    "print(M_IC_f[-1],m_IC_f212141[-1])"
   ]
  },
  {
   "cell_type": "code",
   "execution_count": null,
   "id": "typical-cathedral",
   "metadata": {},
   "outputs": [],
   "source": [
    "plt.rc('text', usetex=True)\n",
    "plt.rc('font', family='serif')\n",
    "fig = plt.figure(figsize=(3.5*1.5,2.75*1.5))\n",
    "# (ax11), (ax12) = fig.subplots(1,2)\n",
    "(ax11) = fig.subplots(1,1)\n",
    "plt.tight_layout(pad=2.5, w_pad=3.5, h_pad=3.5)\n",
    "ax11.margins(x=0.1, y = 0.1)\n",
    "ax11.xaxis.set_minor_locator(AutoMinorLocator())\n",
    "ax11.yaxis.set_minor_locator(AutoMinorLocator())\n",
    "n=-2\n",
    "ax11.plot(M_IC_f[n], color='black', marker=\"o\",markersize=mkSZ,linewidth=lnWDT)\n",
    "ax11.plot(m_IC_f212141[n], color='red', alpha=1,marker=\"o\",markersize=mkSZ,linewidth=lnWDT,label=\"$u^{(0)}$\")\n",
    "ax11.plot(m_IC_f161631[n], color='red', alpha=0.6,marker=\"o\",markersize=mkSZ,linewidth=lnWDT,label=\"$u^{(0)}$\")\n",
    "ax11.plot(m_IC_f111121[n], color='red', alpha=0.4,marker=\"o\",markersize=mkSZ,linewidth=lnWDT,label=\"$u^{(0)}$\")\n",
    "ax11.plot(m_IC_f6611[n], color='red', alpha=0.3,marker=\"o\",markersize=mkSZ,linewidth=lnWDT,label=\"$u^{(0)}$\")\n",
    "ax11.plot(m_IC_f335[n], color='red', alpha=0.15,marker=\"o\",markersize=mkSZ,linewidth=lnWDT,label=\"$u^{(0)}$\")\n",
    "\n",
    "# ax11.plot(IC_f6611[-28:], color='black', alpha=0.2,marker=\"o\",markersize=mkSZ,linewidth=lnWDT,label=\"$u^{(0)}$\")\n",
    "\n",
    "# ax11.plot(1/e,Ue, color='black', alpha=0.6,marker=\"o\",markersize=mkSZ,linewidth=lnWDT,label=\"$u^{\\epsilon}$\")\n",
    "\n",
    "ax11.set_xlabel('$1/\\epsilon$')\n",
    "ax11.set_ylabel('$(u^{\\epsilon}-u^{(0)}-\\epsilon u^{(1)})$ (-)')\n",
    "ax11.ticklabel_format(axis=\"x\", style=\"sci\", scilimits=(3,3))\n",
    "# ax11.ticklabel_format(axis=\"y\", style=\"sci\", scilimits=(0,0))\n",
    "# ax11.legend(loc='best',fontsize=ftsz_leg)\n",
    "ax11.grid(True, which='major', linewidth=0.3, color='lightgray')\n",
    "ax11.grid(True, which='minor', linewidth=0.3, alpha=0.2, color='lightgray')\n",
    "\n",
    "\n",
    "# ax12.margins(x=0.1, y = 0.1)\n",
    "# ax12.xaxis.set_minor_locator(AutoMinorLocator())\n",
    "# ax12.yaxis.set_minor_locator(AutoMinorLocator())\n",
    "# ax12.plot(1/e,DU/Ue, color='black', marker=\"o\",markersize=mkSZ,linewidth=lnWDT)\n",
    "# # ax11.plot(1/e,U0, color='black', alpha=0.2,marker=\"o\",markersize=mkSZ,linewidth=lnWDT,label=\"$u^{(0)}$\")\n",
    "# # ax11.plot(1/e,Ue, color='black', alpha=0.6,marker=\"o\",markersize=mkSZ,linewidth=lnWDT,label=\"$u^{\\epsilon}$\")\n",
    "\n",
    "# ax12.set_xlabel('$1/\\epsilon$')\n",
    "# ax12.set_ylabel('$(u^{\\epsilon}-u^{(0)}-\\epsilon u^{(1)})/u^{\\epsilon}$ (-)')\n",
    "# ax12.ticklabel_format(axis=\"x\", style=\"sci\", scilimits=(3,3))\n",
    "# # ax11.ticklabel_format(axis=\"y\", style=\"sci\", scilimits=(0,0))\n",
    "# # ax11.legend(loc='best',fontsize=ftsz_leg)\n",
    "# ax12.grid(True, which='major', linewidth=0.3, color='lightgray')\n",
    "# ax12.grid(True, which='minor', linewidth=0.3, alpha=0.2, color='lightgray')\n",
    "\n",
    "# fig.savefig(f\"convergence.pdf\", format=\"pdf\", transparent=True)"
   ]
  },
  {
   "cell_type": "code",
   "execution_count": null,
   "id": "suspended-congress",
   "metadata": {},
   "outputs": [],
   "source": []
  },
  {
   "cell_type": "code",
   "execution_count": null,
   "id": "physical-committee",
   "metadata": {},
   "outputs": [],
   "source": [
    "plt.rcParams[\"figure.figsize\"] = (5,5)\n",
    "fig = plt.figure(figsize=(4.5,4))\n",
    "plt.tight_layout(pad=2.8, w_pad=3.5, h_pad=3.5)\n",
    "plt.loglog(N,U/np.amax(U),color='black', alpha=1, marker='o', linestyle='-',linewidth=1.5, markersize=8)\n",
    "# plt.loglog(N,U/np.amax(U),color='black', alpha=1, marker='o', linestyle='-',linewidth=1.5, markersize=8)\n",
    "\n",
    "plt.ylabel('$u$ (m)',fontsize=12)\n",
    "plt.xlabel('$N_e$ (-)',fontsize=12)\n",
    "plt.show()\n"
   ]
  },
  {
   "cell_type": "code",
   "execution_count": null,
   "id": "specified-interpretation",
   "metadata": {},
   "outputs": [],
   "source": []
  },
  {
   "cell_type": "code",
   "execution_count": null,
   "id": "helpful-modern",
   "metadata": {},
   "outputs": [],
   "source": [
    "100*DU"
   ]
  },
  {
   "cell_type": "code",
   "execution_count": null,
   "id": "available-marketing",
   "metadata": {},
   "outputs": [],
   "source": []
  }
 ],
 "metadata": {
  "kernelspec": {
   "display_name": "Python 3",
   "language": "python",
   "name": "python3"
  },
  "language_info": {
   "codemirror_mode": {
    "name": "ipython",
    "version": 3
   },
   "file_extension": ".py",
   "mimetype": "text/x-python",
   "name": "python",
   "nbconvert_exporter": "python",
   "pygments_lexer": "ipython3",
   "version": "3.8.5"
  }
 },
 "nbformat": 4,
 "nbformat_minor": 5
}
